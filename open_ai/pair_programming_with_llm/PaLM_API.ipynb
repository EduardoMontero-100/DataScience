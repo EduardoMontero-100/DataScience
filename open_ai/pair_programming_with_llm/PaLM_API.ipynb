{
 "cells": [
  {
   "cell_type": "markdown",
   "metadata": {},
   "source": [
    "# Lesson 1: Getting Started with PaLM"
   ]
  },
  {
   "cell_type": "markdown",
   "metadata": {},
   "source": [
    "#### Setup\n",
    "Set the MakerSuite API key with the provided helper function."
   ]
  },
  {
   "cell_type": "code",
   "execution_count": 5,
   "metadata": {},
   "outputs": [],
   "source": [
    "from utils import get_api_key"
   ]
  },
  {
   "cell_type": "markdown",
   "metadata": {},
   "source": [
    "In this classroom, we've installed the relevant libraries for you.\n",
    "\n",
    "If you wanted to use the PaLM API on your own machine, you would first install the library:\n",
    "```Python\n",
    "!pip install -q google.generativeai\n",
    "```\n",
    "The optional flag `-q` installs \"quietly\" without printing out details of the installation."
   ]
  },
  {
   "cell_type": "code",
   "execution_count": 14,
   "metadata": {},
   "outputs": [
    {
     "name": "stdout",
     "output_type": "stream",
     "text": [
      "None\n"
     ]
    }
   ],
   "source": [
    "print(get_api_key())"
   ]
  },
  {
   "cell_type": "code",
   "execution_count": 1,
   "metadata": {},
   "outputs": [],
   "source": [
    "#! pip install -q google.generativeai"
   ]
  },
  {
   "cell_type": "code",
   "execution_count": 11,
   "metadata": {},
   "outputs": [],
   "source": [
    "import os\n",
    "import google.generativeai as palm\n",
    "from google.api_core import client_options as client_options_lib\n",
    "\n",
    "palm.configure(\n",
    "    api_key=get_api_key(),\n",
    "    transport=\"rest\",\n",
    "    client_options=client_options_lib.ClientOptions(\n",
    "        api_endpoint=os.getenv(\"GOOGLE_API_BASE\"),\n",
    "    )\n",
    ")"
   ]
  },
  {
   "cell_type": "markdown",
   "metadata": {},
   "source": [
    "### Explore the available models"
   ]
  },
  {
   "cell_type": "code",
   "execution_count": 12,
   "metadata": {},
   "outputs": [
    {
     "ename": "Forbidden",
     "evalue": "403 GET https://generativelanguage.googleapis.com/v1beta2/models?%24alt=json%3Benum-encoding%3Dint: Request had insufficient authentication scopes. [{'@type': 'type.googleapis.com/google.rpc.ErrorInfo', 'reason': 'ACCESS_TOKEN_SCOPE_INSUFFICIENT', 'domain': 'googleapis.com', 'metadata': {'method': 'google.ai.generativelanguage.v1beta2.ModelService.ListModels', 'service': 'generativelanguage.googleapis.com'}}]",
     "output_type": "error",
     "traceback": [
      "\u001b[0;31m---------------------------------------------------------------------------\u001b[0m",
      "\u001b[0;31mForbidden\u001b[0m                                 Traceback (most recent call last)",
      "\u001b[1;32m/home/flow/Desktop/DataScience/open_ai/pair_programming_with_llm/PaLM_API.ipynb Cell 8\u001b[0m line \u001b[0;36m1\n\u001b[0;32m----> <a href='vscode-notebook-cell:/home/flow/Desktop/DataScience/open_ai/pair_programming_with_llm/PaLM_API.ipynb#X12sZmlsZQ%3D%3D?line=0'>1</a>\u001b[0m \u001b[39mfor\u001b[39;00m m \u001b[39min\u001b[39;00m palm\u001b[39m.\u001b[39;49mlist_models():\n\u001b[1;32m      <a href='vscode-notebook-cell:/home/flow/Desktop/DataScience/open_ai/pair_programming_with_llm/PaLM_API.ipynb#X12sZmlsZQ%3D%3D?line=1'>2</a>\u001b[0m     \u001b[39mprint\u001b[39m(\u001b[39mf\u001b[39m\u001b[39m\"\u001b[39m\u001b[39mname: \u001b[39m\u001b[39m{\u001b[39;00mm\u001b[39m.\u001b[39mname\u001b[39m}\u001b[39;00m\u001b[39m\"\u001b[39m)\n\u001b[1;32m      <a href='vscode-notebook-cell:/home/flow/Desktop/DataScience/open_ai/pair_programming_with_llm/PaLM_API.ipynb#X12sZmlsZQ%3D%3D?line=2'>3</a>\u001b[0m     \u001b[39mprint\u001b[39m(\u001b[39mf\u001b[39m\u001b[39m\"\u001b[39m\u001b[39mdescription: \u001b[39m\u001b[39m{\u001b[39;00mm\u001b[39m.\u001b[39mdescription\u001b[39m}\u001b[39;00m\u001b[39m\"\u001b[39m)\n",
      "File \u001b[0;32m~/Desktop/venv/gcp/lib/python3.8/site-packages/google/generativeai/models.py:95\u001b[0m, in \u001b[0;36mlist_models\u001b[0;34m(page_size, client)\u001b[0m\n\u001b[1;32m     92\u001b[0m \u001b[39mif\u001b[39;00m client \u001b[39mis\u001b[39;00m \u001b[39mNone\u001b[39;00m:\n\u001b[1;32m     93\u001b[0m     client \u001b[39m=\u001b[39m get_default_model_client()\n\u001b[0;32m---> 95\u001b[0m \u001b[39mreturn\u001b[39;00m _list_models(page_size, page_token\u001b[39m=\u001b[39;49m\u001b[39mNone\u001b[39;49;00m, client\u001b[39m=\u001b[39;49mclient)\n",
      "File \u001b[0;32m~/Desktop/venv/gcp/lib/python3.8/site-packages/google/generativeai/models.py:62\u001b[0m, in \u001b[0;36m_list_models\u001b[0;34m(page_size, page_token, client)\u001b[0m\n\u001b[1;32m     61\u001b[0m \u001b[39mdef\u001b[39;00m \u001b[39m_list_models\u001b[39m(page_size, page_token, client):\n\u001b[0;32m---> 62\u001b[0m     result \u001b[39m=\u001b[39m client\u001b[39m.\u001b[39;49mlist_models(page_size\u001b[39m=\u001b[39;49mpage_size, page_token\u001b[39m=\u001b[39;49mpage_token)\n\u001b[1;32m     63\u001b[0m     result \u001b[39m=\u001b[39m result\u001b[39m.\u001b[39m_response\n\u001b[1;32m     64\u001b[0m     result \u001b[39m=\u001b[39m \u001b[39mtype\u001b[39m(result)\u001b[39m.\u001b[39mto_dict(result)\n",
      "File \u001b[0;32m~/Desktop/venv/gcp/lib/python3.8/site-packages/google/ai/generativelanguage_v1beta2/services/model_service/client.py:654\u001b[0m, in \u001b[0;36mModelServiceClient.list_models\u001b[0;34m(self, request, page_size, page_token, retry, timeout, metadata)\u001b[0m\n\u001b[1;32m    651\u001b[0m rpc \u001b[39m=\u001b[39m \u001b[39mself\u001b[39m\u001b[39m.\u001b[39m_transport\u001b[39m.\u001b[39m_wrapped_methods[\u001b[39mself\u001b[39m\u001b[39m.\u001b[39m_transport\u001b[39m.\u001b[39mlist_models]\n\u001b[1;32m    653\u001b[0m \u001b[39m# Send the request.\u001b[39;00m\n\u001b[0;32m--> 654\u001b[0m response \u001b[39m=\u001b[39m rpc(\n\u001b[1;32m    655\u001b[0m     request,\n\u001b[1;32m    656\u001b[0m     retry\u001b[39m=\u001b[39;49mretry,\n\u001b[1;32m    657\u001b[0m     timeout\u001b[39m=\u001b[39;49mtimeout,\n\u001b[1;32m    658\u001b[0m     metadata\u001b[39m=\u001b[39;49mmetadata,\n\u001b[1;32m    659\u001b[0m )\n\u001b[1;32m    661\u001b[0m \u001b[39m# This method is paged; wrap the response in a pager, which provides\u001b[39;00m\n\u001b[1;32m    662\u001b[0m \u001b[39m# an `__iter__` convenience method.\u001b[39;00m\n\u001b[1;32m    663\u001b[0m response \u001b[39m=\u001b[39m pagers\u001b[39m.\u001b[39mListModelsPager(\n\u001b[1;32m    664\u001b[0m     method\u001b[39m=\u001b[39mrpc,\n\u001b[1;32m    665\u001b[0m     request\u001b[39m=\u001b[39mrequest,\n\u001b[1;32m    666\u001b[0m     response\u001b[39m=\u001b[39mresponse,\n\u001b[1;32m    667\u001b[0m     metadata\u001b[39m=\u001b[39mmetadata,\n\u001b[1;32m    668\u001b[0m )\n",
      "File \u001b[0;32m~/Desktop/venv/gcp/lib/python3.8/site-packages/google/api_core/gapic_v1/method.py:113\u001b[0m, in \u001b[0;36m_GapicCallable.__call__\u001b[0;34m(self, timeout, retry, *args, **kwargs)\u001b[0m\n\u001b[1;32m    110\u001b[0m     metadata\u001b[39m.\u001b[39mextend(\u001b[39mself\u001b[39m\u001b[39m.\u001b[39m_metadata)\n\u001b[1;32m    111\u001b[0m     kwargs[\u001b[39m\"\u001b[39m\u001b[39mmetadata\u001b[39m\u001b[39m\"\u001b[39m] \u001b[39m=\u001b[39m metadata\n\u001b[0;32m--> 113\u001b[0m \u001b[39mreturn\u001b[39;00m wrapped_func(\u001b[39m*\u001b[39;49margs, \u001b[39m*\u001b[39;49m\u001b[39m*\u001b[39;49mkwargs)\n",
      "File \u001b[0;32m~/Desktop/venv/gcp/lib/python3.8/site-packages/google/api_core/grpc_helpers.py:72\u001b[0m, in \u001b[0;36m_wrap_unary_errors.<locals>.error_remapped_callable\u001b[0;34m(*args, **kwargs)\u001b[0m\n\u001b[1;32m     69\u001b[0m \u001b[39m@functools\u001b[39m\u001b[39m.\u001b[39mwraps(callable_)\n\u001b[1;32m     70\u001b[0m \u001b[39mdef\u001b[39;00m \u001b[39merror_remapped_callable\u001b[39m(\u001b[39m*\u001b[39margs, \u001b[39m*\u001b[39m\u001b[39m*\u001b[39mkwargs):\n\u001b[1;32m     71\u001b[0m     \u001b[39mtry\u001b[39;00m:\n\u001b[0;32m---> 72\u001b[0m         \u001b[39mreturn\u001b[39;00m callable_(\u001b[39m*\u001b[39;49margs, \u001b[39m*\u001b[39;49m\u001b[39m*\u001b[39;49mkwargs)\n\u001b[1;32m     73\u001b[0m     \u001b[39mexcept\u001b[39;00m grpc\u001b[39m.\u001b[39mRpcError \u001b[39mas\u001b[39;00m exc:\n\u001b[1;32m     74\u001b[0m         \u001b[39mraise\u001b[39;00m exceptions\u001b[39m.\u001b[39mfrom_grpc_error(exc) \u001b[39mfrom\u001b[39;00m \u001b[39mexc\u001b[39;00m\n",
      "File \u001b[0;32m~/Desktop/venv/gcp/lib/python3.8/site-packages/google/ai/generativelanguage_v1beta2/services/model_service/transports/rest.py:386\u001b[0m, in \u001b[0;36mModelServiceRestTransport._ListModels.__call__\u001b[0;34m(self, request, retry, timeout, metadata)\u001b[0m\n\u001b[1;32m    383\u001b[0m \u001b[39m# In case of error, raise the appropriate core_exceptions.GoogleAPICallError exception\u001b[39;00m\n\u001b[1;32m    384\u001b[0m \u001b[39m# subclass.\u001b[39;00m\n\u001b[1;32m    385\u001b[0m \u001b[39mif\u001b[39;00m response\u001b[39m.\u001b[39mstatus_code \u001b[39m>\u001b[39m\u001b[39m=\u001b[39m \u001b[39m400\u001b[39m:\n\u001b[0;32m--> 386\u001b[0m     \u001b[39mraise\u001b[39;00m core_exceptions\u001b[39m.\u001b[39mfrom_http_response(response)\n\u001b[1;32m    388\u001b[0m \u001b[39m# Return the response\u001b[39;00m\n\u001b[1;32m    389\u001b[0m resp \u001b[39m=\u001b[39m model_service\u001b[39m.\u001b[39mListModelsResponse()\n",
      "\u001b[0;31mForbidden\u001b[0m: 403 GET https://generativelanguage.googleapis.com/v1beta2/models?%24alt=json%3Benum-encoding%3Dint: Request had insufficient authentication scopes. [{'@type': 'type.googleapis.com/google.rpc.ErrorInfo', 'reason': 'ACCESS_TOKEN_SCOPE_INSUFFICIENT', 'domain': 'googleapis.com', 'metadata': {'method': 'google.ai.generativelanguage.v1beta2.ModelService.ListModels', 'service': 'generativelanguage.googleapis.com'}}]"
     ]
    }
   ],
   "source": [
    "for m in palm.list_models():\n",
    "    print(f\"name: {m.name}\")\n",
    "    print(f\"description: {m.description}\")\n",
    "    print(f\"generation methods:{m.supported_generation_methods}\\n\")"
   ]
  },
  {
   "cell_type": "code",
   "execution_count": null,
   "metadata": {},
   "outputs": [],
   "source": []
  }
 ],
 "metadata": {
  "kernelspec": {
   "display_name": "gcp",
   "language": "python",
   "name": "python3"
  },
  "language_info": {
   "codemirror_mode": {
    "name": "ipython",
    "version": 3
   },
   "file_extension": ".py",
   "mimetype": "text/x-python",
   "name": "python",
   "nbconvert_exporter": "python",
   "pygments_lexer": "ipython3",
   "version": "3.8.17"
  }
 },
 "nbformat": 4,
 "nbformat_minor": 2
}
