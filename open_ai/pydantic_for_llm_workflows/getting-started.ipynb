{
 "cells": [
  {
   "cell_type": "code",
   "execution_count": null,
   "metadata": {},
   "outputs": [],
   "source": [
    "from pydantic import BaseModel, ValidationError, EmailStr\n",
    "import json\n"
   ]
  },
  {
   "cell_type": "code",
   "execution_count": 4,
   "id": "3902dbea",
   "metadata": {},
   "outputs": [],
   "source": [
    "class UserInput(BaseModel):\n",
    "    name: str\n",
    "    email: EmailStr\n",
    "    query: str"
   ]
  },
  {
   "cell_type": "code",
   "execution_count": 8,
   "id": "2bb9cafd",
   "metadata": {},
   "outputs": [
    {
     "name": "stdout",
     "output_type": "stream",
     "text": [
      "name='Alice' email='joe.user@example.com' query='I forgot my password'\n"
     ]
    }
   ],
   "source": [
    "user_input = UserInput(\n",
    "    name=\"Alice\",\n",
    "    email=\"joe.user@example.com\",\n",
    "    query = \"I forgot my password\"\n",
    ")\n",
    "\n",
    "print(user_input)"
   ]
  },
  {
   "cell_type": "code",
   "execution_count": 10,
   "id": "8e3e0c76",
   "metadata": {},
   "outputs": [
    {
     "name": "stdout",
     "output_type": "stream",
     "text": [
      "name='Alice' email='joe.user@example.c' query='I forgot my password'\n"
     ]
    }
   ],
   "source": [
    "user_input = UserInput(\n",
    "    name=\"Alice\",\n",
    "    email=\"joe.user@example.c\",\n",
    "    query = \"I forgot my password\"\n",
    ")\n",
    "\n",
    "print(user_input)"
   ]
  },
  {
   "cell_type": "code",
   "execution_count": 42,
   "id": "a0d7a660",
   "metadata": {},
   "outputs": [],
   "source": [
    "# Define a function to handle customer support input validation safety\n",
    "def validate_user_input(input_data):\n",
    "    try:\n",
    "        user_input = UserInput(**input_data)\n",
    "        print(\"Valid user created\")\n",
    "        print(user_input.model_dump_json(indent=2))\n",
    "        return user_input \n",
    "    except ValidationError as e:\n",
    "        print(\"Validation error:\", e)\n",
    "        for error in e.errors():\n",
    "            print(f\"Error in field '{error['loc'][0]}': {error['msg']}\")\n",
    "        return None\n"
   ]
  },
  {
   "cell_type": "code",
   "execution_count": 22,
   "id": "9ddceb8e",
   "metadata": {},
   "outputs": [
    {
     "name": "stdout",
     "output_type": "stream",
     "text": [
      "Valid user created\n",
      "{\n",
      "  \"name\": \"Alice\",\n",
      "  \"email\": \"joe.user@example.c\",\n",
      "  \"query\": \"I forgot my password\"\n",
      "}\n"
     ]
    }
   ],
   "source": [
    "input_data = {\n",
    "    \"name\":\"Alice\",\n",
    "    \"email\":\"joe.user@example.c\",\n",
    "    \"query\" : \"I forgot my password\"\n",
    "}\n",
    "\n",
    "user_input = validate_user_input(input_data)"
   ]
  },
  {
   "cell_type": "code",
   "execution_count": 23,
   "id": "442c592c",
   "metadata": {},
   "outputs": [
    {
     "name": "stdout",
     "output_type": "stream",
     "text": [
      "Validation error: 1 validation error for UserInput\n",
      "query\n",
      "  Field required [type=missing, input_value={'name': 'Alice', 'email': 'joe.user@example.c'}, input_type=dict]\n",
      "    For further information visit https://errors.pydantic.dev/2.10/v/missing\n",
      "Error in field 'query': Field required\n"
     ]
    }
   ],
   "source": [
    "input_data = {\n",
    "    \"name\":\"Alice\",\n",
    "    \"email\":\"joe.user@example.c\",\n",
    "}\n",
    "\n",
    "user_input = validate_user_input(input_data)"
   ]
  },
  {
   "cell_type": "code",
   "execution_count": 67,
   "id": "7e4bee85",
   "metadata": {},
   "outputs": [],
   "source": [
    "# Import additional libraries for enhanced validation\n",
    "from pydantic import Field\n",
    "from typing import Optional\n",
    "from datetime import date\n",
    "\n",
    "# Define a new UserInput model with optional fields\n",
    "class UserInput(BaseModel):\n",
    "    name: str\n",
    "    email: EmailStr\n",
    "    query: str\n",
    "    order_id: Optional[int] = Field(\n",
    "        None,\n",
    "        description=\"5-digit order number (cannot start with 0)\",\n",
    "        ge=10000,\n",
    "        le=99999\n",
    "    )\n",
    "    purchase_date: Optional[date] = None"
   ]
  },
  {
   "cell_type": "code",
   "execution_count": 48,
   "id": "5837c20f",
   "metadata": {},
   "outputs": [
    {
     "name": "stdout",
     "output_type": "stream",
     "text": [
      "Valid user created\n",
      "{\n",
      "  \"name\": \"Alice\",\n",
      "  \"email\": \"joe.user@example.com\",\n",
      "  \"query\": \"I forgot my password\",\n",
      "  \"order_id\": null,\n",
      "  \"purchase_date\": null\n",
      "}\n"
     ]
    }
   ],
   "source": [
    "input_data = {\n",
    "    \"name\":\"Alice\",\n",
    "    \"email\":\"joe.user@example.com\",\n",
    "    \"query\" : \"I forgot my password\"\n",
    "}\n",
    "\n",
    "user_input = validate_user_input(input_data)"
   ]
  },
  {
   "cell_type": "code",
   "execution_count": 49,
   "id": "83369c2d",
   "metadata": {},
   "outputs": [
    {
     "data": {
      "text/plain": [
       "UserInput(name='Alice', email='joe.user@example.com', query='I forgot my password', order_id=None, purchase_date=None)"
      ]
     },
     "execution_count": 49,
     "metadata": {},
     "output_type": "execute_result"
    }
   ],
   "source": [
    "user_input"
   ]
  },
  {
   "cell_type": "code",
   "execution_count": 50,
   "id": "9230b9d9",
   "metadata": {},
   "outputs": [
    {
     "name": "stdout",
     "output_type": "stream",
     "text": [
      "Valid user created\n",
      "{\n",
      "  \"name\": \"Joe User\",\n",
      "  \"email\": \"joe.user@example.com\",\n",
      "  \"query\": \"I bought a laptop carrying case and it turned out to be the wrong size. I need to return it.\",\n",
      "  \"order_id\": 12345,\n",
      "  \"purchase_date\": \"2025-12-31\"\n",
      "}\n"
     ]
    }
   ],
   "source": [
    "# Define a dictionary with all fields and including additional ones\n",
    "input_data = {\n",
    "    \"name\": \"Joe User\",\n",
    "    \"email\": \"joe.user@example.com\",\n",
    "    \"query\": f\"\"\"I bought a laptop carrying case and it turned out to be the wrong size. I need to return it.\"\"\",\n",
    "    \"order_id\": 12345,\n",
    "    \"purchase_date\": date(2025, 12, 31)\n",
    "}\n",
    "\n",
    "# Validate the user input data\n",
    "user_input = validate_user_input(input_data)"
   ]
  },
  {
   "cell_type": "code",
   "execution_count": 51,
   "id": "3f554018",
   "metadata": {},
   "outputs": [
    {
     "name": "stdout",
     "output_type": "stream",
     "text": [
      "Valid user created\n",
      "{\n",
      "  \"name\": \"Joe User\",\n",
      "  \"email\": \"joe.user@example.com\",\n",
      "  \"query\": \"I bought a laptop carrying case and it turned out to be the wrong size. I need to return it.\",\n",
      "  \"order_id\": 12345,\n",
      "  \"purchase_date\": \"2025-12-31\"\n",
      "}\n"
     ]
    }
   ],
   "source": [
    "# Define a dictionary with all fields and including additional ones\n",
    "input_data = {\n",
    "    \"name\": \"Joe User\",\n",
    "    \"email\": \"joe.user@example.com\",\n",
    "    \"query\": f\"\"\"I bought a laptop carrying case and it turned out to be the wrong size. I need to return it.\"\"\",\n",
    "    \"order_id\": 12345,\n",
    "    \"purchase_date\": date(2025, 12, 31),\n",
    "    \"system_message\": \"logging status regarding order processing...\",\n",
    "    \"iteration\": 1 \n",
    "}\n",
    "\n",
    "# Validate the user input data\n",
    "user_input = validate_user_input(input_data)"
   ]
  },
  {
   "cell_type": "code",
   "execution_count": 52,
   "id": "f828f5b9",
   "metadata": {},
   "outputs": [
    {
     "data": {
      "text/plain": [
       "UserInput(name='Joe User', email='joe.user@example.com', query='I bought a laptop carrying case and it turned out to be the wrong size. I need to return it.', order_id=12345, purchase_date=datetime.date(2025, 12, 31))"
      ]
     },
     "execution_count": 52,
     "metadata": {},
     "output_type": "execute_result"
    }
   ],
   "source": [
    "user_input"
   ]
  },
  {
   "cell_type": "code",
   "execution_count": 53,
   "id": "ba8ac62c",
   "metadata": {},
   "outputs": [
    {
     "name": "stdout",
     "output_type": "stream",
     "text": [
      "Valid user created\n",
      "{\n",
      "  \"name\": \"Joe User\",\n",
      "  \"email\": \"joe.user@example.com\",\n",
      "  \"query\": \"I bought a laptop carrying case and it turned out to be the wrong size. I need to return it.\",\n",
      "  \"order_id\": 12345,\n",
      "  \"purchase_date\": \"2025-12-13\"\n",
      "}\n"
     ]
    }
   ],
   "source": [
    "# Define a dictionary with all fields and including additional ones\n",
    "input_data = {\n",
    "    \"name\": \"Joe User\",\n",
    "    \"email\": \"joe.user@example.com\",\n",
    "    \"query\": f\"\"\"I bought a laptop carrying case and it turned out to be the wrong size. I need to return it.\"\"\",\n",
    "    \"order_id\": 12345,\n",
    "    \"purchase_date\": \"2025-12-13\",\n",
    "    \"system_message\": \"logging status regarding order processing...\",\n",
    "    \"iteration\": 1 \n",
    "}\n",
    "\n",
    "# Validate the user input data\n",
    "user_input = validate_user_input(input_data)"
   ]
  },
  {
   "cell_type": "code",
   "execution_count": 54,
   "id": "22910cb2",
   "metadata": {},
   "outputs": [
    {
     "data": {
      "text/plain": [
       "UserInput(name='Joe User', email='joe.user@example.com', query='I bought a laptop carrying case and it turned out to be the wrong size. I need to return it.', order_id=12345, purchase_date=datetime.date(2025, 12, 13))"
      ]
     },
     "execution_count": 54,
     "metadata": {},
     "output_type": "execute_result"
    }
   ],
   "source": [
    "user_input"
   ]
  },
  {
   "cell_type": "code",
   "execution_count": null,
   "id": "e26c809e",
   "metadata": {},
   "outputs": [
    {
     "name": "stdout",
     "output_type": "stream",
     "text": [
      "Valid user created\n",
      "{\n",
      "  \"name\": \"Joe User\",\n",
      "  \"email\": \"joe.user@example.com\",\n",
      "  \"query\": \"I bought a laptop carrying case and it turned out to be the wrong size. I need to return it.\",\n",
      "  \"order_id\": 12345,\n",
      "  \"purchase_date\": \"2025-12-13\"\n",
      "}\n"
     ]
    }
   ],
   "source": [
    "# Define a dictionary with all fields and including additional ones\n",
    "input_data = {\n",
    "    \"name\": \"Joe User\",\n",
    "    \"email\": \"joe.user@example.com\",\n",
    "    \"query\": f\"\"\"I bought a laptop carrying case and it turned out to be the wrong size. I need to return it.\"\"\",\n",
    "    \"order_id\": \"12345\",\n",
    "    \"purchase_date\": \"2025-12-13\",\n",
    "    \"system_message\": \"logging status regarding order processing...\",\n",
    "    \"iteration\": 1 \n",
    "}\n",
    "\n",
    "# Validate the user input data\n",
    "user_input = validate_user_input(input_data)"
   ]
  },
  {
   "cell_type": "code",
   "execution_count": 56,
   "id": "b97dee37",
   "metadata": {},
   "outputs": [
    {
     "data": {
      "text/plain": [
       "UserInput(name='Joe User', email='joe.user@example.com', query='I bought a laptop carrying case and it turned out to be the wrong size. I need to return it.', order_id=12345, purchase_date=datetime.date(2025, 12, 13))"
      ]
     },
     "execution_count": 56,
     "metadata": {},
     "output_type": "execute_result"
    }
   ],
   "source": [
    "user_input"
   ]
  },
  {
   "cell_type": "code",
   "execution_count": 57,
   "id": "3f2e2f62",
   "metadata": {},
   "outputs": [
    {
     "name": "stdout",
     "output_type": "stream",
     "text": [
      "Validation error: 1 validation error for UserInput\n",
      "name\n",
      "  Input should be a valid string [type=string_type, input_value=99999, input_type=int]\n",
      "    For further information visit https://errors.pydantic.dev/2.10/v/string_type\n",
      "Error in field 'name': Input should be a valid string\n"
     ]
    }
   ],
   "source": [
    "# Define a dictionary with all fields and including additional ones\n",
    "input_data = {\n",
    "    \"name\":  99999,\n",
    "    \"email\": \"joe.user@example.com\",\n",
    "    \"query\": f\"\"\"I bought a laptop carrying case and it turned out to be the wrong size. I need to return it.\"\"\",\n",
    "    \"order_id\": \"12345\",\n",
    "    \"purchase_date\": \"2025-12-13\",\n",
    "    \"system_message\": \"logging status regarding order processing...\",\n",
    "    \"iteration\": 1 \n",
    "}\n",
    "\n",
    "# Validate the user input data\n",
    "user_input = validate_user_input(input_data)"
   ]
  },
  {
   "cell_type": "code",
   "execution_count": 63,
   "id": "10a951a3",
   "metadata": {},
   "outputs": [
    {
     "name": "stdout",
     "output_type": "stream",
     "text": [
      "JSON parsed:{'name': 'Joe User', 'email': 'joe.user@example.com', 'query': 'I bought a keyboard and mouse and was overcharged.', 'order_id': 1234, 'purchase_date': '2025-12-31'}\n"
     ]
    }
   ],
   "source": [
    "# This simulates JSON data coming from a front-end app\n",
    "json_data = '''\n",
    "{\n",
    "    \"name\": \"Joe User\",\n",
    "    \"email\": \"joe.user@example.com\",\n",
    "    \"query\": \"I bought a keyboard and mouse and was overcharged.\",\n",
    "    \"order_id\": 1234,\n",
    "    \"purchase_date\": \"2025-12-31\"\n",
    "}\n",
    "'''\n",
    "\n",
    "input_data = json.loads(json_data)\n",
    "print(f'JSON parsed:{input_data}')"
   ]
  },
  {
   "cell_type": "code",
   "execution_count": 64,
   "id": "cfd6dda6",
   "metadata": {},
   "outputs": [
    {
     "name": "stdout",
     "output_type": "stream",
     "text": [
      "Validation error: 1 validation error for UserInput\n",
      "order_id\n",
      "  Input should be greater than or equal to 10000 [type=greater_than_equal, input_value=1234, input_type=int]\n",
      "    For further information visit https://errors.pydantic.dev/2.10/v/greater_than_equal\n",
      "Error in field 'order_id': Input should be greater than or equal to 10000\n"
     ]
    }
   ],
   "source": [
    "user_input = validate_user_input(input_data)"
   ]
  },
  {
   "cell_type": "code",
   "execution_count": null,
   "id": "d09d9ae7",
   "metadata": {},
   "outputs": [],
   "source": [
    "# This simulates JSON data coming from a front-end app\n",
    "json_data = '''\n",
    "{\n",
    "    \"name\": \"Joe User\",\n",
    "    \"email\": \"joe.user@example.com\",\n",
    "    \"query\": \"I bought a keyboard and mouse and was overcharged.\",\n",
    "    \"order_id\": \"012354\",\n",
    "    \"purchase_date\": \"2025-12-31\"\n",
    "\n",
    "'''\n",
    "\n",
    "input_data = json.loads(json_data)\n",
    "print(f'JSON parsed:{input_data}')"
   ]
  },
  {
   "cell_type": "code",
   "execution_count": null,
   "id": "254a65c9",
   "metadata": {},
   "outputs": [
    {
     "name": "stdout",
     "output_type": "stream",
     "text": [
      "Valid user created\n",
      "{\n",
      "  \"name\": \"Joe User\",\n",
      "  \"email\": \"joe.user@example.com\",\n",
      "  \"query\": \"I bought a keyboard and mouse and was overcharged.\",\n",
      "  \"order_id\": 12354,\n",
      "  \"purchase_date\": \"2025-12-31\"\n",
      "}\n"
     ]
    }
   ],
   "source": [
    "user_input = validate_user_input(input_data)"
   ]
  },
  {
   "cell_type": "code",
   "execution_count": 91,
   "id": "a5e6525e",
   "metadata": {},
   "outputs": [
    {
     "ename": "ValidationError",
     "evalue": "1 validation error for UserInput\n  Invalid JSON: EOF while parsing an object at line 9 column 0 [type=json_invalid, input_value='\\n{\\n    \"name\": \"Joe Us...date\": \"2025-12-31\"\\n\\n', input_type=str]\n    For further information visit https://errors.pydantic.dev/2.10/v/json_invalid",
     "output_type": "error",
     "traceback": [
      "\u001b[0;31m---------------------------------------------------------------------------\u001b[0m",
      "\u001b[0;31mValidationError\u001b[0m                           Traceback (most recent call last)",
      "Cell \u001b[0;32mIn[91], line 1\u001b[0m\n\u001b[0;32m----> 1\u001b[0m user_input \u001b[38;5;241m=\u001b[39m \u001b[43mUserInput\u001b[49m\u001b[38;5;241;43m.\u001b[39;49m\u001b[43mmodel_validate_json\u001b[49m\u001b[43m(\u001b[49m\u001b[43mjson_data\u001b[49m\u001b[43m)\u001b[49m\n\u001b[1;32m      2\u001b[0m \u001b[38;5;28mprint\u001b[39m(user_input\u001b[38;5;241m.\u001b[39mmodel_dump_json(indent\u001b[38;5;241m=\u001b[39m\u001b[38;5;241m2\u001b[39m))\n",
      "File \u001b[0;32m~/Desktop/venv/llm_metrics/lib/python3.10/site-packages/pydantic/main.py:656\u001b[0m, in \u001b[0;36mBaseModel.model_validate_json\u001b[0;34m(cls, json_data, strict, context)\u001b[0m\n\u001b[1;32m    654\u001b[0m \u001b[38;5;66;03m# `__tracebackhide__` tells pytest and some other tools to omit this function from tracebacks\u001b[39;00m\n\u001b[1;32m    655\u001b[0m __tracebackhide__ \u001b[38;5;241m=\u001b[39m \u001b[38;5;28;01mTrue\u001b[39;00m\n\u001b[0;32m--> 656\u001b[0m \u001b[38;5;28;01mreturn\u001b[39;00m \u001b[38;5;28;43mcls\u001b[39;49m\u001b[38;5;241;43m.\u001b[39;49m\u001b[43m__pydantic_validator__\u001b[49m\u001b[38;5;241;43m.\u001b[39;49m\u001b[43mvalidate_json\u001b[49m\u001b[43m(\u001b[49m\u001b[43mjson_data\u001b[49m\u001b[43m,\u001b[49m\u001b[43m \u001b[49m\u001b[43mstrict\u001b[49m\u001b[38;5;241;43m=\u001b[39;49m\u001b[43mstrict\u001b[49m\u001b[43m,\u001b[49m\u001b[43m \u001b[49m\u001b[43mcontext\u001b[49m\u001b[38;5;241;43m=\u001b[39;49m\u001b[43mcontext\u001b[49m\u001b[43m)\u001b[49m\n",
      "\u001b[0;31mValidationError\u001b[0m: 1 validation error for UserInput\n  Invalid JSON: EOF while parsing an object at line 9 column 0 [type=json_invalid, input_value='\\n{\\n    \"name\": \"Joe Us...date\": \"2025-12-31\"\\n\\n', input_type=str]\n    For further information visit https://errors.pydantic.dev/2.10/v/json_invalid"
     ]
    }
   ],
   "source": [
    "user_input = UserInput.model_validate_json(json_data)\n",
    "print(user_input.model_dump_json(indent=2))"
   ]
  },
  {
   "cell_type": "code",
   "execution_count": null,
   "id": "a471de91",
   "metadata": {},
   "outputs": [],
   "source": []
  },
  {
   "cell_type": "code",
   "execution_count": null,
   "id": "7d1b3e76",
   "metadata": {},
   "outputs": [],
   "source": []
  },
  {
   "cell_type": "code",
   "execution_count": null,
   "id": "b3c41c63",
   "metadata": {},
   "outputs": [],
   "source": []
  }
 ],
 "metadata": {
  "kernelspec": {
   "display_name": "llm_metrics (3.10.12)",
   "language": "python",
   "name": "python3"
  },
  "language_info": {
   "codemirror_mode": {
    "name": "ipython",
    "version": 3
   },
   "file_extension": ".py",
   "mimetype": "text/x-python",
   "name": "python",
   "nbconvert_exporter": "python",
   "pygments_lexer": "ipython3",
   "version": "3.10.12"
  }
 },
 "nbformat": 4,
 "nbformat_minor": 5
}
