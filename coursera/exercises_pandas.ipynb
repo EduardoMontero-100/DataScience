{
 "cells": [
  {
   "cell_type": "markdown",
   "metadata": {},
   "source": [
    "# Big heading\n",
    "_especialwritting"
   ]
  },
  {
   "cell_type": "code",
   "execution_count": 5,
   "metadata": {},
   "outputs": [
    {
     "name": "stdout",
     "output_type": "stream",
     "text": [
      "6\n",
      "10\n"
     ]
    }
   ],
   "source": [
    "def add_numbers(a, b, c=None):\n",
    "    if c == None:\n",
    "        return a+b\n",
    "    else:\n",
    "        return a+b+c\n",
    "\n",
    "print(add_numbers(2,4))\n",
    "print(add_numbers(2,4, 4))"
   ]
  },
  {
   "cell_type": "code",
   "execution_count": 6,
   "metadata": {},
   "outputs": [
    {
     "data": {
      "text/plain": [
       "function"
      ]
     },
     "execution_count": 6,
     "metadata": {},
     "output_type": "execute_result"
    }
   ],
   "source": [
    "type(add_numbers)"
   ]
  },
  {
   "cell_type": "code",
   "execution_count": 7,
   "metadata": {},
   "outputs": [
    {
     "data": {
      "text/plain": [
       "str"
      ]
     },
     "execution_count": 7,
     "metadata": {},
     "output_type": "execute_result"
    }
   ],
   "source": [
    "type('Hola')"
   ]
  },
  {
   "cell_type": "code",
   "execution_count": 8,
   "metadata": {},
   "outputs": [
    {
     "data": {
      "text/plain": [
       "tuple"
      ]
     },
     "execution_count": 8,
     "metadata": {},
     "output_type": "execute_result"
    }
   ],
   "source": [
    "x = (1,'a', [2,3,2])\n",
    "type(x)"
   ]
  },
  {
   "cell_type": "code",
   "execution_count": 10,
   "metadata": {},
   "outputs": [
    {
     "data": {
      "text/plain": [
       "list"
      ]
     },
     "execution_count": 10,
     "metadata": {},
     "output_type": "execute_result"
    }
   ],
   "source": [
    "x = [1,2,3,2, [21]]\n",
    "type(x)"
   ]
  },
  {
   "cell_type": "code",
   "execution_count": 12,
   "metadata": {},
   "outputs": [
    {
     "data": {
      "text/plain": [
       "[1, 2, 3, 2, [21], 3, 3]"
      ]
     },
     "execution_count": 12,
     "metadata": {},
     "output_type": "execute_result"
    }
   ],
   "source": [
    "x.append(3)\n",
    "x"
   ]
  },
  {
   "cell_type": "code",
   "execution_count": 13,
   "metadata": {},
   "outputs": [
    {
     "name": "stdout",
     "output_type": "stream",
     "text": [
      "1\n",
      "2\n",
      "3\n",
      "2\n",
      "[21]\n",
      "3\n",
      "3\n"
     ]
    }
   ],
   "source": [
    "for i in x:\n",
    "    print(i)"
   ]
  },
  {
   "cell_type": "code",
   "execution_count": 14,
   "metadata": {},
   "outputs": [
    {
     "data": {
      "text/plain": [
       "1"
      ]
     },
     "execution_count": 14,
     "metadata": {},
     "output_type": "execute_result"
    }
   ],
   "source": [
    "x[0]"
   ]
  },
  {
   "cell_type": "code",
   "execution_count": 15,
   "metadata": {},
   "outputs": [
    {
     "data": {
      "text/plain": [
       "3"
      ]
     },
     "execution_count": 15,
     "metadata": {},
     "output_type": "execute_result"
    }
   ],
   "source": [
    "x[5]"
   ]
  },
  {
   "cell_type": "code",
   "execution_count": 18,
   "metadata": {},
   "outputs": [
    {
     "data": {
      "text/plain": [
       "[1, 2, 5, 2]"
      ]
     },
     "execution_count": 18,
     "metadata": {},
     "output_type": "execute_result"
    }
   ],
   "source": [
    "[1,2]+[5,2]"
   ]
  },
  {
   "cell_type": "code",
   "execution_count": 34,
   "metadata": {},
   "outputs": [
    {
     "name": "stdout",
     "output_type": "stream",
     "text": [
      "Est\n",
      "prueb\n",
      "a es una prueba\n"
     ]
    }
   ],
   "source": [
    "x ='Esta es una prueba'\n",
    "print(x[:3])\n",
    "print(x[-6:-1])\n",
    "print(x[3:])"
   ]
  },
  {
   "cell_type": "code",
   "execution_count": 35,
   "metadata": {},
   "outputs": [
    {
     "name": "stdout",
     "output_type": "stream",
     "text": [
      "Eduardo Montero\n",
      "EduardoEduardoEduardo\n",
      "True\n"
     ]
    }
   ],
   "source": [
    "nombre = 'Eduardo'\n",
    "apellido = 'Montero'\n",
    "\n",
    "print(nombre + ' ' +apellido)\n",
    "print(nombre *3)\n",
    "print('Edu' in nombre)"
   ]
  },
  {
   "cell_type": "code",
   "execution_count": 39,
   "metadata": {},
   "outputs": [
    {
     "name": "stdout",
     "output_type": "stream",
     "text": [
      "Eduardo\n",
      "Montero\n"
     ]
    }
   ],
   "source": [
    "nombre = 'Eduardo Jose Montero Bermudez'.split()[0]\n",
    "apellido = 'Eduardo Jose Montero Bermudez'.split()[2]\n",
    "\n",
    "print(nombre)\n",
    "print(apellido)\n"
   ]
  },
  {
   "cell_type": "code",
   "execution_count": 42,
   "metadata": {},
   "outputs": [
    {
     "data": {
      "text/plain": [
       "dict"
      ]
     },
     "execution_count": 42,
     "metadata": {},
     "output_type": "execute_result"
    }
   ],
   "source": [
    "x = {'Eduardo': 'ejmontero10@gmail.com',\n",
    "     'Rodolfo': 'ejermonto@gmail.com'}\n",
    "x['Jose']= 'jose@gmail.com'\n",
    "type(x)"
   ]
  },
  {
   "cell_type": "code",
   "execution_count": 43,
   "metadata": {},
   "outputs": [
    {
     "name": "stdout",
     "output_type": "stream",
     "text": [
      "ejmontero10@gmail.com\n",
      "ejermonto@gmail.com\n",
      "jose@gmail.com\n"
     ]
    }
   ],
   "source": [
    "for name in x:\n",
    "    print(x[name])"
   ]
  },
  {
   "cell_type": "code",
   "execution_count": 45,
   "metadata": {},
   "outputs": [
    {
     "name": "stdout",
     "output_type": "stream",
     "text": [
      "ejmontero10@gmail.com\n",
      "ejermonto@gmail.com\n",
      "jose@gmail.com\n"
     ]
    }
   ],
   "source": [
    "for email in x.values():\n",
    "    print(email)"
   ]
  },
  {
   "cell_type": "code",
   "execution_count": 46,
   "metadata": {},
   "outputs": [
    {
     "name": "stdout",
     "output_type": "stream",
     "text": [
      "Eduardo:ejmontero10@gmail.com\n",
      "Rodolfo:ejermonto@gmail.com\n",
      "Jose:jose@gmail.com\n"
     ]
    }
   ],
   "source": [
    "for key, value in x.items():\n",
    "    print(key + ':'+ value)"
   ]
  },
  {
   "cell_type": "code",
   "execution_count": 47,
   "metadata": {},
   "outputs": [
    {
     "name": "stdout",
     "output_type": "stream",
     "text": [
      "Eduardo\n",
      "Montero\n",
      "ejmontero10@gmail.com\n"
     ]
    }
   ],
   "source": [
    "nombre, apellido, email = ('Eduardo', 'Montero', 'ejmontero10@gmail.com')\n",
    "print(nombre)\n",
    "print(apellido)\n",
    "print(email)"
   ]
  },
  {
   "cell_type": "code",
   "execution_count": 49,
   "metadata": {},
   "outputs": [
    {
     "name": "stdout",
     "output_type": "stream",
     "text": [
      "Edu compró 4 items a un precio de 3.2 cada uno teniendo un total de 12.8\n"
     ]
    }
   ],
   "source": [
    "sales_record = {'price': 3.2,\n",
    "                'num_items': 4,\n",
    "                'person':'Edu'}\n",
    "\n",
    "sales_statement = '{} compró {} items a un precio de {} cada uno teniendo un total de {}'\n",
    "\n",
    "print(sales_statement.format(sales_record['person'], \n",
    "                             sales_record['num_items'],\n",
    "                             sales_record['price'],\n",
    "                             sales_record['price'] * sales_record['num_items']                           \n",
    "))\n"
   ]
  },
  {
   "cell_type": "code",
   "execution_count": 52,
   "metadata": {},
   "outputs": [],
   "source": [
    "import datetime as dt\n",
    "import time as tm"
   ]
  },
  {
   "cell_type": "code",
   "execution_count": 53,
   "metadata": {},
   "outputs": [
    {
     "data": {
      "text/plain": [
       "1658108084.01"
      ]
     },
     "execution_count": 53,
     "metadata": {},
     "output_type": "execute_result"
    }
   ],
   "source": [
    "tm.time()"
   ]
  },
  {
   "cell_type": "code",
   "execution_count": 58,
   "metadata": {},
   "outputs": [
    {
     "data": {
      "text/plain": [
       "datetime.datetime(2022, 7, 17, 22, 35, 45, 700815)"
      ]
     },
     "execution_count": 58,
     "metadata": {},
     "output_type": "execute_result"
    }
   ],
   "source": [
    "dtnow = dt.datetime.fromtimestamp(tm.time())\n",
    "dtnow"
   ]
  },
  {
   "cell_type": "code",
   "execution_count": 61,
   "metadata": {},
   "outputs": [
    {
     "data": {
      "text/plain": [
       "(2022, 7, 17, 22, 35, 45)"
      ]
     },
     "execution_count": 61,
     "metadata": {},
     "output_type": "execute_result"
    }
   ],
   "source": [
    "dtnow.year, dtnow.month, dtnow.day, dtnow.hour, dtnow.minute, dtnow.second"
   ]
  },
  {
   "cell_type": "code",
   "execution_count": 71,
   "metadata": {},
   "outputs": [
    {
     "data": {
      "text/plain": [
       "datetime.date(2022, 7, 17)"
      ]
     },
     "execution_count": 71,
     "metadata": {},
     "output_type": "execute_result"
    }
   ],
   "source": [
    "import datetime as dt\n",
    "\n",
    "today = dt.date.today()\n",
    "today"
   ]
  },
  {
   "cell_type": "code",
   "execution_count": 72,
   "metadata": {},
   "outputs": [],
   "source": [
    "delta = dt.timedelta(days = 100)"
   ]
  },
  {
   "cell_type": "code",
   "execution_count": 73,
   "metadata": {},
   "outputs": [
    {
     "data": {
      "text/plain": [
       "datetime.date(2022, 10, 25)"
      ]
     },
     "execution_count": 73,
     "metadata": {},
     "output_type": "execute_result"
    }
   ],
   "source": [
    "today + delta "
   ]
  },
  {
   "cell_type": "code",
   "execution_count": 74,
   "metadata": {},
   "outputs": [],
   "source": [
    "class Person:\n",
    "    department = 'School of information'\n",
    "\n",
    "    def set_name(self, new_name):\n",
    "        self.name = new_name\n",
    "\n",
    "    def set_location(self, new_location):\n",
    "        self.location = new_location\n",
    "\n"
   ]
  },
  {
   "cell_type": "code",
   "execution_count": 75,
   "metadata": {},
   "outputs": [],
   "source": [
    "pepe = Person()"
   ]
  },
  {
   "cell_type": "code",
   "execution_count": 77,
   "metadata": {},
   "outputs": [
    {
     "name": "stdout",
     "output_type": "stream",
     "text": [
      "Eduardo vive en Argentina y trabaja en el departamento de School of information\n"
     ]
    }
   ],
   "source": [
    "pepe = Person()\n",
    "pepe.set_name('Eduardo')\n",
    "pepe.set_location('Argentina')\n",
    "\n",
    "print('{} vive en {} y trabaja en el departamento de {}'.format(pepe.name, pepe.location, pepe.department))"
   ]
  },
  {
   "cell_type": "code",
   "execution_count": 82,
   "metadata": {},
   "outputs": [
    {
     "data": {
      "text/plain": [
       "[2, 3, 2, 1]"
      ]
     },
     "execution_count": 82,
     "metadata": {},
     "output_type": "execute_result"
    }
   ],
   "source": [
    "x = [2,3,3,5]\n",
    "y = [5,34,2,1]\n",
    "mappear = map(min, x, y)\n",
    "list(mappear)"
   ]
  },
  {
   "cell_type": "code",
   "execution_count": 81,
   "metadata": {},
   "outputs": [
    {
     "data": {
      "text/plain": [
       "['Dr.Brooks', 'Dr.Collins-Thompson', 'Dr.Vinod', 'Dr.Romero']"
      ]
     },
     "execution_count": 81,
     "metadata": {},
     "output_type": "execute_result"
    }
   ],
   "source": [
    "people = ['Dr. Christopher Brooks', 'Dr. Kevyn Collins-Thompson', 'Dr. VG Vinod Vydiswaran', 'Dr. Daniel Romero']\n",
    "\n",
    "def split_title_and_name(person):\n",
    "    title = person.split()[0]\n",
    "    lastname = person.split()[2]\n",
    "    return title + lastname\n",
    "\n",
    "list(map(split_title_and_name, people))"
   ]
  },
  {
   "cell_type": "code",
   "execution_count": 84,
   "metadata": {},
   "outputs": [
    {
     "data": {
      "text/plain": [
       "['Dr.Brooks', 'Dr.Collins-Thompson', 'Dr.Vinod', 'Dr.Romero']"
      ]
     },
     "execution_count": 84,
     "metadata": {},
     "output_type": "execute_result"
    }
   ],
   "source": [
    "people = ['Dr. Christopher Brooks', 'Dr. Kevyn Collins-Thompson', 'Dr. VG Vinod Vydiswaran', 'Dr. Daniel Romero']\n",
    "\n",
    "def split_title_lastname(person):\n",
    "    title = person.splot()[0]\n",
    "    name = person.split()[1]\n",
    "    return title + name \n",
    "\n",
    "list(map(split_title_and_name, people))\n",
    "\n"
   ]
  },
  {
   "cell_type": "code",
   "execution_count": 85,
   "metadata": {},
   "outputs": [],
   "source": [
    "# lambda es una funcion anonima\n",
    "my_function = lambda a, b, c : a + b"
   ]
  },
  {
   "cell_type": "code",
   "execution_count": 86,
   "metadata": {},
   "outputs": [
    {
     "data": {
      "text/plain": [
       "5"
      ]
     },
     "execution_count": 86,
     "metadata": {},
     "output_type": "execute_result"
    }
   ],
   "source": [
    "my_function (2,3,4)"
   ]
  },
  {
   "cell_type": "code",
   "execution_count": 91,
   "metadata": {},
   "outputs": [
    {
     "data": {
      "text/plain": [
       "9"
      ]
     },
     "execution_count": 91,
     "metadata": {},
     "output_type": "execute_result"
    }
   ],
   "source": [
    "function = lambda a,b,c : a + b + c\n",
    "function(3,4,2)"
   ]
  },
  {
   "cell_type": "code",
   "execution_count": 94,
   "metadata": {},
   "outputs": [],
   "source": [
    "lowercase = 'abcdefghijklmnopqrstuvwxyz'\n",
    "digits = '0123456789'\n"
   ]
  },
  {
   "cell_type": "code",
   "execution_count": 102,
   "metadata": {},
   "outputs": [
    {
     "data": {
      "text/plain": [
       "['00aa',\n",
       " '00ab',\n",
       " '00ac',\n",
       " '00ad',\n",
       " '00ba',\n",
       " '00bb',\n",
       " '00bc',\n",
       " '00bd',\n",
       " '00ca',\n",
       " '00cb',\n",
       " '00cc',\n",
       " '00cd',\n",
       " '00da',\n",
       " '00db',\n",
       " '00dc',\n",
       " '00dd',\n",
       " '01aa',\n",
       " '01ab',\n",
       " '01ac',\n",
       " '01ad',\n",
       " '01ba',\n",
       " '01bb',\n",
       " '01bc',\n",
       " '01bd',\n",
       " '01ca',\n",
       " '01cb',\n",
       " '01cc',\n",
       " '01cd',\n",
       " '01da',\n",
       " '01db',\n",
       " '01dc',\n",
       " '01dd',\n",
       " '02aa',\n",
       " '02ab',\n",
       " '02ac',\n",
       " '02ad',\n",
       " '02ba',\n",
       " '02bb',\n",
       " '02bc',\n",
       " '02bd',\n",
       " '02ca',\n",
       " '02cb',\n",
       " '02cc',\n",
       " '02cd',\n",
       " '02da',\n",
       " '02db',\n",
       " '02dc',\n",
       " '02dd',\n",
       " '03aa',\n",
       " '03ab',\n",
       " '03ac',\n",
       " '03ad',\n",
       " '03ba',\n",
       " '03bb',\n",
       " '03bc',\n",
       " '03bd',\n",
       " '03ca',\n",
       " '03cb',\n",
       " '03cc',\n",
       " '03cd',\n",
       " '03da',\n",
       " '03db',\n",
       " '03dc',\n",
       " '03dd',\n",
       " '10aa',\n",
       " '10ab',\n",
       " '10ac',\n",
       " '10ad',\n",
       " '10ba',\n",
       " '10bb',\n",
       " '10bc',\n",
       " '10bd',\n",
       " '10ca',\n",
       " '10cb',\n",
       " '10cc',\n",
       " '10cd',\n",
       " '10da',\n",
       " '10db',\n",
       " '10dc',\n",
       " '10dd',\n",
       " '11aa',\n",
       " '11ab',\n",
       " '11ac',\n",
       " '11ad',\n",
       " '11ba',\n",
       " '11bb',\n",
       " '11bc',\n",
       " '11bd',\n",
       " '11ca',\n",
       " '11cb',\n",
       " '11cc',\n",
       " '11cd',\n",
       " '11da',\n",
       " '11db',\n",
       " '11dc',\n",
       " '11dd',\n",
       " '12aa',\n",
       " '12ab',\n",
       " '12ac',\n",
       " '12ad',\n",
       " '12ba',\n",
       " '12bb',\n",
       " '12bc',\n",
       " '12bd',\n",
       " '12ca',\n",
       " '12cb',\n",
       " '12cc',\n",
       " '12cd',\n",
       " '12da',\n",
       " '12db',\n",
       " '12dc',\n",
       " '12dd',\n",
       " '13aa',\n",
       " '13ab',\n",
       " '13ac',\n",
       " '13ad',\n",
       " '13ba',\n",
       " '13bb',\n",
       " '13bc',\n",
       " '13bd',\n",
       " '13ca',\n",
       " '13cb',\n",
       " '13cc',\n",
       " '13cd',\n",
       " '13da',\n",
       " '13db',\n",
       " '13dc',\n",
       " '13dd',\n",
       " '20aa',\n",
       " '20ab',\n",
       " '20ac',\n",
       " '20ad',\n",
       " '20ba',\n",
       " '20bb',\n",
       " '20bc',\n",
       " '20bd',\n",
       " '20ca',\n",
       " '20cb',\n",
       " '20cc',\n",
       " '20cd',\n",
       " '20da',\n",
       " '20db',\n",
       " '20dc',\n",
       " '20dd',\n",
       " '21aa',\n",
       " '21ab',\n",
       " '21ac',\n",
       " '21ad',\n",
       " '21ba',\n",
       " '21bb',\n",
       " '21bc',\n",
       " '21bd',\n",
       " '21ca',\n",
       " '21cb',\n",
       " '21cc',\n",
       " '21cd',\n",
       " '21da',\n",
       " '21db',\n",
       " '21dc',\n",
       " '21dd',\n",
       " '22aa',\n",
       " '22ab',\n",
       " '22ac',\n",
       " '22ad',\n",
       " '22ba',\n",
       " '22bb',\n",
       " '22bc',\n",
       " '22bd',\n",
       " '22ca',\n",
       " '22cb',\n",
       " '22cc',\n",
       " '22cd',\n",
       " '22da',\n",
       " '22db',\n",
       " '22dc',\n",
       " '22dd',\n",
       " '23aa',\n",
       " '23ab',\n",
       " '23ac',\n",
       " '23ad',\n",
       " '23ba',\n",
       " '23bb',\n",
       " '23bc',\n",
       " '23bd',\n",
       " '23ca',\n",
       " '23cb',\n",
       " '23cc',\n",
       " '23cd',\n",
       " '23da',\n",
       " '23db',\n",
       " '23dc',\n",
       " '23dd',\n",
       " '30aa',\n",
       " '30ab',\n",
       " '30ac',\n",
       " '30ad',\n",
       " '30ba',\n",
       " '30bb',\n",
       " '30bc',\n",
       " '30bd',\n",
       " '30ca',\n",
       " '30cb',\n",
       " '30cc',\n",
       " '30cd',\n",
       " '30da',\n",
       " '30db',\n",
       " '30dc',\n",
       " '30dd',\n",
       " '31aa',\n",
       " '31ab',\n",
       " '31ac',\n",
       " '31ad',\n",
       " '31ba',\n",
       " '31bb',\n",
       " '31bc',\n",
       " '31bd',\n",
       " '31ca',\n",
       " '31cb',\n",
       " '31cc',\n",
       " '31cd',\n",
       " '31da',\n",
       " '31db',\n",
       " '31dc',\n",
       " '31dd',\n",
       " '32aa',\n",
       " '32ab',\n",
       " '32ac',\n",
       " '32ad',\n",
       " '32ba',\n",
       " '32bb',\n",
       " '32bc',\n",
       " '32bd',\n",
       " '32ca',\n",
       " '32cb',\n",
       " '32cc',\n",
       " '32cd',\n",
       " '32da',\n",
       " '32db',\n",
       " '32dc',\n",
       " '32dd',\n",
       " '33aa',\n",
       " '33ab',\n",
       " '33ac',\n",
       " '33ad',\n",
       " '33ba',\n",
       " '33bb',\n",
       " '33bc',\n",
       " '33bd',\n",
       " '33ca',\n",
       " '33cb',\n",
       " '33cc',\n",
       " '33cd',\n",
       " '33da',\n",
       " '33db',\n",
       " '33dc',\n",
       " '33dd']"
      ]
     },
     "execution_count": 102,
     "metadata": {},
     "output_type": "execute_result"
    }
   ],
   "source": [
    "lowercase = 'abcd'\n",
    "digits = '0123'\n",
    "\n",
    "[a+b+c+d for a in digits for b in digits for c in lowercase for d in lowercase]\n"
   ]
  },
  {
   "cell_type": "code",
   "execution_count": 103,
   "metadata": {},
   "outputs": [],
   "source": [
    "import numpy as np\n",
    "import math"
   ]
  },
  {
   "cell_type": "code",
   "execution_count": 106,
   "metadata": {},
   "outputs": [
    {
     "name": "stdout",
     "output_type": "stream",
     "text": [
      "[1 2 3 2 1 2]\n",
      "1\n"
     ]
    }
   ],
   "source": [
    "a = np.array([1,2,3,2,1,2])\n",
    "print(a)\n",
    "print(a.ndim)"
   ]
  },
  {
   "cell_type": "code",
   "execution_count": 110,
   "metadata": {},
   "outputs": [
    {
     "name": "stdout",
     "output_type": "stream",
     "text": [
      "[[ 1  2  3  4  5]\n",
      " [ 6  7  8  9 10]]\n",
      "2\n"
     ]
    }
   ],
   "source": [
    "b = np.array([[1,2,3,4,5], [6,7,8,9,10]])\n",
    "print(b)\n",
    "print(b.ndim)"
   ]
  },
  {
   "cell_type": "code",
   "execution_count": 111,
   "metadata": {},
   "outputs": [
    {
     "data": {
      "text/plain": [
       "(2, 5)"
      ]
     },
     "execution_count": 111,
     "metadata": {},
     "output_type": "execute_result"
    }
   ],
   "source": [
    "b.shape"
   ]
  },
  {
   "cell_type": "code",
   "execution_count": 113,
   "metadata": {},
   "outputs": [
    {
     "data": {
      "text/plain": [
       "dtype('int64')"
      ]
     },
     "execution_count": 113,
     "metadata": {},
     "output_type": "execute_result"
    }
   ],
   "source": [
    "b.dtype"
   ]
  },
  {
   "cell_type": "code",
   "execution_count": 114,
   "metadata": {},
   "outputs": [
    {
     "data": {
      "text/plain": [
       "'int64'"
      ]
     },
     "execution_count": 114,
     "metadata": {},
     "output_type": "execute_result"
    }
   ],
   "source": [
    "b.dtype.name"
   ]
  },
  {
   "cell_type": "code",
   "execution_count": 115,
   "metadata": {},
   "outputs": [],
   "source": [
    "c = np.array([2.2, 5, 1.1])"
   ]
  },
  {
   "cell_type": "code",
   "execution_count": 116,
   "metadata": {},
   "outputs": [
    {
     "data": {
      "text/plain": [
       "array([2.2, 5. , 1.1])"
      ]
     },
     "execution_count": 116,
     "metadata": {},
     "output_type": "execute_result"
    }
   ],
   "source": [
    "c"
   ]
  },
  {
   "cell_type": "code",
   "execution_count": 119,
   "metadata": {},
   "outputs": [],
   "source": [
    "d = np.zeros((2,3))\n",
    "f = np.ones((2,3))"
   ]
  },
  {
   "cell_type": "code",
   "execution_count": 120,
   "metadata": {},
   "outputs": [
    {
     "name": "stdout",
     "output_type": "stream",
     "text": [
      "[[0. 0. 0.]\n",
      " [0. 0. 0.]]\n"
     ]
    }
   ],
   "source": [
    "print(d)"
   ]
  },
  {
   "cell_type": "code",
   "execution_count": 121,
   "metadata": {},
   "outputs": [
    {
     "name": "stdout",
     "output_type": "stream",
     "text": [
      "[[1. 1. 1.]\n",
      " [1. 1. 1.]]\n"
     ]
    }
   ],
   "source": [
    "print(f)"
   ]
  },
  {
   "cell_type": "code",
   "execution_count": 123,
   "metadata": {},
   "outputs": [
    {
     "data": {
      "text/plain": [
       "array([[0.50411651, 0.63448236, 0.84875658],\n",
       "       [0.73463596, 0.00987205, 0.93730912]])"
      ]
     },
     "execution_count": 123,
     "metadata": {},
     "output_type": "execute_result"
    }
   ],
   "source": [
    "np.random.rand(2,3)"
   ]
  },
  {
   "cell_type": "code",
   "execution_count": 127,
   "metadata": {},
   "outputs": [
    {
     "data": {
      "text/plain": [
       "array([ 0,  2,  4,  6,  8, 10, 12, 14, 16, 18, 20, 22, 24, 26, 28, 30, 32,\n",
       "       34, 36, 38, 40, 42, 44, 46, 48])"
      ]
     },
     "execution_count": 127,
     "metadata": {},
     "output_type": "execute_result"
    }
   ],
   "source": [
    "f = np.arange(0, 50, 2)\n",
    "f"
   ]
  },
  {
   "cell_type": "code",
   "execution_count": 131,
   "metadata": {},
   "outputs": [
    {
     "data": {
      "text/plain": [
       "array([ 0., 25., 50.])"
      ]
     },
     "execution_count": 131,
     "metadata": {},
     "output_type": "execute_result"
    }
   ],
   "source": [
    "# cantidad de numeros que estan entre 0 a 50\n",
    "np.linspace(0, 50, 3)"
   ]
  },
  {
   "cell_type": "code",
   "execution_count": 133,
   "metadata": {},
   "outputs": [
    {
     "name": "stdout",
     "output_type": "stream",
     "text": [
      "[ 9 18 27 36]\n",
      "[ 10  40  90 160]\n"
     ]
    }
   ],
   "source": [
    "a = np.array([10,20,30,40])\n",
    "b = np.array([1,2,3,4])\n",
    "\n",
    "c = a-b\n",
    "print(c)\n",
    "\n",
    "d = a*b\n",
    "print(d)"
   ]
  },
  {
   "cell_type": "code",
   "execution_count": 134,
   "metadata": {},
   "outputs": [],
   "source": [
    "f = np.array([0, -10, -5, 15, 0])\n",
    "c = (f -31) *5/9"
   ]
  },
  {
   "cell_type": "code",
   "execution_count": 135,
   "metadata": {},
   "outputs": [
    {
     "data": {
      "text/plain": [
       "array([  0, -10,  -5,  15,   0])"
      ]
     },
     "execution_count": 135,
     "metadata": {},
     "output_type": "execute_result"
    }
   ],
   "source": [
    "f"
   ]
  },
  {
   "cell_type": "code",
   "execution_count": 136,
   "metadata": {},
   "outputs": [
    {
     "data": {
      "text/plain": [
       "array([-17.22222222, -22.77777778, -20.        ,  -8.88888889,\n",
       "       -17.22222222])"
      ]
     },
     "execution_count": 136,
     "metadata": {},
     "output_type": "execute_result"
    }
   ],
   "source": [
    "c"
   ]
  },
  {
   "cell_type": "code",
   "execution_count": 137,
   "metadata": {},
   "outputs": [
    {
     "data": {
      "text/plain": [
       "array([False, False, False, False, False])"
      ]
     },
     "execution_count": 137,
     "metadata": {},
     "output_type": "execute_result"
    }
   ],
   "source": [
    "c > 10"
   ]
  },
  {
   "cell_type": "code",
   "execution_count": 138,
   "metadata": {},
   "outputs": [
    {
     "data": {
      "text/plain": [
       "array([False, False,  True, False, False])"
      ]
     },
     "execution_count": 138,
     "metadata": {},
     "output_type": "execute_result"
    }
   ],
   "source": [
    "c%2 == 0"
   ]
  },
  {
   "cell_type": "code",
   "execution_count": 139,
   "metadata": {},
   "outputs": [
    {
     "name": "stdout",
     "output_type": "stream",
     "text": [
      "[[2 0]\n",
      " [0 4]]\n"
     ]
    }
   ],
   "source": [
    "A = np.array([[1,1],[0,1]])\n",
    "B = np.array([[2,0],[3,4]])\n",
    "\n",
    "print(A*B)"
   ]
  },
  {
   "cell_type": "code",
   "execution_count": 140,
   "metadata": {},
   "outputs": [
    {
     "name": "stdout",
     "output_type": "stream",
     "text": [
      "[[5 4]\n",
      " [3 4]]\n"
     ]
    }
   ],
   "source": [
    "print(A@B) # multiplicación de matrices"
   ]
  },
  {
   "cell_type": "code",
   "execution_count": 141,
   "metadata": {},
   "outputs": [
    {
     "data": {
      "text/plain": [
       "(2, 2)"
      ]
     },
     "execution_count": 141,
     "metadata": {},
     "output_type": "execute_result"
    }
   ],
   "source": [
    "A.shape"
   ]
  },
  {
   "cell_type": "code",
   "execution_count": 5,
   "metadata": {},
   "outputs": [
    {
     "name": "stdout",
     "output_type": "stream",
     "text": [
      "int64\n"
     ]
    }
   ],
   "source": [
    "array1 = np.array([[1,2,3], [4,5,6]])\n",
    "print(array1.dtype)"
   ]
  },
  {
   "cell_type": "code",
   "execution_count": 6,
   "metadata": {},
   "outputs": [],
   "source": [
    "import numpy as np"
   ]
  },
  {
   "cell_type": "code",
   "execution_count": 7,
   "metadata": {},
   "outputs": [
    {
     "name": "stdout",
     "output_type": "stream",
     "text": [
      "float64\n"
     ]
    }
   ],
   "source": [
    "array2 = np.array([[1,2,3.4], [4,5,6]])\n",
    "print(array2.dtype)"
   ]
  },
  {
   "cell_type": "code",
   "execution_count": 9,
   "metadata": {},
   "outputs": [
    {
     "name": "stdout",
     "output_type": "stream",
     "text": [
      "[[ 2.   4.   6.4]\n",
      " [ 8.  10.  12. ]]\n",
      "float64\n"
     ]
    }
   ],
   "source": [
    "array3 = array1+array2\n",
    "print(array3)\n",
    "print(array3.dtype)"
   ]
  },
  {
   "cell_type": "code",
   "execution_count": 10,
   "metadata": {},
   "outputs": [
    {
     "name": "stdout",
     "output_type": "stream",
     "text": [
      "42.4\n",
      "12.0\n",
      "2.0\n",
      "7.066666666666666\n"
     ]
    }
   ],
   "source": [
    "print(array3.sum())\n",
    "print(array3.max())\n",
    "print(array3.min())\n",
    "print(array3.mean())"
   ]
  },
  {
   "cell_type": "code",
   "execution_count": 14,
   "metadata": {},
   "outputs": [
    {
     "name": "stdout",
     "output_type": "stream",
     "text": [
      "[[ 1  2  3  4  5]\n",
      " [ 6  7  8  9 10]\n",
      " [11 12 13 14 15]]\n"
     ]
    }
   ],
   "source": [
    "b = np.arange(1,16, 1).reshape(3,5)\n",
    "print(b)"
   ]
  },
  {
   "cell_type": "code",
   "execution_count": 15,
   "metadata": {},
   "outputs": [
    {
     "data": {
      "text/plain": [
       "5"
      ]
     },
     "execution_count": 15,
     "metadata": {},
     "output_type": "execute_result"
    }
   ],
   "source": [
    "a = np.array([1,3,5,7,9])\n",
    "a[2]"
   ]
  },
  {
   "cell_type": "code",
   "execution_count": 17,
   "metadata": {},
   "outputs": [
    {
     "data": {
      "text/plain": [
       "array([[1, 2],\n",
       "       [3, 4],\n",
       "       [5, 6]])"
      ]
     },
     "execution_count": 17,
     "metadata": {},
     "output_type": "execute_result"
    }
   ],
   "source": [
    "a = np.array([[1,2],[3,4],[5,6]])\n",
    "a"
   ]
  },
  {
   "cell_type": "code",
   "execution_count": 18,
   "metadata": {},
   "outputs": [
    {
     "data": {
      "text/plain": [
       "4"
      ]
     },
     "execution_count": 18,
     "metadata": {},
     "output_type": "execute_result"
    }
   ],
   "source": [
    "a[1,1]"
   ]
  },
  {
   "cell_type": "code",
   "execution_count": 19,
   "metadata": {},
   "outputs": [
    {
     "data": {
      "text/plain": [
       "array([1, 4, 6])"
      ]
     },
     "execution_count": 19,
     "metadata": {},
     "output_type": "execute_result"
    }
   ],
   "source": [
    "np.array([a[0,0], a[1,1,], a[2,1]])"
   ]
  },
  {
   "cell_type": "code",
   "execution_count": 20,
   "metadata": {},
   "outputs": [
    {
     "data": {
      "text/plain": [
       "array([[1, 2],\n",
       "       [3, 4],\n",
       "       [5, 6]])"
      ]
     },
     "execution_count": 20,
     "metadata": {},
     "output_type": "execute_result"
    }
   ],
   "source": [
    "## boolean indexing\n",
    "a"
   ]
  },
  {
   "cell_type": "code",
   "execution_count": 21,
   "metadata": {},
   "outputs": [
    {
     "name": "stdout",
     "output_type": "stream",
     "text": [
      "[[False False]\n",
      " [False False]\n",
      " [False  True]]\n"
     ]
    }
   ],
   "source": [
    "print(a>5)"
   ]
  },
  {
   "cell_type": "code",
   "execution_count": 22,
   "metadata": {},
   "outputs": [
    {
     "name": "stdout",
     "output_type": "stream",
     "text": [
      "[6]\n"
     ]
    }
   ],
   "source": [
    "print(a[a>5])"
   ]
  },
  {
   "cell_type": "code",
   "execution_count": 24,
   "metadata": {},
   "outputs": [
    {
     "name": "stdout",
     "output_type": "stream",
     "text": [
      "[0 1 2]\n"
     ]
    }
   ],
   "source": [
    "a = np.array([0,1,2,3,4,5])\n",
    "print(a[:3])"
   ]
  },
  {
   "cell_type": "code",
   "execution_count": 25,
   "metadata": {},
   "outputs": [
    {
     "name": "stdout",
     "output_type": "stream",
     "text": [
      "[0 1 2]\n"
     ]
    }
   ],
   "source": [
    "print(a[0:3])"
   ]
  },
  {
   "cell_type": "code",
   "execution_count": 26,
   "metadata": {},
   "outputs": [
    {
     "name": "stdout",
     "output_type": "stream",
     "text": [
      "[2 3]\n"
     ]
    }
   ],
   "source": [
    "print(a[2:4])"
   ]
  },
  {
   "cell_type": "code",
   "execution_count": 40,
   "metadata": {},
   "outputs": [
    {
     "data": {
      "text/plain": [
       "array([[ 1,  2,  3,  4],\n",
       "       [ 5,  6,  7,  8],\n",
       "       [ 9, 10, 11, 12]])"
      ]
     },
     "execution_count": 40,
     "metadata": {},
     "output_type": "execute_result"
    }
   ],
   "source": [
    "a = np.array([[1,2,3,4],[5,6,7,8], [9,10,11,12]])\n",
    "a"
   ]
  },
  {
   "cell_type": "code",
   "execution_count": 30,
   "metadata": {},
   "outputs": [
    {
     "data": {
      "text/plain": [
       "array([[1, 2, 3, 4],\n",
       "       [5, 6, 7, 8]])"
      ]
     },
     "execution_count": 30,
     "metadata": {},
     "output_type": "execute_result"
    }
   ],
   "source": [
    "a[:2]"
   ]
  },
  {
   "cell_type": "code",
   "execution_count": 35,
   "metadata": {},
   "outputs": [
    {
     "data": {
      "text/plain": [
       "array([[2, 3],\n",
       "       [6, 7]])"
      ]
     },
     "execution_count": 35,
     "metadata": {},
     "output_type": "execute_result"
    }
   ],
   "source": [
    "a[0:2,1:3] #rows and columns"
   ]
  },
  {
   "cell_type": "code",
   "execution_count": 41,
   "metadata": {},
   "outputs": [
    {
     "name": "stdout",
     "output_type": "stream",
     "text": [
      "2\n",
      "50\n",
      "50\n"
     ]
    }
   ],
   "source": [
    "sub_array = a[0:2,1:3]\n",
    "print(sub_array[0,0])\n",
    "sub_array[0,0] = 50\n",
    "print(sub_array[0,0])\n",
    "print(a[0,1])\n"
   ]
  },
  {
   "cell_type": "code",
   "execution_count": 45,
   "metadata": {},
   "outputs": [],
   "source": [
    "import pandas as pd\n",
    "\n",
    "df = pd.read_csv('../Datasets/Admission_Predict.csv')"
   ]
  },
  {
   "cell_type": "code",
   "execution_count": 56,
   "metadata": {},
   "outputs": [
    {
     "data": {
      "text/html": [
       "<div>\n",
       "<style scoped>\n",
       "    .dataframe tbody tr th:only-of-type {\n",
       "        vertical-align: middle;\n",
       "    }\n",
       "\n",
       "    .dataframe tbody tr th {\n",
       "        vertical-align: top;\n",
       "    }\n",
       "\n",
       "    .dataframe thead th {\n",
       "        text-align: right;\n",
       "    }\n",
       "</style>\n",
       "<table border=\"1\" class=\"dataframe\">\n",
       "  <thead>\n",
       "    <tr style=\"text-align: right;\">\n",
       "      <th></th>\n",
       "      <th>Serial No.</th>\n",
       "      <th>GRE Score</th>\n",
       "      <th>TOEFL Score</th>\n",
       "      <th>University Rating</th>\n",
       "      <th>SOP</th>\n",
       "      <th>LOR</th>\n",
       "      <th>CGPA</th>\n",
       "      <th>Research</th>\n",
       "      <th>Chance of Admit</th>\n",
       "    </tr>\n",
       "  </thead>\n",
       "  <tbody>\n",
       "    <tr>\n",
       "      <th>0</th>\n",
       "      <td>1</td>\n",
       "      <td>337</td>\n",
       "      <td>118</td>\n",
       "      <td>4</td>\n",
       "      <td>4.5</td>\n",
       "      <td>4.5</td>\n",
       "      <td>9.65</td>\n",
       "      <td>1</td>\n",
       "      <td>0.92</td>\n",
       "    </tr>\n",
       "    <tr>\n",
       "      <th>1</th>\n",
       "      <td>2</td>\n",
       "      <td>324</td>\n",
       "      <td>107</td>\n",
       "      <td>4</td>\n",
       "      <td>4.0</td>\n",
       "      <td>4.5</td>\n",
       "      <td>8.87</td>\n",
       "      <td>1</td>\n",
       "      <td>0.76</td>\n",
       "    </tr>\n",
       "    <tr>\n",
       "      <th>2</th>\n",
       "      <td>3</td>\n",
       "      <td>316</td>\n",
       "      <td>104</td>\n",
       "      <td>3</td>\n",
       "      <td>3.0</td>\n",
       "      <td>3.5</td>\n",
       "      <td>8.00</td>\n",
       "      <td>1</td>\n",
       "      <td>0.72</td>\n",
       "    </tr>\n",
       "    <tr>\n",
       "      <th>3</th>\n",
       "      <td>4</td>\n",
       "      <td>322</td>\n",
       "      <td>110</td>\n",
       "      <td>3</td>\n",
       "      <td>3.5</td>\n",
       "      <td>2.5</td>\n",
       "      <td>8.67</td>\n",
       "      <td>1</td>\n",
       "      <td>0.80</td>\n",
       "    </tr>\n",
       "    <tr>\n",
       "      <th>4</th>\n",
       "      <td>5</td>\n",
       "      <td>314</td>\n",
       "      <td>103</td>\n",
       "      <td>2</td>\n",
       "      <td>2.0</td>\n",
       "      <td>3.0</td>\n",
       "      <td>8.21</td>\n",
       "      <td>0</td>\n",
       "      <td>0.65</td>\n",
       "    </tr>\n",
       "  </tbody>\n",
       "</table>\n",
       "</div>"
      ],
      "text/plain": [
       "   Serial No.  GRE Score  TOEFL Score  University Rating  SOP  LOR   CGPA  \\\n",
       "0           1        337          118                  4  4.5   4.5  9.65   \n",
       "1           2        324          107                  4  4.0   4.5  8.87   \n",
       "2           3        316          104                  3  3.0   3.5  8.00   \n",
       "3           4        322          110                  3  3.5   2.5  8.67   \n",
       "4           5        314          103                  2  2.0   3.0  8.21   \n",
       "\n",
       "   Research  Chance of Admit   \n",
       "0         1              0.92  \n",
       "1         1              0.76  \n",
       "2         1              0.72  \n",
       "3         1              0.80  \n",
       "4         0              0.65  "
      ]
     },
     "execution_count": 56,
     "metadata": {},
     "output_type": "execute_result"
    }
   ],
   "source": [
    "graduate_admission = pd.read_csv('../Datasets/Admission_Predict.csv')\n",
    "graduate_admission.head()"
   ]
  },
  {
   "cell_type": "code",
   "execution_count": 59,
   "metadata": {},
   "outputs": [],
   "source": [
    "graduate_admission = graduate_admission['CGPA'].to_numpy()"
   ]
  },
  {
   "cell_type": "code",
   "execution_count": 62,
   "metadata": {},
   "outputs": [
    {
     "data": {
      "text/plain": [
       "(400,)"
      ]
     },
     "execution_count": 62,
     "metadata": {},
     "output_type": "execute_result"
    }
   ],
   "source": [
    "graduate_admission.shape"
   ]
  },
  {
   "cell_type": "code",
   "execution_count": 66,
   "metadata": {},
   "outputs": [
    {
     "data": {
      "text/plain": [
       "array([1.544 , 1.4192, 1.28  , 1.3872, 1.3136, 1.4944, 1.312 , 1.264 ,\n",
       "       1.28  , 1.376 , 1.344 , 1.44  , 1.456 , 1.28  , 1.312 , 1.328 ,\n",
       "       1.392 , 1.28  , 1.408 , 1.36  ])"
      ]
     },
     "execution_count": 66,
     "metadata": {},
     "output_type": "execute_result"
    }
   ],
   "source": [
    "graduate_admission = graduate_admission /10*4\n",
    "graduate_admission[0:20]"
   ]
  },
  {
   "cell_type": "code",
   "execution_count": 67,
   "metadata": {},
   "outputs": [
    {
     "data": {
      "text/plain": [
       "400"
      ]
     },
     "execution_count": 67,
     "metadata": {},
     "output_type": "execute_result"
    }
   ],
   "source": [
    "len(graduate_admission)"
   ]
  },
  {
   "cell_type": "code",
   "execution_count": 71,
   "metadata": {},
   "outputs": [
    {
     "data": {
      "text/plain": [
       "array([], dtype=float64)"
      ]
     },
     "execution_count": 71,
     "metadata": {},
     "output_type": "execute_result"
    }
   ],
   "source": [
    "graduate_admission[graduate_admission==1]"
   ]
  },
  {
   "cell_type": "code",
   "execution_count": 75,
   "metadata": {},
   "outputs": [
    {
     "data": {
      "text/html": [
       "<div>\n",
       "<style scoped>\n",
       "    .dataframe tbody tr th:only-of-type {\n",
       "        vertical-align: middle;\n",
       "    }\n",
       "\n",
       "    .dataframe tbody tr th {\n",
       "        vertical-align: top;\n",
       "    }\n",
       "\n",
       "    .dataframe thead th {\n",
       "        text-align: right;\n",
       "    }\n",
       "</style>\n",
       "<table border=\"1\" class=\"dataframe\">\n",
       "  <thead>\n",
       "    <tr style=\"text-align: right;\">\n",
       "      <th></th>\n",
       "      <th>Serial No.</th>\n",
       "      <th>GRE Score</th>\n",
       "      <th>TOEFL Score</th>\n",
       "      <th>University Rating</th>\n",
       "      <th>SOP</th>\n",
       "      <th>LOR</th>\n",
       "      <th>CGPA</th>\n",
       "      <th>Research</th>\n",
       "      <th>Chance of Admit</th>\n",
       "    </tr>\n",
       "  </thead>\n",
       "  <tbody>\n",
       "    <tr>\n",
       "      <th>0</th>\n",
       "      <td>1</td>\n",
       "      <td>337</td>\n",
       "      <td>118</td>\n",
       "      <td>4</td>\n",
       "      <td>4.5</td>\n",
       "      <td>4.5</td>\n",
       "      <td>9.65</td>\n",
       "      <td>1</td>\n",
       "      <td>0.92</td>\n",
       "    </tr>\n",
       "    <tr>\n",
       "      <th>1</th>\n",
       "      <td>2</td>\n",
       "      <td>324</td>\n",
       "      <td>107</td>\n",
       "      <td>4</td>\n",
       "      <td>4.0</td>\n",
       "      <td>4.5</td>\n",
       "      <td>8.87</td>\n",
       "      <td>1</td>\n",
       "      <td>0.76</td>\n",
       "    </tr>\n",
       "    <tr>\n",
       "      <th>2</th>\n",
       "      <td>3</td>\n",
       "      <td>316</td>\n",
       "      <td>104</td>\n",
       "      <td>3</td>\n",
       "      <td>3.0</td>\n",
       "      <td>3.5</td>\n",
       "      <td>8.00</td>\n",
       "      <td>1</td>\n",
       "      <td>0.72</td>\n",
       "    </tr>\n",
       "    <tr>\n",
       "      <th>3</th>\n",
       "      <td>4</td>\n",
       "      <td>322</td>\n",
       "      <td>110</td>\n",
       "      <td>3</td>\n",
       "      <td>3.5</td>\n",
       "      <td>2.5</td>\n",
       "      <td>8.67</td>\n",
       "      <td>1</td>\n",
       "      <td>0.80</td>\n",
       "    </tr>\n",
       "    <tr>\n",
       "      <th>4</th>\n",
       "      <td>5</td>\n",
       "      <td>314</td>\n",
       "      <td>103</td>\n",
       "      <td>2</td>\n",
       "      <td>2.0</td>\n",
       "      <td>3.0</td>\n",
       "      <td>8.21</td>\n",
       "      <td>0</td>\n",
       "      <td>0.65</td>\n",
       "    </tr>\n",
       "  </tbody>\n",
       "</table>\n",
       "</div>"
      ],
      "text/plain": [
       "   Serial No.  GRE Score  TOEFL Score  University Rating  SOP  LOR   CGPA  \\\n",
       "0           1        337          118                  4  4.5   4.5  9.65   \n",
       "1           2        324          107                  4  4.0   4.5  8.87   \n",
       "2           3        316          104                  3  3.0   3.5  8.00   \n",
       "3           4        322          110                  3  3.5   2.5  8.67   \n",
       "4           5        314          103                  2  2.0   3.0  8.21   \n",
       "\n",
       "   Research  Chance of Admit   \n",
       "0         1              0.92  \n",
       "1         1              0.76  \n",
       "2         1              0.72  \n",
       "3         1              0.80  \n",
       "4         0              0.65  "
      ]
     },
     "execution_count": 75,
     "metadata": {},
     "output_type": "execute_result"
    }
   ],
   "source": [
    "graduate_admission = pd.read_csv('../Datasets/Admission_Predict.csv')\n",
    "graduate_admission.head()"
   ]
  },
  {
   "cell_type": "code",
   "execution_count": 84,
   "metadata": {},
   "outputs": [
    {
     "name": "stdout",
     "output_type": "stream",
     "text": [
      "328.7350427350427\n",
      "302.2857142857143\n",
      "302.2857142857143\n"
     ]
    }
   ],
   "source": [
    "print(graduate_admission[graduate_admission['Chance of Admit ']>0.8]['GRE Score'].mean())\n",
    "print(graduate_admission[graduate_admission['Chance of Admit ']<0.4]['GRE Score'].mean())\n",
    "print(graduate_admission[graduate_admission['Chance of Admit ']<0.4]['GRE Score'].mean())"
   ]
  },
  {
   "cell_type": "code",
   "execution_count": 80,
   "metadata": {},
   "outputs": [
    {
     "data": {
      "text/plain": [
       "Index(['Serial No.', 'GRE Score', 'TOEFL Score', 'University Rating', 'SOP',\n",
       "       'LOR ', 'CGPA', 'Research', 'Chance of Admit '],\n",
       "      dtype='object')"
      ]
     },
     "execution_count": 80,
     "metadata": {},
     "output_type": "execute_result"
    }
   ],
   "source": [
    "graduate_admission.columns"
   ]
  },
  {
   "cell_type": "code",
   "execution_count": 85,
   "metadata": {},
   "outputs": [],
   "source": [
    "import re"
   ]
  },
  {
   "cell_type": "code",
   "execution_count": 87,
   "metadata": {},
   "outputs": [
    {
     "name": "stdout",
     "output_type": "stream",
     "text": [
      "Great\n"
     ]
    }
   ],
   "source": [
    "text = 'This is a good day'\n",
    "if re.search('good', text):\n",
    "    print('Great')\n",
    "else:\n",
    "    print('Its bad')"
   ]
  },
  {
   "cell_type": "code",
   "execution_count": 88,
   "metadata": {},
   "outputs": [
    {
     "data": {
      "text/plain": [
       "['', ' trabaja duro. ', ' tiene buenas notas. ', ' es exitoso.']"
      ]
     },
     "execution_count": 88,
     "metadata": {},
     "output_type": "execute_result"
    }
   ],
   "source": [
    "text = 'Eduardo trabaja duro. Eduardo tiene buenas notas. Eduardo es exitoso.'\n",
    "re.split('Eduardo', text)"
   ]
  },
  {
   "cell_type": "code",
   "execution_count": 89,
   "metadata": {},
   "outputs": [
    {
     "data": {
      "text/plain": [
       "['', ' trabaja duro. ', ' tiene buenas notas. ', ' es exitoso.']"
      ]
     },
     "execution_count": 89,
     "metadata": {},
     "output_type": "execute_result"
    }
   ],
   "source": [
    "text = 'Eduardo trabaja duro. Eduardo tiene buenas notas. Eduardo es exitoso.'\n",
    "text.split('Eduardo')"
   ]
  },
  {
   "cell_type": "code",
   "execution_count": 90,
   "metadata": {},
   "outputs": [
    {
     "data": {
      "text/plain": [
       "['Eduardo', 'Eduardo', 'Eduardo']"
      ]
     },
     "execution_count": 90,
     "metadata": {},
     "output_type": "execute_result"
    }
   ],
   "source": [
    "re.findall('Eduardo', text)"
   ]
  },
  {
   "cell_type": "code",
   "execution_count": 92,
   "metadata": {},
   "outputs": [
    {
     "data": {
      "text/plain": [
       "<re.Match object; span=(0, 7), match='Eduardo'>"
      ]
     },
     "execution_count": 92,
     "metadata": {},
     "output_type": "execute_result"
    }
   ],
   "source": [
    "text = 'Eduardo trabaja duro. Eduardo tiene buenas notas. Eduardo es exitoso.'\n",
    "re.search('^Eduardo', text)"
   ]
  },
  {
   "cell_type": "code",
   "execution_count": 128,
   "metadata": {},
   "outputs": [
    {
     "data": {
      "text/plain": [
       "['B', 'B', 'B', 'B', 'B', 'B', 'B']"
      ]
     },
     "execution_count": 128,
     "metadata": {},
     "output_type": "execute_result"
    }
   ],
   "source": [
    "grades = 'ACAAAABBBBBAACABCCB'\n",
    "re.findall('B', grades)"
   ]
  },
  {
   "cell_type": "code",
   "execution_count": 129,
   "metadata": {},
   "outputs": [
    {
     "data": {
      "text/plain": [
       "['A', 'A', 'A', 'A', 'A', 'B', 'B', 'B', 'B', 'B', 'A', 'A', 'A', 'B', 'B']"
      ]
     },
     "execution_count": 129,
     "metadata": {},
     "output_type": "execute_result"
    }
   ],
   "source": [
    "re.findall('[AB]', grades)"
   ]
  },
  {
   "cell_type": "code",
   "execution_count": 130,
   "metadata": {},
   "outputs": [
    {
     "data": {
      "text/plain": [
       "['AC', 'AB', 'AC', 'AB']"
      ]
     },
     "execution_count": 130,
     "metadata": {},
     "output_type": "execute_result"
    }
   ],
   "source": [
    "re.findall('[A][B-C]', grades)"
   ]
  },
  {
   "cell_type": "code",
   "execution_count": 131,
   "metadata": {},
   "outputs": [
    {
     "data": {
      "text/plain": [
       "['AC', 'AB', 'AC', 'AB']"
      ]
     },
     "execution_count": 131,
     "metadata": {},
     "output_type": "execute_result"
    }
   ],
   "source": [
    "re.findall('AB|AC', grades)"
   ]
  },
  {
   "cell_type": "code",
   "execution_count": 132,
   "metadata": {},
   "outputs": [
    {
     "data": {
      "text/plain": [
       "['C', 'B', 'B', 'B', 'B', 'B', 'C', 'B', 'C', 'C', 'B']"
      ]
     },
     "execution_count": 132,
     "metadata": {},
     "output_type": "execute_result"
    }
   ],
   "source": [
    "re.findall('[^A]', grades)"
   ]
  },
  {
   "cell_type": "code",
   "execution_count": 133,
   "metadata": {},
   "outputs": [
    {
     "data": {
      "text/plain": [
       "[]"
      ]
     },
     "execution_count": 133,
     "metadata": {},
     "output_type": "execute_result"
    }
   ],
   "source": [
    "# busca las el caracter que empieza y que no sea A, como no hay entonces devuelve una lista vacia\n",
    "re.findall('^[^A]', grades)"
   ]
  },
  {
   "cell_type": "code",
   "execution_count": 134,
   "metadata": {},
   "outputs": [
    {
     "data": {
      "text/plain": [
       "['AAAA', 'AA']"
      ]
     },
     "execution_count": 134,
     "metadata": {},
     "output_type": "execute_result"
    }
   ],
   "source": [
    "# minima y maxima cantidad de veces que A aparece repetida\n",
    "re.findall('A{2,10}', grades)"
   ]
  },
  {
   "cell_type": "code",
   "execution_count": 135,
   "metadata": {},
   "outputs": [
    {
     "data": {
      "text/plain": [
       "'ACAAAABBBBBAACABCCB'"
      ]
     },
     "execution_count": 135,
     "metadata": {},
     "output_type": "execute_result"
    }
   ],
   "source": [
    "grades"
   ]
  },
  {
   "cell_type": "code",
   "execution_count": 136,
   "metadata": {},
   "outputs": [
    {
     "data": {
      "text/plain": [
       "['AA', 'AA', 'AA']"
      ]
     },
     "execution_count": 136,
     "metadata": {},
     "output_type": "execute_result"
    }
   ],
   "source": [
    "# muestra las AA \n",
    "re.findall('A{1,1}A{1,1}', grades)"
   ]
  },
  {
   "cell_type": "code",
   "execution_count": 137,
   "metadata": {},
   "outputs": [
    {
     "data": {
      "text/plain": [
       "['AA', 'AA', 'AA']"
      ]
     },
     "execution_count": 137,
     "metadata": {},
     "output_type": "execute_result"
    }
   ],
   "source": [
    "re.findall('A{2}', grades)"
   ]
  },
  {
   "cell_type": "code",
   "execution_count": 138,
   "metadata": {},
   "outputs": [
    {
     "data": {
      "text/plain": [
       "['AA', 'AA', 'AA']"
      ]
     },
     "execution_count": 138,
     "metadata": {},
     "output_type": "execute_result"
    }
   ],
   "source": [
    "re.findall('AA', grades)"
   ]
  },
  {
   "cell_type": "code",
   "execution_count": 139,
   "metadata": {},
   "outputs": [
    {
     "data": {
      "text/plain": [
       "'ACAAAABBBBBAACABCCB'"
      ]
     },
     "execution_count": 139,
     "metadata": {},
     "output_type": "execute_result"
    }
   ],
   "source": [
    "grades"
   ]
  },
  {
   "cell_type": "code",
   "execution_count": 140,
   "metadata": {},
   "outputs": [
    {
     "data": {
      "text/plain": [
       "['ABCC']"
      ]
     },
     "execution_count": 140,
     "metadata": {},
     "output_type": "execute_result"
    }
   ],
   "source": [
    "re.findall('A{1,10}B{1,10}C{1,10}', grades)"
   ]
  },
  {
   "cell_type": "code",
   "execution_count": 142,
   "metadata": {},
   "outputs": [],
   "source": [
    "with open('../Datasets/ferpa.txt', 'r') as file:\n",
    "    wiky = file.read()"
   ]
  },
  {
   "cell_type": "code",
   "execution_count": 143,
   "metadata": {},
   "outputs": [
    {
     "data": {
      "text/plain": [
       "'Overview[edit]\\nFERPA gives parents access to their child\\'s education records, an opportunity to seek to have the records amended, and some control over the disclosure of information from the records. With several exceptions, schools must have a student\\'s consent prior to the disclosure of education records after that student is 18 years old. The law applies only to educational agencies and institutions that receive funds under a program administered by the U.S. Department of Education.\\n\\nOther regulations under this act, effective starting January 3, 2012, allow for greater disclosures of personal and directory student identifying information and regulate student IDs and e-mail addresses.[2] For example, schools may provide external companies with a student\\'s personally identifiable information without the student\\'s consent.[2]\\n\\nExamples of situations affected by FERPA include school employees divulging information to anyone other than the student about the student\\'s grades or behavior, and school work posted on a bulletin board with a grade. Generally, schools must have written permission from the parent or eligible student in order to release any information from a student\\'s education record.\\n\\nThis privacy policy also governs how state agencies transmit testing data to federal agencies, such as the Education Data Exchange Network.\\n\\nThis U.S. federal law also gave students 18 years of age or older, or students of any age if enrolled in any post-secondary educational institution, the right of privacy regarding grades, enrollment, and even billing information unless the school has specific permission from the student to share that specific type of information.\\n\\nFERPA also permits a school to disclose personally identifiable information from education records of an \"eligible student\" (a student age 18 or older or enrolled in a postsecondary institution at any age) to his or her parents if the student is a \"dependent student\" as that term is defined in Section 152 of the Internal Revenue Code. Generally, if either parent has claimed the student as a dependent on the parent\\'s most recent income tax statement, the school may non-consensually disclose the student\\'s education records to both parents.[3]\\n\\nThe law allowed students who apply to an educational institution such as graduate school permission to view recommendations submitted by others as part of the application. However, on standard application forms, students are given the option to waive this right.\\n\\nFERPA specifically excludes employees of an educational institution if they are not students.\\n\\nThe act is also referred to as the Buckley Amendment, for one of its proponents, Senator James L. Buckley of New York.\\n\\nAccess to public records[edit]\\nThe citing of FERPA to conceal public records that are not \"educational\" in nature has been widely criticized, including by the act\\'s primary Senate sponsor.[4] For example, in the Owasso Independent School District v. Falvo case, an important part of the debate was determining the relationship between peer-grading and \"education records\" as defined in FERPA. In the Court of Appeals, it was ruled that students placing grades on the work of other students made such work into an \"education record.\" Thus, peer-grading was determined as a violation of FERPA privacy policies because students had access to other students\\' academic performance without full consent.[5] However, when the case went to the Supreme Court, it was officially ruled that peer-grading was not a violation of FERPA. This is because a grade written on a student\\'s work does not become an \"education record\" until the teacher writes the final grade into a grade book.[6]\\n\\nStudent medical records[edit]\\nLegal experts have debated the issue of whether student medical records (for example records of therapy sessions with a therapist at an on-campus counseling center) might be released to the school administration under certain triggering events, such as when a student sued his college or university.[7][8]\\n\\nUsually, student medical treatment records will remain under the protection of FERPA, not the Health Insurance Portability and Accountability Act (HIPAA). This is due to the \"FERPA Exception\" written within HIPAA.[9]'"
      ]
     },
     "execution_count": 143,
     "metadata": {},
     "output_type": "execute_result"
    }
   ],
   "source": [
    "wiky"
   ]
  },
  {
   "cell_type": "code",
   "execution_count": 144,
   "metadata": {},
   "outputs": [
    {
     "data": {
      "text/plain": [
       "['Overview[edit]', 'records[edit]', 'records[edit]']"
      ]
     },
     "execution_count": 144,
     "metadata": {},
     "output_type": "execute_result"
    }
   ],
   "source": [
    "re.findall('[a-zA-z]{1,100}\\[edit\\]', wiky)"
   ]
  },
  {
   "cell_type": "code",
   "execution_count": 146,
   "metadata": {},
   "outputs": [
    {
     "data": {
      "text/plain": [
       "['Overview[edit]', 'records[edit]', 'records[edit]']"
      ]
     },
     "execution_count": 146,
     "metadata": {},
     "output_type": "execute_result"
    }
   ],
   "source": [
    "#w any letter de 1 a 100 veces seguido de la palabra edit\n",
    "re.findall('[\\w]{1,100}\\[edit\\]', wiky)"
   ]
  },
  {
   "cell_type": "code",
   "execution_count": 148,
   "metadata": {},
   "outputs": [
    {
     "data": {
      "text/plain": [
       "['Overview[edit]', 'records[edit]', 'records[edit]']"
      ]
     },
     "execution_count": 148,
     "metadata": {},
     "output_type": "execute_result"
    }
   ],
   "source": [
    "# * es cualquier caracter, \\ sirve para emparejar patrones\n",
    "re.findall('[\\w]*\\[edit\\]', wiky)"
   ]
  },
  {
   "cell_type": "code",
   "execution_count": 150,
   "metadata": {},
   "outputs": [
    {
     "data": {
      "text/plain": [
       "['Overview[edit]',\n",
       " 'Access to public records[edit]',\n",
       " 'Student medical records[edit]']"
      ]
     },
     "execution_count": 150,
     "metadata": {},
     "output_type": "execute_result"
    }
   ],
   "source": [
    "# * es cualquier caracter, \\ sirve para emparejar patrones (aca incluimos tmb el espacio en blanco)\n",
    "re.findall('[\\w ]*\\[edit\\]', wiky)"
   ]
  },
  {
   "cell_type": "code",
   "execution_count": 152,
   "metadata": {},
   "outputs": [
    {
     "name": "stdout",
     "output_type": "stream",
     "text": [
      "Overview\n",
      "Access to public records\n",
      "Student medical records\n"
     ]
    }
   ],
   "source": [
    "x = re.findall('[\\w ]*\\[edit\\]', wiky)\n",
    "for title in x:\n",
    "    print(title.split('[edit]')[0])"
   ]
  },
  {
   "cell_type": "code",
   "execution_count": 155,
   "metadata": {},
   "outputs": [
    {
     "data": {
      "text/plain": [
       "[('Overview', '[edit]'),\n",
       " ('Access to public records', '[edit]'),\n",
       " ('Student medical records', '[edit]')]"
      ]
     },
     "execution_count": 155,
     "metadata": {},
     "output_type": "execute_result"
    }
   ],
   "source": [
    "# Separa en Grupos de busqueda\n",
    "re.findall('([\\w ]*)(\\[edit\\])', wiky)"
   ]
  },
  {
   "cell_type": "code",
   "execution_count": 156,
   "metadata": {},
   "outputs": [
    {
     "data": {
      "text/plain": [
       "list"
      ]
     },
     "execution_count": 156,
     "metadata": {},
     "output_type": "execute_result"
    }
   ],
   "source": [
    "type(re.findall('([\\w ]*)(\\[edit\\])', wiky))"
   ]
  },
  {
   "cell_type": "code",
   "execution_count": 161,
   "metadata": {},
   "outputs": [
    {
     "name": "stdout",
     "output_type": "stream",
     "text": [
      "('Overview', '[edit]')\n",
      "('Access to public records', '[edit]')\n",
      "('Student medical records', '[edit]')\n"
     ]
    }
   ],
   "source": [
    "x = re.findall('([\\w ]*)(\\[edit\\])', wiky)\n",
    "for item in x:\n",
    "    print(item)"
   ]
  },
  {
   "cell_type": "code",
   "execution_count": 162,
   "metadata": {},
   "outputs": [
    {
     "name": "stdout",
     "output_type": "stream",
     "text": [
      "Overview\n",
      "Access to public records\n",
      "Student medical records\n"
     ]
    }
   ],
   "source": [
    "x = re.findall('([\\w ]*)(\\[edit\\])', wiky)\n",
    "for item in x:\n",
    "    print(item[0])"
   ]
  },
  {
   "cell_type": "code",
   "execution_count": 163,
   "metadata": {},
   "outputs": [
    {
     "data": {
      "text/plain": [
       "<callable_iterator at 0x7f30fbcd5370>"
      ]
     },
     "execution_count": 163,
     "metadata": {},
     "output_type": "execute_result"
    }
   ],
   "source": [
    "re.finditer('(?P<title>[\\w ]*)(?P<edit_link>\\[edit\\])', wiky)"
   ]
  },
  {
   "cell_type": "code",
   "execution_count": 164,
   "metadata": {},
   "outputs": [
    {
     "name": "stdout",
     "output_type": "stream",
     "text": [
      "Overview\n",
      "Access to public records\n",
      "Student medical records\n"
     ]
    }
   ],
   "source": [
    "# tiene titulo y tiene edit_link\n",
    "for item in re.finditer('(?P<title>[\\w ]*)(?P<edit_link>\\[edit\\])', wiky):\n",
    "    print(item.groupdict()['title'])"
   ]
  },
  {
   "cell_type": "code",
   "execution_count": 165,
   "metadata": {},
   "outputs": [
    {
     "name": "stdout",
     "output_type": "stream",
     "text": [
      "[edit]\n",
      "[edit]\n",
      "[edit]\n"
     ]
    }
   ],
   "source": [
    "\n",
    "for item in re.finditer('(?P<title>[\\w ]*)(?P<edit_link>\\[edit\\])', wiky):\n",
    "    print(item.groupdict()['edit_link'])"
   ]
  },
  {
   "cell_type": "code",
   "execution_count": 167,
   "metadata": {},
   "outputs": [
    {
     "data": {
      "text/plain": [
       "'Student medical records'"
      ]
     },
     "execution_count": 167,
     "metadata": {},
     "output_type": "execute_result"
    }
   ],
   "source": [
    "item.groupdict()['title']"
   ]
  },
  {
   "cell_type": "markdown",
   "metadata": {},
   "source": [
    "## Look-ahead and look behind"
   ]
  },
  {
   "cell_type": "code",
   "execution_count": 172,
   "metadata": {},
   "outputs": [
    {
     "name": "stdout",
     "output_type": "stream",
     "text": [
      "<re.Match object; span=(0, 8), match='Overview'>\n",
      "<re.Match object; span=(2715, 2739), match='Access to public records'>\n",
      "<re.Match object; span=(3692, 3715), match='Student medical records'>\n"
     ]
    }
   ],
   "source": [
    "x = re.finditer('(?P<title>[\\w ]+)(?=\\[edit\\])', wiky)\n",
    "for item in x:\n",
    "    print(item)"
   ]
  },
  {
   "cell_type": "code",
   "execution_count": 173,
   "metadata": {},
   "outputs": [],
   "source": [
    "with open('../Datasets/buddhist.txt', 'r') as file:\n",
    "    wiki = file.read()"
   ]
  },
  {
   "cell_type": "code",
   "execution_count": 174,
   "metadata": {},
   "outputs": [
    {
     "data": {
      "text/plain": [
       "'Buddhist universities and colleges in the United States\\nFrom Wikipedia, the free encyclopedia\\nJump to navigationJump to search\\n\\nThis article needs additional citations for verification. Please help improve this article by adding citations to reliable sources. Unsourced material may be challenged and removed.\\nFind sources: \"Buddhist universities and colleges in the United States\" – news · newspapers · books · scholar · JSTOR (December 2009) (Learn how and when to remove this template message)\\nThere are several Buddhist universities in the United States. Some of these have existed for decades and are accredited. Others are relatively new and are either in the process of being accredited or else have no formal accreditation. The list includes:\\n\\nDhammakaya Open University – located in Azusa, California, part of the Thai Wat Phra Dhammakaya[1]\\nDharmakirti College – located in Tucson, Arizona Now called Awam Tibetan Buddhist Institute (http://awaminstitute.org/)\\nDharma Realm Buddhist University – located in Ukiah, California\\nEwam Buddhist Institute – located in Arlee, Montana\\nNaropa University is located in Boulder, Colorado (Accredited by the Higher Learning Commission)\\nInstitute of Buddhist Studies – located in Berkeley, California\\nMaitripa College – located in Portland, Oregon\\nSoka University of America – located in Aliso Viejo, California\\nUniversity of the West – located in Rosemead, California\\nWon Institute of Graduate Studies – located in Glenside, Pennsylvania\\nReferences[edit]\\n^ Banchanon, Phongphiphat (3 February 2015). รู้จัก \"เครือข่ายธรรมกาย\" [Getting to know the Dhammakaya network]. Forbes Thailand (in Thai). Retrieved 11 November 2016.\\nExternal links[edit]\\nList of Buddhist Universities and Colleges in the world\\n'"
      ]
     },
     "execution_count": 174,
     "metadata": {},
     "output_type": "execute_result"
    }
   ],
   "source": [
    "wiki"
   ]
  },
  {
   "cell_type": "code",
   "execution_count": 180,
   "metadata": {},
   "outputs": [],
   "source": [
    "pattern = \"\"\" \n",
    "(?P<title>.*) #The university title\n",
    "(~\\ located\\ in\\ ) #an indicator of the location\n",
    "(?P<city>\\w*)   #city the university is in\n",
    "(,\\ )           #separador for the state\n",
    "(?P<state>\\w*)   #the state the city is located in\n",
    "\"\"\"\n",
    "for item in re.finditer(pattern, wiki, re.VERBOSE):\n",
    "    print(item.groupdict())\n",
    "\n"
   ]
  },
  {
   "cell_type": "code",
   "execution_count": 399,
   "metadata": {},
   "outputs": [],
   "source": [
    "with open('../Datasets/nytimeshealth.txt') as file:\n",
    "    health = file.read()\n"
   ]
  },
  {
   "cell_type": "code",
   "execution_count": 183,
   "metadata": {},
   "outputs": [],
   "source": [
    "pattern = \"#[\\w\\d]*(?=\\s)\""
   ]
  },
  {
   "cell_type": "code",
   "execution_count": 185,
   "metadata": {},
   "outputs": [
    {
     "data": {
      "text/plain": [
       "['#askwell',\n",
       " '#pregnancy',\n",
       " '#Colorado',\n",
       " '#VegetarianThanksgiving',\n",
       " '#FallPrevention',\n",
       " '#Ebola',\n",
       " '#Ebola',\n",
       " '#ebola',\n",
       " '#Ebola',\n",
       " '#Ebola',\n",
       " '#EbolaHysteria',\n",
       " '#AskNYT',\n",
       " '#Ebola',\n",
       " '#Ebola',\n",
       " '#Liberia',\n",
       " '#Excalibur',\n",
       " '#ebola',\n",
       " '#Ebola',\n",
       " '#dallas',\n",
       " '#nobelprize2014',\n",
       " '#ebola',\n",
       " '#ebola',\n",
       " '#monrovia',\n",
       " '#ebola',\n",
       " '#nobelprize2014',\n",
       " '#ebola',\n",
       " '#nobelprize2014',\n",
       " '#Medicine',\n",
       " '#Ebola',\n",
       " '#Monrovia',\n",
       " '#Ebola',\n",
       " '#smell',\n",
       " '#Ebola',\n",
       " '#Ebola',\n",
       " '#Ebola',\n",
       " '#Monrovia',\n",
       " '#Ebola',\n",
       " '#ebola',\n",
       " '#monrovia',\n",
       " '#liberia',\n",
       " '#benzos',\n",
       " '#ClimateChange',\n",
       " '#Whole',\n",
       " '#Wheat',\n",
       " '#Focaccia',\n",
       " '#Tomatoes',\n",
       " '#Olives',\n",
       " '#Recipes',\n",
       " '#Health',\n",
       " '#Ebola',\n",
       " '#Monrovia',\n",
       " '#Liberia',\n",
       " '#Ebola',\n",
       " '#Ebola',\n",
       " '#Liberia',\n",
       " '#Ebola',\n",
       " '#blood',\n",
       " '#Ebola',\n",
       " '#organtrafficking',\n",
       " '#EbolaOutbreak',\n",
       " '#SierraLeone',\n",
       " '#Freetown',\n",
       " '#SierraLeone',\n",
       " '#ebolaoutbreak',\n",
       " '#kenema',\n",
       " '#ebola',\n",
       " '#Ebola',\n",
       " '#ebola',\n",
       " '#ebola',\n",
       " '#Ebola',\n",
       " '#ASMR',\n",
       " '#AIDS2014',\n",
       " '#AIDS',\n",
       " '#MH17',\n",
       " '#benzos']"
      ]
     },
     "execution_count": 185,
     "metadata": {},
     "output_type": "execute_result"
    }
   ],
   "source": [
    "# get all the hash tags\n",
    "re.findall(pattern, health)"
   ]
  },
  {
   "cell_type": "code",
   "execution_count": 205,
   "metadata": {},
   "outputs": [],
   "source": [
    "x = 'www.aBC.com, abc.com, ab_c.de8f.com abc, abc..com'"
   ]
  },
  {
   "cell_type": "code",
   "execution_count": 210,
   "metadata": {},
   "outputs": [
    {
     "data": {
      "text/plain": [
       "['www.aBC.com', 'abc.com', 'ab_c.de', 'f.com abc']"
      ]
     },
     "execution_count": 210,
     "metadata": {},
     "output_type": "execute_result"
    }
   ],
   "source": [
    "re.findall('[a-zA-Z]{1,20}.[a-zA-Z]{1,20}.[a-zA-Z]{1,20}', x)"
   ]
  },
  {
   "cell_type": "code",
   "execution_count": 222,
   "metadata": {},
   "outputs": [
    {
     "data": {
      "text/plain": [
       "['www.aBC.com', ', abc', '.com,', ' ab_c.de8f', '.com abc', ', abc', '..com']"
      ]
     },
     "execution_count": 222,
     "metadata": {},
     "output_type": "execute_result"
    }
   ],
   "source": [
    "re.findall('\\w*.\\w*.\\w*', x)"
   ]
  },
  {
   "cell_type": "code",
   "execution_count": 227,
   "metadata": {},
   "outputs": [],
   "source": [
    "x = 'hola'"
   ]
  },
  {
   "cell_type": "code",
   "execution_count": 262,
   "metadata": {},
   "outputs": [],
   "source": [
    "x = 'unicorn'"
   ]
  },
  {
   "cell_type": "code",
   "execution_count": 263,
   "metadata": {},
   "outputs": [
    {
     "data": {
      "text/plain": [
       "['unicorn']"
      ]
     },
     "execution_count": 263,
     "metadata": {},
     "output_type": "execute_result"
    }
   ],
   "source": [
    "re.findall('^[aeiou].*[^aeiou]$', x)"
   ]
  },
  {
   "cell_type": "code",
   "execution_count": 499,
   "metadata": {},
   "outputs": [],
   "source": [
    "x = '0o117'"
   ]
  },
  {
   "cell_type": "code",
   "execution_count": 549,
   "metadata": {},
   "outputs": [
    {
     "data": {
      "text/plain": [
       "[]"
      ]
     },
     "execution_count": 549,
     "metadata": {},
     "output_type": "execute_result"
    }
   ],
   "source": [
    "re.findall('\\A0o\\d+$', x)"
   ]
  },
  {
   "cell_type": "code",
   "execution_count": 547,
   "metadata": {},
   "outputs": [],
   "source": [
    "x = '0o12f'"
   ]
  },
  {
   "cell_type": "code",
   "execution_count": 534,
   "metadata": {},
   "outputs": [
    {
     "data": {
      "text/plain": [
       "[]"
      ]
     },
     "execution_count": 534,
     "metadata": {},
     "output_type": "execute_result"
    }
   ],
   "source": [
    "re.findall('\\A0x\\w+|\\A0x\\d+', x)"
   ]
  },
  {
   "cell_type": "code",
   "execution_count": 558,
   "metadata": {},
   "outputs": [],
   "source": [
    "x = '0o12f'"
   ]
  },
  {
   "cell_type": "code",
   "execution_count": 559,
   "metadata": {},
   "outputs": [
    {
     "data": {
      "text/plain": [
       "[]"
      ]
     },
     "execution_count": 559,
     "metadata": {},
     "output_type": "execute_result"
    }
   ],
   "source": [
    "re.findall('\\A0o\\d+$|\\A0x\\w+|\\A0x\\d+', x)"
   ]
  },
  {
   "cell_type": "code",
   "execution_count": 430,
   "metadata": {},
   "outputs": [
    {
     "data": {
      "text/plain": [
       "[]"
      ]
     },
     "execution_count": 430,
     "metadata": {},
     "output_type": "execute_result"
    }
   ],
   "source": [
    "x = '*olas1234'\n",
    "re.findall('\\A[a-z]+[0-9]+|\\A[0-9].+', x)\n"
   ]
  },
  {
   "cell_type": "code",
   "execution_count": 497,
   "metadata": {},
   "outputs": [
    {
     "data": {
      "text/plain": [
       "['Px4122']"
      ]
     },
     "execution_count": 497,
     "metadata": {},
     "output_type": "execute_result"
    }
   ],
   "source": [
    "x = 'Px4122'\n",
    "re.findall('\\APx\\d+', x)\n"
   ]
  },
  {
   "cell_type": "code",
   "execution_count": 562,
   "metadata": {},
   "outputs": [],
   "source": [
    "def l2_dist(a, b):\n",
    "    result = ((a - b) * (a - b)).sum()\n",
    "    result = result ** 0.5\n",
    "    return result "
   ]
  },
  {
   "cell_type": "code",
   "execution_count": 565,
   "metadata": {},
   "outputs": [
    {
     "ename": "ValueError",
     "evalue": "operands could not be broadcast together with shapes (3,4) (3,5) ",
     "output_type": "error",
     "traceback": [
      "\u001b[0;31m---------------------------------------------------------------------------\u001b[0m",
      "\u001b[0;31mValueError\u001b[0m                                Traceback (most recent call last)",
      "\u001b[1;32m/media/eduardo/Datos/repo_personal/DataScience/coursera/exercises.ipynb Cell 149'\u001b[0m in \u001b[0;36m<cell line: 1>\u001b[0;34m()\u001b[0m\n\u001b[0;32m----> <a href='vscode-notebook-cell:/media/eduardo/Datos/repo_personal/DataScience/coursera/exercises.ipynb#ch0000158?line=0'>1</a>\u001b[0m l2_dist(a, b)\n",
      "\u001b[1;32m/media/eduardo/Datos/repo_personal/DataScience/coursera/exercises.ipynb Cell 148'\u001b[0m in \u001b[0;36ml2_dist\u001b[0;34m(a, b)\u001b[0m\n\u001b[1;32m      <a href='vscode-notebook-cell:/media/eduardo/Datos/repo_personal/DataScience/coursera/exercises.ipynb#ch0000153?line=0'>1</a>\u001b[0m \u001b[39mdef\u001b[39;00m \u001b[39ml2_dist\u001b[39m(a, b):\n\u001b[0;32m----> <a href='vscode-notebook-cell:/media/eduardo/Datos/repo_personal/DataScience/coursera/exercises.ipynb#ch0000153?line=1'>2</a>\u001b[0m     result \u001b[39m=\u001b[39m ((a \u001b[39m-\u001b[39;49m b) \u001b[39m*\u001b[39m (a \u001b[39m-\u001b[39m b))\u001b[39m.\u001b[39msum()\n\u001b[1;32m      <a href='vscode-notebook-cell:/media/eduardo/Datos/repo_personal/DataScience/coursera/exercises.ipynb#ch0000153?line=2'>3</a>\u001b[0m     result \u001b[39m=\u001b[39m result \u001b[39m*\u001b[39m\u001b[39m*\u001b[39m \u001b[39m0.5\u001b[39m\n\u001b[1;32m      <a href='vscode-notebook-cell:/media/eduardo/Datos/repo_personal/DataScience/coursera/exercises.ipynb#ch0000153?line=3'>4</a>\u001b[0m     \u001b[39mreturn\u001b[39;00m result\n",
      "\u001b[0;31mValueError\u001b[0m: operands could not be broadcast together with shapes (3,4) (3,5) "
     ]
    }
   ],
   "source": [
    "l2_dist(a, b)"
   ]
  },
  {
   "cell_type": "code",
   "execution_count": 571,
   "metadata": {},
   "outputs": [],
   "source": [
    "a1 = np.random.rand(4)\n",
    "a2 = np.random.rand(4, 1)\n",
    "a3 = np.array([[1, 2, 3, 4]])\n",
    "a4 = np.arange(1, 4, 1)\n",
    "a5 = np.linspace(1 ,10, 4)"
   ]
  },
  {
   "cell_type": "code",
   "execution_count": 572,
   "metadata": {},
   "outputs": [
    {
     "data": {
      "text/plain": [
       "(4,)"
      ]
     },
     "execution_count": 572,
     "metadata": {},
     "output_type": "execute_result"
    }
   ],
   "source": [
    "a1.shape"
   ]
  },
  {
   "cell_type": "code",
   "execution_count": 573,
   "metadata": {},
   "outputs": [
    {
     "data": {
      "text/plain": [
       "array([ 1.,  4.,  7., 10.])"
      ]
     },
     "execution_count": 573,
     "metadata": {},
     "output_type": "execute_result"
    }
   ],
   "source": [
    "a5"
   ]
  },
  {
   "cell_type": "code",
   "execution_count": 574,
   "metadata": {},
   "outputs": [
    {
     "name": "stdout",
     "output_type": "stream",
     "text": [
      "[[0 0 1]\n",
      " [1 1 1]]\n"
     ]
    }
   ],
   "source": [
    "import numpy as np\n",
    "\n",
    "old = np.array([[1, 1, 1], [1, 1, 1]])\n",
    "new = old\n",
    "new[0, :2] = 0\n",
    "\n",
    "print(old)"
   ]
  },
  {
   "cell_type": "code",
   "execution_count": 578,
   "metadata": {},
   "outputs": [
    {
     "data": {
      "text/plain": [
       "array([1, 2])"
      ]
     },
     "execution_count": 578,
     "metadata": {},
     "output_type": "execute_result"
    }
   ],
   "source": [
    "old = np.array([[1, 2, 3], [4, 5, 6]])\n",
    "old[0, :2] "
   ]
  },
  {
   "cell_type": "code",
   "execution_count": 579,
   "metadata": {},
   "outputs": [
    {
     "data": {
      "text/plain": [
       "array([[1, 2, 3],\n",
       "       [4, 5, 6]])"
      ]
     },
     "execution_count": 579,
     "metadata": {},
     "output_type": "execute_result"
    }
   ],
   "source": [
    "old"
   ]
  },
  {
   "cell_type": "code",
   "execution_count": 621,
   "metadata": {},
   "outputs": [
    {
     "data": {
      "text/plain": [
       "array([[63, 54,  8, 25, 45, 85],\n",
       "       [80, 25, 68, 91, 79, 57],\n",
       "       [70, 35, 35, 41, 89, 27],\n",
       "       [58, 91, 11, 58, 68, 57],\n",
       "       [26, 67, 15, 62, 68, 90],\n",
       "       [74, 36, 20, 78, 77, 72]])"
      ]
     },
     "execution_count": 621,
     "metadata": {},
     "output_type": "execute_result"
    }
   ],
   "source": [
    "x = np.array(np.random.random_sample(36)*100)\n",
    "y = np.array(list(map(int, x))).reshape(6,6)\n",
    "y"
   ]
  },
  {
   "cell_type": "code",
   "execution_count": 640,
   "metadata": {},
   "outputs": [
    {
     "data": {
      "text/plain": [
       "['AC']"
      ]
     },
     "execution_count": 640,
     "metadata": {},
     "output_type": "execute_result"
    }
   ],
   "source": [
    "import re \n",
    "s = 'ACBCAC'\n",
    "\n",
    "re.findall('^AC', s)"
   ]
  },
  {
   "cell_type": "code",
   "execution_count": 632,
   "metadata": {},
   "outputs": [
    {
     "data": {
      "text/plain": [
       "array([45, 85])"
      ]
     },
     "execution_count": 632,
     "metadata": {},
     "output_type": "execute_result"
    }
   ],
   "source": [
    "p[4:6]"
   ]
  },
  {
   "cell_type": "code",
   "execution_count": null,
   "metadata": {},
   "outputs": [
    {
     "data": {
      "text/plain": [
       "array([63, 54,  8, 25, 45, 85, 80, 25, 68, 91, 79, 57, 70, 35, 35, 41, 89,\n",
       "       27, 58, 91, 11, 58, 68, 57, 26, 67, 15, 62, 68, 90, 74, 36, 20, 78,\n",
       "       77, 72])"
      ]
     },
     "metadata": {},
     "output_type": "display_data"
    }
   ],
   "source": [
    "p = np.array(list(map(int, x)))\n",
    "p"
   ]
  },
  {
   "cell_type": "code",
   "execution_count": 643,
   "metadata": {},
   "outputs": [],
   "source": [
    "import re\n",
    "s = 'ACAABAACAAAB'\n",
    "result = re.findall('A{1,2}', s)\n",
    "L = len(result)"
   ]
  },
  {
   "cell_type": "code",
   "execution_count": 661,
   "metadata": {},
   "outputs": [
    {
     "data": {
      "text/plain": [
       "array([[13, 66],\n",
       "       [18, 89]])"
      ]
     },
     "execution_count": 661,
     "metadata": {},
     "output_type": "execute_result"
    }
   ],
   "source": [
    " x = np.array(np.random.random_sample(36))*100\n",
    " y = np.array(list(map(int, x))).reshape(6,6)\n",
    " y[1:3,1:3]"
   ]
  },
  {
   "cell_type": "code",
   "execution_count": 662,
   "metadata": {},
   "outputs": [
    {
     "data": {
      "text/plain": [
       "array([[91, 33, 87, 27, 68, 29],\n",
       "       [ 3, 13, 66,  9, 94, 15],\n",
       "       [60, 18, 89, 54, 80, 87],\n",
       "       [24, 15, 46, 61, 20, 67],\n",
       "       [66, 78, 84, 75, 23, 48],\n",
       "       [80, 32, 23, 72, 50, 29]])"
      ]
     },
     "execution_count": 662,
     "metadata": {},
     "output_type": "execute_result"
    }
   ],
   "source": [
    "y"
   ]
  },
  {
   "cell_type": "code",
   "execution_count": 663,
   "metadata": {},
   "outputs": [],
   "source": [
    "import re\n",
    "def names():\n",
    "    simple_string = \"\"\"Amy is 5 years old, and her sister Mary is 2 years old. \n",
    "    Ruth and Peter, their parents, have 3 kids.\"\"\"\n",
    "\n",
    "    # YOUR CODE HERE\n",
    "    return re.findall('[A-Z]\\w+', simple_string)\n",
    "\n",
    "    raise NotImplementedError()"
   ]
  },
  {
   "cell_type": "code",
   "execution_count": null,
   "metadata": {},
   "outputs": [],
   "source": [
    "import re\n",
    "def grades():\n",
    "    with open (\"assets/grades.txt\", \"r\") as file:\n",
    "        grades = file.read()\n",
    "\n",
    "    return re.findall('\\w+\\s\\w+: B', grades)\n",
    "    raise NotImplementedError()"
   ]
  },
  {
   "cell_type": "code",
   "execution_count": null,
   "metadata": {},
   "outputs": [],
   "source": [
    "host = re.findall('\\d+\\.\\d+\\.\\d+\\.\\d+', logdata)\n",
    "host"
   ]
  },
  {
   "cell_type": "code",
   "execution_count": null,
   "metadata": {},
   "outputs": [],
   "source": [
    "user_name = re.findall('[a-zA-Z]{2,10}\\d+', logdata)\n",
    "user_name"
   ]
  },
  {
   "cell_type": "code",
   "execution_count": null,
   "metadata": {},
   "outputs": [],
   "source": [
    "#time \n",
    "re.findall('\\d+/[a-zA-z]+/\\d+:\\d+:\\d+:\\d+\\s-\\d+', logdata)"
   ]
  },
  {
   "cell_type": "code",
   "execution_count": null,
   "metadata": {},
   "outputs": [],
   "source": [
    "#request \n",
    "re.findall('\\w+\\s/.+', logdata)"
   ]
  },
  {
   "cell_type": "code",
   "execution_count": null,
   "metadata": {},
   "outputs": [],
   "source": [
    "host = re.findall('\\d+\\.\\d+\\.\\d+\\.\\d+', logdata)\n",
    "user_name = len(re.findall('[a-zA-Z]{2,10}\\d+', logdata))\n",
    "time = re.findall('\\d+/[a-zA-z]+/\\d+:\\d+:\\d+:\\d+\\s-\\d+', logdata)\n",
    "request = re.findall('\\w+\\s/.+', logdata)\n"
   ]
  },
  {
   "cell_type": "markdown",
   "metadata": {},
   "source": [
    "## Series Data Structure"
   ]
  },
  {
   "cell_type": "code",
   "execution_count": 664,
   "metadata": {},
   "outputs": [],
   "source": [
    "import pandas as pd"
   ]
  },
  {
   "cell_type": "code",
   "execution_count": 665,
   "metadata": {},
   "outputs": [],
   "source": [
    "students  = ['Alice', 'Molly', 'Jack']"
   ]
  },
  {
   "cell_type": "code",
   "execution_count": 666,
   "metadata": {},
   "outputs": [
    {
     "data": {
      "text/plain": [
       "0    Alice\n",
       "1    Molly\n",
       "2     Jack\n",
       "dtype: object"
      ]
     },
     "execution_count": 666,
     "metadata": {},
     "output_type": "execute_result"
    }
   ],
   "source": [
    "pd.Series(students)"
   ]
  },
  {
   "cell_type": "code",
   "execution_count": 667,
   "metadata": {},
   "outputs": [
    {
     "data": {
      "text/plain": [
       "0    1\n",
       "1    2\n",
       "2    3\n",
       "dtype: int64"
      ]
     },
     "execution_count": 667,
     "metadata": {},
     "output_type": "execute_result"
    }
   ],
   "source": [
    "# A faster way to create a series is base on a numpy array instead of base on a list\n",
    "numbers = [1,2,3]\n",
    "pd.Series(numbers)\n"
   ]
  },
  {
   "cell_type": "code",
   "execution_count": 668,
   "metadata": {},
   "outputs": [],
   "source": [
    "# None in python indicate a lack of data"
   ]
  },
  {
   "cell_type": "code",
   "execution_count": 669,
   "metadata": {},
   "outputs": [
    {
     "data": {
      "text/plain": [
       "0    Alice\n",
       "1    Molly\n",
       "2     None\n",
       "dtype: object"
      ]
     },
     "execution_count": 669,
     "metadata": {},
     "output_type": "execute_result"
    }
   ],
   "source": [
    "\n",
    "students = ['Alice', 'Molly', None]\n",
    "pd.Series(students)\n",
    "# None is None in an object Serie"
   ]
  },
  {
   "cell_type": "code",
   "execution_count": 670,
   "metadata": {},
   "outputs": [
    {
     "data": {
      "text/plain": [
       "0    1.0\n",
       "1    2.0\n",
       "2    NaN\n",
       "dtype: float64"
      ]
     },
     "execution_count": 670,
     "metadata": {},
     "output_type": "execute_result"
    }
   ],
   "source": [
    "numbers = [1,2, None]\n",
    "pd.Series(numbers)\n",
    "# None is Nan in an float Serie"
   ]
  },
  {
   "cell_type": "code",
   "execution_count": 672,
   "metadata": {},
   "outputs": [
    {
     "data": {
      "text/plain": [
       "False"
      ]
     },
     "execution_count": 672,
     "metadata": {},
     "output_type": "execute_result"
    }
   ],
   "source": [
    "import numpy as np\n",
    "\n",
    "np.nan == None"
   ]
  },
  {
   "cell_type": "code",
   "execution_count": 674,
   "metadata": {},
   "outputs": [
    {
     "data": {
      "text/plain": [
       "False"
      ]
     },
     "execution_count": 674,
     "metadata": {},
     "output_type": "execute_result"
    }
   ],
   "source": [
    "np.nan == np.nan"
   ]
  },
  {
   "cell_type": "code",
   "execution_count": 676,
   "metadata": {},
   "outputs": [
    {
     "data": {
      "text/plain": [
       "True"
      ]
     },
     "execution_count": 676,
     "metadata": {},
     "output_type": "execute_result"
    }
   ],
   "source": [
    "np.isnan(np.nan)"
   ]
  },
  {
   "cell_type": "code",
   "execution_count": 677,
   "metadata": {},
   "outputs": [
    {
     "data": {
      "text/plain": [
       "Alice      Physics\n",
       "Jack     Chemistry\n",
       "Molly      English\n",
       "dtype: object"
      ]
     },
     "execution_count": 677,
     "metadata": {},
     "output_type": "execute_result"
    }
   ],
   "source": [
    "students_score = {'Alice':'Physics',\n",
    "                  'Jack':'Chemistry',\n",
    "                  'Molly': 'English'}\n",
    "s = pd.Series(students_score)\n",
    "s"
   ]
  },
  {
   "cell_type": "code",
   "execution_count": 678,
   "metadata": {},
   "outputs": [
    {
     "data": {
      "text/plain": [
       "Index(['Alice', 'Jack', 'Molly'], dtype='object')"
      ]
     },
     "execution_count": 678,
     "metadata": {},
     "output_type": "execute_result"
    }
   ],
   "source": [
    "s.index"
   ]
  },
  {
   "cell_type": "code",
   "execution_count": 681,
   "metadata": {},
   "outputs": [
    {
     "data": {
      "text/plain": [
       "0    (Alice, Brown)\n",
       "1     (Jack, While)\n",
       "2    (Molly, Green)\n",
       "dtype: object"
      ]
     },
     "execution_count": 681,
     "metadata": {},
     "output_type": "execute_result"
    }
   ],
   "source": [
    "students = [('Alice', 'Brown'), ('Jack', 'While'), ('Molly', 'Green')]\n",
    "pd.Series(students)"
   ]
  },
  {
   "cell_type": "code",
   "execution_count": 682,
   "metadata": {},
   "outputs": [
    {
     "data": {
      "text/plain": [
       "Jack       Physics\n",
       "Molly    Chemistry\n",
       "Alice      English\n",
       "dtype: object"
      ]
     },
     "execution_count": 682,
     "metadata": {},
     "output_type": "execute_result"
    }
   ],
   "source": [
    "s = pd.Series(['Physics', 'Chemistry', 'English'], index =['Jack', 'Molly', 'Alice'])\n",
    "s"
   ]
  },
  {
   "cell_type": "code",
   "execution_count": 684,
   "metadata": {},
   "outputs": [
    {
     "data": {
      "text/plain": [
       "Alice      Physics\n",
       "Jack     Chemistry\n",
       "Sam            NaN\n",
       "dtype: object"
      ]
     },
     "execution_count": 684,
     "metadata": {},
     "output_type": "execute_result"
    }
   ],
   "source": [
    "students_score = {'Alice':'Physics',\n",
    "                  'Jack':'Chemistry',\n",
    "                  'Molly': 'English'}\n",
    "s = pd.Series(students_score, index=['Alice', 'Jack', 'Sam'])\n",
    "s"
   ]
  },
  {
   "cell_type": "code",
   "execution_count": 694,
   "metadata": {},
   "outputs": [],
   "source": [
    "# Querying a Series by index\n",
    "# iloc for value\n",
    "# loc for index\n",
    "# iloc and loc ar attributes [] the call a get or set"
   ]
  },
  {
   "cell_type": "code",
   "execution_count": 688,
   "metadata": {},
   "outputs": [
    {
     "data": {
      "text/plain": [
       "Alice      Physics\n",
       "Jack     Chemistry\n",
       "Molly      English\n",
       "Sam        History\n",
       "dtype: object"
      ]
     },
     "execution_count": 688,
     "metadata": {},
     "output_type": "execute_result"
    }
   ],
   "source": [
    "import pandas as pd\n",
    "\n",
    "students_score = {'Alice':'Physics',\n",
    "                  'Jack':'Chemistry',\n",
    "                  'Molly': 'English',\n",
    "                  'Sam': 'History'}\n",
    "s = pd.Series(students_score)\n",
    "s\n"
   ]
  },
  {
   "cell_type": "code",
   "execution_count": 690,
   "metadata": {},
   "outputs": [
    {
     "data": {
      "text/plain": [
       "'History'"
      ]
     },
     "execution_count": 690,
     "metadata": {},
     "output_type": "execute_result"
    }
   ],
   "source": [
    "s.iloc[3]"
   ]
  },
  {
   "cell_type": "code",
   "execution_count": 692,
   "metadata": {},
   "outputs": [
    {
     "data": {
      "text/plain": [
       "'English'"
      ]
     },
     "execution_count": 692,
     "metadata": {},
     "output_type": "execute_result"
    }
   ],
   "source": [
    "s.loc['Molly']"
   ]
  },
  {
   "cell_type": "code",
   "execution_count": 697,
   "metadata": {},
   "outputs": [
    {
     "name": "stdout",
     "output_type": "stream",
     "text": [
      "History\n",
      "History\n"
     ]
    }
   ],
   "source": [
    "print(s[3])\n",
    "print(s.iloc[3])"
   ]
  },
  {
   "cell_type": "code",
   "execution_count": 698,
   "metadata": {},
   "outputs": [],
   "source": [
    "assert(s[3]==s.iloc[3])"
   ]
  },
  {
   "cell_type": "code",
   "execution_count": 701,
   "metadata": {},
   "outputs": [],
   "source": [
    "assert(s['Molly'] == s.loc['Molly'])"
   ]
  },
  {
   "cell_type": "code",
   "execution_count": 703,
   "metadata": {},
   "outputs": [],
   "source": [
    "# its better to use s.iloc[numeric_index] or s.loc['Index']"
   ]
  },
  {
   "cell_type": "code",
   "execution_count": 705,
   "metadata": {},
   "outputs": [],
   "source": [
    "class_code = {99: 'Physics',\n",
    "             100: 'Chemistry',\n",
    "             101: 'English',\n",
    "             102: 'History'}\n",
    "s = pd.Series(class_code)"
   ]
  },
  {
   "cell_type": "code",
   "execution_count": 706,
   "metadata": {},
   "outputs": [
    {
     "ename": "KeyError",
     "evalue": "0",
     "output_type": "error",
     "traceback": [
      "\u001b[0;31m---------------------------------------------------------------------------\u001b[0m",
      "\u001b[0;31mKeyError\u001b[0m                                  Traceback (most recent call last)",
      "File \u001b[0;32m~/.local/lib/python3.8/site-packages/pandas/core/indexes/base.py:3621\u001b[0m, in \u001b[0;36mIndex.get_loc\u001b[0;34m(self, key, method, tolerance)\u001b[0m\n\u001b[1;32m   3620\u001b[0m \u001b[39mtry\u001b[39;00m:\n\u001b[0;32m-> 3621\u001b[0m     \u001b[39mreturn\u001b[39;00m \u001b[39mself\u001b[39;49m\u001b[39m.\u001b[39;49m_engine\u001b[39m.\u001b[39;49mget_loc(casted_key)\n\u001b[1;32m   3622\u001b[0m \u001b[39mexcept\u001b[39;00m \u001b[39mKeyError\u001b[39;00m \u001b[39mas\u001b[39;00m err:\n",
      "File \u001b[0;32m~/.local/lib/python3.8/site-packages/pandas/_libs/index.pyx:136\u001b[0m, in \u001b[0;36mpandas._libs.index.IndexEngine.get_loc\u001b[0;34m()\u001b[0m\n",
      "File \u001b[0;32m~/.local/lib/python3.8/site-packages/pandas/_libs/index.pyx:163\u001b[0m, in \u001b[0;36mpandas._libs.index.IndexEngine.get_loc\u001b[0;34m()\u001b[0m\n",
      "File \u001b[0;32mpandas/_libs/hashtable_class_helper.pxi:2131\u001b[0m, in \u001b[0;36mpandas._libs.hashtable.Int64HashTable.get_item\u001b[0;34m()\u001b[0m\n",
      "File \u001b[0;32mpandas/_libs/hashtable_class_helper.pxi:2140\u001b[0m, in \u001b[0;36mpandas._libs.hashtable.Int64HashTable.get_item\u001b[0;34m()\u001b[0m\n",
      "\u001b[0;31mKeyError\u001b[0m: 0",
      "\nThe above exception was the direct cause of the following exception:\n",
      "\u001b[0;31mKeyError\u001b[0m                                  Traceback (most recent call last)",
      "\u001b[1;32m/media/eduardo/Datos/repo_personal/DataScience/coursera/exercises.ipynb Cell 195'\u001b[0m in \u001b[0;36m<cell line: 1>\u001b[0;34m()\u001b[0m\n\u001b[0;32m----> <a href='vscode-notebook-cell:/media/eduardo/Datos/repo_personal/DataScience/coursera/exercises.ipynb#ch0000210?line=0'>1</a>\u001b[0m s[\u001b[39m0\u001b[39;49m]\n",
      "File \u001b[0;32m~/.local/lib/python3.8/site-packages/pandas/core/series.py:958\u001b[0m, in \u001b[0;36mSeries.__getitem__\u001b[0;34m(self, key)\u001b[0m\n\u001b[1;32m    955\u001b[0m     \u001b[39mreturn\u001b[39;00m \u001b[39mself\u001b[39m\u001b[39m.\u001b[39m_values[key]\n\u001b[1;32m    957\u001b[0m \u001b[39melif\u001b[39;00m key_is_scalar:\n\u001b[0;32m--> 958\u001b[0m     \u001b[39mreturn\u001b[39;00m \u001b[39mself\u001b[39;49m\u001b[39m.\u001b[39;49m_get_value(key)\n\u001b[1;32m    960\u001b[0m \u001b[39mif\u001b[39;00m is_hashable(key):\n\u001b[1;32m    961\u001b[0m     \u001b[39m# Otherwise index.get_value will raise InvalidIndexError\u001b[39;00m\n\u001b[1;32m    962\u001b[0m     \u001b[39mtry\u001b[39;00m:\n\u001b[1;32m    963\u001b[0m         \u001b[39m# For labels that don't resolve as scalars like tuples and frozensets\u001b[39;00m\n",
      "File \u001b[0;32m~/.local/lib/python3.8/site-packages/pandas/core/series.py:1069\u001b[0m, in \u001b[0;36mSeries._get_value\u001b[0;34m(self, label, takeable)\u001b[0m\n\u001b[1;32m   1066\u001b[0m     \u001b[39mreturn\u001b[39;00m \u001b[39mself\u001b[39m\u001b[39m.\u001b[39m_values[label]\n\u001b[1;32m   1068\u001b[0m \u001b[39m# Similar to Index.get_value, but we do not fall back to positional\u001b[39;00m\n\u001b[0;32m-> 1069\u001b[0m loc \u001b[39m=\u001b[39m \u001b[39mself\u001b[39;49m\u001b[39m.\u001b[39;49mindex\u001b[39m.\u001b[39;49mget_loc(label)\n\u001b[1;32m   1070\u001b[0m \u001b[39mreturn\u001b[39;00m \u001b[39mself\u001b[39m\u001b[39m.\u001b[39mindex\u001b[39m.\u001b[39m_get_values_for_loc(\u001b[39mself\u001b[39m, loc, label)\n",
      "File \u001b[0;32m~/.local/lib/python3.8/site-packages/pandas/core/indexes/base.py:3623\u001b[0m, in \u001b[0;36mIndex.get_loc\u001b[0;34m(self, key, method, tolerance)\u001b[0m\n\u001b[1;32m   3621\u001b[0m     \u001b[39mreturn\u001b[39;00m \u001b[39mself\u001b[39m\u001b[39m.\u001b[39m_engine\u001b[39m.\u001b[39mget_loc(casted_key)\n\u001b[1;32m   3622\u001b[0m \u001b[39mexcept\u001b[39;00m \u001b[39mKeyError\u001b[39;00m \u001b[39mas\u001b[39;00m err:\n\u001b[0;32m-> 3623\u001b[0m     \u001b[39mraise\u001b[39;00m \u001b[39mKeyError\u001b[39;00m(key) \u001b[39mfrom\u001b[39;00m \u001b[39merr\u001b[39;00m\n\u001b[1;32m   3624\u001b[0m \u001b[39mexcept\u001b[39;00m \u001b[39mTypeError\u001b[39;00m:\n\u001b[1;32m   3625\u001b[0m     \u001b[39m# If we have a listlike key, _check_indexing_error will raise\u001b[39;00m\n\u001b[1;32m   3626\u001b[0m     \u001b[39m#  InvalidIndexError. Otherwise we fall through and re-raise\u001b[39;00m\n\u001b[1;32m   3627\u001b[0m     \u001b[39m#  the TypeError.\u001b[39;00m\n\u001b[1;32m   3628\u001b[0m     \u001b[39mself\u001b[39m\u001b[39m.\u001b[39m_check_indexing_error(key)\n",
      "\u001b[0;31mKeyError\u001b[0m: 0"
     ]
    }
   ],
   "source": [
    "s[0]"
   ]
  },
  {
   "cell_type": "code",
   "execution_count": 708,
   "metadata": {},
   "outputs": [
    {
     "name": "stdout",
     "output_type": "stream",
     "text": [
      "75.0\n"
     ]
    }
   ],
   "source": [
    "grades = pd.Series([90, 80, 70, 60])\n",
    "\n",
    "total = 0 \n",
    "for grade in grades:\n",
    "    total+=grade\n",
    "print(total/len(grades))"
   ]
  },
  {
   "cell_type": "code",
   "execution_count": 709,
   "metadata": {},
   "outputs": [
    {
     "name": "stdout",
     "output_type": "stream",
     "text": [
      "75.0\n"
     ]
    }
   ],
   "source": [
    "import numpy as np\n",
    "\n",
    "total = np.sum(grades)\n",
    "print(total/len(grades))"
   ]
  },
  {
   "cell_type": "code",
   "execution_count": 710,
   "metadata": {},
   "outputs": [
    {
     "data": {
      "text/plain": [
       "0    90\n",
       "1    80\n",
       "2    70\n",
       "3    60\n",
       "dtype: int64"
      ]
     },
     "execution_count": 710,
     "metadata": {},
     "output_type": "execute_result"
    }
   ],
   "source": [
    "grades"
   ]
  },
  {
   "cell_type": "code",
   "execution_count": 713,
   "metadata": {},
   "outputs": [],
   "source": [
    "grades.index = ['Eduardo', 'Jose', 'Francisco', 'Lautaro']"
   ]
  },
  {
   "cell_type": "code",
   "execution_count": 714,
   "metadata": {},
   "outputs": [
    {
     "data": {
      "text/plain": [
       "Eduardo      90\n",
       "Jose         80\n",
       "Francisco    70\n",
       "Lautaro      60\n",
       "dtype: int64"
      ]
     },
     "execution_count": 714,
     "metadata": {},
     "output_type": "execute_result"
    }
   ],
   "source": [
    "grades"
   ]
  },
  {
   "cell_type": "code",
   "execution_count": 715,
   "metadata": {},
   "outputs": [
    {
     "data": {
      "text/plain": [
       "60"
      ]
     },
     "execution_count": 715,
     "metadata": {},
     "output_type": "execute_result"
    }
   ],
   "source": [
    "grades.iloc[3]"
   ]
  },
  {
   "cell_type": "code",
   "execution_count": 716,
   "metadata": {},
   "outputs": [
    {
     "data": {
      "text/plain": [
       "70"
      ]
     },
     "execution_count": 716,
     "metadata": {},
     "output_type": "execute_result"
    }
   ],
   "source": [
    "grades.loc['Francisco']"
   ]
  },
  {
   "cell_type": "code",
   "execution_count": 717,
   "metadata": {},
   "outputs": [
    {
     "name": "stdout",
     "output_type": "stream",
     "text": [
      "75.0\n"
     ]
    }
   ],
   "source": [
    "import numpy as np\n",
    "\n",
    "total = np.sum(grades)\n",
    "print(total/len(grades))"
   ]
  },
  {
   "cell_type": "code",
   "execution_count": 718,
   "metadata": {},
   "outputs": [
    {
     "data": {
      "text/plain": [
       "0    959\n",
       "1    998\n",
       "2    721\n",
       "3    452\n",
       "4    433\n",
       "dtype: int64"
      ]
     },
     "execution_count": 718,
     "metadata": {},
     "output_type": "execute_result"
    }
   ],
   "source": [
    "numbers = pd.Series(np.random.randint(0,1000, 10000))\n",
    "numbers.head()"
   ]
  },
  {
   "cell_type": "code",
   "execution_count": 719,
   "metadata": {},
   "outputs": [
    {
     "data": {
      "text/plain": [
       "10000"
      ]
     },
     "execution_count": 719,
     "metadata": {},
     "output_type": "execute_result"
    }
   ],
   "source": [
    "len(numbers)"
   ]
  },
  {
   "cell_type": "code",
   "execution_count": 726,
   "metadata": {},
   "outputs": [
    {
     "name": "stdout",
     "output_type": "stream",
     "text": [
      "496.776\n",
      "496.776\n",
      "496.776\n",
      "496.776\n",
      "496.776\n",
      "496.776\n",
      "496.776\n",
      "4.66 ms ± 689 µs per loop (mean ± std. dev. of 7 runs, 1 loop each)\n"
     ]
    }
   ],
   "source": [
    "%%timeit -n 1\n",
    "#magic functions\n",
    "total = 0\n",
    "for number in numbers:\n",
    "    total += number\n",
    "print(total/len(numbers))"
   ]
  },
  {
   "cell_type": "code",
   "execution_count": 734,
   "metadata": {},
   "outputs": [
    {
     "name": "stdout",
     "output_type": "stream",
     "text": [
      "75.0\n",
      "75.0\n",
      "75.0\n",
      "75.0\n",
      "75.0\n",
      "75.0\n",
      "75.0\n",
      "1.06 ms ± 430 µs per loop (mean ± std. dev. of 7 runs, 1 loop each)\n"
     ]
    }
   ],
   "source": [
    "%%timeit -n 1\n",
    "#vectorization\n",
    "total = np.sum(grades)\n",
    "print(total/len(grades))"
   ]
  },
  {
   "cell_type": "code",
   "execution_count": 728,
   "metadata": {},
   "outputs": [
    {
     "data": {
      "text/plain": [
       "0    959\n",
       "1    998\n",
       "2    721\n",
       "3    452\n",
       "4    433\n",
       "dtype: int64"
      ]
     },
     "execution_count": 728,
     "metadata": {},
     "output_type": "execute_result"
    }
   ],
   "source": [
    "numbers.head()"
   ]
  },
  {
   "cell_type": "code",
   "execution_count": 729,
   "metadata": {},
   "outputs": [],
   "source": [
    "numbers+=2"
   ]
  },
  {
   "cell_type": "code",
   "execution_count": 730,
   "metadata": {},
   "outputs": [
    {
     "data": {
      "text/plain": [
       "0     961\n",
       "1    1000\n",
       "2     723\n",
       "3     454\n",
       "4     435\n",
       "dtype: int64"
      ]
     },
     "execution_count": 730,
     "metadata": {},
     "output_type": "execute_result"
    }
   ],
   "source": [
    "numbers.head()"
   ]
  },
  {
   "cell_type": "code",
   "execution_count": 737,
   "metadata": {},
   "outputs": [
    {
     "name": "stdout",
     "output_type": "stream",
     "text": [
      "72.3 ms ± 11.3 ms per loop (mean ± std. dev. of 7 runs, 10 loops each)\n"
     ]
    }
   ],
   "source": [
    "%%timeit -n 10\n",
    "s = pd.Series(np.random.randint(0, 1000, 1000))\n",
    "for label, value in s.iteritems():\n",
    "    s.loc[label]=value+2"
   ]
  },
  {
   "cell_type": "code",
   "execution_count": 739,
   "metadata": {},
   "outputs": [
    {
     "name": "stdout",
     "output_type": "stream",
     "text": [
      "518 µs ± 211 µs per loop (mean ± std. dev. of 7 runs, 10 loops each)\n"
     ]
    }
   ],
   "source": [
    "%%timeit -n 10\n",
    "s = pd.Series(np.random.randint(0, 1000, 1000))\n",
    "s+=2\n",
    "# Hay que vectorizar las operaciones usando numpy"
   ]
  },
  {
   "cell_type": "code",
   "execution_count": 740,
   "metadata": {},
   "outputs": [
    {
     "data": {
      "text/plain": [
       "0            1\n",
       "1            2\n",
       "2            3\n",
       "History    102\n",
       "dtype: int64"
      ]
     },
     "execution_count": 740,
     "metadata": {},
     "output_type": "execute_result"
    }
   ],
   "source": [
    "# Adding values in a Series using loc\n",
    "s = pd.Series([1,2,3])\n",
    "s.loc['History']=102\n",
    "s"
   ]
  },
  {
   "cell_type": "code",
   "execution_count": 741,
   "metadata": {},
   "outputs": [
    {
     "data": {
      "text/plain": [
       "0            1\n",
       "1            2\n",
       "2            3\n",
       "History    104\n",
       "dtype: int64"
      ]
     },
     "execution_count": 741,
     "metadata": {},
     "output_type": "execute_result"
    }
   ],
   "source": [
    "s = pd.Series([1,2,3])\n",
    "s.loc['History']=104\n",
    "s"
   ]
  },
  {
   "cell_type": "code",
   "execution_count": 742,
   "metadata": {},
   "outputs": [
    {
     "data": {
      "text/plain": [
       "Alice      Physics\n",
       "Jack     chemistry\n",
       "Molly      English\n",
       "Sam        History\n",
       "dtype: object"
      ]
     },
     "execution_count": 742,
     "metadata": {},
     "output_type": "execute_result"
    }
   ],
   "source": [
    "students_classes = pd.Series({\n",
    "    'Alice': 'Physics',\n",
    "    'Jack':'chemistry',\n",
    "    'Molly': 'English',\n",
    "    'Sam':'History'\n",
    "})\n",
    "students_classes"
   ]
  },
  {
   "cell_type": "code",
   "execution_count": 744,
   "metadata": {},
   "outputs": [
    {
     "data": {
      "text/plain": [
       "Kelly    Philosophy\n",
       "Kelly          Arts\n",
       "Kelly         Maths\n",
       "dtype: object"
      ]
     },
     "execution_count": 744,
     "metadata": {},
     "output_type": "execute_result"
    }
   ],
   "source": [
    "kelly_clases = pd.Series(['Philosophy', 'Arts', 'Maths'], index = ['Kelly', 'Kelly', 'Kelly'])\n",
    "kelly_clases"
   ]
  },
  {
   "cell_type": "code",
   "execution_count": 745,
   "metadata": {},
   "outputs": [
    {
     "name": "stderr",
     "output_type": "stream",
     "text": [
      "/tmp/ipykernel_6849/1762696661.py:1: FutureWarning: The series.append method is deprecated and will be removed from pandas in a future version. Use pandas.concat instead.\n",
      "  all_students = students_classes.append(kelly_clases)\n"
     ]
    },
    {
     "data": {
      "text/plain": [
       "Alice       Physics\n",
       "Jack      chemistry\n",
       "Molly       English\n",
       "Sam         History\n",
       "Kelly    Philosophy\n",
       "Kelly          Arts\n",
       "Kelly         Maths\n",
       "dtype: object"
      ]
     },
     "execution_count": 745,
     "metadata": {},
     "output_type": "execute_result"
    }
   ],
   "source": [
    "all_students = students_classes.append(kelly_clases)\n",
    "all_students"
   ]
  },
  {
   "cell_type": "code",
   "execution_count": 746,
   "metadata": {},
   "outputs": [
    {
     "data": {
      "text/plain": [
       "Alice      Physics\n",
       "Jack     chemistry\n",
       "Molly      English\n",
       "Sam        History\n",
       "dtype: object"
      ]
     },
     "execution_count": 746,
     "metadata": {},
     "output_type": "execute_result"
    }
   ],
   "source": [
    "students_classes"
   ]
  },
  {
   "cell_type": "code",
   "execution_count": 747,
   "metadata": {},
   "outputs": [],
   "source": [
    "students = pd.Series({'Eduardo': 'Maths',\n",
    "                      'Claudio': 'Chemistry',\n",
    "                      'Florencia': 'Nursery'})"
   ]
  },
  {
   "cell_type": "code",
   "execution_count": 749,
   "metadata": {},
   "outputs": [
    {
     "data": {
      "text/plain": [
       "Eduardo          Maths\n",
       "Claudio      Chemistry\n",
       "Florencia      Nursery\n",
       "dtype: object"
      ]
     },
     "execution_count": 749,
     "metadata": {},
     "output_type": "execute_result"
    }
   ],
   "source": [
    "students"
   ]
  },
  {
   "cell_type": "code",
   "execution_count": 748,
   "metadata": {},
   "outputs": [
    {
     "data": {
      "text/plain": [
       "'Chemistry'"
      ]
     },
     "execution_count": 748,
     "metadata": {},
     "output_type": "execute_result"
    }
   ],
   "source": [
    "students.loc['Claudio']"
   ]
  },
  {
   "cell_type": "code",
   "execution_count": 750,
   "metadata": {},
   "outputs": [
    {
     "data": {
      "text/plain": [
       "'Chemistry'"
      ]
     },
     "execution_count": 750,
     "metadata": {},
     "output_type": "execute_result"
    }
   ],
   "source": [
    "students.iloc[1]"
   ]
  },
  {
   "cell_type": "markdown",
   "metadata": {},
   "source": [
    "## Dataframe datastructure\n"
   ]
  },
  {
   "cell_type": "code",
   "execution_count": 754,
   "metadata": {},
   "outputs": [],
   "source": [
    "# Dataframe datastructure\n",
    "import pandas as pd\n",
    "\n",
    "record1 = pd.Series({'Name': 'Eduardo',\n",
    "                    'Class': 'Biology',\n",
    "                    'Score': 90})\n",
    "\n",
    "record2 = pd.Series({'Name': 'Julio',\n",
    "                        'Class': 'Maths',\n",
    "                        'Score': 80})\n",
    "\n",
    "record3 = pd.Series({'Name': 'Julio',\n",
    "                    'Class': 'Chemistry',\n",
    "                    'Score': 90})"
   ]
  },
  {
   "cell_type": "code",
   "execution_count": 757,
   "metadata": {},
   "outputs": [],
   "source": [
    "%timeit -n 10\n",
    "# Creamos un dataframe en base a una secuencia de Series\n",
    "df = pd.DataFrame([record1, record2, record3], index = ['school1', 'school2', 'school3'])"
   ]
  },
  {
   "cell_type": "code",
   "execution_count": 758,
   "metadata": {},
   "outputs": [
    {
     "data": {
      "text/html": [
       "<div>\n",
       "<style scoped>\n",
       "    .dataframe tbody tr th:only-of-type {\n",
       "        vertical-align: middle;\n",
       "    }\n",
       "\n",
       "    .dataframe tbody tr th {\n",
       "        vertical-align: top;\n",
       "    }\n",
       "\n",
       "    .dataframe thead th {\n",
       "        text-align: right;\n",
       "    }\n",
       "</style>\n",
       "<table border=\"1\" class=\"dataframe\">\n",
       "  <thead>\n",
       "    <tr style=\"text-align: right;\">\n",
       "      <th></th>\n",
       "      <th>Name</th>\n",
       "      <th>Class</th>\n",
       "      <th>Score</th>\n",
       "    </tr>\n",
       "  </thead>\n",
       "  <tbody>\n",
       "    <tr>\n",
       "      <th>school1</th>\n",
       "      <td>Eduardo</td>\n",
       "      <td>Biology</td>\n",
       "      <td>90</td>\n",
       "    </tr>\n",
       "    <tr>\n",
       "      <th>school2</th>\n",
       "      <td>Julio</td>\n",
       "      <td>Maths</td>\n",
       "      <td>80</td>\n",
       "    </tr>\n",
       "    <tr>\n",
       "      <th>school3</th>\n",
       "      <td>Julio</td>\n",
       "      <td>Chemistry</td>\n",
       "      <td>90</td>\n",
       "    </tr>\n",
       "  </tbody>\n",
       "</table>\n",
       "</div>"
      ],
      "text/plain": [
       "            Name      Class  Score\n",
       "school1  Eduardo    Biology     90\n",
       "school2    Julio      Maths     80\n",
       "school3    Julio  Chemistry     90"
      ]
     },
     "execution_count": 758,
     "metadata": {},
     "output_type": "execute_result"
    }
   ],
   "source": [
    "df"
   ]
  },
  {
   "cell_type": "code",
   "execution_count": 766,
   "metadata": {},
   "outputs": [],
   "source": [
    "# Creamos un dataframe en base a una lista de diccionarios\n",
    "df = pd.DataFrame([{'Name': 'Eduardo',\n",
    "       'Class': 'Biology',\n",
    "       'Score': 90},\n",
    "     {'Name': 'Julio',\n",
    "      'Class': 'Maths',\n",
    "      'Score': 80},\n",
    "     {'Name': 'Julio',\n",
    "      'Class': 'Chemistry',\n",
    "      'Score': 90}    \n",
    "     ], index =['school1', 'school2', 'school1'])"
   ]
  },
  {
   "cell_type": "code",
   "execution_count": 767,
   "metadata": {},
   "outputs": [
    {
     "data": {
      "text/html": [
       "<div>\n",
       "<style scoped>\n",
       "    .dataframe tbody tr th:only-of-type {\n",
       "        vertical-align: middle;\n",
       "    }\n",
       "\n",
       "    .dataframe tbody tr th {\n",
       "        vertical-align: top;\n",
       "    }\n",
       "\n",
       "    .dataframe thead th {\n",
       "        text-align: right;\n",
       "    }\n",
       "</style>\n",
       "<table border=\"1\" class=\"dataframe\">\n",
       "  <thead>\n",
       "    <tr style=\"text-align: right;\">\n",
       "      <th></th>\n",
       "      <th>Name</th>\n",
       "      <th>Class</th>\n",
       "      <th>Score</th>\n",
       "    </tr>\n",
       "  </thead>\n",
       "  <tbody>\n",
       "    <tr>\n",
       "      <th>school1</th>\n",
       "      <td>Eduardo</td>\n",
       "      <td>Biology</td>\n",
       "      <td>90</td>\n",
       "    </tr>\n",
       "    <tr>\n",
       "      <th>school2</th>\n",
       "      <td>Julio</td>\n",
       "      <td>Maths</td>\n",
       "      <td>80</td>\n",
       "    </tr>\n",
       "    <tr>\n",
       "      <th>school1</th>\n",
       "      <td>Julio</td>\n",
       "      <td>Chemistry</td>\n",
       "      <td>90</td>\n",
       "    </tr>\n",
       "  </tbody>\n",
       "</table>\n",
       "</div>"
      ],
      "text/plain": [
       "            Name      Class  Score\n",
       "school1  Eduardo    Biology     90\n",
       "school2    Julio      Maths     80\n",
       "school1    Julio  Chemistry     90"
      ]
     },
     "execution_count": 767,
     "metadata": {},
     "output_type": "execute_result"
    }
   ],
   "source": [
    "df"
   ]
  },
  {
   "cell_type": "code",
   "execution_count": 768,
   "metadata": {},
   "outputs": [
    {
     "data": {
      "text/plain": [
       "Name     Julio\n",
       "Class    Maths\n",
       "Score       80\n",
       "Name: school2, dtype: object"
      ]
     },
     "execution_count": 768,
     "metadata": {},
     "output_type": "execute_result"
    }
   ],
   "source": [
    "df.loc['school2']"
   ]
  },
  {
   "cell_type": "code",
   "execution_count": 769,
   "metadata": {},
   "outputs": [
    {
     "data": {
      "text/plain": [
       "pandas.core.series.Series"
      ]
     },
     "execution_count": 769,
     "metadata": {},
     "output_type": "execute_result"
    }
   ],
   "source": [
    "type(df.loc['school2'])"
   ]
  },
  {
   "cell_type": "code",
   "execution_count": 770,
   "metadata": {},
   "outputs": [
    {
     "data": {
      "text/html": [
       "<div>\n",
       "<style scoped>\n",
       "    .dataframe tbody tr th:only-of-type {\n",
       "        vertical-align: middle;\n",
       "    }\n",
       "\n",
       "    .dataframe tbody tr th {\n",
       "        vertical-align: top;\n",
       "    }\n",
       "\n",
       "    .dataframe thead th {\n",
       "        text-align: right;\n",
       "    }\n",
       "</style>\n",
       "<table border=\"1\" class=\"dataframe\">\n",
       "  <thead>\n",
       "    <tr style=\"text-align: right;\">\n",
       "      <th></th>\n",
       "      <th>Name</th>\n",
       "      <th>Class</th>\n",
       "      <th>Score</th>\n",
       "    </tr>\n",
       "  </thead>\n",
       "  <tbody>\n",
       "    <tr>\n",
       "      <th>school1</th>\n",
       "      <td>Eduardo</td>\n",
       "      <td>Biology</td>\n",
       "      <td>90</td>\n",
       "    </tr>\n",
       "    <tr>\n",
       "      <th>school1</th>\n",
       "      <td>Julio</td>\n",
       "      <td>Chemistry</td>\n",
       "      <td>90</td>\n",
       "    </tr>\n",
       "  </tbody>\n",
       "</table>\n",
       "</div>"
      ],
      "text/plain": [
       "            Name      Class  Score\n",
       "school1  Eduardo    Biology     90\n",
       "school1    Julio  Chemistry     90"
      ]
     },
     "execution_count": 770,
     "metadata": {},
     "output_type": "execute_result"
    }
   ],
   "source": [
    "df.loc['school1']"
   ]
  },
  {
   "cell_type": "code",
   "execution_count": 771,
   "metadata": {},
   "outputs": [
    {
     "data": {
      "text/plain": [
       "pandas.core.frame.DataFrame"
      ]
     },
     "execution_count": 771,
     "metadata": {},
     "output_type": "execute_result"
    }
   ],
   "source": [
    "type(df.loc['school1'])"
   ]
  },
  {
   "cell_type": "code",
   "execution_count": 772,
   "metadata": {},
   "outputs": [
    {
     "data": {
      "text/plain": [
       "school1    Eduardo\n",
       "school1      Julio\n",
       "Name: Name, dtype: object"
      ]
     },
     "execution_count": 772,
     "metadata": {},
     "output_type": "execute_result"
    }
   ],
   "source": [
    "df.loc['school1', 'Name']"
   ]
  },
  {
   "cell_type": "code",
   "execution_count": 773,
   "metadata": {},
   "outputs": [
    {
     "data": {
      "text/html": [
       "<div>\n",
       "<style scoped>\n",
       "    .dataframe tbody tr th:only-of-type {\n",
       "        vertical-align: middle;\n",
       "    }\n",
       "\n",
       "    .dataframe tbody tr th {\n",
       "        vertical-align: top;\n",
       "    }\n",
       "\n",
       "    .dataframe thead th {\n",
       "        text-align: right;\n",
       "    }\n",
       "</style>\n",
       "<table border=\"1\" class=\"dataframe\">\n",
       "  <thead>\n",
       "    <tr style=\"text-align: right;\">\n",
       "      <th></th>\n",
       "      <th>school1</th>\n",
       "      <th>school2</th>\n",
       "      <th>school1</th>\n",
       "    </tr>\n",
       "  </thead>\n",
       "  <tbody>\n",
       "    <tr>\n",
       "      <th>Name</th>\n",
       "      <td>Eduardo</td>\n",
       "      <td>Julio</td>\n",
       "      <td>Julio</td>\n",
       "    </tr>\n",
       "    <tr>\n",
       "      <th>Class</th>\n",
       "      <td>Biology</td>\n",
       "      <td>Maths</td>\n",
       "      <td>Chemistry</td>\n",
       "    </tr>\n",
       "    <tr>\n",
       "      <th>Score</th>\n",
       "      <td>90</td>\n",
       "      <td>80</td>\n",
       "      <td>90</td>\n",
       "    </tr>\n",
       "  </tbody>\n",
       "</table>\n",
       "</div>"
      ],
      "text/plain": [
       "       school1 school2    school1\n",
       "Name   Eduardo   Julio      Julio\n",
       "Class  Biology   Maths  Chemistry\n",
       "Score       90      80         90"
      ]
     },
     "execution_count": 773,
     "metadata": {},
     "output_type": "execute_result"
    }
   ],
   "source": [
    "df.T"
   ]
  },
  {
   "cell_type": "code",
   "execution_count": 774,
   "metadata": {},
   "outputs": [
    {
     "data": {
      "text/plain": [
       "Index(['Name', 'Class', 'Score'], dtype='object')"
      ]
     },
     "execution_count": 774,
     "metadata": {},
     "output_type": "execute_result"
    }
   ],
   "source": [
    "df.T.index"
   ]
  },
  {
   "cell_type": "code",
   "execution_count": 775,
   "metadata": {},
   "outputs": [
    {
     "data": {
      "text/plain": [
       "school1    Eduardo\n",
       "school2      Julio\n",
       "school1      Julio\n",
       "Name: Name, dtype: object"
      ]
     },
     "execution_count": 775,
     "metadata": {},
     "output_type": "execute_result"
    }
   ],
   "source": [
    "df.T.loc['Name']"
   ]
  },
  {
   "cell_type": "code",
   "execution_count": 776,
   "metadata": {},
   "outputs": [
    {
     "data": {
      "text/plain": [
       "school1    Eduardo\n",
       "school2      Julio\n",
       "school1      Julio\n",
       "Name: Name, dtype: object"
      ]
     },
     "execution_count": 776,
     "metadata": {},
     "output_type": "execute_result"
    }
   ],
   "source": [
    "df['Name']"
   ]
  },
  {
   "cell_type": "code",
   "execution_count": 777,
   "metadata": {},
   "outputs": [
    {
     "data": {
      "text/plain": [
       "pandas.core.series.Series"
      ]
     },
     "execution_count": 777,
     "metadata": {},
     "output_type": "execute_result"
    }
   ],
   "source": [
    "type(df['Name'])"
   ]
  },
  {
   "cell_type": "code",
   "execution_count": 779,
   "metadata": {},
   "outputs": [
    {
     "data": {
      "text/plain": [
       "school1    Eduardo\n",
       "school1      Julio\n",
       "Name: Name, dtype: object"
      ]
     },
     "execution_count": 779,
     "metadata": {},
     "output_type": "execute_result"
    }
   ],
   "source": [
    "df.loc['school1']['Name']"
   ]
  },
  {
   "cell_type": "code",
   "execution_count": 780,
   "metadata": {},
   "outputs": [
    {
     "data": {
      "text/plain": [
       "pandas.core.frame.DataFrame"
      ]
     },
     "execution_count": 780,
     "metadata": {},
     "output_type": "execute_result"
    }
   ],
   "source": [
    "type(df.loc['school1'])"
   ]
  },
  {
   "cell_type": "code",
   "execution_count": 781,
   "metadata": {},
   "outputs": [
    {
     "data": {
      "text/plain": [
       "pandas.core.series.Series"
      ]
     },
     "execution_count": 781,
     "metadata": {},
     "output_type": "execute_result"
    }
   ],
   "source": [
    "type(df.loc['school1']['Name'])"
   ]
  },
  {
   "cell_type": "code",
   "execution_count": 784,
   "metadata": {},
   "outputs": [
    {
     "data": {
      "text/html": [
       "<div>\n",
       "<style scoped>\n",
       "    .dataframe tbody tr th:only-of-type {\n",
       "        vertical-align: middle;\n",
       "    }\n",
       "\n",
       "    .dataframe tbody tr th {\n",
       "        vertical-align: top;\n",
       "    }\n",
       "\n",
       "    .dataframe thead th {\n",
       "        text-align: right;\n",
       "    }\n",
       "</style>\n",
       "<table border=\"1\" class=\"dataframe\">\n",
       "  <thead>\n",
       "    <tr style=\"text-align: right;\">\n",
       "      <th></th>\n",
       "      <th>Name</th>\n",
       "      <th>Class</th>\n",
       "      <th>Score</th>\n",
       "    </tr>\n",
       "  </thead>\n",
       "  <tbody>\n",
       "    <tr>\n",
       "      <th>school1</th>\n",
       "      <td>Eduardo</td>\n",
       "      <td>Biology</td>\n",
       "      <td>90</td>\n",
       "    </tr>\n",
       "    <tr>\n",
       "      <th>school2</th>\n",
       "      <td>Julio</td>\n",
       "      <td>Maths</td>\n",
       "      <td>80</td>\n",
       "    </tr>\n",
       "    <tr>\n",
       "      <th>school1</th>\n",
       "      <td>Julio</td>\n",
       "      <td>Chemistry</td>\n",
       "      <td>90</td>\n",
       "    </tr>\n",
       "  </tbody>\n",
       "</table>\n",
       "</div>"
      ],
      "text/plain": [
       "            Name      Class  Score\n",
       "school1  Eduardo    Biology     90\n",
       "school2    Julio      Maths     80\n",
       "school1    Julio  Chemistry     90"
      ]
     },
     "execution_count": 784,
     "metadata": {},
     "output_type": "execute_result"
    }
   ],
   "source": [
    "df.loc[:]"
   ]
  },
  {
   "cell_type": "code",
   "execution_count": 785,
   "metadata": {},
   "outputs": [
    {
     "data": {
      "text/html": [
       "<div>\n",
       "<style scoped>\n",
       "    .dataframe tbody tr th:only-of-type {\n",
       "        vertical-align: middle;\n",
       "    }\n",
       "\n",
       "    .dataframe tbody tr th {\n",
       "        vertical-align: top;\n",
       "    }\n",
       "\n",
       "    .dataframe thead th {\n",
       "        text-align: right;\n",
       "    }\n",
       "</style>\n",
       "<table border=\"1\" class=\"dataframe\">\n",
       "  <thead>\n",
       "    <tr style=\"text-align: right;\">\n",
       "      <th></th>\n",
       "      <th>Name</th>\n",
       "      <th>Class</th>\n",
       "      <th>Score</th>\n",
       "    </tr>\n",
       "  </thead>\n",
       "  <tbody>\n",
       "    <tr>\n",
       "      <th>school1</th>\n",
       "      <td>Eduardo</td>\n",
       "      <td>Biology</td>\n",
       "      <td>90</td>\n",
       "    </tr>\n",
       "    <tr>\n",
       "      <th>school1</th>\n",
       "      <td>Julio</td>\n",
       "      <td>Chemistry</td>\n",
       "      <td>90</td>\n",
       "    </tr>\n",
       "    <tr>\n",
       "      <th>school2</th>\n",
       "      <td>Julio</td>\n",
       "      <td>Maths</td>\n",
       "      <td>80</td>\n",
       "    </tr>\n",
       "  </tbody>\n",
       "</table>\n",
       "</div>"
      ],
      "text/plain": [
       "            Name      Class  Score\n",
       "school1  Eduardo    Biology     90\n",
       "school1    Julio  Chemistry     90\n",
       "school2    Julio      Maths     80"
      ]
     },
     "execution_count": 785,
     "metadata": {},
     "output_type": "execute_result"
    }
   ],
   "source": [
    "df.loc[['school1', 'school2']]"
   ]
  },
  {
   "cell_type": "code",
   "execution_count": 786,
   "metadata": {},
   "outputs": [
    {
     "data": {
      "text/html": [
       "<div>\n",
       "<style scoped>\n",
       "    .dataframe tbody tr th:only-of-type {\n",
       "        vertical-align: middle;\n",
       "    }\n",
       "\n",
       "    .dataframe tbody tr th {\n",
       "        vertical-align: top;\n",
       "    }\n",
       "\n",
       "    .dataframe thead th {\n",
       "        text-align: right;\n",
       "    }\n",
       "</style>\n",
       "<table border=\"1\" class=\"dataframe\">\n",
       "  <thead>\n",
       "    <tr style=\"text-align: right;\">\n",
       "      <th></th>\n",
       "      <th>Name</th>\n",
       "      <th>Class</th>\n",
       "    </tr>\n",
       "  </thead>\n",
       "  <tbody>\n",
       "    <tr>\n",
       "      <th>school1</th>\n",
       "      <td>Eduardo</td>\n",
       "      <td>Biology</td>\n",
       "    </tr>\n",
       "    <tr>\n",
       "      <th>school2</th>\n",
       "      <td>Julio</td>\n",
       "      <td>Maths</td>\n",
       "    </tr>\n",
       "    <tr>\n",
       "      <th>school1</th>\n",
       "      <td>Julio</td>\n",
       "      <td>Chemistry</td>\n",
       "    </tr>\n",
       "  </tbody>\n",
       "</table>\n",
       "</div>"
      ],
      "text/plain": [
       "            Name      Class\n",
       "school1  Eduardo    Biology\n",
       "school2    Julio      Maths\n",
       "school1    Julio  Chemistry"
      ]
     },
     "execution_count": 786,
     "metadata": {},
     "output_type": "execute_result"
    }
   ],
   "source": [
    "df.loc[:, ['Name', 'Class']]"
   ]
  },
  {
   "cell_type": "code",
   "execution_count": 791,
   "metadata": {},
   "outputs": [
    {
     "data": {
      "text/html": [
       "<div>\n",
       "<style scoped>\n",
       "    .dataframe tbody tr th:only-of-type {\n",
       "        vertical-align: middle;\n",
       "    }\n",
       "\n",
       "    .dataframe tbody tr th {\n",
       "        vertical-align: top;\n",
       "    }\n",
       "\n",
       "    .dataframe thead th {\n",
       "        text-align: right;\n",
       "    }\n",
       "</style>\n",
       "<table border=\"1\" class=\"dataframe\">\n",
       "  <thead>\n",
       "    <tr style=\"text-align: right;\">\n",
       "      <th></th>\n",
       "      <th>Name</th>\n",
       "      <th>Class</th>\n",
       "    </tr>\n",
       "  </thead>\n",
       "  <tbody>\n",
       "    <tr>\n",
       "      <th>school1</th>\n",
       "      <td>Eduardo</td>\n",
       "      <td>Biology</td>\n",
       "    </tr>\n",
       "    <tr>\n",
       "      <th>school1</th>\n",
       "      <td>Julio</td>\n",
       "      <td>Chemistry</td>\n",
       "    </tr>\n",
       "    <tr>\n",
       "      <th>school2</th>\n",
       "      <td>Julio</td>\n",
       "      <td>Maths</td>\n",
       "    </tr>\n",
       "  </tbody>\n",
       "</table>\n",
       "</div>"
      ],
      "text/plain": [
       "            Name      Class\n",
       "school1  Eduardo    Biology\n",
       "school1    Julio  Chemistry\n",
       "school2    Julio      Maths"
      ]
     },
     "execution_count": 791,
     "metadata": {},
     "output_type": "execute_result"
    }
   ],
   "source": [
    "df.loc[['school1', 'school2']][['Name', 'Class']]"
   ]
  },
  {
   "cell_type": "code",
   "execution_count": 793,
   "metadata": {},
   "outputs": [
    {
     "data": {
      "text/html": [
       "<div>\n",
       "<style scoped>\n",
       "    .dataframe tbody tr th:only-of-type {\n",
       "        vertical-align: middle;\n",
       "    }\n",
       "\n",
       "    .dataframe tbody tr th {\n",
       "        vertical-align: top;\n",
       "    }\n",
       "\n",
       "    .dataframe thead th {\n",
       "        text-align: right;\n",
       "    }\n",
       "</style>\n",
       "<table border=\"1\" class=\"dataframe\">\n",
       "  <thead>\n",
       "    <tr style=\"text-align: right;\">\n",
       "      <th></th>\n",
       "      <th>Name</th>\n",
       "      <th>Score</th>\n",
       "    </tr>\n",
       "  </thead>\n",
       "  <tbody>\n",
       "    <tr>\n",
       "      <th>school1</th>\n",
       "      <td>Eduardo</td>\n",
       "      <td>90</td>\n",
       "    </tr>\n",
       "    <tr>\n",
       "      <th>school2</th>\n",
       "      <td>Julio</td>\n",
       "      <td>80</td>\n",
       "    </tr>\n",
       "    <tr>\n",
       "      <th>school1</th>\n",
       "      <td>Julio</td>\n",
       "      <td>90</td>\n",
       "    </tr>\n",
       "  </tbody>\n",
       "</table>\n",
       "</div>"
      ],
      "text/plain": [
       "            Name  Score\n",
       "school1  Eduardo     90\n",
       "school2    Julio     80\n",
       "school1    Julio     90"
      ]
     },
     "execution_count": 793,
     "metadata": {},
     "output_type": "execute_result"
    }
   ],
   "source": [
    "df.loc[:, ['Name', 'Score']]"
   ]
  },
  {
   "cell_type": "code",
   "execution_count": 794,
   "metadata": {},
   "outputs": [
    {
     "data": {
      "text/html": [
       "<div>\n",
       "<style scoped>\n",
       "    .dataframe tbody tr th:only-of-type {\n",
       "        vertical-align: middle;\n",
       "    }\n",
       "\n",
       "    .dataframe tbody tr th {\n",
       "        vertical-align: top;\n",
       "    }\n",
       "\n",
       "    .dataframe thead th {\n",
       "        text-align: right;\n",
       "    }\n",
       "</style>\n",
       "<table border=\"1\" class=\"dataframe\">\n",
       "  <thead>\n",
       "    <tr style=\"text-align: right;\">\n",
       "      <th></th>\n",
       "      <th>Name</th>\n",
       "      <th>Class</th>\n",
       "      <th>Score</th>\n",
       "    </tr>\n",
       "  </thead>\n",
       "  <tbody>\n",
       "    <tr>\n",
       "      <th>school1</th>\n",
       "      <td>Eduardo</td>\n",
       "      <td>Biology</td>\n",
       "      <td>90</td>\n",
       "    </tr>\n",
       "    <tr>\n",
       "      <th>school1</th>\n",
       "      <td>Julio</td>\n",
       "      <td>Chemistry</td>\n",
       "      <td>90</td>\n",
       "    </tr>\n",
       "  </tbody>\n",
       "</table>\n",
       "</div>"
      ],
      "text/plain": [
       "            Name      Class  Score\n",
       "school1  Eduardo    Biology     90\n",
       "school1    Julio  Chemistry     90"
      ]
     },
     "execution_count": 794,
     "metadata": {},
     "output_type": "execute_result"
    }
   ],
   "source": [
    "df.drop('school2')"
   ]
  },
  {
   "cell_type": "code",
   "execution_count": 795,
   "metadata": {},
   "outputs": [
    {
     "data": {
      "text/html": [
       "<div>\n",
       "<style scoped>\n",
       "    .dataframe tbody tr th:only-of-type {\n",
       "        vertical-align: middle;\n",
       "    }\n",
       "\n",
       "    .dataframe tbody tr th {\n",
       "        vertical-align: top;\n",
       "    }\n",
       "\n",
       "    .dataframe thead th {\n",
       "        text-align: right;\n",
       "    }\n",
       "</style>\n",
       "<table border=\"1\" class=\"dataframe\">\n",
       "  <thead>\n",
       "    <tr style=\"text-align: right;\">\n",
       "      <th></th>\n",
       "      <th>Name</th>\n",
       "      <th>Class</th>\n",
       "      <th>Score</th>\n",
       "    </tr>\n",
       "  </thead>\n",
       "  <tbody>\n",
       "    <tr>\n",
       "      <th>school1</th>\n",
       "      <td>Eduardo</td>\n",
       "      <td>Biology</td>\n",
       "      <td>90</td>\n",
       "    </tr>\n",
       "    <tr>\n",
       "      <th>school2</th>\n",
       "      <td>Julio</td>\n",
       "      <td>Maths</td>\n",
       "      <td>80</td>\n",
       "    </tr>\n",
       "    <tr>\n",
       "      <th>school1</th>\n",
       "      <td>Julio</td>\n",
       "      <td>Chemistry</td>\n",
       "      <td>90</td>\n",
       "    </tr>\n",
       "  </tbody>\n",
       "</table>\n",
       "</div>"
      ],
      "text/plain": [
       "            Name      Class  Score\n",
       "school1  Eduardo    Biology     90\n",
       "school2    Julio      Maths     80\n",
       "school1    Julio  Chemistry     90"
      ]
     },
     "execution_count": 795,
     "metadata": {},
     "output_type": "execute_result"
    }
   ],
   "source": [
    "df"
   ]
  },
  {
   "cell_type": "code",
   "execution_count": 798,
   "metadata": {},
   "outputs": [
    {
     "data": {
      "text/html": [
       "<div>\n",
       "<style scoped>\n",
       "    .dataframe tbody tr th:only-of-type {\n",
       "        vertical-align: middle;\n",
       "    }\n",
       "\n",
       "    .dataframe tbody tr th {\n",
       "        vertical-align: top;\n",
       "    }\n",
       "\n",
       "    .dataframe thead th {\n",
       "        text-align: right;\n",
       "    }\n",
       "</style>\n",
       "<table border=\"1\" class=\"dataframe\">\n",
       "  <thead>\n",
       "    <tr style=\"text-align: right;\">\n",
       "      <th></th>\n",
       "      <th>Class</th>\n",
       "      <th>Score</th>\n",
       "    </tr>\n",
       "  </thead>\n",
       "  <tbody>\n",
       "    <tr>\n",
       "      <th>school1</th>\n",
       "      <td>Biology</td>\n",
       "      <td>90</td>\n",
       "    </tr>\n",
       "    <tr>\n",
       "      <th>school2</th>\n",
       "      <td>Maths</td>\n",
       "      <td>80</td>\n",
       "    </tr>\n",
       "    <tr>\n",
       "      <th>school1</th>\n",
       "      <td>Chemistry</td>\n",
       "      <td>90</td>\n",
       "    </tr>\n",
       "  </tbody>\n",
       "</table>\n",
       "</div>"
      ],
      "text/plain": [
       "             Class  Score\n",
       "school1    Biology     90\n",
       "school2      Maths     80\n",
       "school1  Chemistry     90"
      ]
     },
     "execution_count": 798,
     "metadata": {},
     "output_type": "execute_result"
    }
   ],
   "source": [
    "copy_df = df.copy()\n",
    "copy_df.drop('Name', axis = 1, inplace = True) # axis =1 >> indica que vamos a dropear una columna\n",
    "copy_df"
   ]
  },
  {
   "cell_type": "code",
   "execution_count": 799,
   "metadata": {},
   "outputs": [
    {
     "data": {
      "text/html": [
       "<div>\n",
       "<style scoped>\n",
       "    .dataframe tbody tr th:only-of-type {\n",
       "        vertical-align: middle;\n",
       "    }\n",
       "\n",
       "    .dataframe tbody tr th {\n",
       "        vertical-align: top;\n",
       "    }\n",
       "\n",
       "    .dataframe thead th {\n",
       "        text-align: right;\n",
       "    }\n",
       "</style>\n",
       "<table border=\"1\" class=\"dataframe\">\n",
       "  <thead>\n",
       "    <tr style=\"text-align: right;\">\n",
       "      <th></th>\n",
       "      <th>Class</th>\n",
       "      <th>Score</th>\n",
       "    </tr>\n",
       "  </thead>\n",
       "  <tbody>\n",
       "    <tr>\n",
       "      <th>school1</th>\n",
       "      <td>Biology</td>\n",
       "      <td>90</td>\n",
       "    </tr>\n",
       "    <tr>\n",
       "      <th>school1</th>\n",
       "      <td>Chemistry</td>\n",
       "      <td>90</td>\n",
       "    </tr>\n",
       "  </tbody>\n",
       "</table>\n",
       "</div>"
      ],
      "text/plain": [
       "             Class  Score\n",
       "school1    Biology     90\n",
       "school1  Chemistry     90"
      ]
     },
     "execution_count": 799,
     "metadata": {},
     "output_type": "execute_result"
    }
   ],
   "source": [
    "copy_df.drop('school2', inplace= True)\n",
    "copy_df"
   ]
  },
  {
   "cell_type": "code",
   "execution_count": 797,
   "metadata": {},
   "outputs": [
    {
     "data": {
      "text/html": [
       "<div>\n",
       "<style scoped>\n",
       "    .dataframe tbody tr th:only-of-type {\n",
       "        vertical-align: middle;\n",
       "    }\n",
       "\n",
       "    .dataframe tbody tr th {\n",
       "        vertical-align: top;\n",
       "    }\n",
       "\n",
       "    .dataframe thead th {\n",
       "        text-align: right;\n",
       "    }\n",
       "</style>\n",
       "<table border=\"1\" class=\"dataframe\">\n",
       "  <thead>\n",
       "    <tr style=\"text-align: right;\">\n",
       "      <th></th>\n",
       "      <th>Score</th>\n",
       "    </tr>\n",
       "  </thead>\n",
       "  <tbody>\n",
       "    <tr>\n",
       "      <th>school1</th>\n",
       "      <td>90</td>\n",
       "    </tr>\n",
       "    <tr>\n",
       "      <th>school2</th>\n",
       "      <td>80</td>\n",
       "    </tr>\n",
       "    <tr>\n",
       "      <th>school1</th>\n",
       "      <td>90</td>\n",
       "    </tr>\n",
       "  </tbody>\n",
       "</table>\n",
       "</div>"
      ],
      "text/plain": [
       "         Score\n",
       "school1     90\n",
       "school2     80\n",
       "school1     90"
      ]
     },
     "execution_count": 797,
     "metadata": {},
     "output_type": "execute_result"
    }
   ],
   "source": [
    "del copy_df['Class']\n",
    "copy_df"
   ]
  },
  {
   "cell_type": "code",
   "execution_count": 800,
   "metadata": {},
   "outputs": [
    {
     "data": {
      "text/html": [
       "<div>\n",
       "<style scoped>\n",
       "    .dataframe tbody tr th:only-of-type {\n",
       "        vertical-align: middle;\n",
       "    }\n",
       "\n",
       "    .dataframe tbody tr th {\n",
       "        vertical-align: top;\n",
       "    }\n",
       "\n",
       "    .dataframe thead th {\n",
       "        text-align: right;\n",
       "    }\n",
       "</style>\n",
       "<table border=\"1\" class=\"dataframe\">\n",
       "  <thead>\n",
       "    <tr style=\"text-align: right;\">\n",
       "      <th></th>\n",
       "      <th>Name</th>\n",
       "      <th>Class</th>\n",
       "      <th>Score</th>\n",
       "      <th>classRanking</th>\n",
       "    </tr>\n",
       "  </thead>\n",
       "  <tbody>\n",
       "    <tr>\n",
       "      <th>school1</th>\n",
       "      <td>Eduardo</td>\n",
       "      <td>Biology</td>\n",
       "      <td>90</td>\n",
       "      <td>None</td>\n",
       "    </tr>\n",
       "    <tr>\n",
       "      <th>school2</th>\n",
       "      <td>Julio</td>\n",
       "      <td>Maths</td>\n",
       "      <td>80</td>\n",
       "      <td>None</td>\n",
       "    </tr>\n",
       "    <tr>\n",
       "      <th>school1</th>\n",
       "      <td>Julio</td>\n",
       "      <td>Chemistry</td>\n",
       "      <td>90</td>\n",
       "      <td>None</td>\n",
       "    </tr>\n",
       "  </tbody>\n",
       "</table>\n",
       "</div>"
      ],
      "text/plain": [
       "            Name      Class  Score classRanking\n",
       "school1  Eduardo    Biology     90         None\n",
       "school2    Julio      Maths     80         None\n",
       "school1    Julio  Chemistry     90         None"
      ]
     },
     "execution_count": 800,
     "metadata": {},
     "output_type": "execute_result"
    }
   ],
   "source": [
    "df['classRanking'] = None\n",
    "df"
   ]
  },
  {
   "cell_type": "code",
   "execution_count": 801,
   "metadata": {},
   "outputs": [
    {
     "name": "stdout",
     "output_type": "stream",
     "text": [
      "/media/eduardo/Datos/repo_personal/DataScience/coursera\n"
     ]
    }
   ],
   "source": [
    "# The dataframe is indexed by row and by column\n",
    "!pwd"
   ]
  },
  {
   "cell_type": "code",
   "execution_count": 803,
   "metadata": {},
   "outputs": [
    {
     "name": "stdout",
     "output_type": "stream",
     "text": [
      "Serial No.,GRE Score,TOEFL Score,University Rating,SOP,LOR ,CGPA,Research,Chance of Admit \n",
      "1,337,118,4,4.5,4.5,9.65,1,0.92\n",
      "2,324,107,4,4,4.5,8.87,1,0.76\n",
      "3,316,104,3,3,3.5,8,1,0.72\n",
      "4,322,110,3,3.5,2.5,8.67,1,0.8\n",
      "5,314,103,2,2,3,8.21,0,0.65\n",
      "6,330,115,5,4.5,3,9.34,1,0.9\n",
      "7,321,109,3,3,4,8.2,1,0.75\n",
      "8,308,101,2,3,4,7.9,0,0.68\n",
      "9,302,102,1,2,1.5,8,0,0.5\n",
      "10,323,108,3,3.5,3,8.6,0,0.45\n",
      "11,325,106,3,3.5,4,8.4,1,0.52\n",
      "12,327,111,4,4,4.5,9,1,0.84\n",
      "13,328,112,4,4,4.5,9.1,1,0.78\n",
      "14,307,109,3,4,3,8,1,0.62\n",
      "15,311,104,3,3.5,2,8.2,1,0.61\n",
      "16,314,105,3,3.5,2.5,8.3,0,0.54\n",
      "17,317,107,3,4,3,8.7,0,0.66\n",
      "18,319,106,3,4,3,8,1,0.65\n",
      "19,318,110,3,4,3,8.8,0,0.63\n",
      "20,303,102,3,3.5,3,8.5,0,0.62\n",
      "21,312,107,3,3,2,7.9,1,0.64\n",
      "22,325,114,4,3,2,8.4,0,0.7\n",
      "23,328,116,5,5,5,9.5,1,0.94\n",
      "24,334,119,5,5,4.5,9.7,1,0.95\n",
      "25,336,119,5,4,3.5,9.8,1,0.97\n",
      "26,340,120,5,4.5,4.5,9.6,1,0.94\n",
      "27,322,109,5,4.5,3.5,8.8,0,0.76\n",
      "28,298,98,2,1.5,2.5,7.5,1,0.44\n",
      "29,295,93,1,2,2,7.2,0,0.46\n",
      "30,310,99,2,1.5,2,7.3,0,0.54\n",
      "31,300,97,2,3,3,8.1,1,0.65\n",
      "32,327,103,3,4,4,8.3,1,0.74\n",
      "33,338,118,4,3,4.5,9.4,1,0.91\n",
      "34,340,114,5,4,4,9.6,1,0.9\n",
      "35,331,112,5,4,5,9.8,1,0.94\n",
      "36,320,110,5,5,5,9.2,1,0.88\n",
      "37,299,106,2,4,4,8.4,0,0.64\n",
      "38,300,105,1,1,2,7.8,0,0.58\n",
      "39,304,105,1,3,1.5,7.5,0,0.52\n",
      "40,307,108,2,4,3.5,7.7,0,0.48\n",
      "41,308,110,3,3.5,3,8,1,0.46\n",
      "42,316,105,2,2.5,2.5,8.2,1,0.49\n",
      "43,313,107,2,2.5,2,8.5,1,0.53\n",
      "44,332,117,4,4.5,4,9.1,0,0.87\n",
      "45,326,113,5,4.5,4,9.4,1,0.91\n",
      "46,322,110,5,5,4,9.1,1,0.88\n",
      "47,329,114,5,4,5,9.3,1,0.86\n",
      "48,339,119,5,4.5,4,9.7,0,0.89\n",
      "49,321,110,3,3.5,5,8.85,1,0.82\n",
      "50,327,111,4,3,4,8.4,1,0.78\n",
      "51,313,98,3,2.5,4.5,8.3,1,0.76\n",
      "52,312,100,2,1.5,3.5,7.9,1,0.56\n",
      "53,334,116,4,4,3,8,1,0.78\n",
      "54,324,112,4,4,2.5,8.1,1,0.72\n",
      "55,322,110,3,3,3.5,8,0,0.7\n",
      "56,320,103,3,3,3,7.7,0,0.64\n",
      "57,316,102,3,2,3,7.4,0,0.64\n",
      "58,298,99,2,4,2,7.6,0,0.46\n",
      "59,300,99,1,3,2,6.8,1,0.36\n",
      "60,311,104,2,2,2,8.3,0,0.42\n",
      "61,309,100,2,3,3,8.1,0,0.48\n",
      "62,307,101,3,4,3,8.2,0,0.47\n",
      "63,304,105,2,3,3,8.2,1,0.54\n",
      "64,315,107,2,4,3,8.5,1,0.56\n",
      "65,325,111,3,3,3.5,8.7,0,0.52\n",
      "66,325,112,4,3.5,3.5,8.92,0,0.55\n",
      "67,327,114,3,3,3,9.02,0,0.61\n",
      "68,316,107,2,3.5,3.5,8.64,1,0.57\n",
      "69,318,109,3,3.5,4,9.22,1,0.68\n",
      "70,328,115,4,4.5,4,9.16,1,0.78\n",
      "71,332,118,5,5,5,9.64,1,0.94\n",
      "72,336,112,5,5,5,9.76,1,0.96\n",
      "73,321,111,5,5,5,9.45,1,0.93\n",
      "74,314,108,4,4.5,4,9.04,1,0.84\n",
      "75,314,106,3,3,5,8.9,0,0.74\n",
      "76,329,114,2,2,4,8.56,1,0.72\n",
      "77,327,112,3,3,3,8.72,1,0.74\n",
      "78,301,99,2,3,2,8.22,0,0.64\n",
      "79,296,95,2,3,2,7.54,1,0.44\n",
      "80,294,93,1,1.5,2,7.36,0,0.46\n",
      "81,312,105,3,2,3,8.02,1,0.5\n",
      "82,340,120,4,5,5,9.5,1,0.96\n",
      "83,320,110,5,5,4.5,9.22,1,0.92\n",
      "84,322,115,5,4,4.5,9.36,1,0.92\n",
      "85,340,115,5,4.5,4.5,9.45,1,0.94\n",
      "86,319,103,4,4.5,3.5,8.66,0,0.76\n",
      "87,315,106,3,4.5,3.5,8.42,0,0.72\n",
      "88,317,107,2,3.5,3,8.28,0,0.66\n",
      "89,314,108,3,4.5,3.5,8.14,0,0.64\n",
      "90,316,109,4,4.5,3.5,8.76,1,0.74\n",
      "91,318,106,2,4,4,7.92,1,0.64\n",
      "92,299,97,3,5,3.5,7.66,0,0.38\n",
      "93,298,98,2,4,3,8.03,0,0.34\n",
      "94,301,97,2,3,3,7.88,1,0.44\n",
      "95,303,99,3,2,2.5,7.66,0,0.36\n",
      "96,304,100,4,1.5,2.5,7.84,0,0.42\n",
      "97,306,100,2,3,3,8,0,0.48\n",
      "98,331,120,3,4,4,8.96,1,0.86\n",
      "99,332,119,4,5,4.5,9.24,1,0.9\n",
      "100,323,113,3,4,4,8.88,1,0.79\n",
      "101,322,107,3,3.5,3.5,8.46,1,0.71\n",
      "102,312,105,2,2.5,3,8.12,0,0.64\n",
      "103,314,106,2,4,3.5,8.25,0,0.62\n",
      "104,317,104,2,4.5,4,8.47,0,0.57\n",
      "105,326,112,3,3.5,3,9.05,1,0.74\n",
      "106,316,110,3,4,4.5,8.78,1,0.69\n",
      "107,329,111,4,4.5,4.5,9.18,1,0.87\n",
      "108,338,117,4,3.5,4.5,9.46,1,0.91\n",
      "109,331,116,5,5,5,9.38,1,0.93\n",
      "110,304,103,5,5,4,8.64,0,0.68\n",
      "111,305,108,5,3,3,8.48,0,0.61\n",
      "112,321,109,4,4,4,8.68,1,0.69\n",
      "113,301,107,3,3.5,3.5,8.34,1,0.62\n",
      "114,320,110,2,4,3.5,8.56,0,0.72\n",
      "115,311,105,3,3.5,3,8.45,1,0.59\n",
      "116,310,106,4,4.5,4.5,9.04,1,0.66\n",
      "117,299,102,3,4,3.5,8.62,0,0.56\n",
      "118,290,104,4,2,2.5,7.46,0,0.45\n",
      "119,296,99,2,3,3.5,7.28,0,0.47\n",
      "120,327,104,5,3,3.5,8.84,1,0.71\n",
      "121,335,117,5,5,5,9.56,1,0.94\n",
      "122,334,119,5,4.5,4.5,9.48,1,0.94\n",
      "123,310,106,4,1.5,2.5,8.36,0,0.57\n",
      "124,308,108,3,3.5,3.5,8.22,0,0.61\n",
      "125,301,106,4,2.5,3,8.47,0,0.57\n",
      "126,300,100,3,2,3,8.66,1,0.64\n",
      "127,323,113,3,4,3,9.32,1,0.85\n",
      "128,319,112,3,2.5,2,8.71,1,0.78\n",
      "129,326,112,3,3.5,3,9.1,1,0.84\n",
      "130,333,118,5,5,5,9.35,1,0.92\n",
      "131,339,114,5,4,4.5,9.76,1,0.96\n",
      "132,303,105,5,5,4.5,8.65,0,0.77\n",
      "133,309,105,5,3.5,3.5,8.56,0,0.71\n",
      "134,323,112,5,4,4.5,8.78,0,0.79\n",
      "135,333,113,5,4,4,9.28,1,0.89\n",
      "136,314,109,4,3.5,4,8.77,1,0.82\n",
      "137,312,103,3,5,4,8.45,0,0.76\n",
      "138,316,100,2,1.5,3,8.16,1,0.71\n",
      "139,326,116,2,4.5,3,9.08,1,0.8\n",
      "140,318,109,1,3.5,3.5,9.12,0,0.78\n",
      "141,329,110,2,4,3,9.15,1,0.84\n",
      "142,332,118,2,4.5,3.5,9.36,1,0.9\n",
      "143,331,115,5,4,3.5,9.44,1,0.92\n",
      "144,340,120,4,4.5,4,9.92,1,0.97\n",
      "145,325,112,2,3,3.5,8.96,1,0.8\n",
      "146,320,113,2,2,2.5,8.64,1,0.81\n",
      "147,315,105,3,2,2.5,8.48,0,0.75\n",
      "148,326,114,3,3,3,9.11,1,0.83\n",
      "149,339,116,4,4,3.5,9.8,1,0.96\n",
      "150,311,106,2,3.5,3,8.26,1,0.79\n",
      "151,334,114,4,4,4,9.43,1,0.93\n",
      "152,332,116,5,5,5,9.28,1,0.94\n",
      "153,321,112,5,5,5,9.06,1,0.86\n",
      "154,324,105,3,3,4,8.75,0,0.79\n",
      "155,326,108,3,3,3.5,8.89,0,0.8\n",
      "156,312,109,3,3,3,8.69,0,0.77\n",
      "157,315,105,3,2,2.5,8.34,0,0.7\n",
      "158,309,104,2,2,2.5,8.26,0,0.65\n",
      "159,306,106,2,2,2.5,8.14,0,0.61\n",
      "160,297,100,1,1.5,2,7.9,0,0.52\n",
      "161,315,103,1,1.5,2,7.86,0,0.57\n",
      "162,298,99,1,1.5,3,7.46,0,0.53\n",
      "163,318,109,3,3,3,8.5,0,0.67\n",
      "164,317,105,3,3.5,3,8.56,0,0.68\n",
      "165,329,111,4,4.5,4,9.01,1,0.81\n",
      "166,322,110,5,4.5,4,8.97,0,0.78\n",
      "167,302,102,3,3.5,5,8.33,0,0.65\n",
      "168,313,102,3,2,3,8.27,0,0.64\n",
      "169,293,97,2,2,4,7.8,1,0.64\n",
      "170,311,99,2,2.5,3,7.98,0,0.65\n",
      "171,312,101,2,2.5,3.5,8.04,1,0.68\n",
      "172,334,117,5,4,4.5,9.07,1,0.89\n",
      "173,322,110,4,4,5,9.13,1,0.86\n",
      "174,323,113,4,4,4.5,9.23,1,0.89\n",
      "175,321,111,4,4,4,8.97,1,0.87\n",
      "176,320,111,4,4.5,3.5,8.87,1,0.85\n",
      "177,329,119,4,4.5,4.5,9.16,1,0.9\n",
      "178,319,110,3,3.5,3.5,9.04,0,0.82\n",
      "179,309,108,3,2.5,3,8.12,0,0.72\n",
      "180,307,102,3,3,3,8.27,0,0.73\n",
      "181,300,104,3,3.5,3,8.16,0,0.71\n",
      "182,305,107,2,2.5,2.5,8.42,0,0.71\n",
      "183,299,100,2,3,3.5,7.88,0,0.68\n",
      "184,314,110,3,4,4,8.8,0,0.75\n",
      "185,316,106,2,2.5,4,8.32,0,0.72\n",
      "186,327,113,4,4.5,4.5,9.11,1,0.89\n",
      "187,317,107,3,3.5,3,8.68,1,0.84\n",
      "188,335,118,5,4.5,3.5,9.44,1,0.93\n",
      "189,331,115,5,4.5,3.5,9.36,1,0.93\n",
      "190,324,112,5,5,5,9.08,1,0.88\n",
      "191,324,111,5,4.5,4,9.16,1,0.9\n",
      "192,323,110,5,4,5,8.98,1,0.87\n",
      "193,322,114,5,4.5,4,8.94,1,0.86\n",
      "194,336,118,5,4.5,5,9.53,1,0.94\n",
      "195,316,109,3,3.5,3,8.76,0,0.77\n",
      "196,307,107,2,3,3.5,8.52,1,0.78\n",
      "197,306,105,2,3,2.5,8.26,0,0.73\n",
      "198,310,106,2,3.5,2.5,8.33,0,0.73\n",
      "199,311,104,3,4.5,4.5,8.43,0,0.7\n",
      "200,313,107,3,4,4.5,8.69,0,0.72\n",
      "201,317,103,3,2.5,3,8.54,1,0.73\n",
      "202,315,110,2,3.5,3,8.46,1,0.72\n",
      "203,340,120,5,4.5,4.5,9.91,1,0.97\n",
      "204,334,120,5,4,5,9.87,1,0.97\n",
      "205,298,105,3,3.5,4,8.54,0,0.69\n",
      "206,295,99,2,2.5,3,7.65,0,0.57\n",
      "207,315,99,2,3.5,3,7.89,0,0.63\n",
      "208,310,102,3,3.5,4,8.02,1,0.66\n",
      "209,305,106,2,3,3,8.16,0,0.64\n",
      "210,301,104,3,3.5,4,8.12,1,0.68\n",
      "211,325,108,4,4.5,4,9.06,1,0.79\n",
      "212,328,110,4,5,4,9.14,1,0.82\n",
      "213,338,120,4,5,5,9.66,1,0.95\n",
      "214,333,119,5,5,4.5,9.78,1,0.96\n",
      "215,331,117,4,4.5,5,9.42,1,0.94\n",
      "216,330,116,5,5,4.5,9.36,1,0.93\n",
      "217,322,112,4,4.5,4.5,9.26,1,0.91\n",
      "218,321,109,4,4,4,9.13,1,0.85\n",
      "219,324,110,4,3,3.5,8.97,1,0.84\n",
      "220,312,104,3,3.5,3.5,8.42,0,0.74\n",
      "221,313,103,3,4,4,8.75,0,0.76\n",
      "222,316,110,3,3.5,4,8.56,0,0.75\n",
      "223,324,113,4,4.5,4,8.79,0,0.76\n",
      "224,308,109,2,3,4,8.45,0,0.71\n",
      "225,305,105,2,3,2,8.23,0,0.67\n",
      "226,296,99,2,2.5,2.5,8.03,0,0.61\n",
      "227,306,110,2,3.5,4,8.45,0,0.63\n",
      "228,312,110,2,3.5,3,8.53,0,0.64\n",
      "229,318,112,3,4,3.5,8.67,0,0.71\n",
      "230,324,111,4,3,3,9.01,1,0.82\n",
      "231,313,104,3,4,4.5,8.65,0,0.73\n",
      "232,319,106,3,3.5,2.5,8.33,1,0.74\n",
      "233,312,107,2,2.5,3.5,8.27,0,0.69\n",
      "234,304,100,2,2.5,3.5,8.07,0,0.64\n",
      "235,330,113,5,5,4,9.31,1,0.91\n",
      "236,326,111,5,4.5,4,9.23,1,0.88\n",
      "237,325,112,4,4,4.5,9.17,1,0.85\n",
      "238,329,114,5,4.5,5,9.19,1,0.86\n",
      "239,310,104,3,2,3.5,8.37,0,0.7\n",
      "240,299,100,1,1.5,2,7.89,0,0.59\n",
      "241,296,101,1,2.5,3,7.68,0,0.6\n",
      "242,317,103,2,2.5,2,8.15,0,0.65\n",
      "243,324,115,3,3.5,3,8.76,1,0.7\n",
      "244,325,114,3,3.5,3,9.04,1,0.76\n",
      "245,314,107,2,2.5,4,8.56,0,0.63\n",
      "246,328,110,4,4,2.5,9.02,1,0.81\n",
      "247,316,105,3,3,3.5,8.73,0,0.72\n",
      "248,311,104,2,2.5,3.5,8.48,0,0.71\n",
      "249,324,110,3,3.5,4,8.87,1,0.8\n",
      "250,321,111,3,3.5,4,8.83,1,0.77\n",
      "251,320,104,3,3,2.5,8.57,1,0.74\n",
      "252,316,99,2,2.5,3,9,0,0.7\n",
      "253,318,100,2,2.5,3.5,8.54,1,0.71\n",
      "254,335,115,4,4.5,4.5,9.68,1,0.93\n",
      "255,321,114,4,4,5,9.12,0,0.85\n",
      "256,307,110,4,4,4.5,8.37,0,0.79\n",
      "257,309,99,3,4,4,8.56,0,0.76\n",
      "258,324,100,3,4,5,8.64,1,0.78\n",
      "259,326,102,4,5,5,8.76,1,0.77\n",
      "260,331,119,4,5,4.5,9.34,1,0.9\n",
      "261,327,108,5,5,3.5,9.13,1,0.87\n",
      "262,312,104,3,3.5,4,8.09,0,0.71\n",
      "263,308,103,2,2.5,4,8.36,1,0.7\n",
      "264,324,111,3,2.5,1.5,8.79,1,0.7\n",
      "265,325,110,2,3,2.5,8.76,1,0.75\n",
      "266,313,102,3,2.5,2.5,8.68,0,0.71\n",
      "267,312,105,2,2,2.5,8.45,0,0.72\n",
      "268,314,107,3,3,3.5,8.17,1,0.73\n",
      "269,327,113,4,4.5,5,9.14,0,0.83\n",
      "270,308,108,4,4.5,5,8.34,0,0.77\n",
      "271,306,105,2,2.5,3,8.22,1,0.72\n",
      "272,299,96,2,1.5,2,7.86,0,0.54\n",
      "273,294,95,1,1.5,1.5,7.64,0,0.49\n",
      "274,312,99,1,1,1.5,8.01,1,0.52\n",
      "275,315,100,1,2,2.5,7.95,0,0.58\n",
      "276,322,110,3,3.5,3,8.96,1,0.78\n",
      "277,329,113,5,5,4.5,9.45,1,0.89\n",
      "278,320,101,2,2.5,3,8.62,0,0.7\n",
      "279,308,103,2,3,3.5,8.49,0,0.66\n",
      "280,304,102,2,3,4,8.73,0,0.67\n",
      "281,311,102,3,4.5,4,8.64,1,0.68\n",
      "282,317,110,3,4,4.5,9.11,1,0.8\n",
      "283,312,106,3,4,3.5,8.79,1,0.81\n",
      "284,321,111,3,2.5,3,8.9,1,0.8\n",
      "285,340,112,4,5,4.5,9.66,1,0.94\n",
      "286,331,116,5,4,4,9.26,1,0.93\n",
      "287,336,118,5,4.5,4,9.19,1,0.92\n",
      "288,324,114,5,5,4.5,9.08,1,0.89\n",
      "289,314,104,4,5,5,9.02,0,0.82\n",
      "290,313,109,3,4,3.5,9,0,0.79\n",
      "291,307,105,2,2.5,3,7.65,0,0.58\n",
      "292,300,102,2,1.5,2,7.87,0,0.56\n",
      "293,302,99,2,1,2,7.97,0,0.56\n",
      "294,312,98,1,3.5,3,8.18,1,0.64\n",
      "295,316,101,2,2.5,2,8.32,1,0.61\n",
      "296,317,100,2,3,2.5,8.57,0,0.68\n",
      "297,310,107,3,3.5,3.5,8.67,0,0.76\n",
      "298,320,120,3,4,4.5,9.11,0,0.86\n",
      "299,330,114,3,4.5,4.5,9.24,1,0.9\n",
      "300,305,112,3,3,3.5,8.65,0,0.71\n",
      "301,309,106,2,2.5,2.5,8,0,0.62\n",
      "302,319,108,2,2.5,3,8.76,0,0.66\n",
      "303,322,105,2,3,3,8.45,1,0.65\n",
      "304,323,107,3,3.5,3.5,8.55,1,0.73\n",
      "305,313,106,2,2.5,2,8.43,0,0.62\n",
      "306,321,109,3,3.5,3.5,8.8,1,0.74\n",
      "307,323,110,3,4,3.5,9.1,1,0.79\n",
      "308,325,112,4,4,4,9,1,0.8\n",
      "309,312,108,3,3.5,3,8.53,0,0.69\n",
      "310,308,110,4,3.5,3,8.6,0,0.7\n",
      "311,320,104,3,3,3.5,8.74,1,0.76\n",
      "312,328,108,4,4.5,4,9.18,1,0.84\n",
      "313,311,107,4,4.5,4.5,9,1,0.78\n",
      "314,301,100,3,3.5,3,8.04,0,0.67\n",
      "315,305,105,2,3,4,8.13,0,0.66\n",
      "316,308,104,2,2.5,3,8.07,0,0.65\n",
      "317,298,101,2,1.5,2,7.86,0,0.54\n",
      "318,300,99,1,1,2.5,8.01,0,0.58\n",
      "319,324,111,3,2.5,2,8.8,1,0.79\n",
      "320,327,113,4,3.5,3,8.69,1,0.8\n",
      "321,317,106,3,4,3.5,8.5,1,0.75\n",
      "322,323,104,3,4,4,8.44,1,0.73\n",
      "323,314,107,2,2.5,4,8.27,0,0.72\n",
      "324,305,102,2,2,2.5,8.18,0,0.62\n",
      "325,315,104,3,3,2.5,8.33,0,0.67\n",
      "326,326,116,3,3.5,4,9.14,1,0.81\n",
      "327,299,100,3,2,2,8.02,0,0.63\n",
      "328,295,101,2,2.5,2,7.86,0,0.69\n",
      "329,324,112,4,4,3.5,8.77,1,0.8\n",
      "330,297,96,2,2.5,1.5,7.89,0,0.43\n",
      "331,327,113,3,3.5,3,8.66,1,0.8\n",
      "332,311,105,2,3,2,8.12,1,0.73\n",
      "333,308,106,3,3.5,2.5,8.21,1,0.75\n",
      "334,319,108,3,3,3.5,8.54,1,0.71\n",
      "335,312,107,4,4.5,4,8.65,1,0.73\n",
      "336,325,111,4,4,4.5,9.11,1,0.83\n",
      "337,319,110,3,3,2.5,8.79,0,0.72\n",
      "338,332,118,5,5,5,9.47,1,0.94\n",
      "339,323,108,5,4,4,8.74,1,0.81\n",
      "340,324,107,5,3.5,4,8.66,1,0.81\n",
      "341,312,107,3,3,3,8.46,1,0.75\n",
      "342,326,110,3,3.5,3.5,8.76,1,0.79\n",
      "343,308,106,3,3,3,8.24,0,0.58\n",
      "344,305,103,2,2.5,3.5,8.13,0,0.59\n",
      "345,295,96,2,1.5,2,7.34,0,0.47\n",
      "346,316,98,1,1.5,2,7.43,0,0.49\n",
      "347,304,97,2,1.5,2,7.64,0,0.47\n",
      "348,299,94,1,1,1,7.34,0,0.42\n",
      "349,302,99,1,2,2,7.25,0,0.57\n",
      "350,313,101,3,2.5,3,8.04,0,0.62\n",
      "351,318,107,3,3,3.5,8.27,1,0.74\n",
      "352,325,110,4,3.5,4,8.67,1,0.73\n",
      "353,303,100,2,3,3.5,8.06,1,0.64\n",
      "354,300,102,3,3.5,2.5,8.17,0,0.63\n",
      "355,297,98,2,2.5,3,7.67,0,0.59\n",
      "356,317,106,2,2,3.5,8.12,0,0.73\n",
      "357,327,109,3,3.5,4,8.77,1,0.79\n",
      "358,301,104,2,3.5,3.5,7.89,1,0.68\n",
      "359,314,105,2,2.5,2,7.64,0,0.7\n",
      "360,321,107,2,2,1.5,8.44,0,0.81\n",
      "361,322,110,3,4,5,8.64,1,0.85\n",
      "362,334,116,4,4,3.5,9.54,1,0.93\n",
      "363,338,115,5,4.5,5,9.23,1,0.91\n",
      "364,306,103,2,2.5,3,8.36,0,0.69\n",
      "365,313,102,3,3.5,4,8.9,1,0.77\n",
      "366,330,114,4,4.5,3,9.17,1,0.86\n",
      "367,320,104,3,3.5,4.5,8.34,1,0.74\n",
      "368,311,98,1,1,2.5,7.46,0,0.57\n",
      "369,298,92,1,2,2,7.88,0,0.51\n",
      "370,301,98,1,2,3,8.03,1,0.67\n",
      "371,310,103,2,2.5,2.5,8.24,0,0.72\n",
      "372,324,110,3,3.5,3,9.22,1,0.89\n",
      "373,336,119,4,4.5,4,9.62,1,0.95\n",
      "374,321,109,3,3,3,8.54,1,0.79\n",
      "375,315,105,2,2,2.5,7.65,0,0.39\n",
      "376,304,101,2,2,2.5,7.66,0,0.38\n",
      "377,297,96,2,2.5,2,7.43,0,0.34\n",
      "378,290,100,1,1.5,2,7.56,0,0.47\n",
      "379,303,98,1,2,2.5,7.65,0,0.56\n",
      "380,311,99,1,2.5,3,8.43,1,0.71\n",
      "381,322,104,3,3.5,4,8.84,1,0.78\n",
      "382,319,105,3,3,3.5,8.67,1,0.73\n",
      "383,324,110,4,4.5,4,9.15,1,0.82\n",
      "384,300,100,3,3,3.5,8.26,0,0.62\n",
      "385,340,113,4,5,5,9.74,1,0.96\n",
      "386,335,117,5,5,5,9.82,1,0.96\n",
      "387,302,101,2,2.5,3.5,7.96,0,0.46\n",
      "388,307,105,2,2,3.5,8.1,0,0.53\n",
      "389,296,97,2,1.5,2,7.8,0,0.49\n",
      "390,320,108,3,3.5,4,8.44,1,0.76\n",
      "391,314,102,2,2,2.5,8.24,0,0.64\n",
      "392,318,106,3,2,3,8.65,0,0.71\n",
      "393,326,112,4,4,3.5,9.12,1,0.84\n",
      "394,317,104,2,3,3,8.76,0,0.77\n",
      "395,329,111,4,4.5,4,9.23,1,0.89\n",
      "396,324,110,3,3.5,3.5,9.04,1,0.82\n",
      "397,325,107,3,3,3.5,9.11,1,0.84\n",
      "398,330,116,4,5,4.5,9.45,1,0.91\n",
      "399,312,103,3,3.5,4,8.78,0,0.67\n",
      "400,333,117,4,5,4,9.66,1,0.95"
     ]
    }
   ],
   "source": [
    "!cat ../Datasets/Admission_Predict.csv"
   ]
  },
  {
   "cell_type": "code",
   "execution_count": 805,
   "metadata": {},
   "outputs": [
    {
     "data": {
      "text/html": [
       "<div>\n",
       "<style scoped>\n",
       "    .dataframe tbody tr th:only-of-type {\n",
       "        vertical-align: middle;\n",
       "    }\n",
       "\n",
       "    .dataframe tbody tr th {\n",
       "        vertical-align: top;\n",
       "    }\n",
       "\n",
       "    .dataframe thead th {\n",
       "        text-align: right;\n",
       "    }\n",
       "</style>\n",
       "<table border=\"1\" class=\"dataframe\">\n",
       "  <thead>\n",
       "    <tr style=\"text-align: right;\">\n",
       "      <th></th>\n",
       "      <th>Serial No.</th>\n",
       "      <th>GRE Score</th>\n",
       "      <th>TOEFL Score</th>\n",
       "      <th>University Rating</th>\n",
       "      <th>SOP</th>\n",
       "      <th>LOR</th>\n",
       "      <th>CGPA</th>\n",
       "      <th>Research</th>\n",
       "      <th>Chance of Admit</th>\n",
       "    </tr>\n",
       "  </thead>\n",
       "  <tbody>\n",
       "    <tr>\n",
       "      <th>0</th>\n",
       "      <td>1</td>\n",
       "      <td>337</td>\n",
       "      <td>118</td>\n",
       "      <td>4</td>\n",
       "      <td>4.5</td>\n",
       "      <td>4.5</td>\n",
       "      <td>9.65</td>\n",
       "      <td>1</td>\n",
       "      <td>0.92</td>\n",
       "    </tr>\n",
       "    <tr>\n",
       "      <th>1</th>\n",
       "      <td>2</td>\n",
       "      <td>324</td>\n",
       "      <td>107</td>\n",
       "      <td>4</td>\n",
       "      <td>4.0</td>\n",
       "      <td>4.5</td>\n",
       "      <td>8.87</td>\n",
       "      <td>1</td>\n",
       "      <td>0.76</td>\n",
       "    </tr>\n",
       "    <tr>\n",
       "      <th>2</th>\n",
       "      <td>3</td>\n",
       "      <td>316</td>\n",
       "      <td>104</td>\n",
       "      <td>3</td>\n",
       "      <td>3.0</td>\n",
       "      <td>3.5</td>\n",
       "      <td>8.00</td>\n",
       "      <td>1</td>\n",
       "      <td>0.72</td>\n",
       "    </tr>\n",
       "    <tr>\n",
       "      <th>3</th>\n",
       "      <td>4</td>\n",
       "      <td>322</td>\n",
       "      <td>110</td>\n",
       "      <td>3</td>\n",
       "      <td>3.5</td>\n",
       "      <td>2.5</td>\n",
       "      <td>8.67</td>\n",
       "      <td>1</td>\n",
       "      <td>0.80</td>\n",
       "    </tr>\n",
       "    <tr>\n",
       "      <th>4</th>\n",
       "      <td>5</td>\n",
       "      <td>314</td>\n",
       "      <td>103</td>\n",
       "      <td>2</td>\n",
       "      <td>2.0</td>\n",
       "      <td>3.0</td>\n",
       "      <td>8.21</td>\n",
       "      <td>0</td>\n",
       "      <td>0.65</td>\n",
       "    </tr>\n",
       "  </tbody>\n",
       "</table>\n",
       "</div>"
      ],
      "text/plain": [
       "   Serial No.  GRE Score  TOEFL Score  University Rating  SOP  LOR   CGPA  \\\n",
       "0           1        337          118                  4  4.5   4.5  9.65   \n",
       "1           2        324          107                  4  4.0   4.5  8.87   \n",
       "2           3        316          104                  3  3.0   3.5  8.00   \n",
       "3           4        322          110                  3  3.5   2.5  8.67   \n",
       "4           5        314          103                  2  2.0   3.0  8.21   \n",
       "\n",
       "   Research  Chance of Admit   \n",
       "0         1              0.92  \n",
       "1         1              0.76  \n",
       "2         1              0.72  \n",
       "3         1              0.80  \n",
       "4         0              0.65  "
      ]
     },
     "execution_count": 805,
     "metadata": {},
     "output_type": "execute_result"
    }
   ],
   "source": [
    "import pandas as pd\n",
    "\n",
    "df = pd.read_csv('../Datasets/Admission_Predict.csv')\n",
    "df.head()"
   ]
  },
  {
   "cell_type": "code",
   "execution_count": 808,
   "metadata": {},
   "outputs": [
    {
     "data": {
      "text/html": [
       "<div>\n",
       "<style scoped>\n",
       "    .dataframe tbody tr th:only-of-type {\n",
       "        vertical-align: middle;\n",
       "    }\n",
       "\n",
       "    .dataframe tbody tr th {\n",
       "        vertical-align: top;\n",
       "    }\n",
       "\n",
       "    .dataframe thead th {\n",
       "        text-align: right;\n",
       "    }\n",
       "</style>\n",
       "<table border=\"1\" class=\"dataframe\">\n",
       "  <thead>\n",
       "    <tr style=\"text-align: right;\">\n",
       "      <th></th>\n",
       "      <th>GRE Score</th>\n",
       "      <th>TOEFL Score</th>\n",
       "      <th>University Rating</th>\n",
       "      <th>SOP</th>\n",
       "      <th>LOR</th>\n",
       "      <th>CGPA</th>\n",
       "      <th>Research</th>\n",
       "      <th>Chance of Admit</th>\n",
       "    </tr>\n",
       "    <tr>\n",
       "      <th>Serial No.</th>\n",
       "      <th></th>\n",
       "      <th></th>\n",
       "      <th></th>\n",
       "      <th></th>\n",
       "      <th></th>\n",
       "      <th></th>\n",
       "      <th></th>\n",
       "      <th></th>\n",
       "    </tr>\n",
       "  </thead>\n",
       "  <tbody>\n",
       "    <tr>\n",
       "      <th>1</th>\n",
       "      <td>337</td>\n",
       "      <td>118</td>\n",
       "      <td>4</td>\n",
       "      <td>4.5</td>\n",
       "      <td>4.5</td>\n",
       "      <td>9.65</td>\n",
       "      <td>1</td>\n",
       "      <td>0.92</td>\n",
       "    </tr>\n",
       "    <tr>\n",
       "      <th>2</th>\n",
       "      <td>324</td>\n",
       "      <td>107</td>\n",
       "      <td>4</td>\n",
       "      <td>4.0</td>\n",
       "      <td>4.5</td>\n",
       "      <td>8.87</td>\n",
       "      <td>1</td>\n",
       "      <td>0.76</td>\n",
       "    </tr>\n",
       "    <tr>\n",
       "      <th>3</th>\n",
       "      <td>316</td>\n",
       "      <td>104</td>\n",
       "      <td>3</td>\n",
       "      <td>3.0</td>\n",
       "      <td>3.5</td>\n",
       "      <td>8.00</td>\n",
       "      <td>1</td>\n",
       "      <td>0.72</td>\n",
       "    </tr>\n",
       "    <tr>\n",
       "      <th>4</th>\n",
       "      <td>322</td>\n",
       "      <td>110</td>\n",
       "      <td>3</td>\n",
       "      <td>3.5</td>\n",
       "      <td>2.5</td>\n",
       "      <td>8.67</td>\n",
       "      <td>1</td>\n",
       "      <td>0.80</td>\n",
       "    </tr>\n",
       "    <tr>\n",
       "      <th>5</th>\n",
       "      <td>314</td>\n",
       "      <td>103</td>\n",
       "      <td>2</td>\n",
       "      <td>2.0</td>\n",
       "      <td>3.0</td>\n",
       "      <td>8.21</td>\n",
       "      <td>0</td>\n",
       "      <td>0.65</td>\n",
       "    </tr>\n",
       "  </tbody>\n",
       "</table>\n",
       "</div>"
      ],
      "text/plain": [
       "            GRE Score  TOEFL Score  University Rating  SOP  LOR   CGPA  \\\n",
       "Serial No.                                                               \n",
       "1                 337          118                  4  4.5   4.5  9.65   \n",
       "2                 324          107                  4  4.0   4.5  8.87   \n",
       "3                 316          104                  3  3.0   3.5  8.00   \n",
       "4                 322          110                  3  3.5   2.5  8.67   \n",
       "5                 314          103                  2  2.0   3.0  8.21   \n",
       "\n",
       "            Research  Chance of Admit   \n",
       "Serial No.                              \n",
       "1                  1              0.92  \n",
       "2                  1              0.76  \n",
       "3                  1              0.72  \n",
       "4                  1              0.80  \n",
       "5                  0              0.65  "
      ]
     },
     "execution_count": 808,
     "metadata": {},
     "output_type": "execute_result"
    }
   ],
   "source": [
    "df = pd.read_csv('../Datasets/Admission_Predict.csv', index_col = 'Serial No.')\n",
    "df.head()"
   ]
  },
  {
   "cell_type": "code",
   "execution_count": 820,
   "metadata": {},
   "outputs": [
    {
     "data": {
      "text/html": [
       "<div>\n",
       "<style scoped>\n",
       "    .dataframe tbody tr th:only-of-type {\n",
       "        vertical-align: middle;\n",
       "    }\n",
       "\n",
       "    .dataframe tbody tr th {\n",
       "        vertical-align: top;\n",
       "    }\n",
       "\n",
       "    .dataframe thead th {\n",
       "        text-align: right;\n",
       "    }\n",
       "</style>\n",
       "<table border=\"1\" class=\"dataframe\">\n",
       "  <thead>\n",
       "    <tr style=\"text-align: right;\">\n",
       "      <th></th>\n",
       "      <th>GRE Score</th>\n",
       "      <th>TOEFL Score</th>\n",
       "      <th>University Rating</th>\n",
       "      <th>Statement of Purpose</th>\n",
       "      <th>LOR</th>\n",
       "      <th>CGPA</th>\n",
       "      <th>Research</th>\n",
       "      <th>Chance of Admit</th>\n",
       "    </tr>\n",
       "    <tr>\n",
       "      <th>Serial No.</th>\n",
       "      <th></th>\n",
       "      <th></th>\n",
       "      <th></th>\n",
       "      <th></th>\n",
       "      <th></th>\n",
       "      <th></th>\n",
       "      <th></th>\n",
       "      <th></th>\n",
       "    </tr>\n",
       "  </thead>\n",
       "  <tbody>\n",
       "    <tr>\n",
       "      <th>1</th>\n",
       "      <td>337</td>\n",
       "      <td>118</td>\n",
       "      <td>4</td>\n",
       "      <td>4.5</td>\n",
       "      <td>4.5</td>\n",
       "      <td>9.65</td>\n",
       "      <td>1</td>\n",
       "      <td>0.92</td>\n",
       "    </tr>\n",
       "    <tr>\n",
       "      <th>2</th>\n",
       "      <td>324</td>\n",
       "      <td>107</td>\n",
       "      <td>4</td>\n",
       "      <td>4.0</td>\n",
       "      <td>4.5</td>\n",
       "      <td>8.87</td>\n",
       "      <td>1</td>\n",
       "      <td>0.76</td>\n",
       "    </tr>\n",
       "    <tr>\n",
       "      <th>3</th>\n",
       "      <td>316</td>\n",
       "      <td>104</td>\n",
       "      <td>3</td>\n",
       "      <td>3.0</td>\n",
       "      <td>3.5</td>\n",
       "      <td>8.00</td>\n",
       "      <td>1</td>\n",
       "      <td>0.72</td>\n",
       "    </tr>\n",
       "    <tr>\n",
       "      <th>4</th>\n",
       "      <td>322</td>\n",
       "      <td>110</td>\n",
       "      <td>3</td>\n",
       "      <td>3.5</td>\n",
       "      <td>2.5</td>\n",
       "      <td>8.67</td>\n",
       "      <td>1</td>\n",
       "      <td>0.80</td>\n",
       "    </tr>\n",
       "    <tr>\n",
       "      <th>5</th>\n",
       "      <td>314</td>\n",
       "      <td>103</td>\n",
       "      <td>2</td>\n",
       "      <td>2.0</td>\n",
       "      <td>3.0</td>\n",
       "      <td>8.21</td>\n",
       "      <td>0</td>\n",
       "      <td>0.65</td>\n",
       "    </tr>\n",
       "  </tbody>\n",
       "</table>\n",
       "</div>"
      ],
      "text/plain": [
       "            GRE Score  TOEFL Score  University Rating  Statement of Purpose  \\\n",
       "Serial No.                                                                    \n",
       "1                 337          118                  4                   4.5   \n",
       "2                 324          107                  4                   4.0   \n",
       "3                 316          104                  3                   3.0   \n",
       "4                 322          110                  3                   3.5   \n",
       "5                 314          103                  2                   2.0   \n",
       "\n",
       "            LOR   CGPA  Research  Chance of Admit   \n",
       "Serial No.                                          \n",
       "1            4.5  9.65         1              0.92  \n",
       "2            4.5  8.87         1              0.76  \n",
       "3            3.5  8.00         1              0.72  \n",
       "4            2.5  8.67         1              0.80  \n",
       "5            3.0  8.21         0              0.65  "
      ]
     },
     "execution_count": 820,
     "metadata": {},
     "output_type": "execute_result"
    }
   ],
   "source": [
    "new_df = df.rename(columns = {'GRE Score': 'GRE Score',\n",
    "                              'TOEFL Score':'TOEFL Score',\n",
    "                              'University Rating': 'University Rating',\n",
    "                              'SOP' : 'Statement of Purpose',\n",
    "                              'LOR': 'Letter of Recomendation',\n",
    "                              'Research':'Research',\n",
    "                              'Chance of Admit': 'Chance of Admit'\n",
    "                            }\n",
    ")\n",
    "new_df.head()"
   ]
  },
  {
   "cell_type": "code",
   "execution_count": 821,
   "metadata": {},
   "outputs": [
    {
     "data": {
      "text/plain": [
       "Index(['GRE Score', 'TOEFL Score', 'University Rating', 'Statement of Purpose',\n",
       "       'LOR ', 'CGPA', 'Research', 'Chance of Admit '],\n",
       "      dtype='object')"
      ]
     },
     "execution_count": 821,
     "metadata": {},
     "output_type": "execute_result"
    }
   ],
   "source": [
    "new_df.columns"
   ]
  },
  {
   "cell_type": "code",
   "execution_count": 822,
   "metadata": {},
   "outputs": [
    {
     "data": {
      "text/html": [
       "<div>\n",
       "<style scoped>\n",
       "    .dataframe tbody tr th:only-of-type {\n",
       "        vertical-align: middle;\n",
       "    }\n",
       "\n",
       "    .dataframe tbody tr th {\n",
       "        vertical-align: top;\n",
       "    }\n",
       "\n",
       "    .dataframe thead th {\n",
       "        text-align: right;\n",
       "    }\n",
       "</style>\n",
       "<table border=\"1\" class=\"dataframe\">\n",
       "  <thead>\n",
       "    <tr style=\"text-align: right;\">\n",
       "      <th></th>\n",
       "      <th>GRE Score</th>\n",
       "      <th>TOEFL Score</th>\n",
       "      <th>University Rating</th>\n",
       "      <th>Statement of Purpose</th>\n",
       "      <th>Letter of Recomendation</th>\n",
       "      <th>CGPA</th>\n",
       "      <th>Research</th>\n",
       "      <th>Chance of Admit</th>\n",
       "    </tr>\n",
       "    <tr>\n",
       "      <th>Serial No.</th>\n",
       "      <th></th>\n",
       "      <th></th>\n",
       "      <th></th>\n",
       "      <th></th>\n",
       "      <th></th>\n",
       "      <th></th>\n",
       "      <th></th>\n",
       "      <th></th>\n",
       "    </tr>\n",
       "  </thead>\n",
       "  <tbody>\n",
       "    <tr>\n",
       "      <th>1</th>\n",
       "      <td>337</td>\n",
       "      <td>118</td>\n",
       "      <td>4</td>\n",
       "      <td>4.5</td>\n",
       "      <td>4.5</td>\n",
       "      <td>9.65</td>\n",
       "      <td>1</td>\n",
       "      <td>0.92</td>\n",
       "    </tr>\n",
       "    <tr>\n",
       "      <th>2</th>\n",
       "      <td>324</td>\n",
       "      <td>107</td>\n",
       "      <td>4</td>\n",
       "      <td>4.0</td>\n",
       "      <td>4.5</td>\n",
       "      <td>8.87</td>\n",
       "      <td>1</td>\n",
       "      <td>0.76</td>\n",
       "    </tr>\n",
       "    <tr>\n",
       "      <th>3</th>\n",
       "      <td>316</td>\n",
       "      <td>104</td>\n",
       "      <td>3</td>\n",
       "      <td>3.0</td>\n",
       "      <td>3.5</td>\n",
       "      <td>8.00</td>\n",
       "      <td>1</td>\n",
       "      <td>0.72</td>\n",
       "    </tr>\n",
       "    <tr>\n",
       "      <th>4</th>\n",
       "      <td>322</td>\n",
       "      <td>110</td>\n",
       "      <td>3</td>\n",
       "      <td>3.5</td>\n",
       "      <td>2.5</td>\n",
       "      <td>8.67</td>\n",
       "      <td>1</td>\n",
       "      <td>0.80</td>\n",
       "    </tr>\n",
       "    <tr>\n",
       "      <th>5</th>\n",
       "      <td>314</td>\n",
       "      <td>103</td>\n",
       "      <td>2</td>\n",
       "      <td>2.0</td>\n",
       "      <td>3.0</td>\n",
       "      <td>8.21</td>\n",
       "      <td>0</td>\n",
       "      <td>0.65</td>\n",
       "    </tr>\n",
       "  </tbody>\n",
       "</table>\n",
       "</div>"
      ],
      "text/plain": [
       "            GRE Score  TOEFL Score  University Rating  Statement of Purpose  \\\n",
       "Serial No.                                                                    \n",
       "1                 337          118                  4                   4.5   \n",
       "2                 324          107                  4                   4.0   \n",
       "3                 316          104                  3                   3.0   \n",
       "4                 322          110                  3                   3.5   \n",
       "5                 314          103                  2                   2.0   \n",
       "\n",
       "            Letter of Recomendation  CGPA  Research  Chance of Admit   \n",
       "Serial No.                                                             \n",
       "1                               4.5  9.65         1              0.92  \n",
       "2                               4.5  8.87         1              0.76  \n",
       "3                               3.5  8.00         1              0.72  \n",
       "4                               2.5  8.67         1              0.80  \n",
       "5                               3.0  8.21         0              0.65  "
      ]
     },
     "execution_count": 822,
     "metadata": {},
     "output_type": "execute_result"
    }
   ],
   "source": [
    "new_df = new_df.rename(columns = {'LOR ': 'Letter of Recomendation'\n",
    "                            }\n",
    ")\n",
    "new_df.head()"
   ]
  },
  {
   "cell_type": "code",
   "execution_count": 823,
   "metadata": {},
   "outputs": [
    {
     "data": {
      "text/html": [
       "<div>\n",
       "<style scoped>\n",
       "    .dataframe tbody tr th:only-of-type {\n",
       "        vertical-align: middle;\n",
       "    }\n",
       "\n",
       "    .dataframe tbody tr th {\n",
       "        vertical-align: top;\n",
       "    }\n",
       "\n",
       "    .dataframe thead th {\n",
       "        text-align: right;\n",
       "    }\n",
       "</style>\n",
       "<table border=\"1\" class=\"dataframe\">\n",
       "  <thead>\n",
       "    <tr style=\"text-align: right;\">\n",
       "      <th></th>\n",
       "      <th>GRE Score</th>\n",
       "      <th>TOEFL Score</th>\n",
       "      <th>University Rating</th>\n",
       "      <th>Statement of Purpose</th>\n",
       "      <th>Letter of Recomendation</th>\n",
       "      <th>CGPA</th>\n",
       "      <th>Research</th>\n",
       "      <th>Chance of Admit</th>\n",
       "    </tr>\n",
       "    <tr>\n",
       "      <th>Serial No.</th>\n",
       "      <th></th>\n",
       "      <th></th>\n",
       "      <th></th>\n",
       "      <th></th>\n",
       "      <th></th>\n",
       "      <th></th>\n",
       "      <th></th>\n",
       "      <th></th>\n",
       "    </tr>\n",
       "  </thead>\n",
       "  <tbody>\n",
       "    <tr>\n",
       "      <th>1</th>\n",
       "      <td>337</td>\n",
       "      <td>118</td>\n",
       "      <td>4</td>\n",
       "      <td>4.5</td>\n",
       "      <td>4.5</td>\n",
       "      <td>9.65</td>\n",
       "      <td>1</td>\n",
       "      <td>0.92</td>\n",
       "    </tr>\n",
       "    <tr>\n",
       "      <th>2</th>\n",
       "      <td>324</td>\n",
       "      <td>107</td>\n",
       "      <td>4</td>\n",
       "      <td>4.0</td>\n",
       "      <td>4.5</td>\n",
       "      <td>8.87</td>\n",
       "      <td>1</td>\n",
       "      <td>0.76</td>\n",
       "    </tr>\n",
       "    <tr>\n",
       "      <th>3</th>\n",
       "      <td>316</td>\n",
       "      <td>104</td>\n",
       "      <td>3</td>\n",
       "      <td>3.0</td>\n",
       "      <td>3.5</td>\n",
       "      <td>8.00</td>\n",
       "      <td>1</td>\n",
       "      <td>0.72</td>\n",
       "    </tr>\n",
       "    <tr>\n",
       "      <th>4</th>\n",
       "      <td>322</td>\n",
       "      <td>110</td>\n",
       "      <td>3</td>\n",
       "      <td>3.5</td>\n",
       "      <td>2.5</td>\n",
       "      <td>8.67</td>\n",
       "      <td>1</td>\n",
       "      <td>0.80</td>\n",
       "    </tr>\n",
       "    <tr>\n",
       "      <th>5</th>\n",
       "      <td>314</td>\n",
       "      <td>103</td>\n",
       "      <td>2</td>\n",
       "      <td>2.0</td>\n",
       "      <td>3.0</td>\n",
       "      <td>8.21</td>\n",
       "      <td>0</td>\n",
       "      <td>0.65</td>\n",
       "    </tr>\n",
       "  </tbody>\n",
       "</table>\n",
       "</div>"
      ],
      "text/plain": [
       "            GRE Score  TOEFL Score  University Rating  Statement of Purpose  \\\n",
       "Serial No.                                                                    \n",
       "1                 337          118                  4                   4.5   \n",
       "2                 324          107                  4                   4.0   \n",
       "3                 316          104                  3                   3.0   \n",
       "4                 322          110                  3                   3.5   \n",
       "5                 314          103                  2                   2.0   \n",
       "\n",
       "            Letter of Recomendation  CGPA  Research  Chance of Admit  \n",
       "Serial No.                                                            \n",
       "1                               4.5  9.65         1             0.92  \n",
       "2                               4.5  8.87         1             0.76  \n",
       "3                               3.5  8.00         1             0.72  \n",
       "4                               2.5  8.67         1             0.80  \n",
       "5                               3.0  8.21         0             0.65  "
      ]
     },
     "execution_count": 823,
     "metadata": {},
     "output_type": "execute_result"
    }
   ],
   "source": [
    "new_df = new_df.rename(mapper = str.strip, axis = 'columns')\n",
    "new_df.head()"
   ]
  },
  {
   "cell_type": "code",
   "execution_count": 829,
   "metadata": {},
   "outputs": [
    {
     "data": {
      "text/plain": [
       "Index(['gre score', 'toefl score', 'university rating', 'sop', 'lor ', 'cgpa',\n",
       "       'research', 'chance of admit '],\n",
       "      dtype='object')"
      ]
     },
     "execution_count": 829,
     "metadata": {},
     "output_type": "execute_result"
    }
   ],
   "source": [
    "cols = list(df.columns)\n",
    "columns = [col.lower() for col in cols]\n",
    "\n",
    "df.columns = columns\n",
    "df.head()\n",
    "df.columns"
   ]
  },
  {
   "cell_type": "code",
   "execution_count": 831,
   "metadata": {},
   "outputs": [
    {
     "data": {
      "text/plain": [
       "Index(['gre score', 'toefl score', 'university rating', 'sop', 'lor', 'cgpa',\n",
       "       'research', 'chance of admit'],\n",
       "      dtype='object')"
      ]
     },
     "execution_count": 831,
     "metadata": {},
     "output_type": "execute_result"
    }
   ],
   "source": [
    "cols = list(df.columns)\n",
    "columns = [col.lower().strip() for col in cols]\n",
    "\n",
    "df.columns = columns\n",
    "df.head()\n",
    "df.columns"
   ]
  },
  {
   "cell_type": "code",
   "execution_count": 7,
   "metadata": {},
   "outputs": [
    {
     "data": {
      "text/html": [
       "<div>\n",
       "<style scoped>\n",
       "    .dataframe tbody tr th:only-of-type {\n",
       "        vertical-align: middle;\n",
       "    }\n",
       "\n",
       "    .dataframe tbody tr th {\n",
       "        vertical-align: top;\n",
       "    }\n",
       "\n",
       "    .dataframe thead th {\n",
       "        text-align: right;\n",
       "    }\n",
       "</style>\n",
       "<table border=\"1\" class=\"dataframe\">\n",
       "  <thead>\n",
       "    <tr style=\"text-align: right;\">\n",
       "      <th></th>\n",
       "      <th>gre score</th>\n",
       "      <th>toefl score</th>\n",
       "      <th>university rating</th>\n",
       "      <th>sop</th>\n",
       "      <th>lor</th>\n",
       "      <th>cgpa</th>\n",
       "      <th>research</th>\n",
       "      <th>chance of admit</th>\n",
       "    </tr>\n",
       "    <tr>\n",
       "      <th>Serial No.</th>\n",
       "      <th></th>\n",
       "      <th></th>\n",
       "      <th></th>\n",
       "      <th></th>\n",
       "      <th></th>\n",
       "      <th></th>\n",
       "      <th></th>\n",
       "      <th></th>\n",
       "    </tr>\n",
       "  </thead>\n",
       "  <tbody>\n",
       "    <tr>\n",
       "      <th>1</th>\n",
       "      <td>337</td>\n",
       "      <td>118</td>\n",
       "      <td>4</td>\n",
       "      <td>4.5</td>\n",
       "      <td>4.5</td>\n",
       "      <td>9.65</td>\n",
       "      <td>1</td>\n",
       "      <td>0.92</td>\n",
       "    </tr>\n",
       "    <tr>\n",
       "      <th>2</th>\n",
       "      <td>324</td>\n",
       "      <td>107</td>\n",
       "      <td>4</td>\n",
       "      <td>4.0</td>\n",
       "      <td>4.5</td>\n",
       "      <td>8.87</td>\n",
       "      <td>1</td>\n",
       "      <td>0.76</td>\n",
       "    </tr>\n",
       "    <tr>\n",
       "      <th>3</th>\n",
       "      <td>316</td>\n",
       "      <td>104</td>\n",
       "      <td>3</td>\n",
       "      <td>3.0</td>\n",
       "      <td>3.5</td>\n",
       "      <td>8.00</td>\n",
       "      <td>1</td>\n",
       "      <td>0.72</td>\n",
       "    </tr>\n",
       "    <tr>\n",
       "      <th>4</th>\n",
       "      <td>322</td>\n",
       "      <td>110</td>\n",
       "      <td>3</td>\n",
       "      <td>3.5</td>\n",
       "      <td>2.5</td>\n",
       "      <td>8.67</td>\n",
       "      <td>1</td>\n",
       "      <td>0.80</td>\n",
       "    </tr>\n",
       "    <tr>\n",
       "      <th>5</th>\n",
       "      <td>314</td>\n",
       "      <td>103</td>\n",
       "      <td>2</td>\n",
       "      <td>2.0</td>\n",
       "      <td>3.0</td>\n",
       "      <td>8.21</td>\n",
       "      <td>0</td>\n",
       "      <td>0.65</td>\n",
       "    </tr>\n",
       "  </tbody>\n",
       "</table>\n",
       "</div>"
      ],
      "text/plain": [
       "            gre score  toefl score  university rating  sop  lor  cgpa  \\\n",
       "Serial No.                                                              \n",
       "1                 337          118                  4  4.5  4.5  9.65   \n",
       "2                 324          107                  4  4.0  4.5  8.87   \n",
       "3                 316          104                  3  3.0  3.5  8.00   \n",
       "4                 322          110                  3  3.5  2.5  8.67   \n",
       "5                 314          103                  2  2.0  3.0  8.21   \n",
       "\n",
       "            research  chance of admit  \n",
       "Serial No.                             \n",
       "1                  1             0.92  \n",
       "2                  1             0.76  \n",
       "3                  1             0.72  \n",
       "4                  1             0.80  \n",
       "5                  0             0.65  "
      ]
     },
     "execution_count": 7,
     "metadata": {},
     "output_type": "execute_result"
    }
   ],
   "source": [
    "## boolean masking\n",
    "import pandas as pd\n",
    "\n",
    "df = pd.read_csv('../Datasets/Admission_Predict.csv', index_col=0) # Serial No. is the index\n",
    "df.columns = [column.lower().strip() for column in df.columns]\n",
    "df.head()"
   ]
  },
  {
   "cell_type": "code",
   "execution_count": 8,
   "metadata": {},
   "outputs": [
    {
     "data": {
      "text/plain": [
       "Serial No.\n",
       "1       True\n",
       "2       True\n",
       "3       True\n",
       "4       True\n",
       "5      False\n",
       "       ...  \n",
       "396     True\n",
       "397     True\n",
       "398     True\n",
       "399    False\n",
       "400     True\n",
       "Name: chance of admit, Length: 400, dtype: bool"
      ]
     },
     "execution_count": 8,
     "metadata": {},
     "output_type": "execute_result"
    }
   ],
   "source": [
    "admit_mask = df['chance of admit'] > 0.7\n",
    "admit_mask ## this is a boolean mask"
   ]
  },
  {
   "cell_type": "code",
   "execution_count": 9,
   "metadata": {},
   "outputs": [
    {
     "data": {
      "text/html": [
       "<div>\n",
       "<style scoped>\n",
       "    .dataframe tbody tr th:only-of-type {\n",
       "        vertical-align: middle;\n",
       "    }\n",
       "\n",
       "    .dataframe tbody tr th {\n",
       "        vertical-align: top;\n",
       "    }\n",
       "\n",
       "    .dataframe thead th {\n",
       "        text-align: right;\n",
       "    }\n",
       "</style>\n",
       "<table border=\"1\" class=\"dataframe\">\n",
       "  <thead>\n",
       "    <tr style=\"text-align: right;\">\n",
       "      <th></th>\n",
       "      <th>gre score</th>\n",
       "      <th>toefl score</th>\n",
       "      <th>university rating</th>\n",
       "      <th>sop</th>\n",
       "      <th>lor</th>\n",
       "      <th>cgpa</th>\n",
       "      <th>research</th>\n",
       "      <th>chance of admit</th>\n",
       "    </tr>\n",
       "    <tr>\n",
       "      <th>Serial No.</th>\n",
       "      <th></th>\n",
       "      <th></th>\n",
       "      <th></th>\n",
       "      <th></th>\n",
       "      <th></th>\n",
       "      <th></th>\n",
       "      <th></th>\n",
       "      <th></th>\n",
       "    </tr>\n",
       "  </thead>\n",
       "  <tbody>\n",
       "    <tr>\n",
       "      <th>1</th>\n",
       "      <td>337.0</td>\n",
       "      <td>118.0</td>\n",
       "      <td>4.0</td>\n",
       "      <td>4.5</td>\n",
       "      <td>4.5</td>\n",
       "      <td>9.65</td>\n",
       "      <td>1.0</td>\n",
       "      <td>0.92</td>\n",
       "    </tr>\n",
       "    <tr>\n",
       "      <th>2</th>\n",
       "      <td>324.0</td>\n",
       "      <td>107.0</td>\n",
       "      <td>4.0</td>\n",
       "      <td>4.0</td>\n",
       "      <td>4.5</td>\n",
       "      <td>8.87</td>\n",
       "      <td>1.0</td>\n",
       "      <td>0.76</td>\n",
       "    </tr>\n",
       "    <tr>\n",
       "      <th>3</th>\n",
       "      <td>316.0</td>\n",
       "      <td>104.0</td>\n",
       "      <td>3.0</td>\n",
       "      <td>3.0</td>\n",
       "      <td>3.5</td>\n",
       "      <td>8.00</td>\n",
       "      <td>1.0</td>\n",
       "      <td>0.72</td>\n",
       "    </tr>\n",
       "    <tr>\n",
       "      <th>4</th>\n",
       "      <td>322.0</td>\n",
       "      <td>110.0</td>\n",
       "      <td>3.0</td>\n",
       "      <td>3.5</td>\n",
       "      <td>2.5</td>\n",
       "      <td>8.67</td>\n",
       "      <td>1.0</td>\n",
       "      <td>0.80</td>\n",
       "    </tr>\n",
       "    <tr>\n",
       "      <th>5</th>\n",
       "      <td>NaN</td>\n",
       "      <td>NaN</td>\n",
       "      <td>NaN</td>\n",
       "      <td>NaN</td>\n",
       "      <td>NaN</td>\n",
       "      <td>NaN</td>\n",
       "      <td>NaN</td>\n",
       "      <td>NaN</td>\n",
       "    </tr>\n",
       "  </tbody>\n",
       "</table>\n",
       "</div>"
      ],
      "text/plain": [
       "            gre score  toefl score  university rating  sop  lor  cgpa  \\\n",
       "Serial No.                                                              \n",
       "1               337.0        118.0                4.0  4.5  4.5  9.65   \n",
       "2               324.0        107.0                4.0  4.0  4.5  8.87   \n",
       "3               316.0        104.0                3.0  3.0  3.5  8.00   \n",
       "4               322.0        110.0                3.0  3.5  2.5  8.67   \n",
       "5                 NaN          NaN                NaN  NaN  NaN   NaN   \n",
       "\n",
       "            research  chance of admit  \n",
       "Serial No.                             \n",
       "1                1.0             0.92  \n",
       "2                1.0             0.76  \n",
       "3                1.0             0.72  \n",
       "4                1.0             0.80  \n",
       "5                NaN              NaN  "
      ]
     },
     "execution_count": 9,
     "metadata": {},
     "output_type": "execute_result"
    }
   ],
   "source": [
    "df.where(admit_mask).head()"
   ]
  },
  {
   "cell_type": "code",
   "execution_count": 10,
   "metadata": {},
   "outputs": [
    {
     "data": {
      "text/html": [
       "<div>\n",
       "<style scoped>\n",
       "    .dataframe tbody tr th:only-of-type {\n",
       "        vertical-align: middle;\n",
       "    }\n",
       "\n",
       "    .dataframe tbody tr th {\n",
       "        vertical-align: top;\n",
       "    }\n",
       "\n",
       "    .dataframe thead th {\n",
       "        text-align: right;\n",
       "    }\n",
       "</style>\n",
       "<table border=\"1\" class=\"dataframe\">\n",
       "  <thead>\n",
       "    <tr style=\"text-align: right;\">\n",
       "      <th></th>\n",
       "      <th>gre score</th>\n",
       "      <th>toefl score</th>\n",
       "      <th>university rating</th>\n",
       "      <th>sop</th>\n",
       "      <th>lor</th>\n",
       "      <th>cgpa</th>\n",
       "      <th>research</th>\n",
       "      <th>chance of admit</th>\n",
       "    </tr>\n",
       "    <tr>\n",
       "      <th>Serial No.</th>\n",
       "      <th></th>\n",
       "      <th></th>\n",
       "      <th></th>\n",
       "      <th></th>\n",
       "      <th></th>\n",
       "      <th></th>\n",
       "      <th></th>\n",
       "      <th></th>\n",
       "    </tr>\n",
       "  </thead>\n",
       "  <tbody>\n",
       "    <tr>\n",
       "      <th>1</th>\n",
       "      <td>337.0</td>\n",
       "      <td>118.0</td>\n",
       "      <td>4.0</td>\n",
       "      <td>4.5</td>\n",
       "      <td>4.5</td>\n",
       "      <td>9.65</td>\n",
       "      <td>1.0</td>\n",
       "      <td>0.92</td>\n",
       "    </tr>\n",
       "    <tr>\n",
       "      <th>2</th>\n",
       "      <td>324.0</td>\n",
       "      <td>107.0</td>\n",
       "      <td>4.0</td>\n",
       "      <td>4.0</td>\n",
       "      <td>4.5</td>\n",
       "      <td>8.87</td>\n",
       "      <td>1.0</td>\n",
       "      <td>0.76</td>\n",
       "    </tr>\n",
       "    <tr>\n",
       "      <th>3</th>\n",
       "      <td>316.0</td>\n",
       "      <td>104.0</td>\n",
       "      <td>3.0</td>\n",
       "      <td>3.0</td>\n",
       "      <td>3.5</td>\n",
       "      <td>8.00</td>\n",
       "      <td>1.0</td>\n",
       "      <td>0.72</td>\n",
       "    </tr>\n",
       "    <tr>\n",
       "      <th>4</th>\n",
       "      <td>322.0</td>\n",
       "      <td>110.0</td>\n",
       "      <td>3.0</td>\n",
       "      <td>3.5</td>\n",
       "      <td>2.5</td>\n",
       "      <td>8.67</td>\n",
       "      <td>1.0</td>\n",
       "      <td>0.80</td>\n",
       "    </tr>\n",
       "    <tr>\n",
       "      <th>6</th>\n",
       "      <td>330.0</td>\n",
       "      <td>115.0</td>\n",
       "      <td>5.0</td>\n",
       "      <td>4.5</td>\n",
       "      <td>3.0</td>\n",
       "      <td>9.34</td>\n",
       "      <td>1.0</td>\n",
       "      <td>0.90</td>\n",
       "    </tr>\n",
       "  </tbody>\n",
       "</table>\n",
       "</div>"
      ],
      "text/plain": [
       "            gre score  toefl score  university rating  sop  lor  cgpa  \\\n",
       "Serial No.                                                              \n",
       "1               337.0        118.0                4.0  4.5  4.5  9.65   \n",
       "2               324.0        107.0                4.0  4.0  4.5  8.87   \n",
       "3               316.0        104.0                3.0  3.0  3.5  8.00   \n",
       "4               322.0        110.0                3.0  3.5  2.5  8.67   \n",
       "6               330.0        115.0                5.0  4.5  3.0  9.34   \n",
       "\n",
       "            research  chance of admit  \n",
       "Serial No.                             \n",
       "1                1.0             0.92  \n",
       "2                1.0             0.76  \n",
       "3                1.0             0.72  \n",
       "4                1.0             0.80  \n",
       "6                1.0             0.90  "
      ]
     },
     "execution_count": 10,
     "metadata": {},
     "output_type": "execute_result"
    }
   ],
   "source": [
    "df.where(admit_mask).dropna().head()"
   ]
  },
  {
   "cell_type": "code",
   "execution_count": 12,
   "metadata": {},
   "outputs": [
    {
     "data": {
      "text/html": [
       "<div>\n",
       "<style scoped>\n",
       "    .dataframe tbody tr th:only-of-type {\n",
       "        vertical-align: middle;\n",
       "    }\n",
       "\n",
       "    .dataframe tbody tr th {\n",
       "        vertical-align: top;\n",
       "    }\n",
       "\n",
       "    .dataframe thead th {\n",
       "        text-align: right;\n",
       "    }\n",
       "</style>\n",
       "<table border=\"1\" class=\"dataframe\">\n",
       "  <thead>\n",
       "    <tr style=\"text-align: right;\">\n",
       "      <th></th>\n",
       "      <th>gre score</th>\n",
       "      <th>toefl score</th>\n",
       "      <th>university rating</th>\n",
       "      <th>sop</th>\n",
       "      <th>lor</th>\n",
       "      <th>cgpa</th>\n",
       "      <th>research</th>\n",
       "      <th>chance of admit</th>\n",
       "    </tr>\n",
       "    <tr>\n",
       "      <th>Serial No.</th>\n",
       "      <th></th>\n",
       "      <th></th>\n",
       "      <th></th>\n",
       "      <th></th>\n",
       "      <th></th>\n",
       "      <th></th>\n",
       "      <th></th>\n",
       "      <th></th>\n",
       "    </tr>\n",
       "  </thead>\n",
       "  <tbody>\n",
       "    <tr>\n",
       "      <th>1</th>\n",
       "      <td>337</td>\n",
       "      <td>118</td>\n",
       "      <td>4</td>\n",
       "      <td>4.5</td>\n",
       "      <td>4.5</td>\n",
       "      <td>9.65</td>\n",
       "      <td>1</td>\n",
       "      <td>0.92</td>\n",
       "    </tr>\n",
       "    <tr>\n",
       "      <th>2</th>\n",
       "      <td>324</td>\n",
       "      <td>107</td>\n",
       "      <td>4</td>\n",
       "      <td>4.0</td>\n",
       "      <td>4.5</td>\n",
       "      <td>8.87</td>\n",
       "      <td>1</td>\n",
       "      <td>0.76</td>\n",
       "    </tr>\n",
       "    <tr>\n",
       "      <th>3</th>\n",
       "      <td>316</td>\n",
       "      <td>104</td>\n",
       "      <td>3</td>\n",
       "      <td>3.0</td>\n",
       "      <td>3.5</td>\n",
       "      <td>8.00</td>\n",
       "      <td>1</td>\n",
       "      <td>0.72</td>\n",
       "    </tr>\n",
       "    <tr>\n",
       "      <th>4</th>\n",
       "      <td>322</td>\n",
       "      <td>110</td>\n",
       "      <td>3</td>\n",
       "      <td>3.5</td>\n",
       "      <td>2.5</td>\n",
       "      <td>8.67</td>\n",
       "      <td>1</td>\n",
       "      <td>0.80</td>\n",
       "    </tr>\n",
       "    <tr>\n",
       "      <th>6</th>\n",
       "      <td>330</td>\n",
       "      <td>115</td>\n",
       "      <td>5</td>\n",
       "      <td>4.5</td>\n",
       "      <td>3.0</td>\n",
       "      <td>9.34</td>\n",
       "      <td>1</td>\n",
       "      <td>0.90</td>\n",
       "    </tr>\n",
       "  </tbody>\n",
       "</table>\n",
       "</div>"
      ],
      "text/plain": [
       "            gre score  toefl score  university rating  sop  lor  cgpa  \\\n",
       "Serial No.                                                              \n",
       "1                 337          118                  4  4.5  4.5  9.65   \n",
       "2                 324          107                  4  4.0  4.5  8.87   \n",
       "3                 316          104                  3  3.0  3.5  8.00   \n",
       "4                 322          110                  3  3.5  2.5  8.67   \n",
       "6                 330          115                  5  4.5  3.0  9.34   \n",
       "\n",
       "            research  chance of admit  \n",
       "Serial No.                             \n",
       "1                  1             0.92  \n",
       "2                  1             0.76  \n",
       "3                  1             0.72  \n",
       "4                  1             0.80  \n",
       "6                  1             0.90  "
      ]
     },
     "execution_count": 12,
     "metadata": {},
     "output_type": "execute_result"
    }
   ],
   "source": [
    "df[df['chance of admit'] > 0.7].head()"
   ]
  },
  {
   "cell_type": "code",
   "execution_count": 14,
   "metadata": {},
   "outputs": [
    {
     "data": {
      "text/plain": [
       "Serial No.\n",
       "1    337\n",
       "2    324\n",
       "3    316\n",
       "4    322\n",
       "5    314\n",
       "Name: gre score, dtype: int64"
      ]
     },
     "execution_count": 14,
     "metadata": {},
     "output_type": "execute_result"
    }
   ],
   "source": [
    "df['gre score'].head()"
   ]
  },
  {
   "cell_type": "code",
   "execution_count": 15,
   "metadata": {},
   "outputs": [
    {
     "data": {
      "text/plain": [
       "pandas.core.series.Series"
      ]
     },
     "execution_count": 15,
     "metadata": {},
     "output_type": "execute_result"
    }
   ],
   "source": [
    "type(df['gre score'].head())"
   ]
  },
  {
   "cell_type": "code",
   "execution_count": 16,
   "metadata": {},
   "outputs": [
    {
     "data": {
      "text/html": [
       "<div>\n",
       "<style scoped>\n",
       "    .dataframe tbody tr th:only-of-type {\n",
       "        vertical-align: middle;\n",
       "    }\n",
       "\n",
       "    .dataframe tbody tr th {\n",
       "        vertical-align: top;\n",
       "    }\n",
       "\n",
       "    .dataframe thead th {\n",
       "        text-align: right;\n",
       "    }\n",
       "</style>\n",
       "<table border=\"1\" class=\"dataframe\">\n",
       "  <thead>\n",
       "    <tr style=\"text-align: right;\">\n",
       "      <th></th>\n",
       "      <th>gre score</th>\n",
       "      <th>toefl score</th>\n",
       "    </tr>\n",
       "    <tr>\n",
       "      <th>Serial No.</th>\n",
       "      <th></th>\n",
       "      <th></th>\n",
       "    </tr>\n",
       "  </thead>\n",
       "  <tbody>\n",
       "    <tr>\n",
       "      <th>1</th>\n",
       "      <td>337</td>\n",
       "      <td>118</td>\n",
       "    </tr>\n",
       "    <tr>\n",
       "      <th>2</th>\n",
       "      <td>324</td>\n",
       "      <td>107</td>\n",
       "    </tr>\n",
       "    <tr>\n",
       "      <th>3</th>\n",
       "      <td>316</td>\n",
       "      <td>104</td>\n",
       "    </tr>\n",
       "    <tr>\n",
       "      <th>4</th>\n",
       "      <td>322</td>\n",
       "      <td>110</td>\n",
       "    </tr>\n",
       "    <tr>\n",
       "      <th>5</th>\n",
       "      <td>314</td>\n",
       "      <td>103</td>\n",
       "    </tr>\n",
       "  </tbody>\n",
       "</table>\n",
       "</div>"
      ],
      "text/plain": [
       "            gre score  toefl score\n",
       "Serial No.                        \n",
       "1                 337          118\n",
       "2                 324          107\n",
       "3                 316          104\n",
       "4                 322          110\n",
       "5                 314          103"
      ]
     },
     "execution_count": 16,
     "metadata": {},
     "output_type": "execute_result"
    }
   ],
   "source": [
    "df[['gre score', 'toefl score']].head()"
   ]
  },
  {
   "cell_type": "code",
   "execution_count": 17,
   "metadata": {},
   "outputs": [
    {
     "data": {
      "text/html": [
       "<div>\n",
       "<style scoped>\n",
       "    .dataframe tbody tr th:only-of-type {\n",
       "        vertical-align: middle;\n",
       "    }\n",
       "\n",
       "    .dataframe tbody tr th {\n",
       "        vertical-align: top;\n",
       "    }\n",
       "\n",
       "    .dataframe thead th {\n",
       "        text-align: right;\n",
       "    }\n",
       "</style>\n",
       "<table border=\"1\" class=\"dataframe\">\n",
       "  <thead>\n",
       "    <tr style=\"text-align: right;\">\n",
       "      <th></th>\n",
       "      <th>gre score</th>\n",
       "      <th>toefl score</th>\n",
       "      <th>university rating</th>\n",
       "      <th>sop</th>\n",
       "      <th>lor</th>\n",
       "      <th>cgpa</th>\n",
       "      <th>research</th>\n",
       "      <th>chance of admit</th>\n",
       "    </tr>\n",
       "    <tr>\n",
       "      <th>Serial No.</th>\n",
       "      <th></th>\n",
       "      <th></th>\n",
       "      <th></th>\n",
       "      <th></th>\n",
       "      <th></th>\n",
       "      <th></th>\n",
       "      <th></th>\n",
       "      <th></th>\n",
       "    </tr>\n",
       "  </thead>\n",
       "  <tbody>\n",
       "    <tr>\n",
       "      <th>1</th>\n",
       "      <td>337</td>\n",
       "      <td>118</td>\n",
       "      <td>4</td>\n",
       "      <td>4.5</td>\n",
       "      <td>4.5</td>\n",
       "      <td>9.65</td>\n",
       "      <td>1</td>\n",
       "      <td>0.92</td>\n",
       "    </tr>\n",
       "    <tr>\n",
       "      <th>2</th>\n",
       "      <td>324</td>\n",
       "      <td>107</td>\n",
       "      <td>4</td>\n",
       "      <td>4.0</td>\n",
       "      <td>4.5</td>\n",
       "      <td>8.87</td>\n",
       "      <td>1</td>\n",
       "      <td>0.76</td>\n",
       "    </tr>\n",
       "    <tr>\n",
       "      <th>4</th>\n",
       "      <td>322</td>\n",
       "      <td>110</td>\n",
       "      <td>3</td>\n",
       "      <td>3.5</td>\n",
       "      <td>2.5</td>\n",
       "      <td>8.67</td>\n",
       "      <td>1</td>\n",
       "      <td>0.80</td>\n",
       "    </tr>\n",
       "    <tr>\n",
       "      <th>6</th>\n",
       "      <td>330</td>\n",
       "      <td>115</td>\n",
       "      <td>5</td>\n",
       "      <td>4.5</td>\n",
       "      <td>3.0</td>\n",
       "      <td>9.34</td>\n",
       "      <td>1</td>\n",
       "      <td>0.90</td>\n",
       "    </tr>\n",
       "    <tr>\n",
       "      <th>7</th>\n",
       "      <td>321</td>\n",
       "      <td>109</td>\n",
       "      <td>3</td>\n",
       "      <td>3.0</td>\n",
       "      <td>4.0</td>\n",
       "      <td>8.20</td>\n",
       "      <td>1</td>\n",
       "      <td>0.75</td>\n",
       "    </tr>\n",
       "  </tbody>\n",
       "</table>\n",
       "</div>"
      ],
      "text/plain": [
       "            gre score  toefl score  university rating  sop  lor  cgpa  \\\n",
       "Serial No.                                                              \n",
       "1                 337          118                  4  4.5  4.5  9.65   \n",
       "2                 324          107                  4  4.0  4.5  8.87   \n",
       "4                 322          110                  3  3.5  2.5  8.67   \n",
       "6                 330          115                  5  4.5  3.0  9.34   \n",
       "7                 321          109                  3  3.0  4.0  8.20   \n",
       "\n",
       "            research  chance of admit  \n",
       "Serial No.                             \n",
       "1                  1             0.92  \n",
       "2                  1             0.76  \n",
       "4                  1             0.80  \n",
       "6                  1             0.90  \n",
       "7                  1             0.75  "
      ]
     },
     "execution_count": 17,
     "metadata": {},
     "output_type": "execute_result"
    }
   ],
   "source": [
    "df[df['gre score']>320].head()"
   ]
  },
  {
   "cell_type": "code",
   "execution_count": 22,
   "metadata": {},
   "outputs": [
    {
     "data": {
      "text/plain": [
       "Serial No.\n",
       "1       True\n",
       "2       True\n",
       "3      False\n",
       "4       True\n",
       "5      False\n",
       "       ...  \n",
       "396     True\n",
       "397     True\n",
       "398     True\n",
       "399    False\n",
       "400     True\n",
       "Length: 400, dtype: bool"
      ]
     },
     "execution_count": 22,
     "metadata": {},
     "output_type": "execute_result"
    }
   ],
   "source": [
    "(df['chance of admit'] > 0.7) & (df['gre score']>320)\n",
    "# we need the parenthesis"
   ]
  },
  {
   "cell_type": "code",
   "execution_count": 23,
   "metadata": {},
   "outputs": [
    {
     "data": {
      "text/plain": [
       "Serial No.\n",
       "1      False\n",
       "2      False\n",
       "3      False\n",
       "4      False\n",
       "5      False\n",
       "       ...  \n",
       "396    False\n",
       "397    False\n",
       "398    False\n",
       "399    False\n",
       "400    False\n",
       "Length: 400, dtype: bool"
      ]
     },
     "execution_count": 23,
     "metadata": {},
     "output_type": "execute_result"
    }
   ],
   "source": [
    "df['chance of admit'].gt(0.7) & df['gre score'].lt(0.9)\n"
   ]
  },
  {
   "cell_type": "code",
   "execution_count": 25,
   "metadata": {},
   "outputs": [
    {
     "data": {
      "text/plain": [
       "Serial No.\n",
       "1      False\n",
       "2      False\n",
       "3      False\n",
       "4      False\n",
       "5       True\n",
       "       ...  \n",
       "396    False\n",
       "397    False\n",
       "398    False\n",
       "399     True\n",
       "400    False\n",
       "Name: chance of admit, Length: 400, dtype: bool"
      ]
     },
     "execution_count": 25,
     "metadata": {},
     "output_type": "execute_result"
    }
   ],
   "source": [
    "df['chance of admit'].gt(0.7).lt(0.9) # another way"
   ]
  },
  {
   "cell_type": "code",
   "execution_count": 34,
   "metadata": {},
   "outputs": [
    {
     "data": {
      "text/html": [
       "<div>\n",
       "<style scoped>\n",
       "    .dataframe tbody tr th:only-of-type {\n",
       "        vertical-align: middle;\n",
       "    }\n",
       "\n",
       "    .dataframe tbody tr th {\n",
       "        vertical-align: top;\n",
       "    }\n",
       "\n",
       "    .dataframe thead th {\n",
       "        text-align: right;\n",
       "    }\n",
       "</style>\n",
       "<table border=\"1\" class=\"dataframe\">\n",
       "  <thead>\n",
       "    <tr style=\"text-align: right;\">\n",
       "      <th></th>\n",
       "      <th>GRE Score</th>\n",
       "      <th>TOEFL Score</th>\n",
       "      <th>University Rating</th>\n",
       "      <th>SOP</th>\n",
       "      <th>LOR</th>\n",
       "      <th>CGPA</th>\n",
       "      <th>Research</th>\n",
       "      <th>Chance of Admit</th>\n",
       "    </tr>\n",
       "    <tr>\n",
       "      <th>Serial No.</th>\n",
       "      <th></th>\n",
       "      <th></th>\n",
       "      <th></th>\n",
       "      <th></th>\n",
       "      <th></th>\n",
       "      <th></th>\n",
       "      <th></th>\n",
       "      <th></th>\n",
       "    </tr>\n",
       "  </thead>\n",
       "  <tbody>\n",
       "    <tr>\n",
       "      <th>1</th>\n",
       "      <td>337</td>\n",
       "      <td>118</td>\n",
       "      <td>4</td>\n",
       "      <td>4.5</td>\n",
       "      <td>4.5</td>\n",
       "      <td>9.65</td>\n",
       "      <td>1</td>\n",
       "      <td>0.92</td>\n",
       "    </tr>\n",
       "    <tr>\n",
       "      <th>2</th>\n",
       "      <td>324</td>\n",
       "      <td>107</td>\n",
       "      <td>4</td>\n",
       "      <td>4.0</td>\n",
       "      <td>4.5</td>\n",
       "      <td>8.87</td>\n",
       "      <td>1</td>\n",
       "      <td>0.76</td>\n",
       "    </tr>\n",
       "    <tr>\n",
       "      <th>3</th>\n",
       "      <td>316</td>\n",
       "      <td>104</td>\n",
       "      <td>3</td>\n",
       "      <td>3.0</td>\n",
       "      <td>3.5</td>\n",
       "      <td>8.00</td>\n",
       "      <td>1</td>\n",
       "      <td>0.72</td>\n",
       "    </tr>\n",
       "    <tr>\n",
       "      <th>4</th>\n",
       "      <td>322</td>\n",
       "      <td>110</td>\n",
       "      <td>3</td>\n",
       "      <td>3.5</td>\n",
       "      <td>2.5</td>\n",
       "      <td>8.67</td>\n",
       "      <td>1</td>\n",
       "      <td>0.80</td>\n",
       "    </tr>\n",
       "    <tr>\n",
       "      <th>5</th>\n",
       "      <td>314</td>\n",
       "      <td>103</td>\n",
       "      <td>2</td>\n",
       "      <td>2.0</td>\n",
       "      <td>3.0</td>\n",
       "      <td>8.21</td>\n",
       "      <td>0</td>\n",
       "      <td>0.65</td>\n",
       "    </tr>\n",
       "  </tbody>\n",
       "</table>\n",
       "</div>"
      ],
      "text/plain": [
       "            GRE Score  TOEFL Score  University Rating  SOP  LOR   CGPA  \\\n",
       "Serial No.                                                               \n",
       "1                 337          118                  4  4.5   4.5  9.65   \n",
       "2                 324          107                  4  4.0   4.5  8.87   \n",
       "3                 316          104                  3  3.0   3.5  8.00   \n",
       "4                 322          110                  3  3.5   2.5  8.67   \n",
       "5                 314          103                  2  2.0   3.0  8.21   \n",
       "\n",
       "            Research  Chance of Admit   \n",
       "Serial No.                              \n",
       "1                  1              0.92  \n",
       "2                  1              0.76  \n",
       "3                  1              0.72  \n",
       "4                  1              0.80  \n",
       "5                  0              0.65  "
      ]
     },
     "execution_count": 34,
     "metadata": {},
     "output_type": "execute_result"
    }
   ],
   "source": [
    "# indexing dataframes\n",
    "import pandas as pd\n",
    "\n",
    "df = pd.read_csv('../Datasets/Admission_Predict.csv', index_col=0)\n",
    "df.head()"
   ]
  },
  {
   "cell_type": "code",
   "execution_count": 35,
   "metadata": {},
   "outputs": [
    {
     "data": {
      "text/plain": [
       "Int64Index([  1,   2,   3,   4,   5,   6,   7,   8,   9,  10,\n",
       "            ...\n",
       "            391, 392, 393, 394, 395, 396, 397, 398, 399, 400],\n",
       "           dtype='int64', name='Serial No.', length=400)"
      ]
     },
     "execution_count": 35,
     "metadata": {},
     "output_type": "execute_result"
    }
   ],
   "source": [
    "df.index"
   ]
  },
  {
   "cell_type": "code",
   "execution_count": 36,
   "metadata": {},
   "outputs": [],
   "source": [
    "df['Serial Number'] = df.index"
   ]
  },
  {
   "cell_type": "code",
   "execution_count": 37,
   "metadata": {},
   "outputs": [],
   "source": [
    "df.columns = [column.strip() for column in df.columns]"
   ]
  },
  {
   "cell_type": "code",
   "execution_count": 38,
   "metadata": {},
   "outputs": [
    {
     "data": {
      "text/plain": [
       "Index(['GRE Score', 'TOEFL Score', 'University Rating', 'SOP', 'LOR', 'CGPA',\n",
       "       'Research', 'Chance of Admit', 'Serial Number'],\n",
       "      dtype='object')"
      ]
     },
     "execution_count": 38,
     "metadata": {},
     "output_type": "execute_result"
    }
   ],
   "source": [
    "df.columns"
   ]
  },
  {
   "cell_type": "code",
   "execution_count": 39,
   "metadata": {},
   "outputs": [],
   "source": [
    "df = df.set_index('Chance of Admit')\n"
   ]
  },
  {
   "cell_type": "code",
   "execution_count": 40,
   "metadata": {},
   "outputs": [
    {
     "data": {
      "text/html": [
       "<div>\n",
       "<style scoped>\n",
       "    .dataframe tbody tr th:only-of-type {\n",
       "        vertical-align: middle;\n",
       "    }\n",
       "\n",
       "    .dataframe tbody tr th {\n",
       "        vertical-align: top;\n",
       "    }\n",
       "\n",
       "    .dataframe thead th {\n",
       "        text-align: right;\n",
       "    }\n",
       "</style>\n",
       "<table border=\"1\" class=\"dataframe\">\n",
       "  <thead>\n",
       "    <tr style=\"text-align: right;\">\n",
       "      <th></th>\n",
       "      <th>GRE Score</th>\n",
       "      <th>TOEFL Score</th>\n",
       "      <th>University Rating</th>\n",
       "      <th>SOP</th>\n",
       "      <th>LOR</th>\n",
       "      <th>CGPA</th>\n",
       "      <th>Research</th>\n",
       "      <th>Serial Number</th>\n",
       "    </tr>\n",
       "    <tr>\n",
       "      <th>Chance of Admit</th>\n",
       "      <th></th>\n",
       "      <th></th>\n",
       "      <th></th>\n",
       "      <th></th>\n",
       "      <th></th>\n",
       "      <th></th>\n",
       "      <th></th>\n",
       "      <th></th>\n",
       "    </tr>\n",
       "  </thead>\n",
       "  <tbody>\n",
       "    <tr>\n",
       "      <th>0.92</th>\n",
       "      <td>337</td>\n",
       "      <td>118</td>\n",
       "      <td>4</td>\n",
       "      <td>4.5</td>\n",
       "      <td>4.5</td>\n",
       "      <td>9.65</td>\n",
       "      <td>1</td>\n",
       "      <td>1</td>\n",
       "    </tr>\n",
       "    <tr>\n",
       "      <th>0.76</th>\n",
       "      <td>324</td>\n",
       "      <td>107</td>\n",
       "      <td>4</td>\n",
       "      <td>4.0</td>\n",
       "      <td>4.5</td>\n",
       "      <td>8.87</td>\n",
       "      <td>1</td>\n",
       "      <td>2</td>\n",
       "    </tr>\n",
       "    <tr>\n",
       "      <th>0.72</th>\n",
       "      <td>316</td>\n",
       "      <td>104</td>\n",
       "      <td>3</td>\n",
       "      <td>3.0</td>\n",
       "      <td>3.5</td>\n",
       "      <td>8.00</td>\n",
       "      <td>1</td>\n",
       "      <td>3</td>\n",
       "    </tr>\n",
       "    <tr>\n",
       "      <th>0.80</th>\n",
       "      <td>322</td>\n",
       "      <td>110</td>\n",
       "      <td>3</td>\n",
       "      <td>3.5</td>\n",
       "      <td>2.5</td>\n",
       "      <td>8.67</td>\n",
       "      <td>1</td>\n",
       "      <td>4</td>\n",
       "    </tr>\n",
       "    <tr>\n",
       "      <th>0.65</th>\n",
       "      <td>314</td>\n",
       "      <td>103</td>\n",
       "      <td>2</td>\n",
       "      <td>2.0</td>\n",
       "      <td>3.0</td>\n",
       "      <td>8.21</td>\n",
       "      <td>0</td>\n",
       "      <td>5</td>\n",
       "    </tr>\n",
       "  </tbody>\n",
       "</table>\n",
       "</div>"
      ],
      "text/plain": [
       "                 GRE Score  TOEFL Score  University Rating  SOP  LOR  CGPA  \\\n",
       "Chance of Admit                                                              \n",
       "0.92                   337          118                  4  4.5  4.5  9.65   \n",
       "0.76                   324          107                  4  4.0  4.5  8.87   \n",
       "0.72                   316          104                  3  3.0  3.5  8.00   \n",
       "0.80                   322          110                  3  3.5  2.5  8.67   \n",
       "0.65                   314          103                  2  2.0  3.0  8.21   \n",
       "\n",
       "                 Research  Serial Number  \n",
       "Chance of Admit                           \n",
       "0.92                    1              1  \n",
       "0.76                    1              2  \n",
       "0.72                    1              3  \n",
       "0.80                    1              4  \n",
       "0.65                    0              5  "
      ]
     },
     "execution_count": 40,
     "metadata": {},
     "output_type": "execute_result"
    }
   ],
   "source": [
    "df.head()"
   ]
  },
  {
   "cell_type": "code",
   "execution_count": 42,
   "metadata": {},
   "outputs": [
    {
     "data": {
      "text/html": [
       "<div>\n",
       "<style scoped>\n",
       "    .dataframe tbody tr th:only-of-type {\n",
       "        vertical-align: middle;\n",
       "    }\n",
       "\n",
       "    .dataframe tbody tr th {\n",
       "        vertical-align: top;\n",
       "    }\n",
       "\n",
       "    .dataframe thead th {\n",
       "        text-align: right;\n",
       "    }\n",
       "</style>\n",
       "<table border=\"1\" class=\"dataframe\">\n",
       "  <thead>\n",
       "    <tr style=\"text-align: right;\">\n",
       "      <th></th>\n",
       "      <th>index</th>\n",
       "      <th>Chance of Admit</th>\n",
       "      <th>GRE Score</th>\n",
       "      <th>TOEFL Score</th>\n",
       "      <th>University Rating</th>\n",
       "      <th>SOP</th>\n",
       "      <th>LOR</th>\n",
       "      <th>CGPA</th>\n",
       "      <th>Research</th>\n",
       "      <th>Serial Number</th>\n",
       "    </tr>\n",
       "  </thead>\n",
       "  <tbody>\n",
       "    <tr>\n",
       "      <th>0</th>\n",
       "      <td>0</td>\n",
       "      <td>0.92</td>\n",
       "      <td>337</td>\n",
       "      <td>118</td>\n",
       "      <td>4</td>\n",
       "      <td>4.5</td>\n",
       "      <td>4.5</td>\n",
       "      <td>9.65</td>\n",
       "      <td>1</td>\n",
       "      <td>1</td>\n",
       "    </tr>\n",
       "    <tr>\n",
       "      <th>1</th>\n",
       "      <td>1</td>\n",
       "      <td>0.76</td>\n",
       "      <td>324</td>\n",
       "      <td>107</td>\n",
       "      <td>4</td>\n",
       "      <td>4.0</td>\n",
       "      <td>4.5</td>\n",
       "      <td>8.87</td>\n",
       "      <td>1</td>\n",
       "      <td>2</td>\n",
       "    </tr>\n",
       "    <tr>\n",
       "      <th>2</th>\n",
       "      <td>2</td>\n",
       "      <td>0.72</td>\n",
       "      <td>316</td>\n",
       "      <td>104</td>\n",
       "      <td>3</td>\n",
       "      <td>3.0</td>\n",
       "      <td>3.5</td>\n",
       "      <td>8.00</td>\n",
       "      <td>1</td>\n",
       "      <td>3</td>\n",
       "    </tr>\n",
       "    <tr>\n",
       "      <th>3</th>\n",
       "      <td>3</td>\n",
       "      <td>0.80</td>\n",
       "      <td>322</td>\n",
       "      <td>110</td>\n",
       "      <td>3</td>\n",
       "      <td>3.5</td>\n",
       "      <td>2.5</td>\n",
       "      <td>8.67</td>\n",
       "      <td>1</td>\n",
       "      <td>4</td>\n",
       "    </tr>\n",
       "    <tr>\n",
       "      <th>4</th>\n",
       "      <td>4</td>\n",
       "      <td>0.65</td>\n",
       "      <td>314</td>\n",
       "      <td>103</td>\n",
       "      <td>2</td>\n",
       "      <td>2.0</td>\n",
       "      <td>3.0</td>\n",
       "      <td>8.21</td>\n",
       "      <td>0</td>\n",
       "      <td>5</td>\n",
       "    </tr>\n",
       "  </tbody>\n",
       "</table>\n",
       "</div>"
      ],
      "text/plain": [
       "   index  Chance of Admit  GRE Score  TOEFL Score  University Rating  SOP  \\\n",
       "0      0             0.92        337          118                  4  4.5   \n",
       "1      1             0.76        324          107                  4  4.0   \n",
       "2      2             0.72        316          104                  3  3.0   \n",
       "3      3             0.80        322          110                  3  3.5   \n",
       "4      4             0.65        314          103                  2  2.0   \n",
       "\n",
       "   LOR  CGPA  Research  Serial Number  \n",
       "0  4.5  9.65         1              1  \n",
       "1  4.5  8.87         1              2  \n",
       "2  3.5  8.00         1              3  \n",
       "3  2.5  8.67         1              4  \n",
       "4  3.0  8.21         0              5  "
      ]
     },
     "execution_count": 42,
     "metadata": {},
     "output_type": "execute_result"
    }
   ],
   "source": [
    "df = df.reset_index()\n",
    "df.head()"
   ]
  },
  {
   "cell_type": "code",
   "execution_count": 47,
   "metadata": {},
   "outputs": [
    {
     "data": {
      "text/html": [
       "<div>\n",
       "<style scoped>\n",
       "    .dataframe tbody tr th:only-of-type {\n",
       "        vertical-align: middle;\n",
       "    }\n",
       "\n",
       "    .dataframe tbody tr th {\n",
       "        vertical-align: top;\n",
       "    }\n",
       "\n",
       "    .dataframe thead th {\n",
       "        text-align: right;\n",
       "    }\n",
       "</style>\n",
       "<table border=\"1\" class=\"dataframe\">\n",
       "  <thead>\n",
       "    <tr style=\"text-align: right;\">\n",
       "      <th></th>\n",
       "      <th>SUMLEV</th>\n",
       "      <th>REGION</th>\n",
       "      <th>DIVISION</th>\n",
       "      <th>STATE</th>\n",
       "      <th>COUNTY</th>\n",
       "      <th>STNAME</th>\n",
       "      <th>CTYNAME</th>\n",
       "      <th>CENSUS2010POP</th>\n",
       "      <th>ESTIMATESBASE2010</th>\n",
       "      <th>POPESTIMATE2010</th>\n",
       "      <th>...</th>\n",
       "      <th>RDOMESTICMIG2011</th>\n",
       "      <th>RDOMESTICMIG2012</th>\n",
       "      <th>RDOMESTICMIG2013</th>\n",
       "      <th>RDOMESTICMIG2014</th>\n",
       "      <th>RDOMESTICMIG2015</th>\n",
       "      <th>RNETMIG2011</th>\n",
       "      <th>RNETMIG2012</th>\n",
       "      <th>RNETMIG2013</th>\n",
       "      <th>RNETMIG2014</th>\n",
       "      <th>RNETMIG2015</th>\n",
       "    </tr>\n",
       "  </thead>\n",
       "  <tbody>\n",
       "    <tr>\n",
       "      <th>0</th>\n",
       "      <td>40</td>\n",
       "      <td>3</td>\n",
       "      <td>6</td>\n",
       "      <td>1</td>\n",
       "      <td>0</td>\n",
       "      <td>Alabama</td>\n",
       "      <td>Alabama</td>\n",
       "      <td>4779736</td>\n",
       "      <td>4780127</td>\n",
       "      <td>4785161</td>\n",
       "      <td>...</td>\n",
       "      <td>0.002295</td>\n",
       "      <td>-0.193196</td>\n",
       "      <td>0.381066</td>\n",
       "      <td>0.582002</td>\n",
       "      <td>-0.467369</td>\n",
       "      <td>1.030015</td>\n",
       "      <td>0.826644</td>\n",
       "      <td>1.383282</td>\n",
       "      <td>1.724718</td>\n",
       "      <td>0.712594</td>\n",
       "    </tr>\n",
       "    <tr>\n",
       "      <th>1</th>\n",
       "      <td>50</td>\n",
       "      <td>3</td>\n",
       "      <td>6</td>\n",
       "      <td>1</td>\n",
       "      <td>1</td>\n",
       "      <td>Alabama</td>\n",
       "      <td>Autauga County</td>\n",
       "      <td>54571</td>\n",
       "      <td>54571</td>\n",
       "      <td>54660</td>\n",
       "      <td>...</td>\n",
       "      <td>7.242091</td>\n",
       "      <td>-2.915927</td>\n",
       "      <td>-3.012349</td>\n",
       "      <td>2.265971</td>\n",
       "      <td>-2.530799</td>\n",
       "      <td>7.606016</td>\n",
       "      <td>-2.626146</td>\n",
       "      <td>-2.722002</td>\n",
       "      <td>2.592270</td>\n",
       "      <td>-2.187333</td>\n",
       "    </tr>\n",
       "    <tr>\n",
       "      <th>2</th>\n",
       "      <td>50</td>\n",
       "      <td>3</td>\n",
       "      <td>6</td>\n",
       "      <td>1</td>\n",
       "      <td>3</td>\n",
       "      <td>Alabama</td>\n",
       "      <td>Baldwin County</td>\n",
       "      <td>182265</td>\n",
       "      <td>182265</td>\n",
       "      <td>183193</td>\n",
       "      <td>...</td>\n",
       "      <td>14.832960</td>\n",
       "      <td>17.647293</td>\n",
       "      <td>21.845705</td>\n",
       "      <td>19.243287</td>\n",
       "      <td>17.197872</td>\n",
       "      <td>15.844176</td>\n",
       "      <td>18.559627</td>\n",
       "      <td>22.727626</td>\n",
       "      <td>20.317142</td>\n",
       "      <td>18.293499</td>\n",
       "    </tr>\n",
       "    <tr>\n",
       "      <th>3</th>\n",
       "      <td>50</td>\n",
       "      <td>3</td>\n",
       "      <td>6</td>\n",
       "      <td>1</td>\n",
       "      <td>5</td>\n",
       "      <td>Alabama</td>\n",
       "      <td>Barbour County</td>\n",
       "      <td>27457</td>\n",
       "      <td>27457</td>\n",
       "      <td>27341</td>\n",
       "      <td>...</td>\n",
       "      <td>-4.728132</td>\n",
       "      <td>-2.500690</td>\n",
       "      <td>-7.056824</td>\n",
       "      <td>-3.904217</td>\n",
       "      <td>-10.543299</td>\n",
       "      <td>-4.874741</td>\n",
       "      <td>-2.758113</td>\n",
       "      <td>-7.167664</td>\n",
       "      <td>-3.978583</td>\n",
       "      <td>-10.543299</td>\n",
       "    </tr>\n",
       "    <tr>\n",
       "      <th>4</th>\n",
       "      <td>50</td>\n",
       "      <td>3</td>\n",
       "      <td>6</td>\n",
       "      <td>1</td>\n",
       "      <td>7</td>\n",
       "      <td>Alabama</td>\n",
       "      <td>Bibb County</td>\n",
       "      <td>22915</td>\n",
       "      <td>22919</td>\n",
       "      <td>22861</td>\n",
       "      <td>...</td>\n",
       "      <td>-5.527043</td>\n",
       "      <td>-5.068871</td>\n",
       "      <td>-6.201001</td>\n",
       "      <td>-0.177537</td>\n",
       "      <td>0.177258</td>\n",
       "      <td>-5.088389</td>\n",
       "      <td>-4.363636</td>\n",
       "      <td>-5.403729</td>\n",
       "      <td>0.754533</td>\n",
       "      <td>1.107861</td>\n",
       "    </tr>\n",
       "  </tbody>\n",
       "</table>\n",
       "<p>5 rows × 100 columns</p>\n",
       "</div>"
      ],
      "text/plain": [
       "   SUMLEV  REGION  DIVISION  STATE  COUNTY   STNAME         CTYNAME  \\\n",
       "0      40       3         6      1       0  Alabama         Alabama   \n",
       "1      50       3         6      1       1  Alabama  Autauga County   \n",
       "2      50       3         6      1       3  Alabama  Baldwin County   \n",
       "3      50       3         6      1       5  Alabama  Barbour County   \n",
       "4      50       3         6      1       7  Alabama     Bibb County   \n",
       "\n",
       "   CENSUS2010POP  ESTIMATESBASE2010  POPESTIMATE2010  ...  RDOMESTICMIG2011  \\\n",
       "0        4779736            4780127          4785161  ...          0.002295   \n",
       "1          54571              54571            54660  ...          7.242091   \n",
       "2         182265             182265           183193  ...         14.832960   \n",
       "3          27457              27457            27341  ...         -4.728132   \n",
       "4          22915              22919            22861  ...         -5.527043   \n",
       "\n",
       "   RDOMESTICMIG2012  RDOMESTICMIG2013  RDOMESTICMIG2014  RDOMESTICMIG2015  \\\n",
       "0         -0.193196          0.381066          0.582002         -0.467369   \n",
       "1         -2.915927         -3.012349          2.265971         -2.530799   \n",
       "2         17.647293         21.845705         19.243287         17.197872   \n",
       "3         -2.500690         -7.056824         -3.904217        -10.543299   \n",
       "4         -5.068871         -6.201001         -0.177537          0.177258   \n",
       "\n",
       "   RNETMIG2011  RNETMIG2012  RNETMIG2013  RNETMIG2014  RNETMIG2015  \n",
       "0     1.030015     0.826644     1.383282     1.724718     0.712594  \n",
       "1     7.606016    -2.626146    -2.722002     2.592270    -2.187333  \n",
       "2    15.844176    18.559627    22.727626    20.317142    18.293499  \n",
       "3    -4.874741    -2.758113    -7.167664    -3.978583   -10.543299  \n",
       "4    -5.088389    -4.363636    -5.403729     0.754533     1.107861  \n",
       "\n",
       "[5 rows x 100 columns]"
      ]
     },
     "execution_count": 47,
     "metadata": {},
     "output_type": "execute_result"
    }
   ],
   "source": [
    "# multilevel index\n",
    "df = pd.read_csv('../Datasets/census.csv')\n",
    "df.head()"
   ]
  },
  {
   "cell_type": "code",
   "execution_count": 48,
   "metadata": {},
   "outputs": [
    {
     "data": {
      "text/plain": [
       "array([40, 50])"
      ]
     },
     "execution_count": 48,
     "metadata": {},
     "output_type": "execute_result"
    }
   ],
   "source": [
    "df['SUMLEV'].unique()"
   ]
  },
  {
   "cell_type": "code",
   "execution_count": 49,
   "metadata": {},
   "outputs": [
    {
     "data": {
      "text/html": [
       "<div>\n",
       "<style scoped>\n",
       "    .dataframe tbody tr th:only-of-type {\n",
       "        vertical-align: middle;\n",
       "    }\n",
       "\n",
       "    .dataframe tbody tr th {\n",
       "        vertical-align: top;\n",
       "    }\n",
       "\n",
       "    .dataframe thead th {\n",
       "        text-align: right;\n",
       "    }\n",
       "</style>\n",
       "<table border=\"1\" class=\"dataframe\">\n",
       "  <thead>\n",
       "    <tr style=\"text-align: right;\">\n",
       "      <th></th>\n",
       "      <th>SUMLEV</th>\n",
       "      <th>REGION</th>\n",
       "      <th>DIVISION</th>\n",
       "      <th>STATE</th>\n",
       "      <th>COUNTY</th>\n",
       "      <th>STNAME</th>\n",
       "      <th>CTYNAME</th>\n",
       "      <th>CENSUS2010POP</th>\n",
       "      <th>ESTIMATESBASE2010</th>\n",
       "      <th>POPESTIMATE2010</th>\n",
       "      <th>...</th>\n",
       "      <th>RDOMESTICMIG2011</th>\n",
       "      <th>RDOMESTICMIG2012</th>\n",
       "      <th>RDOMESTICMIG2013</th>\n",
       "      <th>RDOMESTICMIG2014</th>\n",
       "      <th>RDOMESTICMIG2015</th>\n",
       "      <th>RNETMIG2011</th>\n",
       "      <th>RNETMIG2012</th>\n",
       "      <th>RNETMIG2013</th>\n",
       "      <th>RNETMIG2014</th>\n",
       "      <th>RNETMIG2015</th>\n",
       "    </tr>\n",
       "  </thead>\n",
       "  <tbody>\n",
       "    <tr>\n",
       "      <th>1</th>\n",
       "      <td>50</td>\n",
       "      <td>3</td>\n",
       "      <td>6</td>\n",
       "      <td>1</td>\n",
       "      <td>1</td>\n",
       "      <td>Alabama</td>\n",
       "      <td>Autauga County</td>\n",
       "      <td>54571</td>\n",
       "      <td>54571</td>\n",
       "      <td>54660</td>\n",
       "      <td>...</td>\n",
       "      <td>7.242091</td>\n",
       "      <td>-2.915927</td>\n",
       "      <td>-3.012349</td>\n",
       "      <td>2.265971</td>\n",
       "      <td>-2.530799</td>\n",
       "      <td>7.606016</td>\n",
       "      <td>-2.626146</td>\n",
       "      <td>-2.722002</td>\n",
       "      <td>2.592270</td>\n",
       "      <td>-2.187333</td>\n",
       "    </tr>\n",
       "    <tr>\n",
       "      <th>2</th>\n",
       "      <td>50</td>\n",
       "      <td>3</td>\n",
       "      <td>6</td>\n",
       "      <td>1</td>\n",
       "      <td>3</td>\n",
       "      <td>Alabama</td>\n",
       "      <td>Baldwin County</td>\n",
       "      <td>182265</td>\n",
       "      <td>182265</td>\n",
       "      <td>183193</td>\n",
       "      <td>...</td>\n",
       "      <td>14.832960</td>\n",
       "      <td>17.647293</td>\n",
       "      <td>21.845705</td>\n",
       "      <td>19.243287</td>\n",
       "      <td>17.197872</td>\n",
       "      <td>15.844176</td>\n",
       "      <td>18.559627</td>\n",
       "      <td>22.727626</td>\n",
       "      <td>20.317142</td>\n",
       "      <td>18.293499</td>\n",
       "    </tr>\n",
       "    <tr>\n",
       "      <th>3</th>\n",
       "      <td>50</td>\n",
       "      <td>3</td>\n",
       "      <td>6</td>\n",
       "      <td>1</td>\n",
       "      <td>5</td>\n",
       "      <td>Alabama</td>\n",
       "      <td>Barbour County</td>\n",
       "      <td>27457</td>\n",
       "      <td>27457</td>\n",
       "      <td>27341</td>\n",
       "      <td>...</td>\n",
       "      <td>-4.728132</td>\n",
       "      <td>-2.500690</td>\n",
       "      <td>-7.056824</td>\n",
       "      <td>-3.904217</td>\n",
       "      <td>-10.543299</td>\n",
       "      <td>-4.874741</td>\n",
       "      <td>-2.758113</td>\n",
       "      <td>-7.167664</td>\n",
       "      <td>-3.978583</td>\n",
       "      <td>-10.543299</td>\n",
       "    </tr>\n",
       "    <tr>\n",
       "      <th>4</th>\n",
       "      <td>50</td>\n",
       "      <td>3</td>\n",
       "      <td>6</td>\n",
       "      <td>1</td>\n",
       "      <td>7</td>\n",
       "      <td>Alabama</td>\n",
       "      <td>Bibb County</td>\n",
       "      <td>22915</td>\n",
       "      <td>22919</td>\n",
       "      <td>22861</td>\n",
       "      <td>...</td>\n",
       "      <td>-5.527043</td>\n",
       "      <td>-5.068871</td>\n",
       "      <td>-6.201001</td>\n",
       "      <td>-0.177537</td>\n",
       "      <td>0.177258</td>\n",
       "      <td>-5.088389</td>\n",
       "      <td>-4.363636</td>\n",
       "      <td>-5.403729</td>\n",
       "      <td>0.754533</td>\n",
       "      <td>1.107861</td>\n",
       "    </tr>\n",
       "    <tr>\n",
       "      <th>5</th>\n",
       "      <td>50</td>\n",
       "      <td>3</td>\n",
       "      <td>6</td>\n",
       "      <td>1</td>\n",
       "      <td>9</td>\n",
       "      <td>Alabama</td>\n",
       "      <td>Blount County</td>\n",
       "      <td>57322</td>\n",
       "      <td>57322</td>\n",
       "      <td>57373</td>\n",
       "      <td>...</td>\n",
       "      <td>1.807375</td>\n",
       "      <td>-1.177622</td>\n",
       "      <td>-1.748766</td>\n",
       "      <td>-2.062535</td>\n",
       "      <td>-1.369970</td>\n",
       "      <td>1.859511</td>\n",
       "      <td>-0.848580</td>\n",
       "      <td>-1.402476</td>\n",
       "      <td>-1.577232</td>\n",
       "      <td>-0.884411</td>\n",
       "    </tr>\n",
       "  </tbody>\n",
       "</table>\n",
       "<p>5 rows × 100 columns</p>\n",
       "</div>"
      ],
      "text/plain": [
       "   SUMLEV  REGION  DIVISION  STATE  COUNTY   STNAME         CTYNAME  \\\n",
       "1      50       3         6      1       1  Alabama  Autauga County   \n",
       "2      50       3         6      1       3  Alabama  Baldwin County   \n",
       "3      50       3         6      1       5  Alabama  Barbour County   \n",
       "4      50       3         6      1       7  Alabama     Bibb County   \n",
       "5      50       3         6      1       9  Alabama   Blount County   \n",
       "\n",
       "   CENSUS2010POP  ESTIMATESBASE2010  POPESTIMATE2010  ...  RDOMESTICMIG2011  \\\n",
       "1          54571              54571            54660  ...          7.242091   \n",
       "2         182265             182265           183193  ...         14.832960   \n",
       "3          27457              27457            27341  ...         -4.728132   \n",
       "4          22915              22919            22861  ...         -5.527043   \n",
       "5          57322              57322            57373  ...          1.807375   \n",
       "\n",
       "   RDOMESTICMIG2012  RDOMESTICMIG2013  RDOMESTICMIG2014  RDOMESTICMIG2015  \\\n",
       "1         -2.915927         -3.012349          2.265971         -2.530799   \n",
       "2         17.647293         21.845705         19.243287         17.197872   \n",
       "3         -2.500690         -7.056824         -3.904217        -10.543299   \n",
       "4         -5.068871         -6.201001         -0.177537          0.177258   \n",
       "5         -1.177622         -1.748766         -2.062535         -1.369970   \n",
       "\n",
       "   RNETMIG2011  RNETMIG2012  RNETMIG2013  RNETMIG2014  RNETMIG2015  \n",
       "1     7.606016    -2.626146    -2.722002     2.592270    -2.187333  \n",
       "2    15.844176    18.559627    22.727626    20.317142    18.293499  \n",
       "3    -4.874741    -2.758113    -7.167664    -3.978583   -10.543299  \n",
       "4    -5.088389    -4.363636    -5.403729     0.754533     1.107861  \n",
       "5     1.859511    -0.848580    -1.402476    -1.577232    -0.884411  \n",
       "\n",
       "[5 rows x 100 columns]"
      ]
     },
     "execution_count": 49,
     "metadata": {},
     "output_type": "execute_result"
    }
   ],
   "source": [
    "df = df[df['SUMLEV']==50]\n",
    "df.head()"
   ]
  },
  {
   "cell_type": "code",
   "execution_count": 51,
   "metadata": {},
   "outputs": [],
   "source": [
    "columns_to_keep= ['STNAME', 'CTYNAME', 'BIRTHS2011', 'BIRTHS2012', 'BIRTHS2013', 'BIRTHS2014','BIRTHS2015', 'POPESTIMATE2011', 'POPESTIMATE2012', 'POPESTIMATE2013','POPESTIMATE2014', 'POPESTIMATE2015']"
   ]
  },
  {
   "cell_type": "code",
   "execution_count": 52,
   "metadata": {},
   "outputs": [
    {
     "data": {
      "text/html": [
       "<div>\n",
       "<style scoped>\n",
       "    .dataframe tbody tr th:only-of-type {\n",
       "        vertical-align: middle;\n",
       "    }\n",
       "\n",
       "    .dataframe tbody tr th {\n",
       "        vertical-align: top;\n",
       "    }\n",
       "\n",
       "    .dataframe thead th {\n",
       "        text-align: right;\n",
       "    }\n",
       "</style>\n",
       "<table border=\"1\" class=\"dataframe\">\n",
       "  <thead>\n",
       "    <tr style=\"text-align: right;\">\n",
       "      <th></th>\n",
       "      <th>STNAME</th>\n",
       "      <th>CTYNAME</th>\n",
       "      <th>BIRTHS2011</th>\n",
       "      <th>BIRTHS2012</th>\n",
       "      <th>BIRTHS2013</th>\n",
       "      <th>BIRTHS2014</th>\n",
       "      <th>BIRTHS2015</th>\n",
       "      <th>POPESTIMATE2011</th>\n",
       "      <th>POPESTIMATE2012</th>\n",
       "      <th>POPESTIMATE2013</th>\n",
       "      <th>POPESTIMATE2014</th>\n",
       "      <th>POPESTIMATE2015</th>\n",
       "    </tr>\n",
       "  </thead>\n",
       "  <tbody>\n",
       "    <tr>\n",
       "      <th>1</th>\n",
       "      <td>Alabama</td>\n",
       "      <td>Autauga County</td>\n",
       "      <td>636</td>\n",
       "      <td>615</td>\n",
       "      <td>574</td>\n",
       "      <td>623</td>\n",
       "      <td>600</td>\n",
       "      <td>55253</td>\n",
       "      <td>55175</td>\n",
       "      <td>55038</td>\n",
       "      <td>55290</td>\n",
       "      <td>55347</td>\n",
       "    </tr>\n",
       "    <tr>\n",
       "      <th>2</th>\n",
       "      <td>Alabama</td>\n",
       "      <td>Baldwin County</td>\n",
       "      <td>2187</td>\n",
       "      <td>2092</td>\n",
       "      <td>2160</td>\n",
       "      <td>2186</td>\n",
       "      <td>2240</td>\n",
       "      <td>186659</td>\n",
       "      <td>190396</td>\n",
       "      <td>195126</td>\n",
       "      <td>199713</td>\n",
       "      <td>203709</td>\n",
       "    </tr>\n",
       "    <tr>\n",
       "      <th>3</th>\n",
       "      <td>Alabama</td>\n",
       "      <td>Barbour County</td>\n",
       "      <td>335</td>\n",
       "      <td>300</td>\n",
       "      <td>283</td>\n",
       "      <td>260</td>\n",
       "      <td>269</td>\n",
       "      <td>27226</td>\n",
       "      <td>27159</td>\n",
       "      <td>26973</td>\n",
       "      <td>26815</td>\n",
       "      <td>26489</td>\n",
       "    </tr>\n",
       "    <tr>\n",
       "      <th>4</th>\n",
       "      <td>Alabama</td>\n",
       "      <td>Bibb County</td>\n",
       "      <td>266</td>\n",
       "      <td>245</td>\n",
       "      <td>259</td>\n",
       "      <td>247</td>\n",
       "      <td>253</td>\n",
       "      <td>22733</td>\n",
       "      <td>22642</td>\n",
       "      <td>22512</td>\n",
       "      <td>22549</td>\n",
       "      <td>22583</td>\n",
       "    </tr>\n",
       "    <tr>\n",
       "      <th>5</th>\n",
       "      <td>Alabama</td>\n",
       "      <td>Blount County</td>\n",
       "      <td>744</td>\n",
       "      <td>710</td>\n",
       "      <td>646</td>\n",
       "      <td>618</td>\n",
       "      <td>603</td>\n",
       "      <td>57711</td>\n",
       "      <td>57776</td>\n",
       "      <td>57734</td>\n",
       "      <td>57658</td>\n",
       "      <td>57673</td>\n",
       "    </tr>\n",
       "  </tbody>\n",
       "</table>\n",
       "</div>"
      ],
      "text/plain": [
       "    STNAME         CTYNAME  BIRTHS2011  BIRTHS2012  BIRTHS2013  BIRTHS2014  \\\n",
       "1  Alabama  Autauga County         636         615         574         623   \n",
       "2  Alabama  Baldwin County        2187        2092        2160        2186   \n",
       "3  Alabama  Barbour County         335         300         283         260   \n",
       "4  Alabama     Bibb County         266         245         259         247   \n",
       "5  Alabama   Blount County         744         710         646         618   \n",
       "\n",
       "   BIRTHS2015  POPESTIMATE2011  POPESTIMATE2012  POPESTIMATE2013  \\\n",
       "1         600            55253            55175            55038   \n",
       "2        2240           186659           190396           195126   \n",
       "3         269            27226            27159            26973   \n",
       "4         253            22733            22642            22512   \n",
       "5         603            57711            57776            57734   \n",
       "\n",
       "   POPESTIMATE2014  POPESTIMATE2015  \n",
       "1            55290            55347  \n",
       "2           199713           203709  \n",
       "3            26815            26489  \n",
       "4            22549            22583  \n",
       "5            57658            57673  "
      ]
     },
     "execution_count": 52,
     "metadata": {},
     "output_type": "execute_result"
    }
   ],
   "source": [
    "df= df[columns_to_keep]\n",
    "df.head()"
   ]
  },
  {
   "cell_type": "code",
   "execution_count": 53,
   "metadata": {},
   "outputs": [
    {
     "data": {
      "text/html": [
       "<div>\n",
       "<style scoped>\n",
       "    .dataframe tbody tr th:only-of-type {\n",
       "        vertical-align: middle;\n",
       "    }\n",
       "\n",
       "    .dataframe tbody tr th {\n",
       "        vertical-align: top;\n",
       "    }\n",
       "\n",
       "    .dataframe thead th {\n",
       "        text-align: right;\n",
       "    }\n",
       "</style>\n",
       "<table border=\"1\" class=\"dataframe\">\n",
       "  <thead>\n",
       "    <tr style=\"text-align: right;\">\n",
       "      <th></th>\n",
       "      <th></th>\n",
       "      <th>BIRTHS2011</th>\n",
       "      <th>BIRTHS2012</th>\n",
       "      <th>BIRTHS2013</th>\n",
       "      <th>BIRTHS2014</th>\n",
       "      <th>BIRTHS2015</th>\n",
       "      <th>POPESTIMATE2011</th>\n",
       "      <th>POPESTIMATE2012</th>\n",
       "      <th>POPESTIMATE2013</th>\n",
       "      <th>POPESTIMATE2014</th>\n",
       "      <th>POPESTIMATE2015</th>\n",
       "    </tr>\n",
       "    <tr>\n",
       "      <th>STNAME</th>\n",
       "      <th>CTYNAME</th>\n",
       "      <th></th>\n",
       "      <th></th>\n",
       "      <th></th>\n",
       "      <th></th>\n",
       "      <th></th>\n",
       "      <th></th>\n",
       "      <th></th>\n",
       "      <th></th>\n",
       "      <th></th>\n",
       "      <th></th>\n",
       "    </tr>\n",
       "  </thead>\n",
       "  <tbody>\n",
       "    <tr>\n",
       "      <th rowspan=\"5\" valign=\"top\">Alabama</th>\n",
       "      <th>Autauga County</th>\n",
       "      <td>636</td>\n",
       "      <td>615</td>\n",
       "      <td>574</td>\n",
       "      <td>623</td>\n",
       "      <td>600</td>\n",
       "      <td>55253</td>\n",
       "      <td>55175</td>\n",
       "      <td>55038</td>\n",
       "      <td>55290</td>\n",
       "      <td>55347</td>\n",
       "    </tr>\n",
       "    <tr>\n",
       "      <th>Baldwin County</th>\n",
       "      <td>2187</td>\n",
       "      <td>2092</td>\n",
       "      <td>2160</td>\n",
       "      <td>2186</td>\n",
       "      <td>2240</td>\n",
       "      <td>186659</td>\n",
       "      <td>190396</td>\n",
       "      <td>195126</td>\n",
       "      <td>199713</td>\n",
       "      <td>203709</td>\n",
       "    </tr>\n",
       "    <tr>\n",
       "      <th>Barbour County</th>\n",
       "      <td>335</td>\n",
       "      <td>300</td>\n",
       "      <td>283</td>\n",
       "      <td>260</td>\n",
       "      <td>269</td>\n",
       "      <td>27226</td>\n",
       "      <td>27159</td>\n",
       "      <td>26973</td>\n",
       "      <td>26815</td>\n",
       "      <td>26489</td>\n",
       "    </tr>\n",
       "    <tr>\n",
       "      <th>Bibb County</th>\n",
       "      <td>266</td>\n",
       "      <td>245</td>\n",
       "      <td>259</td>\n",
       "      <td>247</td>\n",
       "      <td>253</td>\n",
       "      <td>22733</td>\n",
       "      <td>22642</td>\n",
       "      <td>22512</td>\n",
       "      <td>22549</td>\n",
       "      <td>22583</td>\n",
       "    </tr>\n",
       "    <tr>\n",
       "      <th>Blount County</th>\n",
       "      <td>744</td>\n",
       "      <td>710</td>\n",
       "      <td>646</td>\n",
       "      <td>618</td>\n",
       "      <td>603</td>\n",
       "      <td>57711</td>\n",
       "      <td>57776</td>\n",
       "      <td>57734</td>\n",
       "      <td>57658</td>\n",
       "      <td>57673</td>\n",
       "    </tr>\n",
       "  </tbody>\n",
       "</table>\n",
       "</div>"
      ],
      "text/plain": [
       "                        BIRTHS2011  BIRTHS2012  BIRTHS2013  BIRTHS2014  \\\n",
       "STNAME  CTYNAME                                                          \n",
       "Alabama Autauga County         636         615         574         623   \n",
       "        Baldwin County        2187        2092        2160        2186   \n",
       "        Barbour County         335         300         283         260   \n",
       "        Bibb County            266         245         259         247   \n",
       "        Blount County          744         710         646         618   \n",
       "\n",
       "                        BIRTHS2015  POPESTIMATE2011  POPESTIMATE2012  \\\n",
       "STNAME  CTYNAME                                                        \n",
       "Alabama Autauga County         600            55253            55175   \n",
       "        Baldwin County        2240           186659           190396   \n",
       "        Barbour County         269            27226            27159   \n",
       "        Bibb County            253            22733            22642   \n",
       "        Blount County          603            57711            57776   \n",
       "\n",
       "                        POPESTIMATE2013  POPESTIMATE2014  POPESTIMATE2015  \n",
       "STNAME  CTYNAME                                                            \n",
       "Alabama Autauga County            55038            55290            55347  \n",
       "        Baldwin County           195126           199713           203709  \n",
       "        Barbour County            26973            26815            26489  \n",
       "        Bibb County               22512            22549            22583  \n",
       "        Blount County             57734            57658            57673  "
      ]
     },
     "execution_count": 53,
     "metadata": {},
     "output_type": "execute_result"
    }
   ],
   "source": [
    "df = df.set_index(['STNAME', 'CTYNAME'])\n",
    "df.head()"
   ]
  },
  {
   "cell_type": "code",
   "execution_count": 59,
   "metadata": {},
   "outputs": [
    {
     "data": {
      "text/plain": [
       "BIRTHS2011           3826\n",
       "BIRTHS2012           3780\n",
       "BIRTHS2013           3662\n",
       "BIRTHS2014           3683\n",
       "BIRTHS2015           3709\n",
       "POPESTIMATE2011    349048\n",
       "POPESTIMATE2012    351213\n",
       "POPESTIMATE2013    354289\n",
       "POPESTIMATE2014    357029\n",
       "POPESTIMATE2015    358880\n",
       "Name: (Michigan, Washtenaw County), dtype: int64"
      ]
     },
     "execution_count": 59,
     "metadata": {},
     "output_type": "execute_result"
    }
   ],
   "source": [
    "df.loc['Michigan', 'Washtenaw County']"
   ]
  },
  {
   "cell_type": "code",
   "execution_count": 61,
   "metadata": {},
   "outputs": [
    {
     "data": {
      "text/plain": [
       "pandas.core.series.Series"
      ]
     },
     "execution_count": 61,
     "metadata": {},
     "output_type": "execute_result"
    }
   ],
   "source": [
    "type(df.loc['Michigan', 'Washtenaw County'])"
   ]
  },
  {
   "cell_type": "code",
   "execution_count": 62,
   "metadata": {},
   "outputs": [
    {
     "data": {
      "text/html": [
       "<div>\n",
       "<style scoped>\n",
       "    .dataframe tbody tr th:only-of-type {\n",
       "        vertical-align: middle;\n",
       "    }\n",
       "\n",
       "    .dataframe tbody tr th {\n",
       "        vertical-align: top;\n",
       "    }\n",
       "\n",
       "    .dataframe thead th {\n",
       "        text-align: right;\n",
       "    }\n",
       "</style>\n",
       "<table border=\"1\" class=\"dataframe\">\n",
       "  <thead>\n",
       "    <tr style=\"text-align: right;\">\n",
       "      <th></th>\n",
       "      <th></th>\n",
       "      <th>BIRTHS2011</th>\n",
       "      <th>BIRTHS2012</th>\n",
       "      <th>BIRTHS2013</th>\n",
       "      <th>BIRTHS2014</th>\n",
       "      <th>BIRTHS2015</th>\n",
       "      <th>POPESTIMATE2011</th>\n",
       "      <th>POPESTIMATE2012</th>\n",
       "      <th>POPESTIMATE2013</th>\n",
       "      <th>POPESTIMATE2014</th>\n",
       "      <th>POPESTIMATE2015</th>\n",
       "    </tr>\n",
       "    <tr>\n",
       "      <th>STNAME</th>\n",
       "      <th>CTYNAME</th>\n",
       "      <th></th>\n",
       "      <th></th>\n",
       "      <th></th>\n",
       "      <th></th>\n",
       "      <th></th>\n",
       "      <th></th>\n",
       "      <th></th>\n",
       "      <th></th>\n",
       "      <th></th>\n",
       "      <th></th>\n",
       "    </tr>\n",
       "  </thead>\n",
       "  <tbody>\n",
       "    <tr>\n",
       "      <th rowspan=\"2\" valign=\"top\">Michigan</th>\n",
       "      <th>Washtenaw County</th>\n",
       "      <td>3826</td>\n",
       "      <td>3780</td>\n",
       "      <td>3662</td>\n",
       "      <td>3683</td>\n",
       "      <td>3709</td>\n",
       "      <td>349048</td>\n",
       "      <td>351213</td>\n",
       "      <td>354289</td>\n",
       "      <td>357029</td>\n",
       "      <td>358880</td>\n",
       "    </tr>\n",
       "    <tr>\n",
       "      <th>Wayne County</th>\n",
       "      <td>23819</td>\n",
       "      <td>23270</td>\n",
       "      <td>23377</td>\n",
       "      <td>23607</td>\n",
       "      <td>23586</td>\n",
       "      <td>1801273</td>\n",
       "      <td>1792514</td>\n",
       "      <td>1775713</td>\n",
       "      <td>1766008</td>\n",
       "      <td>1759335</td>\n",
       "    </tr>\n",
       "  </tbody>\n",
       "</table>\n",
       "</div>"
      ],
      "text/plain": [
       "                           BIRTHS2011  BIRTHS2012  BIRTHS2013  BIRTHS2014  \\\n",
       "STNAME   CTYNAME                                                            \n",
       "Michigan Washtenaw County        3826        3780        3662        3683   \n",
       "         Wayne County           23819       23270       23377       23607   \n",
       "\n",
       "                           BIRTHS2015  POPESTIMATE2011  POPESTIMATE2012  \\\n",
       "STNAME   CTYNAME                                                          \n",
       "Michigan Washtenaw County        3709           349048           351213   \n",
       "         Wayne County           23586          1801273          1792514   \n",
       "\n",
       "                           POPESTIMATE2013  POPESTIMATE2014  POPESTIMATE2015  \n",
       "STNAME   CTYNAME                                                              \n",
       "Michigan Washtenaw County           354289           357029           358880  \n",
       "         Wayne County              1775713          1766008          1759335  "
      ]
     },
     "execution_count": 62,
     "metadata": {},
     "output_type": "execute_result"
    }
   ],
   "source": [
    "df.loc[[('Michigan', 'Washtenaw County'),\n",
    "        ('Michigan', 'Wayne County')]]"
   ]
  },
  {
   "cell_type": "code",
   "execution_count": 63,
   "metadata": {},
   "outputs": [],
   "source": [
    "## Missing Values\n",
    "import pandas as pd"
   ]
  },
  {
   "cell_type": "code",
   "execution_count": 65,
   "metadata": {},
   "outputs": [
    {
     "data": {
      "text/html": [
       "<div>\n",
       "<style scoped>\n",
       "    .dataframe tbody tr th:only-of-type {\n",
       "        vertical-align: middle;\n",
       "    }\n",
       "\n",
       "    .dataframe tbody tr th {\n",
       "        vertical-align: top;\n",
       "    }\n",
       "\n",
       "    .dataframe thead th {\n",
       "        text-align: right;\n",
       "    }\n",
       "</style>\n",
       "<table border=\"1\" class=\"dataframe\">\n",
       "  <thead>\n",
       "    <tr style=\"text-align: right;\">\n",
       "      <th></th>\n",
       "      <th>Prefix</th>\n",
       "      <th>Assignment</th>\n",
       "      <th>Tutorial</th>\n",
       "      <th>Midterm</th>\n",
       "      <th>TakeHome</th>\n",
       "      <th>Final</th>\n",
       "    </tr>\n",
       "  </thead>\n",
       "  <tbody>\n",
       "    <tr>\n",
       "      <th>0</th>\n",
       "      <td>5</td>\n",
       "      <td>57.14</td>\n",
       "      <td>34.09</td>\n",
       "      <td>64.38</td>\n",
       "      <td>51.48</td>\n",
       "      <td>52.50</td>\n",
       "    </tr>\n",
       "    <tr>\n",
       "      <th>1</th>\n",
       "      <td>8</td>\n",
       "      <td>95.05</td>\n",
       "      <td>105.49</td>\n",
       "      <td>67.50</td>\n",
       "      <td>99.07</td>\n",
       "      <td>68.33</td>\n",
       "    </tr>\n",
       "    <tr>\n",
       "      <th>2</th>\n",
       "      <td>8</td>\n",
       "      <td>83.70</td>\n",
       "      <td>83.17</td>\n",
       "      <td>NaN</td>\n",
       "      <td>63.15</td>\n",
       "      <td>48.89</td>\n",
       "    </tr>\n",
       "    <tr>\n",
       "      <th>3</th>\n",
       "      <td>7</td>\n",
       "      <td>NaN</td>\n",
       "      <td>NaN</td>\n",
       "      <td>49.38</td>\n",
       "      <td>105.93</td>\n",
       "      <td>80.56</td>\n",
       "    </tr>\n",
       "    <tr>\n",
       "      <th>4</th>\n",
       "      <td>8</td>\n",
       "      <td>91.32</td>\n",
       "      <td>93.64</td>\n",
       "      <td>95.00</td>\n",
       "      <td>107.41</td>\n",
       "      <td>73.89</td>\n",
       "    </tr>\n",
       "  </tbody>\n",
       "</table>\n",
       "</div>"
      ],
      "text/plain": [
       "   Prefix  Assignment  Tutorial  Midterm  TakeHome  Final\n",
       "0       5       57.14     34.09    64.38     51.48  52.50\n",
       "1       8       95.05    105.49    67.50     99.07  68.33\n",
       "2       8       83.70     83.17      NaN     63.15  48.89\n",
       "3       7         NaN       NaN    49.38    105.93  80.56\n",
       "4       8       91.32     93.64    95.00    107.41  73.89"
      ]
     },
     "execution_count": 65,
     "metadata": {},
     "output_type": "execute_result"
    }
   ],
   "source": [
    "# NaN, NULL, None, or N/A\n",
    "df = pd.read_csv('../Datasets/class_grades.csv')\n",
    "df.head()"
   ]
  },
  {
   "cell_type": "code",
   "execution_count": 69,
   "metadata": {},
   "outputs": [
    {
     "data": {
      "text/html": [
       "<div>\n",
       "<style scoped>\n",
       "    .dataframe tbody tr th:only-of-type {\n",
       "        vertical-align: middle;\n",
       "    }\n",
       "\n",
       "    .dataframe tbody tr th {\n",
       "        vertical-align: top;\n",
       "    }\n",
       "\n",
       "    .dataframe thead th {\n",
       "        text-align: right;\n",
       "    }\n",
       "</style>\n",
       "<table border=\"1\" class=\"dataframe\">\n",
       "  <thead>\n",
       "    <tr style=\"text-align: right;\">\n",
       "      <th></th>\n",
       "      <th>Prefix</th>\n",
       "      <th>Assignment</th>\n",
       "      <th>Tutorial</th>\n",
       "      <th>Midterm</th>\n",
       "      <th>TakeHome</th>\n",
       "      <th>Final</th>\n",
       "    </tr>\n",
       "  </thead>\n",
       "  <tbody>\n",
       "    <tr>\n",
       "      <th>0</th>\n",
       "      <td>False</td>\n",
       "      <td>False</td>\n",
       "      <td>False</td>\n",
       "      <td>False</td>\n",
       "      <td>False</td>\n",
       "      <td>False</td>\n",
       "    </tr>\n",
       "    <tr>\n",
       "      <th>1</th>\n",
       "      <td>False</td>\n",
       "      <td>False</td>\n",
       "      <td>False</td>\n",
       "      <td>False</td>\n",
       "      <td>False</td>\n",
       "      <td>False</td>\n",
       "    </tr>\n",
       "    <tr>\n",
       "      <th>2</th>\n",
       "      <td>False</td>\n",
       "      <td>False</td>\n",
       "      <td>False</td>\n",
       "      <td>True</td>\n",
       "      <td>False</td>\n",
       "      <td>False</td>\n",
       "    </tr>\n",
       "    <tr>\n",
       "      <th>3</th>\n",
       "      <td>False</td>\n",
       "      <td>True</td>\n",
       "      <td>True</td>\n",
       "      <td>False</td>\n",
       "      <td>False</td>\n",
       "      <td>False</td>\n",
       "    </tr>\n",
       "    <tr>\n",
       "      <th>4</th>\n",
       "      <td>False</td>\n",
       "      <td>False</td>\n",
       "      <td>False</td>\n",
       "      <td>False</td>\n",
       "      <td>False</td>\n",
       "      <td>False</td>\n",
       "    </tr>\n",
       "  </tbody>\n",
       "</table>\n",
       "</div>"
      ],
      "text/plain": [
       "   Prefix  Assignment  Tutorial  Midterm  TakeHome  Final\n",
       "0   False       False     False    False     False  False\n",
       "1   False       False     False    False     False  False\n",
       "2   False       False     False     True     False  False\n",
       "3   False        True      True    False     False  False\n",
       "4   False       False     False    False     False  False"
      ]
     },
     "execution_count": 69,
     "metadata": {},
     "output_type": "execute_result"
    }
   ],
   "source": [
    "mask = df.isnull()\n",
    "mask.head()"
   ]
  },
  {
   "cell_type": "code",
   "execution_count": 72,
   "metadata": {},
   "outputs": [
    {
     "data": {
      "text/html": [
       "<div>\n",
       "<style scoped>\n",
       "    .dataframe tbody tr th:only-of-type {\n",
       "        vertical-align: middle;\n",
       "    }\n",
       "\n",
       "    .dataframe tbody tr th {\n",
       "        vertical-align: top;\n",
       "    }\n",
       "\n",
       "    .dataframe thead th {\n",
       "        text-align: right;\n",
       "    }\n",
       "</style>\n",
       "<table border=\"1\" class=\"dataframe\">\n",
       "  <thead>\n",
       "    <tr style=\"text-align: right;\">\n",
       "      <th></th>\n",
       "      <th>Prefix</th>\n",
       "      <th>Assignment</th>\n",
       "      <th>Tutorial</th>\n",
       "      <th>Midterm</th>\n",
       "      <th>TakeHome</th>\n",
       "      <th>Final</th>\n",
       "    </tr>\n",
       "  </thead>\n",
       "  <tbody>\n",
       "    <tr>\n",
       "      <th>0</th>\n",
       "      <td>5</td>\n",
       "      <td>57.14</td>\n",
       "      <td>34.09</td>\n",
       "      <td>64.38</td>\n",
       "      <td>51.48</td>\n",
       "      <td>52.50</td>\n",
       "    </tr>\n",
       "    <tr>\n",
       "      <th>1</th>\n",
       "      <td>8</td>\n",
       "      <td>95.05</td>\n",
       "      <td>105.49</td>\n",
       "      <td>67.50</td>\n",
       "      <td>99.07</td>\n",
       "      <td>68.33</td>\n",
       "    </tr>\n",
       "    <tr>\n",
       "      <th>4</th>\n",
       "      <td>8</td>\n",
       "      <td>91.32</td>\n",
       "      <td>93.64</td>\n",
       "      <td>95.00</td>\n",
       "      <td>107.41</td>\n",
       "      <td>73.89</td>\n",
       "    </tr>\n",
       "    <tr>\n",
       "      <th>5</th>\n",
       "      <td>7</td>\n",
       "      <td>95.00</td>\n",
       "      <td>92.58</td>\n",
       "      <td>93.12</td>\n",
       "      <td>97.78</td>\n",
       "      <td>68.06</td>\n",
       "    </tr>\n",
       "    <tr>\n",
       "      <th>6</th>\n",
       "      <td>8</td>\n",
       "      <td>95.05</td>\n",
       "      <td>102.99</td>\n",
       "      <td>56.25</td>\n",
       "      <td>99.07</td>\n",
       "      <td>50.00</td>\n",
       "    </tr>\n",
       "  </tbody>\n",
       "</table>\n",
       "</div>"
      ],
      "text/plain": [
       "   Prefix  Assignment  Tutorial  Midterm  TakeHome  Final\n",
       "0       5       57.14     34.09    64.38     51.48  52.50\n",
       "1       8       95.05    105.49    67.50     99.07  68.33\n",
       "4       8       91.32     93.64    95.00    107.41  73.89\n",
       "5       7       95.00     92.58    93.12     97.78  68.06\n",
       "6       8       95.05    102.99    56.25     99.07  50.00"
      ]
     },
     "execution_count": 72,
     "metadata": {},
     "output_type": "execute_result"
    }
   ],
   "source": [
    "# drop nas\n",
    "df.dropna().head()"
   ]
  },
  {
   "cell_type": "code",
   "execution_count": 73,
   "metadata": {},
   "outputs": [
    {
     "data": {
      "text/html": [
       "<div>\n",
       "<style scoped>\n",
       "    .dataframe tbody tr th:only-of-type {\n",
       "        vertical-align: middle;\n",
       "    }\n",
       "\n",
       "    .dataframe tbody tr th {\n",
       "        vertical-align: top;\n",
       "    }\n",
       "\n",
       "    .dataframe thead th {\n",
       "        text-align: right;\n",
       "    }\n",
       "</style>\n",
       "<table border=\"1\" class=\"dataframe\">\n",
       "  <thead>\n",
       "    <tr style=\"text-align: right;\">\n",
       "      <th></th>\n",
       "      <th>Prefix</th>\n",
       "      <th>Assignment</th>\n",
       "      <th>Tutorial</th>\n",
       "      <th>Midterm</th>\n",
       "      <th>TakeHome</th>\n",
       "      <th>Final</th>\n",
       "    </tr>\n",
       "  </thead>\n",
       "  <tbody>\n",
       "    <tr>\n",
       "      <th>0</th>\n",
       "      <td>5</td>\n",
       "      <td>57.14</td>\n",
       "      <td>34.09</td>\n",
       "      <td>64.38</td>\n",
       "      <td>51.48</td>\n",
       "      <td>52.50</td>\n",
       "    </tr>\n",
       "    <tr>\n",
       "      <th>1</th>\n",
       "      <td>8</td>\n",
       "      <td>95.05</td>\n",
       "      <td>105.49</td>\n",
       "      <td>67.50</td>\n",
       "      <td>99.07</td>\n",
       "      <td>68.33</td>\n",
       "    </tr>\n",
       "    <tr>\n",
       "      <th>2</th>\n",
       "      <td>8</td>\n",
       "      <td>83.70</td>\n",
       "      <td>83.17</td>\n",
       "      <td>0.00</td>\n",
       "      <td>63.15</td>\n",
       "      <td>48.89</td>\n",
       "    </tr>\n",
       "    <tr>\n",
       "      <th>3</th>\n",
       "      <td>7</td>\n",
       "      <td>0.00</td>\n",
       "      <td>0.00</td>\n",
       "      <td>49.38</td>\n",
       "      <td>105.93</td>\n",
       "      <td>80.56</td>\n",
       "    </tr>\n",
       "    <tr>\n",
       "      <th>4</th>\n",
       "      <td>8</td>\n",
       "      <td>91.32</td>\n",
       "      <td>93.64</td>\n",
       "      <td>95.00</td>\n",
       "      <td>107.41</td>\n",
       "      <td>73.89</td>\n",
       "    </tr>\n",
       "  </tbody>\n",
       "</table>\n",
       "</div>"
      ],
      "text/plain": [
       "   Prefix  Assignment  Tutorial  Midterm  TakeHome  Final\n",
       "0       5       57.14     34.09    64.38     51.48  52.50\n",
       "1       8       95.05    105.49    67.50     99.07  68.33\n",
       "2       8       83.70     83.17     0.00     63.15  48.89\n",
       "3       7        0.00      0.00    49.38    105.93  80.56\n",
       "4       8       91.32     93.64    95.00    107.41  73.89"
      ]
     },
     "execution_count": 73,
     "metadata": {},
     "output_type": "execute_result"
    }
   ],
   "source": [
    "df.fillna(0, inplace=True)\n",
    "df.head()"
   ]
  },
  {
   "cell_type": "code",
   "execution_count": 75,
   "metadata": {},
   "outputs": [
    {
     "data": {
      "text/html": [
       "<div>\n",
       "<style scoped>\n",
       "    .dataframe tbody tr th:only-of-type {\n",
       "        vertical-align: middle;\n",
       "    }\n",
       "\n",
       "    .dataframe tbody tr th {\n",
       "        vertical-align: top;\n",
       "    }\n",
       "\n",
       "    .dataframe thead th {\n",
       "        text-align: right;\n",
       "    }\n",
       "</style>\n",
       "<table border=\"1\" class=\"dataframe\">\n",
       "  <thead>\n",
       "    <tr style=\"text-align: right;\">\n",
       "      <th></th>\n",
       "      <th>time</th>\n",
       "      <th>user</th>\n",
       "      <th>video</th>\n",
       "      <th>playback position</th>\n",
       "      <th>paused</th>\n",
       "      <th>volume</th>\n",
       "    </tr>\n",
       "  </thead>\n",
       "  <tbody>\n",
       "    <tr>\n",
       "      <th>0</th>\n",
       "      <td>1469974424</td>\n",
       "      <td>cheryl</td>\n",
       "      <td>intro.html</td>\n",
       "      <td>5</td>\n",
       "      <td>False</td>\n",
       "      <td>10.0</td>\n",
       "    </tr>\n",
       "    <tr>\n",
       "      <th>1</th>\n",
       "      <td>1469974454</td>\n",
       "      <td>cheryl</td>\n",
       "      <td>intro.html</td>\n",
       "      <td>6</td>\n",
       "      <td>NaN</td>\n",
       "      <td>NaN</td>\n",
       "    </tr>\n",
       "    <tr>\n",
       "      <th>2</th>\n",
       "      <td>1469974544</td>\n",
       "      <td>cheryl</td>\n",
       "      <td>intro.html</td>\n",
       "      <td>9</td>\n",
       "      <td>NaN</td>\n",
       "      <td>NaN</td>\n",
       "    </tr>\n",
       "    <tr>\n",
       "      <th>3</th>\n",
       "      <td>1469974574</td>\n",
       "      <td>cheryl</td>\n",
       "      <td>intro.html</td>\n",
       "      <td>10</td>\n",
       "      <td>NaN</td>\n",
       "      <td>NaN</td>\n",
       "    </tr>\n",
       "    <tr>\n",
       "      <th>4</th>\n",
       "      <td>1469977514</td>\n",
       "      <td>bob</td>\n",
       "      <td>intro.html</td>\n",
       "      <td>1</td>\n",
       "      <td>NaN</td>\n",
       "      <td>NaN</td>\n",
       "    </tr>\n",
       "    <tr>\n",
       "      <th>5</th>\n",
       "      <td>1469977544</td>\n",
       "      <td>bob</td>\n",
       "      <td>intro.html</td>\n",
       "      <td>1</td>\n",
       "      <td>NaN</td>\n",
       "      <td>NaN</td>\n",
       "    </tr>\n",
       "    <tr>\n",
       "      <th>6</th>\n",
       "      <td>1469977574</td>\n",
       "      <td>bob</td>\n",
       "      <td>intro.html</td>\n",
       "      <td>1</td>\n",
       "      <td>NaN</td>\n",
       "      <td>NaN</td>\n",
       "    </tr>\n",
       "    <tr>\n",
       "      <th>7</th>\n",
       "      <td>1469977604</td>\n",
       "      <td>bob</td>\n",
       "      <td>intro.html</td>\n",
       "      <td>1</td>\n",
       "      <td>NaN</td>\n",
       "      <td>NaN</td>\n",
       "    </tr>\n",
       "    <tr>\n",
       "      <th>8</th>\n",
       "      <td>1469974604</td>\n",
       "      <td>cheryl</td>\n",
       "      <td>intro.html</td>\n",
       "      <td>11</td>\n",
       "      <td>NaN</td>\n",
       "      <td>NaN</td>\n",
       "    </tr>\n",
       "    <tr>\n",
       "      <th>9</th>\n",
       "      <td>1469974694</td>\n",
       "      <td>cheryl</td>\n",
       "      <td>intro.html</td>\n",
       "      <td>14</td>\n",
       "      <td>NaN</td>\n",
       "      <td>NaN</td>\n",
       "    </tr>\n",
       "  </tbody>\n",
       "</table>\n",
       "</div>"
      ],
      "text/plain": [
       "         time    user       video  playback position paused  volume\n",
       "0  1469974424  cheryl  intro.html                  5  False    10.0\n",
       "1  1469974454  cheryl  intro.html                  6    NaN     NaN\n",
       "2  1469974544  cheryl  intro.html                  9    NaN     NaN\n",
       "3  1469974574  cheryl  intro.html                 10    NaN     NaN\n",
       "4  1469977514     bob  intro.html                  1    NaN     NaN\n",
       "5  1469977544     bob  intro.html                  1    NaN     NaN\n",
       "6  1469977574     bob  intro.html                  1    NaN     NaN\n",
       "7  1469977604     bob  intro.html                  1    NaN     NaN\n",
       "8  1469974604  cheryl  intro.html                 11    NaN     NaN\n",
       "9  1469974694  cheryl  intro.html                 14    NaN     NaN"
      ]
     },
     "execution_count": 75,
     "metadata": {},
     "output_type": "execute_result"
    }
   ],
   "source": [
    "df = pd.read_csv('../Datasets/log.csv')\n",
    "df.head(10)"
   ]
  },
  {
   "cell_type": "code",
   "execution_count": 76,
   "metadata": {},
   "outputs": [
    {
     "data": {
      "text/html": [
       "<div>\n",
       "<style scoped>\n",
       "    .dataframe tbody tr th:only-of-type {\n",
       "        vertical-align: middle;\n",
       "    }\n",
       "\n",
       "    .dataframe tbody tr th {\n",
       "        vertical-align: top;\n",
       "    }\n",
       "\n",
       "    .dataframe thead th {\n",
       "        text-align: right;\n",
       "    }\n",
       "</style>\n",
       "<table border=\"1\" class=\"dataframe\">\n",
       "  <thead>\n",
       "    <tr style=\"text-align: right;\">\n",
       "      <th></th>\n",
       "      <th>user</th>\n",
       "      <th>video</th>\n",
       "      <th>playback position</th>\n",
       "      <th>paused</th>\n",
       "      <th>volume</th>\n",
       "    </tr>\n",
       "    <tr>\n",
       "      <th>time</th>\n",
       "      <th></th>\n",
       "      <th></th>\n",
       "      <th></th>\n",
       "      <th></th>\n",
       "      <th></th>\n",
       "    </tr>\n",
       "  </thead>\n",
       "  <tbody>\n",
       "    <tr>\n",
       "      <th>1469974424</th>\n",
       "      <td>cheryl</td>\n",
       "      <td>intro.html</td>\n",
       "      <td>5</td>\n",
       "      <td>False</td>\n",
       "      <td>10.0</td>\n",
       "    </tr>\n",
       "    <tr>\n",
       "      <th>1469974424</th>\n",
       "      <td>sue</td>\n",
       "      <td>advanced.html</td>\n",
       "      <td>23</td>\n",
       "      <td>False</td>\n",
       "      <td>10.0</td>\n",
       "    </tr>\n",
       "    <tr>\n",
       "      <th>1469974454</th>\n",
       "      <td>cheryl</td>\n",
       "      <td>intro.html</td>\n",
       "      <td>6</td>\n",
       "      <td>NaN</td>\n",
       "      <td>NaN</td>\n",
       "    </tr>\n",
       "    <tr>\n",
       "      <th>1469974454</th>\n",
       "      <td>sue</td>\n",
       "      <td>advanced.html</td>\n",
       "      <td>24</td>\n",
       "      <td>NaN</td>\n",
       "      <td>NaN</td>\n",
       "    </tr>\n",
       "    <tr>\n",
       "      <th>1469974484</th>\n",
       "      <td>cheryl</td>\n",
       "      <td>intro.html</td>\n",
       "      <td>7</td>\n",
       "      <td>NaN</td>\n",
       "      <td>NaN</td>\n",
       "    </tr>\n",
       "    <tr>\n",
       "      <th>1469974514</th>\n",
       "      <td>cheryl</td>\n",
       "      <td>intro.html</td>\n",
       "      <td>8</td>\n",
       "      <td>NaN</td>\n",
       "      <td>NaN</td>\n",
       "    </tr>\n",
       "    <tr>\n",
       "      <th>1469974524</th>\n",
       "      <td>sue</td>\n",
       "      <td>advanced.html</td>\n",
       "      <td>25</td>\n",
       "      <td>NaN</td>\n",
       "      <td>NaN</td>\n",
       "    </tr>\n",
       "    <tr>\n",
       "      <th>1469974544</th>\n",
       "      <td>cheryl</td>\n",
       "      <td>intro.html</td>\n",
       "      <td>9</td>\n",
       "      <td>NaN</td>\n",
       "      <td>NaN</td>\n",
       "    </tr>\n",
       "    <tr>\n",
       "      <th>1469974554</th>\n",
       "      <td>sue</td>\n",
       "      <td>advanced.html</td>\n",
       "      <td>26</td>\n",
       "      <td>NaN</td>\n",
       "      <td>NaN</td>\n",
       "    </tr>\n",
       "    <tr>\n",
       "      <th>1469974574</th>\n",
       "      <td>cheryl</td>\n",
       "      <td>intro.html</td>\n",
       "      <td>10</td>\n",
       "      <td>NaN</td>\n",
       "      <td>NaN</td>\n",
       "    </tr>\n",
       "  </tbody>\n",
       "</table>\n",
       "</div>"
      ],
      "text/plain": [
       "              user          video  playback position paused  volume\n",
       "time                                                               \n",
       "1469974424  cheryl     intro.html                  5  False    10.0\n",
       "1469974424     sue  advanced.html                 23  False    10.0\n",
       "1469974454  cheryl     intro.html                  6    NaN     NaN\n",
       "1469974454     sue  advanced.html                 24    NaN     NaN\n",
       "1469974484  cheryl     intro.html                  7    NaN     NaN\n",
       "1469974514  cheryl     intro.html                  8    NaN     NaN\n",
       "1469974524     sue  advanced.html                 25    NaN     NaN\n",
       "1469974544  cheryl     intro.html                  9    NaN     NaN\n",
       "1469974554     sue  advanced.html                 26    NaN     NaN\n",
       "1469974574  cheryl     intro.html                 10    NaN     NaN"
      ]
     },
     "execution_count": 76,
     "metadata": {},
     "output_type": "execute_result"
    }
   ],
   "source": [
    "#bfill, ffill\n",
    "df.set_index('time', inplace=True)\n",
    "df.sort_index(inplace = True)\n",
    "df.head(10)"
   ]
  },
  {
   "cell_type": "code",
   "execution_count": 79,
   "metadata": {},
   "outputs": [
    {
     "data": {
      "text/html": [
       "<div>\n",
       "<style scoped>\n",
       "    .dataframe tbody tr th:only-of-type {\n",
       "        vertical-align: middle;\n",
       "    }\n",
       "\n",
       "    .dataframe tbody tr th {\n",
       "        vertical-align: top;\n",
       "    }\n",
       "\n",
       "    .dataframe thead th {\n",
       "        text-align: right;\n",
       "    }\n",
       "</style>\n",
       "<table border=\"1\" class=\"dataframe\">\n",
       "  <thead>\n",
       "    <tr style=\"text-align: right;\">\n",
       "      <th></th>\n",
       "      <th></th>\n",
       "      <th>video</th>\n",
       "      <th>playback position</th>\n",
       "      <th>paused</th>\n",
       "      <th>volume</th>\n",
       "    </tr>\n",
       "    <tr>\n",
       "      <th>time</th>\n",
       "      <th>user</th>\n",
       "      <th></th>\n",
       "      <th></th>\n",
       "      <th></th>\n",
       "      <th></th>\n",
       "    </tr>\n",
       "  </thead>\n",
       "  <tbody>\n",
       "    <tr>\n",
       "      <th rowspan=\"2\" valign=\"top\">1469974424</th>\n",
       "      <th>cheryl</th>\n",
       "      <td>intro.html</td>\n",
       "      <td>5</td>\n",
       "      <td>False</td>\n",
       "      <td>10.0</td>\n",
       "    </tr>\n",
       "    <tr>\n",
       "      <th>sue</th>\n",
       "      <td>advanced.html</td>\n",
       "      <td>23</td>\n",
       "      <td>False</td>\n",
       "      <td>10.0</td>\n",
       "    </tr>\n",
       "    <tr>\n",
       "      <th rowspan=\"2\" valign=\"top\">1469974454</th>\n",
       "      <th>cheryl</th>\n",
       "      <td>intro.html</td>\n",
       "      <td>6</td>\n",
       "      <td>NaN</td>\n",
       "      <td>NaN</td>\n",
       "    </tr>\n",
       "    <tr>\n",
       "      <th>sue</th>\n",
       "      <td>advanced.html</td>\n",
       "      <td>24</td>\n",
       "      <td>NaN</td>\n",
       "      <td>NaN</td>\n",
       "    </tr>\n",
       "    <tr>\n",
       "      <th>1469974484</th>\n",
       "      <th>cheryl</th>\n",
       "      <td>intro.html</td>\n",
       "      <td>7</td>\n",
       "      <td>NaN</td>\n",
       "      <td>NaN</td>\n",
       "    </tr>\n",
       "    <tr>\n",
       "      <th>1469974514</th>\n",
       "      <th>cheryl</th>\n",
       "      <td>intro.html</td>\n",
       "      <td>8</td>\n",
       "      <td>NaN</td>\n",
       "      <td>NaN</td>\n",
       "    </tr>\n",
       "    <tr>\n",
       "      <th>1469974524</th>\n",
       "      <th>sue</th>\n",
       "      <td>advanced.html</td>\n",
       "      <td>25</td>\n",
       "      <td>NaN</td>\n",
       "      <td>NaN</td>\n",
       "    </tr>\n",
       "    <tr>\n",
       "      <th>1469974544</th>\n",
       "      <th>cheryl</th>\n",
       "      <td>intro.html</td>\n",
       "      <td>9</td>\n",
       "      <td>NaN</td>\n",
       "      <td>NaN</td>\n",
       "    </tr>\n",
       "    <tr>\n",
       "      <th>1469974554</th>\n",
       "      <th>sue</th>\n",
       "      <td>advanced.html</td>\n",
       "      <td>26</td>\n",
       "      <td>NaN</td>\n",
       "      <td>NaN</td>\n",
       "    </tr>\n",
       "    <tr>\n",
       "      <th>1469974574</th>\n",
       "      <th>cheryl</th>\n",
       "      <td>intro.html</td>\n",
       "      <td>10</td>\n",
       "      <td>NaN</td>\n",
       "      <td>NaN</td>\n",
       "    </tr>\n",
       "  </tbody>\n",
       "</table>\n",
       "</div>"
      ],
      "text/plain": [
       "                           video  playback position paused  volume\n",
       "time       user                                                   \n",
       "1469974424 cheryl     intro.html                  5  False    10.0\n",
       "           sue     advanced.html                 23  False    10.0\n",
       "1469974454 cheryl     intro.html                  6    NaN     NaN\n",
       "           sue     advanced.html                 24    NaN     NaN\n",
       "1469974484 cheryl     intro.html                  7    NaN     NaN\n",
       "1469974514 cheryl     intro.html                  8    NaN     NaN\n",
       "1469974524 sue     advanced.html                 25    NaN     NaN\n",
       "1469974544 cheryl     intro.html                  9    NaN     NaN\n",
       "1469974554 sue     advanced.html                 26    NaN     NaN\n",
       "1469974574 cheryl     intro.html                 10    NaN     NaN"
      ]
     },
     "execution_count": 79,
     "metadata": {},
     "output_type": "execute_result"
    }
   ],
   "source": [
    "df.reset_index(inplace = True)\n",
    "df.set_index(['time', 'user'], inplace= True)\n",
    "df.head(10)"
   ]
  },
  {
   "cell_type": "code",
   "execution_count": 81,
   "metadata": {},
   "outputs": [
    {
     "data": {
      "text/html": [
       "<div>\n",
       "<style scoped>\n",
       "    .dataframe tbody tr th:only-of-type {\n",
       "        vertical-align: middle;\n",
       "    }\n",
       "\n",
       "    .dataframe tbody tr th {\n",
       "        vertical-align: top;\n",
       "    }\n",
       "\n",
       "    .dataframe thead th {\n",
       "        text-align: right;\n",
       "    }\n",
       "</style>\n",
       "<table border=\"1\" class=\"dataframe\">\n",
       "  <thead>\n",
       "    <tr style=\"text-align: right;\">\n",
       "      <th></th>\n",
       "      <th></th>\n",
       "      <th>video</th>\n",
       "      <th>playback position</th>\n",
       "      <th>paused</th>\n",
       "      <th>volume</th>\n",
       "    </tr>\n",
       "    <tr>\n",
       "      <th>time</th>\n",
       "      <th>user</th>\n",
       "      <th></th>\n",
       "      <th></th>\n",
       "      <th></th>\n",
       "      <th></th>\n",
       "    </tr>\n",
       "  </thead>\n",
       "  <tbody>\n",
       "    <tr>\n",
       "      <th rowspan=\"2\" valign=\"top\">1469974424</th>\n",
       "      <th>cheryl</th>\n",
       "      <td>intro.html</td>\n",
       "      <td>5</td>\n",
       "      <td>False</td>\n",
       "      <td>10.0</td>\n",
       "    </tr>\n",
       "    <tr>\n",
       "      <th>sue</th>\n",
       "      <td>advanced.html</td>\n",
       "      <td>23</td>\n",
       "      <td>False</td>\n",
       "      <td>10.0</td>\n",
       "    </tr>\n",
       "    <tr>\n",
       "      <th rowspan=\"2\" valign=\"top\">1469974454</th>\n",
       "      <th>cheryl</th>\n",
       "      <td>intro.html</td>\n",
       "      <td>6</td>\n",
       "      <td>False</td>\n",
       "      <td>10.0</td>\n",
       "    </tr>\n",
       "    <tr>\n",
       "      <th>sue</th>\n",
       "      <td>advanced.html</td>\n",
       "      <td>24</td>\n",
       "      <td>False</td>\n",
       "      <td>10.0</td>\n",
       "    </tr>\n",
       "    <tr>\n",
       "      <th>1469974484</th>\n",
       "      <th>cheryl</th>\n",
       "      <td>intro.html</td>\n",
       "      <td>7</td>\n",
       "      <td>False</td>\n",
       "      <td>10.0</td>\n",
       "    </tr>\n",
       "    <tr>\n",
       "      <th>1469974514</th>\n",
       "      <th>cheryl</th>\n",
       "      <td>intro.html</td>\n",
       "      <td>8</td>\n",
       "      <td>False</td>\n",
       "      <td>10.0</td>\n",
       "    </tr>\n",
       "    <tr>\n",
       "      <th>1469974524</th>\n",
       "      <th>sue</th>\n",
       "      <td>advanced.html</td>\n",
       "      <td>25</td>\n",
       "      <td>False</td>\n",
       "      <td>10.0</td>\n",
       "    </tr>\n",
       "    <tr>\n",
       "      <th>1469974544</th>\n",
       "      <th>cheryl</th>\n",
       "      <td>intro.html</td>\n",
       "      <td>9</td>\n",
       "      <td>False</td>\n",
       "      <td>10.0</td>\n",
       "    </tr>\n",
       "    <tr>\n",
       "      <th>1469974554</th>\n",
       "      <th>sue</th>\n",
       "      <td>advanced.html</td>\n",
       "      <td>26</td>\n",
       "      <td>False</td>\n",
       "      <td>10.0</td>\n",
       "    </tr>\n",
       "    <tr>\n",
       "      <th>1469974574</th>\n",
       "      <th>cheryl</th>\n",
       "      <td>intro.html</td>\n",
       "      <td>10</td>\n",
       "      <td>False</td>\n",
       "      <td>10.0</td>\n",
       "    </tr>\n",
       "  </tbody>\n",
       "</table>\n",
       "</div>"
      ],
      "text/plain": [
       "                           video  playback position  paused  volume\n",
       "time       user                                                    \n",
       "1469974424 cheryl     intro.html                  5   False    10.0\n",
       "           sue     advanced.html                 23   False    10.0\n",
       "1469974454 cheryl     intro.html                  6   False    10.0\n",
       "           sue     advanced.html                 24   False    10.0\n",
       "1469974484 cheryl     intro.html                  7   False    10.0\n",
       "1469974514 cheryl     intro.html                  8   False    10.0\n",
       "1469974524 sue     advanced.html                 25   False    10.0\n",
       "1469974544 cheryl     intro.html                  9   False    10.0\n",
       "1469974554 sue     advanced.html                 26   False    10.0\n",
       "1469974574 cheryl     intro.html                 10   False    10.0"
      ]
     },
     "execution_count": 81,
     "metadata": {},
     "output_type": "execute_result"
    }
   ],
   "source": [
    "#ffill method\n",
    "df.fillna(method='ffill', inplace = True)\n",
    "df.head(10)"
   ]
  },
  {
   "cell_type": "code",
   "execution_count": 82,
   "metadata": {},
   "outputs": [
    {
     "data": {
      "text/html": [
       "<div>\n",
       "<style scoped>\n",
       "    .dataframe tbody tr th:only-of-type {\n",
       "        vertical-align: middle;\n",
       "    }\n",
       "\n",
       "    .dataframe tbody tr th {\n",
       "        vertical-align: top;\n",
       "    }\n",
       "\n",
       "    .dataframe thead th {\n",
       "        text-align: right;\n",
       "    }\n",
       "</style>\n",
       "<table border=\"1\" class=\"dataframe\">\n",
       "  <thead>\n",
       "    <tr style=\"text-align: right;\">\n",
       "      <th></th>\n",
       "      <th>A</th>\n",
       "      <th>B</th>\n",
       "      <th>C</th>\n",
       "    </tr>\n",
       "  </thead>\n",
       "  <tbody>\n",
       "    <tr>\n",
       "      <th>0</th>\n",
       "      <td>1</td>\n",
       "      <td>3</td>\n",
       "      <td>a</td>\n",
       "    </tr>\n",
       "    <tr>\n",
       "      <th>1</th>\n",
       "      <td>1</td>\n",
       "      <td>6</td>\n",
       "      <td>b</td>\n",
       "    </tr>\n",
       "    <tr>\n",
       "      <th>2</th>\n",
       "      <td>2</td>\n",
       "      <td>3</td>\n",
       "      <td>c</td>\n",
       "    </tr>\n",
       "    <tr>\n",
       "      <th>3</th>\n",
       "      <td>3</td>\n",
       "      <td>8</td>\n",
       "      <td>d</td>\n",
       "    </tr>\n",
       "    <tr>\n",
       "      <th>4</th>\n",
       "      <td>4</td>\n",
       "      <td>9</td>\n",
       "      <td>e</td>\n",
       "    </tr>\n",
       "  </tbody>\n",
       "</table>\n",
       "</div>"
      ],
      "text/plain": [
       "   A  B  C\n",
       "0  1  3  a\n",
       "1  1  6  b\n",
       "2  2  3  c\n",
       "3  3  8  d\n",
       "4  4  9  e"
      ]
     },
     "execution_count": 82,
     "metadata": {},
     "output_type": "execute_result"
    }
   ],
   "source": [
    "df = pd.DataFrame({\n",
    "    'A': [1,1,2,3,4],\n",
    "    'B': [3,6,3,8,9],\n",
    "    'C': ['a','b','c','d', 'e']\n",
    "})\n",
    "df.head()"
   ]
  },
  {
   "cell_type": "code",
   "execution_count": 83,
   "metadata": {},
   "outputs": [
    {
     "data": {
      "text/html": [
       "<div>\n",
       "<style scoped>\n",
       "    .dataframe tbody tr th:only-of-type {\n",
       "        vertical-align: middle;\n",
       "    }\n",
       "\n",
       "    .dataframe tbody tr th {\n",
       "        vertical-align: top;\n",
       "    }\n",
       "\n",
       "    .dataframe thead th {\n",
       "        text-align: right;\n",
       "    }\n",
       "</style>\n",
       "<table border=\"1\" class=\"dataframe\">\n",
       "  <thead>\n",
       "    <tr style=\"text-align: right;\">\n",
       "      <th></th>\n",
       "      <th>A</th>\n",
       "      <th>B</th>\n",
       "      <th>C</th>\n",
       "    </tr>\n",
       "  </thead>\n",
       "  <tbody>\n",
       "    <tr>\n",
       "      <th>0</th>\n",
       "      <td>100</td>\n",
       "      <td>3</td>\n",
       "      <td>a</td>\n",
       "    </tr>\n",
       "    <tr>\n",
       "      <th>1</th>\n",
       "      <td>100</td>\n",
       "      <td>6</td>\n",
       "      <td>b</td>\n",
       "    </tr>\n",
       "    <tr>\n",
       "      <th>2</th>\n",
       "      <td>2</td>\n",
       "      <td>3</td>\n",
       "      <td>c</td>\n",
       "    </tr>\n",
       "    <tr>\n",
       "      <th>3</th>\n",
       "      <td>3</td>\n",
       "      <td>8</td>\n",
       "      <td>d</td>\n",
       "    </tr>\n",
       "    <tr>\n",
       "      <th>4</th>\n",
       "      <td>4</td>\n",
       "      <td>9</td>\n",
       "      <td>e</td>\n",
       "    </tr>\n",
       "  </tbody>\n",
       "</table>\n",
       "</div>"
      ],
      "text/plain": [
       "     A  B  C\n",
       "0  100  3  a\n",
       "1  100  6  b\n",
       "2    2  3  c\n",
       "3    3  8  d\n",
       "4    4  9  e"
      ]
     },
     "execution_count": 83,
     "metadata": {},
     "output_type": "execute_result"
    }
   ],
   "source": [
    "df.replace(1, 100)"
   ]
  },
  {
   "cell_type": "code",
   "execution_count": 84,
   "metadata": {},
   "outputs": [
    {
     "data": {
      "text/html": [
       "<div>\n",
       "<style scoped>\n",
       "    .dataframe tbody tr th:only-of-type {\n",
       "        vertical-align: middle;\n",
       "    }\n",
       "\n",
       "    .dataframe tbody tr th {\n",
       "        vertical-align: top;\n",
       "    }\n",
       "\n",
       "    .dataframe thead th {\n",
       "        text-align: right;\n",
       "    }\n",
       "</style>\n",
       "<table border=\"1\" class=\"dataframe\">\n",
       "  <thead>\n",
       "    <tr style=\"text-align: right;\">\n",
       "      <th></th>\n",
       "      <th>A</th>\n",
       "      <th>B</th>\n",
       "      <th>C</th>\n",
       "    </tr>\n",
       "  </thead>\n",
       "  <tbody>\n",
       "    <tr>\n",
       "      <th>0</th>\n",
       "      <td>100</td>\n",
       "      <td>300</td>\n",
       "      <td>a</td>\n",
       "    </tr>\n",
       "    <tr>\n",
       "      <th>1</th>\n",
       "      <td>100</td>\n",
       "      <td>6</td>\n",
       "      <td>b</td>\n",
       "    </tr>\n",
       "    <tr>\n",
       "      <th>2</th>\n",
       "      <td>2</td>\n",
       "      <td>300</td>\n",
       "      <td>c</td>\n",
       "    </tr>\n",
       "    <tr>\n",
       "      <th>3</th>\n",
       "      <td>300</td>\n",
       "      <td>8</td>\n",
       "      <td>d</td>\n",
       "    </tr>\n",
       "    <tr>\n",
       "      <th>4</th>\n",
       "      <td>4</td>\n",
       "      <td>9</td>\n",
       "      <td>e</td>\n",
       "    </tr>\n",
       "  </tbody>\n",
       "</table>\n",
       "</div>"
      ],
      "text/plain": [
       "     A    B  C\n",
       "0  100  300  a\n",
       "1  100    6  b\n",
       "2    2  300  c\n",
       "3  300    8  d\n",
       "4    4    9  e"
      ]
     },
     "execution_count": 84,
     "metadata": {},
     "output_type": "execute_result"
    }
   ],
   "source": [
    "df.replace([1, 3], [100, 300])"
   ]
  },
  {
   "cell_type": "code",
   "execution_count": 87,
   "metadata": {},
   "outputs": [
    {
     "data": {
      "text/html": [
       "<div>\n",
       "<style scoped>\n",
       "    .dataframe tbody tr th:only-of-type {\n",
       "        vertical-align: middle;\n",
       "    }\n",
       "\n",
       "    .dataframe tbody tr th {\n",
       "        vertical-align: top;\n",
       "    }\n",
       "\n",
       "    .dataframe thead th {\n",
       "        text-align: right;\n",
       "    }\n",
       "</style>\n",
       "<table border=\"1\" class=\"dataframe\">\n",
       "  <thead>\n",
       "    <tr style=\"text-align: right;\">\n",
       "      <th></th>\n",
       "      <th>time</th>\n",
       "      <th>user</th>\n",
       "      <th>video</th>\n",
       "      <th>playback position</th>\n",
       "      <th>paused</th>\n",
       "      <th>volume</th>\n",
       "    </tr>\n",
       "  </thead>\n",
       "  <tbody>\n",
       "    <tr>\n",
       "      <th>0</th>\n",
       "      <td>1469974424</td>\n",
       "      <td>cheryl</td>\n",
       "      <td>intro.html</td>\n",
       "      <td>5</td>\n",
       "      <td>False</td>\n",
       "      <td>10.0</td>\n",
       "    </tr>\n",
       "    <tr>\n",
       "      <th>1</th>\n",
       "      <td>1469974454</td>\n",
       "      <td>cheryl</td>\n",
       "      <td>intro.html</td>\n",
       "      <td>6</td>\n",
       "      <td>NaN</td>\n",
       "      <td>NaN</td>\n",
       "    </tr>\n",
       "    <tr>\n",
       "      <th>2</th>\n",
       "      <td>1469974544</td>\n",
       "      <td>cheryl</td>\n",
       "      <td>intro.html</td>\n",
       "      <td>9</td>\n",
       "      <td>NaN</td>\n",
       "      <td>NaN</td>\n",
       "    </tr>\n",
       "    <tr>\n",
       "      <th>3</th>\n",
       "      <td>1469974574</td>\n",
       "      <td>cheryl</td>\n",
       "      <td>intro.html</td>\n",
       "      <td>10</td>\n",
       "      <td>NaN</td>\n",
       "      <td>NaN</td>\n",
       "    </tr>\n",
       "    <tr>\n",
       "      <th>4</th>\n",
       "      <td>1469977514</td>\n",
       "      <td>bob</td>\n",
       "      <td>intro.html</td>\n",
       "      <td>1</td>\n",
       "      <td>NaN</td>\n",
       "      <td>NaN</td>\n",
       "    </tr>\n",
       "    <tr>\n",
       "      <th>5</th>\n",
       "      <td>1469977544</td>\n",
       "      <td>bob</td>\n",
       "      <td>intro.html</td>\n",
       "      <td>1</td>\n",
       "      <td>NaN</td>\n",
       "      <td>NaN</td>\n",
       "    </tr>\n",
       "    <tr>\n",
       "      <th>6</th>\n",
       "      <td>1469977574</td>\n",
       "      <td>bob</td>\n",
       "      <td>intro.html</td>\n",
       "      <td>1</td>\n",
       "      <td>NaN</td>\n",
       "      <td>NaN</td>\n",
       "    </tr>\n",
       "    <tr>\n",
       "      <th>7</th>\n",
       "      <td>1469977604</td>\n",
       "      <td>bob</td>\n",
       "      <td>intro.html</td>\n",
       "      <td>1</td>\n",
       "      <td>NaN</td>\n",
       "      <td>NaN</td>\n",
       "    </tr>\n",
       "    <tr>\n",
       "      <th>8</th>\n",
       "      <td>1469974604</td>\n",
       "      <td>cheryl</td>\n",
       "      <td>intro.html</td>\n",
       "      <td>11</td>\n",
       "      <td>NaN</td>\n",
       "      <td>NaN</td>\n",
       "    </tr>\n",
       "    <tr>\n",
       "      <th>9</th>\n",
       "      <td>1469974694</td>\n",
       "      <td>cheryl</td>\n",
       "      <td>intro.html</td>\n",
       "      <td>14</td>\n",
       "      <td>NaN</td>\n",
       "      <td>NaN</td>\n",
       "    </tr>\n",
       "  </tbody>\n",
       "</table>\n",
       "</div>"
      ],
      "text/plain": [
       "         time    user       video  playback position paused  volume\n",
       "0  1469974424  cheryl  intro.html                  5  False    10.0\n",
       "1  1469974454  cheryl  intro.html                  6    NaN     NaN\n",
       "2  1469974544  cheryl  intro.html                  9    NaN     NaN\n",
       "3  1469974574  cheryl  intro.html                 10    NaN     NaN\n",
       "4  1469977514     bob  intro.html                  1    NaN     NaN\n",
       "5  1469977544     bob  intro.html                  1    NaN     NaN\n",
       "6  1469977574     bob  intro.html                  1    NaN     NaN\n",
       "7  1469977604     bob  intro.html                  1    NaN     NaN\n",
       "8  1469974604  cheryl  intro.html                 11    NaN     NaN\n",
       "9  1469974694  cheryl  intro.html                 14    NaN     NaN"
      ]
     },
     "execution_count": 87,
     "metadata": {},
     "output_type": "execute_result"
    }
   ],
   "source": [
    "# NaN, NULL, None, or N/A\n",
    "df = pd.read_csv('../Datasets/log.csv')\n",
    "df.head(10)"
   ]
  },
  {
   "cell_type": "code",
   "execution_count": 88,
   "metadata": {},
   "outputs": [
    {
     "data": {
      "text/html": [
       "<div>\n",
       "<style scoped>\n",
       "    .dataframe tbody tr th:only-of-type {\n",
       "        vertical-align: middle;\n",
       "    }\n",
       "\n",
       "    .dataframe tbody tr th {\n",
       "        vertical-align: top;\n",
       "    }\n",
       "\n",
       "    .dataframe thead th {\n",
       "        text-align: right;\n",
       "    }\n",
       "</style>\n",
       "<table border=\"1\" class=\"dataframe\">\n",
       "  <thead>\n",
       "    <tr style=\"text-align: right;\">\n",
       "      <th></th>\n",
       "      <th>time</th>\n",
       "      <th>user</th>\n",
       "      <th>video</th>\n",
       "      <th>playback position</th>\n",
       "      <th>paused</th>\n",
       "      <th>volume</th>\n",
       "    </tr>\n",
       "  </thead>\n",
       "  <tbody>\n",
       "    <tr>\n",
       "      <th>0</th>\n",
       "      <td>1469974424</td>\n",
       "      <td>cheryl</td>\n",
       "      <td>webpage</td>\n",
       "      <td>5</td>\n",
       "      <td>False</td>\n",
       "      <td>10.0</td>\n",
       "    </tr>\n",
       "    <tr>\n",
       "      <th>1</th>\n",
       "      <td>1469974454</td>\n",
       "      <td>cheryl</td>\n",
       "      <td>webpage</td>\n",
       "      <td>6</td>\n",
       "      <td>NaN</td>\n",
       "      <td>NaN</td>\n",
       "    </tr>\n",
       "    <tr>\n",
       "      <th>2</th>\n",
       "      <td>1469974544</td>\n",
       "      <td>cheryl</td>\n",
       "      <td>webpage</td>\n",
       "      <td>9</td>\n",
       "      <td>NaN</td>\n",
       "      <td>NaN</td>\n",
       "    </tr>\n",
       "    <tr>\n",
       "      <th>3</th>\n",
       "      <td>1469974574</td>\n",
       "      <td>cheryl</td>\n",
       "      <td>webpage</td>\n",
       "      <td>10</td>\n",
       "      <td>NaN</td>\n",
       "      <td>NaN</td>\n",
       "    </tr>\n",
       "    <tr>\n",
       "      <th>4</th>\n",
       "      <td>1469977514</td>\n",
       "      <td>bob</td>\n",
       "      <td>webpage</td>\n",
       "      <td>1</td>\n",
       "      <td>NaN</td>\n",
       "      <td>NaN</td>\n",
       "    </tr>\n",
       "    <tr>\n",
       "      <th>5</th>\n",
       "      <td>1469977544</td>\n",
       "      <td>bob</td>\n",
       "      <td>webpage</td>\n",
       "      <td>1</td>\n",
       "      <td>NaN</td>\n",
       "      <td>NaN</td>\n",
       "    </tr>\n",
       "    <tr>\n",
       "      <th>6</th>\n",
       "      <td>1469977574</td>\n",
       "      <td>bob</td>\n",
       "      <td>webpage</td>\n",
       "      <td>1</td>\n",
       "      <td>NaN</td>\n",
       "      <td>NaN</td>\n",
       "    </tr>\n",
       "    <tr>\n",
       "      <th>7</th>\n",
       "      <td>1469977604</td>\n",
       "      <td>bob</td>\n",
       "      <td>webpage</td>\n",
       "      <td>1</td>\n",
       "      <td>NaN</td>\n",
       "      <td>NaN</td>\n",
       "    </tr>\n",
       "    <tr>\n",
       "      <th>8</th>\n",
       "      <td>1469974604</td>\n",
       "      <td>cheryl</td>\n",
       "      <td>webpage</td>\n",
       "      <td>11</td>\n",
       "      <td>NaN</td>\n",
       "      <td>NaN</td>\n",
       "    </tr>\n",
       "    <tr>\n",
       "      <th>9</th>\n",
       "      <td>1469974694</td>\n",
       "      <td>cheryl</td>\n",
       "      <td>webpage</td>\n",
       "      <td>14</td>\n",
       "      <td>NaN</td>\n",
       "      <td>NaN</td>\n",
       "    </tr>\n",
       "    <tr>\n",
       "      <th>10</th>\n",
       "      <td>1469974724</td>\n",
       "      <td>cheryl</td>\n",
       "      <td>webpage</td>\n",
       "      <td>15</td>\n",
       "      <td>NaN</td>\n",
       "      <td>NaN</td>\n",
       "    </tr>\n",
       "    <tr>\n",
       "      <th>11</th>\n",
       "      <td>1469974454</td>\n",
       "      <td>sue</td>\n",
       "      <td>webpage</td>\n",
       "      <td>24</td>\n",
       "      <td>NaN</td>\n",
       "      <td>NaN</td>\n",
       "    </tr>\n",
       "    <tr>\n",
       "      <th>12</th>\n",
       "      <td>1469974524</td>\n",
       "      <td>sue</td>\n",
       "      <td>webpage</td>\n",
       "      <td>25</td>\n",
       "      <td>NaN</td>\n",
       "      <td>NaN</td>\n",
       "    </tr>\n",
       "    <tr>\n",
       "      <th>13</th>\n",
       "      <td>1469974424</td>\n",
       "      <td>sue</td>\n",
       "      <td>webpage</td>\n",
       "      <td>23</td>\n",
       "      <td>False</td>\n",
       "      <td>10.0</td>\n",
       "    </tr>\n",
       "    <tr>\n",
       "      <th>14</th>\n",
       "      <td>1469974554</td>\n",
       "      <td>sue</td>\n",
       "      <td>webpage</td>\n",
       "      <td>26</td>\n",
       "      <td>NaN</td>\n",
       "      <td>NaN</td>\n",
       "    </tr>\n",
       "    <tr>\n",
       "      <th>15</th>\n",
       "      <td>1469974624</td>\n",
       "      <td>sue</td>\n",
       "      <td>webpage</td>\n",
       "      <td>27</td>\n",
       "      <td>NaN</td>\n",
       "      <td>NaN</td>\n",
       "    </tr>\n",
       "    <tr>\n",
       "      <th>16</th>\n",
       "      <td>1469974654</td>\n",
       "      <td>sue</td>\n",
       "      <td>webpage</td>\n",
       "      <td>28</td>\n",
       "      <td>NaN</td>\n",
       "      <td>5.0</td>\n",
       "    </tr>\n",
       "    <tr>\n",
       "      <th>17</th>\n",
       "      <td>1469974724</td>\n",
       "      <td>sue</td>\n",
       "      <td>webpage</td>\n",
       "      <td>29</td>\n",
       "      <td>NaN</td>\n",
       "      <td>NaN</td>\n",
       "    </tr>\n",
       "    <tr>\n",
       "      <th>18</th>\n",
       "      <td>1469974484</td>\n",
       "      <td>cheryl</td>\n",
       "      <td>webpage</td>\n",
       "      <td>7</td>\n",
       "      <td>NaN</td>\n",
       "      <td>NaN</td>\n",
       "    </tr>\n",
       "    <tr>\n",
       "      <th>19</th>\n",
       "      <td>1469974514</td>\n",
       "      <td>cheryl</td>\n",
       "      <td>webpage</td>\n",
       "      <td>8</td>\n",
       "      <td>NaN</td>\n",
       "      <td>NaN</td>\n",
       "    </tr>\n",
       "    <tr>\n",
       "      <th>20</th>\n",
       "      <td>1469974754</td>\n",
       "      <td>sue</td>\n",
       "      <td>webpage</td>\n",
       "      <td>30</td>\n",
       "      <td>NaN</td>\n",
       "      <td>NaN</td>\n",
       "    </tr>\n",
       "    <tr>\n",
       "      <th>21</th>\n",
       "      <td>1469974824</td>\n",
       "      <td>sue</td>\n",
       "      <td>webpage</td>\n",
       "      <td>31</td>\n",
       "      <td>NaN</td>\n",
       "      <td>NaN</td>\n",
       "    </tr>\n",
       "    <tr>\n",
       "      <th>22</th>\n",
       "      <td>1469974854</td>\n",
       "      <td>sue</td>\n",
       "      <td>webpage</td>\n",
       "      <td>32</td>\n",
       "      <td>NaN</td>\n",
       "      <td>NaN</td>\n",
       "    </tr>\n",
       "    <tr>\n",
       "      <th>23</th>\n",
       "      <td>1469974924</td>\n",
       "      <td>sue</td>\n",
       "      <td>webpage</td>\n",
       "      <td>33</td>\n",
       "      <td>NaN</td>\n",
       "      <td>NaN</td>\n",
       "    </tr>\n",
       "    <tr>\n",
       "      <th>24</th>\n",
       "      <td>1469977424</td>\n",
       "      <td>bob</td>\n",
       "      <td>webpage</td>\n",
       "      <td>1</td>\n",
       "      <td>True</td>\n",
       "      <td>10.0</td>\n",
       "    </tr>\n",
       "    <tr>\n",
       "      <th>25</th>\n",
       "      <td>1469977454</td>\n",
       "      <td>bob</td>\n",
       "      <td>webpage</td>\n",
       "      <td>1</td>\n",
       "      <td>NaN</td>\n",
       "      <td>NaN</td>\n",
       "    </tr>\n",
       "    <tr>\n",
       "      <th>26</th>\n",
       "      <td>1469977484</td>\n",
       "      <td>bob</td>\n",
       "      <td>webpage</td>\n",
       "      <td>1</td>\n",
       "      <td>NaN</td>\n",
       "      <td>NaN</td>\n",
       "    </tr>\n",
       "    <tr>\n",
       "      <th>27</th>\n",
       "      <td>1469977634</td>\n",
       "      <td>bob</td>\n",
       "      <td>webpage</td>\n",
       "      <td>1</td>\n",
       "      <td>NaN</td>\n",
       "      <td>NaN</td>\n",
       "    </tr>\n",
       "    <tr>\n",
       "      <th>28</th>\n",
       "      <td>1469977664</td>\n",
       "      <td>bob</td>\n",
       "      <td>webpage</td>\n",
       "      <td>1</td>\n",
       "      <td>NaN</td>\n",
       "      <td>NaN</td>\n",
       "    </tr>\n",
       "    <tr>\n",
       "      <th>29</th>\n",
       "      <td>1469974634</td>\n",
       "      <td>cheryl</td>\n",
       "      <td>webpage</td>\n",
       "      <td>12</td>\n",
       "      <td>NaN</td>\n",
       "      <td>NaN</td>\n",
       "    </tr>\n",
       "    <tr>\n",
       "      <th>30</th>\n",
       "      <td>1469974664</td>\n",
       "      <td>cheryl</td>\n",
       "      <td>webpage</td>\n",
       "      <td>13</td>\n",
       "      <td>NaN</td>\n",
       "      <td>NaN</td>\n",
       "    </tr>\n",
       "    <tr>\n",
       "      <th>31</th>\n",
       "      <td>1469977694</td>\n",
       "      <td>bob</td>\n",
       "      <td>webpage</td>\n",
       "      <td>1</td>\n",
       "      <td>NaN</td>\n",
       "      <td>NaN</td>\n",
       "    </tr>\n",
       "    <tr>\n",
       "      <th>32</th>\n",
       "      <td>1469977724</td>\n",
       "      <td>bob</td>\n",
       "      <td>webpage</td>\n",
       "      <td>1</td>\n",
       "      <td>NaN</td>\n",
       "      <td>NaN</td>\n",
       "    </tr>\n",
       "  </tbody>\n",
       "</table>\n",
       "</div>"
      ],
      "text/plain": [
       "          time    user    video  playback position paused  volume\n",
       "0   1469974424  cheryl  webpage                  5  False    10.0\n",
       "1   1469974454  cheryl  webpage                  6    NaN     NaN\n",
       "2   1469974544  cheryl  webpage                  9    NaN     NaN\n",
       "3   1469974574  cheryl  webpage                 10    NaN     NaN\n",
       "4   1469977514     bob  webpage                  1    NaN     NaN\n",
       "5   1469977544     bob  webpage                  1    NaN     NaN\n",
       "6   1469977574     bob  webpage                  1    NaN     NaN\n",
       "7   1469977604     bob  webpage                  1    NaN     NaN\n",
       "8   1469974604  cheryl  webpage                 11    NaN     NaN\n",
       "9   1469974694  cheryl  webpage                 14    NaN     NaN\n",
       "10  1469974724  cheryl  webpage                 15    NaN     NaN\n",
       "11  1469974454     sue  webpage                 24    NaN     NaN\n",
       "12  1469974524     sue  webpage                 25    NaN     NaN\n",
       "13  1469974424     sue  webpage                 23  False    10.0\n",
       "14  1469974554     sue  webpage                 26    NaN     NaN\n",
       "15  1469974624     sue  webpage                 27    NaN     NaN\n",
       "16  1469974654     sue  webpage                 28    NaN     5.0\n",
       "17  1469974724     sue  webpage                 29    NaN     NaN\n",
       "18  1469974484  cheryl  webpage                  7    NaN     NaN\n",
       "19  1469974514  cheryl  webpage                  8    NaN     NaN\n",
       "20  1469974754     sue  webpage                 30    NaN     NaN\n",
       "21  1469974824     sue  webpage                 31    NaN     NaN\n",
       "22  1469974854     sue  webpage                 32    NaN     NaN\n",
       "23  1469974924     sue  webpage                 33    NaN     NaN\n",
       "24  1469977424     bob  webpage                  1   True    10.0\n",
       "25  1469977454     bob  webpage                  1    NaN     NaN\n",
       "26  1469977484     bob  webpage                  1    NaN     NaN\n",
       "27  1469977634     bob  webpage                  1    NaN     NaN\n",
       "28  1469977664     bob  webpage                  1    NaN     NaN\n",
       "29  1469974634  cheryl  webpage                 12    NaN     NaN\n",
       "30  1469974664  cheryl  webpage                 13    NaN     NaN\n",
       "31  1469977694     bob  webpage                  1    NaN     NaN\n",
       "32  1469977724     bob  webpage                  1    NaN     NaN"
      ]
     },
     "execution_count": 88,
     "metadata": {},
     "output_type": "execute_result"
    }
   ],
   "source": [
    "df.replace(to_replace='.*.html$', value = 'webpage', regex=True)"
   ]
  },
  {
   "cell_type": "code",
   "execution_count": 90,
   "metadata": {},
   "outputs": [
    {
     "data": {
      "text/html": [
       "<div>\n",
       "<style scoped>\n",
       "    .dataframe tbody tr th:only-of-type {\n",
       "        vertical-align: middle;\n",
       "    }\n",
       "\n",
       "    .dataframe tbody tr th {\n",
       "        vertical-align: top;\n",
       "    }\n",
       "\n",
       "    .dataframe thead th {\n",
       "        text-align: right;\n",
       "    }\n",
       "</style>\n",
       "<table border=\"1\" class=\"dataframe\">\n",
       "  <thead>\n",
       "    <tr style=\"text-align: right;\">\n",
       "      <th></th>\n",
       "      <th>#</th>\n",
       "      <th>President</th>\n",
       "      <th>Born</th>\n",
       "      <th>Age atstart of presidency</th>\n",
       "      <th>Age atend of presidency</th>\n",
       "      <th>Post-presidencytimespan</th>\n",
       "      <th>Died</th>\n",
       "      <th>Age</th>\n",
       "    </tr>\n",
       "  </thead>\n",
       "  <tbody>\n",
       "    <tr>\n",
       "      <th>0</th>\n",
       "      <td>1</td>\n",
       "      <td>George Washington</td>\n",
       "      <td>Feb 22, 1732[a]</td>\n",
       "      <td>57 years, 67 daysApr 30, 1789</td>\n",
       "      <td>65 years, 10 daysMar 4, 1797</td>\n",
       "      <td>2 years, 285 days</td>\n",
       "      <td>Dec 14, 1799</td>\n",
       "      <td>67 years, 295 days</td>\n",
       "    </tr>\n",
       "    <tr>\n",
       "      <th>1</th>\n",
       "      <td>2</td>\n",
       "      <td>John Adams</td>\n",
       "      <td>Oct 30, 1735[a]</td>\n",
       "      <td>61 years, 125 daysMar 4, 1797</td>\n",
       "      <td>65 years, 125 daysMar 4, 1801</td>\n",
       "      <td>25 years, 122 days</td>\n",
       "      <td>Jul 4, 1826</td>\n",
       "      <td>90 years, 247 days</td>\n",
       "    </tr>\n",
       "    <tr>\n",
       "      <th>2</th>\n",
       "      <td>3</td>\n",
       "      <td>Thomas Jefferson</td>\n",
       "      <td>Apr 13, 1743[a]</td>\n",
       "      <td>57 years, 325 daysMar 4, 1801</td>\n",
       "      <td>65 years, 325 daysMar 4, 1809</td>\n",
       "      <td>17 years, 122 days</td>\n",
       "      <td>Jul 4, 1826</td>\n",
       "      <td>83 years, 82 days</td>\n",
       "    </tr>\n",
       "    <tr>\n",
       "      <th>3</th>\n",
       "      <td>4</td>\n",
       "      <td>James Madison</td>\n",
       "      <td>Mar 16, 1751[a]</td>\n",
       "      <td>57 years, 353 daysMar 4, 1809</td>\n",
       "      <td>65 years, 353 daysMar 4, 1817</td>\n",
       "      <td>19 years, 116 days</td>\n",
       "      <td>Jun 28, 1836</td>\n",
       "      <td>85 years, 104 days</td>\n",
       "    </tr>\n",
       "    <tr>\n",
       "      <th>4</th>\n",
       "      <td>5</td>\n",
       "      <td>James Monroe</td>\n",
       "      <td>Apr 28, 1758</td>\n",
       "      <td>58 years, 310 daysMar 4, 1817</td>\n",
       "      <td>66 years, 310 daysMar 4, 1825</td>\n",
       "      <td>6 years, 122 days</td>\n",
       "      <td>Jul 4, 1831</td>\n",
       "      <td>73 years, 67 days</td>\n",
       "    </tr>\n",
       "  </tbody>\n",
       "</table>\n",
       "</div>"
      ],
      "text/plain": [
       "   #          President             Born      Age atstart of presidency  \\\n",
       "0  1  George Washington  Feb 22, 1732[a]  57 years, 67 daysApr 30, 1789   \n",
       "1  2         John Adams  Oct 30, 1735[a]  61 years, 125 daysMar 4, 1797   \n",
       "2  3   Thomas Jefferson  Apr 13, 1743[a]  57 years, 325 daysMar 4, 1801   \n",
       "3  4      James Madison  Mar 16, 1751[a]  57 years, 353 daysMar 4, 1809   \n",
       "4  5       James Monroe     Apr 28, 1758  58 years, 310 daysMar 4, 1817   \n",
       "\n",
       "         Age atend of presidency Post-presidencytimespan          Died  \\\n",
       "0   65 years, 10 daysMar 4, 1797       2 years, 285 days  Dec 14, 1799   \n",
       "1  65 years, 125 daysMar 4, 1801      25 years, 122 days   Jul 4, 1826   \n",
       "2  65 years, 325 daysMar 4, 1809      17 years, 122 days   Jul 4, 1826   \n",
       "3  65 years, 353 daysMar 4, 1817      19 years, 116 days  Jun 28, 1836   \n",
       "4  66 years, 310 daysMar 4, 1825       6 years, 122 days   Jul 4, 1831   \n",
       "\n",
       "                  Age  \n",
       "0  67 years, 295 days  \n",
       "1  90 years, 247 days  \n",
       "2   83 years, 82 days  \n",
       "3  85 years, 104 days  \n",
       "4   73 years, 67 days  "
      ]
     },
     "execution_count": 90,
     "metadata": {},
     "output_type": "execute_result"
    }
   ],
   "source": [
    "import pandas as pd\n",
    "df = pd.read_csv('../Datasets/presidents.csv')\n",
    "df.head()"
   ]
  },
  {
   "cell_type": "code",
   "execution_count": 91,
   "metadata": {},
   "outputs": [
    {
     "data": {
      "text/html": [
       "<div>\n",
       "<style scoped>\n",
       "    .dataframe tbody tr th:only-of-type {\n",
       "        vertical-align: middle;\n",
       "    }\n",
       "\n",
       "    .dataframe tbody tr th {\n",
       "        vertical-align: top;\n",
       "    }\n",
       "\n",
       "    .dataframe thead th {\n",
       "        text-align: right;\n",
       "    }\n",
       "</style>\n",
       "<table border=\"1\" class=\"dataframe\">\n",
       "  <thead>\n",
       "    <tr style=\"text-align: right;\">\n",
       "      <th></th>\n",
       "      <th>#</th>\n",
       "      <th>President</th>\n",
       "      <th>Born</th>\n",
       "      <th>Age atstart of presidency</th>\n",
       "      <th>Age atend of presidency</th>\n",
       "      <th>Post-presidencytimespan</th>\n",
       "      <th>Died</th>\n",
       "      <th>Age</th>\n",
       "      <th>First</th>\n",
       "    </tr>\n",
       "  </thead>\n",
       "  <tbody>\n",
       "    <tr>\n",
       "      <th>0</th>\n",
       "      <td>1</td>\n",
       "      <td>George Washington</td>\n",
       "      <td>Feb 22, 1732[a]</td>\n",
       "      <td>57 years, 67 daysApr 30, 1789</td>\n",
       "      <td>65 years, 10 daysMar 4, 1797</td>\n",
       "      <td>2 years, 285 days</td>\n",
       "      <td>Dec 14, 1799</td>\n",
       "      <td>67 years, 295 days</td>\n",
       "      <td>George</td>\n",
       "    </tr>\n",
       "    <tr>\n",
       "      <th>1</th>\n",
       "      <td>2</td>\n",
       "      <td>John Adams</td>\n",
       "      <td>Oct 30, 1735[a]</td>\n",
       "      <td>61 years, 125 daysMar 4, 1797</td>\n",
       "      <td>65 years, 125 daysMar 4, 1801</td>\n",
       "      <td>25 years, 122 days</td>\n",
       "      <td>Jul 4, 1826</td>\n",
       "      <td>90 years, 247 days</td>\n",
       "      <td>John</td>\n",
       "    </tr>\n",
       "    <tr>\n",
       "      <th>2</th>\n",
       "      <td>3</td>\n",
       "      <td>Thomas Jefferson</td>\n",
       "      <td>Apr 13, 1743[a]</td>\n",
       "      <td>57 years, 325 daysMar 4, 1801</td>\n",
       "      <td>65 years, 325 daysMar 4, 1809</td>\n",
       "      <td>17 years, 122 days</td>\n",
       "      <td>Jul 4, 1826</td>\n",
       "      <td>83 years, 82 days</td>\n",
       "      <td>Thomas</td>\n",
       "    </tr>\n",
       "    <tr>\n",
       "      <th>3</th>\n",
       "      <td>4</td>\n",
       "      <td>James Madison</td>\n",
       "      <td>Mar 16, 1751[a]</td>\n",
       "      <td>57 years, 353 daysMar 4, 1809</td>\n",
       "      <td>65 years, 353 daysMar 4, 1817</td>\n",
       "      <td>19 years, 116 days</td>\n",
       "      <td>Jun 28, 1836</td>\n",
       "      <td>85 years, 104 days</td>\n",
       "      <td>James</td>\n",
       "    </tr>\n",
       "    <tr>\n",
       "      <th>4</th>\n",
       "      <td>5</td>\n",
       "      <td>James Monroe</td>\n",
       "      <td>Apr 28, 1758</td>\n",
       "      <td>58 years, 310 daysMar 4, 1817</td>\n",
       "      <td>66 years, 310 daysMar 4, 1825</td>\n",
       "      <td>6 years, 122 days</td>\n",
       "      <td>Jul 4, 1831</td>\n",
       "      <td>73 years, 67 days</td>\n",
       "      <td>James</td>\n",
       "    </tr>\n",
       "  </tbody>\n",
       "</table>\n",
       "</div>"
      ],
      "text/plain": [
       "   #          President             Born      Age atstart of presidency  \\\n",
       "0  1  George Washington  Feb 22, 1732[a]  57 years, 67 daysApr 30, 1789   \n",
       "1  2         John Adams  Oct 30, 1735[a]  61 years, 125 daysMar 4, 1797   \n",
       "2  3   Thomas Jefferson  Apr 13, 1743[a]  57 years, 325 daysMar 4, 1801   \n",
       "3  4      James Madison  Mar 16, 1751[a]  57 years, 353 daysMar 4, 1809   \n",
       "4  5       James Monroe     Apr 28, 1758  58 years, 310 daysMar 4, 1817   \n",
       "\n",
       "         Age atend of presidency Post-presidencytimespan          Died  \\\n",
       "0   65 years, 10 daysMar 4, 1797       2 years, 285 days  Dec 14, 1799   \n",
       "1  65 years, 125 daysMar 4, 1801      25 years, 122 days   Jul 4, 1826   \n",
       "2  65 years, 325 daysMar 4, 1809      17 years, 122 days   Jul 4, 1826   \n",
       "3  65 years, 353 daysMar 4, 1817      19 years, 116 days  Jun 28, 1836   \n",
       "4  66 years, 310 daysMar 4, 1825       6 years, 122 days   Jul 4, 1831   \n",
       "\n",
       "                  Age   First  \n",
       "0  67 years, 295 days  George  \n",
       "1  90 years, 247 days    John  \n",
       "2   83 years, 82 days  Thomas  \n",
       "3  85 years, 104 days   James  \n",
       "4   73 years, 67 days   James  "
      ]
     },
     "execution_count": 91,
     "metadata": {},
     "output_type": "execute_result"
    }
   ],
   "source": [
    "df['First'] = df['President']\n",
    "df['First'] = df['First'].replace('[ ].*', '', regex = True)\n",
    "df.head()"
   ]
  },
  {
   "cell_type": "code",
   "execution_count": 92,
   "metadata": {},
   "outputs": [],
   "source": [
    "del(df['First'])\n"
   ]
  },
  {
   "cell_type": "code",
   "execution_count": 93,
   "metadata": {},
   "outputs": [
    {
     "data": {
      "text/html": [
       "<div>\n",
       "<style scoped>\n",
       "    .dataframe tbody tr th:only-of-type {\n",
       "        vertical-align: middle;\n",
       "    }\n",
       "\n",
       "    .dataframe tbody tr th {\n",
       "        vertical-align: top;\n",
       "    }\n",
       "\n",
       "    .dataframe thead th {\n",
       "        text-align: right;\n",
       "    }\n",
       "</style>\n",
       "<table border=\"1\" class=\"dataframe\">\n",
       "  <thead>\n",
       "    <tr style=\"text-align: right;\">\n",
       "      <th></th>\n",
       "      <th>#</th>\n",
       "      <th>President</th>\n",
       "      <th>Born</th>\n",
       "      <th>Age atstart of presidency</th>\n",
       "      <th>Age atend of presidency</th>\n",
       "      <th>Post-presidencytimespan</th>\n",
       "      <th>Died</th>\n",
       "      <th>Age</th>\n",
       "    </tr>\n",
       "  </thead>\n",
       "  <tbody>\n",
       "    <tr>\n",
       "      <th>0</th>\n",
       "      <td>1</td>\n",
       "      <td>George Washington</td>\n",
       "      <td>Feb 22, 1732[a]</td>\n",
       "      <td>57 years, 67 daysApr 30, 1789</td>\n",
       "      <td>65 years, 10 daysMar 4, 1797</td>\n",
       "      <td>2 years, 285 days</td>\n",
       "      <td>Dec 14, 1799</td>\n",
       "      <td>67 years, 295 days</td>\n",
       "    </tr>\n",
       "    <tr>\n",
       "      <th>1</th>\n",
       "      <td>2</td>\n",
       "      <td>John Adams</td>\n",
       "      <td>Oct 30, 1735[a]</td>\n",
       "      <td>61 years, 125 daysMar 4, 1797</td>\n",
       "      <td>65 years, 125 daysMar 4, 1801</td>\n",
       "      <td>25 years, 122 days</td>\n",
       "      <td>Jul 4, 1826</td>\n",
       "      <td>90 years, 247 days</td>\n",
       "    </tr>\n",
       "    <tr>\n",
       "      <th>2</th>\n",
       "      <td>3</td>\n",
       "      <td>Thomas Jefferson</td>\n",
       "      <td>Apr 13, 1743[a]</td>\n",
       "      <td>57 years, 325 daysMar 4, 1801</td>\n",
       "      <td>65 years, 325 daysMar 4, 1809</td>\n",
       "      <td>17 years, 122 days</td>\n",
       "      <td>Jul 4, 1826</td>\n",
       "      <td>83 years, 82 days</td>\n",
       "    </tr>\n",
       "    <tr>\n",
       "      <th>3</th>\n",
       "      <td>4</td>\n",
       "      <td>James Madison</td>\n",
       "      <td>Mar 16, 1751[a]</td>\n",
       "      <td>57 years, 353 daysMar 4, 1809</td>\n",
       "      <td>65 years, 353 daysMar 4, 1817</td>\n",
       "      <td>19 years, 116 days</td>\n",
       "      <td>Jun 28, 1836</td>\n",
       "      <td>85 years, 104 days</td>\n",
       "    </tr>\n",
       "    <tr>\n",
       "      <th>4</th>\n",
       "      <td>5</td>\n",
       "      <td>James Monroe</td>\n",
       "      <td>Apr 28, 1758</td>\n",
       "      <td>58 years, 310 daysMar 4, 1817</td>\n",
       "      <td>66 years, 310 daysMar 4, 1825</td>\n",
       "      <td>6 years, 122 days</td>\n",
       "      <td>Jul 4, 1831</td>\n",
       "      <td>73 years, 67 days</td>\n",
       "    </tr>\n",
       "  </tbody>\n",
       "</table>\n",
       "</div>"
      ],
      "text/plain": [
       "   #          President             Born      Age atstart of presidency  \\\n",
       "0  1  George Washington  Feb 22, 1732[a]  57 years, 67 daysApr 30, 1789   \n",
       "1  2         John Adams  Oct 30, 1735[a]  61 years, 125 daysMar 4, 1797   \n",
       "2  3   Thomas Jefferson  Apr 13, 1743[a]  57 years, 325 daysMar 4, 1801   \n",
       "3  4      James Madison  Mar 16, 1751[a]  57 years, 353 daysMar 4, 1809   \n",
       "4  5       James Monroe     Apr 28, 1758  58 years, 310 daysMar 4, 1817   \n",
       "\n",
       "         Age atend of presidency Post-presidencytimespan          Died  \\\n",
       "0   65 years, 10 daysMar 4, 1797       2 years, 285 days  Dec 14, 1799   \n",
       "1  65 years, 125 daysMar 4, 1801      25 years, 122 days   Jul 4, 1826   \n",
       "2  65 years, 325 daysMar 4, 1809      17 years, 122 days   Jul 4, 1826   \n",
       "3  65 years, 353 daysMar 4, 1817      19 years, 116 days  Jun 28, 1836   \n",
       "4  66 years, 310 daysMar 4, 1825       6 years, 122 days   Jul 4, 1831   \n",
       "\n",
       "                  Age  \n",
       "0  67 years, 295 days  \n",
       "1  90 years, 247 days  \n",
       "2   83 years, 82 days  \n",
       "3  85 years, 104 days  \n",
       "4   73 years, 67 days  "
      ]
     },
     "execution_count": 93,
     "metadata": {},
     "output_type": "execute_result"
    }
   ],
   "source": [
    "df.head()"
   ]
  },
  {
   "cell_type": "code",
   "execution_count": 94,
   "metadata": {},
   "outputs": [
    {
     "data": {
      "text/html": [
       "<div>\n",
       "<style scoped>\n",
       "    .dataframe tbody tr th:only-of-type {\n",
       "        vertical-align: middle;\n",
       "    }\n",
       "\n",
       "    .dataframe tbody tr th {\n",
       "        vertical-align: top;\n",
       "    }\n",
       "\n",
       "    .dataframe thead th {\n",
       "        text-align: right;\n",
       "    }\n",
       "</style>\n",
       "<table border=\"1\" class=\"dataframe\">\n",
       "  <thead>\n",
       "    <tr style=\"text-align: right;\">\n",
       "      <th></th>\n",
       "      <th>#</th>\n",
       "      <th>President</th>\n",
       "      <th>Born</th>\n",
       "      <th>Age atstart of presidency</th>\n",
       "      <th>Age atend of presidency</th>\n",
       "      <th>Post-presidencytimespan</th>\n",
       "      <th>Died</th>\n",
       "      <th>Age</th>\n",
       "      <th>First</th>\n",
       "      <th>Last</th>\n",
       "    </tr>\n",
       "  </thead>\n",
       "  <tbody>\n",
       "    <tr>\n",
       "      <th>0</th>\n",
       "      <td>1</td>\n",
       "      <td>George Washington</td>\n",
       "      <td>Feb 22, 1732[a]</td>\n",
       "      <td>57 years, 67 daysApr 30, 1789</td>\n",
       "      <td>65 years, 10 daysMar 4, 1797</td>\n",
       "      <td>2 years, 285 days</td>\n",
       "      <td>Dec 14, 1799</td>\n",
       "      <td>67 years, 295 days</td>\n",
       "      <td>George</td>\n",
       "      <td>Washington</td>\n",
       "    </tr>\n",
       "    <tr>\n",
       "      <th>1</th>\n",
       "      <td>2</td>\n",
       "      <td>John Adams</td>\n",
       "      <td>Oct 30, 1735[a]</td>\n",
       "      <td>61 years, 125 daysMar 4, 1797</td>\n",
       "      <td>65 years, 125 daysMar 4, 1801</td>\n",
       "      <td>25 years, 122 days</td>\n",
       "      <td>Jul 4, 1826</td>\n",
       "      <td>90 years, 247 days</td>\n",
       "      <td>John</td>\n",
       "      <td>Adams</td>\n",
       "    </tr>\n",
       "    <tr>\n",
       "      <th>2</th>\n",
       "      <td>3</td>\n",
       "      <td>Thomas Jefferson</td>\n",
       "      <td>Apr 13, 1743[a]</td>\n",
       "      <td>57 years, 325 daysMar 4, 1801</td>\n",
       "      <td>65 years, 325 daysMar 4, 1809</td>\n",
       "      <td>17 years, 122 days</td>\n",
       "      <td>Jul 4, 1826</td>\n",
       "      <td>83 years, 82 days</td>\n",
       "      <td>Thomas</td>\n",
       "      <td>Jefferson</td>\n",
       "    </tr>\n",
       "    <tr>\n",
       "      <th>3</th>\n",
       "      <td>4</td>\n",
       "      <td>James Madison</td>\n",
       "      <td>Mar 16, 1751[a]</td>\n",
       "      <td>57 years, 353 daysMar 4, 1809</td>\n",
       "      <td>65 years, 353 daysMar 4, 1817</td>\n",
       "      <td>19 years, 116 days</td>\n",
       "      <td>Jun 28, 1836</td>\n",
       "      <td>85 years, 104 days</td>\n",
       "      <td>James</td>\n",
       "      <td>Madison</td>\n",
       "    </tr>\n",
       "    <tr>\n",
       "      <th>4</th>\n",
       "      <td>5</td>\n",
       "      <td>James Monroe</td>\n",
       "      <td>Apr 28, 1758</td>\n",
       "      <td>58 years, 310 daysMar 4, 1817</td>\n",
       "      <td>66 years, 310 daysMar 4, 1825</td>\n",
       "      <td>6 years, 122 days</td>\n",
       "      <td>Jul 4, 1831</td>\n",
       "      <td>73 years, 67 days</td>\n",
       "      <td>James</td>\n",
       "      <td>Monroe</td>\n",
       "    </tr>\n",
       "  </tbody>\n",
       "</table>\n",
       "</div>"
      ],
      "text/plain": [
       "   #          President             Born      Age atstart of presidency  \\\n",
       "0  1  George Washington  Feb 22, 1732[a]  57 years, 67 daysApr 30, 1789   \n",
       "1  2         John Adams  Oct 30, 1735[a]  61 years, 125 daysMar 4, 1797   \n",
       "2  3   Thomas Jefferson  Apr 13, 1743[a]  57 years, 325 daysMar 4, 1801   \n",
       "3  4      James Madison  Mar 16, 1751[a]  57 years, 353 daysMar 4, 1809   \n",
       "4  5       James Monroe     Apr 28, 1758  58 years, 310 daysMar 4, 1817   \n",
       "\n",
       "         Age atend of presidency Post-presidencytimespan          Died  \\\n",
       "0   65 years, 10 daysMar 4, 1797       2 years, 285 days  Dec 14, 1799   \n",
       "1  65 years, 125 daysMar 4, 1801      25 years, 122 days   Jul 4, 1826   \n",
       "2  65 years, 325 daysMar 4, 1809      17 years, 122 days   Jul 4, 1826   \n",
       "3  65 years, 353 daysMar 4, 1817      19 years, 116 days  Jun 28, 1836   \n",
       "4  66 years, 310 daysMar 4, 1825       6 years, 122 days   Jul 4, 1831   \n",
       "\n",
       "                  Age   First        Last  \n",
       "0  67 years, 295 days  George  Washington  \n",
       "1  90 years, 247 days    John       Adams  \n",
       "2   83 years, 82 days  Thomas   Jefferson  \n",
       "3  85 years, 104 days   James     Madison  \n",
       "4   73 years, 67 days   James      Monroe  "
      ]
     },
     "execution_count": 94,
     "metadata": {},
     "output_type": "execute_result"
    }
   ],
   "source": [
    "def splitname(row):\n",
    "    row['First'] = row['President'].split()[0]\n",
    "    row['Last'] = row['President'].split()[-1]\n",
    "\n",
    "    return row\n",
    "\n",
    "df = df.apply(splitname, axis='columns')\n",
    "df.head()"
   ]
  },
  {
   "cell_type": "code",
   "execution_count": 95,
   "metadata": {},
   "outputs": [],
   "source": [
    "del(df['First'])\n",
    "del(df['Last'])"
   ]
  },
  {
   "cell_type": "code",
   "execution_count": 104,
   "metadata": {},
   "outputs": [
    {
     "data": {
      "text/plain": [
       "['Eduardo', 'Montero']"
      ]
     },
     "execution_count": 104,
     "metadata": {},
     "output_type": "execute_result"
    }
   ],
   "source": [
    "text = 'Eduardo Montero'\n",
    "import re\n",
    "\n",
    "re.findall('\\w+', text)"
   ]
  },
  {
   "cell_type": "code",
   "execution_count": 110,
   "metadata": {},
   "outputs": [
    {
     "data": {
      "text/html": [
       "<div>\n",
       "<style scoped>\n",
       "    .dataframe tbody tr th:only-of-type {\n",
       "        vertical-align: middle;\n",
       "    }\n",
       "\n",
       "    .dataframe tbody tr th {\n",
       "        vertical-align: top;\n",
       "    }\n",
       "\n",
       "    .dataframe thead th {\n",
       "        text-align: right;\n",
       "    }\n",
       "</style>\n",
       "<table border=\"1\" class=\"dataframe\">\n",
       "  <thead>\n",
       "    <tr style=\"text-align: right;\">\n",
       "      <th></th>\n",
       "      <th>0</th>\n",
       "      <th>1</th>\n",
       "    </tr>\n",
       "  </thead>\n",
       "  <tbody>\n",
       "    <tr>\n",
       "      <th>0</th>\n",
       "      <td>George</td>\n",
       "      <td>Washington</td>\n",
       "    </tr>\n",
       "    <tr>\n",
       "      <th>1</th>\n",
       "      <td>John</td>\n",
       "      <td>Adams</td>\n",
       "    </tr>\n",
       "    <tr>\n",
       "      <th>2</th>\n",
       "      <td>Thomas</td>\n",
       "      <td>Jefferson</td>\n",
       "    </tr>\n",
       "    <tr>\n",
       "      <th>3</th>\n",
       "      <td>James</td>\n",
       "      <td>Madison</td>\n",
       "    </tr>\n",
       "    <tr>\n",
       "      <th>4</th>\n",
       "      <td>James</td>\n",
       "      <td>Monroe</td>\n",
       "    </tr>\n",
       "  </tbody>\n",
       "</table>\n",
       "</div>"
      ],
      "text/plain": [
       "        0           1\n",
       "0  George  Washington\n",
       "1    John       Adams\n",
       "2  Thomas   Jefferson\n",
       "3   James     Madison\n",
       "4   James      Monroe"
      ]
     },
     "execution_count": 110,
     "metadata": {},
     "output_type": "execute_result"
    }
   ],
   "source": [
    "pattern = '(^[\\w]*)(?:.* )([\\w]*$)'\n",
    "df['President'].str.extract(pattern).head()"
   ]
  },
  {
   "cell_type": "code",
   "execution_count": 117,
   "metadata": {},
   "outputs": [
    {
     "data": {
      "text/html": [
       "<div>\n",
       "<style scoped>\n",
       "    .dataframe tbody tr th:only-of-type {\n",
       "        vertical-align: middle;\n",
       "    }\n",
       "\n",
       "    .dataframe tbody tr th {\n",
       "        vertical-align: top;\n",
       "    }\n",
       "\n",
       "    .dataframe thead th {\n",
       "        text-align: right;\n",
       "    }\n",
       "</style>\n",
       "<table border=\"1\" class=\"dataframe\">\n",
       "  <thead>\n",
       "    <tr style=\"text-align: right;\">\n",
       "      <th></th>\n",
       "      <th>First</th>\n",
       "      <th>Last</th>\n",
       "    </tr>\n",
       "  </thead>\n",
       "  <tbody>\n",
       "    <tr>\n",
       "      <th>0</th>\n",
       "      <td>George</td>\n",
       "      <td>Washington</td>\n",
       "    </tr>\n",
       "    <tr>\n",
       "      <th>1</th>\n",
       "      <td>John</td>\n",
       "      <td>Adams</td>\n",
       "    </tr>\n",
       "    <tr>\n",
       "      <th>2</th>\n",
       "      <td>Thomas</td>\n",
       "      <td>Jefferson</td>\n",
       "    </tr>\n",
       "    <tr>\n",
       "      <th>3</th>\n",
       "      <td>James</td>\n",
       "      <td>Madison</td>\n",
       "    </tr>\n",
       "    <tr>\n",
       "      <th>4</th>\n",
       "      <td>James</td>\n",
       "      <td>Monroe</td>\n",
       "    </tr>\n",
       "  </tbody>\n",
       "</table>\n",
       "</div>"
      ],
      "text/plain": [
       "    First        Last\n",
       "0  George  Washington\n",
       "1    John       Adams\n",
       "2  Thomas   Jefferson\n",
       "3   James     Madison\n",
       "4   James      Monroe"
      ]
     },
     "execution_count": 117,
     "metadata": {},
     "output_type": "execute_result"
    }
   ],
   "source": [
    "#Groups using regex\n",
    "pattern = '(?P<First>^[\\w]*)(?:.* )(?P<Last>[\\w]*$)'\n",
    "names = df['President'].str.extract(pattern)\n",
    "names.head()"
   ]
  },
  {
   "cell_type": "code",
   "execution_count": 118,
   "metadata": {},
   "outputs": [
    {
     "data": {
      "text/html": [
       "<div>\n",
       "<style scoped>\n",
       "    .dataframe tbody tr th:only-of-type {\n",
       "        vertical-align: middle;\n",
       "    }\n",
       "\n",
       "    .dataframe tbody tr th {\n",
       "        vertical-align: top;\n",
       "    }\n",
       "\n",
       "    .dataframe thead th {\n",
       "        text-align: right;\n",
       "    }\n",
       "</style>\n",
       "<table border=\"1\" class=\"dataframe\">\n",
       "  <thead>\n",
       "    <tr style=\"text-align: right;\">\n",
       "      <th></th>\n",
       "      <th>#</th>\n",
       "      <th>President</th>\n",
       "      <th>Born</th>\n",
       "      <th>Age atstart of presidency</th>\n",
       "      <th>Age atend of presidency</th>\n",
       "      <th>Post-presidencytimespan</th>\n",
       "      <th>Died</th>\n",
       "      <th>Age</th>\n",
       "      <th>First</th>\n",
       "      <th>Last</th>\n",
       "    </tr>\n",
       "  </thead>\n",
       "  <tbody>\n",
       "    <tr>\n",
       "      <th>0</th>\n",
       "      <td>1</td>\n",
       "      <td>George Washington</td>\n",
       "      <td>Feb 22, 1732[a]</td>\n",
       "      <td>57 years, 67 daysApr 30, 1789</td>\n",
       "      <td>65 years, 10 daysMar 4, 1797</td>\n",
       "      <td>2 years, 285 days</td>\n",
       "      <td>Dec 14, 1799</td>\n",
       "      <td>67 years, 295 days</td>\n",
       "      <td>George</td>\n",
       "      <td>Washington</td>\n",
       "    </tr>\n",
       "    <tr>\n",
       "      <th>1</th>\n",
       "      <td>2</td>\n",
       "      <td>John Adams</td>\n",
       "      <td>Oct 30, 1735[a]</td>\n",
       "      <td>61 years, 125 daysMar 4, 1797</td>\n",
       "      <td>65 years, 125 daysMar 4, 1801</td>\n",
       "      <td>25 years, 122 days</td>\n",
       "      <td>Jul 4, 1826</td>\n",
       "      <td>90 years, 247 days</td>\n",
       "      <td>John</td>\n",
       "      <td>Adams</td>\n",
       "    </tr>\n",
       "    <tr>\n",
       "      <th>2</th>\n",
       "      <td>3</td>\n",
       "      <td>Thomas Jefferson</td>\n",
       "      <td>Apr 13, 1743[a]</td>\n",
       "      <td>57 years, 325 daysMar 4, 1801</td>\n",
       "      <td>65 years, 325 daysMar 4, 1809</td>\n",
       "      <td>17 years, 122 days</td>\n",
       "      <td>Jul 4, 1826</td>\n",
       "      <td>83 years, 82 days</td>\n",
       "      <td>Thomas</td>\n",
       "      <td>Jefferson</td>\n",
       "    </tr>\n",
       "    <tr>\n",
       "      <th>3</th>\n",
       "      <td>4</td>\n",
       "      <td>James Madison</td>\n",
       "      <td>Mar 16, 1751[a]</td>\n",
       "      <td>57 years, 353 daysMar 4, 1809</td>\n",
       "      <td>65 years, 353 daysMar 4, 1817</td>\n",
       "      <td>19 years, 116 days</td>\n",
       "      <td>Jun 28, 1836</td>\n",
       "      <td>85 years, 104 days</td>\n",
       "      <td>James</td>\n",
       "      <td>Madison</td>\n",
       "    </tr>\n",
       "    <tr>\n",
       "      <th>4</th>\n",
       "      <td>5</td>\n",
       "      <td>James Monroe</td>\n",
       "      <td>Apr 28, 1758</td>\n",
       "      <td>58 years, 310 daysMar 4, 1817</td>\n",
       "      <td>66 years, 310 daysMar 4, 1825</td>\n",
       "      <td>6 years, 122 days</td>\n",
       "      <td>Jul 4, 1831</td>\n",
       "      <td>73 years, 67 days</td>\n",
       "      <td>James</td>\n",
       "      <td>Monroe</td>\n",
       "    </tr>\n",
       "  </tbody>\n",
       "</table>\n",
       "</div>"
      ],
      "text/plain": [
       "   #          President             Born      Age atstart of presidency  \\\n",
       "0  1  George Washington  Feb 22, 1732[a]  57 years, 67 daysApr 30, 1789   \n",
       "1  2         John Adams  Oct 30, 1735[a]  61 years, 125 daysMar 4, 1797   \n",
       "2  3   Thomas Jefferson  Apr 13, 1743[a]  57 years, 325 daysMar 4, 1801   \n",
       "3  4      James Madison  Mar 16, 1751[a]  57 years, 353 daysMar 4, 1809   \n",
       "4  5       James Monroe     Apr 28, 1758  58 years, 310 daysMar 4, 1817   \n",
       "\n",
       "         Age atend of presidency Post-presidencytimespan          Died  \\\n",
       "0   65 years, 10 daysMar 4, 1797       2 years, 285 days  Dec 14, 1799   \n",
       "1  65 years, 125 daysMar 4, 1801      25 years, 122 days   Jul 4, 1826   \n",
       "2  65 years, 325 daysMar 4, 1809      17 years, 122 days   Jul 4, 1826   \n",
       "3  65 years, 353 daysMar 4, 1817      19 years, 116 days  Jun 28, 1836   \n",
       "4  66 years, 310 daysMar 4, 1825       6 years, 122 days   Jul 4, 1831   \n",
       "\n",
       "                  Age   First        Last  \n",
       "0  67 years, 295 days  George  Washington  \n",
       "1  90 years, 247 days    John       Adams  \n",
       "2   83 years, 82 days  Thomas   Jefferson  \n",
       "3  85 years, 104 days   James     Madison  \n",
       "4   73 years, 67 days   James      Monroe  "
      ]
     },
     "execution_count": 118,
     "metadata": {},
     "output_type": "execute_result"
    }
   ],
   "source": [
    "df['First'] = names['First']\n",
    "df['Last'] = names['Last']\n",
    "df.head()"
   ]
  },
  {
   "cell_type": "code",
   "execution_count": 127,
   "metadata": {},
   "outputs": [
    {
     "data": {
      "text/plain": [
       "['Feb 22, 1732']"
      ]
     },
     "execution_count": 127,
     "metadata": {},
     "output_type": "execute_result"
    }
   ],
   "source": [
    "text = 'Feb 22, 1732[a]'\n",
    "re.findall('([\\w]{3} [\\w]{1,2}, [\\w]{4})', text)"
   ]
  },
  {
   "cell_type": "code",
   "execution_count": 128,
   "metadata": {},
   "outputs": [
    {
     "data": {
      "text/html": [
       "<div>\n",
       "<style scoped>\n",
       "    .dataframe tbody tr th:only-of-type {\n",
       "        vertical-align: middle;\n",
       "    }\n",
       "\n",
       "    .dataframe tbody tr th {\n",
       "        vertical-align: top;\n",
       "    }\n",
       "\n",
       "    .dataframe thead th {\n",
       "        text-align: right;\n",
       "    }\n",
       "</style>\n",
       "<table border=\"1\" class=\"dataframe\">\n",
       "  <thead>\n",
       "    <tr style=\"text-align: right;\">\n",
       "      <th></th>\n",
       "      <th>#</th>\n",
       "      <th>President</th>\n",
       "      <th>Born</th>\n",
       "      <th>Age atstart of presidency</th>\n",
       "      <th>Age atend of presidency</th>\n",
       "      <th>Post-presidencytimespan</th>\n",
       "      <th>Died</th>\n",
       "      <th>Age</th>\n",
       "      <th>First</th>\n",
       "      <th>Last</th>\n",
       "    </tr>\n",
       "  </thead>\n",
       "  <tbody>\n",
       "    <tr>\n",
       "      <th>0</th>\n",
       "      <td>1</td>\n",
       "      <td>George Washington</td>\n",
       "      <td>Feb 22, 1732</td>\n",
       "      <td>57 years, 67 daysApr 30, 1789</td>\n",
       "      <td>65 years, 10 daysMar 4, 1797</td>\n",
       "      <td>2 years, 285 days</td>\n",
       "      <td>Dec 14, 1799</td>\n",
       "      <td>67 years, 295 days</td>\n",
       "      <td>George</td>\n",
       "      <td>Washington</td>\n",
       "    </tr>\n",
       "    <tr>\n",
       "      <th>1</th>\n",
       "      <td>2</td>\n",
       "      <td>John Adams</td>\n",
       "      <td>Oct 30, 1735</td>\n",
       "      <td>61 years, 125 daysMar 4, 1797</td>\n",
       "      <td>65 years, 125 daysMar 4, 1801</td>\n",
       "      <td>25 years, 122 days</td>\n",
       "      <td>Jul 4, 1826</td>\n",
       "      <td>90 years, 247 days</td>\n",
       "      <td>John</td>\n",
       "      <td>Adams</td>\n",
       "    </tr>\n",
       "    <tr>\n",
       "      <th>2</th>\n",
       "      <td>3</td>\n",
       "      <td>Thomas Jefferson</td>\n",
       "      <td>Apr 13, 1743</td>\n",
       "      <td>57 years, 325 daysMar 4, 1801</td>\n",
       "      <td>65 years, 325 daysMar 4, 1809</td>\n",
       "      <td>17 years, 122 days</td>\n",
       "      <td>Jul 4, 1826</td>\n",
       "      <td>83 years, 82 days</td>\n",
       "      <td>Thomas</td>\n",
       "      <td>Jefferson</td>\n",
       "    </tr>\n",
       "    <tr>\n",
       "      <th>3</th>\n",
       "      <td>4</td>\n",
       "      <td>James Madison</td>\n",
       "      <td>Mar 16, 1751</td>\n",
       "      <td>57 years, 353 daysMar 4, 1809</td>\n",
       "      <td>65 years, 353 daysMar 4, 1817</td>\n",
       "      <td>19 years, 116 days</td>\n",
       "      <td>Jun 28, 1836</td>\n",
       "      <td>85 years, 104 days</td>\n",
       "      <td>James</td>\n",
       "      <td>Madison</td>\n",
       "    </tr>\n",
       "    <tr>\n",
       "      <th>4</th>\n",
       "      <td>5</td>\n",
       "      <td>James Monroe</td>\n",
       "      <td>Apr 28, 1758</td>\n",
       "      <td>58 years, 310 daysMar 4, 1817</td>\n",
       "      <td>66 years, 310 daysMar 4, 1825</td>\n",
       "      <td>6 years, 122 days</td>\n",
       "      <td>Jul 4, 1831</td>\n",
       "      <td>73 years, 67 days</td>\n",
       "      <td>James</td>\n",
       "      <td>Monroe</td>\n",
       "    </tr>\n",
       "  </tbody>\n",
       "</table>\n",
       "</div>"
      ],
      "text/plain": [
       "   #          President          Born      Age atstart of presidency  \\\n",
       "0  1  George Washington  Feb 22, 1732  57 years, 67 daysApr 30, 1789   \n",
       "1  2         John Adams  Oct 30, 1735  61 years, 125 daysMar 4, 1797   \n",
       "2  3   Thomas Jefferson  Apr 13, 1743  57 years, 325 daysMar 4, 1801   \n",
       "3  4      James Madison  Mar 16, 1751  57 years, 353 daysMar 4, 1809   \n",
       "4  5       James Monroe  Apr 28, 1758  58 years, 310 daysMar 4, 1817   \n",
       "\n",
       "         Age atend of presidency Post-presidencytimespan          Died  \\\n",
       "0   65 years, 10 daysMar 4, 1797       2 years, 285 days  Dec 14, 1799   \n",
       "1  65 years, 125 daysMar 4, 1801      25 years, 122 days   Jul 4, 1826   \n",
       "2  65 years, 325 daysMar 4, 1809      17 years, 122 days   Jul 4, 1826   \n",
       "3  65 years, 353 daysMar 4, 1817      19 years, 116 days  Jun 28, 1836   \n",
       "4  66 years, 310 daysMar 4, 1825       6 years, 122 days   Jul 4, 1831   \n",
       "\n",
       "                  Age   First        Last  \n",
       "0  67 years, 295 days  George  Washington  \n",
       "1  90 years, 247 days    John       Adams  \n",
       "2   83 years, 82 days  Thomas   Jefferson  \n",
       "3  85 years, 104 days   James     Madison  \n",
       "4   73 years, 67 days   James      Monroe  "
      ]
     },
     "execution_count": 128,
     "metadata": {},
     "output_type": "execute_result"
    }
   ],
   "source": [
    "pattern = '([\\w]{3} [\\w]{1,2}, [\\w]{4})'\n",
    "df['Born'] = df['Born'].str.extract(pattern)\n",
    "df.head()"
   ]
  },
  {
   "cell_type": "code",
   "execution_count": 130,
   "metadata": {},
   "outputs": [
    {
     "data": {
      "text/plain": [
       "0   1732-02-22\n",
       "1   1735-10-30\n",
       "2   1743-04-13\n",
       "3   1751-03-16\n",
       "4   1758-04-28\n",
       "Name: Born, dtype: datetime64[ns]"
      ]
     },
     "execution_count": 130,
     "metadata": {},
     "output_type": "execute_result"
    }
   ],
   "source": [
    "df['Born'] = pd.to_datetime(df['Born'])\n",
    "df['Born'].head()"
   ]
  },
  {
   "cell_type": "code",
   "execution_count": 133,
   "metadata": {},
   "outputs": [
    {
     "data": {
      "text/plain": [
       "California        NaN\n",
       "Ohio          35000.0\n",
       "Oregon        16000.0\n",
       "Texas         71000.0\n",
       "dtype: float64"
      ]
     },
     "execution_count": 133,
     "metadata": {},
     "output_type": "execute_result"
    }
   ],
   "source": [
    "import pandas as pd\n",
    "sdata = {'Ohio': 35000, 'Texas': 71000, 'Oregon': 16000, 'Utah': 5000}\n",
    "obj1 = pd.Series(sdata)\n",
    "states = ['California', 'Ohio', 'Oregon', 'Texas']\n",
    "obj2 = pd.Series(sdata, index=states)\n",
    "obj2"
   ]
  },
  {
   "cell_type": "code",
   "execution_count": 136,
   "metadata": {},
   "outputs": [
    {
     "data": {
      "text/plain": [
       "True"
      ]
     },
     "execution_count": 136,
     "metadata": {},
     "output_type": "execute_result"
    }
   ],
   "source": [
    "x = obj2['California']\n",
    "obj2['California'] != x"
   ]
  },
  {
   "cell_type": "code",
   "execution_count": 141,
   "metadata": {},
   "outputs": [],
   "source": [
    "dict = {'one': [0,4,8,12],\n",
    "        'two': [1,5,9,13]\n",
    "    }\n",
    "\n",
    "df = pd.DataFrame(dict)"
   ]
  },
  {
   "cell_type": "code",
   "execution_count": 142,
   "metadata": {},
   "outputs": [
    {
     "data": {
      "text/html": [
       "<div>\n",
       "<style scoped>\n",
       "    .dataframe tbody tr th:only-of-type {\n",
       "        vertical-align: middle;\n",
       "    }\n",
       "\n",
       "    .dataframe tbody tr th {\n",
       "        vertical-align: top;\n",
       "    }\n",
       "\n",
       "    .dataframe thead th {\n",
       "        text-align: right;\n",
       "    }\n",
       "</style>\n",
       "<table border=\"1\" class=\"dataframe\">\n",
       "  <thead>\n",
       "    <tr style=\"text-align: right;\">\n",
       "      <th></th>\n",
       "      <th>one</th>\n",
       "      <th>two</th>\n",
       "    </tr>\n",
       "  </thead>\n",
       "  <tbody>\n",
       "    <tr>\n",
       "      <th>0</th>\n",
       "      <td>0</td>\n",
       "      <td>1</td>\n",
       "    </tr>\n",
       "    <tr>\n",
       "      <th>1</th>\n",
       "      <td>4</td>\n",
       "      <td>5</td>\n",
       "    </tr>\n",
       "    <tr>\n",
       "      <th>2</th>\n",
       "      <td>8</td>\n",
       "      <td>9</td>\n",
       "    </tr>\n",
       "    <tr>\n",
       "      <th>3</th>\n",
       "      <td>12</td>\n",
       "      <td>13</td>\n",
       "    </tr>\n",
       "  </tbody>\n",
       "</table>\n",
       "</div>"
      ],
      "text/plain": [
       "   one  two\n",
       "0    0    1\n",
       "1    4    5\n",
       "2    8    9\n",
       "3   12   13"
      ]
     },
     "execution_count": 142,
     "metadata": {},
     "output_type": "execute_result"
    }
   ],
   "source": []
  },
  {
   "cell_type": "code",
   "execution_count": 143,
   "metadata": {},
   "outputs": [
    {
     "data": {
      "text/plain": [
       "2"
      ]
     },
     "execution_count": 143,
     "metadata": {},
     "output_type": "execute_result"
    }
   ],
   "source": [
    "import pandas as pd\n",
    "s1 = pd.Series({1: 'Alice', 2: 'Jack', 3: 'Molly'})\n",
    "s2 = pd.Series({'Alice': 1, 'Jack': 2, 'Molly': 3})\n"
   ]
  },
  {
   "cell_type": "code",
   "execution_count": 145,
   "metadata": {},
   "outputs": [
    {
     "name": "stdout",
     "output_type": "stream",
     "text": [
      "firstname\n",
      "6     Sally\n",
      "8      Mary\n",
      "10     John\n",
      "Name: firstname, dtype: object\n",
      "age\n",
      "6     50\n",
      "8     40\n",
      "10    30\n",
      "Name: age, dtype: int64\n"
     ]
    }
   ],
   "source": [
    "import pandas as pd\n",
    "\n",
    "data = {\n",
    "  \"firstname\": [\"Sally\", \"Mary\", \"John\"],\n",
    "  \"age\": [50, 40, 30]\n",
    "}\n",
    "\n",
    "df = pd.DataFrame(data, index=[6,8,10])\n",
    "\n",
    "for x, y in df.iteritems():\n",
    "  print(x)\n",
    "  print(y)"
   ]
  },
  {
   "cell_type": "markdown",
   "metadata": {},
   "source": [
    "## Merging Dataframes"
   ]
  },
  {
   "cell_type": "code",
   "execution_count": 146,
   "metadata": {},
   "outputs": [],
   "source": [
    "import pandas as pd"
   ]
  },
  {
   "cell_type": "code",
   "execution_count": 154,
   "metadata": {},
   "outputs": [],
   "source": [
    "# creating a dataframe with a list of dictionaries\n",
    "# there is one dictionary per record\n",
    "staff_df = pd.DataFrame([{'name': 'Kelly', 'role': 'Director of HR'},\n",
    "                        {'name': 'Sally', 'role': 'Course Liasion'},\n",
    "                        {'name': 'James', 'role': 'Grader'}]\n",
    "                    )\n",
    "staff_df.set_index('name', inplace=True)\n",
    "\n",
    "student_df = pd.DataFrame([\n",
    "    {'name':'James', 'school': 'Business'},\n",
    "    {'name':'Mike', 'school':'Law'},\n",
    "    {'name':'Sally', 'school':'Engineering'}\n",
    "])\n",
    "student_df.set_index('name', inplace=True)"
   ]
  },
  {
   "cell_type": "code",
   "execution_count": 157,
   "metadata": {},
   "outputs": [
    {
     "name": "stdout",
     "output_type": "stream",
     "text": [
      "                 role\n",
      "name                 \n",
      "Kelly  Director of HR\n",
      "Sally  Course Liasion\n",
      "James          Grader\n",
      "            school\n",
      "name              \n",
      "James     Business\n",
      "Mike           Law\n",
      "Sally  Engineering\n"
     ]
    }
   ],
   "source": [
    "print(staff_df.head())\n",
    "print(student_df.head())\n"
   ]
  },
  {
   "cell_type": "code",
   "execution_count": 158,
   "metadata": {},
   "outputs": [
    {
     "data": {
      "text/html": [
       "<div>\n",
       "<style scoped>\n",
       "    .dataframe tbody tr th:only-of-type {\n",
       "        vertical-align: middle;\n",
       "    }\n",
       "\n",
       "    .dataframe tbody tr th {\n",
       "        vertical-align: top;\n",
       "    }\n",
       "\n",
       "    .dataframe thead th {\n",
       "        text-align: right;\n",
       "    }\n",
       "</style>\n",
       "<table border=\"1\" class=\"dataframe\">\n",
       "  <thead>\n",
       "    <tr style=\"text-align: right;\">\n",
       "      <th></th>\n",
       "      <th>role</th>\n",
       "      <th>school</th>\n",
       "    </tr>\n",
       "    <tr>\n",
       "      <th>name</th>\n",
       "      <th></th>\n",
       "      <th></th>\n",
       "    </tr>\n",
       "  </thead>\n",
       "  <tbody>\n",
       "    <tr>\n",
       "      <th>James</th>\n",
       "      <td>Grader</td>\n",
       "      <td>Business</td>\n",
       "    </tr>\n",
       "    <tr>\n",
       "      <th>Kelly</th>\n",
       "      <td>Director of HR</td>\n",
       "      <td>NaN</td>\n",
       "    </tr>\n",
       "    <tr>\n",
       "      <th>Mike</th>\n",
       "      <td>NaN</td>\n",
       "      <td>Law</td>\n",
       "    </tr>\n",
       "    <tr>\n",
       "      <th>Sally</th>\n",
       "      <td>Course Liasion</td>\n",
       "      <td>Engineering</td>\n",
       "    </tr>\n",
       "  </tbody>\n",
       "</table>\n",
       "</div>"
      ],
      "text/plain": [
       "                 role       school\n",
       "name                              \n",
       "James          Grader     Business\n",
       "Kelly  Director of HR          NaN\n",
       "Mike              NaN          Law\n",
       "Sally  Course Liasion  Engineering"
      ]
     },
     "execution_count": 158,
     "metadata": {},
     "output_type": "execute_result"
    }
   ],
   "source": [
    "pd.merge(staff_df, student_df, how='outer', left_index = True, right_index = True)"
   ]
  },
  {
   "cell_type": "code",
   "execution_count": 159,
   "metadata": {},
   "outputs": [
    {
     "data": {
      "text/html": [
       "<div>\n",
       "<style scoped>\n",
       "    .dataframe tbody tr th:only-of-type {\n",
       "        vertical-align: middle;\n",
       "    }\n",
       "\n",
       "    .dataframe tbody tr th {\n",
       "        vertical-align: top;\n",
       "    }\n",
       "\n",
       "    .dataframe thead th {\n",
       "        text-align: right;\n",
       "    }\n",
       "</style>\n",
       "<table border=\"1\" class=\"dataframe\">\n",
       "  <thead>\n",
       "    <tr style=\"text-align: right;\">\n",
       "      <th></th>\n",
       "      <th>role</th>\n",
       "      <th>school</th>\n",
       "    </tr>\n",
       "    <tr>\n",
       "      <th>name</th>\n",
       "      <th></th>\n",
       "      <th></th>\n",
       "    </tr>\n",
       "  </thead>\n",
       "  <tbody>\n",
       "    <tr>\n",
       "      <th>Sally</th>\n",
       "      <td>Course Liasion</td>\n",
       "      <td>Engineering</td>\n",
       "    </tr>\n",
       "    <tr>\n",
       "      <th>James</th>\n",
       "      <td>Grader</td>\n",
       "      <td>Business</td>\n",
       "    </tr>\n",
       "  </tbody>\n",
       "</table>\n",
       "</div>"
      ],
      "text/plain": [
       "                 role       school\n",
       "name                              \n",
       "Sally  Course Liasion  Engineering\n",
       "James          Grader     Business"
      ]
     },
     "execution_count": 159,
     "metadata": {},
     "output_type": "execute_result"
    }
   ],
   "source": [
    "pd.merge(staff_df, student_df, how='inner', left_index=True, right_index= True)"
   ]
  },
  {
   "cell_type": "code",
   "execution_count": 160,
   "metadata": {},
   "outputs": [
    {
     "data": {
      "text/html": [
       "<div>\n",
       "<style scoped>\n",
       "    .dataframe tbody tr th:only-of-type {\n",
       "        vertical-align: middle;\n",
       "    }\n",
       "\n",
       "    .dataframe tbody tr th {\n",
       "        vertical-align: top;\n",
       "    }\n",
       "\n",
       "    .dataframe thead th {\n",
       "        text-align: right;\n",
       "    }\n",
       "</style>\n",
       "<table border=\"1\" class=\"dataframe\">\n",
       "  <thead>\n",
       "    <tr style=\"text-align: right;\">\n",
       "      <th></th>\n",
       "      <th>role</th>\n",
       "      <th>school</th>\n",
       "    </tr>\n",
       "    <tr>\n",
       "      <th>name</th>\n",
       "      <th></th>\n",
       "      <th></th>\n",
       "    </tr>\n",
       "  </thead>\n",
       "  <tbody>\n",
       "    <tr>\n",
       "      <th>Kelly</th>\n",
       "      <td>Director of HR</td>\n",
       "      <td>NaN</td>\n",
       "    </tr>\n",
       "    <tr>\n",
       "      <th>Sally</th>\n",
       "      <td>Course Liasion</td>\n",
       "      <td>Engineering</td>\n",
       "    </tr>\n",
       "    <tr>\n",
       "      <th>James</th>\n",
       "      <td>Grader</td>\n",
       "      <td>Business</td>\n",
       "    </tr>\n",
       "  </tbody>\n",
       "</table>\n",
       "</div>"
      ],
      "text/plain": [
       "                 role       school\n",
       "name                              \n",
       "Kelly  Director of HR          NaN\n",
       "Sally  Course Liasion  Engineering\n",
       "James          Grader     Business"
      ]
     },
     "execution_count": 160,
     "metadata": {},
     "output_type": "execute_result"
    }
   ],
   "source": [
    "pd.merge(staff_df, student_df, how='left', left_index=True, right_index = True)"
   ]
  },
  {
   "cell_type": "code",
   "execution_count": 161,
   "metadata": {},
   "outputs": [
    {
     "data": {
      "text/html": [
       "<div>\n",
       "<style scoped>\n",
       "    .dataframe tbody tr th:only-of-type {\n",
       "        vertical-align: middle;\n",
       "    }\n",
       "\n",
       "    .dataframe tbody tr th {\n",
       "        vertical-align: top;\n",
       "    }\n",
       "\n",
       "    .dataframe thead th {\n",
       "        text-align: right;\n",
       "    }\n",
       "</style>\n",
       "<table border=\"1\" class=\"dataframe\">\n",
       "  <thead>\n",
       "    <tr style=\"text-align: right;\">\n",
       "      <th></th>\n",
       "      <th>role</th>\n",
       "      <th>school</th>\n",
       "    </tr>\n",
       "    <tr>\n",
       "      <th>name</th>\n",
       "      <th></th>\n",
       "      <th></th>\n",
       "    </tr>\n",
       "  </thead>\n",
       "  <tbody>\n",
       "    <tr>\n",
       "      <th>James</th>\n",
       "      <td>Grader</td>\n",
       "      <td>Business</td>\n",
       "    </tr>\n",
       "    <tr>\n",
       "      <th>Mike</th>\n",
       "      <td>NaN</td>\n",
       "      <td>Law</td>\n",
       "    </tr>\n",
       "    <tr>\n",
       "      <th>Sally</th>\n",
       "      <td>Course Liasion</td>\n",
       "      <td>Engineering</td>\n",
       "    </tr>\n",
       "  </tbody>\n",
       "</table>\n",
       "</div>"
      ],
      "text/plain": [
       "                 role       school\n",
       "name                              \n",
       "James          Grader     Business\n",
       "Mike              NaN          Law\n",
       "Sally  Course Liasion  Engineering"
      ]
     },
     "execution_count": 161,
     "metadata": {},
     "output_type": "execute_result"
    }
   ],
   "source": [
    "pd.merge(staff_df, student_df, how='right', left_index=True, right_index = True)"
   ]
  },
  {
   "cell_type": "code",
   "execution_count": 163,
   "metadata": {},
   "outputs": [],
   "source": [
    "staff_df.reset_index(inplace = True)\n",
    "student_df.reset_index(inplace = True)"
   ]
  },
  {
   "cell_type": "code",
   "execution_count": 164,
   "metadata": {},
   "outputs": [
    {
     "data": {
      "text/html": [
       "<div>\n",
       "<style scoped>\n",
       "    .dataframe tbody tr th:only-of-type {\n",
       "        vertical-align: middle;\n",
       "    }\n",
       "\n",
       "    .dataframe tbody tr th {\n",
       "        vertical-align: top;\n",
       "    }\n",
       "\n",
       "    .dataframe thead th {\n",
       "        text-align: right;\n",
       "    }\n",
       "</style>\n",
       "<table border=\"1\" class=\"dataframe\">\n",
       "  <thead>\n",
       "    <tr style=\"text-align: right;\">\n",
       "      <th></th>\n",
       "      <th>name</th>\n",
       "      <th>role</th>\n",
       "      <th>school</th>\n",
       "    </tr>\n",
       "  </thead>\n",
       "  <tbody>\n",
       "    <tr>\n",
       "      <th>0</th>\n",
       "      <td>James</td>\n",
       "      <td>Grader</td>\n",
       "      <td>Business</td>\n",
       "    </tr>\n",
       "    <tr>\n",
       "      <th>1</th>\n",
       "      <td>Mike</td>\n",
       "      <td>NaN</td>\n",
       "      <td>Law</td>\n",
       "    </tr>\n",
       "    <tr>\n",
       "      <th>2</th>\n",
       "      <td>Sally</td>\n",
       "      <td>Course Liasion</td>\n",
       "      <td>Engineering</td>\n",
       "    </tr>\n",
       "  </tbody>\n",
       "</table>\n",
       "</div>"
      ],
      "text/plain": [
       "    name            role       school\n",
       "0  James          Grader     Business\n",
       "1   Mike             NaN          Law\n",
       "2  Sally  Course Liasion  Engineering"
      ]
     },
     "execution_count": 164,
     "metadata": {},
     "output_type": "execute_result"
    }
   ],
   "source": [
    "pd.merge(staff_df, student_df, how='right', on = 'name')"
   ]
  },
  {
   "cell_type": "code",
   "execution_count": 165,
   "metadata": {},
   "outputs": [],
   "source": [
    "# creating a dataframe with a list of dictionaries\n",
    "# there is one dictionary per record\n",
    "staff_df = pd.DataFrame([{'name': 'Kelly', 'role': 'Director of HR', 'location': 'State Street'},\n",
    "                        {'name': 'Sally', 'role': 'Course Liasion', 'location': 'Washington Avenue'},\n",
    "                        {'name': 'James', 'role': 'Grader', 'location': 'Washington Avenue'}]\n",
    "                    )\n",
    "\n",
    "student_df = pd.DataFrame([\n",
    "    {'name':'James', 'school': 'Business', 'location':'102 Billy Street'},\n",
    "    {'name':'Mike', 'school':'Law', 'location': 'Fraternity House #23'},\n",
    "    {'name':'Sally', 'school':'Engineering', 'location': '512 Wilson Credest'}\n",
    "])\n"
   ]
  },
  {
   "cell_type": "code",
   "execution_count": 166,
   "metadata": {},
   "outputs": [
    {
     "data": {
      "text/html": [
       "<div>\n",
       "<style scoped>\n",
       "    .dataframe tbody tr th:only-of-type {\n",
       "        vertical-align: middle;\n",
       "    }\n",
       "\n",
       "    .dataframe tbody tr th {\n",
       "        vertical-align: top;\n",
       "    }\n",
       "\n",
       "    .dataframe thead th {\n",
       "        text-align: right;\n",
       "    }\n",
       "</style>\n",
       "<table border=\"1\" class=\"dataframe\">\n",
       "  <thead>\n",
       "    <tr style=\"text-align: right;\">\n",
       "      <th></th>\n",
       "      <th>name</th>\n",
       "      <th>role</th>\n",
       "      <th>location_x</th>\n",
       "      <th>school</th>\n",
       "      <th>location_y</th>\n",
       "    </tr>\n",
       "  </thead>\n",
       "  <tbody>\n",
       "    <tr>\n",
       "      <th>0</th>\n",
       "      <td>Kelly</td>\n",
       "      <td>Director of HR</td>\n",
       "      <td>State Street</td>\n",
       "      <td>NaN</td>\n",
       "      <td>NaN</td>\n",
       "    </tr>\n",
       "    <tr>\n",
       "      <th>1</th>\n",
       "      <td>Sally</td>\n",
       "      <td>Course Liasion</td>\n",
       "      <td>Washington Avenue</td>\n",
       "      <td>Engineering</td>\n",
       "      <td>512 Wilson Credest</td>\n",
       "    </tr>\n",
       "    <tr>\n",
       "      <th>2</th>\n",
       "      <td>James</td>\n",
       "      <td>Grader</td>\n",
       "      <td>Washington Avenue</td>\n",
       "      <td>Business</td>\n",
       "      <td>102 Billy Street</td>\n",
       "    </tr>\n",
       "  </tbody>\n",
       "</table>\n",
       "</div>"
      ],
      "text/plain": [
       "    name            role         location_x       school          location_y\n",
       "0  Kelly  Director of HR       State Street          NaN                 NaN\n",
       "1  Sally  Course Liasion  Washington Avenue  Engineering  512 Wilson Credest\n",
       "2  James          Grader  Washington Avenue     Business    102 Billy Street"
      ]
     },
     "execution_count": 166,
     "metadata": {},
     "output_type": "execute_result"
    }
   ],
   "source": [
    "pd.merge(staff_df, student_df, how = 'left', on ='name')"
   ]
  },
  {
   "cell_type": "code",
   "execution_count": 167,
   "metadata": {},
   "outputs": [],
   "source": [
    "# creating a dataframe with a list of dictionaries\n",
    "# there is one dictionary per record\n",
    "staff_df = pd.DataFrame([{'name': 'Kelly', 'last_name':'Montero','role': 'Director of HR', 'location': 'State Street'},\n",
    "                        {'name': 'Sally', 'last_name':'Bermudez', 'role': 'Course Liasion', 'location': 'Washington Avenue'},\n",
    "                        {'name': 'James', 'last_name':'Perez', 'role': 'Grader', 'location': 'Washington Avenue'}]\n",
    "                    )\n",
    "\n",
    "student_df = pd.DataFrame([\n",
    "    {'name':'James', 'last_name':'Montero', 'school': 'Business', 'location':'102 Billy Street'},\n",
    "    {'name':'Mike', 'last_name':'Gonzales', 'school':'Law', 'location': 'Fraternity House #23'},\n",
    "    {'name':'Sally', 'last_name':'Bermudez', 'school':'Engineering', 'location': '512 Wilson Credest'}\n",
    "])\n"
   ]
  },
  {
   "cell_type": "code",
   "execution_count": 168,
   "metadata": {},
   "outputs": [
    {
     "data": {
      "text/html": [
       "<div>\n",
       "<style scoped>\n",
       "    .dataframe tbody tr th:only-of-type {\n",
       "        vertical-align: middle;\n",
       "    }\n",
       "\n",
       "    .dataframe tbody tr th {\n",
       "        vertical-align: top;\n",
       "    }\n",
       "\n",
       "    .dataframe thead th {\n",
       "        text-align: right;\n",
       "    }\n",
       "</style>\n",
       "<table border=\"1\" class=\"dataframe\">\n",
       "  <thead>\n",
       "    <tr style=\"text-align: right;\">\n",
       "      <th></th>\n",
       "      <th>name</th>\n",
       "      <th>last_name</th>\n",
       "      <th>role</th>\n",
       "      <th>location_x</th>\n",
       "      <th>school</th>\n",
       "      <th>location_y</th>\n",
       "    </tr>\n",
       "  </thead>\n",
       "  <tbody>\n",
       "    <tr>\n",
       "      <th>0</th>\n",
       "      <td>Sally</td>\n",
       "      <td>Bermudez</td>\n",
       "      <td>Course Liasion</td>\n",
       "      <td>Washington Avenue</td>\n",
       "      <td>Engineering</td>\n",
       "      <td>512 Wilson Credest</td>\n",
       "    </tr>\n",
       "  </tbody>\n",
       "</table>\n",
       "</div>"
      ],
      "text/plain": [
       "    name last_name            role         location_x       school  \\\n",
       "0  Sally  Bermudez  Course Liasion  Washington Avenue  Engineering   \n",
       "\n",
       "           location_y  \n",
       "0  512 Wilson Credest  "
      ]
     },
     "execution_count": 168,
     "metadata": {},
     "output_type": "execute_result"
    }
   ],
   "source": [
    "pd.merge(staff_df, student_df, how='inner', on =['name', 'last_name'])"
   ]
  },
  {
   "cell_type": "code",
   "execution_count": 173,
   "metadata": {},
   "outputs": [],
   "source": [
    "%%capture\n",
    "## %%capture sirve para capturar los errores\n",
    "df_2012 = pd.read_csv('../Datasets/MERGED2012_13_PP.csv', error_bad_lines = False)\n",
    "df_2013 = pd.read_csv('../Datasets/MERGED2013_14_PP.csv', error_bad_lines = False)\n",
    "df_2010 = pd.read_csv('../Datasets/MERGED2010_11_PP.csv', error_bad_lines = False)"
   ]
  },
  {
   "cell_type": "code",
   "execution_count": 179,
   "metadata": {},
   "outputs": [
    {
     "name": "stdout",
     "output_type": "stream",
     "text": [
      "7793\n",
      "7804\n",
      "7414\n"
     ]
    }
   ],
   "source": [
    "print(len(df_2012))\n",
    "print(len(df_2013))\n",
    "print(len(df_2010))\n",
    "\n"
   ]
  },
  {
   "cell_type": "code",
   "execution_count": 180,
   "metadata": {},
   "outputs": [
    {
     "name": "stdout",
     "output_type": "stream",
     "text": [
      "23011\n"
     ]
    }
   ],
   "source": [
    "frames = [df_2012, df_2013, df_2010]\n",
    "df3 = pd.concat(frames)\n",
    "print(len(df3))"
   ]
  },
  {
   "cell_type": "code",
   "execution_count": 181,
   "metadata": {},
   "outputs": [
    {
     "data": {
      "text/plain": [
       "23011"
      ]
     },
     "execution_count": 181,
     "metadata": {},
     "output_type": "execute_result"
    }
   ],
   "source": [
    "len(df_2012) + len(df_2013) + len(df_2010)"
   ]
  },
  {
   "cell_type": "code",
   "execution_count": 188,
   "metadata": {},
   "outputs": [],
   "source": [
    "assert(len(df_2012) + len(df_2013) + len(df_2010) == len(df3))"
   ]
  },
  {
   "cell_type": "code",
   "execution_count": 184,
   "metadata": {},
   "outputs": [
    {
     "data": {
      "text/html": [
       "<div>\n",
       "<style scoped>\n",
       "    .dataframe tbody tr th:only-of-type {\n",
       "        vertical-align: middle;\n",
       "    }\n",
       "\n",
       "    .dataframe tbody tr th {\n",
       "        vertical-align: top;\n",
       "    }\n",
       "\n",
       "    .dataframe thead th {\n",
       "        text-align: right;\n",
       "    }\n",
       "</style>\n",
       "<table border=\"1\" class=\"dataframe\">\n",
       "  <thead>\n",
       "    <tr style=\"text-align: right;\">\n",
       "      <th></th>\n",
       "      <th></th>\n",
       "      <th>UNITID</th>\n",
       "      <th>OPEID</th>\n",
       "      <th>OPEID6</th>\n",
       "      <th>INSTNM</th>\n",
       "      <th>CITY</th>\n",
       "      <th>STABBR</th>\n",
       "      <th>ZIP</th>\n",
       "      <th>ACCREDAGENCY</th>\n",
       "      <th>INSTURL</th>\n",
       "      <th>NPCURL</th>\n",
       "      <th>...</th>\n",
       "      <th>OMAWDP8_NOTFIRSTTIME_POOLED_SUPP</th>\n",
       "      <th>OMENRUP_NOTFIRSTTIME_POOLED_SUPP</th>\n",
       "      <th>OMENRYP_FULLTIME_POOLED_SUPP</th>\n",
       "      <th>OMENRAP_FULLTIME_POOLED_SUPP</th>\n",
       "      <th>OMAWDP8_FULLTIME_POOLED_SUPP</th>\n",
       "      <th>OMENRUP_FULLTIME_POOLED_SUPP</th>\n",
       "      <th>OMENRYP_PARTTIME_POOLED_SUPP</th>\n",
       "      <th>OMENRAP_PARTTIME_POOLED_SUPP</th>\n",
       "      <th>OMAWDP8_PARTTIME_POOLED_SUPP</th>\n",
       "      <th>OMENRUP_PARTTIME_POOLED_SUPP</th>\n",
       "    </tr>\n",
       "  </thead>\n",
       "  <tbody>\n",
       "    <tr>\n",
       "      <th rowspan=\"9\" valign=\"top\">2012</th>\n",
       "      <th>0</th>\n",
       "      <td>100654</td>\n",
       "      <td>100200</td>\n",
       "      <td>1002</td>\n",
       "      <td>Alabama A &amp; M University</td>\n",
       "      <td>Normal</td>\n",
       "      <td>AL</td>\n",
       "      <td>35762</td>\n",
       "      <td>NaN</td>\n",
       "      <td>NaN</td>\n",
       "      <td>NaN</td>\n",
       "      <td>...</td>\n",
       "      <td>NaN</td>\n",
       "      <td>NaN</td>\n",
       "      <td>NaN</td>\n",
       "      <td>NaN</td>\n",
       "      <td>NaN</td>\n",
       "      <td>NaN</td>\n",
       "      <td>NaN</td>\n",
       "      <td>NaN</td>\n",
       "      <td>NaN</td>\n",
       "      <td>NaN</td>\n",
       "    </tr>\n",
       "    <tr>\n",
       "      <th>1</th>\n",
       "      <td>100663</td>\n",
       "      <td>105200</td>\n",
       "      <td>1052</td>\n",
       "      <td>University of Alabama at Birmingham</td>\n",
       "      <td>Birmingham</td>\n",
       "      <td>AL</td>\n",
       "      <td>35294-0110</td>\n",
       "      <td>NaN</td>\n",
       "      <td>NaN</td>\n",
       "      <td>NaN</td>\n",
       "      <td>...</td>\n",
       "      <td>NaN</td>\n",
       "      <td>NaN</td>\n",
       "      <td>NaN</td>\n",
       "      <td>NaN</td>\n",
       "      <td>NaN</td>\n",
       "      <td>NaN</td>\n",
       "      <td>NaN</td>\n",
       "      <td>NaN</td>\n",
       "      <td>NaN</td>\n",
       "      <td>NaN</td>\n",
       "    </tr>\n",
       "    <tr>\n",
       "      <th>2</th>\n",
       "      <td>100690</td>\n",
       "      <td>2503400</td>\n",
       "      <td>25034</td>\n",
       "      <td>Amridge University</td>\n",
       "      <td>Montgomery</td>\n",
       "      <td>AL</td>\n",
       "      <td>36117-3553</td>\n",
       "      <td>NaN</td>\n",
       "      <td>NaN</td>\n",
       "      <td>NaN</td>\n",
       "      <td>...</td>\n",
       "      <td>NaN</td>\n",
       "      <td>NaN</td>\n",
       "      <td>NaN</td>\n",
       "      <td>NaN</td>\n",
       "      <td>NaN</td>\n",
       "      <td>NaN</td>\n",
       "      <td>NaN</td>\n",
       "      <td>NaN</td>\n",
       "      <td>NaN</td>\n",
       "      <td>NaN</td>\n",
       "    </tr>\n",
       "    <tr>\n",
       "      <th>3</th>\n",
       "      <td>100706</td>\n",
       "      <td>105500</td>\n",
       "      <td>1055</td>\n",
       "      <td>University of Alabama in Huntsville</td>\n",
       "      <td>Huntsville</td>\n",
       "      <td>AL</td>\n",
       "      <td>35899</td>\n",
       "      <td>NaN</td>\n",
       "      <td>NaN</td>\n",
       "      <td>NaN</td>\n",
       "      <td>...</td>\n",
       "      <td>NaN</td>\n",
       "      <td>NaN</td>\n",
       "      <td>NaN</td>\n",
       "      <td>NaN</td>\n",
       "      <td>NaN</td>\n",
       "      <td>NaN</td>\n",
       "      <td>NaN</td>\n",
       "      <td>NaN</td>\n",
       "      <td>NaN</td>\n",
       "      <td>NaN</td>\n",
       "    </tr>\n",
       "    <tr>\n",
       "      <th>4</th>\n",
       "      <td>100724</td>\n",
       "      <td>100500</td>\n",
       "      <td>1005</td>\n",
       "      <td>Alabama State University</td>\n",
       "      <td>Montgomery</td>\n",
       "      <td>AL</td>\n",
       "      <td>36104-0271</td>\n",
       "      <td>NaN</td>\n",
       "      <td>NaN</td>\n",
       "      <td>NaN</td>\n",
       "      <td>...</td>\n",
       "      <td>NaN</td>\n",
       "      <td>NaN</td>\n",
       "      <td>NaN</td>\n",
       "      <td>NaN</td>\n",
       "      <td>NaN</td>\n",
       "      <td>NaN</td>\n",
       "      <td>NaN</td>\n",
       "      <td>NaN</td>\n",
       "      <td>NaN</td>\n",
       "      <td>NaN</td>\n",
       "    </tr>\n",
       "    <tr>\n",
       "      <th>5</th>\n",
       "      <td>100751</td>\n",
       "      <td>105100</td>\n",
       "      <td>1051</td>\n",
       "      <td>The University of Alabama</td>\n",
       "      <td>Tuscaloosa</td>\n",
       "      <td>AL</td>\n",
       "      <td>35487-0166</td>\n",
       "      <td>NaN</td>\n",
       "      <td>NaN</td>\n",
       "      <td>NaN</td>\n",
       "      <td>...</td>\n",
       "      <td>NaN</td>\n",
       "      <td>NaN</td>\n",
       "      <td>NaN</td>\n",
       "      <td>NaN</td>\n",
       "      <td>NaN</td>\n",
       "      <td>NaN</td>\n",
       "      <td>NaN</td>\n",
       "      <td>NaN</td>\n",
       "      <td>NaN</td>\n",
       "      <td>NaN</td>\n",
       "    </tr>\n",
       "    <tr>\n",
       "      <th>6</th>\n",
       "      <td>100760</td>\n",
       "      <td>100700</td>\n",
       "      <td>1007</td>\n",
       "      <td>Central Alabama Community College</td>\n",
       "      <td>Alexander City</td>\n",
       "      <td>AL</td>\n",
       "      <td>35010</td>\n",
       "      <td>NaN</td>\n",
       "      <td>NaN</td>\n",
       "      <td>NaN</td>\n",
       "      <td>...</td>\n",
       "      <td>NaN</td>\n",
       "      <td>NaN</td>\n",
       "      <td>NaN</td>\n",
       "      <td>NaN</td>\n",
       "      <td>NaN</td>\n",
       "      <td>NaN</td>\n",
       "      <td>NaN</td>\n",
       "      <td>NaN</td>\n",
       "      <td>NaN</td>\n",
       "      <td>NaN</td>\n",
       "    </tr>\n",
       "    <tr>\n",
       "      <th>7</th>\n",
       "      <td>100812</td>\n",
       "      <td>100800</td>\n",
       "      <td>1008</td>\n",
       "      <td>Athens State University</td>\n",
       "      <td>Athens</td>\n",
       "      <td>AL</td>\n",
       "      <td>35611</td>\n",
       "      <td>NaN</td>\n",
       "      <td>NaN</td>\n",
       "      <td>NaN</td>\n",
       "      <td>...</td>\n",
       "      <td>NaN</td>\n",
       "      <td>NaN</td>\n",
       "      <td>NaN</td>\n",
       "      <td>NaN</td>\n",
       "      <td>NaN</td>\n",
       "      <td>NaN</td>\n",
       "      <td>NaN</td>\n",
       "      <td>NaN</td>\n",
       "      <td>NaN</td>\n",
       "      <td>NaN</td>\n",
       "    </tr>\n",
       "    <tr>\n",
       "      <th>8</th>\n",
       "      <td>100830</td>\n",
       "      <td>831000</td>\n",
       "      <td>8310</td>\n",
       "      <td>Auburn University at Montgomery</td>\n",
       "      <td>Montgomery</td>\n",
       "      <td>AL</td>\n",
       "      <td>36117-3596</td>\n",
       "      <td>NaN</td>\n",
       "      <td>NaN</td>\n",
       "      <td>NaN</td>\n",
       "      <td>...</td>\n",
       "      <td>NaN</td>\n",
       "      <td>NaN</td>\n",
       "      <td>NaN</td>\n",
       "      <td>NaN</td>\n",
       "      <td>NaN</td>\n",
       "      <td>NaN</td>\n",
       "      <td>NaN</td>\n",
       "      <td>NaN</td>\n",
       "      <td>NaN</td>\n",
       "      <td>NaN</td>\n",
       "    </tr>\n",
       "  </tbody>\n",
       "</table>\n",
       "<p>9 rows × 1977 columns</p>\n",
       "</div>"
      ],
      "text/plain": [
       "        UNITID    OPEID  OPEID6                               INSTNM  \\\n",
       "2012 0  100654   100200    1002             Alabama A & M University   \n",
       "     1  100663   105200    1052  University of Alabama at Birmingham   \n",
       "     2  100690  2503400   25034                   Amridge University   \n",
       "     3  100706   105500    1055  University of Alabama in Huntsville   \n",
       "     4  100724   100500    1005             Alabama State University   \n",
       "     5  100751   105100    1051            The University of Alabama   \n",
       "     6  100760   100700    1007    Central Alabama Community College   \n",
       "     7  100812   100800    1008              Athens State University   \n",
       "     8  100830   831000    8310      Auburn University at Montgomery   \n",
       "\n",
       "                  CITY STABBR         ZIP  ACCREDAGENCY  INSTURL  NPCURL  ...  \\\n",
       "2012 0          Normal     AL       35762           NaN      NaN     NaN  ...   \n",
       "     1      Birmingham     AL  35294-0110           NaN      NaN     NaN  ...   \n",
       "     2      Montgomery     AL  36117-3553           NaN      NaN     NaN  ...   \n",
       "     3      Huntsville     AL       35899           NaN      NaN     NaN  ...   \n",
       "     4      Montgomery     AL  36104-0271           NaN      NaN     NaN  ...   \n",
       "     5      Tuscaloosa     AL  35487-0166           NaN      NaN     NaN  ...   \n",
       "     6  Alexander City     AL       35010           NaN      NaN     NaN  ...   \n",
       "     7          Athens     AL       35611           NaN      NaN     NaN  ...   \n",
       "     8      Montgomery     AL  36117-3596           NaN      NaN     NaN  ...   \n",
       "\n",
       "        OMAWDP8_NOTFIRSTTIME_POOLED_SUPP  OMENRUP_NOTFIRSTTIME_POOLED_SUPP  \\\n",
       "2012 0                               NaN                               NaN   \n",
       "     1                               NaN                               NaN   \n",
       "     2                               NaN                               NaN   \n",
       "     3                               NaN                               NaN   \n",
       "     4                               NaN                               NaN   \n",
       "     5                               NaN                               NaN   \n",
       "     6                               NaN                               NaN   \n",
       "     7                               NaN                               NaN   \n",
       "     8                               NaN                               NaN   \n",
       "\n",
       "        OMENRYP_FULLTIME_POOLED_SUPP  OMENRAP_FULLTIME_POOLED_SUPP  \\\n",
       "2012 0                           NaN                           NaN   \n",
       "     1                           NaN                           NaN   \n",
       "     2                           NaN                           NaN   \n",
       "     3                           NaN                           NaN   \n",
       "     4                           NaN                           NaN   \n",
       "     5                           NaN                           NaN   \n",
       "     6                           NaN                           NaN   \n",
       "     7                           NaN                           NaN   \n",
       "     8                           NaN                           NaN   \n",
       "\n",
       "        OMAWDP8_FULLTIME_POOLED_SUPP  OMENRUP_FULLTIME_POOLED_SUPP  \\\n",
       "2012 0                           NaN                           NaN   \n",
       "     1                           NaN                           NaN   \n",
       "     2                           NaN                           NaN   \n",
       "     3                           NaN                           NaN   \n",
       "     4                           NaN                           NaN   \n",
       "     5                           NaN                           NaN   \n",
       "     6                           NaN                           NaN   \n",
       "     7                           NaN                           NaN   \n",
       "     8                           NaN                           NaN   \n",
       "\n",
       "        OMENRYP_PARTTIME_POOLED_SUPP  OMENRAP_PARTTIME_POOLED_SUPP  \\\n",
       "2012 0                           NaN                           NaN   \n",
       "     1                           NaN                           NaN   \n",
       "     2                           NaN                           NaN   \n",
       "     3                           NaN                           NaN   \n",
       "     4                           NaN                           NaN   \n",
       "     5                           NaN                           NaN   \n",
       "     6                           NaN                           NaN   \n",
       "     7                           NaN                           NaN   \n",
       "     8                           NaN                           NaN   \n",
       "\n",
       "        OMAWDP8_PARTTIME_POOLED_SUPP  OMENRUP_PARTTIME_POOLED_SUPP  \n",
       "2012 0                           NaN                           NaN  \n",
       "     1                           NaN                           NaN  \n",
       "     2                           NaN                           NaN  \n",
       "     3                           NaN                           NaN  \n",
       "     4                           NaN                           NaN  \n",
       "     5                           NaN                           NaN  \n",
       "     6                           NaN                           NaN  \n",
       "     7                           NaN                           NaN  \n",
       "     8                           NaN                           NaN  \n",
       "\n",
       "[9 rows x 1977 columns]"
      ]
     },
     "execution_count": 184,
     "metadata": {},
     "output_type": "execute_result"
    }
   ],
   "source": [
    "df4 = pd.concat(frames, keys=[2012, 2013, 2010])\n",
    "df4.head(9)"
   ]
  },
  {
   "cell_type": "markdown",
   "metadata": {},
   "source": [
    "## Pandas Idioms"
   ]
  },
  {
   "cell_type": "code",
   "execution_count": 220,
   "metadata": {},
   "outputs": [],
   "source": [
    "import pandas as pd\n",
    "import numpy as np\n",
    "import timeit"
   ]
  },
  {
   "cell_type": "code",
   "execution_count": 221,
   "metadata": {},
   "outputs": [
    {
     "data": {
      "text/html": [
       "<div>\n",
       "<style scoped>\n",
       "    .dataframe tbody tr th:only-of-type {\n",
       "        vertical-align: middle;\n",
       "    }\n",
       "\n",
       "    .dataframe tbody tr th {\n",
       "        vertical-align: top;\n",
       "    }\n",
       "\n",
       "    .dataframe thead th {\n",
       "        text-align: right;\n",
       "    }\n",
       "</style>\n",
       "<table border=\"1\" class=\"dataframe\">\n",
       "  <thead>\n",
       "    <tr style=\"text-align: right;\">\n",
       "      <th></th>\n",
       "      <th>SUMLEV</th>\n",
       "      <th>REGION</th>\n",
       "      <th>DIVISION</th>\n",
       "      <th>STATE</th>\n",
       "      <th>COUNTY</th>\n",
       "      <th>STNAME</th>\n",
       "      <th>CTYNAME</th>\n",
       "      <th>CENSUS2010POP</th>\n",
       "      <th>ESTIMATESBASE2010</th>\n",
       "      <th>POPESTIMATE2010</th>\n",
       "      <th>...</th>\n",
       "      <th>RDOMESTICMIG2011</th>\n",
       "      <th>RDOMESTICMIG2012</th>\n",
       "      <th>RDOMESTICMIG2013</th>\n",
       "      <th>RDOMESTICMIG2014</th>\n",
       "      <th>RDOMESTICMIG2015</th>\n",
       "      <th>RNETMIG2011</th>\n",
       "      <th>RNETMIG2012</th>\n",
       "      <th>RNETMIG2013</th>\n",
       "      <th>RNETMIG2014</th>\n",
       "      <th>RNETMIG2015</th>\n",
       "    </tr>\n",
       "  </thead>\n",
       "  <tbody>\n",
       "    <tr>\n",
       "      <th>0</th>\n",
       "      <td>40</td>\n",
       "      <td>3</td>\n",
       "      <td>6</td>\n",
       "      <td>1</td>\n",
       "      <td>0</td>\n",
       "      <td>Alabama</td>\n",
       "      <td>Alabama</td>\n",
       "      <td>4779736</td>\n",
       "      <td>4780127</td>\n",
       "      <td>4785161</td>\n",
       "      <td>...</td>\n",
       "      <td>0.002295</td>\n",
       "      <td>-0.193196</td>\n",
       "      <td>0.381066</td>\n",
       "      <td>0.582002</td>\n",
       "      <td>-0.467369</td>\n",
       "      <td>1.030015</td>\n",
       "      <td>0.826644</td>\n",
       "      <td>1.383282</td>\n",
       "      <td>1.724718</td>\n",
       "      <td>0.712594</td>\n",
       "    </tr>\n",
       "    <tr>\n",
       "      <th>1</th>\n",
       "      <td>50</td>\n",
       "      <td>3</td>\n",
       "      <td>6</td>\n",
       "      <td>1</td>\n",
       "      <td>1</td>\n",
       "      <td>Alabama</td>\n",
       "      <td>Autauga County</td>\n",
       "      <td>54571</td>\n",
       "      <td>54571</td>\n",
       "      <td>54660</td>\n",
       "      <td>...</td>\n",
       "      <td>7.242091</td>\n",
       "      <td>-2.915927</td>\n",
       "      <td>-3.012349</td>\n",
       "      <td>2.265971</td>\n",
       "      <td>-2.530799</td>\n",
       "      <td>7.606016</td>\n",
       "      <td>-2.626146</td>\n",
       "      <td>-2.722002</td>\n",
       "      <td>2.592270</td>\n",
       "      <td>-2.187333</td>\n",
       "    </tr>\n",
       "    <tr>\n",
       "      <th>2</th>\n",
       "      <td>50</td>\n",
       "      <td>3</td>\n",
       "      <td>6</td>\n",
       "      <td>1</td>\n",
       "      <td>3</td>\n",
       "      <td>Alabama</td>\n",
       "      <td>Baldwin County</td>\n",
       "      <td>182265</td>\n",
       "      <td>182265</td>\n",
       "      <td>183193</td>\n",
       "      <td>...</td>\n",
       "      <td>14.832960</td>\n",
       "      <td>17.647293</td>\n",
       "      <td>21.845705</td>\n",
       "      <td>19.243287</td>\n",
       "      <td>17.197872</td>\n",
       "      <td>15.844176</td>\n",
       "      <td>18.559627</td>\n",
       "      <td>22.727626</td>\n",
       "      <td>20.317142</td>\n",
       "      <td>18.293499</td>\n",
       "    </tr>\n",
       "    <tr>\n",
       "      <th>3</th>\n",
       "      <td>50</td>\n",
       "      <td>3</td>\n",
       "      <td>6</td>\n",
       "      <td>1</td>\n",
       "      <td>5</td>\n",
       "      <td>Alabama</td>\n",
       "      <td>Barbour County</td>\n",
       "      <td>27457</td>\n",
       "      <td>27457</td>\n",
       "      <td>27341</td>\n",
       "      <td>...</td>\n",
       "      <td>-4.728132</td>\n",
       "      <td>-2.500690</td>\n",
       "      <td>-7.056824</td>\n",
       "      <td>-3.904217</td>\n",
       "      <td>-10.543299</td>\n",
       "      <td>-4.874741</td>\n",
       "      <td>-2.758113</td>\n",
       "      <td>-7.167664</td>\n",
       "      <td>-3.978583</td>\n",
       "      <td>-10.543299</td>\n",
       "    </tr>\n",
       "    <tr>\n",
       "      <th>4</th>\n",
       "      <td>50</td>\n",
       "      <td>3</td>\n",
       "      <td>6</td>\n",
       "      <td>1</td>\n",
       "      <td>7</td>\n",
       "      <td>Alabama</td>\n",
       "      <td>Bibb County</td>\n",
       "      <td>22915</td>\n",
       "      <td>22919</td>\n",
       "      <td>22861</td>\n",
       "      <td>...</td>\n",
       "      <td>-5.527043</td>\n",
       "      <td>-5.068871</td>\n",
       "      <td>-6.201001</td>\n",
       "      <td>-0.177537</td>\n",
       "      <td>0.177258</td>\n",
       "      <td>-5.088389</td>\n",
       "      <td>-4.363636</td>\n",
       "      <td>-5.403729</td>\n",
       "      <td>0.754533</td>\n",
       "      <td>1.107861</td>\n",
       "    </tr>\n",
       "  </tbody>\n",
       "</table>\n",
       "<p>5 rows × 100 columns</p>\n",
       "</div>"
      ],
      "text/plain": [
       "   SUMLEV  REGION  DIVISION  STATE  COUNTY   STNAME         CTYNAME  \\\n",
       "0      40       3         6      1       0  Alabama         Alabama   \n",
       "1      50       3         6      1       1  Alabama  Autauga County   \n",
       "2      50       3         6      1       3  Alabama  Baldwin County   \n",
       "3      50       3         6      1       5  Alabama  Barbour County   \n",
       "4      50       3         6      1       7  Alabama     Bibb County   \n",
       "\n",
       "   CENSUS2010POP  ESTIMATESBASE2010  POPESTIMATE2010  ...  RDOMESTICMIG2011  \\\n",
       "0        4779736            4780127          4785161  ...          0.002295   \n",
       "1          54571              54571            54660  ...          7.242091   \n",
       "2         182265             182265           183193  ...         14.832960   \n",
       "3          27457              27457            27341  ...         -4.728132   \n",
       "4          22915              22919            22861  ...         -5.527043   \n",
       "\n",
       "   RDOMESTICMIG2012  RDOMESTICMIG2013  RDOMESTICMIG2014  RDOMESTICMIG2015  \\\n",
       "0         -0.193196          0.381066          0.582002         -0.467369   \n",
       "1         -2.915927         -3.012349          2.265971         -2.530799   \n",
       "2         17.647293         21.845705         19.243287         17.197872   \n",
       "3         -2.500690         -7.056824         -3.904217        -10.543299   \n",
       "4         -5.068871         -6.201001         -0.177537          0.177258   \n",
       "\n",
       "   RNETMIG2011  RNETMIG2012  RNETMIG2013  RNETMIG2014  RNETMIG2015  \n",
       "0     1.030015     0.826644     1.383282     1.724718     0.712594  \n",
       "1     7.606016    -2.626146    -2.722002     2.592270    -2.187333  \n",
       "2    15.844176    18.559627    22.727626    20.317142    18.293499  \n",
       "3    -4.874741    -2.758113    -7.167664    -3.978583   -10.543299  \n",
       "4    -5.088389    -4.363636    -5.403729     0.754533     1.107861  \n",
       "\n",
       "[5 rows x 100 columns]"
      ]
     },
     "execution_count": 221,
     "metadata": {},
     "output_type": "execute_result"
    }
   ],
   "source": [
    "df = pd.read_csv('../Datasets/census.csv')\n",
    "df.head()"
   ]
  },
  {
   "cell_type": "code",
   "execution_count": 191,
   "metadata": {},
   "outputs": [
    {
     "data": {
      "text/html": [
       "<div>\n",
       "<style scoped>\n",
       "    .dataframe tbody tr th:only-of-type {\n",
       "        vertical-align: middle;\n",
       "    }\n",
       "\n",
       "    .dataframe tbody tr th {\n",
       "        vertical-align: top;\n",
       "    }\n",
       "\n",
       "    .dataframe thead th {\n",
       "        text-align: right;\n",
       "    }\n",
       "</style>\n",
       "<table border=\"1\" class=\"dataframe\">\n",
       "  <thead>\n",
       "    <tr style=\"text-align: right;\">\n",
       "      <th></th>\n",
       "      <th></th>\n",
       "      <th>SUMLEV</th>\n",
       "      <th>REGION</th>\n",
       "      <th>DIVISION</th>\n",
       "      <th>STATE</th>\n",
       "      <th>COUNTY</th>\n",
       "      <th>CENSUS2010POP</th>\n",
       "      <th>Estimates Base 2010</th>\n",
       "      <th>POPESTIMATE2010</th>\n",
       "      <th>POPESTIMATE2011</th>\n",
       "      <th>POPESTIMATE2012</th>\n",
       "      <th>...</th>\n",
       "      <th>RDOMESTICMIG2011</th>\n",
       "      <th>RDOMESTICMIG2012</th>\n",
       "      <th>RDOMESTICMIG2013</th>\n",
       "      <th>RDOMESTICMIG2014</th>\n",
       "      <th>RDOMESTICMIG2015</th>\n",
       "      <th>RNETMIG2011</th>\n",
       "      <th>RNETMIG2012</th>\n",
       "      <th>RNETMIG2013</th>\n",
       "      <th>RNETMIG2014</th>\n",
       "      <th>RNETMIG2015</th>\n",
       "    </tr>\n",
       "    <tr>\n",
       "      <th>STNAME</th>\n",
       "      <th>CTYNAME</th>\n",
       "      <th></th>\n",
       "      <th></th>\n",
       "      <th></th>\n",
       "      <th></th>\n",
       "      <th></th>\n",
       "      <th></th>\n",
       "      <th></th>\n",
       "      <th></th>\n",
       "      <th></th>\n",
       "      <th></th>\n",
       "      <th></th>\n",
       "      <th></th>\n",
       "      <th></th>\n",
       "      <th></th>\n",
       "      <th></th>\n",
       "      <th></th>\n",
       "      <th></th>\n",
       "      <th></th>\n",
       "      <th></th>\n",
       "      <th></th>\n",
       "      <th></th>\n",
       "    </tr>\n",
       "  </thead>\n",
       "  <tbody>\n",
       "    <tr>\n",
       "      <th rowspan=\"5\" valign=\"top\">Alabama</th>\n",
       "      <th>Autauga County</th>\n",
       "      <td>50.0</td>\n",
       "      <td>3.0</td>\n",
       "      <td>6.0</td>\n",
       "      <td>1.0</td>\n",
       "      <td>1.0</td>\n",
       "      <td>54571.0</td>\n",
       "      <td>54571.0</td>\n",
       "      <td>54660.0</td>\n",
       "      <td>55253.0</td>\n",
       "      <td>55175.0</td>\n",
       "      <td>...</td>\n",
       "      <td>7.242091</td>\n",
       "      <td>-2.915927</td>\n",
       "      <td>-3.012349</td>\n",
       "      <td>2.265971</td>\n",
       "      <td>-2.530799</td>\n",
       "      <td>7.606016</td>\n",
       "      <td>-2.626146</td>\n",
       "      <td>-2.722002</td>\n",
       "      <td>2.592270</td>\n",
       "      <td>-2.187333</td>\n",
       "    </tr>\n",
       "    <tr>\n",
       "      <th>Baldwin County</th>\n",
       "      <td>50.0</td>\n",
       "      <td>3.0</td>\n",
       "      <td>6.0</td>\n",
       "      <td>1.0</td>\n",
       "      <td>3.0</td>\n",
       "      <td>182265.0</td>\n",
       "      <td>182265.0</td>\n",
       "      <td>183193.0</td>\n",
       "      <td>186659.0</td>\n",
       "      <td>190396.0</td>\n",
       "      <td>...</td>\n",
       "      <td>14.832960</td>\n",
       "      <td>17.647293</td>\n",
       "      <td>21.845705</td>\n",
       "      <td>19.243287</td>\n",
       "      <td>17.197872</td>\n",
       "      <td>15.844176</td>\n",
       "      <td>18.559627</td>\n",
       "      <td>22.727626</td>\n",
       "      <td>20.317142</td>\n",
       "      <td>18.293499</td>\n",
       "    </tr>\n",
       "    <tr>\n",
       "      <th>Barbour County</th>\n",
       "      <td>50.0</td>\n",
       "      <td>3.0</td>\n",
       "      <td>6.0</td>\n",
       "      <td>1.0</td>\n",
       "      <td>5.0</td>\n",
       "      <td>27457.0</td>\n",
       "      <td>27457.0</td>\n",
       "      <td>27341.0</td>\n",
       "      <td>27226.0</td>\n",
       "      <td>27159.0</td>\n",
       "      <td>...</td>\n",
       "      <td>-4.728132</td>\n",
       "      <td>-2.500690</td>\n",
       "      <td>-7.056824</td>\n",
       "      <td>-3.904217</td>\n",
       "      <td>-10.543299</td>\n",
       "      <td>-4.874741</td>\n",
       "      <td>-2.758113</td>\n",
       "      <td>-7.167664</td>\n",
       "      <td>-3.978583</td>\n",
       "      <td>-10.543299</td>\n",
       "    </tr>\n",
       "    <tr>\n",
       "      <th>Bibb County</th>\n",
       "      <td>50.0</td>\n",
       "      <td>3.0</td>\n",
       "      <td>6.0</td>\n",
       "      <td>1.0</td>\n",
       "      <td>7.0</td>\n",
       "      <td>22915.0</td>\n",
       "      <td>22919.0</td>\n",
       "      <td>22861.0</td>\n",
       "      <td>22733.0</td>\n",
       "      <td>22642.0</td>\n",
       "      <td>...</td>\n",
       "      <td>-5.527043</td>\n",
       "      <td>-5.068871</td>\n",
       "      <td>-6.201001</td>\n",
       "      <td>-0.177537</td>\n",
       "      <td>0.177258</td>\n",
       "      <td>-5.088389</td>\n",
       "      <td>-4.363636</td>\n",
       "      <td>-5.403729</td>\n",
       "      <td>0.754533</td>\n",
       "      <td>1.107861</td>\n",
       "    </tr>\n",
       "    <tr>\n",
       "      <th>Blount County</th>\n",
       "      <td>50.0</td>\n",
       "      <td>3.0</td>\n",
       "      <td>6.0</td>\n",
       "      <td>1.0</td>\n",
       "      <td>9.0</td>\n",
       "      <td>57322.0</td>\n",
       "      <td>57322.0</td>\n",
       "      <td>57373.0</td>\n",
       "      <td>57711.0</td>\n",
       "      <td>57776.0</td>\n",
       "      <td>...</td>\n",
       "      <td>1.807375</td>\n",
       "      <td>-1.177622</td>\n",
       "      <td>-1.748766</td>\n",
       "      <td>-2.062535</td>\n",
       "      <td>-1.369970</td>\n",
       "      <td>1.859511</td>\n",
       "      <td>-0.848580</td>\n",
       "      <td>-1.402476</td>\n",
       "      <td>-1.577232</td>\n",
       "      <td>-0.884411</td>\n",
       "    </tr>\n",
       "    <tr>\n",
       "      <th>...</th>\n",
       "      <th>...</th>\n",
       "      <td>...</td>\n",
       "      <td>...</td>\n",
       "      <td>...</td>\n",
       "      <td>...</td>\n",
       "      <td>...</td>\n",
       "      <td>...</td>\n",
       "      <td>...</td>\n",
       "      <td>...</td>\n",
       "      <td>...</td>\n",
       "      <td>...</td>\n",
       "      <td>...</td>\n",
       "      <td>...</td>\n",
       "      <td>...</td>\n",
       "      <td>...</td>\n",
       "      <td>...</td>\n",
       "      <td>...</td>\n",
       "      <td>...</td>\n",
       "      <td>...</td>\n",
       "      <td>...</td>\n",
       "      <td>...</td>\n",
       "      <td>...</td>\n",
       "    </tr>\n",
       "    <tr>\n",
       "      <th rowspan=\"5\" valign=\"top\">Wyoming</th>\n",
       "      <th>Sweetwater County</th>\n",
       "      <td>50.0</td>\n",
       "      <td>4.0</td>\n",
       "      <td>8.0</td>\n",
       "      <td>56.0</td>\n",
       "      <td>37.0</td>\n",
       "      <td>43806.0</td>\n",
       "      <td>43806.0</td>\n",
       "      <td>43593.0</td>\n",
       "      <td>44041.0</td>\n",
       "      <td>45104.0</td>\n",
       "      <td>...</td>\n",
       "      <td>1.072643</td>\n",
       "      <td>16.243199</td>\n",
       "      <td>-5.339774</td>\n",
       "      <td>-14.252889</td>\n",
       "      <td>-14.248864</td>\n",
       "      <td>1.255221</td>\n",
       "      <td>16.243199</td>\n",
       "      <td>-5.295460</td>\n",
       "      <td>-14.075283</td>\n",
       "      <td>-14.070195</td>\n",
       "    </tr>\n",
       "    <tr>\n",
       "      <th>Teton County</th>\n",
       "      <td>50.0</td>\n",
       "      <td>4.0</td>\n",
       "      <td>8.0</td>\n",
       "      <td>56.0</td>\n",
       "      <td>39.0</td>\n",
       "      <td>21294.0</td>\n",
       "      <td>21294.0</td>\n",
       "      <td>21297.0</td>\n",
       "      <td>21482.0</td>\n",
       "      <td>21697.0</td>\n",
       "      <td>...</td>\n",
       "      <td>-1.589565</td>\n",
       "      <td>0.972695</td>\n",
       "      <td>19.525929</td>\n",
       "      <td>14.143021</td>\n",
       "      <td>-0.564849</td>\n",
       "      <td>0.654527</td>\n",
       "      <td>2.408578</td>\n",
       "      <td>21.160658</td>\n",
       "      <td>16.308671</td>\n",
       "      <td>1.520747</td>\n",
       "    </tr>\n",
       "    <tr>\n",
       "      <th>Uinta County</th>\n",
       "      <td>50.0</td>\n",
       "      <td>4.0</td>\n",
       "      <td>8.0</td>\n",
       "      <td>56.0</td>\n",
       "      <td>41.0</td>\n",
       "      <td>21118.0</td>\n",
       "      <td>21118.0</td>\n",
       "      <td>21102.0</td>\n",
       "      <td>20912.0</td>\n",
       "      <td>20989.0</td>\n",
       "      <td>...</td>\n",
       "      <td>-17.755986</td>\n",
       "      <td>-4.916350</td>\n",
       "      <td>-6.902954</td>\n",
       "      <td>-14.215862</td>\n",
       "      <td>-12.127022</td>\n",
       "      <td>-18.136812</td>\n",
       "      <td>-5.536861</td>\n",
       "      <td>-7.521840</td>\n",
       "      <td>-14.740608</td>\n",
       "      <td>-12.606351</td>\n",
       "    </tr>\n",
       "    <tr>\n",
       "      <th>Washakie County</th>\n",
       "      <td>50.0</td>\n",
       "      <td>4.0</td>\n",
       "      <td>8.0</td>\n",
       "      <td>56.0</td>\n",
       "      <td>43.0</td>\n",
       "      <td>8533.0</td>\n",
       "      <td>8533.0</td>\n",
       "      <td>8545.0</td>\n",
       "      <td>8469.0</td>\n",
       "      <td>8443.0</td>\n",
       "      <td>...</td>\n",
       "      <td>-11.637475</td>\n",
       "      <td>-0.827815</td>\n",
       "      <td>-2.013502</td>\n",
       "      <td>-17.781491</td>\n",
       "      <td>1.682288</td>\n",
       "      <td>-11.990126</td>\n",
       "      <td>-1.182592</td>\n",
       "      <td>-2.250385</td>\n",
       "      <td>-18.020168</td>\n",
       "      <td>1.441961</td>\n",
       "    </tr>\n",
       "    <tr>\n",
       "      <th>Weston County</th>\n",
       "      <td>50.0</td>\n",
       "      <td>4.0</td>\n",
       "      <td>8.0</td>\n",
       "      <td>56.0</td>\n",
       "      <td>45.0</td>\n",
       "      <td>7208.0</td>\n",
       "      <td>7208.0</td>\n",
       "      <td>7181.0</td>\n",
       "      <td>7114.0</td>\n",
       "      <td>7065.0</td>\n",
       "      <td>...</td>\n",
       "      <td>-11.752361</td>\n",
       "      <td>-8.040059</td>\n",
       "      <td>12.372583</td>\n",
       "      <td>1.533635</td>\n",
       "      <td>6.935294</td>\n",
       "      <td>-12.032179</td>\n",
       "      <td>-8.040059</td>\n",
       "      <td>12.372583</td>\n",
       "      <td>1.533635</td>\n",
       "      <td>6.935294</td>\n",
       "    </tr>\n",
       "  </tbody>\n",
       "</table>\n",
       "<p>3142 rows × 98 columns</p>\n",
       "</div>"
      ],
      "text/plain": [
       "                           SUMLEV  REGION  DIVISION  STATE  COUNTY  \\\n",
       "STNAME  CTYNAME                                                      \n",
       "Alabama Autauga County       50.0     3.0       6.0    1.0     1.0   \n",
       "        Baldwin County       50.0     3.0       6.0    1.0     3.0   \n",
       "        Barbour County       50.0     3.0       6.0    1.0     5.0   \n",
       "        Bibb County          50.0     3.0       6.0    1.0     7.0   \n",
       "        Blount County        50.0     3.0       6.0    1.0     9.0   \n",
       "...                           ...     ...       ...    ...     ...   \n",
       "Wyoming Sweetwater County    50.0     4.0       8.0   56.0    37.0   \n",
       "        Teton County         50.0     4.0       8.0   56.0    39.0   \n",
       "        Uinta County         50.0     4.0       8.0   56.0    41.0   \n",
       "        Washakie County      50.0     4.0       8.0   56.0    43.0   \n",
       "        Weston County        50.0     4.0       8.0   56.0    45.0   \n",
       "\n",
       "                           CENSUS2010POP  Estimates Base 2010  \\\n",
       "STNAME  CTYNAME                                                 \n",
       "Alabama Autauga County           54571.0              54571.0   \n",
       "        Baldwin County          182265.0             182265.0   \n",
       "        Barbour County           27457.0              27457.0   \n",
       "        Bibb County              22915.0              22919.0   \n",
       "        Blount County            57322.0              57322.0   \n",
       "...                                  ...                  ...   \n",
       "Wyoming Sweetwater County        43806.0              43806.0   \n",
       "        Teton County             21294.0              21294.0   \n",
       "        Uinta County             21118.0              21118.0   \n",
       "        Washakie County           8533.0               8533.0   \n",
       "        Weston County             7208.0               7208.0   \n",
       "\n",
       "                           POPESTIMATE2010  POPESTIMATE2011  POPESTIMATE2012  \\\n",
       "STNAME  CTYNAME                                                                \n",
       "Alabama Autauga County             54660.0          55253.0          55175.0   \n",
       "        Baldwin County            183193.0         186659.0         190396.0   \n",
       "        Barbour County             27341.0          27226.0          27159.0   \n",
       "        Bibb County                22861.0          22733.0          22642.0   \n",
       "        Blount County              57373.0          57711.0          57776.0   \n",
       "...                                    ...              ...              ...   \n",
       "Wyoming Sweetwater County          43593.0          44041.0          45104.0   \n",
       "        Teton County               21297.0          21482.0          21697.0   \n",
       "        Uinta County               21102.0          20912.0          20989.0   \n",
       "        Washakie County             8545.0           8469.0           8443.0   \n",
       "        Weston County               7181.0           7114.0           7065.0   \n",
       "\n",
       "                           ...  RDOMESTICMIG2011  RDOMESTICMIG2012  \\\n",
       "STNAME  CTYNAME            ...                                       \n",
       "Alabama Autauga County     ...          7.242091         -2.915927   \n",
       "        Baldwin County     ...         14.832960         17.647293   \n",
       "        Barbour County     ...         -4.728132         -2.500690   \n",
       "        Bibb County        ...         -5.527043         -5.068871   \n",
       "        Blount County      ...          1.807375         -1.177622   \n",
       "...                        ...               ...               ...   \n",
       "Wyoming Sweetwater County  ...          1.072643         16.243199   \n",
       "        Teton County       ...         -1.589565          0.972695   \n",
       "        Uinta County       ...        -17.755986         -4.916350   \n",
       "        Washakie County    ...        -11.637475         -0.827815   \n",
       "        Weston County      ...        -11.752361         -8.040059   \n",
       "\n",
       "                           RDOMESTICMIG2013  RDOMESTICMIG2014  \\\n",
       "STNAME  CTYNAME                                                 \n",
       "Alabama Autauga County            -3.012349          2.265971   \n",
       "        Baldwin County            21.845705         19.243287   \n",
       "        Barbour County            -7.056824         -3.904217   \n",
       "        Bibb County               -6.201001         -0.177537   \n",
       "        Blount County             -1.748766         -2.062535   \n",
       "...                                     ...               ...   \n",
       "Wyoming Sweetwater County         -5.339774        -14.252889   \n",
       "        Teton County              19.525929         14.143021   \n",
       "        Uinta County              -6.902954        -14.215862   \n",
       "        Washakie County           -2.013502        -17.781491   \n",
       "        Weston County             12.372583          1.533635   \n",
       "\n",
       "                           RDOMESTICMIG2015  RNETMIG2011  RNETMIG2012  \\\n",
       "STNAME  CTYNAME                                                         \n",
       "Alabama Autauga County            -2.530799     7.606016    -2.626146   \n",
       "        Baldwin County            17.197872    15.844176    18.559627   \n",
       "        Barbour County           -10.543299    -4.874741    -2.758113   \n",
       "        Bibb County                0.177258    -5.088389    -4.363636   \n",
       "        Blount County             -1.369970     1.859511    -0.848580   \n",
       "...                                     ...          ...          ...   \n",
       "Wyoming Sweetwater County        -14.248864     1.255221    16.243199   \n",
       "        Teton County              -0.564849     0.654527     2.408578   \n",
       "        Uinta County             -12.127022   -18.136812    -5.536861   \n",
       "        Washakie County            1.682288   -11.990126    -1.182592   \n",
       "        Weston County              6.935294   -12.032179    -8.040059   \n",
       "\n",
       "                           RNETMIG2013  RNETMIG2014  RNETMIG2015  \n",
       "STNAME  CTYNAME                                                   \n",
       "Alabama Autauga County       -2.722002     2.592270    -2.187333  \n",
       "        Baldwin County       22.727626    20.317142    18.293499  \n",
       "        Barbour County       -7.167664    -3.978583   -10.543299  \n",
       "        Bibb County          -5.403729     0.754533     1.107861  \n",
       "        Blount County        -1.402476    -1.577232    -0.884411  \n",
       "...                                ...          ...          ...  \n",
       "Wyoming Sweetwater County    -5.295460   -14.075283   -14.070195  \n",
       "        Teton County         21.160658    16.308671     1.520747  \n",
       "        Uinta County         -7.521840   -14.740608   -12.606351  \n",
       "        Washakie County      -2.250385   -18.020168     1.441961  \n",
       "        Weston County        12.372583     1.533635     6.935294  \n",
       "\n",
       "[3142 rows x 98 columns]"
      ]
     },
     "execution_count": 191,
     "metadata": {},
     "output_type": "execute_result"
    }
   ],
   "source": [
    "## pandorable way to write code\n",
    "(df.where(df['SUMLEV']==50)\n",
    "    .dropna()\n",
    "    .set_index(['STNAME', 'CTYNAME'])\n",
    "    .rename(columns={'ESTIMATESBASE2010':'Estimates Base 2010'})\n",
    ")"
   ]
  },
  {
   "cell_type": "code",
   "execution_count": 193,
   "metadata": {},
   "outputs": [
    {
     "data": {
      "text/html": [
       "<div>\n",
       "<style scoped>\n",
       "    .dataframe tbody tr th:only-of-type {\n",
       "        vertical-align: middle;\n",
       "    }\n",
       "\n",
       "    .dataframe tbody tr th {\n",
       "        vertical-align: top;\n",
       "    }\n",
       "\n",
       "    .dataframe thead th {\n",
       "        text-align: right;\n",
       "    }\n",
       "</style>\n",
       "<table border=\"1\" class=\"dataframe\">\n",
       "  <thead>\n",
       "    <tr style=\"text-align: right;\">\n",
       "      <th></th>\n",
       "      <th></th>\n",
       "      <th>SUMLEV</th>\n",
       "      <th>REGION</th>\n",
       "      <th>DIVISION</th>\n",
       "      <th>STATE</th>\n",
       "      <th>COUNTY</th>\n",
       "      <th>CENSUS2010POP</th>\n",
       "      <th>Estimates Base 2010</th>\n",
       "      <th>POPESTIMATE2010</th>\n",
       "      <th>POPESTIMATE2011</th>\n",
       "      <th>POPESTIMATE2012</th>\n",
       "      <th>...</th>\n",
       "      <th>RDOMESTICMIG2011</th>\n",
       "      <th>RDOMESTICMIG2012</th>\n",
       "      <th>RDOMESTICMIG2013</th>\n",
       "      <th>RDOMESTICMIG2014</th>\n",
       "      <th>RDOMESTICMIG2015</th>\n",
       "      <th>RNETMIG2011</th>\n",
       "      <th>RNETMIG2012</th>\n",
       "      <th>RNETMIG2013</th>\n",
       "      <th>RNETMIG2014</th>\n",
       "      <th>RNETMIG2015</th>\n",
       "    </tr>\n",
       "    <tr>\n",
       "      <th>STNAME</th>\n",
       "      <th>CTYNAME</th>\n",
       "      <th></th>\n",
       "      <th></th>\n",
       "      <th></th>\n",
       "      <th></th>\n",
       "      <th></th>\n",
       "      <th></th>\n",
       "      <th></th>\n",
       "      <th></th>\n",
       "      <th></th>\n",
       "      <th></th>\n",
       "      <th></th>\n",
       "      <th></th>\n",
       "      <th></th>\n",
       "      <th></th>\n",
       "      <th></th>\n",
       "      <th></th>\n",
       "      <th></th>\n",
       "      <th></th>\n",
       "      <th></th>\n",
       "      <th></th>\n",
       "      <th></th>\n",
       "    </tr>\n",
       "  </thead>\n",
       "  <tbody>\n",
       "    <tr>\n",
       "      <th rowspan=\"5\" valign=\"top\">Alabama</th>\n",
       "      <th>Autauga County</th>\n",
       "      <td>50</td>\n",
       "      <td>3</td>\n",
       "      <td>6</td>\n",
       "      <td>1</td>\n",
       "      <td>1</td>\n",
       "      <td>54571</td>\n",
       "      <td>54571</td>\n",
       "      <td>54660</td>\n",
       "      <td>55253</td>\n",
       "      <td>55175</td>\n",
       "      <td>...</td>\n",
       "      <td>7.242091</td>\n",
       "      <td>-2.915927</td>\n",
       "      <td>-3.012349</td>\n",
       "      <td>2.265971</td>\n",
       "      <td>-2.530799</td>\n",
       "      <td>7.606016</td>\n",
       "      <td>-2.626146</td>\n",
       "      <td>-2.722002</td>\n",
       "      <td>2.592270</td>\n",
       "      <td>-2.187333</td>\n",
       "    </tr>\n",
       "    <tr>\n",
       "      <th>Baldwin County</th>\n",
       "      <td>50</td>\n",
       "      <td>3</td>\n",
       "      <td>6</td>\n",
       "      <td>1</td>\n",
       "      <td>3</td>\n",
       "      <td>182265</td>\n",
       "      <td>182265</td>\n",
       "      <td>183193</td>\n",
       "      <td>186659</td>\n",
       "      <td>190396</td>\n",
       "      <td>...</td>\n",
       "      <td>14.832960</td>\n",
       "      <td>17.647293</td>\n",
       "      <td>21.845705</td>\n",
       "      <td>19.243287</td>\n",
       "      <td>17.197872</td>\n",
       "      <td>15.844176</td>\n",
       "      <td>18.559627</td>\n",
       "      <td>22.727626</td>\n",
       "      <td>20.317142</td>\n",
       "      <td>18.293499</td>\n",
       "    </tr>\n",
       "    <tr>\n",
       "      <th>Barbour County</th>\n",
       "      <td>50</td>\n",
       "      <td>3</td>\n",
       "      <td>6</td>\n",
       "      <td>1</td>\n",
       "      <td>5</td>\n",
       "      <td>27457</td>\n",
       "      <td>27457</td>\n",
       "      <td>27341</td>\n",
       "      <td>27226</td>\n",
       "      <td>27159</td>\n",
       "      <td>...</td>\n",
       "      <td>-4.728132</td>\n",
       "      <td>-2.500690</td>\n",
       "      <td>-7.056824</td>\n",
       "      <td>-3.904217</td>\n",
       "      <td>-10.543299</td>\n",
       "      <td>-4.874741</td>\n",
       "      <td>-2.758113</td>\n",
       "      <td>-7.167664</td>\n",
       "      <td>-3.978583</td>\n",
       "      <td>-10.543299</td>\n",
       "    </tr>\n",
       "    <tr>\n",
       "      <th>Bibb County</th>\n",
       "      <td>50</td>\n",
       "      <td>3</td>\n",
       "      <td>6</td>\n",
       "      <td>1</td>\n",
       "      <td>7</td>\n",
       "      <td>22915</td>\n",
       "      <td>22919</td>\n",
       "      <td>22861</td>\n",
       "      <td>22733</td>\n",
       "      <td>22642</td>\n",
       "      <td>...</td>\n",
       "      <td>-5.527043</td>\n",
       "      <td>-5.068871</td>\n",
       "      <td>-6.201001</td>\n",
       "      <td>-0.177537</td>\n",
       "      <td>0.177258</td>\n",
       "      <td>-5.088389</td>\n",
       "      <td>-4.363636</td>\n",
       "      <td>-5.403729</td>\n",
       "      <td>0.754533</td>\n",
       "      <td>1.107861</td>\n",
       "    </tr>\n",
       "    <tr>\n",
       "      <th>Blount County</th>\n",
       "      <td>50</td>\n",
       "      <td>3</td>\n",
       "      <td>6</td>\n",
       "      <td>1</td>\n",
       "      <td>9</td>\n",
       "      <td>57322</td>\n",
       "      <td>57322</td>\n",
       "      <td>57373</td>\n",
       "      <td>57711</td>\n",
       "      <td>57776</td>\n",
       "      <td>...</td>\n",
       "      <td>1.807375</td>\n",
       "      <td>-1.177622</td>\n",
       "      <td>-1.748766</td>\n",
       "      <td>-2.062535</td>\n",
       "      <td>-1.369970</td>\n",
       "      <td>1.859511</td>\n",
       "      <td>-0.848580</td>\n",
       "      <td>-1.402476</td>\n",
       "      <td>-1.577232</td>\n",
       "      <td>-0.884411</td>\n",
       "    </tr>\n",
       "    <tr>\n",
       "      <th>...</th>\n",
       "      <th>...</th>\n",
       "      <td>...</td>\n",
       "      <td>...</td>\n",
       "      <td>...</td>\n",
       "      <td>...</td>\n",
       "      <td>...</td>\n",
       "      <td>...</td>\n",
       "      <td>...</td>\n",
       "      <td>...</td>\n",
       "      <td>...</td>\n",
       "      <td>...</td>\n",
       "      <td>...</td>\n",
       "      <td>...</td>\n",
       "      <td>...</td>\n",
       "      <td>...</td>\n",
       "      <td>...</td>\n",
       "      <td>...</td>\n",
       "      <td>...</td>\n",
       "      <td>...</td>\n",
       "      <td>...</td>\n",
       "      <td>...</td>\n",
       "      <td>...</td>\n",
       "    </tr>\n",
       "    <tr>\n",
       "      <th rowspan=\"5\" valign=\"top\">Wyoming</th>\n",
       "      <th>Sweetwater County</th>\n",
       "      <td>50</td>\n",
       "      <td>4</td>\n",
       "      <td>8</td>\n",
       "      <td>56</td>\n",
       "      <td>37</td>\n",
       "      <td>43806</td>\n",
       "      <td>43806</td>\n",
       "      <td>43593</td>\n",
       "      <td>44041</td>\n",
       "      <td>45104</td>\n",
       "      <td>...</td>\n",
       "      <td>1.072643</td>\n",
       "      <td>16.243199</td>\n",
       "      <td>-5.339774</td>\n",
       "      <td>-14.252889</td>\n",
       "      <td>-14.248864</td>\n",
       "      <td>1.255221</td>\n",
       "      <td>16.243199</td>\n",
       "      <td>-5.295460</td>\n",
       "      <td>-14.075283</td>\n",
       "      <td>-14.070195</td>\n",
       "    </tr>\n",
       "    <tr>\n",
       "      <th>Teton County</th>\n",
       "      <td>50</td>\n",
       "      <td>4</td>\n",
       "      <td>8</td>\n",
       "      <td>56</td>\n",
       "      <td>39</td>\n",
       "      <td>21294</td>\n",
       "      <td>21294</td>\n",
       "      <td>21297</td>\n",
       "      <td>21482</td>\n",
       "      <td>21697</td>\n",
       "      <td>...</td>\n",
       "      <td>-1.589565</td>\n",
       "      <td>0.972695</td>\n",
       "      <td>19.525929</td>\n",
       "      <td>14.143021</td>\n",
       "      <td>-0.564849</td>\n",
       "      <td>0.654527</td>\n",
       "      <td>2.408578</td>\n",
       "      <td>21.160658</td>\n",
       "      <td>16.308671</td>\n",
       "      <td>1.520747</td>\n",
       "    </tr>\n",
       "    <tr>\n",
       "      <th>Uinta County</th>\n",
       "      <td>50</td>\n",
       "      <td>4</td>\n",
       "      <td>8</td>\n",
       "      <td>56</td>\n",
       "      <td>41</td>\n",
       "      <td>21118</td>\n",
       "      <td>21118</td>\n",
       "      <td>21102</td>\n",
       "      <td>20912</td>\n",
       "      <td>20989</td>\n",
       "      <td>...</td>\n",
       "      <td>-17.755986</td>\n",
       "      <td>-4.916350</td>\n",
       "      <td>-6.902954</td>\n",
       "      <td>-14.215862</td>\n",
       "      <td>-12.127022</td>\n",
       "      <td>-18.136812</td>\n",
       "      <td>-5.536861</td>\n",
       "      <td>-7.521840</td>\n",
       "      <td>-14.740608</td>\n",
       "      <td>-12.606351</td>\n",
       "    </tr>\n",
       "    <tr>\n",
       "      <th>Washakie County</th>\n",
       "      <td>50</td>\n",
       "      <td>4</td>\n",
       "      <td>8</td>\n",
       "      <td>56</td>\n",
       "      <td>43</td>\n",
       "      <td>8533</td>\n",
       "      <td>8533</td>\n",
       "      <td>8545</td>\n",
       "      <td>8469</td>\n",
       "      <td>8443</td>\n",
       "      <td>...</td>\n",
       "      <td>-11.637475</td>\n",
       "      <td>-0.827815</td>\n",
       "      <td>-2.013502</td>\n",
       "      <td>-17.781491</td>\n",
       "      <td>1.682288</td>\n",
       "      <td>-11.990126</td>\n",
       "      <td>-1.182592</td>\n",
       "      <td>-2.250385</td>\n",
       "      <td>-18.020168</td>\n",
       "      <td>1.441961</td>\n",
       "    </tr>\n",
       "    <tr>\n",
       "      <th>Weston County</th>\n",
       "      <td>50</td>\n",
       "      <td>4</td>\n",
       "      <td>8</td>\n",
       "      <td>56</td>\n",
       "      <td>45</td>\n",
       "      <td>7208</td>\n",
       "      <td>7208</td>\n",
       "      <td>7181</td>\n",
       "      <td>7114</td>\n",
       "      <td>7065</td>\n",
       "      <td>...</td>\n",
       "      <td>-11.752361</td>\n",
       "      <td>-8.040059</td>\n",
       "      <td>12.372583</td>\n",
       "      <td>1.533635</td>\n",
       "      <td>6.935294</td>\n",
       "      <td>-12.032179</td>\n",
       "      <td>-8.040059</td>\n",
       "      <td>12.372583</td>\n",
       "      <td>1.533635</td>\n",
       "      <td>6.935294</td>\n",
       "    </tr>\n",
       "  </tbody>\n",
       "</table>\n",
       "<p>3142 rows × 98 columns</p>\n",
       "</div>"
      ],
      "text/plain": [
       "                           SUMLEV  REGION  DIVISION  STATE  COUNTY  \\\n",
       "STNAME  CTYNAME                                                      \n",
       "Alabama Autauga County         50       3         6      1       1   \n",
       "        Baldwin County         50       3         6      1       3   \n",
       "        Barbour County         50       3         6      1       5   \n",
       "        Bibb County            50       3         6      1       7   \n",
       "        Blount County          50       3         6      1       9   \n",
       "...                           ...     ...       ...    ...     ...   \n",
       "Wyoming Sweetwater County      50       4         8     56      37   \n",
       "        Teton County           50       4         8     56      39   \n",
       "        Uinta County           50       4         8     56      41   \n",
       "        Washakie County        50       4         8     56      43   \n",
       "        Weston County          50       4         8     56      45   \n",
       "\n",
       "                           CENSUS2010POP  Estimates Base 2010  \\\n",
       "STNAME  CTYNAME                                                 \n",
       "Alabama Autauga County             54571                54571   \n",
       "        Baldwin County            182265               182265   \n",
       "        Barbour County             27457                27457   \n",
       "        Bibb County                22915                22919   \n",
       "        Blount County              57322                57322   \n",
       "...                                  ...                  ...   \n",
       "Wyoming Sweetwater County          43806                43806   \n",
       "        Teton County               21294                21294   \n",
       "        Uinta County               21118                21118   \n",
       "        Washakie County             8533                 8533   \n",
       "        Weston County               7208                 7208   \n",
       "\n",
       "                           POPESTIMATE2010  POPESTIMATE2011  POPESTIMATE2012  \\\n",
       "STNAME  CTYNAME                                                                \n",
       "Alabama Autauga County               54660            55253            55175   \n",
       "        Baldwin County              183193           186659           190396   \n",
       "        Barbour County               27341            27226            27159   \n",
       "        Bibb County                  22861            22733            22642   \n",
       "        Blount County                57373            57711            57776   \n",
       "...                                    ...              ...              ...   \n",
       "Wyoming Sweetwater County            43593            44041            45104   \n",
       "        Teton County                 21297            21482            21697   \n",
       "        Uinta County                 21102            20912            20989   \n",
       "        Washakie County               8545             8469             8443   \n",
       "        Weston County                 7181             7114             7065   \n",
       "\n",
       "                           ...  RDOMESTICMIG2011  RDOMESTICMIG2012  \\\n",
       "STNAME  CTYNAME            ...                                       \n",
       "Alabama Autauga County     ...          7.242091         -2.915927   \n",
       "        Baldwin County     ...         14.832960         17.647293   \n",
       "        Barbour County     ...         -4.728132         -2.500690   \n",
       "        Bibb County        ...         -5.527043         -5.068871   \n",
       "        Blount County      ...          1.807375         -1.177622   \n",
       "...                        ...               ...               ...   \n",
       "Wyoming Sweetwater County  ...          1.072643         16.243199   \n",
       "        Teton County       ...         -1.589565          0.972695   \n",
       "        Uinta County       ...        -17.755986         -4.916350   \n",
       "        Washakie County    ...        -11.637475         -0.827815   \n",
       "        Weston County      ...        -11.752361         -8.040059   \n",
       "\n",
       "                           RDOMESTICMIG2013  RDOMESTICMIG2014  \\\n",
       "STNAME  CTYNAME                                                 \n",
       "Alabama Autauga County            -3.012349          2.265971   \n",
       "        Baldwin County            21.845705         19.243287   \n",
       "        Barbour County            -7.056824         -3.904217   \n",
       "        Bibb County               -6.201001         -0.177537   \n",
       "        Blount County             -1.748766         -2.062535   \n",
       "...                                     ...               ...   \n",
       "Wyoming Sweetwater County         -5.339774        -14.252889   \n",
       "        Teton County              19.525929         14.143021   \n",
       "        Uinta County              -6.902954        -14.215862   \n",
       "        Washakie County           -2.013502        -17.781491   \n",
       "        Weston County             12.372583          1.533635   \n",
       "\n",
       "                           RDOMESTICMIG2015  RNETMIG2011  RNETMIG2012  \\\n",
       "STNAME  CTYNAME                                                         \n",
       "Alabama Autauga County            -2.530799     7.606016    -2.626146   \n",
       "        Baldwin County            17.197872    15.844176    18.559627   \n",
       "        Barbour County           -10.543299    -4.874741    -2.758113   \n",
       "        Bibb County                0.177258    -5.088389    -4.363636   \n",
       "        Blount County             -1.369970     1.859511    -0.848580   \n",
       "...                                     ...          ...          ...   \n",
       "Wyoming Sweetwater County        -14.248864     1.255221    16.243199   \n",
       "        Teton County              -0.564849     0.654527     2.408578   \n",
       "        Uinta County             -12.127022   -18.136812    -5.536861   \n",
       "        Washakie County            1.682288   -11.990126    -1.182592   \n",
       "        Weston County              6.935294   -12.032179    -8.040059   \n",
       "\n",
       "                           RNETMIG2013  RNETMIG2014  RNETMIG2015  \n",
       "STNAME  CTYNAME                                                   \n",
       "Alabama Autauga County       -2.722002     2.592270    -2.187333  \n",
       "        Baldwin County       22.727626    20.317142    18.293499  \n",
       "        Barbour County       -7.167664    -3.978583   -10.543299  \n",
       "        Bibb County          -5.403729     0.754533     1.107861  \n",
       "        Blount County        -1.402476    -1.577232    -0.884411  \n",
       "...                                ...          ...          ...  \n",
       "Wyoming Sweetwater County    -5.295460   -14.075283   -14.070195  \n",
       "        Teton County         21.160658    16.308671     1.520747  \n",
       "        Uinta County         -7.521840   -14.740608   -12.606351  \n",
       "        Washakie County      -2.250385   -18.020168     1.441961  \n",
       "        Weston County        12.372583     1.533635     6.935294  \n",
       "\n",
       "[3142 rows x 98 columns]"
      ]
     },
     "execution_count": 193,
     "metadata": {},
     "output_type": "execute_result"
    }
   ],
   "source": [
    "# note pandorable way to write code\n",
    "df = df[df['SUMLEV']==50]\n",
    "df.set_index(['STNAME', 'CTYNAME'], inplace = True)\n",
    "df.rename(columns ={'ESTIMATESBASE2010':'Estimates Base 2010'})"
   ]
  },
  {
   "cell_type": "code",
   "execution_count": 205,
   "metadata": {},
   "outputs": [
    {
     "data": {
      "text/plain": [
       "0.23860728499857942"
      ]
     },
     "execution_count": 205,
     "metadata": {},
     "output_type": "execute_result"
    }
   ],
   "source": [
    "def first_approach():\n",
    "    global df\n",
    "    return (df.where(df['SUMLEV']==50)\n",
    "    .dropna()\n",
    "    .set_index(['STNAME', 'CTYNAME'])\n",
    "    .rename(columns={'ESTIMATESBASE2010':'Estimates Base 2010'})\n",
    "    )   \n",
    "\n",
    "df = pd.read_csv('../Datasets/census.csv')\n",
    "timeit.timeit(first_approach, number=10)\n"
   ]
  },
  {
   "cell_type": "code",
   "execution_count": 206,
   "metadata": {},
   "outputs": [
    {
     "data": {
      "text/plain": [
       "0.0712937080024858"
      ]
     },
     "execution_count": 206,
     "metadata": {},
     "output_type": "execute_result"
    }
   ],
   "source": [
    "def second_approach():\n",
    "    global df\n",
    "    new_df = df[df['SUMLEV']==50]\n",
    "    new_df.set_index(['STNAME', 'CTYNAME'], inplace = True)\n",
    "    return new_df.rename(columns ={'ESTIMATESBASE2010':'Estimates Base 2010'})\n",
    "\n",
    "df = pd.read_csv('../Datasets/census.csv')\n",
    "timeit.timeit(second_approach, number=10)\n"
   ]
  },
  {
   "cell_type": "code",
   "execution_count": 207,
   "metadata": {},
   "outputs": [],
   "source": [
    "## pandas could have time issues"
   ]
  },
  {
   "cell_type": "code",
   "execution_count": 211,
   "metadata": {},
   "outputs": [
    {
     "data": {
      "text/html": [
       "<div>\n",
       "<style scoped>\n",
       "    .dataframe tbody tr th:only-of-type {\n",
       "        vertical-align: middle;\n",
       "    }\n",
       "\n",
       "    .dataframe tbody tr th {\n",
       "        vertical-align: top;\n",
       "    }\n",
       "\n",
       "    .dataframe thead th {\n",
       "        text-align: right;\n",
       "    }\n",
       "</style>\n",
       "<table border=\"1\" class=\"dataframe\">\n",
       "  <thead>\n",
       "    <tr style=\"text-align: right;\">\n",
       "      <th></th>\n",
       "      <th></th>\n",
       "      <th>SUMLEV</th>\n",
       "      <th>REGION</th>\n",
       "      <th>DIVISION</th>\n",
       "      <th>STNAME</th>\n",
       "      <th>City</th>\n",
       "      <th>CENSUS2010POP</th>\n",
       "      <th>ESTIMATESBASE2010</th>\n",
       "      <th>POPESTIMATE2010</th>\n",
       "      <th>POPESTIMATE2011</th>\n",
       "      <th>POPESTIMATE2012</th>\n",
       "      <th>...</th>\n",
       "      <th>RDOMESTICMIG2011</th>\n",
       "      <th>RDOMESTICMIG2012</th>\n",
       "      <th>RDOMESTICMIG2013</th>\n",
       "      <th>RDOMESTICMIG2014</th>\n",
       "      <th>RDOMESTICMIG2015</th>\n",
       "      <th>RNETMIG2011</th>\n",
       "      <th>RNETMIG2012</th>\n",
       "      <th>RNETMIG2013</th>\n",
       "      <th>RNETMIG2014</th>\n",
       "      <th>RNETMIG2015</th>\n",
       "    </tr>\n",
       "    <tr>\n",
       "      <th>STATE</th>\n",
       "      <th>COUNTY</th>\n",
       "      <th></th>\n",
       "      <th></th>\n",
       "      <th></th>\n",
       "      <th></th>\n",
       "      <th></th>\n",
       "      <th></th>\n",
       "      <th></th>\n",
       "      <th></th>\n",
       "      <th></th>\n",
       "      <th></th>\n",
       "      <th></th>\n",
       "      <th></th>\n",
       "      <th></th>\n",
       "      <th></th>\n",
       "      <th></th>\n",
       "      <th></th>\n",
       "      <th></th>\n",
       "      <th></th>\n",
       "      <th></th>\n",
       "      <th></th>\n",
       "      <th></th>\n",
       "    </tr>\n",
       "  </thead>\n",
       "  <tbody>\n",
       "    <tr>\n",
       "      <th rowspan=\"5\" valign=\"top\">1.0</th>\n",
       "      <th>1.0</th>\n",
       "      <td>50.0</td>\n",
       "      <td>3.0</td>\n",
       "      <td>6.0</td>\n",
       "      <td>Alabama</td>\n",
       "      <td>Autauga County</td>\n",
       "      <td>54571.0</td>\n",
       "      <td>54571.0</td>\n",
       "      <td>54660.0</td>\n",
       "      <td>55253.0</td>\n",
       "      <td>55175.0</td>\n",
       "      <td>...</td>\n",
       "      <td>7.242091</td>\n",
       "      <td>-2.915927</td>\n",
       "      <td>-3.012349</td>\n",
       "      <td>2.265971</td>\n",
       "      <td>-2.530799</td>\n",
       "      <td>7.606016</td>\n",
       "      <td>-2.626146</td>\n",
       "      <td>-2.722002</td>\n",
       "      <td>2.592270</td>\n",
       "      <td>-2.187333</td>\n",
       "    </tr>\n",
       "    <tr>\n",
       "      <th>3.0</th>\n",
       "      <td>50.0</td>\n",
       "      <td>3.0</td>\n",
       "      <td>6.0</td>\n",
       "      <td>Alabama</td>\n",
       "      <td>Baldwin County</td>\n",
       "      <td>182265.0</td>\n",
       "      <td>182265.0</td>\n",
       "      <td>183193.0</td>\n",
       "      <td>186659.0</td>\n",
       "      <td>190396.0</td>\n",
       "      <td>...</td>\n",
       "      <td>14.832960</td>\n",
       "      <td>17.647293</td>\n",
       "      <td>21.845705</td>\n",
       "      <td>19.243287</td>\n",
       "      <td>17.197872</td>\n",
       "      <td>15.844176</td>\n",
       "      <td>18.559627</td>\n",
       "      <td>22.727626</td>\n",
       "      <td>20.317142</td>\n",
       "      <td>18.293499</td>\n",
       "    </tr>\n",
       "    <tr>\n",
       "      <th>5.0</th>\n",
       "      <td>50.0</td>\n",
       "      <td>3.0</td>\n",
       "      <td>6.0</td>\n",
       "      <td>Alabama</td>\n",
       "      <td>Barbour County</td>\n",
       "      <td>27457.0</td>\n",
       "      <td>27457.0</td>\n",
       "      <td>27341.0</td>\n",
       "      <td>27226.0</td>\n",
       "      <td>27159.0</td>\n",
       "      <td>...</td>\n",
       "      <td>-4.728132</td>\n",
       "      <td>-2.500690</td>\n",
       "      <td>-7.056824</td>\n",
       "      <td>-3.904217</td>\n",
       "      <td>-10.543299</td>\n",
       "      <td>-4.874741</td>\n",
       "      <td>-2.758113</td>\n",
       "      <td>-7.167664</td>\n",
       "      <td>-3.978583</td>\n",
       "      <td>-10.543299</td>\n",
       "    </tr>\n",
       "    <tr>\n",
       "      <th>7.0</th>\n",
       "      <td>50.0</td>\n",
       "      <td>3.0</td>\n",
       "      <td>6.0</td>\n",
       "      <td>Alabama</td>\n",
       "      <td>Bibb County</td>\n",
       "      <td>22915.0</td>\n",
       "      <td>22919.0</td>\n",
       "      <td>22861.0</td>\n",
       "      <td>22733.0</td>\n",
       "      <td>22642.0</td>\n",
       "      <td>...</td>\n",
       "      <td>-5.527043</td>\n",
       "      <td>-5.068871</td>\n",
       "      <td>-6.201001</td>\n",
       "      <td>-0.177537</td>\n",
       "      <td>0.177258</td>\n",
       "      <td>-5.088389</td>\n",
       "      <td>-4.363636</td>\n",
       "      <td>-5.403729</td>\n",
       "      <td>0.754533</td>\n",
       "      <td>1.107861</td>\n",
       "    </tr>\n",
       "    <tr>\n",
       "      <th>9.0</th>\n",
       "      <td>50.0</td>\n",
       "      <td>3.0</td>\n",
       "      <td>6.0</td>\n",
       "      <td>Alabama</td>\n",
       "      <td>Blount County</td>\n",
       "      <td>57322.0</td>\n",
       "      <td>57322.0</td>\n",
       "      <td>57373.0</td>\n",
       "      <td>57711.0</td>\n",
       "      <td>57776.0</td>\n",
       "      <td>...</td>\n",
       "      <td>1.807375</td>\n",
       "      <td>-1.177622</td>\n",
       "      <td>-1.748766</td>\n",
       "      <td>-2.062535</td>\n",
       "      <td>-1.369970</td>\n",
       "      <td>1.859511</td>\n",
       "      <td>-0.848580</td>\n",
       "      <td>-1.402476</td>\n",
       "      <td>-1.577232</td>\n",
       "      <td>-0.884411</td>\n",
       "    </tr>\n",
       "    <tr>\n",
       "      <th>...</th>\n",
       "      <th>...</th>\n",
       "      <td>...</td>\n",
       "      <td>...</td>\n",
       "      <td>...</td>\n",
       "      <td>...</td>\n",
       "      <td>...</td>\n",
       "      <td>...</td>\n",
       "      <td>...</td>\n",
       "      <td>...</td>\n",
       "      <td>...</td>\n",
       "      <td>...</td>\n",
       "      <td>...</td>\n",
       "      <td>...</td>\n",
       "      <td>...</td>\n",
       "      <td>...</td>\n",
       "      <td>...</td>\n",
       "      <td>...</td>\n",
       "      <td>...</td>\n",
       "      <td>...</td>\n",
       "      <td>...</td>\n",
       "      <td>...</td>\n",
       "      <td>...</td>\n",
       "    </tr>\n",
       "    <tr>\n",
       "      <th rowspan=\"5\" valign=\"top\">56.0</th>\n",
       "      <th>37.0</th>\n",
       "      <td>50.0</td>\n",
       "      <td>4.0</td>\n",
       "      <td>8.0</td>\n",
       "      <td>Wyoming</td>\n",
       "      <td>Sweetwater County</td>\n",
       "      <td>43806.0</td>\n",
       "      <td>43806.0</td>\n",
       "      <td>43593.0</td>\n",
       "      <td>44041.0</td>\n",
       "      <td>45104.0</td>\n",
       "      <td>...</td>\n",
       "      <td>1.072643</td>\n",
       "      <td>16.243199</td>\n",
       "      <td>-5.339774</td>\n",
       "      <td>-14.252889</td>\n",
       "      <td>-14.248864</td>\n",
       "      <td>1.255221</td>\n",
       "      <td>16.243199</td>\n",
       "      <td>-5.295460</td>\n",
       "      <td>-14.075283</td>\n",
       "      <td>-14.070195</td>\n",
       "    </tr>\n",
       "    <tr>\n",
       "      <th>39.0</th>\n",
       "      <td>50.0</td>\n",
       "      <td>4.0</td>\n",
       "      <td>8.0</td>\n",
       "      <td>Wyoming</td>\n",
       "      <td>Teton County</td>\n",
       "      <td>21294.0</td>\n",
       "      <td>21294.0</td>\n",
       "      <td>21297.0</td>\n",
       "      <td>21482.0</td>\n",
       "      <td>21697.0</td>\n",
       "      <td>...</td>\n",
       "      <td>-1.589565</td>\n",
       "      <td>0.972695</td>\n",
       "      <td>19.525929</td>\n",
       "      <td>14.143021</td>\n",
       "      <td>-0.564849</td>\n",
       "      <td>0.654527</td>\n",
       "      <td>2.408578</td>\n",
       "      <td>21.160658</td>\n",
       "      <td>16.308671</td>\n",
       "      <td>1.520747</td>\n",
       "    </tr>\n",
       "    <tr>\n",
       "      <th>41.0</th>\n",
       "      <td>50.0</td>\n",
       "      <td>4.0</td>\n",
       "      <td>8.0</td>\n",
       "      <td>Wyoming</td>\n",
       "      <td>Uinta County</td>\n",
       "      <td>21118.0</td>\n",
       "      <td>21118.0</td>\n",
       "      <td>21102.0</td>\n",
       "      <td>20912.0</td>\n",
       "      <td>20989.0</td>\n",
       "      <td>...</td>\n",
       "      <td>-17.755986</td>\n",
       "      <td>-4.916350</td>\n",
       "      <td>-6.902954</td>\n",
       "      <td>-14.215862</td>\n",
       "      <td>-12.127022</td>\n",
       "      <td>-18.136812</td>\n",
       "      <td>-5.536861</td>\n",
       "      <td>-7.521840</td>\n",
       "      <td>-14.740608</td>\n",
       "      <td>-12.606351</td>\n",
       "    </tr>\n",
       "    <tr>\n",
       "      <th>43.0</th>\n",
       "      <td>50.0</td>\n",
       "      <td>4.0</td>\n",
       "      <td>8.0</td>\n",
       "      <td>Wyoming</td>\n",
       "      <td>Washakie County</td>\n",
       "      <td>8533.0</td>\n",
       "      <td>8533.0</td>\n",
       "      <td>8545.0</td>\n",
       "      <td>8469.0</td>\n",
       "      <td>8443.0</td>\n",
       "      <td>...</td>\n",
       "      <td>-11.637475</td>\n",
       "      <td>-0.827815</td>\n",
       "      <td>-2.013502</td>\n",
       "      <td>-17.781491</td>\n",
       "      <td>1.682288</td>\n",
       "      <td>-11.990126</td>\n",
       "      <td>-1.182592</td>\n",
       "      <td>-2.250385</td>\n",
       "      <td>-18.020168</td>\n",
       "      <td>1.441961</td>\n",
       "    </tr>\n",
       "    <tr>\n",
       "      <th>45.0</th>\n",
       "      <td>50.0</td>\n",
       "      <td>4.0</td>\n",
       "      <td>8.0</td>\n",
       "      <td>Wyoming</td>\n",
       "      <td>Weston County</td>\n",
       "      <td>7208.0</td>\n",
       "      <td>7208.0</td>\n",
       "      <td>7181.0</td>\n",
       "      <td>7114.0</td>\n",
       "      <td>7065.0</td>\n",
       "      <td>...</td>\n",
       "      <td>-11.752361</td>\n",
       "      <td>-8.040059</td>\n",
       "      <td>12.372583</td>\n",
       "      <td>1.533635</td>\n",
       "      <td>6.935294</td>\n",
       "      <td>-12.032179</td>\n",
       "      <td>-8.040059</td>\n",
       "      <td>12.372583</td>\n",
       "      <td>1.533635</td>\n",
       "      <td>6.935294</td>\n",
       "    </tr>\n",
       "  </tbody>\n",
       "</table>\n",
       "<p>3142 rows × 98 columns</p>\n",
       "</div>"
      ],
      "text/plain": [
       "              SUMLEV  REGION  DIVISION   STNAME               City  \\\n",
       "STATE COUNTY                                                         \n",
       "1.0   1.0       50.0     3.0       6.0  Alabama     Autauga County   \n",
       "      3.0       50.0     3.0       6.0  Alabama     Baldwin County   \n",
       "      5.0       50.0     3.0       6.0  Alabama     Barbour County   \n",
       "      7.0       50.0     3.0       6.0  Alabama        Bibb County   \n",
       "      9.0       50.0     3.0       6.0  Alabama      Blount County   \n",
       "...              ...     ...       ...      ...                ...   \n",
       "56.0  37.0      50.0     4.0       8.0  Wyoming  Sweetwater County   \n",
       "      39.0      50.0     4.0       8.0  Wyoming       Teton County   \n",
       "      41.0      50.0     4.0       8.0  Wyoming       Uinta County   \n",
       "      43.0      50.0     4.0       8.0  Wyoming    Washakie County   \n",
       "      45.0      50.0     4.0       8.0  Wyoming      Weston County   \n",
       "\n",
       "              CENSUS2010POP  ESTIMATESBASE2010  POPESTIMATE2010  \\\n",
       "STATE COUNTY                                                      \n",
       "1.0   1.0           54571.0            54571.0          54660.0   \n",
       "      3.0          182265.0           182265.0         183193.0   \n",
       "      5.0           27457.0            27457.0          27341.0   \n",
       "      7.0           22915.0            22919.0          22861.0   \n",
       "      9.0           57322.0            57322.0          57373.0   \n",
       "...                     ...                ...              ...   \n",
       "56.0  37.0          43806.0            43806.0          43593.0   \n",
       "      39.0          21294.0            21294.0          21297.0   \n",
       "      41.0          21118.0            21118.0          21102.0   \n",
       "      43.0           8533.0             8533.0           8545.0   \n",
       "      45.0           7208.0             7208.0           7181.0   \n",
       "\n",
       "              POPESTIMATE2011  POPESTIMATE2012  ...  RDOMESTICMIG2011  \\\n",
       "STATE COUNTY                                    ...                     \n",
       "1.0   1.0             55253.0          55175.0  ...          7.242091   \n",
       "      3.0            186659.0         190396.0  ...         14.832960   \n",
       "      5.0             27226.0          27159.0  ...         -4.728132   \n",
       "      7.0             22733.0          22642.0  ...         -5.527043   \n",
       "      9.0             57711.0          57776.0  ...          1.807375   \n",
       "...                       ...              ...  ...               ...   \n",
       "56.0  37.0            44041.0          45104.0  ...          1.072643   \n",
       "      39.0            21482.0          21697.0  ...         -1.589565   \n",
       "      41.0            20912.0          20989.0  ...        -17.755986   \n",
       "      43.0             8469.0           8443.0  ...        -11.637475   \n",
       "      45.0             7114.0           7065.0  ...        -11.752361   \n",
       "\n",
       "              RDOMESTICMIG2012  RDOMESTICMIG2013  RDOMESTICMIG2014  \\\n",
       "STATE COUNTY                                                         \n",
       "1.0   1.0            -2.915927         -3.012349          2.265971   \n",
       "      3.0            17.647293         21.845705         19.243287   \n",
       "      5.0            -2.500690         -7.056824         -3.904217   \n",
       "      7.0            -5.068871         -6.201001         -0.177537   \n",
       "      9.0            -1.177622         -1.748766         -2.062535   \n",
       "...                        ...               ...               ...   \n",
       "56.0  37.0           16.243199         -5.339774        -14.252889   \n",
       "      39.0            0.972695         19.525929         14.143021   \n",
       "      41.0           -4.916350         -6.902954        -14.215862   \n",
       "      43.0           -0.827815         -2.013502        -17.781491   \n",
       "      45.0           -8.040059         12.372583          1.533635   \n",
       "\n",
       "              RDOMESTICMIG2015  RNETMIG2011  RNETMIG2012  RNETMIG2013  \\\n",
       "STATE COUNTY                                                            \n",
       "1.0   1.0            -2.530799     7.606016    -2.626146    -2.722002   \n",
       "      3.0            17.197872    15.844176    18.559627    22.727626   \n",
       "      5.0           -10.543299    -4.874741    -2.758113    -7.167664   \n",
       "      7.0             0.177258    -5.088389    -4.363636    -5.403729   \n",
       "      9.0            -1.369970     1.859511    -0.848580    -1.402476   \n",
       "...                        ...          ...          ...          ...   \n",
       "56.0  37.0          -14.248864     1.255221    16.243199    -5.295460   \n",
       "      39.0           -0.564849     0.654527     2.408578    21.160658   \n",
       "      41.0          -12.127022   -18.136812    -5.536861    -7.521840   \n",
       "      43.0            1.682288   -11.990126    -1.182592    -2.250385   \n",
       "      45.0            6.935294   -12.032179    -8.040059    12.372583   \n",
       "\n",
       "              RNETMIG2014  RNETMIG2015  \n",
       "STATE COUNTY                            \n",
       "1.0   1.0        2.592270    -2.187333  \n",
       "      3.0       20.317142    18.293499  \n",
       "      5.0       -3.978583   -10.543299  \n",
       "      7.0        0.754533     1.107861  \n",
       "      9.0       -1.577232    -0.884411  \n",
       "...                   ...          ...  \n",
       "56.0  37.0     -14.075283   -14.070195  \n",
       "      39.0      16.308671     1.520747  \n",
       "      41.0     -14.740608   -12.606351  \n",
       "      43.0     -18.020168     1.441961  \n",
       "      45.0       1.533635     6.935294  \n",
       "\n",
       "[3142 rows x 98 columns]"
      ]
     },
     "execution_count": 211,
     "metadata": {},
     "output_type": "execute_result"
    }
   ],
   "source": [
    "(\n",
    "    df.where(df['SUMLEV']==50)\n",
    "      .dropna()\n",
    "      .set_index(['STATE', 'COUNTY'])\n",
    "      .rename(columns={'CTYNAME':'City'})\n",
    ")"
   ]
  },
  {
   "cell_type": "code",
   "execution_count": 212,
   "metadata": {},
   "outputs": [
    {
     "data": {
      "text/html": [
       "<div>\n",
       "<style scoped>\n",
       "    .dataframe tbody tr th:only-of-type {\n",
       "        vertical-align: middle;\n",
       "    }\n",
       "\n",
       "    .dataframe tbody tr th {\n",
       "        vertical-align: top;\n",
       "    }\n",
       "\n",
       "    .dataframe thead th {\n",
       "        text-align: right;\n",
       "    }\n",
       "</style>\n",
       "<table border=\"1\" class=\"dataframe\">\n",
       "  <thead>\n",
       "    <tr style=\"text-align: right;\">\n",
       "      <th></th>\n",
       "      <th>Nombre</th>\n",
       "      <th>Apellido</th>\n",
       "    </tr>\n",
       "  </thead>\n",
       "  <tbody>\n",
       "    <tr>\n",
       "      <th>0</th>\n",
       "      <td>Eduardo</td>\n",
       "      <td>Montero</td>\n",
       "    </tr>\n",
       "    <tr>\n",
       "      <th>1</th>\n",
       "      <td>Jose</td>\n",
       "      <td>Bermudez</td>\n",
       "    </tr>\n",
       "    <tr>\n",
       "      <th>2</th>\n",
       "      <td>Lucrecia</td>\n",
       "      <td>Lopez</td>\n",
       "    </tr>\n",
       "  </tbody>\n",
       "</table>\n",
       "</div>"
      ],
      "text/plain": [
       "     Nombre  Apellido\n",
       "0   Eduardo   Montero\n",
       "1      Jose  Bermudez\n",
       "2  Lucrecia     Lopez"
      ]
     },
     "execution_count": 212,
     "metadata": {},
     "output_type": "execute_result"
    }
   ],
   "source": [
    "# pandas idiom pandas chaining. Maybe has performance issues\n",
    "# applymap\n",
    "\n",
    "df = pd.DataFrame({'Nombre':['Eduardo', 'Jose', 'Lucrecia'],\n",
    "                   'Apellido':['Montero','Bermudez', 'Lopez'] })\n",
    "df"
   ]
  },
  {
   "cell_type": "code",
   "execution_count": 213,
   "metadata": {},
   "outputs": [
    {
     "data": {
      "text/html": [
       "<div>\n",
       "<style scoped>\n",
       "    .dataframe tbody tr th:only-of-type {\n",
       "        vertical-align: middle;\n",
       "    }\n",
       "\n",
       "    .dataframe tbody tr th {\n",
       "        vertical-align: top;\n",
       "    }\n",
       "\n",
       "    .dataframe thead th {\n",
       "        text-align: right;\n",
       "    }\n",
       "</style>\n",
       "<table border=\"1\" class=\"dataframe\">\n",
       "  <thead>\n",
       "    <tr style=\"text-align: right;\">\n",
       "      <th></th>\n",
       "      <th>Nombre</th>\n",
       "      <th>Apellido</th>\n",
       "    </tr>\n",
       "  </thead>\n",
       "  <tbody>\n",
       "    <tr>\n",
       "      <th>0</th>\n",
       "      <td>7</td>\n",
       "      <td>7</td>\n",
       "    </tr>\n",
       "    <tr>\n",
       "      <th>1</th>\n",
       "      <td>4</td>\n",
       "      <td>8</td>\n",
       "    </tr>\n",
       "    <tr>\n",
       "      <th>2</th>\n",
       "      <td>8</td>\n",
       "      <td>5</td>\n",
       "    </tr>\n",
       "  </tbody>\n",
       "</table>\n",
       "</div>"
      ],
      "text/plain": [
       "   Nombre  Apellido\n",
       "0       7         7\n",
       "1       4         8\n",
       "2       8         5"
      ]
     },
     "execution_count": 213,
     "metadata": {},
     "output_type": "execute_result"
    }
   ],
   "source": [
    "df.applymap(lambda x: len(x))"
   ]
  },
  {
   "cell_type": "code",
   "execution_count": 214,
   "metadata": {},
   "outputs": [
    {
     "data": {
      "text/html": [
       "<div>\n",
       "<style scoped>\n",
       "    .dataframe tbody tr th:only-of-type {\n",
       "        vertical-align: middle;\n",
       "    }\n",
       "\n",
       "    .dataframe tbody tr th {\n",
       "        vertical-align: top;\n",
       "    }\n",
       "\n",
       "    .dataframe thead th {\n",
       "        text-align: right;\n",
       "    }\n",
       "</style>\n",
       "<table border=\"1\" class=\"dataframe\">\n",
       "  <thead>\n",
       "    <tr style=\"text-align: right;\">\n",
       "      <th></th>\n",
       "      <th>Nombre</th>\n",
       "      <th>Apellido</th>\n",
       "    </tr>\n",
       "  </thead>\n",
       "  <tbody>\n",
       "    <tr>\n",
       "      <th>0</th>\n",
       "      <td>EDUARDO</td>\n",
       "      <td>MONTERO</td>\n",
       "    </tr>\n",
       "    <tr>\n",
       "      <th>1</th>\n",
       "      <td>JOSE</td>\n",
       "      <td>BERMUDEZ</td>\n",
       "    </tr>\n",
       "    <tr>\n",
       "      <th>2</th>\n",
       "      <td>LUCRECIA</td>\n",
       "      <td>LOPEZ</td>\n",
       "    </tr>\n",
       "  </tbody>\n",
       "</table>\n",
       "</div>"
      ],
      "text/plain": [
       "     Nombre  Apellido\n",
       "0   EDUARDO   MONTERO\n",
       "1      JOSE  BERMUDEZ\n",
       "2  LUCRECIA     LOPEZ"
      ]
     },
     "execution_count": 214,
     "metadata": {},
     "output_type": "execute_result"
    }
   ],
   "source": [
    "df.applymap(lambda x: x.upper())"
   ]
  },
  {
   "cell_type": "code",
   "execution_count": 222,
   "metadata": {},
   "outputs": [
    {
     "data": {
      "text/html": [
       "<div>\n",
       "<style scoped>\n",
       "    .dataframe tbody tr th:only-of-type {\n",
       "        vertical-align: middle;\n",
       "    }\n",
       "\n",
       "    .dataframe tbody tr th {\n",
       "        vertical-align: top;\n",
       "    }\n",
       "\n",
       "    .dataframe thead th {\n",
       "        text-align: right;\n",
       "    }\n",
       "</style>\n",
       "<table border=\"1\" class=\"dataframe\">\n",
       "  <thead>\n",
       "    <tr style=\"text-align: right;\">\n",
       "      <th></th>\n",
       "      <th>min</th>\n",
       "      <th>max</th>\n",
       "    </tr>\n",
       "  </thead>\n",
       "  <tbody>\n",
       "    <tr>\n",
       "      <th>0</th>\n",
       "      <td>4785161</td>\n",
       "      <td>4858979</td>\n",
       "    </tr>\n",
       "    <tr>\n",
       "      <th>1</th>\n",
       "      <td>54660</td>\n",
       "      <td>55347</td>\n",
       "    </tr>\n",
       "    <tr>\n",
       "      <th>2</th>\n",
       "      <td>183193</td>\n",
       "      <td>203709</td>\n",
       "    </tr>\n",
       "    <tr>\n",
       "      <th>3</th>\n",
       "      <td>26489</td>\n",
       "      <td>27341</td>\n",
       "    </tr>\n",
       "    <tr>\n",
       "      <th>4</th>\n",
       "      <td>22512</td>\n",
       "      <td>22861</td>\n",
       "    </tr>\n",
       "  </tbody>\n",
       "</table>\n",
       "</div>"
      ],
      "text/plain": [
       "       min      max\n",
       "0  4785161  4858979\n",
       "1    54660    55347\n",
       "2   183193   203709\n",
       "3    26489    27341\n",
       "4    22512    22861"
      ]
     },
     "execution_count": 222,
     "metadata": {},
     "output_type": "execute_result"
    }
   ],
   "source": [
    "# applymap (todas las celdas)\n",
    "# apply (rows)\n",
    "def min_max(row):\n",
    "    data = row[[\n",
    "        'POPESTIMATE2010',\n",
    "        'POPESTIMATE2011',\n",
    "        'POPESTIMATE2012',\n",
    "        'POPESTIMATE2013',\n",
    "        'POPESTIMATE2014',\n",
    "        'POPESTIMATE2015'\n",
    "    ]]\n",
    "\n",
    "    return pd.Series({'min':np.min(data) , 'max':np.max(data)})\n",
    "\n",
    "df.apply(min_max, axis = 'columns').head()"
   ]
  },
  {
   "cell_type": "code",
   "execution_count": 224,
   "metadata": {},
   "outputs": [
    {
     "data": {
      "text/html": [
       "<div>\n",
       "<style scoped>\n",
       "    .dataframe tbody tr th:only-of-type {\n",
       "        vertical-align: middle;\n",
       "    }\n",
       "\n",
       "    .dataframe tbody tr th {\n",
       "        vertical-align: top;\n",
       "    }\n",
       "\n",
       "    .dataframe thead th {\n",
       "        text-align: right;\n",
       "    }\n",
       "</style>\n",
       "<table border=\"1\" class=\"dataframe\">\n",
       "  <thead>\n",
       "    <tr style=\"text-align: right;\">\n",
       "      <th></th>\n",
       "      <th>SUMLEV</th>\n",
       "      <th>REGION</th>\n",
       "      <th>DIVISION</th>\n",
       "      <th>STATE</th>\n",
       "      <th>COUNTY</th>\n",
       "      <th>STNAME</th>\n",
       "      <th>CTYNAME</th>\n",
       "      <th>CENSUS2010POP</th>\n",
       "      <th>ESTIMATESBASE2010</th>\n",
       "      <th>POPESTIMATE2010</th>\n",
       "      <th>...</th>\n",
       "      <th>RDOMESTICMIG2013</th>\n",
       "      <th>RDOMESTICMIG2014</th>\n",
       "      <th>RDOMESTICMIG2015</th>\n",
       "      <th>RNETMIG2011</th>\n",
       "      <th>RNETMIG2012</th>\n",
       "      <th>RNETMIG2013</th>\n",
       "      <th>RNETMIG2014</th>\n",
       "      <th>RNETMIG2015</th>\n",
       "      <th>max</th>\n",
       "      <th>min</th>\n",
       "    </tr>\n",
       "  </thead>\n",
       "  <tbody>\n",
       "    <tr>\n",
       "      <th>0</th>\n",
       "      <td>40</td>\n",
       "      <td>3</td>\n",
       "      <td>6</td>\n",
       "      <td>1</td>\n",
       "      <td>0</td>\n",
       "      <td>Alabama</td>\n",
       "      <td>Alabama</td>\n",
       "      <td>4779736</td>\n",
       "      <td>4780127</td>\n",
       "      <td>4785161</td>\n",
       "      <td>...</td>\n",
       "      <td>0.381066</td>\n",
       "      <td>0.582002</td>\n",
       "      <td>-0.467369</td>\n",
       "      <td>1.030015</td>\n",
       "      <td>0.826644</td>\n",
       "      <td>1.383282</td>\n",
       "      <td>1.724718</td>\n",
       "      <td>0.712594</td>\n",
       "      <td>4858979</td>\n",
       "      <td>4785161</td>\n",
       "    </tr>\n",
       "    <tr>\n",
       "      <th>1</th>\n",
       "      <td>50</td>\n",
       "      <td>3</td>\n",
       "      <td>6</td>\n",
       "      <td>1</td>\n",
       "      <td>1</td>\n",
       "      <td>Alabama</td>\n",
       "      <td>Autauga County</td>\n",
       "      <td>54571</td>\n",
       "      <td>54571</td>\n",
       "      <td>54660</td>\n",
       "      <td>...</td>\n",
       "      <td>-3.012349</td>\n",
       "      <td>2.265971</td>\n",
       "      <td>-2.530799</td>\n",
       "      <td>7.606016</td>\n",
       "      <td>-2.626146</td>\n",
       "      <td>-2.722002</td>\n",
       "      <td>2.592270</td>\n",
       "      <td>-2.187333</td>\n",
       "      <td>55347</td>\n",
       "      <td>54660</td>\n",
       "    </tr>\n",
       "    <tr>\n",
       "      <th>2</th>\n",
       "      <td>50</td>\n",
       "      <td>3</td>\n",
       "      <td>6</td>\n",
       "      <td>1</td>\n",
       "      <td>3</td>\n",
       "      <td>Alabama</td>\n",
       "      <td>Baldwin County</td>\n",
       "      <td>182265</td>\n",
       "      <td>182265</td>\n",
       "      <td>183193</td>\n",
       "      <td>...</td>\n",
       "      <td>21.845705</td>\n",
       "      <td>19.243287</td>\n",
       "      <td>17.197872</td>\n",
       "      <td>15.844176</td>\n",
       "      <td>18.559627</td>\n",
       "      <td>22.727626</td>\n",
       "      <td>20.317142</td>\n",
       "      <td>18.293499</td>\n",
       "      <td>203709</td>\n",
       "      <td>183193</td>\n",
       "    </tr>\n",
       "    <tr>\n",
       "      <th>3</th>\n",
       "      <td>50</td>\n",
       "      <td>3</td>\n",
       "      <td>6</td>\n",
       "      <td>1</td>\n",
       "      <td>5</td>\n",
       "      <td>Alabama</td>\n",
       "      <td>Barbour County</td>\n",
       "      <td>27457</td>\n",
       "      <td>27457</td>\n",
       "      <td>27341</td>\n",
       "      <td>...</td>\n",
       "      <td>-7.056824</td>\n",
       "      <td>-3.904217</td>\n",
       "      <td>-10.543299</td>\n",
       "      <td>-4.874741</td>\n",
       "      <td>-2.758113</td>\n",
       "      <td>-7.167664</td>\n",
       "      <td>-3.978583</td>\n",
       "      <td>-10.543299</td>\n",
       "      <td>27341</td>\n",
       "      <td>26489</td>\n",
       "    </tr>\n",
       "    <tr>\n",
       "      <th>4</th>\n",
       "      <td>50</td>\n",
       "      <td>3</td>\n",
       "      <td>6</td>\n",
       "      <td>1</td>\n",
       "      <td>7</td>\n",
       "      <td>Alabama</td>\n",
       "      <td>Bibb County</td>\n",
       "      <td>22915</td>\n",
       "      <td>22919</td>\n",
       "      <td>22861</td>\n",
       "      <td>...</td>\n",
       "      <td>-6.201001</td>\n",
       "      <td>-0.177537</td>\n",
       "      <td>0.177258</td>\n",
       "      <td>-5.088389</td>\n",
       "      <td>-4.363636</td>\n",
       "      <td>-5.403729</td>\n",
       "      <td>0.754533</td>\n",
       "      <td>1.107861</td>\n",
       "      <td>22861</td>\n",
       "      <td>22512</td>\n",
       "    </tr>\n",
       "  </tbody>\n",
       "</table>\n",
       "<p>5 rows × 102 columns</p>\n",
       "</div>"
      ],
      "text/plain": [
       "   SUMLEV  REGION  DIVISION  STATE  COUNTY   STNAME         CTYNAME  \\\n",
       "0      40       3         6      1       0  Alabama         Alabama   \n",
       "1      50       3         6      1       1  Alabama  Autauga County   \n",
       "2      50       3         6      1       3  Alabama  Baldwin County   \n",
       "3      50       3         6      1       5  Alabama  Barbour County   \n",
       "4      50       3         6      1       7  Alabama     Bibb County   \n",
       "\n",
       "   CENSUS2010POP  ESTIMATESBASE2010  POPESTIMATE2010  ...  RDOMESTICMIG2013  \\\n",
       "0        4779736            4780127          4785161  ...          0.381066   \n",
       "1          54571              54571            54660  ...         -3.012349   \n",
       "2         182265             182265           183193  ...         21.845705   \n",
       "3          27457              27457            27341  ...         -7.056824   \n",
       "4          22915              22919            22861  ...         -6.201001   \n",
       "\n",
       "   RDOMESTICMIG2014  RDOMESTICMIG2015  RNETMIG2011  RNETMIG2012  RNETMIG2013  \\\n",
       "0          0.582002         -0.467369     1.030015     0.826644     1.383282   \n",
       "1          2.265971         -2.530799     7.606016    -2.626146    -2.722002   \n",
       "2         19.243287         17.197872    15.844176    18.559627    22.727626   \n",
       "3         -3.904217        -10.543299    -4.874741    -2.758113    -7.167664   \n",
       "4         -0.177537          0.177258    -5.088389    -4.363636    -5.403729   \n",
       "\n",
       "   RNETMIG2014  RNETMIG2015      max      min  \n",
       "0     1.724718     0.712594  4858979  4785161  \n",
       "1     2.592270    -2.187333    55347    54660  \n",
       "2    20.317142    18.293499   203709   183193  \n",
       "3    -3.978583   -10.543299    27341    26489  \n",
       "4     0.754533     1.107861    22861    22512  \n",
       "\n",
       "[5 rows x 102 columns]"
      ]
     },
     "execution_count": 224,
     "metadata": {},
     "output_type": "execute_result"
    }
   ],
   "source": [
    "def min_max(row):\n",
    "    data = row[[\n",
    "        'POPESTIMATE2010',\n",
    "        'POPESTIMATE2011',\n",
    "        'POPESTIMATE2012',\n",
    "        'POPESTIMATE2013',\n",
    "        'POPESTIMATE2014',\n",
    "        'POPESTIMATE2015'\n",
    "    ]]\n",
    "\n",
    "    row['max']= np.max(data)\n",
    "    row['min']=np.min(data)\n",
    "\n",
    "    return row\n",
    "\n",
    "df.apply(min_max, axis = 'columns').head()"
   ]
  },
  {
   "cell_type": "code",
   "execution_count": 227,
   "metadata": {},
   "outputs": [
    {
     "data": {
      "text/plain": [
       "0    4858979\n",
       "1      55347\n",
       "2     203709\n",
       "3      27341\n",
       "4      22861\n",
       "dtype: int64"
      ]
     },
     "execution_count": 227,
     "metadata": {},
     "output_type": "execute_result"
    }
   ],
   "source": [
    "row=['POPESTIMATE2010','POPESTIMATE2011','POPESTIMATE2012','POPESTIMATE2013','POPESTIMATE2014','POPESTIMATE2015']\n",
    "# calculo el máximo de las columnas en la lista rows para cada una de las filas\n",
    "df.apply(lambda x:np.max(x[row]), axis='columns').head()\n",
    "# lambda is an unnamed function in python"
   ]
  },
  {
   "cell_type": "code",
   "execution_count": 234,
   "metadata": {},
   "outputs": [
    {
     "data": {
      "text/html": [
       "<div>\n",
       "<style scoped>\n",
       "    .dataframe tbody tr th:only-of-type {\n",
       "        vertical-align: middle;\n",
       "    }\n",
       "\n",
       "    .dataframe tbody tr th {\n",
       "        vertical-align: top;\n",
       "    }\n",
       "\n",
       "    .dataframe thead th {\n",
       "        text-align: right;\n",
       "    }\n",
       "</style>\n",
       "<table border=\"1\" class=\"dataframe\">\n",
       "  <thead>\n",
       "    <tr style=\"text-align: right;\">\n",
       "      <th></th>\n",
       "      <th>STREGION</th>\n",
       "      <th>STNAME</th>\n",
       "    </tr>\n",
       "  </thead>\n",
       "  <tbody>\n",
       "    <tr>\n",
       "      <th>0</th>\n",
       "      <td>South</td>\n",
       "      <td>Alabama</td>\n",
       "    </tr>\n",
       "    <tr>\n",
       "      <th>1</th>\n",
       "      <td>South</td>\n",
       "      <td>Alabama</td>\n",
       "    </tr>\n",
       "    <tr>\n",
       "      <th>2</th>\n",
       "      <td>South</td>\n",
       "      <td>Alabama</td>\n",
       "    </tr>\n",
       "    <tr>\n",
       "      <th>3</th>\n",
       "      <td>South</td>\n",
       "      <td>Alabama</td>\n",
       "    </tr>\n",
       "    <tr>\n",
       "      <th>4</th>\n",
       "      <td>South</td>\n",
       "      <td>Alabama</td>\n",
       "    </tr>\n",
       "  </tbody>\n",
       "</table>\n",
       "</div>"
      ],
      "text/plain": [
       "  STREGION   STNAME\n",
       "0    South  Alabama\n",
       "1    South  Alabama\n",
       "2    South  Alabama\n",
       "3    South  Alabama\n",
       "4    South  Alabama"
      ]
     },
     "execution_count": 234,
     "metadata": {},
     "output_type": "execute_result"
    }
   ],
   "source": [
    "def get_state_region(x):\n",
    "\n",
    "    south = ['Alabama', 'Florida', 'Georgia']\n",
    "    northeast=['Connecticut', 'Maine']\n",
    "\n",
    "    if x in south:\n",
    "        return 'South'\n",
    "    elif x in northeast:\n",
    "        return 'NorthEast'\n",
    "#se aplica por fila axis=0 sobre la columna STNAME\n",
    "df['STREGION'] = df['STNAME'].apply(lambda x: get_state_region(x))\n",
    "df[['STREGION', 'STNAME']].head()"
   ]
  },
  {
   "cell_type": "code",
   "execution_count": null,
   "metadata": {},
   "outputs": [],
   "source": [
    "# pandas idiom pandas chaining. and apply"
   ]
  },
  {
   "cell_type": "markdown",
   "metadata": {},
   "source": [
    "## Splitting"
   ]
  },
  {
   "cell_type": "code",
   "execution_count": 235,
   "metadata": {},
   "outputs": [],
   "source": [
    "import pandas as pd \n",
    "import numpy as np"
   ]
  },
  {
   "cell_type": "code",
   "execution_count": 237,
   "metadata": {},
   "outputs": [
    {
     "data": {
      "text/html": [
       "<div>\n",
       "<style scoped>\n",
       "    .dataframe tbody tr th:only-of-type {\n",
       "        vertical-align: middle;\n",
       "    }\n",
       "\n",
       "    .dataframe tbody tr th {\n",
       "        vertical-align: top;\n",
       "    }\n",
       "\n",
       "    .dataframe thead th {\n",
       "        text-align: right;\n",
       "    }\n",
       "</style>\n",
       "<table border=\"1\" class=\"dataframe\">\n",
       "  <thead>\n",
       "    <tr style=\"text-align: right;\">\n",
       "      <th></th>\n",
       "      <th>SUMLEV</th>\n",
       "      <th>REGION</th>\n",
       "      <th>DIVISION</th>\n",
       "      <th>STATE</th>\n",
       "      <th>COUNTY</th>\n",
       "      <th>STNAME</th>\n",
       "      <th>CTYNAME</th>\n",
       "      <th>CENSUS2010POP</th>\n",
       "      <th>ESTIMATESBASE2010</th>\n",
       "      <th>POPESTIMATE2010</th>\n",
       "      <th>...</th>\n",
       "      <th>RDOMESTICMIG2011</th>\n",
       "      <th>RDOMESTICMIG2012</th>\n",
       "      <th>RDOMESTICMIG2013</th>\n",
       "      <th>RDOMESTICMIG2014</th>\n",
       "      <th>RDOMESTICMIG2015</th>\n",
       "      <th>RNETMIG2011</th>\n",
       "      <th>RNETMIG2012</th>\n",
       "      <th>RNETMIG2013</th>\n",
       "      <th>RNETMIG2014</th>\n",
       "      <th>RNETMIG2015</th>\n",
       "    </tr>\n",
       "  </thead>\n",
       "  <tbody>\n",
       "    <tr>\n",
       "      <th>1</th>\n",
       "      <td>50</td>\n",
       "      <td>3</td>\n",
       "      <td>6</td>\n",
       "      <td>1</td>\n",
       "      <td>1</td>\n",
       "      <td>Alabama</td>\n",
       "      <td>Autauga County</td>\n",
       "      <td>54571</td>\n",
       "      <td>54571</td>\n",
       "      <td>54660</td>\n",
       "      <td>...</td>\n",
       "      <td>7.242091</td>\n",
       "      <td>-2.915927</td>\n",
       "      <td>-3.012349</td>\n",
       "      <td>2.265971</td>\n",
       "      <td>-2.530799</td>\n",
       "      <td>7.606016</td>\n",
       "      <td>-2.626146</td>\n",
       "      <td>-2.722002</td>\n",
       "      <td>2.592270</td>\n",
       "      <td>-2.187333</td>\n",
       "    </tr>\n",
       "    <tr>\n",
       "      <th>2</th>\n",
       "      <td>50</td>\n",
       "      <td>3</td>\n",
       "      <td>6</td>\n",
       "      <td>1</td>\n",
       "      <td>3</td>\n",
       "      <td>Alabama</td>\n",
       "      <td>Baldwin County</td>\n",
       "      <td>182265</td>\n",
       "      <td>182265</td>\n",
       "      <td>183193</td>\n",
       "      <td>...</td>\n",
       "      <td>14.832960</td>\n",
       "      <td>17.647293</td>\n",
       "      <td>21.845705</td>\n",
       "      <td>19.243287</td>\n",
       "      <td>17.197872</td>\n",
       "      <td>15.844176</td>\n",
       "      <td>18.559627</td>\n",
       "      <td>22.727626</td>\n",
       "      <td>20.317142</td>\n",
       "      <td>18.293499</td>\n",
       "    </tr>\n",
       "    <tr>\n",
       "      <th>3</th>\n",
       "      <td>50</td>\n",
       "      <td>3</td>\n",
       "      <td>6</td>\n",
       "      <td>1</td>\n",
       "      <td>5</td>\n",
       "      <td>Alabama</td>\n",
       "      <td>Barbour County</td>\n",
       "      <td>27457</td>\n",
       "      <td>27457</td>\n",
       "      <td>27341</td>\n",
       "      <td>...</td>\n",
       "      <td>-4.728132</td>\n",
       "      <td>-2.500690</td>\n",
       "      <td>-7.056824</td>\n",
       "      <td>-3.904217</td>\n",
       "      <td>-10.543299</td>\n",
       "      <td>-4.874741</td>\n",
       "      <td>-2.758113</td>\n",
       "      <td>-7.167664</td>\n",
       "      <td>-3.978583</td>\n",
       "      <td>-10.543299</td>\n",
       "    </tr>\n",
       "    <tr>\n",
       "      <th>4</th>\n",
       "      <td>50</td>\n",
       "      <td>3</td>\n",
       "      <td>6</td>\n",
       "      <td>1</td>\n",
       "      <td>7</td>\n",
       "      <td>Alabama</td>\n",
       "      <td>Bibb County</td>\n",
       "      <td>22915</td>\n",
       "      <td>22919</td>\n",
       "      <td>22861</td>\n",
       "      <td>...</td>\n",
       "      <td>-5.527043</td>\n",
       "      <td>-5.068871</td>\n",
       "      <td>-6.201001</td>\n",
       "      <td>-0.177537</td>\n",
       "      <td>0.177258</td>\n",
       "      <td>-5.088389</td>\n",
       "      <td>-4.363636</td>\n",
       "      <td>-5.403729</td>\n",
       "      <td>0.754533</td>\n",
       "      <td>1.107861</td>\n",
       "    </tr>\n",
       "    <tr>\n",
       "      <th>5</th>\n",
       "      <td>50</td>\n",
       "      <td>3</td>\n",
       "      <td>6</td>\n",
       "      <td>1</td>\n",
       "      <td>9</td>\n",
       "      <td>Alabama</td>\n",
       "      <td>Blount County</td>\n",
       "      <td>57322</td>\n",
       "      <td>57322</td>\n",
       "      <td>57373</td>\n",
       "      <td>...</td>\n",
       "      <td>1.807375</td>\n",
       "      <td>-1.177622</td>\n",
       "      <td>-1.748766</td>\n",
       "      <td>-2.062535</td>\n",
       "      <td>-1.369970</td>\n",
       "      <td>1.859511</td>\n",
       "      <td>-0.848580</td>\n",
       "      <td>-1.402476</td>\n",
       "      <td>-1.577232</td>\n",
       "      <td>-0.884411</td>\n",
       "    </tr>\n",
       "  </tbody>\n",
       "</table>\n",
       "<p>5 rows × 100 columns</p>\n",
       "</div>"
      ],
      "text/plain": [
       "   SUMLEV  REGION  DIVISION  STATE  COUNTY   STNAME         CTYNAME  \\\n",
       "1      50       3         6      1       1  Alabama  Autauga County   \n",
       "2      50       3         6      1       3  Alabama  Baldwin County   \n",
       "3      50       3         6      1       5  Alabama  Barbour County   \n",
       "4      50       3         6      1       7  Alabama     Bibb County   \n",
       "5      50       3         6      1       9  Alabama   Blount County   \n",
       "\n",
       "   CENSUS2010POP  ESTIMATESBASE2010  POPESTIMATE2010  ...  RDOMESTICMIG2011  \\\n",
       "1          54571              54571            54660  ...          7.242091   \n",
       "2         182265             182265           183193  ...         14.832960   \n",
       "3          27457              27457            27341  ...         -4.728132   \n",
       "4          22915              22919            22861  ...         -5.527043   \n",
       "5          57322              57322            57373  ...          1.807375   \n",
       "\n",
       "   RDOMESTICMIG2012  RDOMESTICMIG2013  RDOMESTICMIG2014  RDOMESTICMIG2015  \\\n",
       "1         -2.915927         -3.012349          2.265971         -2.530799   \n",
       "2         17.647293         21.845705         19.243287         17.197872   \n",
       "3         -2.500690         -7.056824         -3.904217        -10.543299   \n",
       "4         -5.068871         -6.201001         -0.177537          0.177258   \n",
       "5         -1.177622         -1.748766         -2.062535         -1.369970   \n",
       "\n",
       "   RNETMIG2011  RNETMIG2012  RNETMIG2013  RNETMIG2014  RNETMIG2015  \n",
       "1     7.606016    -2.626146    -2.722002     2.592270    -2.187333  \n",
       "2    15.844176    18.559627    22.727626    20.317142    18.293499  \n",
       "3    -4.874741    -2.758113    -7.167664    -3.978583   -10.543299  \n",
       "4    -5.088389    -4.363636    -5.403729     0.754533     1.107861  \n",
       "5     1.859511    -0.848580    -1.402476    -1.577232    -0.884411  \n",
       "\n",
       "[5 rows x 100 columns]"
      ]
     },
     "execution_count": 237,
     "metadata": {},
     "output_type": "execute_result"
    }
   ],
   "source": [
    "df = pd.read_csv('../Datasets/census.csv')\n",
    "df = df[df['SUMLEV']==50]\n",
    "\n",
    "df.head()"
   ]
  },
  {
   "cell_type": "code",
   "execution_count": 239,
   "metadata": {},
   "outputs": [
    {
     "name": "stdout",
     "output_type": "stream",
     "text": [
      "Countries in the state Alabama has            the average population of 71339.34328358209\n",
      "Countries in the state Alaska has            the average population of 24490.724137931036\n",
      "Countries in the state Arizona has            the average population of 426134.4666666667\n",
      "Countries in the state Arkansas has            the average population of 38878.90666666667\n",
      "Countries in the state California has            the average population of 642309.5862068966\n",
      "Countries in the state Colorado has            the average population of 78581.1875\n",
      "Countries in the state Connecticut has            the average population of 446762.125\n",
      "Countries in the state Delaware has            the average population of 299311.3333333333\n",
      "Countries in the state District of Columbia has            the average population of 601723.0\n",
      "Countries in the state Florida has            the average population of 280616.5671641791\n",
      "Countries in the state Georgia has            the average population of 60928.63522012578\n",
      "Countries in the state Hawaii has            the average population of 272060.2\n",
      "Countries in the state Idaho has            the average population of 35626.86363636364\n",
      "Countries in the state Illinois has            the average population of 125790.50980392157\n",
      "Countries in the state Indiana has            the average population of 70476.10869565218\n",
      "Countries in the state Iowa has            the average population of 30771.262626262625\n",
      "Countries in the state Kansas has            the average population of 27172.55238095238\n",
      "Countries in the state Kentucky has            the average population of 36161.39166666667\n",
      "Countries in the state Louisiana has            the average population of 70833.9375\n",
      "Countries in the state Maine has            the average population of 83022.5625\n",
      "Countries in the state Maryland has            the average population of 240564.66666666666\n",
      "Countries in the state Massachusetts has            the average population of 467687.78571428574\n",
      "Countries in the state Michigan has            the average population of 119080.0\n",
      "Countries in the state Minnesota has            the average population of 60964.65517241379\n",
      "Countries in the state Mississippi has            the average population of 36186.54878048781\n",
      "Countries in the state Missouri has            the average population of 52077.62608695652\n",
      "Countries in the state Montana has            the average population of 17668.125\n",
      "Countries in the state Nebraska has            the average population of 19638.075268817203\n",
      "Countries in the state Nevada has            the average population of 158855.9411764706\n",
      "Countries in the state New Hampshire has            the average population of 131647.0\n",
      "Countries in the state New Jersey has            the average population of 418661.61904761905\n",
      "Countries in the state New Mexico has            the average population of 62399.36363636364\n",
      "Countries in the state New York has            the average population of 312550.03225806454\n",
      "Countries in the state North Carolina has            the average population of 95354.83\n",
      "Countries in the state North Dakota has            the average population of 12690.396226415094\n",
      "Countries in the state Ohio has            the average population of 131096.63636363635\n",
      "Countries in the state Oklahoma has            the average population of 48718.844155844155\n",
      "Countries in the state Oregon has            the average population of 106418.72222222222\n",
      "Countries in the state Pennsylvania has            the average population of 189587.74626865672\n",
      "Countries in the state Rhode Island has            the average population of 210513.4\n",
      "Countries in the state South Carolina has            the average population of 100551.39130434782\n",
      "Countries in the state South Dakota has            the average population of 12336.060606060606\n",
      "Countries in the state Tennessee has            the average population of 66801.1052631579\n",
      "Countries in the state Texas has            the average population of 98998.27165354331\n",
      "Countries in the state Utah has            the average population of 95306.37931034483\n",
      "Countries in the state Vermont has            the average population of 44695.78571428572\n",
      "Countries in the state Virginia has            the average population of 60111.29323308271\n",
      "Countries in the state Washington has            the average population of 172424.10256410256\n",
      "Countries in the state West Virginia has            the average population of 33690.8\n",
      "Countries in the state Wisconsin has            the average population of 78985.91666666667\n",
      "Countries in the state Wyoming has            the average population of 24505.478260869564\n",
      "Countries in the state Alabama has            the average population of 71339.34328358209\n",
      "Countries in the state Alaska has            the average population of 24490.724137931036\n",
      "Countries in the state Arizona has            the average population of 426134.4666666667\n",
      "Countries in the state Arkansas has            the average population of 38878.90666666667\n",
      "Countries in the state California has            the average population of 642309.5862068966\n",
      "Countries in the state Colorado has            the average population of 78581.1875\n",
      "Countries in the state Connecticut has            the average population of 446762.125\n",
      "Countries in the state Delaware has            the average population of 299311.3333333333\n",
      "Countries in the state District of Columbia has            the average population of 601723.0\n",
      "Countries in the state Florida has            the average population of 280616.5671641791\n",
      "Countries in the state Georgia has            the average population of 60928.63522012578\n",
      "Countries in the state Hawaii has            the average population of 272060.2\n",
      "Countries in the state Idaho has            the average population of 35626.86363636364\n",
      "Countries in the state Illinois has            the average population of 125790.50980392157\n",
      "Countries in the state Indiana has            the average population of 70476.10869565218\n",
      "Countries in the state Iowa has            the average population of 30771.262626262625\n",
      "Countries in the state Kansas has            the average population of 27172.55238095238\n",
      "Countries in the state Kentucky has            the average population of 36161.39166666667\n",
      "Countries in the state Louisiana has            the average population of 70833.9375\n",
      "Countries in the state Maine has            the average population of 83022.5625\n",
      "Countries in the state Maryland has            the average population of 240564.66666666666\n",
      "Countries in the state Massachusetts has            the average population of 467687.78571428574\n",
      "Countries in the state Michigan has            the average population of 119080.0\n",
      "Countries in the state Minnesota has            the average population of 60964.65517241379\n",
      "Countries in the state Mississippi has            the average population of 36186.54878048781\n",
      "Countries in the state Missouri has            the average population of 52077.62608695652\n",
      "Countries in the state Montana has            the average population of 17668.125\n",
      "Countries in the state Nebraska has            the average population of 19638.075268817203\n",
      "Countries in the state Nevada has            the average population of 158855.9411764706\n",
      "Countries in the state New Hampshire has            the average population of 131647.0\n",
      "Countries in the state New Jersey has            the average population of 418661.61904761905\n",
      "Countries in the state New Mexico has            the average population of 62399.36363636364\n",
      "Countries in the state New York has            the average population of 312550.03225806454\n",
      "Countries in the state North Carolina has            the average population of 95354.83\n",
      "Countries in the state North Dakota has            the average population of 12690.396226415094\n",
      "Countries in the state Ohio has            the average population of 131096.63636363635\n",
      "Countries in the state Oklahoma has            the average population of 48718.844155844155\n",
      "Countries in the state Oregon has            the average population of 106418.72222222222\n",
      "Countries in the state Pennsylvania has            the average population of 189587.74626865672\n",
      "Countries in the state Rhode Island has            the average population of 210513.4\n",
      "Countries in the state South Carolina has            the average population of 100551.39130434782\n",
      "Countries in the state South Dakota has            the average population of 12336.060606060606\n",
      "Countries in the state Tennessee has            the average population of 66801.1052631579\n",
      "Countries in the state Texas has            the average population of 98998.27165354331\n",
      "Countries in the state Utah has            the average population of 95306.37931034483\n",
      "Countries in the state Vermont has            the average population of 44695.78571428572\n",
      "Countries in the state Virginia has            the average population of 60111.29323308271\n",
      "Countries in the state Washington has            the average population of 172424.10256410256\n",
      "Countries in the state West Virginia has            the average population of 33690.8\n",
      "Countries in the state Wisconsin has            the average population of 78985.91666666667\n",
      "Countries in the state Wyoming has            the average population of 24505.478260869564\n",
      "Countries in the state Alabama has            the average population of 71339.34328358209\n",
      "Countries in the state Alaska has            the average population of 24490.724137931036\n",
      "Countries in the state Arizona has            the average population of 426134.4666666667\n",
      "Countries in the state Arkansas has            the average population of 38878.90666666667\n",
      "Countries in the state California has            the average population of 642309.5862068966\n",
      "Countries in the state Colorado has            the average population of 78581.1875\n",
      "Countries in the state Connecticut has            the average population of 446762.125\n",
      "Countries in the state Delaware has            the average population of 299311.3333333333\n",
      "Countries in the state District of Columbia has            the average population of 601723.0\n",
      "Countries in the state Florida has            the average population of 280616.5671641791\n",
      "Countries in the state Georgia has            the average population of 60928.63522012578\n",
      "Countries in the state Hawaii has            the average population of 272060.2\n",
      "Countries in the state Idaho has            the average population of 35626.86363636364\n",
      "Countries in the state Illinois has            the average population of 125790.50980392157\n",
      "Countries in the state Indiana has            the average population of 70476.10869565218\n",
      "Countries in the state Iowa has            the average population of 30771.262626262625\n",
      "Countries in the state Kansas has            the average population of 27172.55238095238\n",
      "Countries in the state Kentucky has            the average population of 36161.39166666667\n",
      "Countries in the state Louisiana has            the average population of 70833.9375\n",
      "Countries in the state Maine has            the average population of 83022.5625\n",
      "Countries in the state Maryland has            the average population of 240564.66666666666\n",
      "Countries in the state Massachusetts has            the average population of 467687.78571428574\n",
      "Countries in the state Michigan has            the average population of 119080.0\n",
      "Countries in the state Minnesota has            the average population of 60964.65517241379\n",
      "Countries in the state Mississippi has            the average population of 36186.54878048781\n",
      "Countries in the state Missouri has            the average population of 52077.62608695652\n",
      "Countries in the state Montana has            the average population of 17668.125\n",
      "Countries in the state Nebraska has            the average population of 19638.075268817203\n",
      "Countries in the state Nevada has            the average population of 158855.9411764706\n",
      "Countries in the state New Hampshire has            the average population of 131647.0\n",
      "Countries in the state New Jersey has            the average population of 418661.61904761905\n",
      "Countries in the state New Mexico has            the average population of 62399.36363636364\n",
      "Countries in the state New York has            the average population of 312550.03225806454\n",
      "Countries in the state North Carolina has            the average population of 95354.83\n",
      "Countries in the state North Dakota has            the average population of 12690.396226415094\n",
      "Countries in the state Ohio has            the average population of 131096.63636363635\n",
      "Countries in the state Oklahoma has            the average population of 48718.844155844155\n",
      "Countries in the state Oregon has            the average population of 106418.72222222222\n",
      "Countries in the state Pennsylvania has            the average population of 189587.74626865672\n",
      "Countries in the state Rhode Island has            the average population of 210513.4\n",
      "Countries in the state South Carolina has            the average population of 100551.39130434782\n",
      "Countries in the state South Dakota has            the average population of 12336.060606060606\n",
      "Countries in the state Tennessee has            the average population of 66801.1052631579\n",
      "Countries in the state Texas has            the average population of 98998.27165354331\n",
      "Countries in the state Utah has            the average population of 95306.37931034483\n",
      "Countries in the state Vermont has            the average population of 44695.78571428572\n",
      "Countries in the state Virginia has            the average population of 60111.29323308271\n",
      "Countries in the state Washington has            the average population of 172424.10256410256\n",
      "Countries in the state West Virginia has            the average population of 33690.8\n",
      "Countries in the state Wisconsin has            the average population of 78985.91666666667\n",
      "Countries in the state Wyoming has            the average population of 24505.478260869564\n",
      "Countries in the state Alabama has            the average population of 71339.34328358209\n",
      "Countries in the state Alaska has            the average population of 24490.724137931036\n",
      "Countries in the state Arizona has            the average population of 426134.4666666667\n",
      "Countries in the state Arkansas has            the average population of 38878.90666666667\n",
      "Countries in the state California has            the average population of 642309.5862068966\n",
      "Countries in the state Colorado has            the average population of 78581.1875\n",
      "Countries in the state Connecticut has            the average population of 446762.125\n",
      "Countries in the state Delaware has            the average population of 299311.3333333333\n",
      "Countries in the state District of Columbia has            the average population of 601723.0\n",
      "Countries in the state Florida has            the average population of 280616.5671641791\n",
      "Countries in the state Georgia has            the average population of 60928.63522012578\n",
      "Countries in the state Hawaii has            the average population of 272060.2\n",
      "Countries in the state Idaho has            the average population of 35626.86363636364\n",
      "Countries in the state Illinois has            the average population of 125790.50980392157\n",
      "Countries in the state Indiana has            the average population of 70476.10869565218\n",
      "Countries in the state Iowa has            the average population of 30771.262626262625\n",
      "Countries in the state Kansas has            the average population of 27172.55238095238\n",
      "Countries in the state Kentucky has            the average population of 36161.39166666667\n",
      "Countries in the state Louisiana has            the average population of 70833.9375\n",
      "Countries in the state Maine has            the average population of 83022.5625\n",
      "Countries in the state Maryland has            the average population of 240564.66666666666\n",
      "Countries in the state Massachusetts has            the average population of 467687.78571428574\n",
      "Countries in the state Michigan has            the average population of 119080.0\n",
      "Countries in the state Minnesota has            the average population of 60964.65517241379\n",
      "Countries in the state Mississippi has            the average population of 36186.54878048781\n",
      "Countries in the state Missouri has            the average population of 52077.62608695652\n",
      "Countries in the state Montana has            the average population of 17668.125\n",
      "Countries in the state Nebraska has            the average population of 19638.075268817203\n",
      "Countries in the state Nevada has            the average population of 158855.9411764706\n",
      "Countries in the state New Hampshire has            the average population of 131647.0\n",
      "Countries in the state New Jersey has            the average population of 418661.61904761905\n",
      "Countries in the state New Mexico has            the average population of 62399.36363636364\n",
      "Countries in the state New York has            the average population of 312550.03225806454\n",
      "Countries in the state North Carolina has            the average population of 95354.83\n",
      "Countries in the state North Dakota has            the average population of 12690.396226415094\n",
      "Countries in the state Ohio has            the average population of 131096.63636363635\n",
      "Countries in the state Oklahoma has            the average population of 48718.844155844155\n",
      "Countries in the state Oregon has            the average population of 106418.72222222222\n",
      "Countries in the state Pennsylvania has            the average population of 189587.74626865672\n",
      "Countries in the state Rhode Island has            the average population of 210513.4\n",
      "Countries in the state South Carolina has            the average population of 100551.39130434782\n",
      "Countries in the state South Dakota has            the average population of 12336.060606060606\n",
      "Countries in the state Tennessee has            the average population of 66801.1052631579\n",
      "Countries in the state Texas has            the average population of 98998.27165354331\n",
      "Countries in the state Utah has            the average population of 95306.37931034483\n",
      "Countries in the state Vermont has            the average population of 44695.78571428572\n",
      "Countries in the state Virginia has            the average population of 60111.29323308271\n",
      "Countries in the state Washington has            the average population of 172424.10256410256\n",
      "Countries in the state West Virginia has            the average population of 33690.8\n",
      "Countries in the state Wisconsin has            the average population of 78985.91666666667\n",
      "Countries in the state Wyoming has            the average population of 24505.478260869564\n",
      "Countries in the state Alabama has            the average population of 71339.34328358209\n",
      "Countries in the state Alaska has            the average population of 24490.724137931036\n",
      "Countries in the state Arizona has            the average population of 426134.4666666667\n",
      "Countries in the state Arkansas has            the average population of 38878.90666666667\n",
      "Countries in the state California has            the average population of 642309.5862068966\n",
      "Countries in the state Colorado has            the average population of 78581.1875\n",
      "Countries in the state Connecticut has            the average population of 446762.125\n",
      "Countries in the state Delaware has            the average population of 299311.3333333333\n",
      "Countries in the state District of Columbia has            the average population of 601723.0\n",
      "Countries in the state Florida has            the average population of 280616.5671641791\n",
      "Countries in the state Georgia has            the average population of 60928.63522012578\n",
      "Countries in the state Hawaii has            the average population of 272060.2\n",
      "Countries in the state Idaho has            the average population of 35626.86363636364\n",
      "Countries in the state Illinois has            the average population of 125790.50980392157\n",
      "Countries in the state Indiana has            the average population of 70476.10869565218\n",
      "Countries in the state Iowa has            the average population of 30771.262626262625\n",
      "Countries in the state Kansas has            the average population of 27172.55238095238\n",
      "Countries in the state Kentucky has            the average population of 36161.39166666667\n",
      "Countries in the state Louisiana has            the average population of 70833.9375\n",
      "Countries in the state Maine has            the average population of 83022.5625\n",
      "Countries in the state Maryland has            the average population of 240564.66666666666\n",
      "Countries in the state Massachusetts has            the average population of 467687.78571428574\n",
      "Countries in the state Michigan has            the average population of 119080.0\n",
      "Countries in the state Minnesota has            the average population of 60964.65517241379\n",
      "Countries in the state Mississippi has            the average population of 36186.54878048781\n",
      "Countries in the state Missouri has            the average population of 52077.62608695652\n",
      "Countries in the state Montana has            the average population of 17668.125\n",
      "Countries in the state Nebraska has            the average population of 19638.075268817203\n",
      "Countries in the state Nevada has            the average population of 158855.9411764706\n",
      "Countries in the state New Hampshire has            the average population of 131647.0\n",
      "Countries in the state New Jersey has            the average population of 418661.61904761905\n",
      "Countries in the state New Mexico has            the average population of 62399.36363636364\n",
      "Countries in the state New York has            the average population of 312550.03225806454\n",
      "Countries in the state North Carolina has            the average population of 95354.83\n",
      "Countries in the state North Dakota has            the average population of 12690.396226415094\n",
      "Countries in the state Ohio has            the average population of 131096.63636363635\n",
      "Countries in the state Oklahoma has            the average population of 48718.844155844155\n",
      "Countries in the state Oregon has            the average population of 106418.72222222222\n",
      "Countries in the state Pennsylvania has            the average population of 189587.74626865672\n",
      "Countries in the state Rhode Island has            the average population of 210513.4\n",
      "Countries in the state South Carolina has            the average population of 100551.39130434782\n",
      "Countries in the state South Dakota has            the average population of 12336.060606060606\n",
      "Countries in the state Tennessee has            the average population of 66801.1052631579\n",
      "Countries in the state Texas has            the average population of 98998.27165354331\n",
      "Countries in the state Utah has            the average population of 95306.37931034483\n",
      "Countries in the state Vermont has            the average population of 44695.78571428572\n",
      "Countries in the state Virginia has            the average population of 60111.29323308271\n",
      "Countries in the state Washington has            the average population of 172424.10256410256\n",
      "Countries in the state West Virginia has            the average population of 33690.8\n",
      "Countries in the state Wisconsin has            the average population of 78985.91666666667\n",
      "Countries in the state Wyoming has            the average population of 24505.478260869564\n",
      "Countries in the state Alabama has            the average population of 71339.34328358209\n",
      "Countries in the state Alaska has            the average population of 24490.724137931036\n",
      "Countries in the state Arizona has            the average population of 426134.4666666667\n",
      "Countries in the state Arkansas has            the average population of 38878.90666666667\n",
      "Countries in the state California has            the average population of 642309.5862068966\n",
      "Countries in the state Colorado has            the average population of 78581.1875\n",
      "Countries in the state Connecticut has            the average population of 446762.125\n",
      "Countries in the state Delaware has            the average population of 299311.3333333333\n",
      "Countries in the state District of Columbia has            the average population of 601723.0\n",
      "Countries in the state Florida has            the average population of 280616.5671641791\n",
      "Countries in the state Georgia has            the average population of 60928.63522012578\n",
      "Countries in the state Hawaii has            the average population of 272060.2\n",
      "Countries in the state Idaho has            the average population of 35626.86363636364\n",
      "Countries in the state Illinois has            the average population of 125790.50980392157\n",
      "Countries in the state Indiana has            the average population of 70476.10869565218\n",
      "Countries in the state Iowa has            the average population of 30771.262626262625\n",
      "Countries in the state Kansas has            the average population of 27172.55238095238\n",
      "Countries in the state Kentucky has            the average population of 36161.39166666667\n",
      "Countries in the state Louisiana has            the average population of 70833.9375\n",
      "Countries in the state Maine has            the average population of 83022.5625\n",
      "Countries in the state Maryland has            the average population of 240564.66666666666\n",
      "Countries in the state Massachusetts has            the average population of 467687.78571428574\n",
      "Countries in the state Michigan has            the average population of 119080.0\n",
      "Countries in the state Minnesota has            the average population of 60964.65517241379\n",
      "Countries in the state Mississippi has            the average population of 36186.54878048781\n",
      "Countries in the state Missouri has            the average population of 52077.62608695652\n",
      "Countries in the state Montana has            the average population of 17668.125\n",
      "Countries in the state Nebraska has            the average population of 19638.075268817203\n",
      "Countries in the state Nevada has            the average population of 158855.9411764706\n",
      "Countries in the state New Hampshire has            the average population of 131647.0\n",
      "Countries in the state New Jersey has            the average population of 418661.61904761905\n",
      "Countries in the state New Mexico has            the average population of 62399.36363636364\n",
      "Countries in the state New York has            the average population of 312550.03225806454\n",
      "Countries in the state North Carolina has            the average population of 95354.83\n",
      "Countries in the state North Dakota has            the average population of 12690.396226415094\n",
      "Countries in the state Ohio has            the average population of 131096.63636363635\n",
      "Countries in the state Oklahoma has            the average population of 48718.844155844155\n",
      "Countries in the state Oregon has            the average population of 106418.72222222222\n",
      "Countries in the state Pennsylvania has            the average population of 189587.74626865672\n",
      "Countries in the state Rhode Island has            the average population of 210513.4\n",
      "Countries in the state South Carolina has            the average population of 100551.39130434782\n",
      "Countries in the state South Dakota has            the average population of 12336.060606060606\n",
      "Countries in the state Tennessee has            the average population of 66801.1052631579\n",
      "Countries in the state Texas has            the average population of 98998.27165354331\n",
      "Countries in the state Utah has            the average population of 95306.37931034483\n",
      "Countries in the state Vermont has            the average population of 44695.78571428572\n",
      "Countries in the state Virginia has            the average population of 60111.29323308271\n",
      "Countries in the state Washington has            the average population of 172424.10256410256\n",
      "Countries in the state West Virginia has            the average population of 33690.8\n",
      "Countries in the state Wisconsin has            the average population of 78985.91666666667\n",
      "Countries in the state Wyoming has            the average population of 24505.478260869564\n",
      "Countries in the state Alabama has            the average population of 71339.34328358209\n",
      "Countries in the state Alaska has            the average population of 24490.724137931036\n",
      "Countries in the state Arizona has            the average population of 426134.4666666667\n",
      "Countries in the state Arkansas has            the average population of 38878.90666666667\n",
      "Countries in the state California has            the average population of 642309.5862068966\n",
      "Countries in the state Colorado has            the average population of 78581.1875\n",
      "Countries in the state Connecticut has            the average population of 446762.125\n",
      "Countries in the state Delaware has            the average population of 299311.3333333333\n",
      "Countries in the state District of Columbia has            the average population of 601723.0\n",
      "Countries in the state Florida has            the average population of 280616.5671641791\n",
      "Countries in the state Georgia has            the average population of 60928.63522012578\n",
      "Countries in the state Hawaii has            the average population of 272060.2\n",
      "Countries in the state Idaho has            the average population of 35626.86363636364\n",
      "Countries in the state Illinois has            the average population of 125790.50980392157\n",
      "Countries in the state Indiana has            the average population of 70476.10869565218\n",
      "Countries in the state Iowa has            the average population of 30771.262626262625\n",
      "Countries in the state Kansas has            the average population of 27172.55238095238\n",
      "Countries in the state Kentucky has            the average population of 36161.39166666667\n",
      "Countries in the state Louisiana has            the average population of 70833.9375\n",
      "Countries in the state Maine has            the average population of 83022.5625\n",
      "Countries in the state Maryland has            the average population of 240564.66666666666\n",
      "Countries in the state Massachusetts has            the average population of 467687.78571428574\n",
      "Countries in the state Michigan has            the average population of 119080.0\n",
      "Countries in the state Minnesota has            the average population of 60964.65517241379\n",
      "Countries in the state Mississippi has            the average population of 36186.54878048781\n",
      "Countries in the state Missouri has            the average population of 52077.62608695652\n",
      "Countries in the state Montana has            the average population of 17668.125\n",
      "Countries in the state Nebraska has            the average population of 19638.075268817203\n",
      "Countries in the state Nevada has            the average population of 158855.9411764706\n",
      "Countries in the state New Hampshire has            the average population of 131647.0\n",
      "Countries in the state New Jersey has            the average population of 418661.61904761905\n",
      "Countries in the state New Mexico has            the average population of 62399.36363636364\n",
      "Countries in the state New York has            the average population of 312550.03225806454\n",
      "Countries in the state North Carolina has            the average population of 95354.83\n",
      "Countries in the state North Dakota has            the average population of 12690.396226415094\n",
      "Countries in the state Ohio has            the average population of 131096.63636363635\n",
      "Countries in the state Oklahoma has            the average population of 48718.844155844155\n",
      "Countries in the state Oregon has            the average population of 106418.72222222222\n",
      "Countries in the state Pennsylvania has            the average population of 189587.74626865672\n",
      "Countries in the state Rhode Island has            the average population of 210513.4\n",
      "Countries in the state South Carolina has            the average population of 100551.39130434782\n",
      "Countries in the state South Dakota has            the average population of 12336.060606060606\n",
      "Countries in the state Tennessee has            the average population of 66801.1052631579\n",
      "Countries in the state Texas has            the average population of 98998.27165354331\n",
      "Countries in the state Utah has            the average population of 95306.37931034483\n",
      "Countries in the state Vermont has            the average population of 44695.78571428572\n",
      "Countries in the state Virginia has            the average population of 60111.29323308271\n",
      "Countries in the state Washington has            the average population of 172424.10256410256\n",
      "Countries in the state West Virginia has            the average population of 33690.8\n",
      "Countries in the state Wisconsin has            the average population of 78985.91666666667\n",
      "Countries in the state Wyoming has            the average population of 24505.478260869564\n",
      "Countries in the state Alabama has            the average population of 71339.34328358209\n",
      "Countries in the state Alaska has            the average population of 24490.724137931036\n",
      "Countries in the state Arizona has            the average population of 426134.4666666667\n",
      "Countries in the state Arkansas has            the average population of 38878.90666666667\n",
      "Countries in the state California has            the average population of 642309.5862068966\n",
      "Countries in the state Colorado has            the average population of 78581.1875\n",
      "Countries in the state Connecticut has            the average population of 446762.125\n",
      "Countries in the state Delaware has            the average population of 299311.3333333333\n",
      "Countries in the state District of Columbia has            the average population of 601723.0\n",
      "Countries in the state Florida has            the average population of 280616.5671641791\n",
      "Countries in the state Georgia has            the average population of 60928.63522012578\n",
      "Countries in the state Hawaii has            the average population of 272060.2\n",
      "Countries in the state Idaho has            the average population of 35626.86363636364\n",
      "Countries in the state Illinois has            the average population of 125790.50980392157\n",
      "Countries in the state Indiana has            the average population of 70476.10869565218\n",
      "Countries in the state Iowa has            the average population of 30771.262626262625\n",
      "Countries in the state Kansas has            the average population of 27172.55238095238\n",
      "Countries in the state Kentucky has            the average population of 36161.39166666667\n",
      "Countries in the state Louisiana has            the average population of 70833.9375\n",
      "Countries in the state Maine has            the average population of 83022.5625\n",
      "Countries in the state Maryland has            the average population of 240564.66666666666\n",
      "Countries in the state Massachusetts has            the average population of 467687.78571428574\n",
      "Countries in the state Michigan has            the average population of 119080.0\n",
      "Countries in the state Minnesota has            the average population of 60964.65517241379\n",
      "Countries in the state Mississippi has            the average population of 36186.54878048781\n",
      "Countries in the state Missouri has            the average population of 52077.62608695652\n",
      "Countries in the state Montana has            the average population of 17668.125\n",
      "Countries in the state Nebraska has            the average population of 19638.075268817203\n",
      "Countries in the state Nevada has            the average population of 158855.9411764706\n",
      "Countries in the state New Hampshire has            the average population of 131647.0\n",
      "Countries in the state New Jersey has            the average population of 418661.61904761905\n",
      "Countries in the state New Mexico has            the average population of 62399.36363636364\n",
      "Countries in the state New York has            the average population of 312550.03225806454\n",
      "Countries in the state North Carolina has            the average population of 95354.83\n",
      "Countries in the state North Dakota has            the average population of 12690.396226415094\n",
      "Countries in the state Ohio has            the average population of 131096.63636363635\n",
      "Countries in the state Oklahoma has            the average population of 48718.844155844155\n",
      "Countries in the state Oregon has            the average population of 106418.72222222222\n",
      "Countries in the state Pennsylvania has            the average population of 189587.74626865672\n",
      "Countries in the state Rhode Island has            the average population of 210513.4\n",
      "Countries in the state South Carolina has            the average population of 100551.39130434782\n",
      "Countries in the state South Dakota has            the average population of 12336.060606060606\n",
      "Countries in the state Tennessee has            the average population of 66801.1052631579\n",
      "Countries in the state Texas has            the average population of 98998.27165354331\n",
      "Countries in the state Utah has            the average population of 95306.37931034483\n",
      "Countries in the state Vermont has            the average population of 44695.78571428572\n",
      "Countries in the state Virginia has            the average population of 60111.29323308271\n",
      "Countries in the state Washington has            the average population of 172424.10256410256\n",
      "Countries in the state West Virginia has            the average population of 33690.8\n",
      "Countries in the state Wisconsin has            the average population of 78985.91666666667\n",
      "Countries in the state Wyoming has            the average population of 24505.478260869564\n",
      "Countries in the state Alabama has            the average population of 71339.34328358209\n",
      "Countries in the state Alaska has            the average population of 24490.724137931036\n",
      "Countries in the state Arizona has            the average population of 426134.4666666667\n",
      "Countries in the state Arkansas has            the average population of 38878.90666666667\n",
      "Countries in the state California has            the average population of 642309.5862068966\n",
      "Countries in the state Colorado has            the average population of 78581.1875\n",
      "Countries in the state Connecticut has            the average population of 446762.125\n",
      "Countries in the state Delaware has            the average population of 299311.3333333333\n",
      "Countries in the state District of Columbia has            the average population of 601723.0\n",
      "Countries in the state Florida has            the average population of 280616.5671641791\n",
      "Countries in the state Georgia has            the average population of 60928.63522012578\n",
      "Countries in the state Hawaii has            the average population of 272060.2\n",
      "Countries in the state Idaho has            the average population of 35626.86363636364\n",
      "Countries in the state Illinois has            the average population of 125790.50980392157\n",
      "Countries in the state Indiana has            the average population of 70476.10869565218\n",
      "Countries in the state Iowa has            the average population of 30771.262626262625\n",
      "Countries in the state Kansas has            the average population of 27172.55238095238\n",
      "Countries in the state Kentucky has            the average population of 36161.39166666667\n",
      "Countries in the state Louisiana has            the average population of 70833.9375\n",
      "Countries in the state Maine has            the average population of 83022.5625\n",
      "Countries in the state Maryland has            the average population of 240564.66666666666\n",
      "Countries in the state Massachusetts has            the average population of 467687.78571428574\n",
      "Countries in the state Michigan has            the average population of 119080.0\n",
      "Countries in the state Minnesota has            the average population of 60964.65517241379\n",
      "Countries in the state Mississippi has            the average population of 36186.54878048781\n",
      "Countries in the state Missouri has            the average population of 52077.62608695652\n",
      "Countries in the state Montana has            the average population of 17668.125\n",
      "Countries in the state Nebraska has            the average population of 19638.075268817203\n",
      "Countries in the state Nevada has            the average population of 158855.9411764706\n",
      "Countries in the state New Hampshire has            the average population of 131647.0\n",
      "Countries in the state New Jersey has            the average population of 418661.61904761905\n",
      "Countries in the state New Mexico has            the average population of 62399.36363636364\n",
      "Countries in the state New York has            the average population of 312550.03225806454\n",
      "Countries in the state North Carolina has            the average population of 95354.83\n",
      "Countries in the state North Dakota has            the average population of 12690.396226415094\n",
      "Countries in the state Ohio has            the average population of 131096.63636363635\n",
      "Countries in the state Oklahoma has            the average population of 48718.844155844155\n",
      "Countries in the state Oregon has            the average population of 106418.72222222222\n",
      "Countries in the state Pennsylvania has            the average population of 189587.74626865672\n",
      "Countries in the state Rhode Island has            the average population of 210513.4\n",
      "Countries in the state South Carolina has            the average population of 100551.39130434782\n",
      "Countries in the state South Dakota has            the average population of 12336.060606060606\n",
      "Countries in the state Tennessee has            the average population of 66801.1052631579\n",
      "Countries in the state Texas has            the average population of 98998.27165354331\n",
      "Countries in the state Utah has            the average population of 95306.37931034483\n",
      "Countries in the state Vermont has            the average population of 44695.78571428572\n",
      "Countries in the state Virginia has            the average population of 60111.29323308271\n",
      "Countries in the state Washington has            the average population of 172424.10256410256\n",
      "Countries in the state West Virginia has            the average population of 33690.8\n",
      "Countries in the state Wisconsin has            the average population of 78985.91666666667\n",
      "Countries in the state Wyoming has            the average population of 24505.478260869564\n",
      "Countries in the state Alabama has            the average population of 71339.34328358209\n",
      "Countries in the state Alaska has            the average population of 24490.724137931036\n",
      "Countries in the state Arizona has            the average population of 426134.4666666667\n",
      "Countries in the state Arkansas has            the average population of 38878.90666666667\n",
      "Countries in the state California has            the average population of 642309.5862068966\n",
      "Countries in the state Colorado has            the average population of 78581.1875\n",
      "Countries in the state Connecticut has            the average population of 446762.125\n",
      "Countries in the state Delaware has            the average population of 299311.3333333333\n",
      "Countries in the state District of Columbia has            the average population of 601723.0\n",
      "Countries in the state Florida has            the average population of 280616.5671641791\n",
      "Countries in the state Georgia has            the average population of 60928.63522012578\n",
      "Countries in the state Hawaii has            the average population of 272060.2\n",
      "Countries in the state Idaho has            the average population of 35626.86363636364\n",
      "Countries in the state Illinois has            the average population of 125790.50980392157\n",
      "Countries in the state Indiana has            the average population of 70476.10869565218\n",
      "Countries in the state Iowa has            the average population of 30771.262626262625\n",
      "Countries in the state Kansas has            the average population of 27172.55238095238\n",
      "Countries in the state Kentucky has            the average population of 36161.39166666667\n",
      "Countries in the state Louisiana has            the average population of 70833.9375\n",
      "Countries in the state Maine has            the average population of 83022.5625\n",
      "Countries in the state Maryland has            the average population of 240564.66666666666\n",
      "Countries in the state Massachusetts has            the average population of 467687.78571428574\n",
      "Countries in the state Michigan has            the average population of 119080.0\n",
      "Countries in the state Minnesota has            the average population of 60964.65517241379\n",
      "Countries in the state Mississippi has            the average population of 36186.54878048781\n",
      "Countries in the state Missouri has            the average population of 52077.62608695652\n",
      "Countries in the state Montana has            the average population of 17668.125\n",
      "Countries in the state Nebraska has            the average population of 19638.075268817203\n",
      "Countries in the state Nevada has            the average population of 158855.9411764706\n",
      "Countries in the state New Hampshire has            the average population of 131647.0\n",
      "Countries in the state New Jersey has            the average population of 418661.61904761905\n",
      "Countries in the state New Mexico has            the average population of 62399.36363636364\n",
      "Countries in the state New York has            the average population of 312550.03225806454\n",
      "Countries in the state North Carolina has            the average population of 95354.83\n",
      "Countries in the state North Dakota has            the average population of 12690.396226415094\n",
      "Countries in the state Ohio has            the average population of 131096.63636363635\n",
      "Countries in the state Oklahoma has            the average population of 48718.844155844155\n",
      "Countries in the state Oregon has            the average population of 106418.72222222222\n",
      "Countries in the state Pennsylvania has            the average population of 189587.74626865672\n",
      "Countries in the state Rhode Island has            the average population of 210513.4\n",
      "Countries in the state South Carolina has            the average population of 100551.39130434782\n",
      "Countries in the state South Dakota has            the average population of 12336.060606060606\n",
      "Countries in the state Tennessee has            the average population of 66801.1052631579\n",
      "Countries in the state Texas has            the average population of 98998.27165354331\n",
      "Countries in the state Utah has            the average population of 95306.37931034483\n",
      "Countries in the state Vermont has            the average population of 44695.78571428572\n",
      "Countries in the state Virginia has            the average population of 60111.29323308271\n",
      "Countries in the state Washington has            the average population of 172424.10256410256\n",
      "Countries in the state West Virginia has            the average population of 33690.8\n",
      "Countries in the state Wisconsin has            the average population of 78985.91666666667\n",
      "Countries in the state Wyoming has            the average population of 24505.478260869564\n",
      "Countries in the state Alabama has            the average population of 71339.34328358209\n",
      "Countries in the state Alaska has            the average population of 24490.724137931036\n",
      "Countries in the state Arizona has            the average population of 426134.4666666667\n",
      "Countries in the state Arkansas has            the average population of 38878.90666666667\n",
      "Countries in the state California has            the average population of 642309.5862068966\n",
      "Countries in the state Colorado has            the average population of 78581.1875\n",
      "Countries in the state Connecticut has            the average population of 446762.125\n",
      "Countries in the state Delaware has            the average population of 299311.3333333333\n",
      "Countries in the state District of Columbia has            the average population of 601723.0\n",
      "Countries in the state Florida has            the average population of 280616.5671641791\n",
      "Countries in the state Georgia has            the average population of 60928.63522012578\n",
      "Countries in the state Hawaii has            the average population of 272060.2\n",
      "Countries in the state Idaho has            the average population of 35626.86363636364\n",
      "Countries in the state Illinois has            the average population of 125790.50980392157\n",
      "Countries in the state Indiana has            the average population of 70476.10869565218\n",
      "Countries in the state Iowa has            the average population of 30771.262626262625\n",
      "Countries in the state Kansas has            the average population of 27172.55238095238\n",
      "Countries in the state Kentucky has            the average population of 36161.39166666667\n",
      "Countries in the state Louisiana has            the average population of 70833.9375\n",
      "Countries in the state Maine has            the average population of 83022.5625\n",
      "Countries in the state Maryland has            the average population of 240564.66666666666\n",
      "Countries in the state Massachusetts has            the average population of 467687.78571428574\n",
      "Countries in the state Michigan has            the average population of 119080.0\n",
      "Countries in the state Minnesota has            the average population of 60964.65517241379\n",
      "Countries in the state Mississippi has            the average population of 36186.54878048781\n",
      "Countries in the state Missouri has            the average population of 52077.62608695652\n",
      "Countries in the state Montana has            the average population of 17668.125\n",
      "Countries in the state Nebraska has            the average population of 19638.075268817203\n",
      "Countries in the state Nevada has            the average population of 158855.9411764706\n",
      "Countries in the state New Hampshire has            the average population of 131647.0\n",
      "Countries in the state New Jersey has            the average population of 418661.61904761905\n",
      "Countries in the state New Mexico has            the average population of 62399.36363636364\n",
      "Countries in the state New York has            the average population of 312550.03225806454\n",
      "Countries in the state North Carolina has            the average population of 95354.83\n",
      "Countries in the state North Dakota has            the average population of 12690.396226415094\n",
      "Countries in the state Ohio has            the average population of 131096.63636363635\n",
      "Countries in the state Oklahoma has            the average population of 48718.844155844155\n",
      "Countries in the state Oregon has            the average population of 106418.72222222222\n",
      "Countries in the state Pennsylvania has            the average population of 189587.74626865672\n",
      "Countries in the state Rhode Island has            the average population of 210513.4\n",
      "Countries in the state South Carolina has            the average population of 100551.39130434782\n",
      "Countries in the state South Dakota has            the average population of 12336.060606060606\n",
      "Countries in the state Tennessee has            the average population of 66801.1052631579\n",
      "Countries in the state Texas has            the average population of 98998.27165354331\n",
      "Countries in the state Utah has            the average population of 95306.37931034483\n",
      "Countries in the state Vermont has            the average population of 44695.78571428572\n",
      "Countries in the state Virginia has            the average population of 60111.29323308271\n",
      "Countries in the state Washington has            the average population of 172424.10256410256\n",
      "Countries in the state West Virginia has            the average population of 33690.8\n",
      "Countries in the state Wisconsin has            the average population of 78985.91666666667\n",
      "Countries in the state Wyoming has            the average population of 24505.478260869564\n",
      "Countries in the state Alabama has            the average population of 71339.34328358209\n",
      "Countries in the state Alaska has            the average population of 24490.724137931036\n",
      "Countries in the state Arizona has            the average population of 426134.4666666667\n",
      "Countries in the state Arkansas has            the average population of 38878.90666666667\n",
      "Countries in the state California has            the average population of 642309.5862068966\n",
      "Countries in the state Colorado has            the average population of 78581.1875\n",
      "Countries in the state Connecticut has            the average population of 446762.125\n",
      "Countries in the state Delaware has            the average population of 299311.3333333333\n",
      "Countries in the state District of Columbia has            the average population of 601723.0\n",
      "Countries in the state Florida has            the average population of 280616.5671641791\n",
      "Countries in the state Georgia has            the average population of 60928.63522012578\n",
      "Countries in the state Hawaii has            the average population of 272060.2\n",
      "Countries in the state Idaho has            the average population of 35626.86363636364\n",
      "Countries in the state Illinois has            the average population of 125790.50980392157\n",
      "Countries in the state Indiana has            the average population of 70476.10869565218\n",
      "Countries in the state Iowa has            the average population of 30771.262626262625\n",
      "Countries in the state Kansas has            the average population of 27172.55238095238\n",
      "Countries in the state Kentucky has            the average population of 36161.39166666667\n",
      "Countries in the state Louisiana has            the average population of 70833.9375\n",
      "Countries in the state Maine has            the average population of 83022.5625\n",
      "Countries in the state Maryland has            the average population of 240564.66666666666\n",
      "Countries in the state Massachusetts has            the average population of 467687.78571428574\n",
      "Countries in the state Michigan has            the average population of 119080.0\n",
      "Countries in the state Minnesota has            the average population of 60964.65517241379\n",
      "Countries in the state Mississippi has            the average population of 36186.54878048781\n",
      "Countries in the state Missouri has            the average population of 52077.62608695652\n",
      "Countries in the state Montana has            the average population of 17668.125\n",
      "Countries in the state Nebraska has            the average population of 19638.075268817203\n",
      "Countries in the state Nevada has            the average population of 158855.9411764706\n",
      "Countries in the state New Hampshire has            the average population of 131647.0\n",
      "Countries in the state New Jersey has            the average population of 418661.61904761905\n",
      "Countries in the state New Mexico has            the average population of 62399.36363636364\n",
      "Countries in the state New York has            the average population of 312550.03225806454\n",
      "Countries in the state North Carolina has            the average population of 95354.83\n",
      "Countries in the state North Dakota has            the average population of 12690.396226415094\n",
      "Countries in the state Ohio has            the average population of 131096.63636363635\n",
      "Countries in the state Oklahoma has            the average population of 48718.844155844155\n",
      "Countries in the state Oregon has            the average population of 106418.72222222222\n",
      "Countries in the state Pennsylvania has            the average population of 189587.74626865672\n",
      "Countries in the state Rhode Island has            the average population of 210513.4\n",
      "Countries in the state South Carolina has            the average population of 100551.39130434782\n",
      "Countries in the state South Dakota has            the average population of 12336.060606060606\n",
      "Countries in the state Tennessee has            the average population of 66801.1052631579\n",
      "Countries in the state Texas has            the average population of 98998.27165354331\n",
      "Countries in the state Utah has            the average population of 95306.37931034483\n",
      "Countries in the state Vermont has            the average population of 44695.78571428572\n",
      "Countries in the state Virginia has            the average population of 60111.29323308271\n",
      "Countries in the state Washington has            the average population of 172424.10256410256\n",
      "Countries in the state West Virginia has            the average population of 33690.8\n",
      "Countries in the state Wisconsin has            the average population of 78985.91666666667\n",
      "Countries in the state Wyoming has            the average population of 24505.478260869564\n",
      "Countries in the state Alabama has            the average population of 71339.34328358209\n",
      "Countries in the state Alaska has            the average population of 24490.724137931036\n",
      "Countries in the state Arizona has            the average population of 426134.4666666667\n",
      "Countries in the state Arkansas has            the average population of 38878.90666666667\n",
      "Countries in the state California has            the average population of 642309.5862068966\n",
      "Countries in the state Colorado has            the average population of 78581.1875\n",
      "Countries in the state Connecticut has            the average population of 446762.125\n",
      "Countries in the state Delaware has            the average population of 299311.3333333333\n",
      "Countries in the state District of Columbia has            the average population of 601723.0\n",
      "Countries in the state Florida has            the average population of 280616.5671641791\n",
      "Countries in the state Georgia has            the average population of 60928.63522012578\n",
      "Countries in the state Hawaii has            the average population of 272060.2\n",
      "Countries in the state Idaho has            the average population of 35626.86363636364\n",
      "Countries in the state Illinois has            the average population of 125790.50980392157\n",
      "Countries in the state Indiana has            the average population of 70476.10869565218\n",
      "Countries in the state Iowa has            the average population of 30771.262626262625\n",
      "Countries in the state Kansas has            the average population of 27172.55238095238\n",
      "Countries in the state Kentucky has            the average population of 36161.39166666667\n",
      "Countries in the state Louisiana has            the average population of 70833.9375\n",
      "Countries in the state Maine has            the average population of 83022.5625\n",
      "Countries in the state Maryland has            the average population of 240564.66666666666\n",
      "Countries in the state Massachusetts has            the average population of 467687.78571428574\n",
      "Countries in the state Michigan has            the average population of 119080.0\n",
      "Countries in the state Minnesota has            the average population of 60964.65517241379\n",
      "Countries in the state Mississippi has            the average population of 36186.54878048781\n",
      "Countries in the state Missouri has            the average population of 52077.62608695652\n",
      "Countries in the state Montana has            the average population of 17668.125\n",
      "Countries in the state Nebraska has            the average population of 19638.075268817203\n",
      "Countries in the state Nevada has            the average population of 158855.9411764706\n",
      "Countries in the state New Hampshire has            the average population of 131647.0\n",
      "Countries in the state New Jersey has            the average population of 418661.61904761905\n",
      "Countries in the state New Mexico has            the average population of 62399.36363636364\n",
      "Countries in the state New York has            the average population of 312550.03225806454\n",
      "Countries in the state North Carolina has            the average population of 95354.83\n",
      "Countries in the state North Dakota has            the average population of 12690.396226415094\n",
      "Countries in the state Ohio has            the average population of 131096.63636363635\n",
      "Countries in the state Oklahoma has            the average population of 48718.844155844155\n",
      "Countries in the state Oregon has            the average population of 106418.72222222222\n",
      "Countries in the state Pennsylvania has            the average population of 189587.74626865672\n",
      "Countries in the state Rhode Island has            the average population of 210513.4\n",
      "Countries in the state South Carolina has            the average population of 100551.39130434782\n",
      "Countries in the state South Dakota has            the average population of 12336.060606060606\n",
      "Countries in the state Tennessee has            the average population of 66801.1052631579\n",
      "Countries in the state Texas has            the average population of 98998.27165354331\n",
      "Countries in the state Utah has            the average population of 95306.37931034483\n",
      "Countries in the state Vermont has            the average population of 44695.78571428572\n",
      "Countries in the state Virginia has            the average population of 60111.29323308271\n",
      "Countries in the state Washington has            the average population of 172424.10256410256\n",
      "Countries in the state West Virginia has            the average population of 33690.8\n",
      "Countries in the state Wisconsin has            the average population of 78985.91666666667\n",
      "Countries in the state Wyoming has            the average population of 24505.478260869564\n",
      "Countries in the state Alabama has            the average population of 71339.34328358209\n",
      "Countries in the state Alaska has            the average population of 24490.724137931036\n",
      "Countries in the state Arizona has            the average population of 426134.4666666667\n",
      "Countries in the state Arkansas has            the average population of 38878.90666666667\n",
      "Countries in the state California has            the average population of 642309.5862068966\n",
      "Countries in the state Colorado has            the average population of 78581.1875\n",
      "Countries in the state Connecticut has            the average population of 446762.125\n",
      "Countries in the state Delaware has            the average population of 299311.3333333333\n",
      "Countries in the state District of Columbia has            the average population of 601723.0\n",
      "Countries in the state Florida has            the average population of 280616.5671641791\n",
      "Countries in the state Georgia has            the average population of 60928.63522012578\n",
      "Countries in the state Hawaii has            the average population of 272060.2\n",
      "Countries in the state Idaho has            the average population of 35626.86363636364\n",
      "Countries in the state Illinois has            the average population of 125790.50980392157\n",
      "Countries in the state Indiana has            the average population of 70476.10869565218\n",
      "Countries in the state Iowa has            the average population of 30771.262626262625\n",
      "Countries in the state Kansas has            the average population of 27172.55238095238\n",
      "Countries in the state Kentucky has            the average population of 36161.39166666667\n",
      "Countries in the state Louisiana has            the average population of 70833.9375\n",
      "Countries in the state Maine has            the average population of 83022.5625\n",
      "Countries in the state Maryland has            the average population of 240564.66666666666\n",
      "Countries in the state Massachusetts has            the average population of 467687.78571428574\n",
      "Countries in the state Michigan has            the average population of 119080.0\n",
      "Countries in the state Minnesota has            the average population of 60964.65517241379\n",
      "Countries in the state Mississippi has            the average population of 36186.54878048781\n",
      "Countries in the state Missouri has            the average population of 52077.62608695652\n",
      "Countries in the state Montana has            the average population of 17668.125\n",
      "Countries in the state Nebraska has            the average population of 19638.075268817203\n",
      "Countries in the state Nevada has            the average population of 158855.9411764706\n",
      "Countries in the state New Hampshire has            the average population of 131647.0\n",
      "Countries in the state New Jersey has            the average population of 418661.61904761905\n",
      "Countries in the state New Mexico has            the average population of 62399.36363636364\n",
      "Countries in the state New York has            the average population of 312550.03225806454\n",
      "Countries in the state North Carolina has            the average population of 95354.83\n",
      "Countries in the state North Dakota has            the average population of 12690.396226415094\n",
      "Countries in the state Ohio has            the average population of 131096.63636363635\n",
      "Countries in the state Oklahoma has            the average population of 48718.844155844155\n",
      "Countries in the state Oregon has            the average population of 106418.72222222222\n",
      "Countries in the state Pennsylvania has            the average population of 189587.74626865672\n",
      "Countries in the state Rhode Island has            the average population of 210513.4\n",
      "Countries in the state South Carolina has            the average population of 100551.39130434782\n",
      "Countries in the state South Dakota has            the average population of 12336.060606060606\n",
      "Countries in the state Tennessee has            the average population of 66801.1052631579\n",
      "Countries in the state Texas has            the average population of 98998.27165354331\n",
      "Countries in the state Utah has            the average population of 95306.37931034483\n",
      "Countries in the state Vermont has            the average population of 44695.78571428572\n",
      "Countries in the state Virginia has            the average population of 60111.29323308271\n",
      "Countries in the state Washington has            the average population of 172424.10256410256\n",
      "Countries in the state West Virginia has            the average population of 33690.8\n",
      "Countries in the state Wisconsin has            the average population of 78985.91666666667\n",
      "Countries in the state Wyoming has            the average population of 24505.478260869564\n",
      "Countries in the state Alabama has            the average population of 71339.34328358209\n",
      "Countries in the state Alaska has            the average population of 24490.724137931036\n",
      "Countries in the state Arizona has            the average population of 426134.4666666667\n",
      "Countries in the state Arkansas has            the average population of 38878.90666666667\n",
      "Countries in the state California has            the average population of 642309.5862068966\n",
      "Countries in the state Colorado has            the average population of 78581.1875\n",
      "Countries in the state Connecticut has            the average population of 446762.125\n",
      "Countries in the state Delaware has            the average population of 299311.3333333333\n",
      "Countries in the state District of Columbia has            the average population of 601723.0\n",
      "Countries in the state Florida has            the average population of 280616.5671641791\n",
      "Countries in the state Georgia has            the average population of 60928.63522012578\n",
      "Countries in the state Hawaii has            the average population of 272060.2\n",
      "Countries in the state Idaho has            the average population of 35626.86363636364\n",
      "Countries in the state Illinois has            the average population of 125790.50980392157\n",
      "Countries in the state Indiana has            the average population of 70476.10869565218\n",
      "Countries in the state Iowa has            the average population of 30771.262626262625\n",
      "Countries in the state Kansas has            the average population of 27172.55238095238\n",
      "Countries in the state Kentucky has            the average population of 36161.39166666667\n",
      "Countries in the state Louisiana has            the average population of 70833.9375\n",
      "Countries in the state Maine has            the average population of 83022.5625\n",
      "Countries in the state Maryland has            the average population of 240564.66666666666\n",
      "Countries in the state Massachusetts has            the average population of 467687.78571428574\n",
      "Countries in the state Michigan has            the average population of 119080.0\n",
      "Countries in the state Minnesota has            the average population of 60964.65517241379\n",
      "Countries in the state Mississippi has            the average population of 36186.54878048781\n",
      "Countries in the state Missouri has            the average population of 52077.62608695652\n",
      "Countries in the state Montana has            the average population of 17668.125\n",
      "Countries in the state Nebraska has            the average population of 19638.075268817203\n",
      "Countries in the state Nevada has            the average population of 158855.9411764706\n",
      "Countries in the state New Hampshire has            the average population of 131647.0\n",
      "Countries in the state New Jersey has            the average population of 418661.61904761905\n",
      "Countries in the state New Mexico has            the average population of 62399.36363636364\n",
      "Countries in the state New York has            the average population of 312550.03225806454\n",
      "Countries in the state North Carolina has            the average population of 95354.83\n",
      "Countries in the state North Dakota has            the average population of 12690.396226415094\n",
      "Countries in the state Ohio has            the average population of 131096.63636363635\n",
      "Countries in the state Oklahoma has            the average population of 48718.844155844155\n",
      "Countries in the state Oregon has            the average population of 106418.72222222222\n",
      "Countries in the state Pennsylvania has            the average population of 189587.74626865672\n",
      "Countries in the state Rhode Island has            the average population of 210513.4\n",
      "Countries in the state South Carolina has            the average population of 100551.39130434782\n",
      "Countries in the state South Dakota has            the average population of 12336.060606060606\n",
      "Countries in the state Tennessee has            the average population of 66801.1052631579\n",
      "Countries in the state Texas has            the average population of 98998.27165354331\n",
      "Countries in the state Utah has            the average population of 95306.37931034483\n",
      "Countries in the state Vermont has            the average population of 44695.78571428572\n",
      "Countries in the state Virginia has            the average population of 60111.29323308271\n",
      "Countries in the state Washington has            the average population of 172424.10256410256\n",
      "Countries in the state West Virginia has            the average population of 33690.8\n",
      "Countries in the state Wisconsin has            the average population of 78985.91666666667\n",
      "Countries in the state Wyoming has            the average population of 24505.478260869564\n",
      "Countries in the state Alabama has            the average population of 71339.34328358209\n",
      "Countries in the state Alaska has            the average population of 24490.724137931036\n",
      "Countries in the state Arizona has            the average population of 426134.4666666667\n",
      "Countries in the state Arkansas has            the average population of 38878.90666666667\n",
      "Countries in the state California has            the average population of 642309.5862068966\n",
      "Countries in the state Colorado has            the average population of 78581.1875\n",
      "Countries in the state Connecticut has            the average population of 446762.125\n",
      "Countries in the state Delaware has            the average population of 299311.3333333333\n",
      "Countries in the state District of Columbia has            the average population of 601723.0\n",
      "Countries in the state Florida has            the average population of 280616.5671641791\n",
      "Countries in the state Georgia has            the average population of 60928.63522012578\n",
      "Countries in the state Hawaii has            the average population of 272060.2\n",
      "Countries in the state Idaho has            the average population of 35626.86363636364\n",
      "Countries in the state Illinois has            the average population of 125790.50980392157\n",
      "Countries in the state Indiana has            the average population of 70476.10869565218\n",
      "Countries in the state Iowa has            the average population of 30771.262626262625\n",
      "Countries in the state Kansas has            the average population of 27172.55238095238\n",
      "Countries in the state Kentucky has            the average population of 36161.39166666667\n",
      "Countries in the state Louisiana has            the average population of 70833.9375\n",
      "Countries in the state Maine has            the average population of 83022.5625\n",
      "Countries in the state Maryland has            the average population of 240564.66666666666\n",
      "Countries in the state Massachusetts has            the average population of 467687.78571428574\n",
      "Countries in the state Michigan has            the average population of 119080.0\n",
      "Countries in the state Minnesota has            the average population of 60964.65517241379\n",
      "Countries in the state Mississippi has            the average population of 36186.54878048781\n",
      "Countries in the state Missouri has            the average population of 52077.62608695652\n",
      "Countries in the state Montana has            the average population of 17668.125\n",
      "Countries in the state Nebraska has            the average population of 19638.075268817203\n",
      "Countries in the state Nevada has            the average population of 158855.9411764706\n",
      "Countries in the state New Hampshire has            the average population of 131647.0\n",
      "Countries in the state New Jersey has            the average population of 418661.61904761905\n",
      "Countries in the state New Mexico has            the average population of 62399.36363636364\n",
      "Countries in the state New York has            the average population of 312550.03225806454\n",
      "Countries in the state North Carolina has            the average population of 95354.83\n",
      "Countries in the state North Dakota has            the average population of 12690.396226415094\n",
      "Countries in the state Ohio has            the average population of 131096.63636363635\n",
      "Countries in the state Oklahoma has            the average population of 48718.844155844155\n",
      "Countries in the state Oregon has            the average population of 106418.72222222222\n",
      "Countries in the state Pennsylvania has            the average population of 189587.74626865672\n",
      "Countries in the state Rhode Island has            the average population of 210513.4\n",
      "Countries in the state South Carolina has            the average population of 100551.39130434782\n",
      "Countries in the state South Dakota has            the average population of 12336.060606060606\n",
      "Countries in the state Tennessee has            the average population of 66801.1052631579\n",
      "Countries in the state Texas has            the average population of 98998.27165354331\n",
      "Countries in the state Utah has            the average population of 95306.37931034483\n",
      "Countries in the state Vermont has            the average population of 44695.78571428572\n",
      "Countries in the state Virginia has            the average population of 60111.29323308271\n",
      "Countries in the state Washington has            the average population of 172424.10256410256\n",
      "Countries in the state West Virginia has            the average population of 33690.8\n",
      "Countries in the state Wisconsin has            the average population of 78985.91666666667\n",
      "Countries in the state Wyoming has            the average population of 24505.478260869564\n",
      "Countries in the state Alabama has            the average population of 71339.34328358209\n",
      "Countries in the state Alaska has            the average population of 24490.724137931036\n",
      "Countries in the state Arizona has            the average population of 426134.4666666667\n",
      "Countries in the state Arkansas has            the average population of 38878.90666666667\n",
      "Countries in the state California has            the average population of 642309.5862068966\n",
      "Countries in the state Colorado has            the average population of 78581.1875\n",
      "Countries in the state Connecticut has            the average population of 446762.125\n",
      "Countries in the state Delaware has            the average population of 299311.3333333333\n",
      "Countries in the state District of Columbia has            the average population of 601723.0\n",
      "Countries in the state Florida has            the average population of 280616.5671641791\n",
      "Countries in the state Georgia has            the average population of 60928.63522012578\n",
      "Countries in the state Hawaii has            the average population of 272060.2\n",
      "Countries in the state Idaho has            the average population of 35626.86363636364\n",
      "Countries in the state Illinois has            the average population of 125790.50980392157\n",
      "Countries in the state Indiana has            the average population of 70476.10869565218\n",
      "Countries in the state Iowa has            the average population of 30771.262626262625\n",
      "Countries in the state Kansas has            the average population of 27172.55238095238\n",
      "Countries in the state Kentucky has            the average population of 36161.39166666667\n",
      "Countries in the state Louisiana has            the average population of 70833.9375\n",
      "Countries in the state Maine has            the average population of 83022.5625\n",
      "Countries in the state Maryland has            the average population of 240564.66666666666\n",
      "Countries in the state Massachusetts has            the average population of 467687.78571428574\n",
      "Countries in the state Michigan has            the average population of 119080.0\n",
      "Countries in the state Minnesota has            the average population of 60964.65517241379\n",
      "Countries in the state Mississippi has            the average population of 36186.54878048781\n",
      "Countries in the state Missouri has            the average population of 52077.62608695652\n",
      "Countries in the state Montana has            the average population of 17668.125\n",
      "Countries in the state Nebraska has            the average population of 19638.075268817203\n",
      "Countries in the state Nevada has            the average population of 158855.9411764706\n",
      "Countries in the state New Hampshire has            the average population of 131647.0\n",
      "Countries in the state New Jersey has            the average population of 418661.61904761905\n",
      "Countries in the state New Mexico has            the average population of 62399.36363636364\n",
      "Countries in the state New York has            the average population of 312550.03225806454\n",
      "Countries in the state North Carolina has            the average population of 95354.83\n",
      "Countries in the state North Dakota has            the average population of 12690.396226415094\n",
      "Countries in the state Ohio has            the average population of 131096.63636363635\n",
      "Countries in the state Oklahoma has            the average population of 48718.844155844155\n",
      "Countries in the state Oregon has            the average population of 106418.72222222222\n",
      "Countries in the state Pennsylvania has            the average population of 189587.74626865672\n",
      "Countries in the state Rhode Island has            the average population of 210513.4\n",
      "Countries in the state South Carolina has            the average population of 100551.39130434782\n",
      "Countries in the state South Dakota has            the average population of 12336.060606060606\n",
      "Countries in the state Tennessee has            the average population of 66801.1052631579\n",
      "Countries in the state Texas has            the average population of 98998.27165354331\n",
      "Countries in the state Utah has            the average population of 95306.37931034483\n",
      "Countries in the state Vermont has            the average population of 44695.78571428572\n",
      "Countries in the state Virginia has            the average population of 60111.29323308271\n",
      "Countries in the state Washington has            the average population of 172424.10256410256\n",
      "Countries in the state West Virginia has            the average population of 33690.8\n",
      "Countries in the state Wisconsin has            the average population of 78985.91666666667\n",
      "Countries in the state Wyoming has            the average population of 24505.478260869564\n",
      "Countries in the state Alabama has            the average population of 71339.34328358209\n",
      "Countries in the state Alaska has            the average population of 24490.724137931036\n",
      "Countries in the state Arizona has            the average population of 426134.4666666667\n",
      "Countries in the state Arkansas has            the average population of 38878.90666666667\n",
      "Countries in the state California has            the average population of 642309.5862068966\n",
      "Countries in the state Colorado has            the average population of 78581.1875\n",
      "Countries in the state Connecticut has            the average population of 446762.125\n",
      "Countries in the state Delaware has            the average population of 299311.3333333333\n",
      "Countries in the state District of Columbia has            the average population of 601723.0\n",
      "Countries in the state Florida has            the average population of 280616.5671641791\n",
      "Countries in the state Georgia has            the average population of 60928.63522012578\n",
      "Countries in the state Hawaii has            the average population of 272060.2\n",
      "Countries in the state Idaho has            the average population of 35626.86363636364\n",
      "Countries in the state Illinois has            the average population of 125790.50980392157\n",
      "Countries in the state Indiana has            the average population of 70476.10869565218\n",
      "Countries in the state Iowa has            the average population of 30771.262626262625\n",
      "Countries in the state Kansas has            the average population of 27172.55238095238\n",
      "Countries in the state Kentucky has            the average population of 36161.39166666667\n",
      "Countries in the state Louisiana has            the average population of 70833.9375\n",
      "Countries in the state Maine has            the average population of 83022.5625\n",
      "Countries in the state Maryland has            the average population of 240564.66666666666\n",
      "Countries in the state Massachusetts has            the average population of 467687.78571428574\n",
      "Countries in the state Michigan has            the average population of 119080.0\n",
      "Countries in the state Minnesota has            the average population of 60964.65517241379\n",
      "Countries in the state Mississippi has            the average population of 36186.54878048781\n",
      "Countries in the state Missouri has            the average population of 52077.62608695652\n",
      "Countries in the state Montana has            the average population of 17668.125\n",
      "Countries in the state Nebraska has            the average population of 19638.075268817203\n",
      "Countries in the state Nevada has            the average population of 158855.9411764706\n",
      "Countries in the state New Hampshire has            the average population of 131647.0\n",
      "Countries in the state New Jersey has            the average population of 418661.61904761905\n",
      "Countries in the state New Mexico has            the average population of 62399.36363636364\n",
      "Countries in the state New York has            the average population of 312550.03225806454\n",
      "Countries in the state North Carolina has            the average population of 95354.83\n",
      "Countries in the state North Dakota has            the average population of 12690.396226415094\n",
      "Countries in the state Ohio has            the average population of 131096.63636363635\n",
      "Countries in the state Oklahoma has            the average population of 48718.844155844155\n",
      "Countries in the state Oregon has            the average population of 106418.72222222222\n",
      "Countries in the state Pennsylvania has            the average population of 189587.74626865672\n",
      "Countries in the state Rhode Island has            the average population of 210513.4\n",
      "Countries in the state South Carolina has            the average population of 100551.39130434782\n",
      "Countries in the state South Dakota has            the average population of 12336.060606060606\n",
      "Countries in the state Tennessee has            the average population of 66801.1052631579\n",
      "Countries in the state Texas has            the average population of 98998.27165354331\n",
      "Countries in the state Utah has            the average population of 95306.37931034483\n",
      "Countries in the state Vermont has            the average population of 44695.78571428572\n",
      "Countries in the state Virginia has            the average population of 60111.29323308271\n",
      "Countries in the state Washington has            the average population of 172424.10256410256\n",
      "Countries in the state West Virginia has            the average population of 33690.8\n",
      "Countries in the state Wisconsin has            the average population of 78985.91666666667\n",
      "Countries in the state Wyoming has            the average population of 24505.478260869564\n",
      "Countries in the state Alabama has            the average population of 71339.34328358209\n",
      "Countries in the state Alaska has            the average population of 24490.724137931036\n",
      "Countries in the state Arizona has            the average population of 426134.4666666667\n",
      "Countries in the state Arkansas has            the average population of 38878.90666666667\n",
      "Countries in the state California has            the average population of 642309.5862068966\n",
      "Countries in the state Colorado has            the average population of 78581.1875\n",
      "Countries in the state Connecticut has            the average population of 446762.125\n",
      "Countries in the state Delaware has            the average population of 299311.3333333333\n",
      "Countries in the state District of Columbia has            the average population of 601723.0\n",
      "Countries in the state Florida has            the average population of 280616.5671641791\n",
      "Countries in the state Georgia has            the average population of 60928.63522012578\n",
      "Countries in the state Hawaii has            the average population of 272060.2\n",
      "Countries in the state Idaho has            the average population of 35626.86363636364\n",
      "Countries in the state Illinois has            the average population of 125790.50980392157\n",
      "Countries in the state Indiana has            the average population of 70476.10869565218\n",
      "Countries in the state Iowa has            the average population of 30771.262626262625\n",
      "Countries in the state Kansas has            the average population of 27172.55238095238\n",
      "Countries in the state Kentucky has            the average population of 36161.39166666667\n",
      "Countries in the state Louisiana has            the average population of 70833.9375\n",
      "Countries in the state Maine has            the average population of 83022.5625\n",
      "Countries in the state Maryland has            the average population of 240564.66666666666\n",
      "Countries in the state Massachusetts has            the average population of 467687.78571428574\n",
      "Countries in the state Michigan has            the average population of 119080.0\n",
      "Countries in the state Minnesota has            the average population of 60964.65517241379\n",
      "Countries in the state Mississippi has            the average population of 36186.54878048781\n",
      "Countries in the state Missouri has            the average population of 52077.62608695652\n",
      "Countries in the state Montana has            the average population of 17668.125\n",
      "Countries in the state Nebraska has            the average population of 19638.075268817203\n",
      "Countries in the state Nevada has            the average population of 158855.9411764706\n",
      "Countries in the state New Hampshire has            the average population of 131647.0\n",
      "Countries in the state New Jersey has            the average population of 418661.61904761905\n",
      "Countries in the state New Mexico has            the average population of 62399.36363636364\n",
      "Countries in the state New York has            the average population of 312550.03225806454\n",
      "Countries in the state North Carolina has            the average population of 95354.83\n",
      "Countries in the state North Dakota has            the average population of 12690.396226415094\n",
      "Countries in the state Ohio has            the average population of 131096.63636363635\n",
      "Countries in the state Oklahoma has            the average population of 48718.844155844155\n",
      "Countries in the state Oregon has            the average population of 106418.72222222222\n",
      "Countries in the state Pennsylvania has            the average population of 189587.74626865672\n",
      "Countries in the state Rhode Island has            the average population of 210513.4\n",
      "Countries in the state South Carolina has            the average population of 100551.39130434782\n",
      "Countries in the state South Dakota has            the average population of 12336.060606060606\n",
      "Countries in the state Tennessee has            the average population of 66801.1052631579\n",
      "Countries in the state Texas has            the average population of 98998.27165354331\n",
      "Countries in the state Utah has            the average population of 95306.37931034483\n",
      "Countries in the state Vermont has            the average population of 44695.78571428572\n",
      "Countries in the state Virginia has            the average population of 60111.29323308271\n",
      "Countries in the state Washington has            the average population of 172424.10256410256\n",
      "Countries in the state West Virginia has            the average population of 33690.8\n",
      "Countries in the state Wisconsin has            the average population of 78985.91666666667\n",
      "Countries in the state Wyoming has            the average population of 24505.478260869564\n",
      "Countries in the state Alabama has            the average population of 71339.34328358209\n",
      "Countries in the state Alaska has            the average population of 24490.724137931036\n",
      "Countries in the state Arizona has            the average population of 426134.4666666667\n",
      "Countries in the state Arkansas has            the average population of 38878.90666666667\n",
      "Countries in the state California has            the average population of 642309.5862068966\n",
      "Countries in the state Colorado has            the average population of 78581.1875\n",
      "Countries in the state Connecticut has            the average population of 446762.125\n",
      "Countries in the state Delaware has            the average population of 299311.3333333333\n",
      "Countries in the state District of Columbia has            the average population of 601723.0\n",
      "Countries in the state Florida has            the average population of 280616.5671641791\n",
      "Countries in the state Georgia has            the average population of 60928.63522012578\n",
      "Countries in the state Hawaii has            the average population of 272060.2\n",
      "Countries in the state Idaho has            the average population of 35626.86363636364\n",
      "Countries in the state Illinois has            the average population of 125790.50980392157\n",
      "Countries in the state Indiana has            the average population of 70476.10869565218\n",
      "Countries in the state Iowa has            the average population of 30771.262626262625\n",
      "Countries in the state Kansas has            the average population of 27172.55238095238\n",
      "Countries in the state Kentucky has            the average population of 36161.39166666667\n",
      "Countries in the state Louisiana has            the average population of 70833.9375\n",
      "Countries in the state Maine has            the average population of 83022.5625\n",
      "Countries in the state Maryland has            the average population of 240564.66666666666\n",
      "Countries in the state Massachusetts has            the average population of 467687.78571428574\n",
      "Countries in the state Michigan has            the average population of 119080.0\n",
      "Countries in the state Minnesota has            the average population of 60964.65517241379\n",
      "Countries in the state Mississippi has            the average population of 36186.54878048781\n",
      "Countries in the state Missouri has            the average population of 52077.62608695652\n",
      "Countries in the state Montana has            the average population of 17668.125\n",
      "Countries in the state Nebraska has            the average population of 19638.075268817203\n",
      "Countries in the state Nevada has            the average population of 158855.9411764706\n",
      "Countries in the state New Hampshire has            the average population of 131647.0\n",
      "Countries in the state New Jersey has            the average population of 418661.61904761905\n",
      "Countries in the state New Mexico has            the average population of 62399.36363636364\n",
      "Countries in the state New York has            the average population of 312550.03225806454\n",
      "Countries in the state North Carolina has            the average population of 95354.83\n",
      "Countries in the state North Dakota has            the average population of 12690.396226415094\n",
      "Countries in the state Ohio has            the average population of 131096.63636363635\n",
      "Countries in the state Oklahoma has            the average population of 48718.844155844155\n",
      "Countries in the state Oregon has            the average population of 106418.72222222222\n",
      "Countries in the state Pennsylvania has            the average population of 189587.74626865672\n",
      "Countries in the state Rhode Island has            the average population of 210513.4\n",
      "Countries in the state South Carolina has            the average population of 100551.39130434782\n",
      "Countries in the state South Dakota has            the average population of 12336.060606060606\n",
      "Countries in the state Tennessee has            the average population of 66801.1052631579\n",
      "Countries in the state Texas has            the average population of 98998.27165354331\n",
      "Countries in the state Utah has            the average population of 95306.37931034483\n",
      "Countries in the state Vermont has            the average population of 44695.78571428572\n",
      "Countries in the state Virginia has            the average population of 60111.29323308271\n",
      "Countries in the state Washington has            the average population of 172424.10256410256\n",
      "Countries in the state West Virginia has            the average population of 33690.8\n",
      "Countries in the state Wisconsin has            the average population of 78985.91666666667\n",
      "Countries in the state Wyoming has            the average population of 24505.478260869564\n",
      "Countries in the state Alabama has            the average population of 71339.34328358209\n",
      "Countries in the state Alaska has            the average population of 24490.724137931036\n",
      "Countries in the state Arizona has            the average population of 426134.4666666667\n",
      "Countries in the state Arkansas has            the average population of 38878.90666666667\n",
      "Countries in the state California has            the average population of 642309.5862068966\n",
      "Countries in the state Colorado has            the average population of 78581.1875\n",
      "Countries in the state Connecticut has            the average population of 446762.125\n",
      "Countries in the state Delaware has            the average population of 299311.3333333333\n",
      "Countries in the state District of Columbia has            the average population of 601723.0\n",
      "Countries in the state Florida has            the average population of 280616.5671641791\n",
      "Countries in the state Georgia has            the average population of 60928.63522012578\n",
      "Countries in the state Hawaii has            the average population of 272060.2\n",
      "Countries in the state Idaho has            the average population of 35626.86363636364\n",
      "Countries in the state Illinois has            the average population of 125790.50980392157\n",
      "Countries in the state Indiana has            the average population of 70476.10869565218\n",
      "Countries in the state Iowa has            the average population of 30771.262626262625\n",
      "Countries in the state Kansas has            the average population of 27172.55238095238\n",
      "Countries in the state Kentucky has            the average population of 36161.39166666667\n",
      "Countries in the state Louisiana has            the average population of 70833.9375\n",
      "Countries in the state Maine has            the average population of 83022.5625\n",
      "Countries in the state Maryland has            the average population of 240564.66666666666\n",
      "Countries in the state Massachusetts has            the average population of 467687.78571428574\n",
      "Countries in the state Michigan has            the average population of 119080.0\n",
      "Countries in the state Minnesota has            the average population of 60964.65517241379\n",
      "Countries in the state Mississippi has            the average population of 36186.54878048781\n",
      "Countries in the state Missouri has            the average population of 52077.62608695652\n",
      "Countries in the state Montana has            the average population of 17668.125\n",
      "Countries in the state Nebraska has            the average population of 19638.075268817203\n",
      "Countries in the state Nevada has            the average population of 158855.9411764706\n",
      "Countries in the state New Hampshire has            the average population of 131647.0\n",
      "Countries in the state New Jersey has            the average population of 418661.61904761905\n",
      "Countries in the state New Mexico has            the average population of 62399.36363636364\n",
      "Countries in the state New York has            the average population of 312550.03225806454\n",
      "Countries in the state North Carolina has            the average population of 95354.83\n",
      "Countries in the state North Dakota has            the average population of 12690.396226415094\n",
      "Countries in the state Ohio has            the average population of 131096.63636363635\n",
      "Countries in the state Oklahoma has            the average population of 48718.844155844155\n",
      "Countries in the state Oregon has            the average population of 106418.72222222222\n",
      "Countries in the state Pennsylvania has            the average population of 189587.74626865672\n",
      "Countries in the state Rhode Island has            the average population of 210513.4\n",
      "Countries in the state South Carolina has            the average population of 100551.39130434782\n",
      "Countries in the state South Dakota has            the average population of 12336.060606060606\n",
      "Countries in the state Tennessee has            the average population of 66801.1052631579\n",
      "Countries in the state Texas has            the average population of 98998.27165354331\n",
      "Countries in the state Utah has            the average population of 95306.37931034483\n",
      "Countries in the state Vermont has            the average population of 44695.78571428572\n",
      "Countries in the state Virginia has            the average population of 60111.29323308271\n",
      "Countries in the state Washington has            the average population of 172424.10256410256\n",
      "Countries in the state West Virginia has            the average population of 33690.8\n",
      "Countries in the state Wisconsin has            the average population of 78985.91666666667\n",
      "Countries in the state Wyoming has            the average population of 24505.478260869564\n",
      "787 ms ± 28.6 ms per loop (mean ± std. dev. of 7 runs, 3 loops each)\n"
     ]
    }
   ],
   "source": [
    "%%timeit -n 3\n",
    "## run the cell 3 times and print the average time of execution\n",
    "for state in df['STNAME'].unique():\n",
    "    average = np.average(df.where(df['STNAME']==state).dropna()['CENSUS2010POP'])\n",
    "    print(f'Countries in the state {state} has\\\n",
    "            the average population of {str(average)}')"
   ]
  },
  {
   "cell_type": "code",
   "execution_count": 253,
   "metadata": {},
   "outputs": [
    {
     "data": {
      "text/html": [
       "<div>\n",
       "<style scoped>\n",
       "    .dataframe tbody tr th:only-of-type {\n",
       "        vertical-align: middle;\n",
       "    }\n",
       "\n",
       "    .dataframe tbody tr th {\n",
       "        vertical-align: top;\n",
       "    }\n",
       "\n",
       "    .dataframe thead th {\n",
       "        text-align: right;\n",
       "    }\n",
       "</style>\n",
       "<table border=\"1\" class=\"dataframe\">\n",
       "  <thead>\n",
       "    <tr style=\"text-align: right;\">\n",
       "      <th></th>\n",
       "      <th>id</th>\n",
       "      <th>listing_url</th>\n",
       "      <th>scrape_id</th>\n",
       "      <th>last_scraped</th>\n",
       "      <th>name</th>\n",
       "      <th>summary</th>\n",
       "      <th>space</th>\n",
       "      <th>description</th>\n",
       "      <th>experiences_offered</th>\n",
       "      <th>neighborhood_overview</th>\n",
       "      <th>...</th>\n",
       "      <th>review_scores_value</th>\n",
       "      <th>requires_license</th>\n",
       "      <th>license</th>\n",
       "      <th>jurisdiction_names</th>\n",
       "      <th>instant_bookable</th>\n",
       "      <th>cancellation_policy</th>\n",
       "      <th>require_guest_profile_picture</th>\n",
       "      <th>require_guest_phone_verification</th>\n",
       "      <th>calculated_host_listings_count</th>\n",
       "      <th>reviews_per_month</th>\n",
       "    </tr>\n",
       "  </thead>\n",
       "  <tbody>\n",
       "    <tr>\n",
       "      <th>0</th>\n",
       "      <td>12147973</td>\n",
       "      <td>https://www.airbnb.com/rooms/12147973</td>\n",
       "      <td>20160906204935</td>\n",
       "      <td>2016-09-07</td>\n",
       "      <td>Sunny Bungalow in the City</td>\n",
       "      <td>Cozy, sunny, family home.  Master bedroom high...</td>\n",
       "      <td>The house has an open and cozy feel at the sam...</td>\n",
       "      <td>Cozy, sunny, family home.  Master bedroom high...</td>\n",
       "      <td>none</td>\n",
       "      <td>Roslindale is quiet, convenient and friendly. ...</td>\n",
       "      <td>...</td>\n",
       "      <td>NaN</td>\n",
       "      <td>f</td>\n",
       "      <td>NaN</td>\n",
       "      <td>NaN</td>\n",
       "      <td>f</td>\n",
       "      <td>moderate</td>\n",
       "      <td>f</td>\n",
       "      <td>f</td>\n",
       "      <td>1</td>\n",
       "      <td>NaN</td>\n",
       "    </tr>\n",
       "    <tr>\n",
       "      <th>1</th>\n",
       "      <td>3075044</td>\n",
       "      <td>https://www.airbnb.com/rooms/3075044</td>\n",
       "      <td>20160906204935</td>\n",
       "      <td>2016-09-07</td>\n",
       "      <td>Charming room in pet friendly apt</td>\n",
       "      <td>Charming and quiet room in a second floor 1910...</td>\n",
       "      <td>Small but cozy and quite room with a full size...</td>\n",
       "      <td>Charming and quiet room in a second floor 1910...</td>\n",
       "      <td>none</td>\n",
       "      <td>The room is in Roslindale, a diverse and prima...</td>\n",
       "      <td>...</td>\n",
       "      <td>9.0</td>\n",
       "      <td>f</td>\n",
       "      <td>NaN</td>\n",
       "      <td>NaN</td>\n",
       "      <td>t</td>\n",
       "      <td>moderate</td>\n",
       "      <td>f</td>\n",
       "      <td>f</td>\n",
       "      <td>1</td>\n",
       "      <td>1.30</td>\n",
       "    </tr>\n",
       "    <tr>\n",
       "      <th>2</th>\n",
       "      <td>6976</td>\n",
       "      <td>https://www.airbnb.com/rooms/6976</td>\n",
       "      <td>20160906204935</td>\n",
       "      <td>2016-09-07</td>\n",
       "      <td>Mexican Folk Art Haven in Boston</td>\n",
       "      <td>Come stay with a friendly, middle-aged guy in ...</td>\n",
       "      <td>Come stay with a friendly, middle-aged guy in ...</td>\n",
       "      <td>Come stay with a friendly, middle-aged guy in ...</td>\n",
       "      <td>none</td>\n",
       "      <td>The LOCATION: Roslindale is a safe and diverse...</td>\n",
       "      <td>...</td>\n",
       "      <td>10.0</td>\n",
       "      <td>f</td>\n",
       "      <td>NaN</td>\n",
       "      <td>NaN</td>\n",
       "      <td>f</td>\n",
       "      <td>moderate</td>\n",
       "      <td>t</td>\n",
       "      <td>f</td>\n",
       "      <td>1</td>\n",
       "      <td>0.47</td>\n",
       "    </tr>\n",
       "    <tr>\n",
       "      <th>3</th>\n",
       "      <td>1436513</td>\n",
       "      <td>https://www.airbnb.com/rooms/1436513</td>\n",
       "      <td>20160906204935</td>\n",
       "      <td>2016-09-07</td>\n",
       "      <td>Spacious Sunny Bedroom Suite in Historic Home</td>\n",
       "      <td>Come experience the comforts of home away from...</td>\n",
       "      <td>Most places you find in Boston are small howev...</td>\n",
       "      <td>Come experience the comforts of home away from...</td>\n",
       "      <td>none</td>\n",
       "      <td>Roslindale is a lovely little neighborhood loc...</td>\n",
       "      <td>...</td>\n",
       "      <td>10.0</td>\n",
       "      <td>f</td>\n",
       "      <td>NaN</td>\n",
       "      <td>NaN</td>\n",
       "      <td>f</td>\n",
       "      <td>moderate</td>\n",
       "      <td>f</td>\n",
       "      <td>f</td>\n",
       "      <td>1</td>\n",
       "      <td>1.00</td>\n",
       "    </tr>\n",
       "    <tr>\n",
       "      <th>4</th>\n",
       "      <td>7651065</td>\n",
       "      <td>https://www.airbnb.com/rooms/7651065</td>\n",
       "      <td>20160906204935</td>\n",
       "      <td>2016-09-07</td>\n",
       "      <td>Come Home to Boston</td>\n",
       "      <td>My comfy, clean and relaxing home is one block...</td>\n",
       "      <td>Clean, attractive, private room, one block fro...</td>\n",
       "      <td>My comfy, clean and relaxing home is one block...</td>\n",
       "      <td>none</td>\n",
       "      <td>I love the proximity to downtown, the neighbor...</td>\n",
       "      <td>...</td>\n",
       "      <td>10.0</td>\n",
       "      <td>f</td>\n",
       "      <td>NaN</td>\n",
       "      <td>NaN</td>\n",
       "      <td>f</td>\n",
       "      <td>flexible</td>\n",
       "      <td>f</td>\n",
       "      <td>f</td>\n",
       "      <td>1</td>\n",
       "      <td>2.25</td>\n",
       "    </tr>\n",
       "  </tbody>\n",
       "</table>\n",
       "<p>5 rows × 95 columns</p>\n",
       "</div>"
      ],
      "text/plain": [
       "         id                            listing_url       scrape_id  \\\n",
       "0  12147973  https://www.airbnb.com/rooms/12147973  20160906204935   \n",
       "1   3075044   https://www.airbnb.com/rooms/3075044  20160906204935   \n",
       "2      6976      https://www.airbnb.com/rooms/6976  20160906204935   \n",
       "3   1436513   https://www.airbnb.com/rooms/1436513  20160906204935   \n",
       "4   7651065   https://www.airbnb.com/rooms/7651065  20160906204935   \n",
       "\n",
       "  last_scraped                                           name  \\\n",
       "0   2016-09-07                     Sunny Bungalow in the City   \n",
       "1   2016-09-07              Charming room in pet friendly apt   \n",
       "2   2016-09-07               Mexican Folk Art Haven in Boston   \n",
       "3   2016-09-07  Spacious Sunny Bedroom Suite in Historic Home   \n",
       "4   2016-09-07                            Come Home to Boston   \n",
       "\n",
       "                                             summary  \\\n",
       "0  Cozy, sunny, family home.  Master bedroom high...   \n",
       "1  Charming and quiet room in a second floor 1910...   \n",
       "2  Come stay with a friendly, middle-aged guy in ...   \n",
       "3  Come experience the comforts of home away from...   \n",
       "4  My comfy, clean and relaxing home is one block...   \n",
       "\n",
       "                                               space  \\\n",
       "0  The house has an open and cozy feel at the sam...   \n",
       "1  Small but cozy and quite room with a full size...   \n",
       "2  Come stay with a friendly, middle-aged guy in ...   \n",
       "3  Most places you find in Boston are small howev...   \n",
       "4  Clean, attractive, private room, one block fro...   \n",
       "\n",
       "                                         description experiences_offered  \\\n",
       "0  Cozy, sunny, family home.  Master bedroom high...                none   \n",
       "1  Charming and quiet room in a second floor 1910...                none   \n",
       "2  Come stay with a friendly, middle-aged guy in ...                none   \n",
       "3  Come experience the comforts of home away from...                none   \n",
       "4  My comfy, clean and relaxing home is one block...                none   \n",
       "\n",
       "                               neighborhood_overview  ... review_scores_value  \\\n",
       "0  Roslindale is quiet, convenient and friendly. ...  ...                 NaN   \n",
       "1  The room is in Roslindale, a diverse and prima...  ...                 9.0   \n",
       "2  The LOCATION: Roslindale is a safe and diverse...  ...                10.0   \n",
       "3  Roslindale is a lovely little neighborhood loc...  ...                10.0   \n",
       "4  I love the proximity to downtown, the neighbor...  ...                10.0   \n",
       "\n",
       "  requires_license license jurisdiction_names instant_bookable  \\\n",
       "0                f     NaN                NaN                f   \n",
       "1                f     NaN                NaN                t   \n",
       "2                f     NaN                NaN                f   \n",
       "3                f     NaN                NaN                f   \n",
       "4                f     NaN                NaN                f   \n",
       "\n",
       "  cancellation_policy require_guest_profile_picture  \\\n",
       "0            moderate                             f   \n",
       "1            moderate                             f   \n",
       "2            moderate                             t   \n",
       "3            moderate                             f   \n",
       "4            flexible                             f   \n",
       "\n",
       "  require_guest_phone_verification calculated_host_listings_count  \\\n",
       "0                                f                              1   \n",
       "1                                f                              1   \n",
       "2                                f                              1   \n",
       "3                                f                              1   \n",
       "4                                f                              1   \n",
       "\n",
       "   reviews_per_month  \n",
       "0                NaN  \n",
       "1               1.30  \n",
       "2               0.47  \n",
       "3               1.00  \n",
       "4               2.25  \n",
       "\n",
       "[5 rows x 95 columns]"
      ]
     },
     "execution_count": 253,
     "metadata": {},
     "output_type": "execute_result"
    }
   ],
   "source": [
    "df = pd.read_csv('../Datasets/listings.csv')\n",
    "df.head()"
   ]
  },
  {
   "cell_type": "code",
   "execution_count": 254,
   "metadata": {},
   "outputs": [],
   "source": [
    "df[['cancellation_policy', 'review_scores_value']].head()\n",
    "df.set_index(['cancellation_policy', 'review_scores_value'], inplace = True)\n"
   ]
  },
  {
   "cell_type": "code",
   "execution_count": 255,
   "metadata": {},
   "outputs": [
    {
     "name": "stdout",
     "output_type": "stream",
     "text": [
      "('flexible', 2.0)\n",
      "('flexible', 4.0)\n",
      "('flexible', 5.0)\n",
      "('flexible', 6.0)\n",
      "('flexible', 7.0)\n",
      "('flexible', 8.0)\n",
      "('flexible', 9.0)\n",
      "('flexible', 10.0)\n",
      "('moderate', 2.0)\n",
      "('moderate', 4.0)\n",
      "('moderate', 6.0)\n",
      "('moderate', 7.0)\n",
      "('moderate', 8.0)\n",
      "('moderate', 9.0)\n",
      "('moderate', 10.0)\n",
      "('strict', 2.0)\n",
      "('strict', 3.0)\n",
      "('strict', 4.0)\n",
      "('strict', 5.0)\n",
      "('strict', 6.0)\n",
      "('strict', 7.0)\n",
      "('strict', 8.0)\n",
      "('strict', 9.0)\n",
      "('strict', 10.0)\n",
      "('super_strict_30', 6.0)\n",
      "('super_strict_30', 7.0)\n",
      "('super_strict_30', 8.0)\n",
      "('super_strict_30', 9.0)\n",
      "('super_strict_30', 10.0)\n"
     ]
    }
   ],
   "source": [
    "for group, frame in df.groupby(level=(0,1)):\n",
    "    print(group)"
   ]
  },
  {
   "cell_type": "code",
   "execution_count": 251,
   "metadata": {},
   "outputs": [
    {
     "data": {
      "text/plain": [
       "Index(['id', 'listing_url', 'scrape_id', 'last_scraped', 'name', 'summary',\n",
       "       'space', 'description', 'experiences_offered', 'neighborhood_overview',\n",
       "       'notes', 'transit', 'access', 'interaction', 'house_rules',\n",
       "       'thumbnail_url', 'medium_url', 'picture_url', 'xl_picture_url',\n",
       "       'host_id', 'host_url', 'host_name', 'host_since', 'host_location',\n",
       "       'host_about', 'host_response_time', 'host_response_rate',\n",
       "       'host_acceptance_rate', 'host_is_superhost', 'host_thumbnail_url',\n",
       "       'host_picture_url', 'host_neighbourhood', 'host_listings_count',\n",
       "       'host_total_listings_count', 'host_verifications',\n",
       "       'host_has_profile_pic', 'host_identity_verified', 'street',\n",
       "       'neighbourhood', 'neighbourhood_cleansed',\n",
       "       'neighbourhood_group_cleansed', 'city', 'state', 'zipcode', 'market',\n",
       "       'smart_location', 'country_code', 'country', 'latitude', 'longitude',\n",
       "       'is_location_exact', 'property_type', 'room_type', 'accommodates',\n",
       "       'bathrooms', 'bedrooms', 'beds', 'bed_type', 'amenities', 'square_feet',\n",
       "       'price', 'weekly_price', 'monthly_price', 'security_deposit',\n",
       "       'cleaning_fee', 'guests_included', 'extra_people', 'minimum_nights',\n",
       "       'maximum_nights', 'calendar_updated', 'has_availability',\n",
       "       'availability_30', 'availability_60', 'availability_90',\n",
       "       'availability_365', 'calendar_last_scraped', 'number_of_reviews',\n",
       "       'first_review', 'last_review', 'review_scores_rating',\n",
       "       'review_scores_accuracy', 'review_scores_cleanliness',\n",
       "       'review_scores_checkin', 'review_scores_communication',\n",
       "       'review_scores_location', 'requires_license', 'license',\n",
       "       'jurisdiction_names', 'instant_bookable',\n",
       "       'require_guest_profile_picture', 'require_guest_phone_verification',\n",
       "       'calculated_host_listings_count', 'reviews_per_month'],\n",
       "      dtype='object')"
      ]
     },
     "execution_count": 251,
     "metadata": {},
     "output_type": "execute_result"
    }
   ],
   "source": [
    "df.columns"
   ]
  },
  {
   "cell_type": "code",
   "execution_count": 256,
   "metadata": {},
   "outputs": [
    {
     "name": "stdout",
     "output_type": "stream",
     "text": [
      "('flexible', '10.0')\n",
      "('flexible', 'not 10.0')\n",
      "('moderate', '10.0')\n",
      "('moderate', 'not 10.0')\n",
      "('strict', '10.0')\n",
      "('strict', 'not 10.0')\n",
      "('super_strict_30', '10.0')\n",
      "('super_strict_30', 'not 10.0')\n"
     ]
    }
   ],
   "source": [
    "def grouping_fun(items):\n",
    "    if items[1]==10.0:\n",
    "        return (items[0], '10.0')\n",
    "    else:\n",
    "        return (items[0], 'not 10.0')\n",
    "\n",
    "for group, frame in df.groupby(by = grouping_fun):\n",
    "    print(group)"
   ]
  },
  {
   "cell_type": "code",
   "execution_count": 257,
   "metadata": {},
   "outputs": [],
   "source": [
    "## Aggregation"
   ]
  },
  {
   "cell_type": "code",
   "execution_count": 259,
   "metadata": {},
   "outputs": [],
   "source": [
    "df.reset_index(inplace = True)"
   ]
  },
  {
   "cell_type": "code",
   "execution_count": 261,
   "metadata": {},
   "outputs": [
    {
     "data": {
      "text/html": [
       "<div>\n",
       "<style scoped>\n",
       "    .dataframe tbody tr th:only-of-type {\n",
       "        vertical-align: middle;\n",
       "    }\n",
       "\n",
       "    .dataframe tbody tr th {\n",
       "        vertical-align: top;\n",
       "    }\n",
       "\n",
       "    .dataframe thead th {\n",
       "        text-align: right;\n",
       "    }\n",
       "</style>\n",
       "<table border=\"1\" class=\"dataframe\">\n",
       "  <thead>\n",
       "    <tr style=\"text-align: right;\">\n",
       "      <th></th>\n",
       "      <th>review_scores_value</th>\n",
       "    </tr>\n",
       "    <tr>\n",
       "      <th>cancellation_policy</th>\n",
       "      <th></th>\n",
       "    </tr>\n",
       "  </thead>\n",
       "  <tbody>\n",
       "    <tr>\n",
       "      <th>flexible</th>\n",
       "      <td>9.237421</td>\n",
       "    </tr>\n",
       "    <tr>\n",
       "      <th>moderate</th>\n",
       "      <td>9.307398</td>\n",
       "    </tr>\n",
       "    <tr>\n",
       "      <th>strict</th>\n",
       "      <td>9.081441</td>\n",
       "    </tr>\n",
       "    <tr>\n",
       "      <th>super_strict_30</th>\n",
       "      <td>8.537313</td>\n",
       "    </tr>\n",
       "  </tbody>\n",
       "</table>\n",
       "</div>"
      ],
      "text/plain": [
       "                     review_scores_value\n",
       "cancellation_policy                     \n",
       "flexible                        9.237421\n",
       "moderate                        9.307398\n",
       "strict                          9.081441\n",
       "super_strict_30                 8.537313"
      ]
     },
     "execution_count": 261,
     "metadata": {},
     "output_type": "execute_result"
    }
   ],
   "source": [
    "df.groupby('cancellation_policy').agg({'review_scores_value':'mean'})"
   ]
  },
  {
   "cell_type": "code",
   "execution_count": 264,
   "metadata": {},
   "outputs": [
    {
     "data": {
      "text/html": [
       "<div>\n",
       "<style scoped>\n",
       "    .dataframe tbody tr th:only-of-type {\n",
       "        vertical-align: middle;\n",
       "    }\n",
       "\n",
       "    .dataframe tbody tr th {\n",
       "        vertical-align: top;\n",
       "    }\n",
       "\n",
       "    .dataframe thead th {\n",
       "        text-align: right;\n",
       "    }\n",
       "</style>\n",
       "<table border=\"1\" class=\"dataframe\">\n",
       "  <thead>\n",
       "    <tr style=\"text-align: right;\">\n",
       "      <th></th>\n",
       "      <th>review_scores_value</th>\n",
       "    </tr>\n",
       "    <tr>\n",
       "      <th>cancellation_policy</th>\n",
       "      <th></th>\n",
       "    </tr>\n",
       "  </thead>\n",
       "  <tbody>\n",
       "    <tr>\n",
       "      <th>flexible</th>\n",
       "      <td>9.237421</td>\n",
       "    </tr>\n",
       "    <tr>\n",
       "      <th>moderate</th>\n",
       "      <td>9.307398</td>\n",
       "    </tr>\n",
       "    <tr>\n",
       "      <th>strict</th>\n",
       "      <td>9.081441</td>\n",
       "    </tr>\n",
       "    <tr>\n",
       "      <th>super_strict_30</th>\n",
       "      <td>8.537313</td>\n",
       "    </tr>\n",
       "  </tbody>\n",
       "</table>\n",
       "</div>"
      ],
      "text/plain": [
       "                     review_scores_value\n",
       "cancellation_policy                     \n",
       "flexible                        9.237421\n",
       "moderate                        9.307398\n",
       "strict                          9.081441\n",
       "super_strict_30                 8.537313"
      ]
     },
     "execution_count": 264,
     "metadata": {},
     "output_type": "execute_result"
    }
   ],
   "source": [
    "# np.nanmean allow null values\n",
    "df.groupby('cancellation_policy').agg({'review_scores_value':np.nanmean})"
   ]
  },
  {
   "cell_type": "code",
   "execution_count": 263,
   "metadata": {},
   "outputs": [
    {
     "data": {
      "text/html": [
       "<div>\n",
       "<style scoped>\n",
       "    .dataframe tbody tr th:only-of-type {\n",
       "        vertical-align: middle;\n",
       "    }\n",
       "\n",
       "    .dataframe tbody tr th {\n",
       "        vertical-align: top;\n",
       "    }\n",
       "\n",
       "    .dataframe thead th {\n",
       "        text-align: right;\n",
       "    }\n",
       "</style>\n",
       "<table border=\"1\" class=\"dataframe\">\n",
       "  <thead>\n",
       "    <tr style=\"text-align: right;\">\n",
       "      <th></th>\n",
       "      <th>review_scores_value</th>\n",
       "    </tr>\n",
       "    <tr>\n",
       "      <th>cancellation_policy</th>\n",
       "      <th></th>\n",
       "    </tr>\n",
       "  </thead>\n",
       "  <tbody>\n",
       "    <tr>\n",
       "      <th>flexible</th>\n",
       "      <td>NaN</td>\n",
       "    </tr>\n",
       "    <tr>\n",
       "      <th>moderate</th>\n",
       "      <td>NaN</td>\n",
       "    </tr>\n",
       "    <tr>\n",
       "      <th>strict</th>\n",
       "      <td>NaN</td>\n",
       "    </tr>\n",
       "    <tr>\n",
       "      <th>super_strict_30</th>\n",
       "      <td>NaN</td>\n",
       "    </tr>\n",
       "  </tbody>\n",
       "</table>\n",
       "</div>"
      ],
      "text/plain": [
       "                     review_scores_value\n",
       "cancellation_policy                     \n",
       "flexible                             NaN\n",
       "moderate                             NaN\n",
       "strict                               NaN\n",
       "super_strict_30                      NaN"
      ]
     },
     "execution_count": 263,
     "metadata": {},
     "output_type": "execute_result"
    }
   ],
   "source": [
    "df.groupby('cancellation_policy').agg({'review_scores_value':np.average})"
   ]
  },
  {
   "cell_type": "code",
   "execution_count": 265,
   "metadata": {},
   "outputs": [
    {
     "data": {
      "text/html": [
       "<div>\n",
       "<style scoped>\n",
       "    .dataframe tbody tr th:only-of-type {\n",
       "        vertical-align: middle;\n",
       "    }\n",
       "\n",
       "    .dataframe tbody tr th {\n",
       "        vertical-align: top;\n",
       "    }\n",
       "\n",
       "    .dataframe thead tr th {\n",
       "        text-align: left;\n",
       "    }\n",
       "\n",
       "    .dataframe thead tr:last-of-type th {\n",
       "        text-align: right;\n",
       "    }\n",
       "</style>\n",
       "<table border=\"1\" class=\"dataframe\">\n",
       "  <thead>\n",
       "    <tr>\n",
       "      <th></th>\n",
       "      <th colspan=\"2\" halign=\"left\">review_scores_value</th>\n",
       "      <th>reviews_per_month</th>\n",
       "    </tr>\n",
       "    <tr>\n",
       "      <th></th>\n",
       "      <th>nanmean</th>\n",
       "      <th>nanstd</th>\n",
       "      <th>nanmean</th>\n",
       "    </tr>\n",
       "    <tr>\n",
       "      <th>cancellation_policy</th>\n",
       "      <th></th>\n",
       "      <th></th>\n",
       "      <th></th>\n",
       "    </tr>\n",
       "  </thead>\n",
       "  <tbody>\n",
       "    <tr>\n",
       "      <th>flexible</th>\n",
       "      <td>9.237421</td>\n",
       "      <td>1.096271</td>\n",
       "      <td>1.829210</td>\n",
       "    </tr>\n",
       "    <tr>\n",
       "      <th>moderate</th>\n",
       "      <td>9.307398</td>\n",
       "      <td>0.859859</td>\n",
       "      <td>2.391922</td>\n",
       "    </tr>\n",
       "    <tr>\n",
       "      <th>strict</th>\n",
       "      <td>9.081441</td>\n",
       "      <td>1.040531</td>\n",
       "      <td>1.873467</td>\n",
       "    </tr>\n",
       "    <tr>\n",
       "      <th>super_strict_30</th>\n",
       "      <td>8.537313</td>\n",
       "      <td>0.840785</td>\n",
       "      <td>0.340143</td>\n",
       "    </tr>\n",
       "  </tbody>\n",
       "</table>\n",
       "</div>"
      ],
      "text/plain": [
       "                    review_scores_value           reviews_per_month\n",
       "                                nanmean    nanstd           nanmean\n",
       "cancellation_policy                                                \n",
       "flexible                       9.237421  1.096271          1.829210\n",
       "moderate                       9.307398  0.859859          2.391922\n",
       "strict                         9.081441  1.040531          1.873467\n",
       "super_strict_30                8.537313  0.840785          0.340143"
      ]
     },
     "execution_count": 265,
     "metadata": {},
     "output_type": "execute_result"
    }
   ],
   "source": [
    "df.groupby('cancellation_policy').agg({'review_scores_value':(np.nanmean, np.nanstd),\n",
    "                                       'reviews_per_month':np.nanmean\n",
    "                                    })"
   ]
  },
  {
   "cell_type": "code",
   "execution_count": 270,
   "metadata": {},
   "outputs": [
    {
     "data": {
      "text/html": [
       "<div>\n",
       "<style scoped>\n",
       "    .dataframe tbody tr th:only-of-type {\n",
       "        vertical-align: middle;\n",
       "    }\n",
       "\n",
       "    .dataframe tbody tr th {\n",
       "        vertical-align: top;\n",
       "    }\n",
       "\n",
       "    .dataframe thead th {\n",
       "        text-align: right;\n",
       "    }\n",
       "</style>\n",
       "<table border=\"1\" class=\"dataframe\">\n",
       "  <thead>\n",
       "    <tr style=\"text-align: right;\">\n",
       "      <th></th>\n",
       "      <th>review_scores_value</th>\n",
       "    </tr>\n",
       "  </thead>\n",
       "  <tbody>\n",
       "    <tr>\n",
       "      <th>0</th>\n",
       "      <td>9.307398</td>\n",
       "    </tr>\n",
       "    <tr>\n",
       "      <th>1</th>\n",
       "      <td>9.307398</td>\n",
       "    </tr>\n",
       "    <tr>\n",
       "      <th>2</th>\n",
       "      <td>9.307398</td>\n",
       "    </tr>\n",
       "    <tr>\n",
       "      <th>3</th>\n",
       "      <td>9.307398</td>\n",
       "    </tr>\n",
       "    <tr>\n",
       "      <th>4</th>\n",
       "      <td>9.237421</td>\n",
       "    </tr>\n",
       "  </tbody>\n",
       "</table>\n",
       "</div>"
      ],
      "text/plain": [
       "   review_scores_value\n",
       "0             9.307398\n",
       "1             9.307398\n",
       "2             9.307398\n",
       "3             9.307398\n",
       "4             9.237421"
      ]
     },
     "execution_count": 270,
     "metadata": {},
     "output_type": "execute_result"
    }
   ],
   "source": [
    "# Transformation\n",
    "col = ['cancellation_policy', 'review_scores_value']\n",
    "\n",
    "transform_df = df[col].groupby('cancellation_policy').transform(np.nanmean)\n",
    "transform_df.head()"
   ]
  },
  {
   "cell_type": "code",
   "execution_count": 273,
   "metadata": {},
   "outputs": [
    {
     "data": {
      "text/html": [
       "<div>\n",
       "<style scoped>\n",
       "    .dataframe tbody tr th:only-of-type {\n",
       "        vertical-align: middle;\n",
       "    }\n",
       "\n",
       "    .dataframe tbody tr th {\n",
       "        vertical-align: top;\n",
       "    }\n",
       "\n",
       "    .dataframe thead th {\n",
       "        text-align: right;\n",
       "    }\n",
       "</style>\n",
       "<table border=\"1\" class=\"dataframe\">\n",
       "  <thead>\n",
       "    <tr style=\"text-align: right;\">\n",
       "      <th></th>\n",
       "      <th>mean_scores_value</th>\n",
       "    </tr>\n",
       "  </thead>\n",
       "  <tbody>\n",
       "    <tr>\n",
       "      <th>0</th>\n",
       "      <td>9.307398</td>\n",
       "    </tr>\n",
       "    <tr>\n",
       "      <th>1</th>\n",
       "      <td>9.307398</td>\n",
       "    </tr>\n",
       "    <tr>\n",
       "      <th>2</th>\n",
       "      <td>9.307398</td>\n",
       "    </tr>\n",
       "    <tr>\n",
       "      <th>3</th>\n",
       "      <td>9.307398</td>\n",
       "    </tr>\n",
       "    <tr>\n",
       "      <th>4</th>\n",
       "      <td>9.237421</td>\n",
       "    </tr>\n",
       "  </tbody>\n",
       "</table>\n",
       "</div>"
      ],
      "text/plain": [
       "   mean_scores_value\n",
       "0           9.307398\n",
       "1           9.307398\n",
       "2           9.307398\n",
       "3           9.307398\n",
       "4           9.237421"
      ]
     },
     "execution_count": 273,
     "metadata": {},
     "output_type": "execute_result"
    }
   ],
   "source": [
    "transform_df.rename(columns=({'review_scores_value': 'mean_scores_value'}), inplace = True)\n",
    "transform_df.head()"
   ]
  },
  {
   "cell_type": "code",
   "execution_count": 274,
   "metadata": {},
   "outputs": [],
   "source": [
    "df = df.merge(transform_df, left_index=True, right_index= True)"
   ]
  },
  {
   "cell_type": "code",
   "execution_count": 276,
   "metadata": {},
   "outputs": [
    {
     "data": {
      "text/html": [
       "<div>\n",
       "<style scoped>\n",
       "    .dataframe tbody tr th:only-of-type {\n",
       "        vertical-align: middle;\n",
       "    }\n",
       "\n",
       "    .dataframe tbody tr th {\n",
       "        vertical-align: top;\n",
       "    }\n",
       "\n",
       "    .dataframe thead th {\n",
       "        text-align: right;\n",
       "    }\n",
       "</style>\n",
       "<table border=\"1\" class=\"dataframe\">\n",
       "  <thead>\n",
       "    <tr style=\"text-align: right;\">\n",
       "      <th></th>\n",
       "      <th>cancellation_policy</th>\n",
       "      <th>review_scores_value</th>\n",
       "      <th>id</th>\n",
       "      <th>listing_url</th>\n",
       "      <th>scrape_id</th>\n",
       "      <th>last_scraped</th>\n",
       "      <th>name</th>\n",
       "      <th>summary</th>\n",
       "      <th>space</th>\n",
       "      <th>description</th>\n",
       "      <th>...</th>\n",
       "      <th>review_scores_location</th>\n",
       "      <th>requires_license</th>\n",
       "      <th>license</th>\n",
       "      <th>jurisdiction_names</th>\n",
       "      <th>instant_bookable</th>\n",
       "      <th>require_guest_profile_picture</th>\n",
       "      <th>require_guest_phone_verification</th>\n",
       "      <th>calculated_host_listings_count</th>\n",
       "      <th>reviews_per_month</th>\n",
       "      <th>mean_scores_value</th>\n",
       "    </tr>\n",
       "  </thead>\n",
       "  <tbody>\n",
       "    <tr>\n",
       "      <th>0</th>\n",
       "      <td>moderate</td>\n",
       "      <td>NaN</td>\n",
       "      <td>12147973</td>\n",
       "      <td>https://www.airbnb.com/rooms/12147973</td>\n",
       "      <td>20160906204935</td>\n",
       "      <td>2016-09-07</td>\n",
       "      <td>Sunny Bungalow in the City</td>\n",
       "      <td>Cozy, sunny, family home.  Master bedroom high...</td>\n",
       "      <td>The house has an open and cozy feel at the sam...</td>\n",
       "      <td>Cozy, sunny, family home.  Master bedroom high...</td>\n",
       "      <td>...</td>\n",
       "      <td>NaN</td>\n",
       "      <td>f</td>\n",
       "      <td>NaN</td>\n",
       "      <td>NaN</td>\n",
       "      <td>f</td>\n",
       "      <td>f</td>\n",
       "      <td>f</td>\n",
       "      <td>1</td>\n",
       "      <td>NaN</td>\n",
       "      <td>9.307398</td>\n",
       "    </tr>\n",
       "    <tr>\n",
       "      <th>1</th>\n",
       "      <td>moderate</td>\n",
       "      <td>9.0</td>\n",
       "      <td>3075044</td>\n",
       "      <td>https://www.airbnb.com/rooms/3075044</td>\n",
       "      <td>20160906204935</td>\n",
       "      <td>2016-09-07</td>\n",
       "      <td>Charming room in pet friendly apt</td>\n",
       "      <td>Charming and quiet room in a second floor 1910...</td>\n",
       "      <td>Small but cozy and quite room with a full size...</td>\n",
       "      <td>Charming and quiet room in a second floor 1910...</td>\n",
       "      <td>...</td>\n",
       "      <td>9.0</td>\n",
       "      <td>f</td>\n",
       "      <td>NaN</td>\n",
       "      <td>NaN</td>\n",
       "      <td>t</td>\n",
       "      <td>f</td>\n",
       "      <td>f</td>\n",
       "      <td>1</td>\n",
       "      <td>1.30</td>\n",
       "      <td>9.307398</td>\n",
       "    </tr>\n",
       "    <tr>\n",
       "      <th>2</th>\n",
       "      <td>moderate</td>\n",
       "      <td>10.0</td>\n",
       "      <td>6976</td>\n",
       "      <td>https://www.airbnb.com/rooms/6976</td>\n",
       "      <td>20160906204935</td>\n",
       "      <td>2016-09-07</td>\n",
       "      <td>Mexican Folk Art Haven in Boston</td>\n",
       "      <td>Come stay with a friendly, middle-aged guy in ...</td>\n",
       "      <td>Come stay with a friendly, middle-aged guy in ...</td>\n",
       "      <td>Come stay with a friendly, middle-aged guy in ...</td>\n",
       "      <td>...</td>\n",
       "      <td>9.0</td>\n",
       "      <td>f</td>\n",
       "      <td>NaN</td>\n",
       "      <td>NaN</td>\n",
       "      <td>f</td>\n",
       "      <td>t</td>\n",
       "      <td>f</td>\n",
       "      <td>1</td>\n",
       "      <td>0.47</td>\n",
       "      <td>9.307398</td>\n",
       "    </tr>\n",
       "    <tr>\n",
       "      <th>3</th>\n",
       "      <td>moderate</td>\n",
       "      <td>10.0</td>\n",
       "      <td>1436513</td>\n",
       "      <td>https://www.airbnb.com/rooms/1436513</td>\n",
       "      <td>20160906204935</td>\n",
       "      <td>2016-09-07</td>\n",
       "      <td>Spacious Sunny Bedroom Suite in Historic Home</td>\n",
       "      <td>Come experience the comforts of home away from...</td>\n",
       "      <td>Most places you find in Boston are small howev...</td>\n",
       "      <td>Come experience the comforts of home away from...</td>\n",
       "      <td>...</td>\n",
       "      <td>10.0</td>\n",
       "      <td>f</td>\n",
       "      <td>NaN</td>\n",
       "      <td>NaN</td>\n",
       "      <td>f</td>\n",
       "      <td>f</td>\n",
       "      <td>f</td>\n",
       "      <td>1</td>\n",
       "      <td>1.00</td>\n",
       "      <td>9.307398</td>\n",
       "    </tr>\n",
       "    <tr>\n",
       "      <th>4</th>\n",
       "      <td>flexible</td>\n",
       "      <td>10.0</td>\n",
       "      <td>7651065</td>\n",
       "      <td>https://www.airbnb.com/rooms/7651065</td>\n",
       "      <td>20160906204935</td>\n",
       "      <td>2016-09-07</td>\n",
       "      <td>Come Home to Boston</td>\n",
       "      <td>My comfy, clean and relaxing home is one block...</td>\n",
       "      <td>Clean, attractive, private room, one block fro...</td>\n",
       "      <td>My comfy, clean and relaxing home is one block...</td>\n",
       "      <td>...</td>\n",
       "      <td>9.0</td>\n",
       "      <td>f</td>\n",
       "      <td>NaN</td>\n",
       "      <td>NaN</td>\n",
       "      <td>f</td>\n",
       "      <td>f</td>\n",
       "      <td>f</td>\n",
       "      <td>1</td>\n",
       "      <td>2.25</td>\n",
       "      <td>9.237421</td>\n",
       "    </tr>\n",
       "  </tbody>\n",
       "</table>\n",
       "<p>5 rows × 96 columns</p>\n",
       "</div>"
      ],
      "text/plain": [
       "  cancellation_policy  review_scores_value        id  \\\n",
       "0            moderate                  NaN  12147973   \n",
       "1            moderate                  9.0   3075044   \n",
       "2            moderate                 10.0      6976   \n",
       "3            moderate                 10.0   1436513   \n",
       "4            flexible                 10.0   7651065   \n",
       "\n",
       "                             listing_url       scrape_id last_scraped  \\\n",
       "0  https://www.airbnb.com/rooms/12147973  20160906204935   2016-09-07   \n",
       "1   https://www.airbnb.com/rooms/3075044  20160906204935   2016-09-07   \n",
       "2      https://www.airbnb.com/rooms/6976  20160906204935   2016-09-07   \n",
       "3   https://www.airbnb.com/rooms/1436513  20160906204935   2016-09-07   \n",
       "4   https://www.airbnb.com/rooms/7651065  20160906204935   2016-09-07   \n",
       "\n",
       "                                            name  \\\n",
       "0                     Sunny Bungalow in the City   \n",
       "1              Charming room in pet friendly apt   \n",
       "2               Mexican Folk Art Haven in Boston   \n",
       "3  Spacious Sunny Bedroom Suite in Historic Home   \n",
       "4                            Come Home to Boston   \n",
       "\n",
       "                                             summary  \\\n",
       "0  Cozy, sunny, family home.  Master bedroom high...   \n",
       "1  Charming and quiet room in a second floor 1910...   \n",
       "2  Come stay with a friendly, middle-aged guy in ...   \n",
       "3  Come experience the comforts of home away from...   \n",
       "4  My comfy, clean and relaxing home is one block...   \n",
       "\n",
       "                                               space  \\\n",
       "0  The house has an open and cozy feel at the sam...   \n",
       "1  Small but cozy and quite room with a full size...   \n",
       "2  Come stay with a friendly, middle-aged guy in ...   \n",
       "3  Most places you find in Boston are small howev...   \n",
       "4  Clean, attractive, private room, one block fro...   \n",
       "\n",
       "                                         description  ...  \\\n",
       "0  Cozy, sunny, family home.  Master bedroom high...  ...   \n",
       "1  Charming and quiet room in a second floor 1910...  ...   \n",
       "2  Come stay with a friendly, middle-aged guy in ...  ...   \n",
       "3  Come experience the comforts of home away from...  ...   \n",
       "4  My comfy, clean and relaxing home is one block...  ...   \n",
       "\n",
       "  review_scores_location requires_license license jurisdiction_names  \\\n",
       "0                    NaN                f     NaN                NaN   \n",
       "1                    9.0                f     NaN                NaN   \n",
       "2                    9.0                f     NaN                NaN   \n",
       "3                   10.0                f     NaN                NaN   \n",
       "4                    9.0                f     NaN                NaN   \n",
       "\n",
       "  instant_bookable require_guest_profile_picture  \\\n",
       "0                f                             f   \n",
       "1                t                             f   \n",
       "2                f                             t   \n",
       "3                f                             f   \n",
       "4                f                             f   \n",
       "\n",
       "  require_guest_phone_verification calculated_host_listings_count  \\\n",
       "0                                f                              1   \n",
       "1                                f                              1   \n",
       "2                                f                              1   \n",
       "3                                f                              1   \n",
       "4                                f                              1   \n",
       "\n",
       "  reviews_per_month mean_scores_value  \n",
       "0               NaN          9.307398  \n",
       "1              1.30          9.307398  \n",
       "2              0.47          9.307398  \n",
       "3              1.00          9.307398  \n",
       "4              2.25          9.237421  \n",
       "\n",
       "[5 rows x 96 columns]"
      ]
     },
     "execution_count": 276,
     "metadata": {},
     "output_type": "execute_result"
    }
   ],
   "source": [
    "df.head()"
   ]
  },
  {
   "cell_type": "code",
   "execution_count": 277,
   "metadata": {},
   "outputs": [],
   "source": [
    "df['mean_diff'] = np.absolute(df['review_scores_value'] -df['mean_scores_value'])"
   ]
  },
  {
   "cell_type": "code",
   "execution_count": 278,
   "metadata": {},
   "outputs": [
    {
     "data": {
      "text/html": [
       "<div>\n",
       "<style scoped>\n",
       "    .dataframe tbody tr th:only-of-type {\n",
       "        vertical-align: middle;\n",
       "    }\n",
       "\n",
       "    .dataframe tbody tr th {\n",
       "        vertical-align: top;\n",
       "    }\n",
       "\n",
       "    .dataframe thead th {\n",
       "        text-align: right;\n",
       "    }\n",
       "</style>\n",
       "<table border=\"1\" class=\"dataframe\">\n",
       "  <thead>\n",
       "    <tr style=\"text-align: right;\">\n",
       "      <th></th>\n",
       "      <th>review_scores_value</th>\n",
       "      <th>mean_scores_value</th>\n",
       "      <th>mean_diff</th>\n",
       "    </tr>\n",
       "  </thead>\n",
       "  <tbody>\n",
       "    <tr>\n",
       "      <th>0</th>\n",
       "      <td>NaN</td>\n",
       "      <td>9.307398</td>\n",
       "      <td>NaN</td>\n",
       "    </tr>\n",
       "    <tr>\n",
       "      <th>1</th>\n",
       "      <td>9.0</td>\n",
       "      <td>9.307398</td>\n",
       "      <td>0.307398</td>\n",
       "    </tr>\n",
       "    <tr>\n",
       "      <th>2</th>\n",
       "      <td>10.0</td>\n",
       "      <td>9.307398</td>\n",
       "      <td>0.692602</td>\n",
       "    </tr>\n",
       "    <tr>\n",
       "      <th>3</th>\n",
       "      <td>10.0</td>\n",
       "      <td>9.307398</td>\n",
       "      <td>0.692602</td>\n",
       "    </tr>\n",
       "    <tr>\n",
       "      <th>4</th>\n",
       "      <td>10.0</td>\n",
       "      <td>9.237421</td>\n",
       "      <td>0.762579</td>\n",
       "    </tr>\n",
       "  </tbody>\n",
       "</table>\n",
       "</div>"
      ],
      "text/plain": [
       "   review_scores_value  mean_scores_value  mean_diff\n",
       "0                  NaN           9.307398        NaN\n",
       "1                  9.0           9.307398   0.307398\n",
       "2                 10.0           9.307398   0.692602\n",
       "3                 10.0           9.307398   0.692602\n",
       "4                 10.0           9.237421   0.762579"
      ]
     },
     "execution_count": 278,
     "metadata": {},
     "output_type": "execute_result"
    }
   ],
   "source": [
    "df[['review_scores_value', 'mean_scores_value', 'mean_diff']].head()"
   ]
  },
  {
   "cell_type": "code",
   "execution_count": 281,
   "metadata": {},
   "outputs": [
    {
     "data": {
      "text/plain": [
       "(1918, 97)"
      ]
     },
     "execution_count": 281,
     "metadata": {},
     "output_type": "execute_result"
    }
   ],
   "source": [
    "## Filtering\n",
    "filtering_df = df.groupby('cancellation_policy').filter(lambda x: np.nanmean(x['review_scores_value'])>9.2)\n",
    "filtering_df.shape"
   ]
  },
  {
   "cell_type": "code",
   "execution_count": 282,
   "metadata": {},
   "outputs": [
    {
     "data": {
      "text/plain": [
       "(3585, 97)"
      ]
     },
     "execution_count": 282,
     "metadata": {},
     "output_type": "execute_result"
    }
   ],
   "source": [
    "df.shape"
   ]
  },
  {
   "cell_type": "code",
   "execution_count": 285,
   "metadata": {},
   "outputs": [
    {
     "data": {
      "text/html": [
       "<div>\n",
       "<style scoped>\n",
       "    .dataframe tbody tr th:only-of-type {\n",
       "        vertical-align: middle;\n",
       "    }\n",
       "\n",
       "    .dataframe tbody tr th {\n",
       "        vertical-align: top;\n",
       "    }\n",
       "\n",
       "    .dataframe thead th {\n",
       "        text-align: right;\n",
       "    }\n",
       "</style>\n",
       "<table border=\"1\" class=\"dataframe\">\n",
       "  <thead>\n",
       "    <tr style=\"text-align: right;\">\n",
       "      <th></th>\n",
       "      <th>cancellation_policy</th>\n",
       "      <th>review_scores_value</th>\n",
       "    </tr>\n",
       "  </thead>\n",
       "  <tbody>\n",
       "    <tr>\n",
       "      <th>0</th>\n",
       "      <td>moderate</td>\n",
       "      <td>NaN</td>\n",
       "    </tr>\n",
       "    <tr>\n",
       "      <th>1</th>\n",
       "      <td>moderate</td>\n",
       "      <td>9.0</td>\n",
       "    </tr>\n",
       "    <tr>\n",
       "      <th>2</th>\n",
       "      <td>moderate</td>\n",
       "      <td>10.0</td>\n",
       "    </tr>\n",
       "    <tr>\n",
       "      <th>3</th>\n",
       "      <td>moderate</td>\n",
       "      <td>10.0</td>\n",
       "    </tr>\n",
       "    <tr>\n",
       "      <th>4</th>\n",
       "      <td>flexible</td>\n",
       "      <td>10.0</td>\n",
       "    </tr>\n",
       "  </tbody>\n",
       "</table>\n",
       "</div>"
      ],
      "text/plain": [
       "  cancellation_policy  review_scores_value\n",
       "0            moderate                  NaN\n",
       "1            moderate                  9.0\n",
       "2            moderate                 10.0\n",
       "3            moderate                 10.0\n",
       "4            flexible                 10.0"
      ]
     },
     "execution_count": 285,
     "metadata": {},
     "output_type": "execute_result"
    }
   ],
   "source": [
    "# Applying\n",
    "df = pd.read_csv('../Datasets/listings.csv')\n",
    "df = df[['cancellation_policy', 'review_scores_value']]\n",
    "df.head()\n"
   ]
  },
  {
   "cell_type": "code",
   "execution_count": 286,
   "metadata": {},
   "outputs": [],
   "source": [
    "def calc_mean_review_scores(group):\n",
    "    avg = np.nanmean(group['review_scores_value'])\n",
    "    group['review_score_mean'] = np.absolute(avg - group['review_scores_value'])\n",
    "\n",
    "    return group"
   ]
  },
  {
   "cell_type": "code",
   "execution_count": 287,
   "metadata": {},
   "outputs": [
    {
     "data": {
      "text/html": [
       "<div>\n",
       "<style scoped>\n",
       "    .dataframe tbody tr th:only-of-type {\n",
       "        vertical-align: middle;\n",
       "    }\n",
       "\n",
       "    .dataframe tbody tr th {\n",
       "        vertical-align: top;\n",
       "    }\n",
       "\n",
       "    .dataframe thead th {\n",
       "        text-align: right;\n",
       "    }\n",
       "</style>\n",
       "<table border=\"1\" class=\"dataframe\">\n",
       "  <thead>\n",
       "    <tr style=\"text-align: right;\">\n",
       "      <th></th>\n",
       "      <th>cancellation_policy</th>\n",
       "      <th>review_scores_value</th>\n",
       "      <th>review_score_mean</th>\n",
       "    </tr>\n",
       "  </thead>\n",
       "  <tbody>\n",
       "    <tr>\n",
       "      <th>0</th>\n",
       "      <td>moderate</td>\n",
       "      <td>NaN</td>\n",
       "      <td>NaN</td>\n",
       "    </tr>\n",
       "    <tr>\n",
       "      <th>1</th>\n",
       "      <td>moderate</td>\n",
       "      <td>9.0</td>\n",
       "      <td>0.307398</td>\n",
       "    </tr>\n",
       "    <tr>\n",
       "      <th>2</th>\n",
       "      <td>moderate</td>\n",
       "      <td>10.0</td>\n",
       "      <td>0.692602</td>\n",
       "    </tr>\n",
       "    <tr>\n",
       "      <th>3</th>\n",
       "      <td>moderate</td>\n",
       "      <td>10.0</td>\n",
       "      <td>0.692602</td>\n",
       "    </tr>\n",
       "    <tr>\n",
       "      <th>4</th>\n",
       "      <td>flexible</td>\n",
       "      <td>10.0</td>\n",
       "      <td>0.762579</td>\n",
       "    </tr>\n",
       "  </tbody>\n",
       "</table>\n",
       "</div>"
      ],
      "text/plain": [
       "  cancellation_policy  review_scores_value  review_score_mean\n",
       "0            moderate                  NaN                NaN\n",
       "1            moderate                  9.0           0.307398\n",
       "2            moderate                 10.0           0.692602\n",
       "3            moderate                 10.0           0.692602\n",
       "4            flexible                 10.0           0.762579"
      ]
     },
     "execution_count": 287,
     "metadata": {},
     "output_type": "execute_result"
    }
   ],
   "source": [
    "df.groupby('cancellation_policy').apply(calc_mean_review_scores).head()"
   ]
  },
  {
   "cell_type": "code",
   "execution_count": null,
   "metadata": {},
   "outputs": [],
   "source": [
    "# nominal ==> categorial\n",
    "## .astype(...)\n",
    "## Categorical type"
   ]
  },
  {
   "cell_type": "code",
   "execution_count": 288,
   "metadata": {},
   "outputs": [
    {
     "data": {
      "text/html": [
       "<div>\n",
       "<style scoped>\n",
       "    .dataframe tbody tr th:only-of-type {\n",
       "        vertical-align: middle;\n",
       "    }\n",
       "\n",
       "    .dataframe tbody tr th {\n",
       "        vertical-align: top;\n",
       "    }\n",
       "\n",
       "    .dataframe thead th {\n",
       "        text-align: right;\n",
       "    }\n",
       "</style>\n",
       "<table border=\"1\" class=\"dataframe\">\n",
       "  <thead>\n",
       "    <tr style=\"text-align: right;\">\n",
       "      <th></th>\n",
       "      <th>Grades</th>\n",
       "    </tr>\n",
       "  </thead>\n",
       "  <tbody>\n",
       "    <tr>\n",
       "      <th>excellent</th>\n",
       "      <td>A+</td>\n",
       "    </tr>\n",
       "    <tr>\n",
       "      <th>excellent</th>\n",
       "      <td>A</td>\n",
       "    </tr>\n",
       "    <tr>\n",
       "      <th>excellent</th>\n",
       "      <td>A-</td>\n",
       "    </tr>\n",
       "    <tr>\n",
       "      <th>good</th>\n",
       "      <td>B+</td>\n",
       "    </tr>\n",
       "    <tr>\n",
       "      <th>good</th>\n",
       "      <td>B</td>\n",
       "    </tr>\n",
       "    <tr>\n",
       "      <th>good</th>\n",
       "      <td>B-</td>\n",
       "    </tr>\n",
       "    <tr>\n",
       "      <th>ok</th>\n",
       "      <td>C+</td>\n",
       "    </tr>\n",
       "    <tr>\n",
       "      <th>ok</th>\n",
       "      <td>C</td>\n",
       "    </tr>\n",
       "    <tr>\n",
       "      <th>ok</th>\n",
       "      <td>C-</td>\n",
       "    </tr>\n",
       "    <tr>\n",
       "      <th>poor</th>\n",
       "      <td>D+</td>\n",
       "    </tr>\n",
       "    <tr>\n",
       "      <th>poor</th>\n",
       "      <td>D</td>\n",
       "    </tr>\n",
       "  </tbody>\n",
       "</table>\n",
       "</div>"
      ],
      "text/plain": [
       "          Grades\n",
       "excellent     A+\n",
       "excellent      A\n",
       "excellent     A-\n",
       "good          B+\n",
       "good           B\n",
       "good          B-\n",
       "ok            C+\n",
       "ok             C\n",
       "ok            C-\n",
       "poor          D+\n",
       "poor           D"
      ]
     },
     "execution_count": 288,
     "metadata": {},
     "output_type": "execute_result"
    }
   ],
   "source": [
    "import pandas as pd\n",
    "df = pd.DataFrame(['A+','A', 'A-', 'B+', 'B', 'B-', 'C+', 'C', 'C-', 'D+', 'D'],\n",
    "                  index =['excellent','excellent','excellent', 'good','good', 'good', \n",
    "                  'ok','ok','ok', 'poor','poor'],\n",
    "                  columns = ['Grades']\n",
    ")\n",
    "df"
   ]
  },
  {
   "cell_type": "code",
   "execution_count": 289,
   "metadata": {},
   "outputs": [
    {
     "data": {
      "text/plain": [
       "Grades    object\n",
       "dtype: object"
      ]
     },
     "execution_count": 289,
     "metadata": {},
     "output_type": "execute_result"
    }
   ],
   "source": [
    "df.dtypes"
   ]
  },
  {
   "cell_type": "code",
   "execution_count": 290,
   "metadata": {},
   "outputs": [
    {
     "data": {
      "text/plain": [
       "excellent    A+\n",
       "excellent     A\n",
       "excellent    A-\n",
       "good         B+\n",
       "good          B\n",
       "Name: Grades, dtype: category\n",
       "Categories (11, object): ['A', 'A+', 'A-', 'B', ..., 'C+', 'C-', 'D', 'D+']"
      ]
     },
     "execution_count": 290,
     "metadata": {},
     "output_type": "execute_result"
    }
   ],
   "source": [
    "df['Grades'].astype('category').head()"
   ]
  },
  {
   "cell_type": "code",
   "execution_count": 294,
   "metadata": {},
   "outputs": [
    {
     "data": {
      "text/plain": [
       "excellent    A+\n",
       "excellent     A\n",
       "excellent    A-\n",
       "good         B+\n",
       "good          B\n",
       "good         B-\n",
       "ok           C+\n",
       "ok            C\n",
       "ok           C-\n",
       "poor         D+\n",
       "poor          D\n",
       "Name: Grades, dtype: category\n",
       "Categories (11, object): ['D' < 'D+' < 'C-' < 'C' ... 'B+' < 'A-' < 'A' < 'A+']"
      ]
     },
     "execution_count": 294,
     "metadata": {},
     "output_type": "execute_result"
    }
   ],
   "source": [
    "my_categories = pd.CategoricalDtype(\n",
    "    categories=['D', 'D+', 'C-', 'C', 'C+', 'B-', 'B', 'B+', 'A-', 'A', 'A+'],\n",
    "    ordered = True)\n",
    "grades = df['Grades'].astype(my_categories)\n",
    "grades\n"
   ]
  },
  {
   "cell_type": "code",
   "execution_count": 297,
   "metadata": {},
   "outputs": [
    {
     "data": {
      "text/html": [
       "<div>\n",
       "<style scoped>\n",
       "    .dataframe tbody tr th:only-of-type {\n",
       "        vertical-align: middle;\n",
       "    }\n",
       "\n",
       "    .dataframe tbody tr th {\n",
       "        vertical-align: top;\n",
       "    }\n",
       "\n",
       "    .dataframe thead th {\n",
       "        text-align: right;\n",
       "    }\n",
       "</style>\n",
       "<table border=\"1\" class=\"dataframe\">\n",
       "  <thead>\n",
       "    <tr style=\"text-align: right;\">\n",
       "      <th></th>\n",
       "      <th>Grades</th>\n",
       "    </tr>\n",
       "  </thead>\n",
       "  <tbody>\n",
       "    <tr>\n",
       "      <th>ok</th>\n",
       "      <td>C+</td>\n",
       "    </tr>\n",
       "    <tr>\n",
       "      <th>ok</th>\n",
       "      <td>C-</td>\n",
       "    </tr>\n",
       "    <tr>\n",
       "      <th>poor</th>\n",
       "      <td>D+</td>\n",
       "    </tr>\n",
       "    <tr>\n",
       "      <th>poor</th>\n",
       "      <td>D</td>\n",
       "    </tr>\n",
       "  </tbody>\n",
       "</table>\n",
       "</div>"
      ],
      "text/plain": [
       "     Grades\n",
       "ok       C+\n",
       "ok       C-\n",
       "poor     D+\n",
       "poor      D"
      ]
     },
     "execution_count": 297,
     "metadata": {},
     "output_type": "execute_result"
    }
   ],
   "source": [
    "df[df['Grades']>'C']"
   ]
  },
  {
   "cell_type": "code",
   "execution_count": 300,
   "metadata": {},
   "outputs": [
    {
     "data": {
      "text/plain": [
       "excellent    A+\n",
       "excellent     A\n",
       "excellent    A-\n",
       "good         B+\n",
       "good          B\n",
       "good         B-\n",
       "ok           C+\n",
       "Name: Grades, dtype: category\n",
       "Categories (11, object): ['D' < 'D+' < 'C-' < 'C' ... 'B+' < 'A-' < 'A' < 'A+']"
      ]
     },
     "execution_count": 300,
     "metadata": {},
     "output_type": "execute_result"
    }
   ],
   "source": [
    "grades[grades>'C']"
   ]
  },
  {
   "cell_type": "code",
   "execution_count": 323,
   "metadata": {},
   "outputs": [],
   "source": [
    "import numpy as np\n",
    "df = pd.read_csv('../Datasets/census.csv')\n",
    "df = df[df['SUMLEV']==50]"
   ]
  },
  {
   "cell_type": "code",
   "execution_count": 319,
   "metadata": {},
   "outputs": [
    {
     "data": {
      "text/html": [
       "<div>\n",
       "<style scoped>\n",
       "    .dataframe tbody tr th:only-of-type {\n",
       "        vertical-align: middle;\n",
       "    }\n",
       "\n",
       "    .dataframe tbody tr th {\n",
       "        vertical-align: top;\n",
       "    }\n",
       "\n",
       "    .dataframe thead th {\n",
       "        text-align: right;\n",
       "    }\n",
       "</style>\n",
       "<table border=\"1\" class=\"dataframe\">\n",
       "  <thead>\n",
       "    <tr style=\"text-align: right;\">\n",
       "      <th></th>\n",
       "      <th>CENSUS2010POP</th>\n",
       "    </tr>\n",
       "    <tr>\n",
       "      <th>STNAME</th>\n",
       "      <th></th>\n",
       "    </tr>\n",
       "  </thead>\n",
       "  <tbody>\n",
       "    <tr>\n",
       "      <th>Alabama</th>\n",
       "      <td>71339.343284</td>\n",
       "    </tr>\n",
       "    <tr>\n",
       "      <th>Alaska</th>\n",
       "      <td>24490.724138</td>\n",
       "    </tr>\n",
       "    <tr>\n",
       "      <th>Arizona</th>\n",
       "      <td>426134.466667</td>\n",
       "    </tr>\n",
       "    <tr>\n",
       "      <th>Arkansas</th>\n",
       "      <td>38878.906667</td>\n",
       "    </tr>\n",
       "    <tr>\n",
       "      <th>California</th>\n",
       "      <td>642309.586207</td>\n",
       "    </tr>\n",
       "  </tbody>\n",
       "</table>\n",
       "</div>"
      ],
      "text/plain": [
       "            CENSUS2010POP\n",
       "STNAME                   \n",
       "Alabama      71339.343284\n",
       "Alaska       24490.724138\n",
       "Arizona     426134.466667\n",
       "Arkansas     38878.906667\n",
       "California  642309.586207"
      ]
     },
     "execution_count": 319,
     "metadata": {},
     "output_type": "execute_result"
    }
   ],
   "source": [
    "df.set_index('STNAME', inplace = True)\n",
    "df = df[['CENSUS2010POP']]\n",
    "df = df.groupby(level=0).agg({'CENSUS2010POP':np.nanmean})\n",
    "df.head()"
   ]
  },
  {
   "cell_type": "code",
   "execution_count": 306,
   "metadata": {},
   "outputs": [
    {
     "data": {
      "text/plain": [
       "STNAME\n",
       "Alabama        71339.343284\n",
       "Alaska         24490.724138\n",
       "Arizona       426134.466667\n",
       "Arkansas       38878.906667\n",
       "California    642309.586207\n",
       "Name: CENSUS2010POP, dtype: float64"
      ]
     },
     "execution_count": 306,
     "metadata": {},
     "output_type": "execute_result"
    }
   ],
   "source": [
    "df = df.set_index('STNAME').groupby(level=0)['CENSUS2010POP'].agg(np.nanmean)\n",
    "df.head()"
   ]
  },
  {
   "cell_type": "code",
   "execution_count": 312,
   "metadata": {},
   "outputs": [
    {
     "data": {
      "text/plain": [
       "STNAME\n",
       "Alabama                   (11706.087, 75333.413]\n",
       "Alaska                    (11706.087, 75333.413]\n",
       "Arizona                 (390320.176, 453317.529]\n",
       "Arkansas                  (11706.087, 75333.413]\n",
       "California              (579312.234, 642309.586]\n",
       "Colorado                 (75333.413, 138330.766]\n",
       "Connecticut             (390320.176, 453317.529]\n",
       "Delaware                (264325.471, 327322.823]\n",
       "District of Columbia    (579312.234, 642309.586]\n",
       "Florida                 (264325.471, 327322.823]\n",
       "Georgia                   (11706.087, 75333.413]\n",
       "Hawaii                  (264325.471, 327322.823]\n",
       "Idaho                     (11706.087, 75333.413]\n",
       "Illinois                 (75333.413, 138330.766]\n",
       "Indiana                   (11706.087, 75333.413]\n",
       "Iowa                      (11706.087, 75333.413]\n",
       "Kansas                    (11706.087, 75333.413]\n",
       "Kentucky                  (11706.087, 75333.413]\n",
       "Louisiana                 (11706.087, 75333.413]\n",
       "Maine                    (75333.413, 138330.766]\n",
       "Maryland                (201328.118, 264325.471]\n",
       "Massachusetts           (453317.529, 516314.881]\n",
       "Michigan                 (75333.413, 138330.766]\n",
       "Minnesota                 (11706.087, 75333.413]\n",
       "Mississippi               (11706.087, 75333.413]\n",
       "Missouri                  (11706.087, 75333.413]\n",
       "Montana                   (11706.087, 75333.413]\n",
       "Nebraska                  (11706.087, 75333.413]\n",
       "Nevada                  (138330.766, 201328.118]\n",
       "New Hampshire            (75333.413, 138330.766]\n",
       "New Jersey              (390320.176, 453317.529]\n",
       "New Mexico                (11706.087, 75333.413]\n",
       "New York                (264325.471, 327322.823]\n",
       "North Carolina           (75333.413, 138330.766]\n",
       "North Dakota              (11706.087, 75333.413]\n",
       "Ohio                     (75333.413, 138330.766]\n",
       "Oklahoma                  (11706.087, 75333.413]\n",
       "Oregon                   (75333.413, 138330.766]\n",
       "Pennsylvania            (138330.766, 201328.118]\n",
       "Rhode Island            (201328.118, 264325.471]\n",
       "South Carolina           (75333.413, 138330.766]\n",
       "South Dakota              (11706.087, 75333.413]\n",
       "Tennessee                 (11706.087, 75333.413]\n",
       "Texas                    (75333.413, 138330.766]\n",
       "Utah                     (75333.413, 138330.766]\n",
       "Vermont                   (11706.087, 75333.413]\n",
       "Virginia                  (11706.087, 75333.413]\n",
       "Washington              (138330.766, 201328.118]\n",
       "West Virginia             (11706.087, 75333.413]\n",
       "Wisconsin                (75333.413, 138330.766]\n",
       "Wyoming                   (11706.087, 75333.413]\n",
       "Name: CENSUS2010POP, dtype: category\n",
       "Categories (10, interval[float64, right]): [(11706.087, 75333.413] < (75333.413, 138330.766] < (138330.766, 201328.118] < (201328.118, 264325.471] ... (390320.176, 453317.529] < (453317.529, 516314.881] < (516314.881, 579312.234] < (579312.234, 642309.586]]"
      ]
     },
     "execution_count": 312,
     "metadata": {},
     "output_type": "execute_result"
    }
   ],
   "source": [
    "pd.cut(df, 10)"
   ]
  },
  {
   "cell_type": "markdown",
   "metadata": {},
   "source": [
    "## Pivot Tables"
   ]
  },
  {
   "cell_type": "code",
   "execution_count": 1,
   "metadata": {},
   "outputs": [],
   "source": [
    "import pandas as pd\n",
    "import numpy as np"
   ]
  },
  {
   "cell_type": "code",
   "execution_count": 2,
   "metadata": {},
   "outputs": [
    {
     "data": {
      "text/html": [
       "<div>\n",
       "<style scoped>\n",
       "    .dataframe tbody tr th:only-of-type {\n",
       "        vertical-align: middle;\n",
       "    }\n",
       "\n",
       "    .dataframe tbody tr th {\n",
       "        vertical-align: top;\n",
       "    }\n",
       "\n",
       "    .dataframe thead th {\n",
       "        text-align: right;\n",
       "    }\n",
       "</style>\n",
       "<table border=\"1\" class=\"dataframe\">\n",
       "  <thead>\n",
       "    <tr style=\"text-align: right;\">\n",
       "      <th></th>\n",
       "      <th>world_rank</th>\n",
       "      <th>institution</th>\n",
       "      <th>country</th>\n",
       "      <th>national_rank</th>\n",
       "      <th>quality_of_education</th>\n",
       "      <th>alumni_employment</th>\n",
       "      <th>quality_of_faculty</th>\n",
       "      <th>publications</th>\n",
       "      <th>influence</th>\n",
       "      <th>citations</th>\n",
       "      <th>broad_impact</th>\n",
       "      <th>patents</th>\n",
       "      <th>score</th>\n",
       "      <th>year</th>\n",
       "    </tr>\n",
       "  </thead>\n",
       "  <tbody>\n",
       "    <tr>\n",
       "      <th>0</th>\n",
       "      <td>1</td>\n",
       "      <td>Harvard University</td>\n",
       "      <td>USA</td>\n",
       "      <td>1</td>\n",
       "      <td>7</td>\n",
       "      <td>9</td>\n",
       "      <td>1</td>\n",
       "      <td>1</td>\n",
       "      <td>1</td>\n",
       "      <td>1</td>\n",
       "      <td>NaN</td>\n",
       "      <td>5</td>\n",
       "      <td>100.00</td>\n",
       "      <td>2012</td>\n",
       "    </tr>\n",
       "    <tr>\n",
       "      <th>1</th>\n",
       "      <td>2</td>\n",
       "      <td>Massachusetts Institute of Technology</td>\n",
       "      <td>USA</td>\n",
       "      <td>2</td>\n",
       "      <td>9</td>\n",
       "      <td>17</td>\n",
       "      <td>3</td>\n",
       "      <td>12</td>\n",
       "      <td>4</td>\n",
       "      <td>4</td>\n",
       "      <td>NaN</td>\n",
       "      <td>1</td>\n",
       "      <td>91.67</td>\n",
       "      <td>2012</td>\n",
       "    </tr>\n",
       "    <tr>\n",
       "      <th>2</th>\n",
       "      <td>3</td>\n",
       "      <td>Stanford University</td>\n",
       "      <td>USA</td>\n",
       "      <td>3</td>\n",
       "      <td>17</td>\n",
       "      <td>11</td>\n",
       "      <td>5</td>\n",
       "      <td>4</td>\n",
       "      <td>2</td>\n",
       "      <td>2</td>\n",
       "      <td>NaN</td>\n",
       "      <td>15</td>\n",
       "      <td>89.50</td>\n",
       "      <td>2012</td>\n",
       "    </tr>\n",
       "    <tr>\n",
       "      <th>3</th>\n",
       "      <td>4</td>\n",
       "      <td>University of Cambridge</td>\n",
       "      <td>United Kingdom</td>\n",
       "      <td>1</td>\n",
       "      <td>10</td>\n",
       "      <td>24</td>\n",
       "      <td>4</td>\n",
       "      <td>16</td>\n",
       "      <td>16</td>\n",
       "      <td>11</td>\n",
       "      <td>NaN</td>\n",
       "      <td>50</td>\n",
       "      <td>86.17</td>\n",
       "      <td>2012</td>\n",
       "    </tr>\n",
       "    <tr>\n",
       "      <th>4</th>\n",
       "      <td>5</td>\n",
       "      <td>California Institute of Technology</td>\n",
       "      <td>USA</td>\n",
       "      <td>4</td>\n",
       "      <td>2</td>\n",
       "      <td>29</td>\n",
       "      <td>7</td>\n",
       "      <td>37</td>\n",
       "      <td>22</td>\n",
       "      <td>22</td>\n",
       "      <td>NaN</td>\n",
       "      <td>18</td>\n",
       "      <td>85.21</td>\n",
       "      <td>2012</td>\n",
       "    </tr>\n",
       "  </tbody>\n",
       "</table>\n",
       "</div>"
      ],
      "text/plain": [
       "   world_rank                            institution         country  \\\n",
       "0           1                     Harvard University             USA   \n",
       "1           2  Massachusetts Institute of Technology             USA   \n",
       "2           3                    Stanford University             USA   \n",
       "3           4                University of Cambridge  United Kingdom   \n",
       "4           5     California Institute of Technology             USA   \n",
       "\n",
       "   national_rank  quality_of_education  alumni_employment  quality_of_faculty  \\\n",
       "0              1                     7                  9                   1   \n",
       "1              2                     9                 17                   3   \n",
       "2              3                    17                 11                   5   \n",
       "3              1                    10                 24                   4   \n",
       "4              4                     2                 29                   7   \n",
       "\n",
       "   publications  influence  citations  broad_impact  patents   score  year  \n",
       "0             1          1          1           NaN        5  100.00  2012  \n",
       "1            12          4          4           NaN        1   91.67  2012  \n",
       "2             4          2          2           NaN       15   89.50  2012  \n",
       "3            16         16         11           NaN       50   86.17  2012  \n",
       "4            37         22         22           NaN       18   85.21  2012  "
      ]
     },
     "execution_count": 2,
     "metadata": {},
     "output_type": "execute_result"
    }
   ],
   "source": [
    "df = pd.read_csv('../Datasets/cwurData.csv')\n",
    "df.head()"
   ]
  },
  {
   "cell_type": "code",
   "execution_count": 3,
   "metadata": {},
   "outputs": [
    {
     "data": {
      "text/html": [
       "<div>\n",
       "<style scoped>\n",
       "    .dataframe tbody tr th:only-of-type {\n",
       "        vertical-align: middle;\n",
       "    }\n",
       "\n",
       "    .dataframe tbody tr th {\n",
       "        vertical-align: top;\n",
       "    }\n",
       "\n",
       "    .dataframe thead th {\n",
       "        text-align: right;\n",
       "    }\n",
       "</style>\n",
       "<table border=\"1\" class=\"dataframe\">\n",
       "  <thead>\n",
       "    <tr style=\"text-align: right;\">\n",
       "      <th></th>\n",
       "      <th>world_rank</th>\n",
       "      <th>institution</th>\n",
       "      <th>country</th>\n",
       "      <th>national_rank</th>\n",
       "      <th>quality_of_education</th>\n",
       "      <th>alumni_employment</th>\n",
       "      <th>quality_of_faculty</th>\n",
       "      <th>publications</th>\n",
       "      <th>influence</th>\n",
       "      <th>citations</th>\n",
       "      <th>broad_impact</th>\n",
       "      <th>patents</th>\n",
       "      <th>score</th>\n",
       "      <th>year</th>\n",
       "      <th>rank_university</th>\n",
       "    </tr>\n",
       "  </thead>\n",
       "  <tbody>\n",
       "    <tr>\n",
       "      <th>0</th>\n",
       "      <td>1</td>\n",
       "      <td>Harvard University</td>\n",
       "      <td>USA</td>\n",
       "      <td>1</td>\n",
       "      <td>7</td>\n",
       "      <td>9</td>\n",
       "      <td>1</td>\n",
       "      <td>1</td>\n",
       "      <td>1</td>\n",
       "      <td>1</td>\n",
       "      <td>NaN</td>\n",
       "      <td>5</td>\n",
       "      <td>100.00</td>\n",
       "      <td>2012</td>\n",
       "      <td>Other Top University</td>\n",
       "    </tr>\n",
       "    <tr>\n",
       "      <th>1</th>\n",
       "      <td>2</td>\n",
       "      <td>Massachusetts Institute of Technology</td>\n",
       "      <td>USA</td>\n",
       "      <td>2</td>\n",
       "      <td>9</td>\n",
       "      <td>17</td>\n",
       "      <td>3</td>\n",
       "      <td>12</td>\n",
       "      <td>4</td>\n",
       "      <td>4</td>\n",
       "      <td>NaN</td>\n",
       "      <td>1</td>\n",
       "      <td>91.67</td>\n",
       "      <td>2012</td>\n",
       "      <td>First Tier Top University</td>\n",
       "    </tr>\n",
       "    <tr>\n",
       "      <th>2</th>\n",
       "      <td>3</td>\n",
       "      <td>Stanford University</td>\n",
       "      <td>USA</td>\n",
       "      <td>3</td>\n",
       "      <td>17</td>\n",
       "      <td>11</td>\n",
       "      <td>5</td>\n",
       "      <td>4</td>\n",
       "      <td>2</td>\n",
       "      <td>2</td>\n",
       "      <td>NaN</td>\n",
       "      <td>15</td>\n",
       "      <td>89.50</td>\n",
       "      <td>2012</td>\n",
       "      <td>First Tier Top University</td>\n",
       "    </tr>\n",
       "    <tr>\n",
       "      <th>3</th>\n",
       "      <td>4</td>\n",
       "      <td>University of Cambridge</td>\n",
       "      <td>United Kingdom</td>\n",
       "      <td>1</td>\n",
       "      <td>10</td>\n",
       "      <td>24</td>\n",
       "      <td>4</td>\n",
       "      <td>16</td>\n",
       "      <td>16</td>\n",
       "      <td>11</td>\n",
       "      <td>NaN</td>\n",
       "      <td>50</td>\n",
       "      <td>86.17</td>\n",
       "      <td>2012</td>\n",
       "      <td>First Tier Top University</td>\n",
       "    </tr>\n",
       "    <tr>\n",
       "      <th>4</th>\n",
       "      <td>5</td>\n",
       "      <td>California Institute of Technology</td>\n",
       "      <td>USA</td>\n",
       "      <td>4</td>\n",
       "      <td>2</td>\n",
       "      <td>29</td>\n",
       "      <td>7</td>\n",
       "      <td>37</td>\n",
       "      <td>22</td>\n",
       "      <td>22</td>\n",
       "      <td>NaN</td>\n",
       "      <td>18</td>\n",
       "      <td>85.21</td>\n",
       "      <td>2012</td>\n",
       "      <td>First Tier Top University</td>\n",
       "    </tr>\n",
       "  </tbody>\n",
       "</table>\n",
       "</div>"
      ],
      "text/plain": [
       "   world_rank                            institution         country  \\\n",
       "0           1                     Harvard University             USA   \n",
       "1           2  Massachusetts Institute of Technology             USA   \n",
       "2           3                    Stanford University             USA   \n",
       "3           4                University of Cambridge  United Kingdom   \n",
       "4           5     California Institute of Technology             USA   \n",
       "\n",
       "   national_rank  quality_of_education  alumni_employment  quality_of_faculty  \\\n",
       "0              1                     7                  9                   1   \n",
       "1              2                     9                 17                   3   \n",
       "2              3                    17                 11                   5   \n",
       "3              1                    10                 24                   4   \n",
       "4              4                     2                 29                   7   \n",
       "\n",
       "   publications  influence  citations  broad_impact  patents   score  year  \\\n",
       "0             1          1          1           NaN        5  100.00  2012   \n",
       "1            12          4          4           NaN        1   91.67  2012   \n",
       "2             4          2          2           NaN       15   89.50  2012   \n",
       "3            16         16         11           NaN       50   86.17  2012   \n",
       "4            37         22         22           NaN       18   85.21  2012   \n",
       "\n",
       "             rank_university  \n",
       "0       Other Top University  \n",
       "1  First Tier Top University  \n",
       "2  First Tier Top University  \n",
       "3  First Tier Top University  \n",
       "4  First Tier Top University  "
      ]
     },
     "execution_count": 3,
     "metadata": {},
     "output_type": "execute_result"
    }
   ],
   "source": [
    "def rank_universities(ranking):\n",
    "    if ranking >1 and ranking<=100:\n",
    "        text = 'First Tier Top University'\n",
    "    elif ranking >100 and ranking<=200:\n",
    "        text = 'Second Tier Top University'\n",
    "    elif ranking >201 and ranking<=300:\n",
    "        text = 'Third Tier Top University'\n",
    "    else:\n",
    "        text = 'Other Top University'\n",
    "    return text\n",
    "\n",
    "df['rank_university'] = df['world_rank'].apply(lambda x: rank_universities(x))\n",
    "df.head()\n"
   ]
  },
  {
   "cell_type": "code",
   "execution_count": 6,
   "metadata": {},
   "outputs": [
    {
     "data": {
      "text/plain": [
       "Index(['world_rank', 'institution', 'country', 'national_rank',\n",
       "       'quality_of_education', 'alumni_employment', 'quality_of_faculty',\n",
       "       'publications', 'influence', 'citations', 'broad_impact', 'patents',\n",
       "       'score', 'year', 'rank_university'],\n",
       "      dtype='object')"
      ]
     },
     "execution_count": 6,
     "metadata": {},
     "output_type": "execute_result"
    }
   ],
   "source": [
    "df.columns"
   ]
  },
  {
   "cell_type": "code",
   "execution_count": 7,
   "metadata": {},
   "outputs": [
    {
     "data": {
      "text/plain": [
       "array(['Other Top University', 'First Tier Top University',\n",
       "       'Second Tier Top University', 'Third Tier Top University'],\n",
       "      dtype=object)"
      ]
     },
     "execution_count": 7,
     "metadata": {},
     "output_type": "execute_result"
    }
   ],
   "source": [
    "df['rank_university'].unique()"
   ]
  },
  {
   "cell_type": "code",
   "execution_count": 8,
   "metadata": {},
   "outputs": [
    {
     "data": {
      "text/html": [
       "<div>\n",
       "<style scoped>\n",
       "    .dataframe tbody tr th:only-of-type {\n",
       "        vertical-align: middle;\n",
       "    }\n",
       "\n",
       "    .dataframe tbody tr th {\n",
       "        vertical-align: top;\n",
       "    }\n",
       "\n",
       "    .dataframe thead tr th {\n",
       "        text-align: left;\n",
       "    }\n",
       "\n",
       "    .dataframe thead tr:last-of-type th {\n",
       "        text-align: right;\n",
       "    }\n",
       "</style>\n",
       "<table border=\"1\" class=\"dataframe\">\n",
       "  <thead>\n",
       "    <tr>\n",
       "      <th></th>\n",
       "      <th colspan=\"4\" halign=\"left\">mean</th>\n",
       "    </tr>\n",
       "    <tr>\n",
       "      <th>rank_university</th>\n",
       "      <th>First Tier Top University</th>\n",
       "      <th>Other Top University</th>\n",
       "      <th>Second Tier Top University</th>\n",
       "      <th>Third Tier Top University</th>\n",
       "    </tr>\n",
       "    <tr>\n",
       "      <th>country</th>\n",
       "      <th></th>\n",
       "      <th></th>\n",
       "      <th></th>\n",
       "      <th></th>\n",
       "    </tr>\n",
       "  </thead>\n",
       "  <tbody>\n",
       "    <tr>\n",
       "      <th>Argentina</th>\n",
       "      <td>NaN</td>\n",
       "      <td>44.672857</td>\n",
       "      <td>NaN</td>\n",
       "      <td>NaN</td>\n",
       "    </tr>\n",
       "    <tr>\n",
       "      <th>Australia</th>\n",
       "      <td>47.9425</td>\n",
       "      <td>44.645750</td>\n",
       "      <td>49.2425</td>\n",
       "      <td>47.285000</td>\n",
       "    </tr>\n",
       "    <tr>\n",
       "      <th>Austria</th>\n",
       "      <td>NaN</td>\n",
       "      <td>44.864286</td>\n",
       "      <td>NaN</td>\n",
       "      <td>47.066667</td>\n",
       "    </tr>\n",
       "    <tr>\n",
       "      <th>Belgium</th>\n",
       "      <td>51.8750</td>\n",
       "      <td>45.081000</td>\n",
       "      <td>49.0840</td>\n",
       "      <td>46.746667</td>\n",
       "    </tr>\n",
       "    <tr>\n",
       "      <th>Brazil</th>\n",
       "      <td>NaN</td>\n",
       "      <td>44.499706</td>\n",
       "      <td>49.5650</td>\n",
       "      <td>NaN</td>\n",
       "    </tr>\n",
       "  </tbody>\n",
       "</table>\n",
       "</div>"
      ],
      "text/plain": [
       "                                     mean                       \\\n",
       "rank_university First Tier Top University Other Top University   \n",
       "country                                                          \n",
       "Argentina                             NaN            44.672857   \n",
       "Australia                         47.9425            44.645750   \n",
       "Austria                               NaN            44.864286   \n",
       "Belgium                           51.8750            45.081000   \n",
       "Brazil                                NaN            44.499706   \n",
       "\n",
       "                                                                      \n",
       "rank_university Second Tier Top University Third Tier Top University  \n",
       "country                                                               \n",
       "Argentina                              NaN                       NaN  \n",
       "Australia                          49.2425                 47.285000  \n",
       "Austria                                NaN                 47.066667  \n",
       "Belgium                            49.0840                 46.746667  \n",
       "Brazil                             49.5650                       NaN  "
      ]
     },
     "execution_count": 8,
     "metadata": {},
     "output_type": "execute_result"
    }
   ],
   "source": [
    "df.pivot_table(values = 'score', index = 'country', columns = 'rank_university', aggfunc=[np.mean]).head()"
   ]
  },
  {
   "cell_type": "code",
   "execution_count": 9,
   "metadata": {},
   "outputs": [
    {
     "data": {
      "text/html": [
       "<div>\n",
       "<style scoped>\n",
       "    .dataframe tbody tr th:only-of-type {\n",
       "        vertical-align: middle;\n",
       "    }\n",
       "\n",
       "    .dataframe tbody tr th {\n",
       "        vertical-align: top;\n",
       "    }\n",
       "\n",
       "    .dataframe thead tr th {\n",
       "        text-align: left;\n",
       "    }\n",
       "\n",
       "    .dataframe thead tr:last-of-type th {\n",
       "        text-align: right;\n",
       "    }\n",
       "</style>\n",
       "<table border=\"1\" class=\"dataframe\">\n",
       "  <thead>\n",
       "    <tr>\n",
       "      <th></th>\n",
       "      <th colspan=\"4\" halign=\"left\">mean</th>\n",
       "      <th colspan=\"4\" halign=\"left\">amax</th>\n",
       "    </tr>\n",
       "    <tr>\n",
       "      <th>rank_university</th>\n",
       "      <th>First Tier Top University</th>\n",
       "      <th>Other Top University</th>\n",
       "      <th>Second Tier Top University</th>\n",
       "      <th>Third Tier Top University</th>\n",
       "      <th>First Tier Top University</th>\n",
       "      <th>Other Top University</th>\n",
       "      <th>Second Tier Top University</th>\n",
       "      <th>Third Tier Top University</th>\n",
       "    </tr>\n",
       "    <tr>\n",
       "      <th>country</th>\n",
       "      <th></th>\n",
       "      <th></th>\n",
       "      <th></th>\n",
       "      <th></th>\n",
       "      <th></th>\n",
       "      <th></th>\n",
       "      <th></th>\n",
       "      <th></th>\n",
       "    </tr>\n",
       "  </thead>\n",
       "  <tbody>\n",
       "    <tr>\n",
       "      <th>Argentina</th>\n",
       "      <td>NaN</td>\n",
       "      <td>44.672857</td>\n",
       "      <td>NaN</td>\n",
       "      <td>NaN</td>\n",
       "      <td>NaN</td>\n",
       "      <td>45.66</td>\n",
       "      <td>NaN</td>\n",
       "      <td>NaN</td>\n",
       "    </tr>\n",
       "    <tr>\n",
       "      <th>Australia</th>\n",
       "      <td>47.9425</td>\n",
       "      <td>44.645750</td>\n",
       "      <td>49.2425</td>\n",
       "      <td>47.285000</td>\n",
       "      <td>51.61</td>\n",
       "      <td>45.97</td>\n",
       "      <td>50.40</td>\n",
       "      <td>47.47</td>\n",
       "    </tr>\n",
       "    <tr>\n",
       "      <th>Austria</th>\n",
       "      <td>NaN</td>\n",
       "      <td>44.864286</td>\n",
       "      <td>NaN</td>\n",
       "      <td>47.066667</td>\n",
       "      <td>NaN</td>\n",
       "      <td>46.29</td>\n",
       "      <td>NaN</td>\n",
       "      <td>47.78</td>\n",
       "    </tr>\n",
       "    <tr>\n",
       "      <th>Belgium</th>\n",
       "      <td>51.8750</td>\n",
       "      <td>45.081000</td>\n",
       "      <td>49.0840</td>\n",
       "      <td>46.746667</td>\n",
       "      <td>52.03</td>\n",
       "      <td>46.21</td>\n",
       "      <td>49.73</td>\n",
       "      <td>47.14</td>\n",
       "    </tr>\n",
       "    <tr>\n",
       "      <th>Brazil</th>\n",
       "      <td>NaN</td>\n",
       "      <td>44.499706</td>\n",
       "      <td>49.5650</td>\n",
       "      <td>NaN</td>\n",
       "      <td>NaN</td>\n",
       "      <td>46.08</td>\n",
       "      <td>49.82</td>\n",
       "      <td>NaN</td>\n",
       "    </tr>\n",
       "  </tbody>\n",
       "</table>\n",
       "</div>"
      ],
      "text/plain": [
       "                                     mean                       \\\n",
       "rank_university First Tier Top University Other Top University   \n",
       "country                                                          \n",
       "Argentina                             NaN            44.672857   \n",
       "Australia                         47.9425            44.645750   \n",
       "Austria                               NaN            44.864286   \n",
       "Belgium                           51.8750            45.081000   \n",
       "Brazil                                NaN            44.499706   \n",
       "\n",
       "                                                                      \\\n",
       "rank_university Second Tier Top University Third Tier Top University   \n",
       "country                                                                \n",
       "Argentina                              NaN                       NaN   \n",
       "Australia                          49.2425                 47.285000   \n",
       "Austria                                NaN                 47.066667   \n",
       "Belgium                            49.0840                 46.746667   \n",
       "Brazil                             49.5650                       NaN   \n",
       "\n",
       "                                     amax                       \\\n",
       "rank_university First Tier Top University Other Top University   \n",
       "country                                                          \n",
       "Argentina                             NaN                45.66   \n",
       "Australia                           51.61                45.97   \n",
       "Austria                               NaN                46.29   \n",
       "Belgium                             52.03                46.21   \n",
       "Brazil                                NaN                46.08   \n",
       "\n",
       "                                                                      \n",
       "rank_university Second Tier Top University Third Tier Top University  \n",
       "country                                                               \n",
       "Argentina                              NaN                       NaN  \n",
       "Australia                            50.40                     47.47  \n",
       "Austria                                NaN                     47.78  \n",
       "Belgium                              49.73                     47.14  \n",
       "Brazil                               49.82                       NaN  "
      ]
     },
     "execution_count": 9,
     "metadata": {},
     "output_type": "execute_result"
    }
   ],
   "source": [
    "df.pivot_table(values = 'score', index = 'country', columns = 'rank_university', aggfunc=[np.mean, np.max]).head()"
   ]
  },
  {
   "cell_type": "code",
   "execution_count": 10,
   "metadata": {},
   "outputs": [
    {
     "data": {
      "text/html": [
       "<div>\n",
       "<style scoped>\n",
       "    .dataframe tbody tr th:only-of-type {\n",
       "        vertical-align: middle;\n",
       "    }\n",
       "\n",
       "    .dataframe tbody tr th {\n",
       "        vertical-align: top;\n",
       "    }\n",
       "\n",
       "    .dataframe thead tr th {\n",
       "        text-align: left;\n",
       "    }\n",
       "\n",
       "    .dataframe thead tr:last-of-type th {\n",
       "        text-align: right;\n",
       "    }\n",
       "</style>\n",
       "<table border=\"1\" class=\"dataframe\">\n",
       "  <thead>\n",
       "    <tr>\n",
       "      <th></th>\n",
       "      <th colspan=\"5\" halign=\"left\">mean</th>\n",
       "      <th colspan=\"5\" halign=\"left\">amax</th>\n",
       "    </tr>\n",
       "    <tr>\n",
       "      <th>rank_university</th>\n",
       "      <th>First Tier Top University</th>\n",
       "      <th>Other Top University</th>\n",
       "      <th>Second Tier Top University</th>\n",
       "      <th>Third Tier Top University</th>\n",
       "      <th>All</th>\n",
       "      <th>First Tier Top University</th>\n",
       "      <th>Other Top University</th>\n",
       "      <th>Second Tier Top University</th>\n",
       "      <th>Third Tier Top University</th>\n",
       "      <th>All</th>\n",
       "    </tr>\n",
       "    <tr>\n",
       "      <th>country</th>\n",
       "      <th></th>\n",
       "      <th></th>\n",
       "      <th></th>\n",
       "      <th></th>\n",
       "      <th></th>\n",
       "      <th></th>\n",
       "      <th></th>\n",
       "      <th></th>\n",
       "      <th></th>\n",
       "      <th></th>\n",
       "    </tr>\n",
       "  </thead>\n",
       "  <tbody>\n",
       "    <tr>\n",
       "      <th>Argentina</th>\n",
       "      <td>NaN</td>\n",
       "      <td>44.672857</td>\n",
       "      <td>NaN</td>\n",
       "      <td>NaN</td>\n",
       "      <td>44.672857</td>\n",
       "      <td>NaN</td>\n",
       "      <td>45.66</td>\n",
       "      <td>NaN</td>\n",
       "      <td>NaN</td>\n",
       "      <td>45.66</td>\n",
       "    </tr>\n",
       "    <tr>\n",
       "      <th>Australia</th>\n",
       "      <td>47.9425</td>\n",
       "      <td>44.645750</td>\n",
       "      <td>49.2425</td>\n",
       "      <td>47.285000</td>\n",
       "      <td>45.825517</td>\n",
       "      <td>51.61</td>\n",
       "      <td>45.97</td>\n",
       "      <td>50.40</td>\n",
       "      <td>47.47</td>\n",
       "      <td>51.61</td>\n",
       "    </tr>\n",
       "    <tr>\n",
       "      <th>Austria</th>\n",
       "      <td>NaN</td>\n",
       "      <td>44.864286</td>\n",
       "      <td>NaN</td>\n",
       "      <td>47.066667</td>\n",
       "      <td>45.139583</td>\n",
       "      <td>NaN</td>\n",
       "      <td>46.29</td>\n",
       "      <td>NaN</td>\n",
       "      <td>47.78</td>\n",
       "      <td>47.78</td>\n",
       "    </tr>\n",
       "    <tr>\n",
       "      <th>Belgium</th>\n",
       "      <td>51.8750</td>\n",
       "      <td>45.081000</td>\n",
       "      <td>49.0840</td>\n",
       "      <td>46.746667</td>\n",
       "      <td>47.011000</td>\n",
       "      <td>52.03</td>\n",
       "      <td>46.21</td>\n",
       "      <td>49.73</td>\n",
       "      <td>47.14</td>\n",
       "      <td>52.03</td>\n",
       "    </tr>\n",
       "    <tr>\n",
       "      <th>Brazil</th>\n",
       "      <td>NaN</td>\n",
       "      <td>44.499706</td>\n",
       "      <td>49.5650</td>\n",
       "      <td>NaN</td>\n",
       "      <td>44.781111</td>\n",
       "      <td>NaN</td>\n",
       "      <td>46.08</td>\n",
       "      <td>49.82</td>\n",
       "      <td>NaN</td>\n",
       "      <td>49.82</td>\n",
       "    </tr>\n",
       "  </tbody>\n",
       "</table>\n",
       "</div>"
      ],
      "text/plain": [
       "                                     mean                       \\\n",
       "rank_university First Tier Top University Other Top University   \n",
       "country                                                          \n",
       "Argentina                             NaN            44.672857   \n",
       "Australia                         47.9425            44.645750   \n",
       "Austria                               NaN            44.864286   \n",
       "Belgium                           51.8750            45.081000   \n",
       "Brazil                                NaN            44.499706   \n",
       "\n",
       "                                                                      \\\n",
       "rank_university Second Tier Top University Third Tier Top University   \n",
       "country                                                                \n",
       "Argentina                              NaN                       NaN   \n",
       "Australia                          49.2425                 47.285000   \n",
       "Austria                                NaN                 47.066667   \n",
       "Belgium                            49.0840                 46.746667   \n",
       "Brazil                             49.5650                       NaN   \n",
       "\n",
       "                                                amax                       \\\n",
       "rank_university        All First Tier Top University Other Top University   \n",
       "country                                                                     \n",
       "Argentina        44.672857                       NaN                45.66   \n",
       "Australia        45.825517                     51.61                45.97   \n",
       "Austria          45.139583                       NaN                46.29   \n",
       "Belgium          47.011000                     52.03                46.21   \n",
       "Brazil           44.781111                       NaN                46.08   \n",
       "\n",
       "                                                                             \n",
       "rank_university Second Tier Top University Third Tier Top University    All  \n",
       "country                                                                      \n",
       "Argentina                              NaN                       NaN  45.66  \n",
       "Australia                            50.40                     47.47  51.61  \n",
       "Austria                                NaN                     47.78  47.78  \n",
       "Belgium                              49.73                     47.14  52.03  \n",
       "Brazil                               49.82                       NaN  49.82  "
      ]
     },
     "execution_count": 10,
     "metadata": {},
     "output_type": "execute_result"
    }
   ],
   "source": [
    "df.pivot_table(values = 'score', index = 'country', columns = 'rank_university', aggfunc=[np.mean, np.max],\n",
    "               margins= True).head()"
   ]
  },
  {
   "cell_type": "code",
   "execution_count": 13,
   "metadata": {},
   "outputs": [
    {
     "name": "stdout",
     "output_type": "stream",
     "text": [
      "Index(['Argentina', 'Australia', 'Austria', 'Belgium', 'Brazil', 'Bulgaria',\n",
      "       'Canada', 'Chile', 'China', 'Colombia', 'Croatia', 'Cyprus',\n",
      "       'Czech Republic', 'Denmark', 'Egypt', 'Estonia', 'Finland', 'France',\n",
      "       'Germany', 'Greece', 'Hong Kong', 'Hungary', 'Iceland', 'India', 'Iran',\n",
      "       'Ireland', 'Israel', 'Italy', 'Japan', 'Lebanon', 'Lithuania',\n",
      "       'Malaysia', 'Mexico', 'Netherlands', 'New Zealand', 'Norway', 'Poland',\n",
      "       'Portugal', 'Puerto Rico', 'Romania', 'Russia', 'Saudi Arabia',\n",
      "       'Serbia', 'Singapore', 'Slovak Republic', 'Slovenia', 'South Africa',\n",
      "       'South Korea', 'Spain', 'Sweden', 'Switzerland', 'Taiwan', 'Thailand',\n",
      "       'Turkey', 'USA', 'Uganda', 'United Arab Emirates', 'United Kingdom',\n",
      "       'Uruguay', 'All'],\n",
      "      dtype='object', name='country')\n",
      "MultiIndex([('mean',  'First Tier Top University'),\n",
      "            ('mean',       'Other Top University'),\n",
      "            ('mean', 'Second Tier Top University'),\n",
      "            ('mean',  'Third Tier Top University'),\n",
      "            ('mean',                        'All'),\n",
      "            ('amax',  'First Tier Top University'),\n",
      "            ('amax',       'Other Top University'),\n",
      "            ('amax', 'Second Tier Top University'),\n",
      "            ('amax',  'Third Tier Top University'),\n",
      "            ('amax',                        'All')],\n",
      "           names=[None, 'rank_university'])\n"
     ]
    }
   ],
   "source": [
    "new_df = df.pivot_table(values = 'score', index = 'country', columns = 'rank_university', aggfunc=[np.mean, np.max],\n",
    "               margins= True)\n",
    "\n",
    "print(new_df.index)\n",
    "print(new_df.columns)"
   ]
  },
  {
   "cell_type": "code",
   "execution_count": 14,
   "metadata": {},
   "outputs": [
    {
     "data": {
      "text/plain": [
       "country\n",
       "Argentina        NaN\n",
       "Australia    47.9425\n",
       "Austria          NaN\n",
       "Belgium      51.8750\n",
       "Brazil           NaN\n",
       "Name: First Tier Top University, dtype: float64"
      ]
     },
     "execution_count": 14,
     "metadata": {},
     "output_type": "execute_result"
    }
   ],
   "source": [
    "new_df['mean']['First Tier Top University'].head()"
   ]
  },
  {
   "cell_type": "code",
   "execution_count": 15,
   "metadata": {},
   "outputs": [
    {
     "data": {
      "text/plain": [
       "pandas.core.series.Series"
      ]
     },
     "execution_count": 15,
     "metadata": {},
     "output_type": "execute_result"
    }
   ],
   "source": [
    "type(new_df['mean']['First Tier Top University'])"
   ]
  },
  {
   "cell_type": "code",
   "execution_count": 20,
   "metadata": {},
   "outputs": [
    {
     "data": {
      "text/plain": [
       "'United Kingdom'"
      ]
     },
     "execution_count": 20,
     "metadata": {},
     "output_type": "execute_result"
    }
   ],
   "source": [
    "# Because it is a series with an index\n",
    "new_df['mean']['First Tier Top University'].idxmax()"
   ]
  },
  {
   "cell_type": "code",
   "execution_count": 21,
   "metadata": {},
   "outputs": [
    {
     "data": {
      "text/html": [
       "<div>\n",
       "<style scoped>\n",
       "    .dataframe tbody tr th:only-of-type {\n",
       "        vertical-align: middle;\n",
       "    }\n",
       "\n",
       "    .dataframe tbody tr th {\n",
       "        vertical-align: top;\n",
       "    }\n",
       "\n",
       "    .dataframe thead tr th {\n",
       "        text-align: left;\n",
       "    }\n",
       "\n",
       "    .dataframe thead tr:last-of-type th {\n",
       "        text-align: right;\n",
       "    }\n",
       "</style>\n",
       "<table border=\"1\" class=\"dataframe\">\n",
       "  <thead>\n",
       "    <tr>\n",
       "      <th></th>\n",
       "      <th colspan=\"5\" halign=\"left\">mean</th>\n",
       "      <th colspan=\"5\" halign=\"left\">amax</th>\n",
       "    </tr>\n",
       "    <tr>\n",
       "      <th>rank_university</th>\n",
       "      <th>First Tier Top University</th>\n",
       "      <th>Other Top University</th>\n",
       "      <th>Second Tier Top University</th>\n",
       "      <th>Third Tier Top University</th>\n",
       "      <th>All</th>\n",
       "      <th>First Tier Top University</th>\n",
       "      <th>Other Top University</th>\n",
       "      <th>Second Tier Top University</th>\n",
       "      <th>Third Tier Top University</th>\n",
       "      <th>All</th>\n",
       "    </tr>\n",
       "    <tr>\n",
       "      <th>country</th>\n",
       "      <th></th>\n",
       "      <th></th>\n",
       "      <th></th>\n",
       "      <th></th>\n",
       "      <th></th>\n",
       "      <th></th>\n",
       "      <th></th>\n",
       "      <th></th>\n",
       "      <th></th>\n",
       "      <th></th>\n",
       "    </tr>\n",
       "  </thead>\n",
       "  <tbody>\n",
       "    <tr>\n",
       "      <th>Argentina</th>\n",
       "      <td>NaN</td>\n",
       "      <td>44.672857</td>\n",
       "      <td>NaN</td>\n",
       "      <td>NaN</td>\n",
       "      <td>44.672857</td>\n",
       "      <td>NaN</td>\n",
       "      <td>45.66</td>\n",
       "      <td>NaN</td>\n",
       "      <td>NaN</td>\n",
       "      <td>45.66</td>\n",
       "    </tr>\n",
       "    <tr>\n",
       "      <th>Australia</th>\n",
       "      <td>47.9425</td>\n",
       "      <td>44.645750</td>\n",
       "      <td>49.2425</td>\n",
       "      <td>47.285000</td>\n",
       "      <td>45.825517</td>\n",
       "      <td>51.61</td>\n",
       "      <td>45.97</td>\n",
       "      <td>50.40</td>\n",
       "      <td>47.47</td>\n",
       "      <td>51.61</td>\n",
       "    </tr>\n",
       "    <tr>\n",
       "      <th>Austria</th>\n",
       "      <td>NaN</td>\n",
       "      <td>44.864286</td>\n",
       "      <td>NaN</td>\n",
       "      <td>47.066667</td>\n",
       "      <td>45.139583</td>\n",
       "      <td>NaN</td>\n",
       "      <td>46.29</td>\n",
       "      <td>NaN</td>\n",
       "      <td>47.78</td>\n",
       "      <td>47.78</td>\n",
       "    </tr>\n",
       "    <tr>\n",
       "      <th>Belgium</th>\n",
       "      <td>51.8750</td>\n",
       "      <td>45.081000</td>\n",
       "      <td>49.0840</td>\n",
       "      <td>46.746667</td>\n",
       "      <td>47.011000</td>\n",
       "      <td>52.03</td>\n",
       "      <td>46.21</td>\n",
       "      <td>49.73</td>\n",
       "      <td>47.14</td>\n",
       "      <td>52.03</td>\n",
       "    </tr>\n",
       "    <tr>\n",
       "      <th>Brazil</th>\n",
       "      <td>NaN</td>\n",
       "      <td>44.499706</td>\n",
       "      <td>49.5650</td>\n",
       "      <td>NaN</td>\n",
       "      <td>44.781111</td>\n",
       "      <td>NaN</td>\n",
       "      <td>46.08</td>\n",
       "      <td>49.82</td>\n",
       "      <td>NaN</td>\n",
       "      <td>49.82</td>\n",
       "    </tr>\n",
       "  </tbody>\n",
       "</table>\n",
       "</div>"
      ],
      "text/plain": [
       "                                     mean                       \\\n",
       "rank_university First Tier Top University Other Top University   \n",
       "country                                                          \n",
       "Argentina                             NaN            44.672857   \n",
       "Australia                         47.9425            44.645750   \n",
       "Austria                               NaN            44.864286   \n",
       "Belgium                           51.8750            45.081000   \n",
       "Brazil                                NaN            44.499706   \n",
       "\n",
       "                                                                      \\\n",
       "rank_university Second Tier Top University Third Tier Top University   \n",
       "country                                                                \n",
       "Argentina                              NaN                       NaN   \n",
       "Australia                          49.2425                 47.285000   \n",
       "Austria                                NaN                 47.066667   \n",
       "Belgium                            49.0840                 46.746667   \n",
       "Brazil                             49.5650                       NaN   \n",
       "\n",
       "                                                amax                       \\\n",
       "rank_university        All First Tier Top University Other Top University   \n",
       "country                                                                     \n",
       "Argentina        44.672857                       NaN                45.66   \n",
       "Australia        45.825517                     51.61                45.97   \n",
       "Austria          45.139583                       NaN                46.29   \n",
       "Belgium          47.011000                     52.03                46.21   \n",
       "Brazil           44.781111                       NaN                46.08   \n",
       "\n",
       "                                                                             \n",
       "rank_university Second Tier Top University Third Tier Top University    All  \n",
       "country                                                                      \n",
       "Argentina                              NaN                       NaN  45.66  \n",
       "Australia                            50.40                     47.47  51.61  \n",
       "Austria                                NaN                     47.78  47.78  \n",
       "Belgium                              49.73                     47.14  52.03  \n",
       "Brazil                               49.82                       NaN  49.82  "
      ]
     },
     "execution_count": 21,
     "metadata": {},
     "output_type": "execute_result"
    }
   ],
   "source": [
    "new_df.head()"
   ]
  },
  {
   "cell_type": "code",
   "execution_count": 23,
   "metadata": {},
   "outputs": [
    {
     "data": {
      "text/html": [
       "<div>\n",
       "<style scoped>\n",
       "    .dataframe tbody tr th:only-of-type {\n",
       "        vertical-align: middle;\n",
       "    }\n",
       "\n",
       "    .dataframe tbody tr th {\n",
       "        vertical-align: top;\n",
       "    }\n",
       "\n",
       "    .dataframe thead th {\n",
       "        text-align: right;\n",
       "    }\n",
       "</style>\n",
       "<table border=\"1\" class=\"dataframe\">\n",
       "  <thead>\n",
       "    <tr style=\"text-align: right;\">\n",
       "      <th></th>\n",
       "      <th></th>\n",
       "      <th>mean</th>\n",
       "      <th>amax</th>\n",
       "    </tr>\n",
       "    <tr>\n",
       "      <th>country</th>\n",
       "      <th>rank_university</th>\n",
       "      <th></th>\n",
       "      <th></th>\n",
       "    </tr>\n",
       "  </thead>\n",
       "  <tbody>\n",
       "    <tr>\n",
       "      <th rowspan=\"2\" valign=\"top\">Argentina</th>\n",
       "      <th>Other Top University</th>\n",
       "      <td>44.672857</td>\n",
       "      <td>45.66</td>\n",
       "    </tr>\n",
       "    <tr>\n",
       "      <th>All</th>\n",
       "      <td>44.672857</td>\n",
       "      <td>45.66</td>\n",
       "    </tr>\n",
       "    <tr>\n",
       "      <th rowspan=\"3\" valign=\"top\">Australia</th>\n",
       "      <th>First Tier Top University</th>\n",
       "      <td>47.942500</td>\n",
       "      <td>51.61</td>\n",
       "    </tr>\n",
       "    <tr>\n",
       "      <th>Other Top University</th>\n",
       "      <td>44.645750</td>\n",
       "      <td>45.97</td>\n",
       "    </tr>\n",
       "    <tr>\n",
       "      <th>Second Tier Top University</th>\n",
       "      <td>49.242500</td>\n",
       "      <td>50.40</td>\n",
       "    </tr>\n",
       "  </tbody>\n",
       "</table>\n",
       "</div>"
      ],
      "text/plain": [
       "                                           mean   amax\n",
       "country   rank_university                             \n",
       "Argentina Other Top University        44.672857  45.66\n",
       "          All                         44.672857  45.66\n",
       "Australia First Tier Top University   47.942500  51.61\n",
       "          Other Top University        44.645750  45.97\n",
       "          Second Tier Top University  49.242500  50.40"
      ]
     },
     "execution_count": 23,
     "metadata": {},
     "output_type": "execute_result"
    }
   ],
   "source": [
    "new_df = new_df.stack()\n",
    "new_df.head()\n",
    "#transpusimos el dataframe"
   ]
  },
  {
   "cell_type": "code",
   "execution_count": 24,
   "metadata": {},
   "outputs": [
    {
     "data": {
      "text/html": [
       "<div>\n",
       "<style scoped>\n",
       "    .dataframe tbody tr th:only-of-type {\n",
       "        vertical-align: middle;\n",
       "    }\n",
       "\n",
       "    .dataframe tbody tr th {\n",
       "        vertical-align: top;\n",
       "    }\n",
       "\n",
       "    .dataframe thead tr th {\n",
       "        text-align: left;\n",
       "    }\n",
       "\n",
       "    .dataframe thead tr:last-of-type th {\n",
       "        text-align: right;\n",
       "    }\n",
       "</style>\n",
       "<table border=\"1\" class=\"dataframe\">\n",
       "  <thead>\n",
       "    <tr>\n",
       "      <th></th>\n",
       "      <th colspan=\"5\" halign=\"left\">mean</th>\n",
       "      <th colspan=\"5\" halign=\"left\">amax</th>\n",
       "    </tr>\n",
       "    <tr>\n",
       "      <th>rank_university</th>\n",
       "      <th>First Tier Top University</th>\n",
       "      <th>Other Top University</th>\n",
       "      <th>Second Tier Top University</th>\n",
       "      <th>Third Tier Top University</th>\n",
       "      <th>All</th>\n",
       "      <th>First Tier Top University</th>\n",
       "      <th>Other Top University</th>\n",
       "      <th>Second Tier Top University</th>\n",
       "      <th>Third Tier Top University</th>\n",
       "      <th>All</th>\n",
       "    </tr>\n",
       "    <tr>\n",
       "      <th>country</th>\n",
       "      <th></th>\n",
       "      <th></th>\n",
       "      <th></th>\n",
       "      <th></th>\n",
       "      <th></th>\n",
       "      <th></th>\n",
       "      <th></th>\n",
       "      <th></th>\n",
       "      <th></th>\n",
       "      <th></th>\n",
       "    </tr>\n",
       "  </thead>\n",
       "  <tbody>\n",
       "    <tr>\n",
       "      <th>All</th>\n",
       "      <td>57.929975</td>\n",
       "      <td>44.900292</td>\n",
       "      <td>49.06545</td>\n",
       "      <td>46.834848</td>\n",
       "      <td>47.798395</td>\n",
       "      <td>99.09</td>\n",
       "      <td>100.00</td>\n",
       "      <td>51.29</td>\n",
       "      <td>47.83</td>\n",
       "      <td>100.00</td>\n",
       "    </tr>\n",
       "    <tr>\n",
       "      <th>Argentina</th>\n",
       "      <td>NaN</td>\n",
       "      <td>44.672857</td>\n",
       "      <td>NaN</td>\n",
       "      <td>NaN</td>\n",
       "      <td>44.672857</td>\n",
       "      <td>NaN</td>\n",
       "      <td>45.66</td>\n",
       "      <td>NaN</td>\n",
       "      <td>NaN</td>\n",
       "      <td>45.66</td>\n",
       "    </tr>\n",
       "    <tr>\n",
       "      <th>Australia</th>\n",
       "      <td>47.942500</td>\n",
       "      <td>44.645750</td>\n",
       "      <td>49.24250</td>\n",
       "      <td>47.285000</td>\n",
       "      <td>45.825517</td>\n",
       "      <td>51.61</td>\n",
       "      <td>45.97</td>\n",
       "      <td>50.40</td>\n",
       "      <td>47.47</td>\n",
       "      <td>51.61</td>\n",
       "    </tr>\n",
       "    <tr>\n",
       "      <th>Austria</th>\n",
       "      <td>NaN</td>\n",
       "      <td>44.864286</td>\n",
       "      <td>NaN</td>\n",
       "      <td>47.066667</td>\n",
       "      <td>45.139583</td>\n",
       "      <td>NaN</td>\n",
       "      <td>46.29</td>\n",
       "      <td>NaN</td>\n",
       "      <td>47.78</td>\n",
       "      <td>47.78</td>\n",
       "    </tr>\n",
       "    <tr>\n",
       "      <th>Belgium</th>\n",
       "      <td>51.875000</td>\n",
       "      <td>45.081000</td>\n",
       "      <td>49.08400</td>\n",
       "      <td>46.746667</td>\n",
       "      <td>47.011000</td>\n",
       "      <td>52.03</td>\n",
       "      <td>46.21</td>\n",
       "      <td>49.73</td>\n",
       "      <td>47.14</td>\n",
       "      <td>52.03</td>\n",
       "    </tr>\n",
       "  </tbody>\n",
       "</table>\n",
       "</div>"
      ],
      "text/plain": [
       "                                     mean                       \\\n",
       "rank_university First Tier Top University Other Top University   \n",
       "country                                                          \n",
       "All                             57.929975            44.900292   \n",
       "Argentina                             NaN            44.672857   \n",
       "Australia                       47.942500            44.645750   \n",
       "Austria                               NaN            44.864286   \n",
       "Belgium                         51.875000            45.081000   \n",
       "\n",
       "                                                                      \\\n",
       "rank_university Second Tier Top University Third Tier Top University   \n",
       "country                                                                \n",
       "All                               49.06545                 46.834848   \n",
       "Argentina                              NaN                       NaN   \n",
       "Australia                         49.24250                 47.285000   \n",
       "Austria                                NaN                 47.066667   \n",
       "Belgium                           49.08400                 46.746667   \n",
       "\n",
       "                                                amax                       \\\n",
       "rank_university        All First Tier Top University Other Top University   \n",
       "country                                                                     \n",
       "All              47.798395                     99.09               100.00   \n",
       "Argentina        44.672857                       NaN                45.66   \n",
       "Australia        45.825517                     51.61                45.97   \n",
       "Austria          45.139583                       NaN                46.29   \n",
       "Belgium          47.011000                     52.03                46.21   \n",
       "\n",
       "                                                                              \n",
       "rank_university Second Tier Top University Third Tier Top University     All  \n",
       "country                                                                       \n",
       "All                                  51.29                     47.83  100.00  \n",
       "Argentina                              NaN                       NaN   45.66  \n",
       "Australia                            50.40                     47.47   51.61  \n",
       "Austria                                NaN                     47.78   47.78  \n",
       "Belgium                              49.73                     47.14   52.03  "
      ]
     },
     "execution_count": 24,
     "metadata": {},
     "output_type": "execute_result"
    }
   ],
   "source": [
    "new_df.unstack().head() # restore the dataframe"
   ]
  },
  {
   "cell_type": "code",
   "execution_count": 26,
   "metadata": {},
   "outputs": [
    {
     "data": {
      "text/plain": [
       "      rank_university            country  \n",
       "mean  First Tier Top University  All          57.929975\n",
       "                                 Argentina          NaN\n",
       "                                 Australia    47.942500\n",
       "                                 Austria            NaN\n",
       "                                 Belgium      51.875000\n",
       "dtype: float64"
      ]
     },
     "execution_count": 26,
     "metadata": {},
     "output_type": "execute_result"
    }
   ],
   "source": [
    "new_df.unstack().unstack().head() "
   ]
  },
  {
   "cell_type": "code",
   "execution_count": 27,
   "metadata": {},
   "outputs": [
    {
     "data": {
      "text/plain": [
       "pandas.core.series.Series"
      ]
     },
     "execution_count": 27,
     "metadata": {},
     "output_type": "execute_result"
    }
   ],
   "source": [
    "type(new_df.unstack().unstack()) "
   ]
  },
  {
   "cell_type": "markdown",
   "metadata": {},
   "source": [
    "### Date Time Funtionality"
   ]
  },
  {
   "cell_type": "code",
   "execution_count": 28,
   "metadata": {},
   "outputs": [],
   "source": [
    "import pandas as pd\n",
    "import numpy as np"
   ]
  },
  {
   "cell_type": "markdown",
   "metadata": {},
   "source": [
    "### Timestamp"
   ]
  },
  {
   "cell_type": "code",
   "execution_count": 29,
   "metadata": {},
   "outputs": [
    {
     "data": {
      "text/plain": [
       "Timestamp('2022-09-01 10:05:00')"
      ]
     },
     "execution_count": 29,
     "metadata": {},
     "output_type": "execute_result"
    }
   ],
   "source": [
    "pd.Timestamp('9/1/2022 10:05 AM')"
   ]
  },
  {
   "cell_type": "code",
   "execution_count": 30,
   "metadata": {},
   "outputs": [
    {
     "data": {
      "text/plain": [
       "Timestamp('2022-09-01 10:05:00')"
      ]
     },
     "execution_count": 30,
     "metadata": {},
     "output_type": "execute_result"
    }
   ],
   "source": [
    "pd.Timestamp(2022,9,1,10,5)"
   ]
  },
  {
   "cell_type": "code",
   "execution_count": 31,
   "metadata": {},
   "outputs": [
    {
     "data": {
      "text/plain": [
       "4"
      ]
     },
     "execution_count": 31,
     "metadata": {},
     "output_type": "execute_result"
    }
   ],
   "source": [
    "pd.Timestamp(2022,9,1,10,5).isoweekday()"
   ]
  },
  {
   "cell_type": "code",
   "execution_count": 35,
   "metadata": {},
   "outputs": [
    {
     "data": {
      "text/plain": [
       "50"
      ]
     },
     "execution_count": 35,
     "metadata": {},
     "output_type": "execute_result"
    }
   ],
   "source": [
    "pd.Timestamp(2022,9,1,10,5, 50).second"
   ]
  },
  {
   "cell_type": "markdown",
   "metadata": {},
   "source": [
    "### Period"
   ]
  },
  {
   "cell_type": "code",
   "execution_count": 36,
   "metadata": {},
   "outputs": [
    {
     "data": {
      "text/plain": [
       "Period('2016-01', 'M')"
      ]
     },
     "execution_count": 36,
     "metadata": {},
     "output_type": "execute_result"
    }
   ],
   "source": [
    "pd.Period('1/2016')"
   ]
  },
  {
   "cell_type": "code",
   "execution_count": 37,
   "metadata": {},
   "outputs": [
    {
     "data": {
      "text/plain": [
       "Period('2016-01-06', 'D')"
      ]
     },
     "execution_count": 37,
     "metadata": {},
     "output_type": "execute_result"
    }
   ],
   "source": [
    "pd.Period('1/6/2016')"
   ]
  },
  {
   "cell_type": "code",
   "execution_count": 38,
   "metadata": {},
   "outputs": [
    {
     "data": {
      "text/plain": [
       "pandas._libs.tslibs.period.Period"
      ]
     },
     "execution_count": 38,
     "metadata": {},
     "output_type": "execute_result"
    }
   ],
   "source": [
    "type(pd.Period('1/6/2016'))"
   ]
  },
  {
   "cell_type": "code",
   "execution_count": 39,
   "metadata": {},
   "outputs": [
    {
     "data": {
      "text/plain": [
       "Period('2016-06', 'M')"
      ]
     },
     "execution_count": 39,
     "metadata": {},
     "output_type": "execute_result"
    }
   ],
   "source": [
    "pd.Period('1/2016')+5"
   ]
  },
  {
   "cell_type": "code",
   "execution_count": 41,
   "metadata": {},
   "outputs": [
    {
     "data": {
      "text/plain": [
       "Period('2016-01-03', 'D')"
      ]
     },
     "execution_count": 41,
     "metadata": {},
     "output_type": "execute_result"
    }
   ],
   "source": [
    "pd.Period('1/6/2016')-3\n",
    "# period encapsulates the granularity for arithmetics"
   ]
  },
  {
   "cell_type": "markdown",
   "metadata": {},
   "source": [
    "### DatetimeIndex and PeriodIndex"
   ]
  },
  {
   "cell_type": "code",
   "execution_count": 44,
   "metadata": {},
   "outputs": [
    {
     "data": {
      "text/plain": [
       "2019-01-01    a\n",
       "2019-01-02    b\n",
       "2019-01-03    d\n",
       "dtype: object"
      ]
     },
     "execution_count": 44,
     "metadata": {},
     "output_type": "execute_result"
    }
   ],
   "source": [
    "t1 = pd.Series(data= list('abd'), \n",
    "index = [pd.Timestamp(2019,1,1) , pd.Timestamp(2019,1,2), pd.Timestamp(2019,1,3)])\n",
    "t1"
   ]
  },
  {
   "cell_type": "code",
   "execution_count": 45,
   "metadata": {},
   "outputs": [
    {
     "data": {
      "text/plain": [
       "pandas.core.indexes.datetimes.DatetimeIndex"
      ]
     },
     "execution_count": 45,
     "metadata": {},
     "output_type": "execute_result"
    }
   ],
   "source": [
    "type(t1.index)"
   ]
  },
  {
   "cell_type": "code",
   "execution_count": 46,
   "metadata": {},
   "outputs": [
    {
     "data": {
      "text/plain": [
       "2019-01    d\n",
       "2019-02    e\n",
       "2019-03    f\n",
       "Freq: M, dtype: object"
      ]
     },
     "execution_count": 46,
     "metadata": {},
     "output_type": "execute_result"
    }
   ],
   "source": [
    "t2 = pd.Series(data = list('def'),\n",
    "               index = [pd.Period('2019-1'), pd.Period('2019-2'), pd.Period('2019-3')])\n",
    "t2"
   ]
  },
  {
   "cell_type": "code",
   "execution_count": 47,
   "metadata": {},
   "outputs": [
    {
     "data": {
      "text/plain": [
       "pandas.core.indexes.period.PeriodIndex"
      ]
     },
     "execution_count": 47,
     "metadata": {},
     "output_type": "execute_result"
    }
   ],
   "source": [
    "type(t2.index)"
   ]
  },
  {
   "cell_type": "markdown",
   "metadata": {},
   "source": [
    "### Converting to DataFrame"
   ]
  },
  {
   "cell_type": "code",
   "execution_count": 53,
   "metadata": {},
   "outputs": [
    {
     "data": {
      "text/html": [
       "<div>\n",
       "<style scoped>\n",
       "    .dataframe tbody tr th:only-of-type {\n",
       "        vertical-align: middle;\n",
       "    }\n",
       "\n",
       "    .dataframe tbody tr th {\n",
       "        vertical-align: top;\n",
       "    }\n",
       "\n",
       "    .dataframe thead th {\n",
       "        text-align: right;\n",
       "    }\n",
       "</style>\n",
       "<table border=\"1\" class=\"dataframe\">\n",
       "  <thead>\n",
       "    <tr style=\"text-align: right;\">\n",
       "      <th></th>\n",
       "      <th>a</th>\n",
       "      <th>b</th>\n",
       "    </tr>\n",
       "  </thead>\n",
       "  <tbody>\n",
       "    <tr>\n",
       "      <th>2 June 2013</th>\n",
       "      <td>16</td>\n",
       "      <td>95</td>\n",
       "    </tr>\n",
       "    <tr>\n",
       "      <th>Aug 29, 2014</th>\n",
       "      <td>19</td>\n",
       "      <td>94</td>\n",
       "    </tr>\n",
       "    <tr>\n",
       "      <th>2015-06-26</th>\n",
       "      <td>34</td>\n",
       "      <td>19</td>\n",
       "    </tr>\n",
       "    <tr>\n",
       "      <th>7/12/16</th>\n",
       "      <td>79</td>\n",
       "      <td>92</td>\n",
       "    </tr>\n",
       "  </tbody>\n",
       "</table>\n",
       "</div>"
      ],
      "text/plain": [
       "               a   b\n",
       "2 June 2013   16  95\n",
       "Aug 29, 2014  19  94\n",
       "2015-06-26    34  19\n",
       "7/12/16       79  92"
      ]
     },
     "execution_count": 53,
     "metadata": {},
     "output_type": "execute_result"
    }
   ],
   "source": [
    "d1 = ['2 June 2013', 'Aug 29, 2014', '2015-06-26', '7/12/16']\n",
    "ts3 = pd.DataFrame(columns = list('ab'), \n",
    "                   data = np.random.randint(10, 100, (4,2)),\n",
    "                   index = d1)\n",
    "ts3"
   ]
  },
  {
   "cell_type": "code",
   "execution_count": 54,
   "metadata": {},
   "outputs": [
    {
     "data": {
      "text/html": [
       "<div>\n",
       "<style scoped>\n",
       "    .dataframe tbody tr th:only-of-type {\n",
       "        vertical-align: middle;\n",
       "    }\n",
       "\n",
       "    .dataframe tbody tr th {\n",
       "        vertical-align: top;\n",
       "    }\n",
       "\n",
       "    .dataframe thead th {\n",
       "        text-align: right;\n",
       "    }\n",
       "</style>\n",
       "<table border=\"1\" class=\"dataframe\">\n",
       "  <thead>\n",
       "    <tr style=\"text-align: right;\">\n",
       "      <th></th>\n",
       "      <th>a</th>\n",
       "      <th>b</th>\n",
       "    </tr>\n",
       "  </thead>\n",
       "  <tbody>\n",
       "    <tr>\n",
       "      <th>2013-06-02</th>\n",
       "      <td>16</td>\n",
       "      <td>95</td>\n",
       "    </tr>\n",
       "    <tr>\n",
       "      <th>2014-08-29</th>\n",
       "      <td>19</td>\n",
       "      <td>94</td>\n",
       "    </tr>\n",
       "    <tr>\n",
       "      <th>2015-06-26</th>\n",
       "      <td>34</td>\n",
       "      <td>19</td>\n",
       "    </tr>\n",
       "    <tr>\n",
       "      <th>2016-07-12</th>\n",
       "      <td>79</td>\n",
       "      <td>92</td>\n",
       "    </tr>\n",
       "  </tbody>\n",
       "</table>\n",
       "</div>"
      ],
      "text/plain": [
       "             a   b\n",
       "2013-06-02  16  95\n",
       "2014-08-29  19  94\n",
       "2015-06-26  34  19\n",
       "2016-07-12  79  92"
      ]
     },
     "execution_count": 54,
     "metadata": {},
     "output_type": "execute_result"
    }
   ],
   "source": [
    "ts3.index = pd.to_datetime(ts3.index)\n",
    "ts3"
   ]
  },
  {
   "cell_type": "code",
   "execution_count": 55,
   "metadata": {},
   "outputs": [
    {
     "data": {
      "text/plain": [
       "Timestamp('2012-07-04 00:00:00')"
      ]
     },
     "execution_count": 55,
     "metadata": {},
     "output_type": "execute_result"
    }
   ],
   "source": [
    "pd.to_datetime('4.7.12', dayfirst = True)"
   ]
  },
  {
   "cell_type": "markdown",
   "metadata": {},
   "source": [
    "### Timedelta"
   ]
  },
  {
   "cell_type": "code",
   "execution_count": 58,
   "metadata": {},
   "outputs": [
    {
     "data": {
      "text/plain": [
       "Timedelta('11 days 00:00:00')"
      ]
     },
     "execution_count": 58,
     "metadata": {},
     "output_type": "execute_result"
    }
   ],
   "source": [
    "pd.Timestamp('2016-01-20') - pd.Timestamp('2016-01-09')"
   ]
  },
  {
   "cell_type": "code",
   "execution_count": 61,
   "metadata": {},
   "outputs": [
    {
     "data": {
      "text/plain": [
       "Timestamp('2016-02-01 11:10:00')"
      ]
     },
     "execution_count": 61,
     "metadata": {},
     "output_type": "execute_result"
    }
   ],
   "source": [
    "pd.Timestamp('2016-01-20 8:10AM') + pd.Timedelta('12D 3H')"
   ]
  },
  {
   "cell_type": "markdown",
   "metadata": {},
   "source": [
    "### Offset"
   ]
  },
  {
   "cell_type": "code",
   "execution_count": 62,
   "metadata": {},
   "outputs": [
    {
     "data": {
      "text/plain": [
       "6"
      ]
     },
     "execution_count": 62,
     "metadata": {},
     "output_type": "execute_result"
    }
   ],
   "source": [
    "pd.Timestamp('9/4/2016').weekday()"
   ]
  },
  {
   "cell_type": "code",
   "execution_count": 63,
   "metadata": {},
   "outputs": [
    {
     "data": {
      "text/plain": [
       "Timestamp('2016-09-11 00:00:00')"
      ]
     },
     "execution_count": 63,
     "metadata": {},
     "output_type": "execute_result"
    }
   ],
   "source": [
    "pd.Timestamp('9/4/2016')+pd.offsets.Week()"
   ]
  },
  {
   "cell_type": "code",
   "execution_count": 64,
   "metadata": {},
   "outputs": [
    {
     "data": {
      "text/plain": [
       "Timestamp('2016-09-30 00:00:00')"
      ]
     },
     "execution_count": 64,
     "metadata": {},
     "output_type": "execute_result"
    }
   ],
   "source": [
    "pd.Timestamp('9/4/2016')+pd.offsets.MonthEnd()"
   ]
  },
  {
   "cell_type": "markdown",
   "metadata": {},
   "source": [
    "### Working with Dates in a Dataframe"
   ]
  },
  {
   "cell_type": "code",
   "execution_count": 70,
   "metadata": {},
   "outputs": [
    {
     "data": {
      "text/plain": [
       "DatetimeIndex(['2016-10-02', '2016-10-16', '2016-10-30', '2016-11-13',\n",
       "               '2016-11-27', '2016-12-11', '2016-12-25', '2017-01-08',\n",
       "               '2017-01-22'],\n",
       "              dtype='datetime64[ns]', freq='2W-SUN')"
      ]
     },
     "execution_count": 70,
     "metadata": {},
     "output_type": "execute_result"
    }
   ],
   "source": [
    "dates = pd.date_range(start = '2016-10-01', periods = 9, freq = '2W-SUN')\n",
    "dates"
   ]
  },
  {
   "cell_type": "code",
   "execution_count": 69,
   "metadata": {},
   "outputs": [
    {
     "data": {
      "text/plain": [
       "DatetimeIndex(['2016-10-03', '2016-10-04', '2016-10-05', '2016-10-06',\n",
       "               '2016-10-07', '2016-10-10', '2016-10-11', '2016-10-12',\n",
       "               '2016-10-13'],\n",
       "              dtype='datetime64[ns]', freq='B')"
      ]
     },
     "execution_count": 69,
     "metadata": {},
     "output_type": "execute_result"
    }
   ],
   "source": [
    "dates = pd.date_range(start= '2016-10-01', periods=9, freq = 'B')\n",
    "dates"
   ]
  },
  {
   "cell_type": "code",
   "execution_count": 73,
   "metadata": {},
   "outputs": [
    {
     "data": {
      "text/plain": [
       "DatetimeIndex(['2016-01-01', '2016-04-01', '2016-07-01', '2016-10-01',\n",
       "               '2017-01-01', '2017-04-01', '2017-07-01', '2017-10-01',\n",
       "               '2018-01-01'],\n",
       "              dtype='datetime64[ns]', freq='QS-JAN')"
      ]
     },
     "execution_count": 73,
     "metadata": {},
     "output_type": "execute_result"
    }
   ],
   "source": [
    "pd.date_range(start= '2016-01-01', periods=9, freq = 'QS')"
   ]
  },
  {
   "cell_type": "code",
   "execution_count": 74,
   "metadata": {},
   "outputs": [
    {
     "data": {
      "text/plain": [
       "DatetimeIndex(['2016-03-01', '2016-06-01', '2016-09-01', '2016-12-01',\n",
       "               '2017-03-01', '2017-06-01', '2017-09-01', '2017-12-01',\n",
       "               '2018-03-01'],\n",
       "              dtype='datetime64[ns]', freq='QS-JUN')"
      ]
     },
     "execution_count": 74,
     "metadata": {},
     "output_type": "execute_result"
    }
   ],
   "source": [
    "pd.date_range(start= '2016-01-01', periods=9, freq = 'QS-JUN')"
   ]
  },
  {
   "cell_type": "code",
   "execution_count": 75,
   "metadata": {},
   "outputs": [
    {
     "data": {
      "text/plain": [
       "DatetimeIndex(['2016-10-02', '2016-10-16', '2016-10-30', '2016-11-13',\n",
       "               '2016-11-27', '2016-12-11', '2016-12-25', '2017-01-08',\n",
       "               '2017-01-22'],\n",
       "              dtype='datetime64[ns]', freq='2W-SUN')"
      ]
     },
     "execution_count": 75,
     "metadata": {},
     "output_type": "execute_result"
    }
   ],
   "source": [
    "dates = pd.date_range(start = '2016-10-01', periods= 9, freq = '2W-SUN')\n",
    "dates"
   ]
  },
  {
   "cell_type": "code",
   "execution_count": 80,
   "metadata": {},
   "outputs": [
    {
     "data": {
      "text/plain": [
       "array([103, 105, 108, 103,  99, 102, 105, 109, 111])"
      ]
     },
     "execution_count": 80,
     "metadata": {},
     "output_type": "execute_result"
    }
   ],
   "source": [
    "100 + np.random.randint(-5, 10, 9).cumsum()"
   ]
  },
  {
   "cell_type": "code",
   "execution_count": 81,
   "metadata": {},
   "outputs": [
    {
     "data": {
      "text/plain": [
       "array([118, 120, 122, 117, 122, 120, 121, 120, 122])"
      ]
     },
     "execution_count": 81,
     "metadata": {},
     "output_type": "execute_result"
    }
   ],
   "source": []
  },
  {
   "cell_type": "code",
   "execution_count": 84,
   "metadata": {},
   "outputs": [
    {
     "data": {
      "text/html": [
       "<div>\n",
       "<style scoped>\n",
       "    .dataframe tbody tr th:only-of-type {\n",
       "        vertical-align: middle;\n",
       "    }\n",
       "\n",
       "    .dataframe tbody tr th {\n",
       "        vertical-align: top;\n",
       "    }\n",
       "\n",
       "    .dataframe thead th {\n",
       "        text-align: right;\n",
       "    }\n",
       "</style>\n",
       "<table border=\"1\" class=\"dataframe\">\n",
       "  <thead>\n",
       "    <tr style=\"text-align: right;\">\n",
       "      <th></th>\n",
       "      <th>Count 1</th>\n",
       "      <th>Count 2</th>\n",
       "    </tr>\n",
       "  </thead>\n",
       "  <tbody>\n",
       "    <tr>\n",
       "      <th>2016-10-02</th>\n",
       "      <td>96</td>\n",
       "      <td>123</td>\n",
       "    </tr>\n",
       "    <tr>\n",
       "      <th>2016-10-16</th>\n",
       "      <td>102</td>\n",
       "      <td>118</td>\n",
       "    </tr>\n",
       "    <tr>\n",
       "      <th>2016-10-30</th>\n",
       "      <td>108</td>\n",
       "      <td>122</td>\n",
       "    </tr>\n",
       "    <tr>\n",
       "      <th>2016-11-13</th>\n",
       "      <td>117</td>\n",
       "      <td>124</td>\n",
       "    </tr>\n",
       "    <tr>\n",
       "      <th>2016-11-27</th>\n",
       "      <td>118</td>\n",
       "      <td>132</td>\n",
       "    </tr>\n",
       "    <tr>\n",
       "      <th>2016-12-11</th>\n",
       "      <td>118</td>\n",
       "      <td>137</td>\n",
       "    </tr>\n",
       "    <tr>\n",
       "      <th>2016-12-25</th>\n",
       "      <td>115</td>\n",
       "      <td>133</td>\n",
       "    </tr>\n",
       "    <tr>\n",
       "      <th>2017-01-08</th>\n",
       "      <td>115</td>\n",
       "      <td>137</td>\n",
       "    </tr>\n",
       "    <tr>\n",
       "      <th>2017-01-22</th>\n",
       "      <td>114</td>\n",
       "      <td>141</td>\n",
       "    </tr>\n",
       "  </tbody>\n",
       "</table>\n",
       "</div>"
      ],
      "text/plain": [
       "            Count 1  Count 2\n",
       "2016-10-02       96      123\n",
       "2016-10-16      102      118\n",
       "2016-10-30      108      122\n",
       "2016-11-13      117      124\n",
       "2016-11-27      118      132\n",
       "2016-12-11      118      137\n",
       "2016-12-25      115      133\n",
       "2017-01-08      115      137\n",
       "2017-01-22      114      141"
      ]
     },
     "execution_count": 84,
     "metadata": {},
     "output_type": "execute_result"
    }
   ],
   "source": [
    "df = pd.DataFrame({'Count 1': 100 + np.random.randint(-5, 10, 9).cumsum(),\n",
    "                   'Count 2': 120 + np.random.randint(-5, 10, 9).cumsum()},\n",
    "                index = dates\n",
    ")\n",
    "df"
   ]
  },
  {
   "cell_type": "code",
   "execution_count": 88,
   "metadata": {},
   "outputs": [
    {
     "data": {
      "text/plain": [
       "Int64Index([6, 6, 6, 6, 6, 6, 6, 6, 6], dtype='int64')"
      ]
     },
     "execution_count": 88,
     "metadata": {},
     "output_type": "execute_result"
    }
   ],
   "source": [
    "df.index.day_of_week"
   ]
  },
  {
   "cell_type": "code",
   "execution_count": 92,
   "metadata": {},
   "outputs": [
    {
     "data": {
      "text/html": [
       "<div>\n",
       "<style scoped>\n",
       "    .dataframe tbody tr th:only-of-type {\n",
       "        vertical-align: middle;\n",
       "    }\n",
       "\n",
       "    .dataframe tbody tr th {\n",
       "        vertical-align: top;\n",
       "    }\n",
       "\n",
       "    .dataframe thead th {\n",
       "        text-align: right;\n",
       "    }\n",
       "</style>\n",
       "<table border=\"1\" class=\"dataframe\">\n",
       "  <thead>\n",
       "    <tr style=\"text-align: right;\">\n",
       "      <th></th>\n",
       "      <th>Count 1</th>\n",
       "      <th>Count 2</th>\n",
       "    </tr>\n",
       "  </thead>\n",
       "  <tbody>\n",
       "    <tr>\n",
       "      <th>2016-10-02</th>\n",
       "      <td>NaN</td>\n",
       "      <td>NaN</td>\n",
       "    </tr>\n",
       "    <tr>\n",
       "      <th>2016-10-16</th>\n",
       "      <td>6.0</td>\n",
       "      <td>-5.0</td>\n",
       "    </tr>\n",
       "    <tr>\n",
       "      <th>2016-10-30</th>\n",
       "      <td>6.0</td>\n",
       "      <td>4.0</td>\n",
       "    </tr>\n",
       "    <tr>\n",
       "      <th>2016-11-13</th>\n",
       "      <td>9.0</td>\n",
       "      <td>2.0</td>\n",
       "    </tr>\n",
       "    <tr>\n",
       "      <th>2016-11-27</th>\n",
       "      <td>1.0</td>\n",
       "      <td>8.0</td>\n",
       "    </tr>\n",
       "    <tr>\n",
       "      <th>2016-12-11</th>\n",
       "      <td>0.0</td>\n",
       "      <td>5.0</td>\n",
       "    </tr>\n",
       "    <tr>\n",
       "      <th>2016-12-25</th>\n",
       "      <td>-3.0</td>\n",
       "      <td>-4.0</td>\n",
       "    </tr>\n",
       "    <tr>\n",
       "      <th>2017-01-08</th>\n",
       "      <td>0.0</td>\n",
       "      <td>4.0</td>\n",
       "    </tr>\n",
       "    <tr>\n",
       "      <th>2017-01-22</th>\n",
       "      <td>-1.0</td>\n",
       "      <td>4.0</td>\n",
       "    </tr>\n",
       "  </tbody>\n",
       "</table>\n",
       "</div>"
      ],
      "text/plain": [
       "            Count 1  Count 2\n",
       "2016-10-02      NaN      NaN\n",
       "2016-10-16      6.0     -5.0\n",
       "2016-10-30      6.0      4.0\n",
       "2016-11-13      9.0      2.0\n",
       "2016-11-27      1.0      8.0\n",
       "2016-12-11      0.0      5.0\n",
       "2016-12-25     -3.0     -4.0\n",
       "2017-01-08      0.0      4.0\n",
       "2017-01-22     -1.0      4.0"
      ]
     },
     "execution_count": 92,
     "metadata": {},
     "output_type": "execute_result"
    }
   ],
   "source": [
    "# get the difference between the current value with the previous one\n",
    "df.diff()"
   ]
  },
  {
   "cell_type": "code",
   "execution_count": 93,
   "metadata": {},
   "outputs": [
    {
     "data": {
      "text/html": [
       "<div>\n",
       "<style scoped>\n",
       "    .dataframe tbody tr th:only-of-type {\n",
       "        vertical-align: middle;\n",
       "    }\n",
       "\n",
       "    .dataframe tbody tr th {\n",
       "        vertical-align: top;\n",
       "    }\n",
       "\n",
       "    .dataframe thead th {\n",
       "        text-align: right;\n",
       "    }\n",
       "</style>\n",
       "<table border=\"1\" class=\"dataframe\">\n",
       "  <thead>\n",
       "    <tr style=\"text-align: right;\">\n",
       "      <th></th>\n",
       "      <th>Count 1</th>\n",
       "      <th>Count 2</th>\n",
       "    </tr>\n",
       "  </thead>\n",
       "  <tbody>\n",
       "    <tr>\n",
       "      <th>2016-10-31</th>\n",
       "      <td>102.0</td>\n",
       "      <td>121.0</td>\n",
       "    </tr>\n",
       "    <tr>\n",
       "      <th>2016-11-30</th>\n",
       "      <td>117.5</td>\n",
       "      <td>128.0</td>\n",
       "    </tr>\n",
       "    <tr>\n",
       "      <th>2016-12-31</th>\n",
       "      <td>116.5</td>\n",
       "      <td>135.0</td>\n",
       "    </tr>\n",
       "    <tr>\n",
       "      <th>2017-01-31</th>\n",
       "      <td>114.5</td>\n",
       "      <td>139.0</td>\n",
       "    </tr>\n",
       "  </tbody>\n",
       "</table>\n",
       "</div>"
      ],
      "text/plain": [
       "            Count 1  Count 2\n",
       "2016-10-31    102.0    121.0\n",
       "2016-11-30    117.5    128.0\n",
       "2016-12-31    116.5    135.0\n",
       "2017-01-31    114.5    139.0"
      ]
     },
     "execution_count": 93,
     "metadata": {},
     "output_type": "execute_result"
    }
   ],
   "source": [
    "df.resample('M').mean()"
   ]
  },
  {
   "cell_type": "code",
   "execution_count": 94,
   "metadata": {},
   "outputs": [
    {
     "name": "stderr",
     "output_type": "stream",
     "text": [
      "/tmp/ipykernel_7593/1797912031.py:1: FutureWarning: Indexing a DataFrame with a datetimelike index using a single string to slice the rows, like `frame[string]`, is deprecated and will be removed in a future version. Use `frame.loc[string]` instead.\n",
      "  df['2017']\n"
     ]
    },
    {
     "data": {
      "text/html": [
       "<div>\n",
       "<style scoped>\n",
       "    .dataframe tbody tr th:only-of-type {\n",
       "        vertical-align: middle;\n",
       "    }\n",
       "\n",
       "    .dataframe tbody tr th {\n",
       "        vertical-align: top;\n",
       "    }\n",
       "\n",
       "    .dataframe thead th {\n",
       "        text-align: right;\n",
       "    }\n",
       "</style>\n",
       "<table border=\"1\" class=\"dataframe\">\n",
       "  <thead>\n",
       "    <tr style=\"text-align: right;\">\n",
       "      <th></th>\n",
       "      <th>Count 1</th>\n",
       "      <th>Count 2</th>\n",
       "    </tr>\n",
       "  </thead>\n",
       "  <tbody>\n",
       "    <tr>\n",
       "      <th>2017-01-08</th>\n",
       "      <td>115</td>\n",
       "      <td>137</td>\n",
       "    </tr>\n",
       "    <tr>\n",
       "      <th>2017-01-22</th>\n",
       "      <td>114</td>\n",
       "      <td>141</td>\n",
       "    </tr>\n",
       "  </tbody>\n",
       "</table>\n",
       "</div>"
      ],
      "text/plain": [
       "            Count 1  Count 2\n",
       "2017-01-08      115      137\n",
       "2017-01-22      114      141"
      ]
     },
     "execution_count": 94,
     "metadata": {},
     "output_type": "execute_result"
    }
   ],
   "source": [
    "df['2017']"
   ]
  },
  {
   "cell_type": "code",
   "execution_count": 95,
   "metadata": {},
   "outputs": [
    {
     "name": "stderr",
     "output_type": "stream",
     "text": [
      "/tmp/ipykernel_7593/2391205231.py:1: FutureWarning: Indexing a DataFrame with a datetimelike index using a single string to slice the rows, like `frame[string]`, is deprecated and will be removed in a future version. Use `frame.loc[string]` instead.\n",
      "  df['2016-12']\n"
     ]
    },
    {
     "data": {
      "text/html": [
       "<div>\n",
       "<style scoped>\n",
       "    .dataframe tbody tr th:only-of-type {\n",
       "        vertical-align: middle;\n",
       "    }\n",
       "\n",
       "    .dataframe tbody tr th {\n",
       "        vertical-align: top;\n",
       "    }\n",
       "\n",
       "    .dataframe thead th {\n",
       "        text-align: right;\n",
       "    }\n",
       "</style>\n",
       "<table border=\"1\" class=\"dataframe\">\n",
       "  <thead>\n",
       "    <tr style=\"text-align: right;\">\n",
       "      <th></th>\n",
       "      <th>Count 1</th>\n",
       "      <th>Count 2</th>\n",
       "    </tr>\n",
       "  </thead>\n",
       "  <tbody>\n",
       "    <tr>\n",
       "      <th>2016-12-11</th>\n",
       "      <td>118</td>\n",
       "      <td>137</td>\n",
       "    </tr>\n",
       "    <tr>\n",
       "      <th>2016-12-25</th>\n",
       "      <td>115</td>\n",
       "      <td>133</td>\n",
       "    </tr>\n",
       "  </tbody>\n",
       "</table>\n",
       "</div>"
      ],
      "text/plain": [
       "            Count 1  Count 2\n",
       "2016-12-11      118      137\n",
       "2016-12-25      115      133"
      ]
     },
     "execution_count": 95,
     "metadata": {},
     "output_type": "execute_result"
    }
   ],
   "source": [
    "df['2016-12']"
   ]
  },
  {
   "cell_type": "code",
   "execution_count": 96,
   "metadata": {},
   "outputs": [
    {
     "data": {
      "text/html": [
       "<div>\n",
       "<style scoped>\n",
       "    .dataframe tbody tr th:only-of-type {\n",
       "        vertical-align: middle;\n",
       "    }\n",
       "\n",
       "    .dataframe tbody tr th {\n",
       "        vertical-align: top;\n",
       "    }\n",
       "\n",
       "    .dataframe thead th {\n",
       "        text-align: right;\n",
       "    }\n",
       "</style>\n",
       "<table border=\"1\" class=\"dataframe\">\n",
       "  <thead>\n",
       "    <tr style=\"text-align: right;\">\n",
       "      <th></th>\n",
       "      <th>Count 1</th>\n",
       "      <th>Count 2</th>\n",
       "    </tr>\n",
       "  </thead>\n",
       "  <tbody>\n",
       "    <tr>\n",
       "      <th>2016-12-11</th>\n",
       "      <td>118</td>\n",
       "      <td>137</td>\n",
       "    </tr>\n",
       "    <tr>\n",
       "      <th>2016-12-25</th>\n",
       "      <td>115</td>\n",
       "      <td>133</td>\n",
       "    </tr>\n",
       "    <tr>\n",
       "      <th>2017-01-08</th>\n",
       "      <td>115</td>\n",
       "      <td>137</td>\n",
       "    </tr>\n",
       "    <tr>\n",
       "      <th>2017-01-22</th>\n",
       "      <td>114</td>\n",
       "      <td>141</td>\n",
       "    </tr>\n",
       "  </tbody>\n",
       "</table>\n",
       "</div>"
      ],
      "text/plain": [
       "            Count 1  Count 2\n",
       "2016-12-11      118      137\n",
       "2016-12-25      115      133\n",
       "2017-01-08      115      137\n",
       "2017-01-22      114      141"
      ]
     },
     "execution_count": 96,
     "metadata": {},
     "output_type": "execute_result"
    }
   ],
   "source": [
    "df['2016-12':]"
   ]
  },
  {
   "cell_type": "code",
   "execution_count": 97,
   "metadata": {},
   "outputs": [
    {
     "data": {
      "text/plain": [
       "DatetimeIndex(['2016-10-02', '2016-10-16', '2016-10-30', '2016-11-13',\n",
       "               '2016-11-27', '2016-12-11', '2016-12-25', '2017-01-08',\n",
       "               '2017-01-22'],\n",
       "              dtype='datetime64[ns]', freq='2W-SUN')"
      ]
     },
     "execution_count": 97,
     "metadata": {},
     "output_type": "execute_result"
    }
   ],
   "source": [
    "df.index"
   ]
  },
  {
   "cell_type": "code",
   "execution_count": 98,
   "metadata": {},
   "outputs": [
    {
     "data": {
      "text/plain": [
       "Count 1     96\n",
       "Count 2    123\n",
       "Name: 2016-10-02 00:00:00, dtype: int64"
      ]
     },
     "execution_count": 98,
     "metadata": {},
     "output_type": "execute_result"
    }
   ],
   "source": [
    "df.loc['2016-10-02']"
   ]
  },
  {
   "cell_type": "code",
   "execution_count": 104,
   "metadata": {},
   "outputs": [],
   "source": [
    "import pandas as pd\n",
    "df = pd.DataFrame(['A+', 'A', 'A-', 'B+', 'B', 'B-', 'C+', 'C', 'C-', 'D+', 'D'], index=['excellent', 'excellent', 'excellent', 'good', 'good', 'good', 'ok', 'ok', 'ok', 'poor', 'poor'], columns = ['Grades'])\n",
    "my_categories = pd.CategoricalDtype(categories=['A+', 'A', 'A-', 'B+', 'B', 'B-', 'C+', 'C', 'C-', 'D+', 'D'], ordered= True)"
   ]
  },
  {
   "cell_type": "code",
   "execution_count": 105,
   "metadata": {},
   "outputs": [],
   "source": [
    "\n",
    "grades = df['Grades'].astype(my_categories)\n",
    "result = grades[(grades>'B') & (grades<'A')]"
   ]
  },
  {
   "cell_type": "code",
   "execution_count": 106,
   "metadata": {},
   "outputs": [
    {
     "data": {
      "text/plain": [
       "Series([], Name: Grades, dtype: category\n",
       "Categories (11, object): ['A+' < 'A' < 'A-' < 'B+' ... 'C' < 'C-' < 'D+' < 'D'])"
      ]
     },
     "execution_count": 106,
     "metadata": {},
     "output_type": "execute_result"
    }
   ],
   "source": [
    "result"
   ]
  },
  {
   "cell_type": "code",
   "execution_count": 107,
   "metadata": {},
   "outputs": [
    {
     "data": {
      "text/plain": [
       "Period('2019-06', 'M')"
      ]
     },
     "execution_count": 107,
     "metadata": {},
     "output_type": "execute_result"
    }
   ],
   "source": [
    "pd.Period('01/12/2019', 'M') + 5"
   ]
  },
  {
   "cell_type": "code",
   "execution_count": 109,
   "metadata": {},
   "outputs": [
    {
     "data": {
      "text/plain": [
       "excellent    A-\n",
       "good         B+\n",
       "Name: Grades, dtype: category\n",
       "Categories (11, object): ['D' < 'D+' < 'C-' < 'C' ... 'B+' < 'A-' < 'A' < 'A+']"
      ]
     },
     "execution_count": 109,
     "metadata": {},
     "output_type": "execute_result"
    }
   ],
   "source": [
    "import pandas as pd\n",
    "df = pd.DataFrame(['A+', 'A', 'A-', 'B+', 'B', 'B-', 'C+', 'C', 'C-', 'D+', 'D'], index=['excellent', 'excellent', 'excellent', 'good', 'good', 'good', 'ok', 'ok', 'ok', 'poor', 'poor'], columns = ['Grades'])\n",
    "my_categories = pd.CategoricalDtype(categories=['D', 'D+', 'C-', 'C', 'C+', 'B-', 'B', 'B+', 'A-', 'A', 'A+'], ordered=True)\n",
    "grades = df['Grades'].astype(my_categories)\n",
    "result = grades[(grades>'B') & (grades<'A')]\n",
    "result"
   ]
  },
  {
   "cell_type": "code",
   "execution_count": 110,
   "metadata": {},
   "outputs": [],
   "source": [
    "# if you dont like to see the warnings\n",
    "import warnings\n",
    "warnings.filterwarnings('ignore')"
   ]
  },
  {
   "cell_type": "code",
   "execution_count": null,
   "metadata": {},
   "outputs": [],
   "source": []
  }
 ],
 "metadata": {
  "kernelspec": {
   "display_name": "Python 3.8.10 64-bit",
   "language": "python",
   "name": "python3"
  },
  "language_info": {
   "codemirror_mode": {
    "name": "ipython",
    "version": 3
   },
   "file_extension": ".py",
   "mimetype": "text/x-python",
   "name": "python",
   "nbconvert_exporter": "python",
   "pygments_lexer": "ipython3",
   "version": "3.8.10"
  },
  "orig_nbformat": 4,
  "vscode": {
   "interpreter": {
    "hash": "916dbcbb3f70747c44a77c7bcd40155683ae19c65e1c03b4aa3499c5328201f1"
   }
  }
 },
 "nbformat": 4,
 "nbformat_minor": 2
}
