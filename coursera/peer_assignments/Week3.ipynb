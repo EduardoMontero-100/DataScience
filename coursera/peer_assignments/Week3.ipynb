{
  "cells": [
    {
      "cell_type": "code",
      "execution_count": 1,
      "metadata": {
        "id": "J0Kd0eYqqobf"
      },
      "outputs": [],
      "source": [
        "#!pip install ipympl"
      ]
    },
    {
      "cell_type": "code",
      "execution_count": 1,
      "metadata": {
        "id": "JoxS8dkWqimi"
      },
      "outputs": [
        {
          "ename": "ModuleNotFoundError",
          "evalue": "No module named 'ipympl'",
          "output_type": "error",
          "traceback": [
            "\u001b[0;31m---------------------------------------------------------------------------\u001b[0m",
            "\u001b[0;31mModuleNotFoundError\u001b[0m                       Traceback (most recent call last)",
            "\u001b[1;32m/media/eduardo/Datos/repo_personal/DataScience/coursera/peer_assignments/Week3.ipynb Celda 2\u001b[0m in \u001b[0;36m<cell line: 1>\u001b[0;34m()\u001b[0m\n\u001b[0;32m----> <a href='vscode-notebook-cell:/media/eduardo/Datos/repo_personal/DataScience/coursera/peer_assignments/Week3.ipynb#W1sZmlsZQ%3D%3D?line=0'>1</a>\u001b[0m get_ipython()\u001b[39m.\u001b[39;49mrun_line_magic(\u001b[39m'\u001b[39;49m\u001b[39mmatplotlib\u001b[39;49m\u001b[39m'\u001b[39;49m, \u001b[39m'\u001b[39;49m\u001b[39mwidget\u001b[39;49m\u001b[39m'\u001b[39;49m)\n",
            "File \u001b[0;32m~/.local/lib/python3.8/site-packages/IPython/core/interactiveshell.py:2305\u001b[0m, in \u001b[0;36mInteractiveShell.run_line_magic\u001b[0;34m(self, magic_name, line, _stack_depth)\u001b[0m\n\u001b[1;32m   2303\u001b[0m     kwargs[\u001b[39m'\u001b[39m\u001b[39mlocal_ns\u001b[39m\u001b[39m'\u001b[39m] \u001b[39m=\u001b[39m \u001b[39mself\u001b[39m\u001b[39m.\u001b[39mget_local_scope(stack_depth)\n\u001b[1;32m   2304\u001b[0m \u001b[39mwith\u001b[39;00m \u001b[39mself\u001b[39m\u001b[39m.\u001b[39mbuiltin_trap:\n\u001b[0;32m-> 2305\u001b[0m     result \u001b[39m=\u001b[39m fn(\u001b[39m*\u001b[39;49margs, \u001b[39m*\u001b[39;49m\u001b[39m*\u001b[39;49mkwargs)\n\u001b[1;32m   2306\u001b[0m \u001b[39mreturn\u001b[39;00m result\n",
            "File \u001b[0;32m~/.local/lib/python3.8/site-packages/IPython/core/magics/pylab.py:99\u001b[0m, in \u001b[0;36mPylabMagics.matplotlib\u001b[0;34m(self, line)\u001b[0m\n\u001b[1;32m     97\u001b[0m     \u001b[39mprint\u001b[39m(\u001b[39m\"\u001b[39m\u001b[39mAvailable matplotlib backends: \u001b[39m\u001b[39m%s\u001b[39;00m\u001b[39m\"\u001b[39m \u001b[39m%\u001b[39m backends_list)\n\u001b[1;32m     98\u001b[0m \u001b[39melse\u001b[39;00m:\n\u001b[0;32m---> 99\u001b[0m     gui, backend \u001b[39m=\u001b[39m \u001b[39mself\u001b[39;49m\u001b[39m.\u001b[39;49mshell\u001b[39m.\u001b[39;49menable_matplotlib(args\u001b[39m.\u001b[39;49mgui\u001b[39m.\u001b[39;49mlower() \u001b[39mif\u001b[39;49;00m \u001b[39misinstance\u001b[39;49m(args\u001b[39m.\u001b[39;49mgui, \u001b[39mstr\u001b[39;49m) \u001b[39melse\u001b[39;49;00m args\u001b[39m.\u001b[39;49mgui)\n\u001b[1;32m    100\u001b[0m     \u001b[39mself\u001b[39m\u001b[39m.\u001b[39m_show_matplotlib_backend(args\u001b[39m.\u001b[39mgui, backend)\n",
            "File \u001b[0;32m~/.local/lib/python3.8/site-packages/IPython/core/interactiveshell.py:3493\u001b[0m, in \u001b[0;36mInteractiveShell.enable_matplotlib\u001b[0;34m(self, gui)\u001b[0m\n\u001b[1;32m   3489\u001b[0m         \u001b[39mprint\u001b[39m(\u001b[39m'\u001b[39m\u001b[39mWarning: Cannot change to a different GUI toolkit: \u001b[39m\u001b[39m%s\u001b[39;00m\u001b[39m.\u001b[39m\u001b[39m'\u001b[39m\n\u001b[1;32m   3490\u001b[0m                 \u001b[39m'\u001b[39m\u001b[39m Using \u001b[39m\u001b[39m%s\u001b[39;00m\u001b[39m instead.\u001b[39m\u001b[39m'\u001b[39m \u001b[39m%\u001b[39m (gui, \u001b[39mself\u001b[39m\u001b[39m.\u001b[39mpylab_gui_select))\n\u001b[1;32m   3491\u001b[0m         gui, backend \u001b[39m=\u001b[39m pt\u001b[39m.\u001b[39mfind_gui_and_backend(\u001b[39mself\u001b[39m\u001b[39m.\u001b[39mpylab_gui_select)\n\u001b[0;32m-> 3493\u001b[0m pt\u001b[39m.\u001b[39;49mactivate_matplotlib(backend)\n\u001b[1;32m   3494\u001b[0m configure_inline_support(\u001b[39mself\u001b[39m, backend)\n\u001b[1;32m   3496\u001b[0m \u001b[39m# Now we must activate the gui pylab wants to use, and fix %run to take\u001b[39;00m\n\u001b[1;32m   3497\u001b[0m \u001b[39m# plot updates into account\u001b[39;00m\n",
            "File \u001b[0;32m~/.local/lib/python3.8/site-packages/IPython/core/pylabtools.py:359\u001b[0m, in \u001b[0;36mactivate_matplotlib\u001b[0;34m(backend)\u001b[0m\n\u001b[1;32m    354\u001b[0m \u001b[39m# Due to circular imports, pyplot may be only partially initialised\u001b[39;00m\n\u001b[1;32m    355\u001b[0m \u001b[39m# when this function runs.\u001b[39;00m\n\u001b[1;32m    356\u001b[0m \u001b[39m# So avoid needing matplotlib attribute-lookup to access pyplot.\u001b[39;00m\n\u001b[1;32m    357\u001b[0m \u001b[39mfrom\u001b[39;00m \u001b[39mmatplotlib\u001b[39;00m \u001b[39mimport\u001b[39;00m pyplot \u001b[39mas\u001b[39;00m plt\n\u001b[0;32m--> 359\u001b[0m plt\u001b[39m.\u001b[39;49mswitch_backend(backend)\n\u001b[1;32m    361\u001b[0m plt\u001b[39m.\u001b[39mshow\u001b[39m.\u001b[39m_needmain \u001b[39m=\u001b[39m \u001b[39mFalse\u001b[39;00m\n\u001b[1;32m    362\u001b[0m \u001b[39m# We need to detect at runtime whether show() is called by the user.\u001b[39;00m\n\u001b[1;32m    363\u001b[0m \u001b[39m# For this, we wrap it into a decorator which adds a 'called' flag.\u001b[39;00m\n",
            "File \u001b[0;32m~/.local/lib/python3.8/site-packages/matplotlib/pyplot.py:267\u001b[0m, in \u001b[0;36mswitch_backend\u001b[0;34m(newbackend)\u001b[0m\n\u001b[1;32m    260\u001b[0m \u001b[39m# Backends are implemented as modules, but \"inherit\" default method\u001b[39;00m\n\u001b[1;32m    261\u001b[0m \u001b[39m# implementations from backend_bases._Backend.  This is achieved by\u001b[39;00m\n\u001b[1;32m    262\u001b[0m \u001b[39m# creating a \"class\" that inherits from backend_bases._Backend and whose\u001b[39;00m\n\u001b[1;32m    263\u001b[0m \u001b[39m# body is filled with the module's globals.\u001b[39;00m\n\u001b[1;32m    265\u001b[0m backend_name \u001b[39m=\u001b[39m cbook\u001b[39m.\u001b[39m_backend_module_name(newbackend)\n\u001b[0;32m--> 267\u001b[0m \u001b[39mclass\u001b[39;00m \u001b[39mbackend_mod\u001b[39;00m(matplotlib\u001b[39m.\u001b[39mbackend_bases\u001b[39m.\u001b[39m_Backend):\n\u001b[1;32m    268\u001b[0m     \u001b[39mlocals\u001b[39m()\u001b[39m.\u001b[39mupdate(\u001b[39mvars\u001b[39m(importlib\u001b[39m.\u001b[39mimport_module(backend_name)))\n\u001b[1;32m    270\u001b[0m required_framework \u001b[39m=\u001b[39m _get_required_interactive_framework(backend_mod)\n",
            "File \u001b[0;32m~/.local/lib/python3.8/site-packages/matplotlib/pyplot.py:268\u001b[0m, in \u001b[0;36mswitch_backend.<locals>.backend_mod\u001b[0;34m()\u001b[0m\n\u001b[1;32m    267\u001b[0m \u001b[39mclass\u001b[39;00m \u001b[39mbackend_mod\u001b[39;00m(matplotlib\u001b[39m.\u001b[39mbackend_bases\u001b[39m.\u001b[39m_Backend):\n\u001b[0;32m--> 268\u001b[0m     \u001b[39mlocals\u001b[39m()\u001b[39m.\u001b[39mupdate(\u001b[39mvars\u001b[39m(importlib\u001b[39m.\u001b[39;49mimport_module(backend_name)))\n",
            "File \u001b[0;32m/usr/lib/python3.8/importlib/__init__.py:127\u001b[0m, in \u001b[0;36mimport_module\u001b[0;34m(name, package)\u001b[0m\n\u001b[1;32m    125\u001b[0m             \u001b[39mbreak\u001b[39;00m\n\u001b[1;32m    126\u001b[0m         level \u001b[39m+\u001b[39m\u001b[39m=\u001b[39m \u001b[39m1\u001b[39m\n\u001b[0;32m--> 127\u001b[0m \u001b[39mreturn\u001b[39;00m _bootstrap\u001b[39m.\u001b[39;49m_gcd_import(name[level:], package, level)\n",
            "File \u001b[0;32m<frozen importlib._bootstrap>:1014\u001b[0m, in \u001b[0;36m_gcd_import\u001b[0;34m(name, package, level)\u001b[0m\n",
            "File \u001b[0;32m<frozen importlib._bootstrap>:991\u001b[0m, in \u001b[0;36m_find_and_load\u001b[0;34m(name, import_)\u001b[0m\n",
            "File \u001b[0;32m<frozen importlib._bootstrap>:961\u001b[0m, in \u001b[0;36m_find_and_load_unlocked\u001b[0;34m(name, import_)\u001b[0m\n",
            "File \u001b[0;32m<frozen importlib._bootstrap>:219\u001b[0m, in \u001b[0;36m_call_with_frames_removed\u001b[0;34m(f, *args, **kwds)\u001b[0m\n",
            "File \u001b[0;32m<frozen importlib._bootstrap>:1014\u001b[0m, in \u001b[0;36m_gcd_import\u001b[0;34m(name, package, level)\u001b[0m\n",
            "File \u001b[0;32m<frozen importlib._bootstrap>:991\u001b[0m, in \u001b[0;36m_find_and_load\u001b[0;34m(name, import_)\u001b[0m\n",
            "File \u001b[0;32m<frozen importlib._bootstrap>:973\u001b[0m, in \u001b[0;36m_find_and_load_unlocked\u001b[0;34m(name, import_)\u001b[0m\n",
            "\u001b[0;31mModuleNotFoundError\u001b[0m: No module named 'ipympl'"
          ]
        }
      ],
      "source": [
        "%matplotlib widget"
      ]
    },
    {
      "cell_type": "code",
      "execution_count": 4,
      "metadata": {
        "id": "q-CisFhEqgcu"
      },
      "outputs": [
        {
          "ename": "ModuleNotFoundError",
          "evalue": "No module named 'google.colab'",
          "output_type": "error",
          "traceback": [
            "\u001b[0;31m---------------------------------------------------------------------------\u001b[0m",
            "\u001b[0;31mModuleNotFoundError\u001b[0m                       Traceback (most recent call last)",
            "\u001b[1;32m/media/eduardo/Datos/repo_personal/DataScience/coursera/peer_assignments/Week3.ipynb Celda 3\u001b[0m in \u001b[0;36m<cell line: 1>\u001b[0;34m()\u001b[0m\n\u001b[0;32m----> <a href='vscode-notebook-cell:/media/eduardo/Datos/repo_personal/DataScience/coursera/peer_assignments/Week3.ipynb#W2sZmlsZQ%3D%3D?line=0'>1</a>\u001b[0m \u001b[39mfrom\u001b[39;00m \u001b[39mgoogle\u001b[39;00m\u001b[39m.\u001b[39;00m\u001b[39mcolab\u001b[39;00m \u001b[39mimport\u001b[39;00m output\n\u001b[1;32m      <a href='vscode-notebook-cell:/media/eduardo/Datos/repo_personal/DataScience/coursera/peer_assignments/Week3.ipynb#W2sZmlsZQ%3D%3D?line=1'>2</a>\u001b[0m output\u001b[39m.\u001b[39menable_custom_widget_manager()\n",
            "\u001b[0;31mModuleNotFoundError\u001b[0m: No module named 'google.colab'"
          ]
        }
      ],
      "source": [
        "from google.colab import output\n",
        "output.enable_custom_widget_manager()"
      ]
    },
    {
      "cell_type": "code",
      "execution_count": 5,
      "metadata": {
        "id": "POaz4iDMXjJr"
      },
      "outputs": [],
      "source": [
        "# Use the following data for this assignment:\n",
        "\n",
        "import pandas as pd\n",
        "import numpy as np\n",
        "import matplotlib as mpl\n",
        "import matplotlib.pyplot as plt\n",
        "import plotly.express as px\n",
        "\n",
        "import math\n",
        "import matplotlib.colors\n",
        "\n",
        "\n",
        "\n",
        "np.random.seed(12345)\n",
        "\n",
        "df = pd.DataFrame([np.random.normal(32000,200000,3650), \n",
        "                   np.random.normal(43000,100000,3650), \n",
        "                   np.random.normal(43500,140000,3650), \n",
        "                   np.random.normal(48000,70000,3650)], \n",
        "                  index=[1992,1993,1994,1995])"
      ]
    },
    {
      "cell_type": "code",
      "execution_count": 6,
      "metadata": {
        "colab": {
          "base_uri": "https://localhost:8080/"
        },
        "id": "TUqjEmZKXmGB",
        "outputId": "a8d6480f-c427-44dd-c98c-ec6d0f4b1a03"
      },
      "outputs": [
        {
          "data": {
            "text/plain": [
              "1992    3320.866311\n",
              "1993    1628.701180\n",
              "1994    2323.419534\n",
              "1995    1155.026400\n",
              "dtype: float64"
            ]
          },
          "execution_count": 6,
          "metadata": {},
          "output_type": "execute_result"
        }
      ],
      "source": [
        "means = df.mean(axis=1)\n",
        "stds = df.std(axis=1)\n",
        "errors = stds  / math.sqrt(3650)\n",
        "errors.head()"
      ]
    },
    {
      "cell_type": "code",
      "execution_count": 7,
      "metadata": {
        "id": "EKYaJZDMnG1I"
      },
      "outputs": [],
      "source": [
        "cmap = matplotlib.colors.LinearSegmentedColormap.from_list(\"\", [\"midnightblue\",\"dodgerblue\",\"snow\",\"lightsalmon\",\"darkred\"])\n",
        "m = [32000, 43000, 43500, 48000]\n",
        "s = [200000, 100000, 140000, 70000]"
      ]
    },
    {
      "cell_type": "code",
      "execution_count": 8,
      "metadata": {
        "id": "O4HwfK2jZHuu"
      },
      "outputs": [],
      "source": [
        "y_value = 45000"
      ]
    },
    {
      "cell_type": "code",
      "execution_count": 9,
      "metadata": {
        "id": "t4zjtadMd7wj"
      },
      "outputs": [],
      "source": [
        "props = []\n",
        "\n",
        "for i in range(len(m)):\n",
        "  df_means = pd.DataFrame({'means':[np.random.normal(m[i],s[i],3650).mean() for j in range(1000)]})\n",
        "  count = df_means[df_means[\"means\"] > y_value].size\n",
        "  props.append(count/1000)\n",
        "\n",
        "colors = cmap(props)"
      ]
    },
    {
      "cell_type": "code",
      "execution_count": 10,
      "metadata": {
        "colab": {
          "base_uri": "https://localhost:8080/",
          "height": 377,
          "referenced_widgets": [
            "fda2921761aa46c2931e4ca2cb7c5d9f",
            "d3df2c068467467faed3e33f86c83701",
            "d3f97e5161ef409ebe9131d9eee92e89",
            "d8d6bea9d76b4e9fb6e45261b40fa94c"
          ]
        },
        "id": "DFsVeuIPYXYT",
        "outputId": "fdb975e7-79b9-476d-82d4-fa092825a8c3"
      },
      "outputs": [
        {
          "data": {
            "image/png": "[encoded data removed]",
            "text/plain": [
              "<Figure size 432x288 with 2 Axes>"
            ]
          },
          "metadata": {
            "needs_background": "light"
          },
          "output_type": "display_data"
        }
      ],
      "source": [
        "fig = plt.figure()\n",
        "ax = fig.add_axes([0,0,1,1])\n",
        "years = ['1992', '1993', '1994', '1995']\n",
        "plt.bar(years, means, yerr=errors, color=colors)\n",
        "\n",
        "plt.axhline(y=y_value, color=\"gray\")\n",
        "\n",
        "\n",
        "norm = mpl.colors.Normalize(vmin=0, vmax=1)\n",
        "sm = plt.cm.ScalarMappable(cmap=cmap, norm=norm)\n",
        "sm.set_array([])\n",
        "plt.colorbar(sm, orientation=\"horizontal\")\n",
        "\n",
        "plt.show()\n"
      ]
    },
    {
      "cell_type": "code",
      "execution_count": 11,
      "metadata": {
        "colab": {
          "base_uri": "https://localhost:8080/",
          "height": 34
        },
        "id": "UiOML9UAsq6E",
        "outputId": "74954d31-e431-402e-83e4-b24a1a108ed9"
      },
      "outputs": [
        {
          "data": {
            "text/plain": [
              "5"
            ]
          },
          "execution_count": 11,
          "metadata": {},
          "output_type": "execute_result"
        },
        {
          "data": {
            "text/plain": [
              "<Figure size 432x288 with 0 Axes>"
            ]
          },
          "metadata": {},
          "output_type": "display_data"
        }
      ],
      "source": [
        "def onclick(event):\n",
        "    plt.cla()\n",
        "    y_value = event.ydata\n",
        "\n",
        "    props=[]\n",
        "    m = [32000, 43000, 43500, 48000]\n",
        "    s = [200000, 100000, 140000, 70000]\n",
        "    \n",
        "    for i in range(len(m)):\n",
        "      df_means = pd.DataFrame({'means':[np.random.normal(m[i],s[i],3650).mean() for j in range(1000)]})\n",
        "      count = df_means[df_means[\"means\"] > y_value].size\n",
        "      props.append(count/1000)\n",
        "\n",
        "    colors = cmap(props)\n",
        "\n",
        "    plt.bar(years, means, yerr=errors, color=colors)\n",
        "    plt.axhline(y=y_value, color=\"gray\")\n",
        "\n",
        "  \n",
        "    \n",
        "\n",
        "plt.gcf().canvas.mpl_connect('button_press_event', onclick)"
      ]
    },
    {
      "cell_type": "code",
      "execution_count": null,
      "metadata": {},
      "outputs": [],
      "source": []
    }
  ],
  "metadata": {
    "colab": {
      "provenance": []
    },
    "kernelspec": {
      "display_name": "Python 3.8.10 64-bit",
      "language": "python",
      "name": "python3"
    },
    "language_info": {
      "codemirror_mode": {
        "name": "ipython",
        "version": 3
      },
      "file_extension": ".py",
      "mimetype": "text/x-python",
      "name": "python",
      "nbconvert_exporter": "python",
      "pygments_lexer": "ipython3",
      "version": "3.8.10"
    },
    "vscode": {
      "interpreter": {
        "hash": "916dbcbb3f70747c44a77c7bcd40155683ae19c65e1c03b4aa3499c5328201f1"
      }
    },
    "widgets": {
      "application/vnd.jupyter.widget-state+json": {
        "d3df2c068467467faed3e33f86c83701": {
          "model_module": "@jupyter-widgets/base",
          "model_module_version": "1.2.0",
          "model_name": "LayoutModel",
          "state": {
            "_model_module": "@jupyter-widgets/base",
            "_model_module_version": "1.2.0",
            "_model_name": "LayoutModel",
            "_view_count": null,
            "_view_module": "@jupyter-widgets/base",
            "_view_module_version": "1.2.0",
            "_view_name": "LayoutView",
            "align_content": null,
            "align_items": null,
            "align_self": null,
            "border": null,
            "bottom": null,
            "display": null,
            "flex": null,
            "flex_flow": null,
            "grid_area": null,
            "grid_auto_columns": null,
            "grid_auto_flow": null,
            "grid_auto_rows": null,
            "grid_column": null,
            "grid_gap": null,
            "grid_row": null,
            "grid_template_areas": null,
            "grid_template_columns": null,
            "grid_template_rows": null,
            "height": null,
            "justify_content": null,
            "justify_items": null,
            "left": null,
            "margin": null,
            "max_height": null,
            "max_width": null,
            "min_height": null,
            "min_width": null,
            "object_fit": null,
            "object_position": null,
            "order": null,
            "overflow": null,
            "overflow_x": null,
            "overflow_y": null,
            "padding": null,
            "right": null,
            "top": null,
            "visibility": null,
            "width": null
          }
        },
        "d3f97e5161ef409ebe9131d9eee92e89": {
          "model_module": "jupyter-matplotlib",
          "model_module_version": "^0.11",
          "model_name": "ToolbarModel",
          "state": {
            "_current_action": "",
            "_dom_classes": [],
            "_model_module": "jupyter-matplotlib",
            "_model_module_version": "^0.11",
            "_model_name": "ToolbarModel",
            "_view_count": null,
            "_view_module": "jupyter-matplotlib",
            "_view_module_version": "^0.11",
            "_view_name": "ToolbarView",
            "button_style": "",
            "collapsed": true,
            "layout": "IPY_MODEL_d8d6bea9d76b4e9fb6e45261b40fa94c",
            "orientation": "vertical",
            "toolitems": [
              [
                "Home",
                "Reset original view",
                "home",
                "home"
              ],
              [
                "Back",
                "Back to previous view",
                "arrow-left",
                "back"
              ],
              [
                "Forward",
                "Forward to next view",
                "arrow-right",
                "forward"
              ],
              [
                "Pan",
                "Left button pans, Right button zooms\nx/y fixes axis, CTRL fixes aspect",
                "arrows",
                "pan"
              ],
              [
                "Zoom",
                "Zoom to rectangle\nx/y fixes axis",
                "square-o",
                "zoom"
              ],
              [
                "Download",
                "Download plot",
                "floppy-o",
                "save_figure"
              ]
            ]
          }
        },
        "d8d6bea9d76b4e9fb6e45261b40fa94c": {
          "model_module": "@jupyter-widgets/base",
          "model_module_version": "1.2.0",
          "model_name": "LayoutModel",
          "state": {
            "_model_module": "@jupyter-widgets/base",
            "_model_module_version": "1.2.0",
            "_model_name": "LayoutModel",
            "_view_count": null,
            "_view_module": "@jupyter-widgets/base",
            "_view_module_version": "1.2.0",
            "_view_name": "LayoutView",
            "align_content": null,
            "align_items": null,
            "align_self": null,
            "border": null,
            "bottom": null,
            "display": null,
            "flex": null,
            "flex_flow": null,
            "grid_area": null,
            "grid_auto_columns": null,
            "grid_auto_flow": null,
            "grid_auto_rows": null,
            "grid_column": null,
            "grid_gap": null,
            "grid_row": null,
            "grid_template_areas": null,
            "grid_template_columns": null,
            "grid_template_rows": null,
            "height": null,
            "justify_content": null,
            "justify_items": null,
            "left": null,
            "margin": null,
            "max_height": null,
            "max_width": null,
            "min_height": null,
            "min_width": null,
            "object_fit": null,
            "object_position": null,
            "order": null,
            "overflow": null,
            "overflow_x": null,
            "overflow_y": null,
            "padding": null,
            "right": null,
            "top": null,
            "visibility": null,
            "width": null
          }
        },
        "fda2921761aa46c2931e4ca2cb7c5d9f": {
          "model_module": "jupyter-matplotlib",
          "model_module_version": "^0.11",
          "model_name": "MPLCanvasModel",
          "state": {
            "_cursor": "default",
            "_data_url": "data:image/png;base64,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",
            "_dom_classes": [],
            "_figure_label": "Figure 1",
            "_image_mode": "full",
            "_message": "x=1995 y=4.2e+03",
            "_model_module": "jupyter-matplotlib",
            "_model_module_version": "^0.11",
            "_model_name": "MPLCanvasModel",
            "_rubberband_height": 0,
            "_rubberband_width": 0,
            "_rubberband_x": 0,
            "_rubberband_y": 0,
            "_size": [
              432,
              288
            ],
            "_view_count": null,
            "_view_module": "jupyter-matplotlib",
            "_view_module_version": "^0.11",
            "_view_name": "MPLCanvasView",
            "capture_scroll": false,
            "footer_visible": true,
            "header_visible": true,
            "layout": "IPY_MODEL_d3df2c068467467faed3e33f86c83701",
            "pan_zoom_throttle": 33,
            "resizable": true,
            "toolbar": "IPY_MODEL_d3f97e5161ef409ebe9131d9eee92e89",
            "toolbar_position": "left",
            "toolbar_visible": "fade-in-fade-out"
          }
        }
      }
    }
  },
  "nbformat": 4,
  "nbformat_minor": 0
}
