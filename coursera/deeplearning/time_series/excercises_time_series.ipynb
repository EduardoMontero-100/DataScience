{
 "cells": [
  {
   "cell_type": "markdown",
   "metadata": {},
   "source": [
    "Performance metrics\n",
    "\n",
    "- errors\n",
    "- mse\n",
    "- rmse\n",
    "- mae\n",
    "- mape"
   ]
  },
  {
   "cell_type": "code",
   "execution_count": null,
   "metadata": {},
   "outputs": [],
   "source": [
    "# Algunas series de tiempo simples pueden ser. \n",
    "## 1. forecast con el valor anterior\n",
    "## 2. armar una media movil (moving average) ==> it does not anticipate trend of seasionality\n",
    "## ==> Applying differencing (technique to avoid seasonality) Se estudian las diferencias entre un tiempo T\n",
    "## y un T - period (could be a year, a month, day). \n",
    "## Aplicamos la media movil sobre esta diferencia\n",
    "\n",
    "\n"
   ]
  }
 ],
 "metadata": {
  "kernelspec": {
   "display_name": "gcp",
   "language": "python",
   "name": "python3"
  },
  "language_info": {
   "name": "python",
   "version": "3.8.17"
  },
  "orig_nbformat": 4
 },
 "nbformat": 4,
 "nbformat_minor": 2
}
