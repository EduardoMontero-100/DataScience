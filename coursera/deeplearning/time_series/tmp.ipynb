{
 "cells": [
  {
   "cell_type": "code",
   "execution_count": 4,
   "metadata": {},
   "outputs": [
    {
     "name": "stdout",
     "output_type": "stream",
     "text": [
      "The function func_1 took 0.4005429744720459 seconds \n",
      "The function func_2 took 1.2008321285247803 seconds \n"
     ]
    }
   ],
   "source": [
    "import time\n",
    "def tictoc(func):\n",
    "    def wrapper():\n",
    "        start = time.time()\n",
    "        func()\n",
    "        end = time.time()\n",
    "        elapsed = end -start\n",
    "        print(f'The function {func.__name__} took {elapsed} seconds ')\n",
    "    return wrapper \n",
    "\n",
    "@tictoc\n",
    "def func_1():\n",
    "    time.sleep(0.4)\n",
    "@tictoc    \n",
    "def func_2():\n",
    "    time.sleep(1.2)\n",
    "    \n",
    "func_1()\n",
    "func_2()\n"
   ]
  },
  {
   "cell_type": "code",
   "execution_count": 12,
   "metadata": {},
   "outputs": [
    {
     "name": "stdout",
     "output_type": "stream",
     "text": [
      "The function func_1 took 0.5006070137023926 seconds\n",
      "The function func_2 took 0.8009164333343506 seconds\n"
     ]
    }
   ],
   "source": [
    "import time\n",
    "\n",
    "def tictoc(func):\n",
    "    def wrapper():\n",
    "        start = time.time()\n",
    "        func()\n",
    "        end = time.time()\n",
    "        elapsed = end - start\n",
    "        print(f'The function {func.__name__} took {elapsed} seconds')\n",
    "    return wrapper\n",
    "\n",
    "@tictoc\n",
    "def func_1():\n",
    "    time.sleep(0.5)\n",
    "\n",
    "@tictoc\n",
    "def func_2():\n",
    "    time.sleep(0.8)\n",
    "    \n",
    "func_1()\n",
    "func_2()"
   ]
  },
  {
   "cell_type": "code",
   "execution_count": null,
   "metadata": {
    "vscode": {
     "languageId": "sql"
    }
   },
   "outputs": [],
   "source": [
    "SELECT a.id, \n",
    "       a.score,\n",
    "       CASE WHEN b.target = 1 THEN target ELSE 0 END AS target\n",
    "FROM abt_modelo a\n",
    "[INNER|LEFT] JOIN target_modelo b\n",
    "ON (a.id = b.id AND a.fecha = b.fecha)\n",
    "\n"
   ]
  }
 ],
 "metadata": {
  "kernelspec": {
   "display_name": "gcp",
   "language": "python",
   "name": "python3"
  },
  "language_info": {
   "codemirror_mode": {
    "name": "ipython",
    "version": 3
   },
   "file_extension": ".py",
   "mimetype": "text/x-python",
   "name": "python",
   "nbconvert_exporter": "python",
   "pygments_lexer": "ipython3",
   "version": "3.8.17"
  }
 },
 "nbformat": 4,
 "nbformat_minor": 2
}
